{
 "cells": [
  {
   "cell_type": "code",
   "execution_count": 1,
   "metadata": {},
   "outputs": [],
   "source": [
    "from sklearn.decomposition import PCA\n",
    "import numpy as np\n",
    "from pandas import DataFrame \n",
    "import pandas as pd\n",
    "import matplotlib.pyplot as plt\n",
    "from scipy import stats\n",
    "from sklearn.decomposition import FastICA\n",
    "from sklearn.manifold import TSNE \n",
    "from sklearn.discriminant_analysis import LinearDiscriminantAnalysis\n",
    "from sklearn.manifold import LocallyLinearEmbedding\n",
    "from sklearn import manifold \n",
    "from sklearn.decomposition import KernelPCA\n",
    "from sklearn.model_selection import train_test_split"
   ]
  },
  {
   "cell_type": "code",
   "execution_count": 2,
   "metadata": {},
   "outputs": [],
   "source": [
    "Y= np.loadtxt('Y.txt')\n",
    "# Here is the data of wavelength of mangroves data, but I don't know why I can't upload the to this file, but I can upload it on my\n",
    "# own jutper notebook, so I woulad also sent the data to you, but if you want to run the code, I thik you should change the code below.\n",
    "Wavelength= pd.read_csv('mangroves color.csv')"
   ]
  },
  {
   "cell_type": "code",
   "execution_count": 3,
   "metadata": {},
   "outputs": [
    {
     "data": {
      "text/plain": [
       "[<matplotlib.lines.Line2D at 0x1f0fbdba860>]"
      ]
     },
     "execution_count": 3,
     "metadata": {},
     "output_type": "execute_result"
    },
    {
     "data": {
      "image/png": "[encoded data removed]",
      "text/plain": [
       "<Figure size 432x288 with 1 Axes>"
      ]
     },
     "metadata": {
      "needs_background": "light"
     },
     "output_type": "display_data"
    }
   ],
   "source": [
    "# in the first plot, can find noisy data in range (1800,2000), here are two thoughts to solve this, one is use LLE to reduce dimension \n",
    "# to the other is to remove data here.\n",
    "Mean=np.mean(Wavelength,axis=0)\n",
    "Sigma=np.std(Wavelength,axis=0)\n",
    "T=Sigma/Mean\n",
    "plt.plot(Y[0:2000],Sigma[0:2000])"
   ]
  },
  {
   "cell_type": "code",
   "execution_count": 4,
   "metadata": {},
   "outputs": [
    {
     "data": {
      "text/plain": [
       "[<matplotlib.lines.Line2D at 0x1f0fbe5aeb8>]"
      ]
     },
     "execution_count": 4,
     "metadata": {},
     "output_type": "execute_result"
    },
    {
     "data": {
      "image/png": "[encoded data removed]",
      "text/plain": [
       "<Figure size 432x288 with 1 Axes>"
      ]
     },
     "metadata": {
      "needs_background": "light"
     },
     "output_type": "display_data"
    }
   ],
   "source": [
    "plt.plot(Y[0:2000],Mean[0:2000])"
   ]
  },
  {
   "cell_type": "code",
   "execution_count": 5,
   "metadata": {},
   "outputs": [
    {
     "data": {
      "text/plain": [
       "(400.0, 900.0, 2400.0)"
      ]
     },
     "execution_count": 5,
     "metadata": {},
     "output_type": "execute_result"
    }
   ],
   "source": [
    "# As required, I try teo wavelength range here,(400,900), (400,2400)\n",
    "Y[50],Y[550],Y[2050]"
   ]
  },
  {
   "cell_type": "code",
   "execution_count": 6,
   "metadata": {},
   "outputs": [
    {
     "data": {
      "text/plain": [
       "(841, 1800)"
      ]
     },
     "execution_count": 6,
     "metadata": {},
     "output_type": "execute_result"
    }
   ],
   "source": [
    "x=Wavelength.T\n",
    "wavelength2=np.vstack((x[0:1400],x[1650:2050])).T\n",
    "wavelength2=wavelength2[0:841]\n",
    "wavelength2.shape"
   ]
  },
  {
   "cell_type": "code",
   "execution_count": 7,
   "metadata": {},
   "outputs": [
    {
     "data": {
      "text/plain": [
       "(841, 500)"
      ]
     },
     "execution_count": 7,
     "metadata": {},
     "output_type": "execute_result"
    }
   ],
   "source": [
    "x=Wavelength.T\n",
    "wavelength1=x[50:550].T\n",
    "wavelength1=wavelength1[0:841]\n",
    "wavelength1.shape"
   ]
  },
  {
   "cell_type": "code",
   "execution_count": 8,
   "metadata": {},
   "outputs": [],
   "source": [
    "# target for four class(cloor).\n",
    "from numpy import array\n",
    "target=array([ \"W\",\"W\",\"W\",\"W\",\"W\",\"W\",\"W\",\"W\",\"W\",\"W\",\"W\",\"W\",\"W\",\"W\",\"W\",\"W\",\"W\",\"W\",\"W\",\"W\",\"W\",\"W\",\"W\",\"W\",\"W\",\"W\",\"W\",\"W\",\"W\",\"W\",\n",
    "               \"W\",\"W\",\"W\",\"W\",\"W\",\"W\",\"W\",\"W\",\"W\",\"W\",\"W\",\"W\",\"W\",\"W\",\"W\",\"W\",\"W\",\"W\",\"W\",\"W\",\"W\",\"W\",\"W\",\"W\",\"W\",\"W\",\"W\",\"W\",\"W\",\"W\",\n",
    "               \"W\",\"W\",\"W\",\"W\",\"W\",\"W\",\"W\",\"W\",\"W\",\"W\",\"W\",\"W\",\"W\",\"W\",\"W\",\"W\",\"W\",\"W\",\"W\",\"W\",\"W\",\"W\",\"W\",\"W\",\"W\",\"W\",\"W\",\"W\",\"W\",\"W\",\n",
    "               \"W\",\"W\",\"W\",\"W\",\"W\",\"W\",\"W\",\"W\",\"W\",\"W\",\"W\",\"W\",\"W\",\"W\",\"W\",\"W\",\"W\",\"W\",\"W\",\"W\",\"W\",\"W\",\"W\",\"W\",\"W\",\"W\",\"W\",\"W\",\"W\",\"W\",\n",
    "               \"W\",\"W\",\"W\",\"W\",\"W\",\"W\",\"W\",\"W\",\"W\",\"W\",\"W\",\"W\",\"W\",\"W\",\"W\",\"W\",\"W\",\"W\",\"W\",\"W\",\"W\",\"W\",\"W\",\"W\",\"W\",\"W\",\"W\",\"W\",\"W\",\"W\",\n",
    "               \"W\",\"W\",\"W\",\"W\",\"W\",\"W\",\"W\",\"W\",\"W\",\"W\",\"W\",\"W\",\"W\",\"W\",\"W\",\"W\",\"W\",\"W\",\"W\",\"W\",\"W\",\"W\",\"W\",\"W\",\"W\",\"W\",\"W\",\"W\",\"W\",\"W\",\n",
    "               \"W\",\"W\",\"W\",\"W\",\"W\",\"W\",\"W\",\"W\",\"W\",\"W\",\"W\",\"W\",\"W\",\"W\",\"W\",\"W\",\"W\",\"W\",\"W\",\"W\",\"W\",\"W\",\"W\",\"W\",\"W\",\"W\",\"W\",\"W\",\"W\",\"W\",\n",
    "               \"W\",\"W\",\"W\",\"W\",\"W\",\"W\",\"W\",\"W\",\"W\",\"W\",\n",
    "               \"R\",\"R\",\"R\",\"R\",\"R\",\"R\",\"R\",\"R\",\"R\",\"R\",\"R\",\"R\",\"R\",\"R\",\"R\",\"R\",\"R\",\"R\",\"R\",\"R\",\"R\",\"R\",\"R\",\"R\",\"R\",\"R\",\"R\",\"R\",\"R\",\"R\",\n",
    "               \"R\",\"R\",\"R\",\"R\",\"R\",\"R\",\"R\",\"R\",\"R\",\"R\",\"R\",\"R\",\"R\",\"R\",\"R\",\"R\",\"R\",\"R\",\"R\",\"R\",\"R\",\"R\",\"R\",\"R\",\"R\",\"R\",\"R\",\"R\",\"R\",\"R\",\n",
    "               \"R\",\"R\",\"R\",\"R\",\"R\",\"R\",\"R\",\"R\",\"R\",\"R\",\"R\",\"R\",\"R\",\"R\",\"R\",\"R\",\"R\",\"R\",\"R\",\"R\",\"R\",\"R\",\"R\",\"R\",\"R\",\"R\",\"R\",\"R\",\"R\",\"R\",\n",
    "               \"R\",\"R\",\"R\",\"R\",\"R\",\"R\",\"R\",\"R\",\"R\",\"R\",\"R\",\"R\",\"R\",\"R\",\"R\",\"R\",\"R\",\"R\",\"R\",\"R\",\"R\",\"R\",\"R\",\"R\",\"R\",\"R\",\"R\",\"R\",\"R\",\"R\",\n",
    "               \"R\",\"R\",\"R\",\"R\",\"R\",\"R\",\"R\",\"R\",\"R\",\"R\",\"R\",\"R\",\"R\",\"R\",\"R\",\"R\",\"R\",\"R\",\"R\",\"R\",\"R\",\"R\",\"R\",\"R\",\"R\",\"R\",\"R\",\"R\",\"R\",\"R\",\n",
    "               \"R\",\"R\",\"R\",\"R\",\"R\",\"R\",\"R\",\"R\",\"R\",\"R\",\"R\",\"R\",\"R\",\"R\",\"R\",\"R\",\"R\",\"R\",\"R\",\"R\",\"R\",\"R\",\"R\",\"R\",\"R\",\"R\",\"R\",\"R\",\"R\",\"R\",\n",
    "               \"R\",\"R\",\"R\",\"R\",\"R\",\"R\",\"R\",\"R\",\"R\",\"R\",\"R\",\"R\",\"R\",\"R\",\"R\",\"R\",\"R\",\"R\",\"R\",\"R\",\"R\",\"R\",\"R\",\"R\",\"R\",\"R\",\"R\",\"R\",\"R\",\"R\",\n",
    "               \"R\",\"R\",\"R\",\"R\",\"R\",\"R\",\"R\",\"R\",\"R\",\"R\",\"R\",\"R\",\"R\",\"R\",\"R\",\"R\",\"R\",\"R\",\"R\",\"R\",\"R\",\"R\",\"R\",\"R\",\"R\",\"R\",\"R\",\"R\",\"R\",\"R\",\n",
    "               \"R\",\"R\",\"R\",\"R\",\"R\",\"R\",\"R\",\"R\",\"R\",\"R\",\n",
    "               \"B\",\"B\",\"B\",\"B\",\"B\",\"B\",\"B\",\"B\",\"B\",\"B\",\"B\",\"B\",\"B\",\"B\",\"B\",\"B\",\"B\",\"B\",\"B\",\"B\",\"B\",\"B\",\"B\",\"B\",\"B\",\"B\",\"B\",\"B\",\"B\",\"B\",\n",
    "               \"B\",\"B\",\"B\",\"B\",\"B\",\"B\",\"B\",\"B\",\"B\",\"B\",\"B\",\"B\",\"B\",\"B\",\"B\",\"B\",\"B\",\"B\",\"B\",\"B\",\"B\",\"B\",\"B\",\"B\",\"B\",\"B\",\"B\",\"B\",\"B\",\"B\",\n",
    "               \"B\",\"B\",\"B\",\"B\",\"B\",\"B\",\"B\",\"B\",\"B\",\"B\",\"B\",\"B\",\"B\",\"B\",\"B\",\"B\",\"B\",\"B\",\"B\",\"B\",\"B\",\"B\",\"B\",\"B\",\"B\",\"B\",\"B\",\"B\",\"B\",\"B\",\n",
    "               \"B\",\"B\",\"B\",\"B\",\"B\",\"B\",\"B\",\"B\",\"B\",\"B\",\"B\",\"B\",\"B\",\"B\",\"B\",\"B\",\"B\",\"B\",\"B\",\"B\",\"B\",\"B\",\"B\",\"B\",\"B\",\"B\",\"B\",\"B\",\"B\",\"B\",\n",
    "               \"B\",\"B\",\"B\",\"B\",\"B\",\"B\",\"B\",\"B\",\"B\",\"B\",\"B\",\"B\",\"B\",\"B\",\"B\",\"B\",\"B\",\"B\",\"B\",\"B\",\"B\",\"B\",\"B\",\"B\",\"B\",\"B\",\"B\",\"B\",\"B\",\"B\",\n",
    "               \"B\",\"B\",\"B\",\"B\",\"B\",\"B\",\"B\",\"B\",\"B\",\"B\",\"B\",\"B\",\"B\",\"B\",\"B\",\"B\",\"B\",\"B\",\"B\",\"B\",\"B\",\"B\",\"B\",\"B\",\"B\",\"B\",\"B\",\"B\",\"B\",\"B\",\n",
    "               \"B\",\"B\",\"B\",\"B\",\"B\",\"B\",\"B\",\"B\",\"B\",\"B\",\"B\",\"B\",\"B\",\"B\",\"B\",\"B\",\"B\",\"B\",\"B\",\"B\",\"B\",\"B\",\"B\",\"B\",\"B\",\"B\",\"B\",\"B\",\"B\",\"B\",\n",
    "               \"B\",\"B\",\"B\",\"B\",\"B\",\"B\",\"B\",\"B\",\"B\",\"B\",\"B\",\"B\",\"B\",\"B\",\"B\",\"B\",\"B\",\"B\",\"B\",\"B\",\"B\",\"B\",\"B\",\"B\",\"B\",\"B\",\"B\",\"B\",\"B\",\"B\",\n",
    "               \"B\",\"B\",\"B\",\"B\",\"B\",\"B\",\"B\",\"B\",\"B\",\"B\",\"B\",\"B\",\"B\",\"B\",\"B\",\"B\",\"B\",\"B\",\"B\",\"B\",\"B\",\"B\",\"B\",\"B\",\"B\",\"B\",\"B\",\"B\",\"B\",\"B\",\n",
    "               \"B\",\"B\",\"B\",\"B\",\"B\",\"B\",\"B\",\"B\",\"B\",\"B\",\"B\",\"B\",\"B\",\"B\",\"B\",\"B\",\"B\",\"B\",\"B\",\"B\",\"B\",\"B\",\"B\",\"B\",\"B\",\"B\",\"B\",\"B\",\"B\",\"B\",\n",
    "               \"B\",\"B\",\"B\",\"B\",\"B\",\"B\",\"B\",\"B\",\"B\",\"B\",\"B\",\"B\",\"B\",\"B\",\"B\",\"B\",\"B\",\"B\",\"B\",\"B\",\"B\",\"B\",\"B\",\"B\",\"B\",\"B\",\"B\",\"B\",\"B\",\"B\",\n",
    "               \"M\",\"M\",\"M\",\"M\",\"M\",\"M\",\"M\",\"M\",\"M\",\"M\",\"M\",\"M\",\"M\",\"M\",\"M\",\"M\",\"M\",\"M\",\"M\",\"M\",\"M\",\"M\",\"M\",\"M\",\"M\",\"M\",\"M\",\"M\",\"M\",\"M\",\n",
    "               \"M\",\"M\",\"M\",\"M\",\"M\",\"M\",\"M\",\"M\",\"M\",\"M\",\"M\" ])"
   ]
  },
  {
   "cell_type": "code",
   "execution_count": 9,
   "metadata": {},
   "outputs": [],
   "source": [
    "# I try different methods to reduce the dimension here.\n",
    "# There are some unlabeled data, and I want to mark them at last. \n",
    "# In my idea, I should reduce the dimension and then find the good classifier using the labeled data, and fit this best method to \n",
    "# unlabeled.\n",
    "# So I should reduce the dimension for all the samples,not just the labeled data.\n",
    "# I try some dimensions I should use and I showed their plots in some meetings. In this code I removed them, this is the next step \n",
    "# in my work.\n",
    "# but these dimensions are ok and I have roughly compared them."
   ]
  },
  {
   "cell_type": "code",
   "execution_count": 10,
   "metadata": {},
   "outputs": [],
   "source": [
    "# these two are linear method.\n",
    "pca=PCA(n_components=20)\n",
    "X_PCA1=pca.fit_transform(wavelength1)\n",
    "X_PCA2=pca.fit_transform(wavelength2)\n",
    "\n",
    "ICA = FastICA(n_components=20,random_state=100) \n",
    "X_ICA1=ICA.fit_transform(wavelength1)\n",
    "X_ICA2=ICA.fit_transform(wavelength2)"
   ]
  },
  {
   "cell_type": "code",
   "execution_count": 11,
   "metadata": {},
   "outputs": [],
   "source": [
    "# This is nonlinear method\n",
    "lle1=LocallyLinearEmbedding(n_components=20,n_neighbors=50)\n",
    "lle2=LocallyLinearEmbedding(n_components=20,n_neighbors=50)\n",
    "X_lle1=lle1.fit_transform(wavelength1)\n",
    "X_lle2=lle2.fit_transform(wavelength2)"
   ]
  },
  {
   "cell_type": "code",
   "execution_count": 12,
   "metadata": {},
   "outputs": [],
   "source": [
    "# split train data,and test data at random\n",
    "xpca1_train, xpca1_test, ypca1_train, ypca1_test = train_test_split(X_PCA1,target, test_size=0.3)\n",
    "xIca1_train, xIca1_test, yIca1_train, yIca1_test = train_test_split(X_ICA1,target, test_size=0.3)\n",
    "xlle1_train, xlle1_test, ylle1_train, ylle1_test = train_test_split(X_lle1,target, test_size=0.3)\n",
    "x1_train, x1_test, y1_train, y1_test = train_test_split(wavelength1,target, test_size=0.3)\n",
    "\n",
    "xpca2_train, xpca2_test, ypca2_train, ypca2_test = train_test_split(X_PCA2,target, test_size=0.3)\n",
    "xIca2_train, xIca2_test, yIca2_train, yIca2_test = train_test_split(X_ICA2,target, test_size=0.3)\n",
    "xlle2_train, xlle2_test, ylle2_train, ylle2_test = train_test_split(X_lle2,target, test_size=0.3)\n",
    "x2_train, x2_test, y2_train, y2_test = train_test_split(wavelength2,target, test_size=0.3)"
   ]
  },
  {
   "cell_type": "code",
   "execution_count": 13,
   "metadata": {},
   "outputs": [],
   "source": [
    "from sklearn import svm\n",
    "from sklearn.svm import SVC\n",
    "from sklearn.metrics import accuracy_score\n",
    "from sklearn.metrics import cohen_kappa_score\n",
    "from sklearn.metrics import confusion_matrix\n",
    "from sklearn.metrics import matthews_corrcoef\n",
    "from sklearn.model_selection import RandomizedSearchCV\n",
    "# SVM model for two range (400,900) , (400,2400)\n",
    "# Then is SVM model."
   ]
  },
  {
   "cell_type": "code",
   "execution_count": 14,
   "metadata": {},
   "outputs": [],
   "source": [
    "SVM= SVC(kernel='rbf')\n",
    "# when choose kernel, I find linear and sigmod is bad, so I choose rbf, which is often used.\n",
    "# for gussian kernel (rbf), there are C and gamma to choose\n",
    "# I first limit their range, then find the good combination roughly."
   ]
  },
  {
   "cell_type": "code",
   "execution_count": 15,
   "metadata": {},
   "outputs": [
    {
     "name": "stderr",
     "output_type": "stream",
     "text": [
      "C:\\Users\\user\\Anaconda3\\lib\\site-packages\\sklearn\\model_selection\\_split.py:2053: FutureWarning: You should specify a value for 'cv' instead of relying on the default value. The default value will change from 3 to 5 in version 0.22.\n",
      "  warnings.warn(CV_WARNING, FutureWarning)\n"
     ]
    },
    {
     "data": {
      "text/plain": [
       "{'gamma': 8.886238162743403, 'C': 3.455107294592218}"
      ]
     },
     "execution_count": 15,
     "metadata": {},
     "output_type": "execute_result"
    }
   ],
   "source": [
    "SVM= SVC(kernel='rbf')\n",
    "distributions = dict(C=np.logspace(-1,1,40),gamma=np.logspace(-1,1,40))\n",
    "clf = RandomizedSearchCV(SVM, distributions, random_state=42)\n",
    "search1 = clf.fit(xlle1_train, ylle1_train)\n",
    "search1.best_params_ "
   ]
  },
  {
   "cell_type": "code",
   "execution_count": 16,
   "metadata": {},
   "outputs": [
    {
     "name": "stderr",
     "output_type": "stream",
     "text": [
      "C:\\Users\\user\\Anaconda3\\lib\\site-packages\\sklearn\\model_selection\\_split.py:2053: FutureWarning: You should specify a value for 'cv' instead of relying on the default value. The default value will change from 3 to 5 in version 0.22.\n",
      "  warnings.warn(CV_WARNING, FutureWarning)\n",
      "C:\\Users\\user\\Anaconda3\\lib\\site-packages\\sklearn\\model_selection\\_search.py:841: DeprecationWarning: The default of the `iid` parameter will change from True to False in version 0.22 and will be removed in 0.24. This will change numeric results when test-set sizes are unequal.\n",
      "  DeprecationWarning)\n"
     ]
    },
    {
     "data": {
      "text/plain": [
       "{'gamma': 8.886238162743403, 'C': 3.455107294592218}"
      ]
     },
     "execution_count": 16,
     "metadata": {},
     "output_type": "execute_result"
    }
   ],
   "source": [
    "SVM= SVC(kernel='rbf')\n",
    "distributions = dict(C=np.logspace(-1,1,40),gamma=np.logspace(-1,1,40))\n",
    "clf = RandomizedSearchCV(SVM, distributions, random_state=42)\n",
    "search1 = clf.fit(xlle2_train, ylle2_train)\n",
    "search1.best_params_ "
   ]
  },
  {
   "cell_type": "code",
   "execution_count": 17,
   "metadata": {},
   "outputs": [
    {
     "name": "stderr",
     "output_type": "stream",
     "text": [
      "C:\\Users\\user\\Anaconda3\\lib\\site-packages\\sklearn\\model_selection\\_split.py:2053: FutureWarning: You should specify a value for 'cv' instead of relying on the default value. The default value will change from 3 to 5 in version 0.22.\n",
      "  warnings.warn(CV_WARNING, FutureWarning)\n",
      "C:\\Users\\user\\Anaconda3\\lib\\site-packages\\sklearn\\model_selection\\_search.py:841: DeprecationWarning: The default of the `iid` parameter will change from True to False in version 0.22 and will be removed in 0.24. This will change numeric results when test-set sizes are unequal.\n",
      "  DeprecationWarning)\n"
     ]
    },
    {
     "data": {
      "text/plain": [
       "{'gamma': 0.9426684551178852, 'C': 7.017038286703826}"
      ]
     },
     "execution_count": 17,
     "metadata": {},
     "output_type": "execute_result"
    }
   ],
   "source": [
    "SVM= SVC(kernel='rbf')\n",
    "distributions = dict(C=np.logspace(-1,1,40),gamma=np.logspace(-1,1,40))\n",
    "clf = RandomizedSearchCV(SVM, distributions, random_state=42)\n",
    "search1 = clf.fit(x1_train, y1_train)\n",
    "search1.best_params_ "
   ]
  },
  {
   "cell_type": "code",
   "execution_count": 18,
   "metadata": {},
   "outputs": [
    {
     "name": "stderr",
     "output_type": "stream",
     "text": [
      "C:\\Users\\user\\Anaconda3\\lib\\site-packages\\sklearn\\model_selection\\_split.py:2053: FutureWarning: You should specify a value for 'cv' instead of relying on the default value. The default value will change from 3 to 5 in version 0.22.\n",
      "  warnings.warn(CV_WARNING, FutureWarning)\n"
     ]
    },
    {
     "data": {
      "text/plain": [
       "{'gamma': 0.20309176209047358, 'C': 2.728333376486768}"
      ]
     },
     "execution_count": 18,
     "metadata": {},
     "output_type": "execute_result"
    }
   ],
   "source": [
    "SVM= SVC(kernel='rbf')\n",
    "distributions = dict(C=np.logspace(-1,1,40),gamma=np.logspace(-1,1,40))\n",
    "clf = RandomizedSearchCV(SVM, distributions, random_state=42)\n",
    "search1 = clf.fit(x2_train, y2_train)\n",
    "search1.best_params_ "
   ]
  },
  {
   "cell_type": "code",
   "execution_count": 19,
   "metadata": {},
   "outputs": [
    {
     "name": "stdout",
     "output_type": "stream",
     "text": [
      "accuracy_train： 0.9370748299319728\n",
      "accuracy_test： 0.8774703557312253\n",
      "Kappa_train： 0.9080659883033028\n",
      "Kappa_test： 0.821766203072448\n"
     ]
    }
   ],
   "source": [
    "clf1= SVC(C=7,kernel='rbf',gamma=1)\n",
    "clf1.fit(xpca1_train, ypca1_train)\n",
    "print ('accuracy_train：', accuracy_score(ypca1_train, clf1.predict(xpca1_train)))\n",
    "print ('accuracy_test：', accuracy_score(ypca1_test, clf1.predict(xpca1_test)))\n",
    "\n",
    "print ('Kappa_train：', cohen_kappa_score(ypca1_train, clf1.predict(xpca1_train)))\n",
    "print ('Kappa_test：', cohen_kappa_score(ypca1_test, clf1.predict(xpca1_test)))"
   ]
  },
  {
   "cell_type": "code",
   "execution_count": 20,
   "metadata": {},
   "outputs": [
    {
     "name": "stdout",
     "output_type": "stream",
     "text": [
      "accuracy_train： 0.9965986394557823\n",
      "accuracy_test： 0.9525691699604744\n",
      "Kappa_train： 0.9950690996913995\n",
      "Kappa_test： 0.929874809442417\n"
     ]
    }
   ],
   "source": [
    "Clf1= SVC(C=6,kernel='rbf',gamma=1)\n",
    "Clf1.fit(xpca2_train, ypca2_train)\n",
    "print ('accuracy_train：', accuracy_score(ypca2_train, Clf1.predict(xpca2_train)))\n",
    "print ('accuracy_test：', accuracy_score(ypca2_test, Clf1.predict(xpca2_test)))\n",
    "\n",
    "print ('Kappa_train：', cohen_kappa_score(ypca2_train, Clf1.predict(xpca2_train)))\n",
    "print ('Kappa_test：', cohen_kappa_score(ypca2_test, Clf1.predict(xpca2_test)))"
   ]
  },
  {
   "cell_type": "code",
   "execution_count": 21,
   "metadata": {},
   "outputs": [],
   "source": [
    "clf2= SVC(C=3,kernel='rbf',gamma=0.4)\n",
    "Clf2= SVC(C=3,kernel='rbf',gamma=1)"
   ]
  },
  {
   "cell_type": "code",
   "execution_count": 22,
   "metadata": {},
   "outputs": [
    {
     "name": "stdout",
     "output_type": "stream",
     "text": [
      "accuracy_train： 0.9455782312925171\n",
      "accuracy_test： 0.9130434782608695\n",
      "Kappa_train： 0.920845392744161\n",
      "Kappa_test： 0.8699897225077081\n"
     ]
    }
   ],
   "source": [
    "clf2.fit(xIca1_train, yIca1_train)\n",
    "print ('accuracy_train：', accuracy_score(yIca1_train, clf2.predict(xIca1_train)))\n",
    "print ('accuracy_test：', accuracy_score(yIca1_test, clf2.predict(xIca1_test)))\n",
    "\n",
    "print ('Kappa_train：', cohen_kappa_score(yIca1_train, clf2.predict(xIca1_train)))\n",
    "print ('Kappa_test：', cohen_kappa_score(yIca1_test, clf2.predict(xIca1_test)))"
   ]
  },
  {
   "cell_type": "code",
   "execution_count": 23,
   "metadata": {},
   "outputs": [
    {
     "name": "stdout",
     "output_type": "stream",
     "text": [
      "accuracy_train： 0.95578231292517\n",
      "accuracy_test： 0.9644268774703557\n",
      "Kappa_train： 0.9354293727086889\n",
      "Kappa_test： 0.9479958890030833\n"
     ]
    }
   ],
   "source": [
    "Clf2.fit(xIca2_train, yIca2_train)\n",
    "print ('accuracy_train：', accuracy_score(yIca2_train, Clf2.predict(xIca2_train)))\n",
    "print ('accuracy_test：', accuracy_score(yIca2_test, Clf2.predict(xIca2_test)))\n",
    "\n",
    "print ('Kappa_train：', cohen_kappa_score(yIca2_train, Clf2.predict(xIca2_train)))\n",
    "print ('Kappa_test：', cohen_kappa_score(yIca2_test, Clf2.predict(xIca2_test)))"
   ]
  },
  {
   "cell_type": "code",
   "execution_count": 24,
   "metadata": {},
   "outputs": [],
   "source": [
    "clf3= SVC(C=3,kernel='rbf',gamma=10)\n",
    "Clf3= SVC(C=3,kernel='rbf',gamma=6)"
   ]
  },
  {
   "cell_type": "code",
   "execution_count": 25,
   "metadata": {},
   "outputs": [
    {
     "name": "stdout",
     "output_type": "stream",
     "text": [
      "accuracy_train： 0.9149659863945578\n",
      "accuracy_test： 0.924901185770751\n",
      "Kappa_train： 0.8773691938067272\n",
      "Kappa_test： 0.886720867208672\n"
     ]
    }
   ],
   "source": [
    "clf3.fit(xlle1_train, ylle1_train)\n",
    "print ('accuracy_train：', accuracy_score(ylle1_train, clf3.predict(xlle1_train)))\n",
    "print ('accuracy_test：', accuracy_score(ylle1_test, clf3.predict(xlle1_test)))\n",
    "\n",
    "print ('Kappa_train：', cohen_kappa_score(ylle1_train, clf3.predict(xlle1_train)))\n",
    "print ('Kappa_test：', cohen_kappa_score(ylle1_test, clf3.predict(xlle1_test)))"
   ]
  },
  {
   "cell_type": "code",
   "execution_count": 26,
   "metadata": {},
   "outputs": [
    {
     "name": "stdout",
     "output_type": "stream",
     "text": [
      "accuracy_train： 0.9846938775510204\n",
      "accuracy_test： 0.9762845849802372\n",
      "Kappa_train： 0.9776448522329801\n",
      "Kappa_test： 0.965578231292517\n"
     ]
    }
   ],
   "source": [
    "Clf3.fit(xlle2_train, ylle2_train)\n",
    "print ('accuracy_train：', accuracy_score(ylle2_train, Clf3.predict(xlle2_train)))\n",
    "print ('accuracy_test：', accuracy_score(ylle2_test, Clf3.predict(xlle2_test)))\n",
    "\n",
    "print ('Kappa_train：', cohen_kappa_score(ylle2_train, Clf3.predict(xlle2_train)))\n",
    "print ('Kappa_test：', cohen_kappa_score(ylle2_test, Clf3.predict(xlle2_test)))"
   ]
  },
  {
   "cell_type": "code",
   "execution_count": 27,
   "metadata": {},
   "outputs": [],
   "source": [
    "clf= SVC(C=1,kernel='rbf',gamma=3)\n",
    "Clf= SVC(C=1,kernel='rbf',gamma=0.2)"
   ]
  },
  {
   "cell_type": "code",
   "execution_count": 28,
   "metadata": {},
   "outputs": [
    {
     "name": "stdout",
     "output_type": "stream",
     "text": [
      "accuracy_train： 0.8673469387755102\n",
      "accuracy_test： 0.8142292490118577\n",
      "Kappa_train： 0.8071612371550144\n",
      "Kappa_test： 0.7248854749895887\n"
     ]
    }
   ],
   "source": [
    "clf.fit(x1_train, y1_train)\n",
    "print ('accuracy_train：', accuracy_score(y1_train, clf.predict(x1_train)))\n",
    "print ('accuracy_test：', accuracy_score(y1_test, clf.predict(x1_test)))\n",
    "\n",
    "print ('Kappa_train：', cohen_kappa_score(y1_train, clf.predict(x1_train)))\n",
    "print ('Kappa_test：', cohen_kappa_score(y1_test, clf.predict(x1_test)))"
   ]
  },
  {
   "cell_type": "code",
   "execution_count": 29,
   "metadata": {},
   "outputs": [
    {
     "name": "stdout",
     "output_type": "stream",
     "text": [
      "accuracy_train： 0.9659863945578231\n",
      "accuracy_test： 0.9446640316205533\n",
      "Kappa_train： 0.9504157320425682\n",
      "Kappa_test： 0.9194267515923567\n"
     ]
    }
   ],
   "source": [
    "Clf.fit(x2_train, y2_train)\n",
    "print ('accuracy_train：', accuracy_score(y2_train, Clf.predict(x2_train)))\n",
    "print ('accuracy_test：', accuracy_score(y2_test, Clf.predict(x2_test)))\n",
    "\n",
    "print ('Kappa_train：', cohen_kappa_score(y2_train, Clf.predict(x2_train)))\n",
    "print ('Kappa_test：', cohen_kappa_score(y2_test, Clf.predict(x2_test)))"
   ]
  },
  {
   "cell_type": "code",
   "execution_count": 30,
   "metadata": {},
   "outputs": [],
   "source": [
    "# this decision tree model, I am sure it is bad than Random forest and GBDT, so no need to consider much.\n",
    "from sklearn import tree\n",
    "clf_tree = tree.DecisionTreeClassifier(max_depth=8)"
   ]
  },
  {
   "cell_type": "code",
   "execution_count": 31,
   "metadata": {},
   "outputs": [
    {
     "name": "stdout",
     "output_type": "stream",
     "text": [
      "accuracy_train： 0.9217687074829932\n",
      "accuracy_test： 0.7193675889328063\n",
      "Kappa_train： 0.8861649698872508\n",
      "Kappa_test： 0.5855999261771287\n"
     ]
    }
   ],
   "source": [
    "clf_tree.fit(x1_train, y1_train)\n",
    "print ('accuracy_train：', accuracy_score(y1_train, clf_tree.predict(x1_train)))\n",
    "print ('accuracy_test：', accuracy_score(y1_test, clf_tree.predict(x1_test)))\n",
    "\n",
    "print ('Kappa_train：', cohen_kappa_score(y1_train, clf_tree.predict(x1_train)))\n",
    "print ('Kappa_test：', cohen_kappa_score(y1_test, clf_tree.predict(x1_test)))"
   ]
  },
  {
   "cell_type": "code",
   "execution_count": 32,
   "metadata": {},
   "outputs": [
    {
     "name": "stdout",
     "output_type": "stream",
     "text": [
      "accuracy_train： 0.9914965986394558\n",
      "accuracy_test： 0.8142292490118577\n",
      "Kappa_train： 0.9875954601071685\n",
      "Kappa_test： 0.73001998001998\n"
     ]
    }
   ],
   "source": [
    "clf_tree.fit(x2_train, y2_train)\n",
    "print ('accuracy_train：', accuracy_score(y2_train, clf_tree.predict(x2_train)))\n",
    "print ('accuracy_test：', accuracy_score(y2_test, clf_tree.predict(x2_test)))\n",
    "\n",
    "print ('Kappa_train：', cohen_kappa_score(y2_train, clf_tree.predict(x2_train)))\n",
    "print ('Kappa_test：', cohen_kappa_score(y2_test, clf_tree.predict(x2_test)))"
   ]
  },
  {
   "cell_type": "code",
   "execution_count": 33,
   "metadata": {},
   "outputs": [
    {
     "name": "stdout",
     "output_type": "stream",
     "text": [
      "accuracy_train： 0.9880952380952381\n",
      "accuracy_test： 0.8458498023715415\n",
      "Kappa_train： 0.9826141317203393\n",
      "Kappa_test： 0.7758620689655172\n"
     ]
    }
   ],
   "source": [
    "clf_tree.fit(xpca1_train, ypca1_train)\n",
    "print ('accuracy_train：', accuracy_score(ypca1_train, clf_tree.predict(xpca1_train)))\n",
    "print ('accuracy_test：', accuracy_score(ypca1_test, clf_tree.predict(xpca1_test)))\n",
    "\n",
    "print ('Kappa_train：', cohen_kappa_score(ypca1_train, clf_tree.predict(xpca1_train)))\n",
    "print ('Kappa_test：', cohen_kappa_score(ypca1_test, clf_tree.predict(xpca1_test)))"
   ]
  },
  {
   "cell_type": "code",
   "execution_count": 34,
   "metadata": {},
   "outputs": [
    {
     "name": "stdout",
     "output_type": "stream",
     "text": [
      "accuracy_train： 0.9778911564625851\n",
      "accuracy_test： 0.8695652173913043\n",
      "Kappa_train： 0.9678530424799081\n",
      "Kappa_test： 0.8067629495903347\n"
     ]
    }
   ],
   "source": [
    "clf_tree.fit(xpca2_train, ypca2_train)\n",
    "print ('accuracy_train：', accuracy_score(ypca2_train, clf_tree.predict(xpca2_train)))\n",
    "print ('accuracy_test：', accuracy_score(ypca2_test, clf_tree.predict(xpca2_test)))\n",
    "\n",
    "print ('Kappa_train：', cohen_kappa_score(ypca2_train, clf_tree.predict(xpca2_train)))\n",
    "print ('Kappa_test：', cohen_kappa_score(ypca2_test, clf_tree.predict(xpca2_test)))"
   ]
  },
  {
   "cell_type": "code",
   "execution_count": 35,
   "metadata": {},
   "outputs": [
    {
     "name": "stdout",
     "output_type": "stream",
     "text": [
      "accuracy_train： 0.9846938775510204\n",
      "accuracy_test： 0.83399209486166\n",
      "Kappa_train： 0.9778393815797187\n",
      "Kappa_test： 0.75432917947888\n"
     ]
    }
   ],
   "source": [
    "clf_tree.fit(xIca1_train, yIca1_train)\n",
    "print ('accuracy_train：', accuracy_score(yIca1_train, clf_tree.predict(xIca1_train)))\n",
    "print ('accuracy_test：', accuracy_score(yIca1_test, clf_tree.predict(xIca1_test)))\n",
    "\n",
    "print ('Kappa_train：', cohen_kappa_score(yIca1_train, clf_tree.predict(xIca1_train)))\n",
    "print ('Kappa_test：', cohen_kappa_score(yIca1_test, clf_tree.predict(xIca1_test)))"
   ]
  },
  {
   "cell_type": "code",
   "execution_count": 36,
   "metadata": {},
   "outputs": [
    {
     "name": "stdout",
     "output_type": "stream",
     "text": [
      "accuracy_train： 0.9914965986394558\n",
      "accuracy_test： 0.8181818181818182\n",
      "Kappa_train： 0.9876072249035767\n",
      "Kappa_test： 0.7325642852218673\n"
     ]
    }
   ],
   "source": [
    "clf_tree.fit(xIca2_train, yIca2_train)\n",
    "print ('accuracy_train：', accuracy_score(yIca2_train, clf_tree.predict(xIca2_train)))\n",
    "print ('accuracy_test：', accuracy_score(yIca2_test, clf_tree.predict(xIca2_test)))\n",
    "\n",
    "print ('Kappa_train：', cohen_kappa_score(yIca2_train, clf_tree.predict(xIca2_train)))\n",
    "print ('Kappa_test：', cohen_kappa_score(yIca2_test, clf_tree.predict(xIca2_test)))"
   ]
  },
  {
   "cell_type": "code",
   "execution_count": 37,
   "metadata": {},
   "outputs": [
    {
     "name": "stdout",
     "output_type": "stream",
     "text": [
      "accuracy_train： 0.9217687074829932\n",
      "accuracy_test： 0.766798418972332\n",
      "Kappa_train： 0.8871354058001252\n",
      "Kappa_test： 0.6482467716090112\n"
     ]
    }
   ],
   "source": [
    "clf_tree.fit(xlle1_train, ylle1_train)\n",
    "print ('accuracy_train：', accuracy_score(ylle1_train, clf_tree.predict(xlle1_train)))\n",
    "print ('accuracy_test：', accuracy_score(ylle1_test, clf_tree.predict(xlle1_test)))\n",
    "\n",
    "print ('Kappa_train：', cohen_kappa_score(ylle1_train, clf_tree.predict(xlle1_train)))\n",
    "print ('Kappa_test：', cohen_kappa_score(ylle1_test, clf_tree.predict(xlle1_test)))"
   ]
  },
  {
   "cell_type": "code",
   "execution_count": 38,
   "metadata": {},
   "outputs": [
    {
     "name": "stdout",
     "output_type": "stream",
     "text": [
      "accuracy_train： 0.9829931972789115\n",
      "accuracy_test： 0.8932806324110671\n",
      "Kappa_train： 0.9751683946029266\n",
      "Kappa_test： 0.8445309299467432\n"
     ]
    }
   ],
   "source": [
    "clf_tree.fit(xlle2_train, ylle2_train)\n",
    "print ('accuracy_train：', accuracy_score(ylle2_train, clf_tree.predict(xlle2_train)))\n",
    "print ('accuracy_test：', accuracy_score(ylle2_test, clf_tree.predict(xlle2_test)))\n",
    "\n",
    "print ('Kappa_train：', cohen_kappa_score(ylle2_train, clf_tree.predict(xlle2_train)))\n",
    "print ('Kappa_test：', cohen_kappa_score(ylle2_test, clf_tree.predict(xlle2_test)))"
   ]
  },
  {
   "cell_type": "code",
   "execution_count": 39,
   "metadata": {},
   "outputs": [],
   "source": [
    "# Random Forest is a improvement of Decision Tree , too avoid overfitting, I choose set the max depth.\n",
    "from sklearn.model_selection import GridSearchCV\n",
    "from sklearn.model_selection import cross_validate\n",
    "from sklearn.ensemble import RandomForestClassifier\n",
    "from sklearn.datasets import make_classification\n",
    "randomforest = RandomForestClassifier(max_depth=8)"
   ]
  },
  {
   "cell_type": "code",
   "execution_count": 40,
   "metadata": {},
   "outputs": [
    {
     "name": "stdout",
     "output_type": "stream",
     "text": [
      "accuracy_train： 0.9982993197278912\n",
      "accuracy_test： 0.9209486166007905\n",
      "Kappa_train： 0.9975198245318037\n",
      "Kappa_test： 0.8854322329393651\n"
     ]
    },
    {
     "name": "stderr",
     "output_type": "stream",
     "text": [
      "C:\\Users\\user\\Anaconda3\\lib\\site-packages\\sklearn\\ensemble\\forest.py:246: FutureWarning: The default value of n_estimators will change from 10 in version 0.20 to 100 in 0.22.\n",
      "  \"10 in version 0.20 to 100 in 0.22.\", FutureWarning)\n"
     ]
    }
   ],
   "source": [
    "randomforest.fit(xpca1_train, ypca1_train)\n",
    "print ('accuracy_train：', accuracy_score(ypca1_train, randomforest.predict(xpca1_train)))\n",
    "print ('accuracy_test：', accuracy_score(ypca1_test, randomforest.predict(xpca1_test)))\n",
    "\n",
    "print ('Kappa_train：', cohen_kappa_score(ypca1_train, randomforest.predict(xpca1_train)))\n",
    "print ('Kappa_test：', cohen_kappa_score(ypca1_test, randomforest.predict(xpca1_test)))"
   ]
  },
  {
   "cell_type": "code",
   "execution_count": 41,
   "metadata": {},
   "outputs": [
    {
     "name": "stdout",
     "output_type": "stream",
     "text": [
      "accuracy_train： 0.9948979591836735\n",
      "accuracy_test： 0.924901185770751\n",
      "Kappa_train： 0.9925989015830127\n",
      "Kappa_test： 0.8888863205584577\n"
     ]
    }
   ],
   "source": [
    "randomforest.fit(xpca2_train, ypca2_train)\n",
    "print ('accuracy_train：', accuracy_score(ypca2_train, randomforest.predict(xpca2_train)))\n",
    "print ('accuracy_test：', accuracy_score(ypca2_test, randomforest.predict(xpca2_test)))\n",
    "\n",
    "print ('Kappa_train：', cohen_kappa_score(ypca2_train, randomforest.predict(xpca2_train)))\n",
    "print ('Kappa_test：', cohen_kappa_score(ypca2_test, randomforest.predict(xpca2_test)))"
   ]
  },
  {
   "cell_type": "code",
   "execution_count": 42,
   "metadata": {},
   "outputs": [
    {
     "name": "stdout",
     "output_type": "stream",
     "text": [
      "accuracy_train： 0.9965986394557823\n",
      "accuracy_test： 0.9169960474308301\n",
      "Kappa_train： 0.9950702985487563\n",
      "Kappa_test： 0.876596831885539\n"
     ]
    }
   ],
   "source": [
    "randomforest.fit(xIca1_train, yIca1_train)\n",
    "print ('accuracy_train：', accuracy_score(yIca1_train, randomforest.predict(xIca1_train)))\n",
    "print ('accuracy_test：', accuracy_score(yIca1_test, randomforest.predict(xIca1_test)))\n",
    "\n",
    "print ('Kappa_train：', cohen_kappa_score(yIca1_train, randomforest.predict(xIca1_train)))\n",
    "print ('Kappa_test：', cohen_kappa_score(yIca1_test, randomforest.predict(xIca1_test)))"
   ]
  },
  {
   "cell_type": "code",
   "execution_count": 43,
   "metadata": {},
   "outputs": [
    {
     "name": "stdout",
     "output_type": "stream",
     "text": [
      "accuracy_train： 0.9948979591836735\n",
      "accuracy_test： 0.8814229249011858\n",
      "Kappa_train： 0.9925656197845547\n",
      "Kappa_test： 0.8235376174090951\n"
     ]
    }
   ],
   "source": [
    "randomforest.fit(xIca2_train, yIca2_train)\n",
    "print ('accuracy_train：', accuracy_score(yIca2_train, randomforest.predict(xIca2_train)))\n",
    "print ('accuracy_test：', accuracy_score(yIca2_test, randomforest.predict(xIca2_test)))\n",
    "\n",
    "print ('Kappa_train：', cohen_kappa_score(yIca2_train, randomforest.predict(xIca2_train)))\n",
    "print ('Kappa_test：', cohen_kappa_score(yIca2_test, randomforest.predict(xIca2_test)))"
   ]
  },
  {
   "cell_type": "code",
   "execution_count": 44,
   "metadata": {},
   "outputs": [
    {
     "name": "stdout",
     "output_type": "stream",
     "text": [
      "accuracy_train： 0.9693877551020408\n",
      "accuracy_test： 0.857707509881423\n",
      "Kappa_train： 0.9558379891764687\n",
      "Kappa_test： 0.7851177275515501\n"
     ]
    }
   ],
   "source": [
    "randomforest.fit(xlle1_train, ylle1_train)\n",
    "print ('accuracy_train：', accuracy_score(ylle1_train, randomforest.predict(xlle1_train)))\n",
    "print ('accuracy_test：', accuracy_score(ylle1_test, randomforest.predict(xlle1_test)))\n",
    "\n",
    "print ('Kappa_train：', cohen_kappa_score(ylle1_train, randomforest.predict(xlle1_train)))\n",
    "print ('Kappa_test：', cohen_kappa_score(ylle1_test, randomforest.predict(xlle1_test)))"
   ]
  },
  {
   "cell_type": "code",
   "execution_count": 45,
   "metadata": {},
   "outputs": [
    {
     "name": "stdout",
     "output_type": "stream",
     "text": [
      "accuracy_train： 0.9948979591836735\n",
      "accuracy_test： 0.924901185770751\n",
      "Kappa_train： 0.9925563652782291\n",
      "Kappa_test： 0.8903037356518564\n"
     ]
    }
   ],
   "source": [
    "randomforest.fit(xlle2_train, ylle2_train)\n",
    "print ('accuracy_train：', accuracy_score(ylle2_train, randomforest.predict(xlle2_train)))\n",
    "print ('accuracy_test：', accuracy_score(ylle2_test, randomforest.predict(xlle2_test)))\n",
    "\n",
    "print ('Kappa_train：', cohen_kappa_score(ylle2_train, randomforest.predict(xlle2_train)))\n",
    "print ('Kappa_test：', cohen_kappa_score(ylle2_test, randomforest.predict(xlle2_test)))"
   ]
  },
  {
   "cell_type": "code",
   "execution_count": 46,
   "metadata": {},
   "outputs": [
    {
     "name": "stdout",
     "output_type": "stream",
     "text": [
      "accuracy_train： 0.9302721088435374\n",
      "accuracy_test： 0.7509881422924901\n",
      "Kappa_train： 0.8984939137610893\n",
      "Kappa_test： 0.6336367397600331\n"
     ]
    }
   ],
   "source": [
    "randomforest.fit(x1_train, y1_train)\n",
    "print ('accuracy_train：', accuracy_score(y1_train, randomforest.predict(x1_train)))\n",
    "print ('accuracy_test：', accuracy_score(y1_test, randomforest.predict(x1_test)))\n",
    "\n",
    "print ('Kappa_train：', cohen_kappa_score(y1_train, randomforest.predict(x1_train)))\n",
    "print ('Kappa_test：', cohen_kappa_score(y1_test, randomforest.predict(x1_test)))"
   ]
  },
  {
   "cell_type": "code",
   "execution_count": 47,
   "metadata": {},
   "outputs": [
    {
     "name": "stdout",
     "output_type": "stream",
     "text": [
      "accuracy_train： 0.9880952380952381\n",
      "accuracy_test： 0.8893280632411067\n",
      "Kappa_train： 0.9826532590463507\n",
      "Kappa_test： 0.8388535031847133\n"
     ]
    }
   ],
   "source": [
    "randomforest.fit(x2_train, y2_train)\n",
    "print ('accuracy_train：', accuracy_score(y2_train, randomforest.predict(x2_train)))\n",
    "print ('accuracy_test：', accuracy_score(y2_test, randomforest.predict(x2_test)))\n",
    "\n",
    "print ('Kappa_train：', cohen_kappa_score(y2_train, randomforest.predict(x2_train)))\n",
    "print ('Kappa_test：', cohen_kappa_score(y2_test, randomforest.predict(x2_test)))"
   ]
  },
  {
   "cell_type": "code",
   "execution_count": 48,
   "metadata": {},
   "outputs": [],
   "source": [
    "# The random forset used bagging to improve the method of decision tree, while the GBDT used the boosting to improve .\n",
    "from sklearn.datasets import make_classification\n",
    "from sklearn.ensemble import GradientBoostingClassifier\n",
    "GradientBoosting1 = GradientBoostingClassifier(max_depth=3,n_estimators=50,learning_rate=0.05)\n",
    "GradientBoosting = GradientBoostingClassifier(max_depth=4,n_estimators=40,learning_rate=0.03)"
   ]
  },
  {
   "cell_type": "code",
   "execution_count": 49,
   "metadata": {},
   "outputs": [
    {
     "name": "stdout",
     "output_type": "stream",
     "text": [
      "accuracy_train： 0.9268707482993197\n",
      "accuracy_test： 0.7747035573122529\n",
      "Kappa_train： 0.8935670446796151\n",
      "Kappa_test： 0.6682158058207753\n"
     ]
    }
   ],
   "source": [
    "GradientBoosting1.fit(x1_train, y1_train)\n",
    "print ('accuracy_train：', accuracy_score(y1_train, GradientBoosting1.predict(x1_train)))\n",
    "print ('accuracy_test：', accuracy_score(y1_test, GradientBoosting1.predict(x1_test)))\n",
    "\n",
    "print ('Kappa_train：', cohen_kappa_score(y1_train, GradientBoosting1.predict(x1_train)))\n",
    "print ('Kappa_test：', cohen_kappa_score(y1_test, GradientBoosting1.predict(x1_test)))"
   ]
  },
  {
   "cell_type": "code",
   "execution_count": 50,
   "metadata": {},
   "outputs": [
    {
     "name": "stdout",
     "output_type": "stream",
     "text": [
      "accuracy_train： 0.9778911564625851\n",
      "accuracy_test： 0.8774703557312253\n",
      "Kappa_train： 0.9677552707730467\n",
      "Kappa_test： 0.8220412053004175\n"
     ]
    }
   ],
   "source": [
    "GradientBoosting1.fit(x2_train, y2_train)\n",
    "print ('accuracy_train：', accuracy_score(y2_train, GradientBoosting1.predict(x2_train)))\n",
    "print ('accuracy_test：', accuracy_score(y2_test, GradientBoosting1.predict(x2_test)))\n",
    "\n",
    "print ('Kappa_train：', cohen_kappa_score(y2_train, GradientBoosting1.predict(x2_train)))\n",
    "print ('Kappa_test：', cohen_kappa_score(y2_test, GradientBoosting1.predict(x2_test)))"
   ]
  },
  {
   "cell_type": "code",
   "execution_count": 51,
   "metadata": {},
   "outputs": [
    {
     "name": "stdout",
     "output_type": "stream",
     "text": [
      "accuracy_train： 0.9948979591836735\n",
      "accuracy_test： 0.9525691699604744\n",
      "Kappa_train： 0.9925594735954109\n",
      "Kappa_test： 0.931072061027108\n"
     ]
    }
   ],
   "source": [
    "GradientBoosting1.fit(xpca1_train, ypca1_train)\n",
    "print ('accuracy_train：', accuracy_score(ypca1_train, GradientBoosting1.predict(xpca1_train)))\n",
    "print ('accuracy_test：', accuracy_score(ypca1_test, GradientBoosting1.predict(xpca1_test)))\n",
    "\n",
    "print ('Kappa_train：', cohen_kappa_score(ypca1_train, GradientBoosting1.predict(xpca1_train)))\n",
    "print ('Kappa_test：', cohen_kappa_score(ypca1_test, GradientBoosting1.predict(xpca1_test)))"
   ]
  },
  {
   "cell_type": "code",
   "execution_count": 53,
   "metadata": {},
   "outputs": [
    {
     "name": "stdout",
     "output_type": "stream",
     "text": [
      "accuracy_train： 0.9965986394557823\n",
      "accuracy_test： 0.9367588932806324\n",
      "Kappa_train： 0.9950648783845031\n",
      "Kappa_test： 0.9066872593992762\n"
     ]
    }
   ],
   "source": [
    "GradientBoosting.fit(xpca2_train, ypca2_train)\n",
    "print ('accuracy_train：', accuracy_score(ypca2_train, GradientBoosting.predict(xpca2_train)))\n",
    "print ('accuracy_test：', accuracy_score(ypca2_test, GradientBoosting.predict(xpca2_test)))\n",
    "\n",
    "print ('Kappa_train：', cohen_kappa_score(ypca2_train, GradientBoosting.predict(xpca2_train)))\n",
    "print ('Kappa_test：', cohen_kappa_score(ypca2_test, GradientBoosting.predict(xpca2_test)))"
   ]
  },
  {
   "cell_type": "code",
   "execution_count": 54,
   "metadata": {},
   "outputs": [
    {
     "name": "stdout",
     "output_type": "stream",
     "text": [
      "accuracy_train： 1.0\n",
      "accuracy_test： 0.9565217391304348\n",
      "Kappa_train： 1.0\n",
      "Kappa_test： 0.935614473440681\n"
     ]
    }
   ],
   "source": [
    "GradientBoosting1.fit(xIca1_train, yIca1_train)\n",
    "print ('accuracy_train：', accuracy_score(yIca1_train, GradientBoosting1.predict(xIca1_train)))\n",
    "print ('accuracy_test：', accuracy_score(yIca1_test, GradientBoosting1.predict(xIca1_test)))\n",
    "\n",
    "print ('Kappa_train：', cohen_kappa_score(yIca1_train, GradientBoosting1.predict(xIca1_train)))\n",
    "print ('Kappa_test：', cohen_kappa_score(yIca1_test, GradientBoosting1.predict(xIca1_test)))"
   ]
  },
  {
   "cell_type": "code",
   "execution_count": 55,
   "metadata": {},
   "outputs": [
    {
     "name": "stdout",
     "output_type": "stream",
     "text": [
      "accuracy_train： 1.0\n",
      "accuracy_test： 0.8972332015810277\n",
      "Kappa_train： 1.0\n",
      "Kappa_test： 0.8493392272279608\n"
     ]
    }
   ],
   "source": [
    "GradientBoosting1.fit(xIca2_train, yIca2_train)\n",
    "print ('accuracy_train：', accuracy_score(yIca2_train, GradientBoosting1.predict(xIca2_train)))\n",
    "print ('accuracy_test：', accuracy_score(yIca2_test, GradientBoosting1.predict(xIca2_test)))\n",
    "\n",
    "print ('Kappa_train：', cohen_kappa_score(yIca2_train, GradientBoosting1.predict(xIca2_train)))\n",
    "print ('Kappa_test：', cohen_kappa_score(yIca2_test, GradientBoosting1.predict(xIca2_test)))"
   ]
  },
  {
   "cell_type": "code",
   "execution_count": 56,
   "metadata": {},
   "outputs": [
    {
     "name": "stdout",
     "output_type": "stream",
     "text": [
      "accuracy_train： 0.9591836734693877\n",
      "accuracy_test： 0.8853754940711462\n",
      "Kappa_train： 0.9410511541642648\n",
      "Kappa_test： 0.8274783671933785\n"
     ]
    }
   ],
   "source": [
    "GradientBoosting1.fit(xlle1_train, ylle1_train)\n",
    "print ('accuracy_train：', accuracy_score(ylle1_train, GradientBoosting1.predict(xlle1_train)))\n",
    "print ('accuracy_test：', accuracy_score(ylle1_test, GradientBoosting1.predict(xlle1_test)))\n",
    "\n",
    "print ('Kappa_train：', cohen_kappa_score(ylle1_train, GradientBoosting1.predict(xlle1_train)))\n",
    "print ('Kappa_test：', cohen_kappa_score(ylle1_test, GradientBoosting1.predict(xlle1_test)))"
   ]
  },
  {
   "cell_type": "code",
   "execution_count": 57,
   "metadata": {},
   "outputs": [
    {
     "name": "stdout",
     "output_type": "stream",
     "text": [
      "accuracy_train： 0.9914965986394558\n",
      "accuracy_test： 0.932806324110672\n",
      "Kappa_train： 0.9875869756130514\n",
      "Kappa_test： 0.9023454351429285\n"
     ]
    }
   ],
   "source": [
    "GradientBoosting.fit(xlle2_train, ylle2_train)\n",
    "print ('accuracy_train：', accuracy_score(ylle2_train, GradientBoosting.predict(xlle2_train)))\n",
    "print ('accuracy_test：', accuracy_score(ylle2_test, GradientBoosting.predict(xlle2_test)))\n",
    "\n",
    "print ('Kappa_train：', cohen_kappa_score(ylle2_train, GradientBoosting.predict(xlle2_train)))\n",
    "print ('Kappa_test：', cohen_kappa_score(ylle2_test, GradientBoosting.predict(xlle2_test)))"
   ]
  },
  {
   "cell_type": "code",
   "execution_count": 58,
   "metadata": {},
   "outputs": [],
   "source": [
    "# I can also use sklearn to duild Netural Network, but it can be difficult to tell the meaning of the net.\n",
    "# also the best net is difficult to find, I can just try some and find a roughly suitable one.\n",
    "# I also find for DNN, reduce dimension is useless since the netural network can do this."
   ]
  },
  {
   "cell_type": "code",
   "execution_count": 59,
   "metadata": {},
   "outputs": [],
   "source": [
    "from sklearn.neural_network import MLPClassifier\n",
    "MLP1=MLPClassifier(random_state=1,activation =\"relu\",solver=\"lbfgs\",max_iter=1000,beta_1=0.8,beta_2=0.8,hidden_layer_sizes=(40, ))\n",
    "MLP2=MLPClassifier(random_state=1,activation =\"relu\",solver=\"lbfgs\",max_iter=1000,beta_1=0.7,beta_2=0.7,hidden_layer_sizes=(20, ))"
   ]
  },
  {
   "cell_type": "code",
   "execution_count": 60,
   "metadata": {},
   "outputs": [
    {
     "name": "stdout",
     "output_type": "stream",
     "text": [
      "accuracy_train： 0.7619047619047619\n",
      "accuracy_test： 0.7430830039525692\n",
      "Kappa_train： 0.652469065440683\n",
      "Kappa_test： 0.6206371542596139\n"
     ]
    }
   ],
   "source": [
    "MLP1.fit(x1_train, y1_train)\n",
    "print ('accuracy_train：', accuracy_score(y1_train, MLP1.predict(x1_train)))\n",
    "print ('accuracy_test：', accuracy_score(y1_test, MLP1.predict(x1_test)))\n",
    "\n",
    "print ('Kappa_train：', cohen_kappa_score(y1_train, MLP1.predict(x1_train)))\n",
    "print ('Kappa_test：', cohen_kappa_score(y1_test, MLP1.predict(x1_test)))"
   ]
  },
  {
   "cell_type": "code",
   "execution_count": 61,
   "metadata": {},
   "outputs": [
    {
     "name": "stdout",
     "output_type": "stream",
     "text": [
      "3\n",
      "0.596435051333755\n"
     ]
    }
   ],
   "source": [
    "print (MLP1.n_layers_)\n",
    "print (MLP1.loss_)"
   ]
  },
  {
   "cell_type": "code",
   "execution_count": 62,
   "metadata": {},
   "outputs": [
    {
     "name": "stdout",
     "output_type": "stream",
     "text": [
      "accuracy_train： 0.9030612244897959\n",
      "accuracy_test： 0.8656126482213439\n",
      "Kappa_train： 0.8587872455170554\n",
      "Kappa_test： 0.8058326937835764\n"
     ]
    }
   ],
   "source": [
    "MLP2.fit(x2_train, y2_train)\n",
    "print ('accuracy_train：', accuracy_score(y2_train, MLP2.predict(x2_train)))\n",
    "print ('accuracy_test：', accuracy_score(y2_test, MLP2.predict(x2_test)))\n",
    "\n",
    "print ('Kappa_train：', cohen_kappa_score(y2_train, MLP2.predict(x2_train)))\n",
    "print ('Kappa_test：', cohen_kappa_score(y2_test, MLP2.predict(x2_test)))"
   ]
  },
  {
   "cell_type": "code",
   "execution_count": 63,
   "metadata": {},
   "outputs": [
    {
     "name": "stdout",
     "output_type": "stream",
     "text": [
      "3\n",
      "0.25534011329972733\n"
     ]
    }
   ],
   "source": [
    "print (MLP2.n_layers_)\n",
    "print (MLP2.loss_)"
   ]
  },
  {
   "cell_type": "code",
   "execution_count": 64,
   "metadata": {},
   "outputs": [],
   "source": [
    "from sklearn.model_selection import cross_val_score"
   ]
  },
  {
   "cell_type": "code",
   "execution_count": 65,
   "metadata": {},
   "outputs": [
    {
     "name": "stdout",
     "output_type": "stream",
     "text": [
      "Requirement already satisfied: xgboost in c:\\users\\user\\anaconda3\\lib\\site-packages (1.1.1)\n",
      "Requirement already satisfied: scipy in c:\\users\\user\\anaconda3\\lib\\site-packages (from xgboost) (1.2.1)\n",
      "Requirement already satisfied: numpy in c:\\users\\user\\anaconda3\\lib\\site-packages (from xgboost) (1.16.2)\n",
      "Note: you may need to restart the kernel to use updated packages.\n"
     ]
    }
   ],
   "source": [
    "pip install xgboost"
   ]
  },
  {
   "cell_type": "code",
   "execution_count": 66,
   "metadata": {},
   "outputs": [
    {
     "name": "stdout",
     "output_type": "stream",
     "text": [
      "Requirement already satisfied: graphviz in c:\\users\\user\\anaconda3\\lib\\site-packages (0.14)\n",
      "Note: you may need to restart the kernel to use updated packages.\n"
     ]
    }
   ],
   "source": [
    "pip install graphviz"
   ]
  },
  {
   "cell_type": "code",
   "execution_count": 67,
   "metadata": {},
   "outputs": [
    {
     "name": "stderr",
     "output_type": "stream",
     "text": [
      "C:\\Users\\user\\Anaconda3\\lib\\site-packages\\dask\\config.py:168: YAMLLoadWarning: calling yaml.load() without Loader=... is deprecated, as the default Loader is unsafe. Please read https://msg.pyyaml.org/load for full details.\n",
      "  data = yaml.load(f.read()) or {}\n",
      "C:\\Users\\user\\Anaconda3\\lib\\site-packages\\distributed\\config.py:20: YAMLLoadWarning: calling yaml.load() without Loader=... is deprecated, as the default Loader is unsafe. Please read https://msg.pyyaml.org/load for full details.\n",
      "  defaults = yaml.load(f)\n"
     ]
    }
   ],
   "source": [
    "from pandas import DataFrame\n",
    "from xgboost.sklearn import XGBClassifier\n",
    "from xgboost import plot_tree"
   ]
  },
  {
   "cell_type": "code",
   "execution_count": 68,
   "metadata": {},
   "outputs": [],
   "source": [
    "# Then try a improvement of xgboost."
   ]
  },
  {
   "cell_type": "code",
   "execution_count": 69,
   "metadata": {},
   "outputs": [],
   "source": [
    "xgboost = XGBClassifier(\n",
    "    n_estimators=50,\n",
    "    learning_rate =0.3,\n",
    "    max_depth=4,\n",
    "    min_child_weight=1,\n",
    "    gamma=0.2,\n",
    "    subsample=0.6,\n",
    "    colsample_bytree=0.8,\n",
    "    objective= 'binary:logistic',\n",
    "    nthread=12,\n",
    "    reg_lambda=1,\n",
    "    seed=27)"
   ]
  },
  {
   "cell_type": "code",
   "execution_count": 70,
   "metadata": {},
   "outputs": [
    {
     "name": "stdout",
     "output_type": "stream",
     "text": [
      "accuracy_train： 1.0\n",
      "accuracy_test： 0.83399209486166\n",
      "Kappa_train： 1.0\n",
      "Kappa_test： 0.7565970313358988\n"
     ]
    }
   ],
   "source": [
    "xgboost.fit(x1_train, y1_train)\n",
    "print ('accuracy_train：', accuracy_score(y1_train, xgboost.predict(x1_train)))\n",
    "print ('accuracy_test：', accuracy_score(y1_test, xgboost.predict(x1_test)))\n",
    "\n",
    "print ('Kappa_train：', cohen_kappa_score(y1_train, xgboost.predict(x1_train)))\n",
    "print ('Kappa_test：', cohen_kappa_score(y1_test, xgboost.predict(x1_test)))"
   ]
  },
  {
   "cell_type": "code",
   "execution_count": 71,
   "metadata": {},
   "outputs": [
    {
     "name": "stdout",
     "output_type": "stream",
     "text": [
      "accuracy_train： 1.0\n",
      "accuracy_test： 0.924901185770751\n",
      "Kappa_train： 1.0\n",
      "Kappa_test： 0.8907897128316976\n"
     ]
    }
   ],
   "source": [
    "xgboost.fit(x2_train, y2_train)\n",
    "print ('accuracy_train：', accuracy_score(y2_train, xgboost.predict(x2_train)))\n",
    "print ('accuracy_test：', accuracy_score(y2_test, xgboost.predict(x2_test)))\n",
    "\n",
    "print ('Kappa_train：', cohen_kappa_score(y2_train, xgboost.predict(x2_train)))\n",
    "print ('Kappa_test：', cohen_kappa_score(y2_test, xgboost.predict(x2_test)))"
   ]
  },
  {
   "cell_type": "code",
   "execution_count": 72,
   "metadata": {},
   "outputs": [
    {
     "name": "stdout",
     "output_type": "stream",
     "text": [
      "accuracy_train： 1.0\n",
      "accuracy_test： 0.9881422924901185\n",
      "Kappa_train： 1.0\n",
      "Kappa_test： 0.9827984770193092\n"
     ]
    }
   ],
   "source": [
    "xgboost.fit(xpca1_train, ypca1_train)\n",
    "print ('accuracy_train：', accuracy_score(ypca1_train, xgboost.predict(xpca1_train)))\n",
    "print ('accuracy_test：', accuracy_score(ypca1_test, xgboost.predict(xpca1_test)))\n",
    "\n",
    "print ('Kappa_train：', cohen_kappa_score(ypca1_train, xgboost.predict(xpca1_train)))\n",
    "print ('Kappa_test：', cohen_kappa_score(ypca1_test, xgboost.predict(xpca1_test)))"
   ]
  },
  {
   "cell_type": "code",
   "execution_count": 73,
   "metadata": {},
   "outputs": [
    {
     "name": "stdout",
     "output_type": "stream",
     "text": [
      "accuracy_train： 1.0\n",
      "accuracy_test： 0.9644268774703557\n",
      "Kappa_train： 1.0\n",
      "Kappa_test： 0.9474437391806116\n"
     ]
    }
   ],
   "source": [
    "xgboost.fit(xpca2_train, ypca2_train)\n",
    "print ('accuracy_train：', accuracy_score(ypca2_train, xgboost.predict(xpca2_train)))\n",
    "print ('accuracy_test：', accuracy_score(ypca2_test, xgboost.predict(xpca2_test)))\n",
    "\n",
    "print ('Kappa_train：', cohen_kappa_score(ypca2_train, xgboost.predict(xpca2_train)))\n",
    "print ('Kappa_test：', cohen_kappa_score(ypca2_test, xgboost.predict(xpca2_test)))"
   ]
  },
  {
   "cell_type": "code",
   "execution_count": 74,
   "metadata": {},
   "outputs": [
    {
     "name": "stdout",
     "output_type": "stream",
     "text": [
      "accuracy_train： 1.0\n",
      "accuracy_test： 0.9762845849802372\n",
      "Kappa_train： 1.0\n",
      "Kappa_test： 0.9648611111111112\n"
     ]
    }
   ],
   "source": [
    "xgboost.fit(xIca1_train, yIca1_train)\n",
    "print ('accuracy_train：', accuracy_score(yIca1_train, xgboost.predict(xIca1_train)))\n",
    "print ('accuracy_test：', accuracy_score(yIca1_test, xgboost.predict(xIca1_test)))\n",
    "\n",
    "print ('Kappa_train：', cohen_kappa_score(yIca1_train, xgboost.predict(xIca1_train)))\n",
    "print ('Kappa_test：', cohen_kappa_score(yIca1_test, xgboost.predict(xIca1_test)))"
   ]
  },
  {
   "cell_type": "code",
   "execution_count": 75,
   "metadata": {},
   "outputs": [
    {
     "name": "stdout",
     "output_type": "stream",
     "text": [
      "accuracy_train： 1.0\n",
      "accuracy_test： 0.9486166007905138\n",
      "Kappa_train： 1.0\n",
      "Kappa_test： 0.9248983879070192\n"
     ]
    }
   ],
   "source": [
    "xgboost.fit(xIca2_train, yIca2_train)\n",
    "print ('accuracy_train：', accuracy_score(yIca2_train, xgboost.predict(xIca2_train)))\n",
    "print ('accuracy_test：', accuracy_score(yIca2_test, xgboost.predict(xIca2_test)))\n",
    "\n",
    "print ('Kappa_train：', cohen_kappa_score(yIca2_train, xgboost.predict(xIca2_train)))\n",
    "print ('Kappa_test：', cohen_kappa_score(yIca2_test, xgboost.predict(xIca2_test)))"
   ]
  },
  {
   "cell_type": "code",
   "execution_count": 76,
   "metadata": {},
   "outputs": [
    {
     "name": "stdout",
     "output_type": "stream",
     "text": [
      "accuracy_train： 0.9982993197278912\n",
      "accuracy_test： 0.9130434782608695\n",
      "Kappa_train： 0.9975480895531101\n",
      "Kappa_test： 0.8693059077674462\n"
     ]
    }
   ],
   "source": [
    "xgboost.fit(xlle1_train, ylle1_train)\n",
    "print ('accuracy_train：', accuracy_score(ylle1_train, xgboost.predict(xlle1_train)))\n",
    "print ('accuracy_test：', accuracy_score(ylle1_test, xgboost.predict(xlle1_test)))\n",
    "\n",
    "print ('Kappa_train：', cohen_kappa_score(ylle1_train, xgboost.predict(xlle1_train)))\n",
    "print ('Kappa_test：', cohen_kappa_score(ylle1_test, xgboost.predict(xlle1_test)))"
   ]
  },
  {
   "cell_type": "code",
   "execution_count": 77,
   "metadata": {},
   "outputs": [
    {
     "name": "stdout",
     "output_type": "stream",
     "text": [
      "accuracy_train： 1.0\n",
      "accuracy_test： 0.9604743083003953\n",
      "Kappa_train： 1.0\n",
      "Kappa_test： 0.942587423695736\n"
     ]
    }
   ],
   "source": [
    "xgboost.fit(xlle2_train, ylle2_train)\n",
    "print ('accuracy_train：', accuracy_score(ylle2_train, xgboost.predict(xlle2_train)))\n",
    "print ('accuracy_test：', accuracy_score(ylle2_test, xgboost.predict(xlle2_test)))\n",
    "\n",
    "print ('Kappa_train：', cohen_kappa_score(ylle2_train, xgboost.predict(xlle2_train)))\n",
    "print ('Kappa_test：', cohen_kappa_score(ylle2_test, xgboost.predict(xlle2_test)))"
   ]
  },
  {
   "cell_type": "code",
   "execution_count": 78,
   "metadata": {},
   "outputs": [],
   "source": [
    "# from these trying, I can find the xgboost has the best effect.\n",
    "# but pca and Ica are both good, so consider further for these two methods.\n",
    "# first consider the dimension to choose.\n",
    "# The get the mean of accuracy."
   ]
  },
  {
   "cell_type": "code",
   "execution_count": 79,
   "metadata": {},
   "outputs": [
    {
     "data": {
      "text/plain": [
       "((841, 4), (841, 5))"
      ]
     },
     "execution_count": 79,
     "metadata": {},
     "output_type": "execute_result"
    }
   ],
   "source": [
    "# PCA\n",
    "pca=PCA(n_components=0.99)\n",
    "X_Pca1=pca.fit_transform(wavelength1)\n",
    "X_Pca2=pca.fit_transform(wavelength2)\n",
    "X_Pca1.shape, X_Pca2.shape"
   ]
  },
  {
   "cell_type": "code",
   "execution_count": 80,
   "metadata": {},
   "outputs": [],
   "source": [
    "xgboost = XGBClassifier(\n",
    "    n_estimators=50,\n",
    "    learning_rate =0.3,\n",
    "    max_depth=4,\n",
    "    min_child_weight=1,\n",
    "    gamma=0.2,\n",
    "    subsample=0.6,\n",
    "    colsample_bytree=0.8,\n",
    "    objective= 'binary:logistic',\n",
    "    nthread=12,\n",
    "    reg_lambda=1,\n",
    "    seed=27)"
   ]
  },
  {
   "cell_type": "code",
   "execution_count": 81,
   "metadata": {},
   "outputs": [
    {
     "data": {
      "text/plain": [
       "0.7339920948616601"
      ]
     },
     "execution_count": 81,
     "metadata": {},
     "output_type": "execute_result"
    }
   ],
   "source": [
    "from sklearn.metrics import accuracy_score\n",
    "summary=0\n",
    "n=100\n",
    "for i in range(0,100):\n",
    "    xpca1_train, xpca1_test, ypca1_train, ypca1_test = train_test_split(X_Pca1,target, test_size=0.3)\n",
    "    xgboost.fit(xpca1_train, ypca1_train)\n",
    "    summary = accuracy_score(ypca1_test, xgboost.predict(xpca1_test))+summary\n",
    "mean=summary/n\n",
    "mean"
   ]
  },
  {
   "cell_type": "code",
   "execution_count": 82,
   "metadata": {},
   "outputs": [
    {
     "data": {
      "text/plain": [
       "0.8728458498023716"
      ]
     },
     "execution_count": 82,
     "metadata": {},
     "output_type": "execute_result"
    }
   ],
   "source": [
    "from sklearn.metrics import accuracy_score\n",
    "summary=0\n",
    "n=100\n",
    "for i in range(0,100):\n",
    "    xpca2_train, xpca2_test, ypca2_train, ypca2_test = train_test_split(X_Pca2,target, test_size=0.3)\n",
    "    xgboost.fit(xpca2_train, ypca2_train)\n",
    "    summary = accuracy_score(ypca2_test, xgboost.predict(xpca2_test))+summary\n",
    "mean=summary/n\n",
    "mean"
   ]
  },
  {
   "cell_type": "code",
   "execution_count": 83,
   "metadata": {},
   "outputs": [],
   "source": [
    "# Then can find the effect is not good, so now consider the ICA method."
   ]
  },
  {
   "cell_type": "code",
   "execution_count": 85,
   "metadata": {},
   "outputs": [
    {
     "name": "stderr",
     "output_type": "stream",
     "text": [
      "C:\\Users\\user\\Anaconda3\\lib\\site-packages\\sklearn\\decomposition\\fastica_.py:121: ConvergenceWarning: FastICA did not converge. Consider increasing tolerance or the maximum number of iterations.\n",
      "  ConvergenceWarning)\n",
      "C:\\Users\\user\\Anaconda3\\lib\\site-packages\\sklearn\\decomposition\\fastica_.py:121: ConvergenceWarning: FastICA did not converge. Consider increasing tolerance or the maximum number of iterations.\n",
      "  ConvergenceWarning)\n",
      "C:\\Users\\user\\Anaconda3\\lib\\site-packages\\sklearn\\decomposition\\fastica_.py:121: ConvergenceWarning: FastICA did not converge. Consider increasing tolerance or the maximum number of iterations.\n",
      "  ConvergenceWarning)\n",
      "C:\\Users\\user\\Anaconda3\\lib\\site-packages\\sklearn\\decomposition\\fastica_.py:121: ConvergenceWarning: FastICA did not converge. Consider increasing tolerance or the maximum number of iterations.\n",
      "  ConvergenceWarning)\n",
      "C:\\Users\\user\\Anaconda3\\lib\\site-packages\\sklearn\\decomposition\\fastica_.py:121: ConvergenceWarning: FastICA did not converge. Consider increasing tolerance or the maximum number of iterations.\n",
      "  ConvergenceWarning)\n"
     ]
    }
   ],
   "source": [
    "scores=[]\n",
    "a=0\n",
    "for i in range(2,25):\n",
    "    ICA1 = FastICA(n_components=i,random_state=100) \n",
    "    X_ICA1=ICA1.fit_transform(wavelength1)\n",
    "    a = cross_val_score(xgboost, X_ICA1,target, cv=30) \n",
    "    scores.append(sum(a)/30)"
   ]
  },
  {
   "cell_type": "code",
   "execution_count": 86,
   "metadata": {},
   "outputs": [
    {
     "data": {
      "text/plain": [
       "20"
      ]
     },
     "execution_count": 86,
     "metadata": {},
     "output_type": "execute_result"
    }
   ],
   "source": [
    "max_index1 = scores.index(max(scores))\n",
    "n1 = max_index1 +2\n",
    "n1"
   ]
  },
  {
   "cell_type": "code",
   "execution_count": 87,
   "metadata": {},
   "outputs": [
    {
     "data": {
      "text/plain": [
       "[<matplotlib.lines.Line2D at 0x1f087c865c0>]"
      ]
     },
     "execution_count": 87,
     "metadata": {},
     "output_type": "execute_result"
    },
    {
     "data": {
      "image/png": "[encoded data removed]",
      "text/plain": [
       "<Figure size 432x288 with 1 Axes>"
      ]
     },
     "metadata": {
      "needs_background": "light"
     },
     "output_type": "display_data"
    }
   ],
   "source": [
    "N=array([2,3,4,5,6,7,8,9,10,11,12,13,14,15,16,17,18,19,20,21,22,23,24])\n",
    "plt.plot(N,scores)"
   ]
  },
  {
   "cell_type": "code",
   "execution_count": 88,
   "metadata": {},
   "outputs": [],
   "source": [
    "# so I can find the dimension can be choose as  20 , when the wavelength is in the range of (400nm,900nm)."
   ]
  },
  {
   "cell_type": "code",
   "execution_count": 89,
   "metadata": {},
   "outputs": [
    {
     "data": {
      "text/plain": [
       "0.9713580246913579"
      ]
     },
     "execution_count": 89,
     "metadata": {},
     "output_type": "execute_result"
    }
   ],
   "source": [
    "ICA1 = FastICA(n_components=20,random_state=100) \n",
    "X_ICA1=ICA1.fit_transform(wavelength1)\n",
    "scores = cross_val_score(xgboost , X_ICA1,target, cv=30)\n",
    "sum(scores)/30"
   ]
  },
  {
   "cell_type": "code",
   "execution_count": 90,
   "metadata": {},
   "outputs": [],
   "source": [
    "# another method to calculate the mean accuracy."
   ]
  },
  {
   "cell_type": "code",
   "execution_count": 136,
   "metadata": {},
   "outputs": [
    {
     "data": {
      "text/plain": [
       "0.9598104265402846"
      ]
     },
     "execution_count": 136,
     "metadata": {},
     "output_type": "execute_result"
    }
   ],
   "source": [
    "ICA1 = FastICA(n_components=20,random_state=100) \n",
    "X_ICA1=ICA1.fit_transform(wavelength1)\n",
    "summary=0\n",
    "n=50\n",
    "for j in range(0,50):\n",
    "    xIca_train, xIca_test, yIca_train, yIca_test = train_test_split(X_ICA1,target, test_size=0.25)\n",
    "    xgboost.fit(xIca_train, yIca_train)\n",
    "    summary = accuracy_score(yIca_test, xgboost.predict(xIca_test))+summary\n",
    "a = summary/n\n",
    "a"
   ]
  },
  {
   "cell_type": "code",
   "execution_count": 92,
   "metadata": {},
   "outputs": [],
   "source": [
    "# Now can find the accuracy is around 0.96."
   ]
  },
  {
   "cell_type": "code",
   "execution_count": 93,
   "metadata": {},
   "outputs": [],
   "source": [
    "Scores=[]\n",
    "b=0\n",
    "for i in range(2,25):\n",
    "    ICA2 = FastICA(n_components=i,random_state=100) \n",
    "    X_ICA2=ICA2.fit_transform(wavelength2)\n",
    "    b = cross_val_score(xgboost, X_ICA2,target, cv=30) \n",
    "    Scores.append(sum(b)/30)"
   ]
  },
  {
   "cell_type": "code",
   "execution_count": 94,
   "metadata": {},
   "outputs": [
    {
     "data": {
      "text/plain": [
       "24"
      ]
     },
     "execution_count": 94,
     "metadata": {},
     "output_type": "execute_result"
    }
   ],
   "source": [
    "max_index2 = Scores.index(max(Scores))\n",
    "n2 = max_index2 + 2\n",
    "n2"
   ]
  },
  {
   "cell_type": "code",
   "execution_count": 95,
   "metadata": {},
   "outputs": [
    {
     "data": {
      "text/plain": [
       "[<matplotlib.lines.Line2D at 0x1f087c98be0>]"
      ]
     },
     "execution_count": 95,
     "metadata": {},
     "output_type": "execute_result"
    },
    {
     "data": {
      "image/png": "[encoded data removed]",
      "text/plain": [
       "<Figure size 432x288 with 1 Axes>"
      ]
     },
     "metadata": {
      "needs_background": "light"
     },
     "output_type": "display_data"
    }
   ],
   "source": [
    "N=array([2,3,4,5,6,7,8,9,10,11,12,13,14,15,16,17,18,19,20,21,22,23,24])\n",
    "plt.plot(N,Scores)"
   ]
  },
  {
   "cell_type": "code",
   "execution_count": 96,
   "metadata": {},
   "outputs": [],
   "source": [
    "# so I can find the dimension can be choose as 24 , when the wavelength is (400nm,2400nm)."
   ]
  },
  {
   "cell_type": "code",
   "execution_count": 97,
   "metadata": {},
   "outputs": [
    {
     "data": {
      "text/plain": [
       "0.9727160493827162"
      ]
     },
     "execution_count": 97,
     "metadata": {},
     "output_type": "execute_result"
    }
   ],
   "source": [
    "ICA2 = FastICA(n_components=24,random_state=100) \n",
    "X_ICA2=ICA2.fit_transform(wavelength2)\n",
    "scores = cross_val_score(xgboost, X_ICA2,target, cv=30)\n",
    "sum(scores)/30"
   ]
  },
  {
   "cell_type": "code",
   "execution_count": 98,
   "metadata": {},
   "outputs": [
    {
     "data": {
      "text/plain": [
       "0.9731753554502369"
      ]
     },
     "execution_count": 98,
     "metadata": {},
     "output_type": "execute_result"
    }
   ],
   "source": [
    "ICA2 = FastICA(n_components=24,random_state=100) \n",
    "X_ICA2=ICA2.fit_transform(wavelength2)\n",
    "summary=0\n",
    "n=50\n",
    "for j in range(0,50):\n",
    "    xIca_train, xIca_test, yIca_train, yIca_test = train_test_split(X_ICA2,target, test_size=0.25)\n",
    "    xgboost.fit(xIca_train, yIca_train)\n",
    "    summary = accuracy_score(yIca_test, xgboost.predict(xIca_test))+summary\n",
    "b = summary/n\n",
    "b"
   ]
  },
  {
   "cell_type": "code",
   "execution_count": 99,
   "metadata": {},
   "outputs": [],
   "source": [
    "# Now can find the accuracy is around 0.97."
   ]
  },
  {
   "cell_type": "code",
   "execution_count": 100,
   "metadata": {},
   "outputs": [],
   "source": [
    "# Then calculate the time."
   ]
  },
  {
   "cell_type": "code",
   "execution_count": 101,
   "metadata": {},
   "outputs": [
    {
     "name": "stderr",
     "output_type": "stream",
     "text": [
      "C:\\Users\\user\\Anaconda3\\lib\\site-packages\\ipykernel_launcher.py:2: DeprecationWarning: time.clock has been deprecated in Python 3.3 and will be removed from Python 3.8: use time.perf_counter or time.process_time instead\n",
      "  \n"
     ]
    },
    {
     "name": "stdout",
     "output_type": "stream",
     "text": [
      "Running time: 15.984528599999976 Seconds\n"
     ]
    },
    {
     "name": "stderr",
     "output_type": "stream",
     "text": [
      "C:\\Users\\user\\Anaconda3\\lib\\site-packages\\ipykernel_launcher.py:14: DeprecationWarning: time.clock has been deprecated in Python 3.3 and will be removed from Python 3.8: use time.perf_counter or time.process_time instead\n",
      "  \n"
     ]
    }
   ],
   "source": [
    "import time\n",
    "start =time.clock()\n",
    "\n",
    "ICA1 = FastICA(n_components=20,random_state=100) \n",
    "X_ICA1=ICA1.fit_transform(wavelength1)\n",
    "summary=0\n",
    "n=50\n",
    "for j in range(0,50):\n",
    "    xIca_train, xIca_test, yIca_train, yIca_test = train_test_split(X_ICA1,target, test_size=0.25)\n",
    "    xgboost.fit(xIca_train, yIca_train)\n",
    "    summary = accuracy_score(yIca_test, xgboost.predict(xIca_test))+summary\n",
    "a = summary/n\n",
    "\n",
    "end=time.clock()\n",
    "\n",
    "print('Running time: %s Seconds'%(end-start))"
   ]
  },
  {
   "cell_type": "code",
   "execution_count": 102,
   "metadata": {},
   "outputs": [
    {
     "name": "stderr",
     "output_type": "stream",
     "text": [
      "C:\\Users\\user\\Anaconda3\\lib\\site-packages\\ipykernel_launcher.py:2: DeprecationWarning: time.clock has been deprecated in Python 3.3 and will be removed from Python 3.8: use time.perf_counter or time.process_time instead\n",
      "  \n"
     ]
    },
    {
     "name": "stdout",
     "output_type": "stream",
     "text": [
      "Running time: 18.542309499999874 Seconds\n"
     ]
    },
    {
     "name": "stderr",
     "output_type": "stream",
     "text": [
      "C:\\Users\\user\\Anaconda3\\lib\\site-packages\\ipykernel_launcher.py:14: DeprecationWarning: time.clock has been deprecated in Python 3.3 and will be removed from Python 3.8: use time.perf_counter or time.process_time instead\n",
      "  \n"
     ]
    }
   ],
   "source": [
    "import time\n",
    "start =time.clock()\n",
    "\n",
    "ICA2 = FastICA(n_components=24,random_state=100) \n",
    "X_ICA2=ICA2.fit_transform(wavelength2)\n",
    "summary=0\n",
    "n=50\n",
    "for j in range(0,50):\n",
    "    xIca_train, xIca_test, yIca_train, yIca_test = train_test_split(X_ICA2,target, test_size=0.25)\n",
    "    xgboost.fit(xIca_train, yIca_train)\n",
    "    summary = accuracy_score(yIca_test, xgboost.predict(xIca_test))+summary\n",
    "b = summary/n\n",
    "\n",
    "end=time.clock()\n",
    "\n",
    "print('Running time: %s Seconds'%(end-start))"
   ]
  },
  {
   "cell_type": "code",
   "execution_count": 103,
   "metadata": {},
   "outputs": [],
   "source": [
    "# If also calculate the running time of GBDT using this method, we can find xgboost is much faster."
   ]
  },
  {
   "cell_type": "code",
   "execution_count": 104,
   "metadata": {},
   "outputs": [
    {
     "name": "stderr",
     "output_type": "stream",
     "text": [
      "C:\\Users\\user\\Anaconda3\\lib\\site-packages\\ipykernel_launcher.py:2: DeprecationWarning: time.clock has been deprecated in Python 3.3 and will be removed from Python 3.8: use time.perf_counter or time.process_time instead\n",
      "  \n"
     ]
    },
    {
     "name": "stdout",
     "output_type": "stream",
     "text": [
      "Running time: 45.70708680000007 Seconds\n"
     ]
    },
    {
     "name": "stderr",
     "output_type": "stream",
     "text": [
      "C:\\Users\\user\\Anaconda3\\lib\\site-packages\\ipykernel_launcher.py:15: DeprecationWarning: time.clock has been deprecated in Python 3.3 and will be removed from Python 3.8: use time.perf_counter or time.process_time instead\n",
      "  from ipykernel import kernelapp as app\n"
     ]
    }
   ],
   "source": [
    "import time\n",
    "start =time.clock()\n",
    "\n",
    "GradientBoosting1 = GradientBoostingClassifier(max_depth=3,n_estimators=50,learning_rate=0.05)\n",
    "ICA1 = FastICA(n_components=20,random_state=100) \n",
    "X_ICA1=ICA1.fit_transform(wavelength1)\n",
    "summary=0\n",
    "n=50\n",
    "for j in range(0,50):\n",
    "    xIca_train, xIca_test, yIca_train, yIca_test = train_test_split(X_ICA1,target, test_size=0.25)\n",
    "    GradientBoosting1.fit(xIca_train, yIca_train)\n",
    "    summary = accuracy_score(yIca_test, GradientBoosting1.predict(xIca_test))+summary\n",
    "a = summary/n\n",
    "\n",
    "end=time.clock()\n",
    "\n",
    "print('Running time: %s Seconds'%(end-start))"
   ]
  },
  {
   "cell_type": "code",
   "execution_count": 105,
   "metadata": {},
   "outputs": [
    {
     "name": "stderr",
     "output_type": "stream",
     "text": [
      "C:\\Users\\user\\Anaconda3\\lib\\site-packages\\ipykernel_launcher.py:2: DeprecationWarning: time.clock has been deprecated in Python 3.3 and will be removed from Python 3.8: use time.perf_counter or time.process_time instead\n",
      "  \n"
     ]
    },
    {
     "name": "stdout",
     "output_type": "stream",
     "text": [
      "Running time: 35.74968280000007 Seconds\n"
     ]
    },
    {
     "name": "stderr",
     "output_type": "stream",
     "text": [
      "C:\\Users\\user\\Anaconda3\\lib\\site-packages\\ipykernel_launcher.py:14: DeprecationWarning: time.clock has been deprecated in Python 3.3 and will be removed from Python 3.8: use time.perf_counter or time.process_time instead\n",
      "  \n"
     ]
    }
   ],
   "source": [
    "import time\n",
    "start =time.clock()\n",
    "\n",
    "GradientBoosting1 = GradientBoostingClassifier(max_depth=3,n_estimators=50,learning_rate=0.05)\n",
    "ICA2 = FastICA(n_components=24,random_state=100) \n",
    "X_ICA2=ICA2.fit_transform(wavelength2)\n",
    "summary=0\n",
    "n=50\n",
    "for j in range(0,50):\n",
    "    xIca_train, xIca_test, yIca_train, yIca_test = train_test_split(X_ICA2,target, test_size=0.25)\n",
    "    GradientBoosting1.fit(xIca_train, yIca_train)\n",
    "    summary = accuracy_score(yIca_test, GradientBoosting1.predict(xIca_test))+summary\n",
    "b = summary/n\n",
    "end=time.clock()\n",
    "\n",
    "print('Running time: %s Seconds'%(end-start))"
   ]
  },
  {
   "cell_type": "code",
   "execution_count": 106,
   "metadata": {},
   "outputs": [],
   "source": [
    "# Now I can find the classification effect is quite good, around 0.97.\n",
    "# and also find the suitable dimension.\n",
    "# For all the work, I also find the the xgboost model a little overfitting, and the parameters can be improved.\n",
    "# Now we consider this."
   ]
  },
  {
   "cell_type": "code",
   "execution_count": 107,
   "metadata": {},
   "outputs": [],
   "source": [
    "from sklearn.model_selection import GridSearchCV\n",
    "import xgboost as xgb"
   ]
  },
  {
   "cell_type": "code",
   "execution_count": 108,
   "metadata": {},
   "outputs": [],
   "source": [
    "# first consider the wavelength (400nm,900nm).\n",
    "# first try to find the suitable value of n_estimators."
   ]
  },
  {
   "cell_type": "code",
   "execution_count": 109,
   "metadata": {},
   "outputs": [],
   "source": [
    "xgboost = XGBClassifier(\n",
    "    n_estimators=50,\n",
    "    learning_rate =0.3,\n",
    "    max_depth=4,\n",
    "    min_child_weight=1,\n",
    "    gamma=0.2,\n",
    "    subsample=0.6,\n",
    "    colsample_bytree=0.8,\n",
    "    objective= 'binary:logistic',\n",
    "    nthread=12,\n",
    "    reg_lambda=1,\n",
    "    seed=27)"
   ]
  },
  {
   "cell_type": "code",
   "execution_count": 110,
   "metadata": {},
   "outputs": [
    {
     "name": "stderr",
     "output_type": "stream",
     "text": [
      "C:\\Users\\user\\Anaconda3\\lib\\site-packages\\sklearn\\model_selection\\_search.py:841: DeprecationWarning: The default of the `iid` parameter will change from True to False in version 0.22 and will be removed in 0.24. This will change numeric results when test-set sizes are unequal.\n",
      "  DeprecationWarning)\n"
     ]
    },
    {
     "name": "stdout",
     "output_type": "stream",
     "text": [
      "best parameter：{'n_estimators': 60}\n",
      "best score:0.9726516052318668\n"
     ]
    }
   ],
   "source": [
    "ICA = FastICA(n_components=20,random_state=100) \n",
    "X_ICA=ICA.fit_transform(wavelength1)\n",
    "\n",
    "cv_params = {'n_estimators': [20, 30, 40, 50, 60,70]}\n",
    "other_params = {\"learning_rate\": 0.3, \"max_depth\": 4, \"min_child_weight\": 1, \"gamma\": 0.2, \"subsample\": 0.6, \"colsample_bytree\": 0.8,\n",
    "                \"objective\": 'binary:logistic', \"nthread\": 12, \"reg_lambda\": 1, \"seed\": 27, \"n_estimators\": 50}\n",
    "\n",
    "model = xgb.XGBClassifier(**other_params)\n",
    "optimized_GBM = GridSearchCV(estimator=model, param_grid=cv_params, cv=30)\n",
    "optimized_GBM.fit(X_ICA, target)\n",
    "\n",
    "print('best parameter：{0}'.format(optimized_GBM.best_params_))\n",
    "print('best score:{0}'.format(optimized_GBM.best_score_))"
   ]
  },
  {
   "cell_type": "code",
   "execution_count": 111,
   "metadata": {},
   "outputs": [],
   "source": [
    "# Then lets think deeper for the n_estimators."
   ]
  },
  {
   "cell_type": "code",
   "execution_count": 112,
   "metadata": {},
   "outputs": [
    {
     "name": "stderr",
     "output_type": "stream",
     "text": [
      "C:\\Users\\user\\Anaconda3\\lib\\site-packages\\sklearn\\model_selection\\_search.py:841: DeprecationWarning: The default of the `iid` parameter will change from True to False in version 0.22 and will be removed in 0.24. This will change numeric results when test-set sizes are unequal.\n",
      "  DeprecationWarning)\n"
     ]
    },
    {
     "name": "stdout",
     "output_type": "stream",
     "text": [
      "best parameter：{'n_estimators': 62}\n",
      "best score:0.9750297265160524\n"
     ]
    }
   ],
   "source": [
    "ICA = FastICA(n_components=20,random_state=100) \n",
    "X_ICA=ICA.fit_transform(wavelength1)\n",
    "\n",
    "cv_params = {'n_estimators': [50,52,54,56,58,60,62,64,66,68,70]}\n",
    "other_params = {\"learning_rate\": 0.3, \"max_depth\": 4, \"min_child_weight\": 1, \"gamma\": 0.2, \"subsample\": 0.6, \"colsample_bytree\": 0.8,\n",
    "                \"objective\": 'binary:logistic', \"nthread\": 12, \"reg_lambda\": 1, \"seed\": 27, \"n_estimators\": 60}\n",
    "\n",
    "model = xgb.XGBClassifier(**other_params)\n",
    "optimized_GBM = GridSearchCV(estimator=model, param_grid=cv_params, cv=30)\n",
    "optimized_GBM.fit(X_ICA, target)\n",
    "\n",
    "print('best parameter：{0}'.format(optimized_GBM.best_params_))\n",
    "print('best score:{0}'.format(optimized_GBM.best_score_))"
   ]
  },
  {
   "cell_type": "code",
   "execution_count": 113,
   "metadata": {},
   "outputs": [],
   "source": [
    "# # so now I can choose the n_estimator = 62.\n",
    "# The we try to estimate the suitable value of max_depth and min_child_weight."
   ]
  },
  {
   "cell_type": "code",
   "execution_count": 114,
   "metadata": {},
   "outputs": [
    {
     "name": "stderr",
     "output_type": "stream",
     "text": [
      "C:\\Users\\user\\Anaconda3\\lib\\site-packages\\sklearn\\model_selection\\_search.py:841: DeprecationWarning: The default of the `iid` parameter will change from True to False in version 0.22 and will be removed in 0.24. This will change numeric results when test-set sizes are unequal.\n",
      "  DeprecationWarning)\n"
     ]
    },
    {
     "name": "stdout",
     "output_type": "stream",
     "text": [
      "best parameter：{'max_depth': 4, 'min_child_weight': 1}\n",
      "best score:0.9750297265160524\n"
     ]
    }
   ],
   "source": [
    "ICA = FastICA(n_components=20,random_state=100) \n",
    "X_ICA=ICA.fit_transform(wavelength1)\n",
    "\n",
    "cv_params = {'max_depth': [2, 3, 4, 5, 6, 7], 'min_child_weight': [1, 2, 3, 4, 5, 6]}\n",
    "other_params = {\"learning_rate\": 0.3, \"max_depth\": 4, \"min_child_weight\": 1, \"gamma\": 0.2, \"subsample\": 0.6, \"colsample_bytree\": 0.8,\n",
    "                \"objective\": 'binary:logistic', \"nthread\": 12, \"reg_lambda\": 1, \"seed\": 27, \"n_estimators\": 62}\n",
    "\n",
    "model = xgb.XGBClassifier(**other_params)\n",
    "optimized_GBM = GridSearchCV(estimator=model, param_grid=cv_params, cv=30)\n",
    "optimized_GBM.fit(X_ICA, target)\n",
    "\n",
    "print('best parameter：{0}'.format(optimized_GBM.best_params_))\n",
    "print('best score:{0}'.format(optimized_GBM.best_score_))"
   ]
  },
  {
   "cell_type": "code",
   "execution_count": 115,
   "metadata": {},
   "outputs": [],
   "source": [
    "# so now I can choose the max_depth =  4, the min_child_weight = 1.\n",
    "# Then we try to estimate the best value of gamma."
   ]
  },
  {
   "cell_type": "code",
   "execution_count": 116,
   "metadata": {},
   "outputs": [
    {
     "name": "stderr",
     "output_type": "stream",
     "text": [
      "C:\\Users\\user\\Anaconda3\\lib\\site-packages\\sklearn\\model_selection\\_search.py:841: DeprecationWarning: The default of the `iid` parameter will change from True to False in version 0.22 and will be removed in 0.24. This will change numeric results when test-set sizes are unequal.\n",
      "  DeprecationWarning)\n"
     ]
    },
    {
     "name": "stdout",
     "output_type": "stream",
     "text": [
      "best parameter：{'gamma': 0.2}\n",
      "best score:0.9750297265160524\n"
     ]
    }
   ],
   "source": [
    "ICA = FastICA(n_components=20,random_state=100) \n",
    "X_ICA=ICA.fit_transform(wavelength1)\n",
    "\n",
    "cv_params = {'gamma': [0.1, 0.2, 0.3, 0.4, 0.5, 0.6]}\n",
    "other_params = {\"learning_rate\": 0.3, \"max_depth\": 4, \"min_child_weight\": 1, \"gamma\": 0.2, \"subsample\": 0.6, \"colsample_bytree\": 0.8,\n",
    "                \"objective\": 'binary:logistic', \"nthread\": 12, \"reg_lambda\": 1, \"seed\": 27, \"n_estimators\": 62}\n",
    "\n",
    "model = xgb.XGBClassifier(**other_params)\n",
    "optimized_GBM = GridSearchCV(estimator=model, param_grid=cv_params, cv=30)\n",
    "optimized_GBM.fit(X_ICA, target)\n",
    "\n",
    "print('best parameter：{0}'.format(optimized_GBM.best_params_))\n",
    "print('best score:{0}'.format(optimized_GBM.best_score_))"
   ]
  },
  {
   "cell_type": "code",
   "execution_count": 117,
   "metadata": {},
   "outputs": [],
   "source": [
    "# Now let us consider further."
   ]
  },
  {
   "cell_type": "code",
   "execution_count": 118,
   "metadata": {},
   "outputs": [
    {
     "name": "stderr",
     "output_type": "stream",
     "text": [
      "C:\\Users\\user\\Anaconda3\\lib\\site-packages\\sklearn\\model_selection\\_search.py:841: DeprecationWarning: The default of the `iid` parameter will change from True to False in version 0.22 and will be removed in 0.24. This will change numeric results when test-set sizes are unequal.\n",
      "  DeprecationWarning)\n"
     ]
    },
    {
     "name": "stdout",
     "output_type": "stream",
     "text": [
      "best parameter：{'gamma': 0.2}\n",
      "best score:0.9750297265160524\n"
     ]
    }
   ],
   "source": [
    "ICA = FastICA(n_components=20,random_state=100) \n",
    "X_ICA=ICA.fit_transform(wavelength1)\n",
    "\n",
    "cv_params = {'gamma': [0.1,0.12,0.14,0.16,0.18,0.2,0.22,0.24,0.26,0.28,0.3]}\n",
    "other_params = {\"learning_rate\": 0.3, \"max_depth\": 4, \"min_child_weight\": 1, \"gamma\": 0.2, \"subsample\": 0.6, \"colsample_bytree\": 0.8,\n",
    "                \"objective\": 'binary:logistic', \"nthread\": 12, \"reg_lambda\": 1, \"seed\": 27, \"n_estimators\": 62}\n",
    "\n",
    "model = xgb.XGBClassifier(**other_params)\n",
    "optimized_GBM = GridSearchCV(estimator=model, param_grid=cv_params, cv=30)\n",
    "optimized_GBM.fit(X_ICA, target)\n",
    "\n",
    "print('best parameter：{0}'.format(optimized_GBM.best_params_))\n",
    "print('best score:{0}'.format(optimized_GBM.best_score_))"
   ]
  },
  {
   "cell_type": "code",
   "execution_count": 119,
   "metadata": {},
   "outputs": [],
   "source": [
    "# so now we can choose gamma = 0.2.\n",
    "# Then we can try to estimate subsample and colsample_bytree."
   ]
  },
  {
   "cell_type": "code",
   "execution_count": 120,
   "metadata": {},
   "outputs": [
    {
     "name": "stderr",
     "output_type": "stream",
     "text": [
      "C:\\Users\\user\\Anaconda3\\lib\\site-packages\\sklearn\\model_selection\\_search.py:841: DeprecationWarning: The default of the `iid` parameter will change from True to False in version 0.22 and will be removed in 0.24. This will change numeric results when test-set sizes are unequal.\n",
      "  DeprecationWarning)\n"
     ]
    },
    {
     "name": "stdout",
     "output_type": "stream",
     "text": [
      "best parameter：{'colsample_bytree': 0.8, 'subsample': 0.6}\n",
      "best score:0.9750297265160524\n"
     ]
    }
   ],
   "source": [
    "ICA = FastICA(n_components=20,random_state=100) \n",
    "X_ICA=ICA.fit_transform(wavelength1)\n",
    "\n",
    "cv_params = {'subsample': [0.4,0.5,0.6, 0.7, 0.8, 0.9], 'colsample_bytree': [0.3, 0.4, 0.5, 0.6, 0.7, 0.8, 0.9]}\n",
    "other_params = {\"learning_rate\": 0.3, \"max_depth\": 4, \"min_child_weight\": 1, \"gamma\": 0.2, \"subsample\": 0.6, \"colsample_bytree\": 0.8,\n",
    "                \"objective\": 'binary:logistic', \"nthread\": 12, \"reg_lambda\": 1, \"seed\": 27, \"n_estimators\": 62}\n",
    "\n",
    "model = xgb.XGBClassifier(**other_params)\n",
    "optimized_GBM = GridSearchCV(estimator=model, param_grid=cv_params, cv=30)\n",
    "optimized_GBM.fit(X_ICA, target)\n",
    "\n",
    "print('best parameter：{0}'.format(optimized_GBM.best_params_))\n",
    "print('best score:{0}'.format(optimized_GBM.best_score_))"
   ]
  },
  {
   "cell_type": "code",
   "execution_count": 121,
   "metadata": {},
   "outputs": [],
   "source": [
    "# Then we can choose subsample = 0.6 , and colsample_bytree = 0.8 .\n",
    "# Next step we try to estimate reg_lambda."
   ]
  },
  {
   "cell_type": "code",
   "execution_count": 122,
   "metadata": {},
   "outputs": [
    {
     "name": "stderr",
     "output_type": "stream",
     "text": [
      "C:\\Users\\user\\Anaconda3\\lib\\site-packages\\sklearn\\model_selection\\_search.py:841: DeprecationWarning: The default of the `iid` parameter will change from True to False in version 0.22 and will be removed in 0.24. This will change numeric results when test-set sizes are unequal.\n",
      "  DeprecationWarning)\n"
     ]
    },
    {
     "name": "stdout",
     "output_type": "stream",
     "text": [
      "best parameter：{'reg_lambda': 1}\n",
      "best score:0.9750297265160524\n"
     ]
    }
   ],
   "source": [
    "ICA = FastICA(n_components=20,random_state=100) \n",
    "X_ICA=ICA.fit_transform(wavelength1)\n",
    "\n",
    "cv_params = {'reg_lambda': [0.05, 0.1, 0.5, 0.8, 1, 1.2, 1.5, 2, 3]}\n",
    "other_params = {\"learning_rate\": 0.3, \"max_depth\": 4, \"min_child_weight\": 1, \"gamma\": 0.2, \"subsample\": 0.6, \"colsample_bytree\": 0.8,\n",
    "                \"objective\": 'binary:logistic', \"nthread\": 12, \"reg_lambda\": 1, \"seed\": 27, \"n_estimators\": 62}\n",
    "\n",
    "model = xgb.XGBClassifier(**other_params)\n",
    "optimized_GBM = GridSearchCV(estimator=model, param_grid=cv_params, cv=30)\n",
    "optimized_GBM.fit(X_ICA, target)\n",
    "\n",
    "print('best parameter：{0}'.format(optimized_GBM.best_params_))\n",
    "print('best score:{0}'.format(optimized_GBM.best_score_))"
   ]
  },
  {
   "cell_type": "code",
   "execution_count": 123,
   "metadata": {},
   "outputs": [],
   "source": [
    "# Now the suitablle value of reg_lambda is about 1.\n",
    "# Next is the last step and I should estimate the suitable value of learning_rate."
   ]
  },
  {
   "cell_type": "code",
   "execution_count": 124,
   "metadata": {},
   "outputs": [
    {
     "name": "stderr",
     "output_type": "stream",
     "text": [
      "C:\\Users\\user\\Anaconda3\\lib\\site-packages\\sklearn\\model_selection\\_search.py:841: DeprecationWarning: The default of the `iid` parameter will change from True to False in version 0.22 and will be removed in 0.24. This will change numeric results when test-set sizes are unequal.\n",
      "  DeprecationWarning)\n"
     ]
    },
    {
     "name": "stdout",
     "output_type": "stream",
     "text": [
      "best parameter：{'learning_rate': 0.3}\n",
      "best score:0.9750297265160524\n"
     ]
    }
   ],
   "source": [
    "ICA = FastICA(n_components=20,random_state=100) \n",
    "X_ICA=ICA.fit_transform(wavelength1)\n",
    "\n",
    "cv_params = {'learning_rate': [0.01, 0.05, 0.07, 0.1, 0.2, 0.3, 0.4, 0.5, 0.6, 0.7, 0.8, 0.9, 1]}\n",
    "other_params = {\"learning_rate\": 0.3, \"max_depth\": 4, \"min_child_weight\": 1, \"gamma\": 0.2, \"subsample\": 0.6, \"colsample_bytree\": 0.8,\n",
    "                \"objective\": 'binary:logistic', \"nthread\": 12, \"reg_lambda\": 1, \"seed\": 27, \"n_estimators\": 62}\n",
    "\n",
    "model = xgb.XGBClassifier(**other_params)\n",
    "optimized_GBM = GridSearchCV(estimator=model, param_grid=cv_params, cv=30)\n",
    "optimized_GBM.fit(X_ICA, target)\n",
    "\n",
    "print('best parameter：{0}'.format(optimized_GBM.best_params_))\n",
    "print('best score:{0}'.format(optimized_GBM.best_score_))"
   ]
  },
  {
   "cell_type": "code",
   "execution_count": 133,
   "metadata": {},
   "outputs": [],
   "source": [
    "# so the learning_rate = 0.3 is a good choice.\n",
    "# Now here is the new classifier model.\n",
    "Xgboost = XGBClassifier(\n",
    "    n_estimators=62,\n",
    "    learning_rate =0.3,\n",
    "    max_depth=4,\n",
    "    min_child_weight=1,\n",
    "    gamma=0.2,\n",
    "    subsample=0.6,\n",
    "    colsample_bytree=0.8,\n",
    "    objective= 'binary:logistic',\n",
    "    nthread=12,\n",
    "    reg_lambda=1,\n",
    "    seed=27)\n",
    "\n",
    "ICA = FastICA(n_components=20,random_state=100) \n",
    "X_ICA=ICA.fit_transform(wavelength1)"
   ]
  },
  {
   "cell_type": "code",
   "execution_count": 134,
   "metadata": {},
   "outputs": [],
   "source": [
    "# Then test the accuracy again."
   ]
  },
  {
   "cell_type": "code",
   "execution_count": 135,
   "metadata": {},
   "outputs": [
    {
     "data": {
      "text/plain": [
       "0.9606635071090048"
      ]
     },
     "execution_count": 135,
     "metadata": {},
     "output_type": "execute_result"
    }
   ],
   "source": [
    "summary=0\n",
    "n=50\n",
    "for j in range(0,50):\n",
    "    xIca_train, xIca_test, yIca_train, yIca_test = train_test_split(X_ICA,target, test_size=0.25)\n",
    "    Xgboost.fit(xIca_train, yIca_train)\n",
    "    summary = accuracy_score(yIca_test, Xgboost.predict(xIca_test))+summary\n",
    "average = summary/n\n",
    "average"
   ]
  },
  {
   "cell_type": "code",
   "execution_count": 128,
   "metadata": {},
   "outputs": [],
   "source": [
    "# So I can find the accuracy just improved a little, around 0.96.\n",
    "# Now we can see the accuracy, kappa again, in addition we can also see the confuse matrix."
   ]
  },
  {
   "cell_type": "code",
   "execution_count": 162,
   "metadata": {},
   "outputs": [
    {
     "name": "stdout",
     "output_type": "stream",
     "text": [
      "accuracy_train： 1.0\n",
      "accuracy_test： 0.976303317535545\n",
      "Kappa_train： 1.0\n",
      "Kappa_test： 0.9649233633673571\n",
      "F1_train： 1.0\n",
      "F1_test： 0.9762301643441021\n",
      "confusion_matrix_train：\n",
      "[[247   0   0   0]\n",
      " [  0  35   0   0]\n",
      " [  0   0 192   0]\n",
      " [  0   0   0 156]]\n",
      "confusion_matrix_test：\n",
      "[[83  0  0  0]\n",
      " [ 0  5  1  0]\n",
      " [ 1  0 57  0]\n",
      " [ 0  0  3 61]]\n"
     ]
    }
   ],
   "source": [
    "from sklearn.metrics import f1_score\n",
    "xIca_train, xIca_test, yIca_train, yIca_test = train_test_split(X_ICA,target, test_size=0.25)\n",
    "Xgboost.fit(xIca_train, yIca_train)\n",
    "print ('accuracy_train：', accuracy_score(yIca_train, Xgboost.predict(xIca_train)))\n",
    "print ('accuracy_test：', accuracy_score(yIca_test, Xgboost.predict(xIca_test)))\n",
    "print ('Kappa_train：', cohen_kappa_score(yIca_train, Xgboost.predict(xIca_train)))\n",
    "print ('Kappa_test：', cohen_kappa_score(yIca_test, Xgboost.predict(xIca_test)))\n",
    "print ('F1_train：', f1_score(yIca_train, Xgboost.predict(xIca_train),average='weighted'))\n",
    "print ('F1_test：', f1_score(yIca_test, Xgboost.predict(xIca_test),average='weighted'))\n",
    "\n",
    "print ('confusion_matrix_train：')\n",
    "print ( confusion_matrix(yIca_train, Xgboost.predict(xIca_train)))\n",
    "print ('confusion_matrix_test：')\n",
    "print ( confusion_matrix(yIca_test, Xgboost.predict(xIca_test)))"
   ]
  },
  {
   "cell_type": "code",
   "execution_count": 130,
   "metadata": {},
   "outputs": [],
   "source": [
    "# Now consider the other wavelength range.\n",
    "# first try to find the suitable value of n_estimators."
   ]
  },
  {
   "cell_type": "code",
   "execution_count": 137,
   "metadata": {},
   "outputs": [],
   "source": [
    "xgboost = XGBClassifier(\n",
    "    n_estimators=50,\n",
    "    learning_rate =0.3,\n",
    "    max_depth=4,\n",
    "    min_child_weight=1,\n",
    "    gamma=0.2,\n",
    "    subsample=0.6,\n",
    "    colsample_bytree=0.8,\n",
    "    objective= 'binary:logistic',\n",
    "    nthread=12,\n",
    "    reg_lambda=1,\n",
    "    seed=27)"
   ]
  },
  {
   "cell_type": "code",
   "execution_count": 138,
   "metadata": {},
   "outputs": [
    {
     "name": "stdout",
     "output_type": "stream",
     "text": [
      "best parameter：{'n_estimators': 80}\n",
      "best score:0.976218787158145\n"
     ]
    }
   ],
   "source": [
    "ICA = FastICA(n_components=24,random_state=100) \n",
    "X_ICA=ICA.fit_transform(wavelength2)\n",
    "\n",
    "cv_params = {'n_estimators': [20, 30, 40, 50, 60,70 ,80, 90, 100]}\n",
    "other_params = {\"learning_rate\": 0.3, \"max_depth\": 4, \"min_child_weight\": 1, \"gamma\": 0.2, \"subsample\": 0.6, \"colsample_bytree\": 0.8,\n",
    "                \"objective\": 'binary:logistic', \"nthread\": 12, \"reg_lambda\": 1, \"seed\": 27, \"n_estimators\": 50}\n",
    "\n",
    "model = xgb.XGBClassifier(**other_params)\n",
    "optimized_GBM = GridSearchCV(estimator=model, param_grid=cv_params, cv=30)\n",
    "optimized_GBM.fit(X_ICA, target)\n",
    "\n",
    "print('best parameter：{0}'.format(optimized_GBM.best_params_))\n",
    "print('best score:{0}'.format(optimized_GBM.best_score_))"
   ]
  },
  {
   "cell_type": "code",
   "execution_count": 139,
   "metadata": {},
   "outputs": [],
   "source": [
    "# Then think further for n_estimators."
   ]
  },
  {
   "cell_type": "code",
   "execution_count": 140,
   "metadata": {},
   "outputs": [
    {
     "name": "stdout",
     "output_type": "stream",
     "text": [
      "best parameter：{'n_estimators': 78}\n",
      "best score:0.976218787158145\n"
     ]
    }
   ],
   "source": [
    "ICA = FastICA(n_components=24,random_state=100) \n",
    "X_ICA=ICA.fit_transform(wavelength2)\n",
    "\n",
    "cv_params = {'n_estimators': [74,76,78,80,82,84,86]}\n",
    "other_params = {\"learning_rate\": 0.3, \"max_depth\": 4, \"min_child_weight\": 1, \"gamma\": 0.2, \"subsample\": 0.6, \"colsample_bytree\": 0.8,\n",
    "                \"objective\": 'binary:logistic', \"nthread\": 12, \"reg_lambda\": 1, \"seed\": 27, \"n_estimators\": 80}\n",
    "\n",
    "model = xgb.XGBClassifier(**other_params)\n",
    "optimized_GBM = GridSearchCV(estimator=model, param_grid=cv_params, cv=30)\n",
    "optimized_GBM.fit(X_ICA, target)\n",
    "\n",
    "print('best parameter：{0}'.format(optimized_GBM.best_params_))\n",
    "print('best score:{0}'.format(optimized_GBM.best_score_))"
   ]
  },
  {
   "cell_type": "code",
   "execution_count": 141,
   "metadata": {},
   "outputs": [],
   "source": [
    "# # so now I can choose the n_estimator = 78.\n",
    "# The we try to estimate the suitable value of max_depth and min_child_weight."
   ]
  },
  {
   "cell_type": "code",
   "execution_count": 142,
   "metadata": {},
   "outputs": [
    {
     "name": "stderr",
     "output_type": "stream",
     "text": [
      "C:\\Users\\user\\Anaconda3\\lib\\site-packages\\sklearn\\model_selection\\_search.py:841: DeprecationWarning: The default of the `iid` parameter will change from True to False in version 0.22 and will be removed in 0.24. This will change numeric results when test-set sizes are unequal.\n",
      "  DeprecationWarning)\n"
     ]
    },
    {
     "name": "stdout",
     "output_type": "stream",
     "text": [
      "best parameter：{'max_depth': 4, 'min_child_weight': 1}\n",
      "best score:0.976218787158145\n"
     ]
    }
   ],
   "source": [
    "ICA = FastICA(n_components=24,random_state=100) \n",
    "X_ICA=ICA.fit_transform(wavelength2)\n",
    "\n",
    "cv_params = {'max_depth': [2, 3, 4, 5, 6, 7], 'min_child_weight': [1, 2, 3, 4, 5, 6]}\n",
    "other_params = {\"learning_rate\": 0.3, \"max_depth\": 4, \"min_child_weight\": 1, \"gamma\": 0.2, \"subsample\": 0.6, \"colsample_bytree\": 0.8,\n",
    "                \"objective\": 'binary:logistic', \"nthread\": 12, \"reg_lambda\": 1, \"seed\": 27, \"n_estimators\":78 }\n",
    "\n",
    "model = xgb.XGBClassifier(**other_params)\n",
    "optimized_GBM = GridSearchCV(estimator=model, param_grid=cv_params, cv=30)\n",
    "optimized_GBM.fit(X_ICA, target)\n",
    "\n",
    "print('best parameter：{0}'.format(optimized_GBM.best_params_))\n",
    "print('best score:{0}'.format(optimized_GBM.best_score_))"
   ]
  },
  {
   "cell_type": "code",
   "execution_count": 143,
   "metadata": {},
   "outputs": [],
   "source": [
    "# so now I can choose the max_depth =  4, the min_child_weight = 1.\n",
    "# Then we try to estimate the best value of gamma."
   ]
  },
  {
   "cell_type": "code",
   "execution_count": 144,
   "metadata": {},
   "outputs": [
    {
     "name": "stderr",
     "output_type": "stream",
     "text": [
      "C:\\Users\\user\\Anaconda3\\lib\\site-packages\\sklearn\\model_selection\\_search.py:841: DeprecationWarning: The default of the `iid` parameter will change from True to False in version 0.22 and will be removed in 0.24. This will change numeric results when test-set sizes are unequal.\n",
      "  DeprecationWarning)\n"
     ]
    },
    {
     "name": "stdout",
     "output_type": "stream",
     "text": [
      "best parameter：{'gamma': 0.2}\n",
      "best score:0.976218787158145\n"
     ]
    }
   ],
   "source": [
    "ICA = FastICA(n_components=24,random_state=100) \n",
    "X_ICA=ICA.fit_transform(wavelength2)\n",
    "\n",
    "cv_params = {'gamma': [0.1, 0.2, 0.3, 0.4, 0.5, 0.6]}\n",
    "other_params = {\"learning_rate\": 0.3, \"max_depth\": 4, \"min_child_weight\": 1, \"gamma\": 0.2, \"subsample\": 0.6, \"colsample_bytree\": 0.8,\n",
    "                \"objective\": 'binary:logistic', \"nthread\": 12, \"reg_lambda\": 1, \"seed\": 27, \"n_estimators\":78 }\n",
    "\n",
    "model = xgb.XGBClassifier(**other_params)\n",
    "optimized_GBM = GridSearchCV(estimator=model, param_grid=cv_params, cv=30)\n",
    "optimized_GBM.fit(X_ICA, target)\n",
    "\n",
    "print('best parameter：{0}'.format(optimized_GBM.best_params_))\n",
    "print('best score:{0}'.format(optimized_GBM.best_score_))"
   ]
  },
  {
   "cell_type": "code",
   "execution_count": 146,
   "metadata": {},
   "outputs": [],
   "source": [
    "# Then consider further for gamma."
   ]
  },
  {
   "cell_type": "code",
   "execution_count": 145,
   "metadata": {},
   "outputs": [
    {
     "name": "stderr",
     "output_type": "stream",
     "text": [
      "C:\\Users\\user\\Anaconda3\\lib\\site-packages\\sklearn\\model_selection\\_search.py:841: DeprecationWarning: The default of the `iid` parameter will change from True to False in version 0.22 and will be removed in 0.24. This will change numeric results when test-set sizes are unequal.\n",
      "  DeprecationWarning)\n"
     ]
    },
    {
     "name": "stdout",
     "output_type": "stream",
     "text": [
      "best parameter：{'gamma': 0.22}\n",
      "best score:0.9678953626634959\n"
     ]
    }
   ],
   "source": [
    "ICA = FastICA(n_components=20,random_state=100) \n",
    "X_ICA=ICA.fit_transform(wavelength2)\n",
    "\n",
    "cv_params = {'gamma': [0.1,0.12,0.14,0.16,0.18,0.2,0.22,0.24,0.26,0.28,0.3]}\n",
    "other_params = {\"learning_rate\": 0.3, \"max_depth\": 4, \"min_child_weight\": 1, \"gamma\": 0.2, \"subsample\": 0.6, \"colsample_bytree\": 0.8,\n",
    "                \"objective\": 'binary:logistic', \"nthread\": 12, \"reg_lambda\": 1, \"seed\": 27, \"n_estimators\": 78}\n",
    "\n",
    "model = xgb.XGBClassifier(**other_params)\n",
    "optimized_GBM = GridSearchCV(estimator=model, param_grid=cv_params, cv=30)\n",
    "optimized_GBM.fit(X_ICA, target)\n",
    "\n",
    "print('best parameter：{0}'.format(optimized_GBM.best_params_))\n",
    "print('best score:{0}'.format(optimized_GBM.best_score_))"
   ]
  },
  {
   "cell_type": "code",
   "execution_count": 147,
   "metadata": {},
   "outputs": [],
   "source": [
    "# so now we can choose gamma = 0.22.\n",
    "# Then we can try to estimate subsample and colsample_bytree."
   ]
  },
  {
   "cell_type": "code",
   "execution_count": 148,
   "metadata": {},
   "outputs": [
    {
     "name": "stderr",
     "output_type": "stream",
     "text": [
      "C:\\Users\\user\\Anaconda3\\lib\\site-packages\\sklearn\\model_selection\\_search.py:841: DeprecationWarning: The default of the `iid` parameter will change from True to False in version 0.22 and will be removed in 0.24. This will change numeric results when test-set sizes are unequal.\n",
      "  DeprecationWarning)\n"
     ]
    },
    {
     "name": "stdout",
     "output_type": "stream",
     "text": [
      "best parameter：{'colsample_bytree': 0.3, 'subsample': 0.6}\n",
      "best score:0.9809750297265161\n"
     ]
    }
   ],
   "source": [
    "ICA = FastICA(n_components=24,random_state=100) \n",
    "X_ICA=ICA.fit_transform(wavelength2)\n",
    "\n",
    "cv_params = {'subsample': [0.4,0.5,0.6, 0.7, 0.8, 0.9], 'colsample_bytree': [0.3, 0.4, 0.5, 0.6, 0.7, 0.8, 0.9]}\n",
    "other_params = {\"learning_rate\": 0.3, \"max_depth\": 4, \"min_child_weight\": 1, \"gamma\": 0.22, \"subsample\": 0.6, \"colsample_bytree\": 0.8,\n",
    "                \"objective\": 'binary:logistic', \"nthread\": 12, \"reg_lambda\": 1, \"seed\": 27, \"n_estimators\":78 }\n",
    "\n",
    "model = xgb.XGBClassifier(**other_params)\n",
    "optimized_GBM = GridSearchCV(estimator=model, param_grid=cv_params, cv=30)\n",
    "optimized_GBM.fit(X_ICA, target)\n",
    "\n",
    "print('best parameter：{0}'.format(optimized_GBM.best_params_))\n",
    "print('best score:{0}'.format(optimized_GBM.best_score_))"
   ]
  },
  {
   "cell_type": "code",
   "execution_count": 150,
   "metadata": {},
   "outputs": [],
   "source": [
    "# Then we can choose subsample = 0.6 , and colsample_bytree = 0.3 .\n",
    "# Next step we try to estimate reg_lambda."
   ]
  },
  {
   "cell_type": "code",
   "execution_count": 149,
   "metadata": {},
   "outputs": [
    {
     "name": "stdout",
     "output_type": "stream",
     "text": [
      "best parameter：{'reg_lambda': 0.05}\n",
      "best score:0.9821640903686087\n"
     ]
    }
   ],
   "source": [
    "ICA = FastICA(n_components=24,random_state=100) \n",
    "X_ICA=ICA.fit_transform(wavelength2)\n",
    "\n",
    "cv_params = {'reg_lambda': [0.05, 0.1, 0.5, 0.8, 1, 1.2, 1.5, 2, 3]}\n",
    "other_params = {\"learning_rate\": 0.3, \"max_depth\": 4, \"min_child_weight\": 1, \"gamma\": 0.22, \"subsample\": 0.6, \"colsample_bytree\": 0.3,\n",
    "                \"objective\": 'binary:logistic', \"nthread\": 12, \"reg_lambda\": 1, \"seed\": 27, \"n_estimators\":78 }\n",
    "\n",
    "model = xgb.XGBClassifier(**other_params)\n",
    "optimized_GBM = GridSearchCV(estimator=model, param_grid=cv_params, cv=30)\n",
    "optimized_GBM.fit(X_ICA, target)\n",
    "\n",
    "print('best parameter：{0}'.format(optimized_GBM.best_params_))\n",
    "print('best score:{0}'.format(optimized_GBM.best_score_))"
   ]
  },
  {
   "cell_type": "code",
   "execution_count": 151,
   "metadata": {},
   "outputs": [],
   "source": [
    "# Now the suitablle value of reg_lambda is about 0.05.\n",
    "# Next is the last step and I should estimate the suitable value of learning_rate."
   ]
  },
  {
   "cell_type": "code",
   "execution_count": 153,
   "metadata": {},
   "outputs": [
    {
     "name": "stderr",
     "output_type": "stream",
     "text": [
      "C:\\Users\\user\\Anaconda3\\lib\\site-packages\\sklearn\\model_selection\\_search.py:841: DeprecationWarning: The default of the `iid` parameter will change from True to False in version 0.22 and will be removed in 0.24. This will change numeric results when test-set sizes are unequal.\n",
      "  DeprecationWarning)\n"
     ]
    },
    {
     "name": "stdout",
     "output_type": "stream",
     "text": [
      "best parameter：{'learning_rate': 0.3}\n",
      "best score:0.9821640903686087\n"
     ]
    }
   ],
   "source": [
    "ICA = FastICA(n_components=24,random_state=100) \n",
    "X_ICA=ICA.fit_transform(wavelength2)\n",
    "\n",
    "cv_params = {'learning_rate': [0.01, 0.05, 0.07, 0.1, 0.2, 0.3, 0.4, 0.5, 0.6, 0.7, 0.8, 0.9, 1]}\n",
    "other_params = {\"learning_rate\": 0.3, \"max_depth\": 4, \"min_child_weight\": 1, \"gamma\": 0.22, \"subsample\": 0.6, \"colsample_bytree\": 0.3,\n",
    "                \"objective\": 'binary:logistic', \"nthread\": 12, \"reg_lambda\": 0.05, \"seed\": 27, \"n_estimators\":78 }\n",
    "\n",
    "model = xgb.XGBClassifier(**other_params)\n",
    "optimized_GBM = GridSearchCV(estimator=model, param_grid=cv_params, cv=30)\n",
    "optimized_GBM.fit(X_ICA, target)\n",
    "\n",
    "print('best parameter：{0}'.format(optimized_GBM.best_params_))\n",
    "print('best score:{0}'.format(optimized_GBM.best_score_))"
   ]
  },
  {
   "cell_type": "code",
   "execution_count": 154,
   "metadata": {},
   "outputs": [],
   "source": [
    "# so the learning_rate = 0.3 is a good choice.\n",
    "# Now here is the new classifier model.\n",
    "xgboost = XGBClassifier(\n",
    "    n_estimators=78,\n",
    "    learning_rate =0.3,\n",
    "    max_depth=4,\n",
    "    min_child_weight=1,\n",
    "    gamma=0.22,\n",
    "    subsample=0.6,\n",
    "    colsample_bytree=0.3,\n",
    "    objective= 'binary:logistic',\n",
    "    nthread=12,\n",
    "    reg_lambda=0.05,\n",
    "    seed=27)\n",
    "\n",
    "ICA = FastICA(n_components=24,random_state=100) \n",
    "X_ICA=ICA.fit_transform(wavelength2)"
   ]
  },
  {
   "cell_type": "code",
   "execution_count": 155,
   "metadata": {},
   "outputs": [],
   "source": [
    "# Then test the accuracy again"
   ]
  },
  {
   "cell_type": "code",
   "execution_count": 156,
   "metadata": {},
   "outputs": [
    {
     "data": {
      "text/plain": [
       "0.9750710900473929"
      ]
     },
     "execution_count": 156,
     "metadata": {},
     "output_type": "execute_result"
    }
   ],
   "source": [
    "summary=0\n",
    "n=50\n",
    "for j in range(0,50):\n",
    "    xIca_train, xIca_test, yIca_train, yIca_test = train_test_split(X_ICA,target, test_size=0.25)\n",
    "    xgboost.fit(xIca_train, yIca_train)\n",
    "    summary = accuracy_score(yIca_test, xgboost.predict(xIca_test))+summary\n",
    "average = summary/n\n",
    "average"
   ]
  },
  {
   "cell_type": "code",
   "execution_count": 157,
   "metadata": {},
   "outputs": [],
   "source": [
    "# So I can find the accuracy just improved a little, around 0.97.\n",
    "# Now we can see the accuracy, kappa again, in addition we can also see the confuse matrix and F1 score."
   ]
  },
  {
   "cell_type": "code",
   "execution_count": 161,
   "metadata": {},
   "outputs": [
    {
     "name": "stdout",
     "output_type": "stream",
     "text": [
      "accuracy_train： 1.0\n",
      "accuracy_test： 0.976303317535545\n",
      "Kappa_train： 1.0\n",
      "Kappa_test： 0.9654494841984608\n",
      "F1_train： 1.0\n",
      "F1_test： 0.9762044603127692\n",
      "confusion_matrix_train：\n",
      "[[247   0   0   0]\n",
      " [  0  30   0   0]\n",
      " [  0   0 188   0]\n",
      " [  0   0   0 165]]\n",
      "confusion_matrix_test：\n",
      "[[83  0  0  0]\n",
      " [ 0 10  0  1]\n",
      " [ 2  0 59  1]\n",
      " [ 1  0  0 54]]\n"
     ]
    }
   ],
   "source": [
    "from sklearn.metrics import f1_score\n",
    "xIca_train, xIca_test, yIca_train, yIca_test = train_test_split(X_ICA,target, test_size=0.25)\n",
    "xgboost.fit(xIca_train, yIca_train)\n",
    "print ('accuracy_train：', accuracy_score(yIca_train, xgboost.predict(xIca_train)))\n",
    "print ('accuracy_test：', accuracy_score(yIca_test, xgboost.predict(xIca_test)))\n",
    "print ('Kappa_train：', cohen_kappa_score(yIca_train, xgboost.predict(xIca_train)))\n",
    "print ('Kappa_test：', cohen_kappa_score(yIca_test, xgboost.predict(xIca_test)))\n",
    "print ('F1_train：', f1_score(yIca_train, xgboost.predict(xIca_train),average='weighted'))\n",
    "print ('F1_test：', f1_score(yIca_test, xgboost.predict(xIca_test),average='weighted'))\n",
    "\n",
    "print ('confusion_matrix_train：')\n",
    "print ( confusion_matrix(yIca_train, xgboost.predict(xIca_train)))\n",
    "print ('confusion_matrix_test：')\n",
    "print ( confusion_matrix(yIca_test, xgboost.predict(xIca_test)))"
   ]
  },
  {
   "cell_type": "code",
   "execution_count": 163,
   "metadata": {},
   "outputs": [],
   "source": [
    "# then we can also see how the tree is. Just as the coffee data code.\n",
    "# now we don't plot the tree here."
   ]
  }
 ],
 "metadata": {
  "kernelspec": {
   "display_name": "Python 3",
   "language": "python",
   "name": "python3"
  },
  "language_info": {
   "codemirror_mode": {
    "name": "ipython",
    "version": 3
   },
   "file_extension": ".py",
   "mimetype": "text/x-python",
   "name": "python",
   "nbconvert_exporter": "python",
   "pygments_lexer": "ipython3",
   "version": "3.7.3"
  }
 },
 "nbformat": 4,
 "nbformat_minor": 2
}
