{
 "cells": [
  {
   "cell_type": "code",
   "execution_count": 212,
   "metadata": {},
   "outputs": [],
   "source": [
    "# coffee data summary"
   ]
  },
  {
   "cell_type": "code",
   "execution_count": 213,
   "metadata": {},
   "outputs": [],
   "source": [
    "from sklearn.decomposition import PCA\n",
    "import numpy as np\n",
    "from pandas import DataFrame \n",
    "import pandas as pd\n",
    "import matplotlib.pyplot as plt\n",
    "from scipy import stats\n",
    "from sklearn.decomposition import FastICA\n",
    "from sklearn.manifold import TSNE \n",
    "from sklearn.discriminant_analysis import LinearDiscriminantAnalysis\n",
    "from sklearn.manifold import LocallyLinearEmbedding\n",
    "from sklearn import manifold \n",
    "from sklearn.decomposition import KernelPCA\n",
    "from sklearn.model_selection import train_test_split"
   ]
  },
  {
   "cell_type": "code",
   "execution_count": 9,
   "metadata": {},
   "outputs": [
    {
     "data": {
      "text/plain": [
       "(325.441, 865.397)"
      ]
     },
     "execution_count": 9,
     "metadata": {},
     "output_type": "execute_result"
    }
   ],
   "source": [
    "Y=np.loadtxt('Reflection2_00001.txt').T[0,]\n",
    "np.savetxt('Class',Y)\n",
    "Y=np.loadtxt('Class')\n",
    "X=pd.read_csv('Coffee.csv')\n",
    "X=X[40:890]\n",
    "Y[300],Y[1600]"
   ]
  },
  {
   "cell_type": "code",
   "execution_count": 10,
   "metadata": {},
   "outputs": [
    {
     "data": {
      "text/plain": [
       "(850, 1300)"
      ]
     },
     "execution_count": 10,
     "metadata": {},
     "output_type": "execute_result"
    }
   ],
   "source": [
    "x=X.T\n",
    "X_n=x[300:1600].T\n",
    "X_n.shape"
   ]
  },
  {
   "cell_type": "code",
   "execution_count": 11,
   "metadata": {},
   "outputs": [],
   "source": [
    "# since there are some unlabeled data, so LDA is not very suitable. So I choose to use unsupervised learning to reduce dimension.\n",
    "# By the unsupervised learning methods, we can also mark the unlabeled data using the model we find in our work."
   ]
  },
  {
   "cell_type": "code",
   "execution_count": 14,
   "metadata": {},
   "outputs": [
    {
     "data": {
      "text/plain": [
       "(850, 5)"
      ]
     },
     "execution_count": 14,
     "metadata": {},
     "output_type": "execute_result"
    }
   ],
   "source": [
    "pca=PCA(n_components=0.99)\n",
    "X_PCA=pca.fit_transform(X_n)\n",
    "ICA = FastICA(n_components=10,random_state=40) \n",
    "X_ICA=ICA.fit_transform(X_n)\n",
    "X_PCA.shape"
   ]
  },
  {
   "cell_type": "code",
   "execution_count": 15,
   "metadata": {},
   "outputs": [],
   "source": [
    "X_tsne = TSNE(n_components=3, n_iter=500).fit_transform(X_n)\n",
    "lle=LocallyLinearEmbedding(n_components=10,n_neighbors=40)\n",
    "X_lle=lle.fit_transform(X_n)"
   ]
  },
  {
   "cell_type": "code",
   "execution_count": 16,
   "metadata": {},
   "outputs": [],
   "source": [
    "from numpy import array"
   ]
  },
  {
   "cell_type": "code",
   "execution_count": 18,
   "metadata": {},
   "outputs": [
    {
     "data": {
      "text/plain": [
       "730"
      ]
     },
     "execution_count": 18,
     "metadata": {},
     "output_type": "execute_result"
    }
   ],
   "source": [
    "# first use 1,2,3,...to present the different class:\n",
    "# \"1\": health good\n",
    "# \"2\": rust\n",
    "# \"3\": infected green canopy\n",
    "# \"4\": geisha\n",
    "# \"5\": geisha cannopy\n",
    "# \"6\": yellow\n",
    "# \"7\": yellow green\n",
    "# \"8\": Young_Rust_Yellow\n",
    "# \"9\": Young_Rust_Green_Leaf\n",
    "\n",
    "target_labeled=array([\"8\",\"8\",\"8\",\"8\",\"8\",\"8\",\"8\",\"8\",\"8\",\"8\",\"8\",\"8\",\"8\",\"8\",\"8\",\"8\",\"8\",\"8\",\"8\",\"8\",\"9\",\"9\",\"9\",\"9\",\"9\",\"9\",\"9\",\"9\",\n",
    "                      \"9\",\"9\",\"1\",\"1\",\"1\",\"1\",\"1\",\"1\",\"1\",\"1\",\"1\",\"1\",\"1\",\"1\",\"1\",\"1\",\"1\",\"1\",\"1\",\"1\",\"1\",\"1\",\n",
    "             \"1\",\"1\",\"1\",\"1\",\"1\",\"1\",\"1\",\"1\",\"1\",\"1\",\"1\",\"1\",\"1\",\"1\",\"1\",\"1\",\"1\",\"1\",\"1\",\"1\",\"1\",\"1\",\"1\",\"1\",\"1\",\"1\",\"1\",\"1\",\"1\",\"1\",\n",
    "             \"1\",\"1\",\"1\",\"1\",\"1\",\"1\",\"1\",\"1\",\"1\",\"1\",\"1\",\"1\",\"1\",\"1\",\"1\",\"1\",\"1\",\"1\",\"1\",\"1\",\n",
    "             \"1\",\"1\",\"1\",\"1\",\"1\",\"1\",\"1\",\"1\",\"1\",\"1\",\"1\",\"1\",\"1\",\"1\",\"1\",\"1\",\"1\",\"1\",\"1\",\"1\",\"2\",\"2\",\"2\",\"2\",\"2\",\"2\",\"2\",\"2\",\"2\",\"2\",\n",
    "             \"2\",\"2\",\"2\",\"2\",\"2\",\"2\",\"2\",\"2\",\"2\",\"2\",\"2\",\"2\",\"2\",\"2\",\"2\",\"2\",\"2\",\"2\",\"2\",\"2\",\"2\",\"2\",\"2\",\"2\",\"2\",\"2\",\"2\",\"2\",\"2\",\"2\",\n",
    "             \"3\",\"3\",\"3\",\"3\",\"3\",\"3\",\"3\",\"3\",\"3\",\"3\",\"3\",\"3\",\"3\",\"3\",\"3\",\"3\",\"3\",\"3\",\"3\",\"3\",\"3\",\"3\",\"3\",\"3\",\"3\",\"3\",\"3\",\"3\",\"3\",\"3\",\n",
    "             \"2\",\"2\",\"2\",\"2\",\"2\",\"2\",\"2\",\"2\",\"2\",\"2\",\"2\",\"2\",\"2\",\"2\",\"2\",\"2\",\"2\",\"2\",\"2\",\"2\",\"2\",\"2\",\"2\",\"2\",\"2\",\"2\",\"2\",\"2\",\"2\",\"2\",\n",
    "             \"2\",\"2\",\"2\",\"2\",\"2\",\"2\",\"2\",\"2\",\"2\",\"2\",\"2\",\"2\",\"2\",\"2\",\"2\",\"2\",\"2\",\"2\",\"2\",\"2\",\"2\",\"2\",\"2\",\"2\",\"2\",\"2\",\"2\",\"2\",\"2\",\"2\",\n",
    "             \"2\",\"2\",\"2\",\"2\",\"2\",\"2\",\"2\",\"2\",\"2\",\"2\",\"3\",\"3\",\"3\",\"3\",\"3\",\"3\",\"3\",\"3\",\"3\",\"3\",\"3\",\"3\",\"3\",\"3\",\"3\",\"3\",\"3\",\"3\",\"3\",\"3\",\n",
    "             \"3\",\"3\",\"3\",\"3\",\"3\",\"3\",\"3\",\"3\",\"3\",\"3\",\"3\",\"3\",\"3\",\"3\",\"3\",\"3\",\"3\",\"3\",\"3\",\"3\",\"2\",\"2\",\"2\",\"2\",\"2\",\"2\",\"2\",\"2\",\"2\",\"2\",\n",
    "             \"2\",\"2\",\"2\",\"2\",\"2\",\"2\",\"2\",\"2\",\"2\",\"2\",\"2\",\"2\",\"2\",\"2\",\"2\",\"2\",\"2\",\"2\",\"2\",\"2\",\"2\",\"2\",\"2\",\"2\",\"2\",\"2\",\"2\",\"2\",\"2\",\"2\",\n",
    "             \"2\",\"2\",\"2\",\"2\",\"2\",\"2\",\"2\",\"2\",\"2\",\"2\",\"2\",\"2\",\"2\",\"2\",\"2\",\"2\",\"2\",\"2\",\"2\",\"2\",\"2\",\"2\",\"2\",\"2\",\"2\",\"2\",\"2\",\"2\",\"2\",\"2\",\n",
    "             \"2\",\"2\",\"2\",\"2\",\"2\",\"2\",\"2\",\"2\",\"2\",\"2\",\"2\",\"2\",\"2\",\"2\",\"2\",\"2\",\"2\",\"2\",\"2\",\"2\",\"3\",\"3\",\"3\",\"3\",\"3\",\"3\",\"3\",\"3\",\"3\",\"3\",\n",
    "             \"3\",\"3\",\"3\",\"3\",\"3\",\"3\",\"3\",\"3\",\"3\",\"3\",\"3\",\"3\",\"3\",\"3\",\"3\",\"3\",\"3\",\"3\",\"3\",\"3\",\"1\",\"1\",\"1\",\"1\",\"1\",\"1\",\"1\",\"1\",\"1\",\"1\",\n",
    "             \"1\",\"1\",\"1\",\"1\",\"1\",\"1\",\"1\",\"1\",\"1\",\"1\",\"1\",\"1\",\"1\",\"1\",\"1\",\"1\",\"1\",\"1\",\"1\",\"1\",\"1\",\"1\",\"1\",\"1\",\"1\",\"1\",\"1\",\"1\",\"1\",\"1\",\n",
    "             \"1\",\"1\",\"1\",\"1\",\"1\",\"1\",\"1\",\"1\",\"1\",\"1\",\"1\",\"1\",\"1\",\"1\",\"1\",\"1\",\"1\",\"1\",\"1\",\"1\",\n",
    "             \"1\",\"1\",\"1\",\"1\",\"1\",\"1\",\"1\",\"1\",\"1\",\"1\",\"1\",\"1\",\"1\",\"1\",\"1\",\"1\",\"1\",\"1\",\"1\",\"1\",\"1\",\"1\",\"1\",\"1\",\"1\",\"1\",\"1\",\"1\",\"1\",\"1\",\n",
    "             \"1\",\"1\",\"1\",\"1\",\"1\",\"1\",\"1\",\"1\",\"1\",\"1\",\"1\",\"1\",\"1\",\"1\",\"1\",\"1\",\"1\",\"1\",\"1\",\"1\",\"4\",\"4\",\"4\",\"4\",\"4\",\"4\",\"4\",\"4\",\"4\",\"4\",\n",
    "             \"4\",\"4\",\"4\",\"4\",\"4\",\"4\",\"4\",\"4\",\"4\",\"4\",\"4\",\"4\",\"4\",\"4\",\"4\",\"4\",\"4\",\"4\",\"4\",\"4\",\"4\",\"4\",\"4\",\"4\",\"4\",\"4\",\"4\",\"4\",\"4\",\"4\",\n",
    "             \"4\",\"4\",\"4\",\"4\",\"4\",\"4\",\"4\",\"4\",\"4\",\"4\",\"4\",\"4\",\"4\",\"4\",\"4\",\"4\",\"4\",\"4\",\"4\",\"4\",\"4\",\"4\",\"4\",\"4\",\"4\",\"4\",\"4\",\"4\",\"4\",\"4\",\n",
    "             \"4\",\"4\",\"4\",\"4\",\"4\",\"4\",\"4\",\"4\",\"4\",\"4\",\"4\",\"4\",\"4\",\"4\",\"4\",\"4\",\"4\",\"4\",\"4\",\"4\",\"4\",\"4\",\"4\",\"4\",\"4\",\"4\",\"4\",\"4\",\"4\",\"4\",\n",
    "             \"4\",\"4\",\"4\",\"4\",\"4\",\"4\",\"4\",\"4\",\"4\",\"4\",\"4\",\"4\",\"4\",\"4\",\"4\",\"4\",\"4\",\"4\",\"4\",\"4\",\n",
    "             \"4\",\"4\",\"4\",\"4\",\"4\",\"4\",\"4\",\"4\",\"4\",\"4\",\"4\",\"4\",\"4\",\"4\",\"4\",\"4\",\"4\",\"4\",\"4\",\"4\",\"4\",\"4\",\"4\",\"4\",\"4\",\"4\",\"4\",\"4\",\"4\",\"4\",\n",
    "             \"5\",\"5\",\"5\",\"5\",\"5\",\"5\",\"5\",\"5\",\"5\",\"5\",\"5\",\"5\",\"5\",\"5\",\"5\",\"5\",\"5\",\"5\",\"5\",\"5\",\"5\",\"5\",\"5\",\"5\",\"5\",\"5\",\"5\",\"5\",\"5\",\"5\",\n",
    "             \"5\",\"5\",\"5\",\"5\",\"5\",\"5\",\"5\",\"5\",\"5\",\"5\",\"5\",\"5\",\"5\",\"5\",\"5\",\"5\",\"5\",\"5\",\"5\",\"5\"])\n",
    "len(target_labeled)"
   ]
  },
  {
   "cell_type": "code",
   "execution_count": 19,
   "metadata": {},
   "outputs": [],
   "source": [
    "np.savetxt('New_X',X_n)\n",
    "np.savetxt(\"PCA\",X_PCA)\n",
    "np.savetxt(\"ICA\",X_ICA)\n",
    "np.savetxt(\"LLE\",X_lle)\n",
    "np.savetxt('TSNE',X_tsne)\n",
    "X_new=np.loadtxt('New_X')\n",
    "X_Pca=np.loadtxt(\"PCA\")\n",
    "X_ICA=np.loadtxt(\"ICA\")\n",
    "X_lle=np.loadtxt(\"LLE\")\n",
    "X_tsne=np.loadtxt(\"TSNE\")"
   ]
  },
  {
   "cell_type": "code",
   "execution_count": 21,
   "metadata": {},
   "outputs": [
    {
     "data": {
      "text/plain": [
       "((850, 2048), (730, 1300))"
      ]
     },
     "execution_count": 21,
     "metadata": {},
     "output_type": "execute_result"
    }
   ],
   "source": [
    "X_tsne_labeled=np.vstack((X_tsne[0:40],X_tsne[50:70],X_tsne[80:90],X_tsne[160:220],X_tsne[230:600],X_tsne[610:800],X_tsne[810:890]))\n",
    "X_tsne_unlabeled=np.vstack((X_tsne[40:50],X_tsne[70:80],X_tsne[90:160],X_tsne[220:230],X_tsne[600:610],X_tsne[800:810]))\n",
    "X_Pca_labeled=np.vstack((X_Pca[0:40],X_Pca[50:70],X_Pca[80:90],X_Pca[160:220],X_Pca[230:600],X_Pca[610:800],X_Pca[810:890]))\n",
    "X_Pca_unlabeled=np.vstack((X_Pca[40:50],X_Pca[70:80],X_Pca[90:160],X_Pca[220:230],X_Pca[600:610],X_Pca[800:810]))\n",
    "X_ICA_labeled=np.vstack((X_ICA[0:40],X_ICA[50:70],X_ICA[80:90],X_ICA[160:220],X_ICA[230:600],X_ICA[610:800],X_ICA[810:890]))\n",
    "X_ICA_unlabeled=np.vstack((X_ICA[40:50],X_ICA[70:80],X_ICA[90:160],X_ICA[220:230],X_ICA[600:610],X_ICA[800:810]))\n",
    "X_lle_labeled=np.vstack((X_lle[0:40],X_lle[50:70],X_lle[80:90],X_lle[160:220],X_lle[230:600],X_lle[610:800],X_lle[810:890]))\n",
    "X_lle_unlabeled=np.vstack((X_lle[40:50],X_lle[70:80],X_lle[90:160],X_lle[220:230],X_lle[600:610],X_lle[800:810]))\n",
    "X_labeled=np.vstack((X_new[0:40],X_new[50:70],X_new[80:90],X_new[160:220],X_new[230:600],X_new[610:800],X_new[810:890]))\n",
    "X_unlabeled=np.vstack((X_new[40:50],X_new[70:80],X_new[90:160],X_new[220:230],X_new[600:610],X_new[800:810]))\n",
    "\n",
    "X.shape,X_labeled.shape"
   ]
  },
  {
   "cell_type": "code",
   "execution_count": 131,
   "metadata": {},
   "outputs": [],
   "source": [
    "# in this part just see roughly the classification effect, split the train and test data\n",
    "x_train, x_test, y_train, y_test = train_test_split(X_labeled,target_labeled, test_size=0.3)\n",
    "xpca_train, xpca_test, ypca_train, ypca_test = train_test_split(X_Pca_labeled,target_labeled, test_size=0.3)\n",
    "xIca_train, xIca_test, yIca_train, yIca_test = train_test_split(X_ICA_labeled,target_labeled, test_size=0.3)\n",
    "xlle_train, xlle_test, ylle_train, ylle_test = train_test_split(X_lle_labeled,target_labeled, test_size=0.3)\n",
    "xtsne_train, xtsne_test, ytsne_train, ytsne_test = train_test_split(X_tsne_labeled,target_labeled, test_size=0.3)"
   ]
  },
  {
   "cell_type": "code",
   "execution_count": 23,
   "metadata": {},
   "outputs": [],
   "source": [
    "from sklearn import svm\n",
    "from sklearn.svm import SVC\n",
    "from sklearn.metrics import accuracy_score\n",
    "from sklearn.metrics import cohen_kappa_score\n",
    "from sklearn.metrics import confusion_matrix\n",
    "from sklearn.metrics import matthews_corrcoef\n",
    "from sklearn.model_selection import RandomizedSearchCV"
   ]
  },
  {
   "cell_type": "code",
   "execution_count": 27,
   "metadata": {},
   "outputs": [],
   "source": [
    "# gamma=1/2*var, where var=sigma^2, sigma is the range the support vector can explain, so after roughly calculate the distance between\n",
    "# vectoes, can roughly limit the range of sigma.Then uue gride to find the better gamma and C."
   ]
  },
  {
   "cell_type": "code",
   "execution_count": 24,
   "metadata": {},
   "outputs": [],
   "source": [
    "SVM= SVC(kernel='rbf')\n",
    "distributions = dict(C=np.logspace(-3,3,50),gamma=np.logspace(-3,1,50))\n",
    "clf = RandomizedSearchCV(SVM, distributions, random_state=50)"
   ]
  },
  {
   "cell_type": "code",
   "execution_count": 25,
   "metadata": {},
   "outputs": [
    {
     "name": "stderr",
     "output_type": "stream",
     "text": [
      "C:\\Users\\user\\Anaconda3\\lib\\site-packages\\sklearn\\model_selection\\_split.py:2053: FutureWarning: You should specify a value for 'cv' instead of relying on the default value. The default value will change from 3 to 5 in version 0.22.\n",
      "  warnings.warn(CV_WARNING, FutureWarning)\n",
      "C:\\Users\\user\\Anaconda3\\lib\\site-packages\\sklearn\\model_selection\\_search.py:841: DeprecationWarning: The default of the `iid` parameter will change from True to False in version 0.22 and will be removed in 0.24. This will change numeric results when test-set sizes are unequal.\n",
      "  DeprecationWarning)\n"
     ]
    },
    {
     "data": {
      "text/plain": [
       "{'gamma': 0.0021209508879201904, 'C': 4.714866363457395}"
      ]
     },
     "execution_count": 25,
     "metadata": {},
     "output_type": "execute_result"
    }
   ],
   "source": [
    "search1 = clf.fit(x_train, y_train)\n",
    "search1.best_params_ "
   ]
  },
  {
   "cell_type": "code",
   "execution_count": 26,
   "metadata": {},
   "outputs": [
    {
     "name": "stderr",
     "output_type": "stream",
     "text": [
      "C:\\Users\\user\\Anaconda3\\lib\\site-packages\\sklearn\\model_selection\\_split.py:2053: FutureWarning: You should specify a value for 'cv' instead of relying on the default value. The default value will change from 3 to 5 in version 0.22.\n",
      "  warnings.warn(CV_WARNING, FutureWarning)\n",
      "C:\\Users\\user\\Anaconda3\\lib\\site-packages\\sklearn\\model_selection\\_search.py:841: DeprecationWarning: The default of the `iid` parameter will change from True to False in version 0.22 and will be removed in 0.24. This will change numeric results when test-set sizes are unequal.\n",
      "  DeprecationWarning)\n"
     ]
    },
    {
     "data": {
      "text/plain": [
       "{'gamma': 0.0021209508879201904, 'C': 4.714866363457395}"
      ]
     },
     "execution_count": 26,
     "metadata": {},
     "output_type": "execute_result"
    }
   ],
   "source": [
    "SVM= SVC(kernel='rbf')\n",
    "distributions = dict(C=np.logspace(-3,3,50),gamma=np.logspace(-3,1,50))\n",
    "clf = RandomizedSearchCV(SVM, distributions, random_state=50)\n",
    "search2 = clf.fit(xpca_train, ypca_train)\n",
    "search2.best_params_ "
   ]
  },
  {
   "cell_type": "code",
   "execution_count": 45,
   "metadata": {},
   "outputs": [
    {
     "name": "stderr",
     "output_type": "stream",
     "text": [
      "C:\\Users\\user\\Anaconda3\\lib\\site-packages\\sklearn\\model_selection\\_split.py:2053: FutureWarning: You should specify a value for 'cv' instead of relying on the default value. The default value will change from 3 to 5 in version 0.22.\n",
      "  warnings.warn(CV_WARNING, FutureWarning)\n",
      "C:\\Users\\user\\Anaconda3\\lib\\site-packages\\sklearn\\model_selection\\_search.py:841: DeprecationWarning: The default of the `iid` parameter will change from True to False in version 0.22 and will be removed in 0.24. This will change numeric results when test-set sizes are unequal.\n",
      "  DeprecationWarning)\n"
     ]
    },
    {
     "data": {
      "text/plain": [
       "{'gamma': 0.3393221771895326, 'C': 7.543120063354623}"
      ]
     },
     "execution_count": 45,
     "metadata": {},
     "output_type": "execute_result"
    }
   ],
   "source": [
    "SVM= SVC(kernel='rbf')\n",
    "distributions = dict(C=np.logspace(-3,2,50),gamma=np.logspace(-3,1,50))\n",
    "clf = RandomizedSearchCV(SVM, distributions, random_state=50)\n",
    "search4 = clf.fit(xtsne_train, ytsne_train)\n",
    "search4.best_params_ "
   ]
  },
  {
   "cell_type": "code",
   "execution_count": 46,
   "metadata": {},
   "outputs": [
    {
     "name": "stderr",
     "output_type": "stream",
     "text": [
      "C:\\Users\\user\\Anaconda3\\lib\\site-packages\\sklearn\\model_selection\\_split.py:2053: FutureWarning: You should specify a value for 'cv' instead of relying on the default value. The default value will change from 3 to 5 in version 0.22.\n",
      "  warnings.warn(CV_WARNING, FutureWarning)\n",
      "C:\\Users\\user\\Anaconda3\\lib\\site-packages\\sklearn\\model_selection\\_search.py:841: DeprecationWarning: The default of the `iid` parameter will change from True to False in version 0.22 and will be removed in 0.24. This will change numeric results when test-set sizes are unequal.\n",
      "  DeprecationWarning)\n"
     ]
    },
    {
     "data": {
      "text/plain": [
       "{'gamma': 3.2374575428176433, 'C': 19.306977288832496}"
      ]
     },
     "execution_count": 46,
     "metadata": {},
     "output_type": "execute_result"
    }
   ],
   "source": [
    "SVM= SVC(kernel='rbf')\n",
    "distributions = dict(C=np.logspace(-3,2,50),gamma=np.logspace(-3,1,50))\n",
    "clf = RandomizedSearchCV(SVM, distributions, random_state=50)\n",
    "search5 = clf.fit(xlle_train, ylle_train)\n",
    "search5.best_params_ "
   ]
  },
  {
   "cell_type": "code",
   "execution_count": 36,
   "metadata": {},
   "outputs": [
    {
     "name": "stdout",
     "output_type": "stream",
     "text": [
      "accuracy_train： 1.0\n",
      "accuracy_test： 0.8767123287671232\n",
      "Kappa_train： 1.0\n",
      "Kappa_test： 0.8399945880124475\n"
     ]
    }
   ],
   "source": [
    "clf1= SVC(C=4.7,kernel='rbf',gamma=0.002)\n",
    "clf1.fit(x_train, y_train)\n",
    "print ('accuracy_train：', accuracy_score(y_train, clf1.predict(x_train)))\n",
    "print ('accuracy_test：', accuracy_score(y_test, clf1.predict(x_test)))\n",
    "\n",
    "print ('Kappa_train：', cohen_kappa_score(y_train, clf1.predict(x_train)))\n",
    "print ('Kappa_test：', cohen_kappa_score(y_test, clf1.predict(x_test)))"
   ]
  },
  {
   "cell_type": "code",
   "execution_count": 37,
   "metadata": {},
   "outputs": [],
   "source": [
    "# Then find may overfitting, so try to use bagging."
   ]
  },
  {
   "cell_type": "code",
   "execution_count": 38,
   "metadata": {},
   "outputs": [
    {
     "name": "stdout",
     "output_type": "stream",
     "text": [
      "accuracy_train： 0.9217221135029354\n",
      "accuracy_test： 0.8310502283105022\n",
      "Kappa_train： 0.8986879996827805\n",
      "Kappa_test： 0.7788784281620957\n"
     ]
    }
   ],
   "source": [
    "from sklearn.ensemble import BaggingClassifier\n",
    "bagging1 = BaggingClassifier(clf1,max_samples=0.6, max_features=0.6)\n",
    "bagging1.fit(x_train,y_train)\n",
    "print ('accuracy_train：', accuracy_score(y_train, bagging1.predict(x_train)))\n",
    "print ('accuracy_test：', accuracy_score(y_test, bagging1.predict(x_test)))\n",
    "print ('Kappa_train：', cohen_kappa_score(y_train, bagging1.predict(x_train)))\n",
    "print ('Kappa_test：', cohen_kappa_score(y_test, bagging1.predict(x_test)))"
   ]
  },
  {
   "cell_type": "code",
   "execution_count": 39,
   "metadata": {},
   "outputs": [
    {
     "name": "stdout",
     "output_type": "stream",
     "text": [
      "accuracy_train： 0.9941291585127201\n",
      "accuracy_test： 0.867579908675799\n",
      "Kappa_train： 0.9925331333076807\n",
      "Kappa_test： 0.8264374726716222\n"
     ]
    }
   ],
   "source": [
    "clf2= SVC(C=4.7,kernel='rbf',gamma=0.002)\n",
    "clf2.fit(xpca_train, ypca_train)\n",
    "print ('accuracy_train：', accuracy_score(ypca_train, clf2.predict(xpca_train)))\n",
    "print ('accuracy_test：', accuracy_score(ypca_test, clf2.predict(xpca_test)))\n",
    "print ('Kappa_train：', cohen_kappa_score(ypca_train, clf2.predict(xpca_train)))\n",
    "print ('Kappa_test：', cohen_kappa_score(ypca_test, clf2.predict(xpca_test)))"
   ]
  },
  {
   "cell_type": "code",
   "execution_count": 51,
   "metadata": {},
   "outputs": [
    {
     "name": "stdout",
     "output_type": "stream",
     "text": [
      "accuracy_train： 0.9902152641878669\n",
      "accuracy_test： 0.9360730593607306\n",
      "Kappa_train： 0.9874878183750324\n",
      "Kappa_test： 0.9182247352839197\n"
     ]
    }
   ],
   "source": [
    "clf3= SVC(C=7.5,kernel='rbf',gamma=0.34)\n",
    "clf3.fit(xtsne_train, ytsne_train)\n",
    "print ('accuracy_train：', accuracy_score(ytsne_train, clf3.predict(xtsne_train)))\n",
    "print ('accuracy_test：', accuracy_score(ytsne_test, clf3.predict(xtsne_test)))\n",
    "print ('Kappa_train：', cohen_kappa_score(ytsne_train, clf3.predict(xtsne_train)))\n",
    "print ('Kappa_test：', cohen_kappa_score(ytsne_test, clf3.predict(xtsne_test)))"
   ]
  },
  {
   "cell_type": "code",
   "execution_count": 67,
   "metadata": {},
   "outputs": [
    {
     "name": "stdout",
     "output_type": "stream",
     "text": [
      "accuracy_train： 0.8101761252446184\n",
      "accuracy_test： 0.8082191780821918\n",
      "Kappa_train： 0.7548954645251894\n",
      "Kappa_test： 0.7498980340973977\n"
     ]
    }
   ],
   "source": [
    "clf4= SVC(C=20,kernel='rbf',gamma=4)\n",
    "clf4.fit(xlle_train, ylle_train)\n",
    "print ('accuracy_train：', accuracy_score(ylle_train, clf4.predict(xlle_train)))\n",
    "print ('accuracy_test：', accuracy_score(ylle_test, clf4.predict(xlle_test)))\n",
    "print ('Kappa_train：', cohen_kappa_score(ylle_train, clf4.predict(xlle_train)))\n",
    "print ('Kappa_test：', cohen_kappa_score(ylle_test, clf4.predict(xlle_test)))"
   ]
  },
  {
   "cell_type": "code",
   "execution_count": 68,
   "metadata": {},
   "outputs": [],
   "source": [
    "# Then we consider the tree models, to avoid overfitting, roughly set a depth."
   ]
  },
  {
   "cell_type": "code",
   "execution_count": 100,
   "metadata": {},
   "outputs": [],
   "source": [
    "from sklearn import tree\n",
    "clf_tree = tree.DecisionTreeClassifier(max_depth=12)\n",
    "clf_tree1 = tree.DecisionTreeClassifier(max_depth=7)\n",
    "clf_tree2 = tree.DecisionTreeClassifier(max_depth=9)"
   ]
  },
  {
   "cell_type": "code",
   "execution_count": 95,
   "metadata": {},
   "outputs": [
    {
     "name": "stdout",
     "output_type": "stream",
     "text": [
      "accuracy_train： 0.9863013698630136\n",
      "accuracy_test： 0.867579908675799\n",
      "Kappa_train： 0.982501369755792\n",
      "Kappa_test： 0.8317749582814611\n"
     ]
    }
   ],
   "source": [
    "clf_tree.fit(x_train, y_train)\n",
    "print ('accuracy_train：', accuracy_score(y_train, clf_tree.predict(x_train)))\n",
    "print ('accuracy_test：', accuracy_score(y_test, clf_tree.predict(x_test)))\n",
    "print ('Kappa_train：', cohen_kappa_score(y_train, clf_tree.predict(x_train)))\n",
    "print ('Kappa_test：', cohen_kappa_score(y_test, clf_tree.predict(x_test)))"
   ]
  },
  {
   "cell_type": "code",
   "execution_count": 96,
   "metadata": {},
   "outputs": [
    {
     "name": "stdout",
     "output_type": "stream",
     "text": [
      "accuracy_train： 0.9510763209393346\n",
      "accuracy_test： 0.8447488584474886\n",
      "Kappa_train： 0.937900728663857\n",
      "Kappa_test： 0.7999946278438851\n"
     ]
    }
   ],
   "source": [
    "clf_tree.fit(xpca_train, ypca_train)\n",
    "print ('accuracy_train：', accuracy_score(ypca_train, clf_tree.predict(xpca_train)))\n",
    "print ('accuracy_test：', accuracy_score(ypca_test, clf_tree.predict(xpca_test)))\n",
    "print ('Kappa_train：', cohen_kappa_score(ypca_train, clf_tree.predict(xpca_train)))\n",
    "print ('Kappa_test：', cohen_kappa_score(ypca_test, clf_tree.predict(xpca_test)))"
   ]
  },
  {
   "cell_type": "code",
   "execution_count": 97,
   "metadata": {},
   "outputs": [
    {
     "name": "stdout",
     "output_type": "stream",
     "text": [
      "accuracy_train： 0.9667318982387475\n",
      "accuracy_test： 0.9223744292237442\n",
      "Kappa_train： 0.9573503925217126\n",
      "Kappa_test： 0.9008337106784221\n"
     ]
    }
   ],
   "source": [
    "clf_tree1.fit(xIca_train, yIca_train)\n",
    "print ('accuracy_train：', accuracy_score(yIca_train, clf_tree1.predict(xIca_train)))\n",
    "print ('accuracy_test：', accuracy_score(yIca_test, clf_tree1.predict(xIca_test)))\n",
    "\n",
    "print ('Kappa_train：', cohen_kappa_score(yIca_train, clf_tree1.predict(xIca_train)))\n",
    "print ('Kappa_test：', cohen_kappa_score(yIca_test, clf_tree1.predict(xIca_test)))"
   ]
  },
  {
   "cell_type": "code",
   "execution_count": 101,
   "metadata": {},
   "outputs": [
    {
     "name": "stdout",
     "output_type": "stream",
     "text": [
      "accuracy_train： 0.9784735812133072\n",
      "accuracy_test： 0.9269406392694064\n",
      "Kappa_train： 0.9724474290475957\n",
      "Kappa_test： 0.9069174370417596\n"
     ]
    }
   ],
   "source": [
    "clf_tree2.fit(xlle_train, ylle_train)\n",
    "print ('accuracy_train：', accuracy_score(ylle_train, clf_tree2.predict(xlle_train)))\n",
    "print ('accuracy_test：', accuracy_score(ylle_test, clf_tree2.predict(xlle_test)))\n",
    "print ('Kappa_train：', cohen_kappa_score(ylle_train, clf_tree2.predict(xlle_train)))\n",
    "print ('Kappa_test：', cohen_kappa_score(ylle_test, clf_tree2.predict(xlle_test)))"
   ]
  },
  {
   "cell_type": "code",
   "execution_count": 102,
   "metadata": {},
   "outputs": [],
   "source": [
    "# for randomforest model, also set a max_depth to avoid overfitting"
   ]
  },
  {
   "cell_type": "code",
   "execution_count": 103,
   "metadata": {},
   "outputs": [],
   "source": [
    "from sklearn.model_selection import GridSearchCV\n",
    "from sklearn.model_selection import cross_validate\n",
    "from sklearn.ensemble import RandomForestClassifier\n",
    "from sklearn.datasets import make_classification"
   ]
  },
  {
   "cell_type": "code",
   "execution_count": 104,
   "metadata": {},
   "outputs": [],
   "source": [
    "randomforest = RandomForestClassifier(max_depth=8)"
   ]
  },
  {
   "cell_type": "code",
   "execution_count": 105,
   "metadata": {},
   "outputs": [
    {
     "name": "stderr",
     "output_type": "stream",
     "text": [
      "C:\\Users\\user\\Anaconda3\\lib\\site-packages\\sklearn\\ensemble\\forest.py:246: FutureWarning: The default value of n_estimators will change from 10 in version 0.20 to 100 in 0.22.\n",
      "  \"10 in version 0.20 to 100 in 0.22.\", FutureWarning)\n"
     ]
    },
    {
     "name": "stdout",
     "output_type": "stream",
     "text": [
      "accuracy_train： 0.9647749510763209\n",
      "accuracy_test： 0.8904109589041096\n",
      "Kappa_train： 0.9549607779769075\n",
      "Kappa_test： 0.8596603652675424\n"
     ]
    }
   ],
   "source": [
    "randomforest.fit(x_train, y_train)\n",
    "print ('accuracy_train：', accuracy_score(y_train, randomforest.predict(x_train)))\n",
    "print ('accuracy_test：', accuracy_score(y_test, randomforest.predict(x_test)))\n",
    "print ('Kappa_train：', cohen_kappa_score(y_train, randomforest.predict(x_train)))\n",
    "print ('Kappa_test：', cohen_kappa_score(y_test, randomforest.predict(x_test)))"
   ]
  },
  {
   "cell_type": "code",
   "execution_count": 106,
   "metadata": {},
   "outputs": [
    {
     "name": "stdout",
     "output_type": "stream",
     "text": [
      "accuracy_train： 0.9256360078277887\n",
      "accuracy_test： 0.867579908675799\n",
      "Kappa_train： 0.9055756007897066\n",
      "Kappa_test： 0.828620001079389\n"
     ]
    }
   ],
   "source": [
    "randomforest.fit(xpca_train, ypca_train)\n",
    "print ('accuracy_train：', accuracy_score(ypca_train, randomforest.predict(xpca_train)))\n",
    "print ('accuracy_test：', accuracy_score(ypca_test, randomforest.predict(xpca_test)))\n",
    "print ('Kappa_train：', cohen_kappa_score(ypca_train, randomforest.predict(xpca_train)))\n",
    "print ('Kappa_test：', cohen_kappa_score(ypca_test, randomforest.predict(xpca_test)))"
   ]
  },
  {
   "cell_type": "code",
   "execution_count": 108,
   "metadata": {},
   "outputs": [
    {
     "name": "stdout",
     "output_type": "stream",
     "text": [
      "accuracy_train： 0.9921722113502935\n",
      "accuracy_test： 0.9452054794520548\n",
      "Kappa_train： 0.9899948113992579\n",
      "Kappa_test： 0.9302825308396339\n"
     ]
    }
   ],
   "source": [
    "randomforest.fit(xIca_train, yIca_train)\n",
    "print ('accuracy_train：', accuracy_score(yIca_train, randomforest.predict(xIca_train)))\n",
    "print ('accuracy_test：', accuracy_score(yIca_test, randomforest.predict(xIca_test)))\n",
    "print ('Kappa_train：', cohen_kappa_score(yIca_train, randomforest.predict(xIca_train)))\n",
    "print ('Kappa_test：', cohen_kappa_score(yIca_test, randomforest.predict(xIca_test)))"
   ]
  },
  {
   "cell_type": "code",
   "execution_count": 109,
   "metadata": {},
   "outputs": [
    {
     "name": "stdout",
     "output_type": "stream",
     "text": [
      "accuracy_train： 0.9706457925636007\n",
      "accuracy_test： 0.8904109589041096\n",
      "Kappa_train： 0.9625119213557333\n",
      "Kappa_test： 0.8604354753053638\n"
     ]
    }
   ],
   "source": [
    "randomforest.fit(xlle_train, ylle_train)\n",
    "print ('accuracy_train：', accuracy_score(ylle_train, randomforest.predict(xlle_train)))\n",
    "print ('accuracy_test：', accuracy_score(ylle_test, randomforest.predict(xlle_test)))\n",
    "print ('Kappa_train：', cohen_kappa_score(ylle_train, randomforest.predict(xlle_train)))\n",
    "print ('Kappa_test：', cohen_kappa_score(ylle_test, randomforest.predict(xlle_test)))"
   ]
  },
  {
   "cell_type": "code",
   "execution_count": 173,
   "metadata": {},
   "outputs": [],
   "source": [
    "# The consider the GBDT."
   ]
  },
  {
   "cell_type": "code",
   "execution_count": 113,
   "metadata": {},
   "outputs": [],
   "source": [
    "from sklearn.datasets import make_classification\n",
    "from sklearn.ensemble import GradientBoostingClassifier\n",
    "GradientBoosting1 = GradientBoostingClassifier(max_depth=3,n_estimators=40,learning_rate=0.05)"
   ]
  },
  {
   "cell_type": "code",
   "execution_count": 114,
   "metadata": {},
   "outputs": [
    {
     "name": "stdout",
     "output_type": "stream",
     "text": [
      "accuracy_train： 0.9823874755381604\n",
      "accuracy_test： 0.8858447488584474\n",
      "Kappa_train： 0.9774881052610969\n",
      "Kappa_test： 0.8536526690010959\n"
     ]
    }
   ],
   "source": [
    "GradientBoosting1.fit(x_train, y_train)\n",
    "print ('accuracy_train：', accuracy_score(y_train, GradientBoosting1.predict(x_train)))\n",
    "print ('accuracy_test：', accuracy_score(y_test, GradientBoosting1.predict(x_test)))\n",
    "print ('Kappa_train：', cohen_kappa_score(y_train, GradientBoosting1.predict(x_train)))\n",
    "print ('Kappa_test：', cohen_kappa_score(y_test, GradientBoosting1.predict(x_test)))"
   ]
  },
  {
   "cell_type": "code",
   "execution_count": 115,
   "metadata": {},
   "outputs": [
    {
     "name": "stdout",
     "output_type": "stream",
     "text": [
      "accuracy_train： 0.9706457925636007\n",
      "accuracy_test： 0.8949771689497716\n",
      "Kappa_train： 0.9626945577370465\n",
      "Kappa_test： 0.8635957429523113\n"
     ]
    }
   ],
   "source": [
    "GradientBoosting1.fit(xpca_train, ypca_train)\n",
    "print ('accuracy_train：', accuracy_score(ypca_train, GradientBoosting1.predict(xpca_train)))\n",
    "print ('accuracy_test：', accuracy_score(ypca_test, GradientBoosting1.predict(xpca_test)))\n",
    "print ('Kappa_train：', cohen_kappa_score(ypca_train, GradientBoosting1.predict(xpca_train)))\n",
    "print ('Kappa_test：', cohen_kappa_score(ypca_test, GradientBoosting1.predict(xpca_test)))"
   ]
  },
  {
   "cell_type": "code",
   "execution_count": 116,
   "metadata": {},
   "outputs": [
    {
     "name": "stdout",
     "output_type": "stream",
     "text": [
      "accuracy_train： 0.9980430528375733\n",
      "accuracy_test： 0.9223744292237442\n",
      "Kappa_train： 0.9974948647177924\n",
      "Kappa_test： 0.9014844804318489\n"
     ]
    }
   ],
   "source": [
    "GradientBoosting1.fit(xIca_train, yIca_train)\n",
    "print ('accuracy_train：', accuracy_score(yIca_train, GradientBoosting1.predict(xIca_train)))\n",
    "print ('accuracy_test：', accuracy_score(yIca_test, GradientBoosting1.predict(xIca_test)))\n",
    "\n",
    "print ('Kappa_train：', cohen_kappa_score(yIca_train, GradientBoosting1.predict(xIca_train)))\n",
    "print ('Kappa_test：', cohen_kappa_score(yIca_test, GradientBoosting1.predict(xIca_test)))"
   ]
  },
  {
   "cell_type": "code",
   "execution_count": 118,
   "metadata": {},
   "outputs": [
    {
     "name": "stdout",
     "output_type": "stream",
     "text": [
      "accuracy_train： 0.974559686888454\n",
      "accuracy_test： 0.8949771689497716\n",
      "Kappa_train： 0.9674996819929745\n",
      "Kappa_test： 0.8659909011094261\n"
     ]
    }
   ],
   "source": [
    "GradientBoosting1.fit(xlle_train, ylle_train)\n",
    "print ('accuracy_train：', accuracy_score(ylle_train, GradientBoosting1.predict(xlle_train)))\n",
    "print ('accuracy_test：', accuracy_score(ylle_test, GradientBoosting1.predict(xlle_test)))\n",
    "print ('Kappa_train：', cohen_kappa_score(ylle_train, GradientBoosting1.predict(xlle_train)))\n",
    "print ('Kappa_test：', cohen_kappa_score(ylle_test, GradientBoosting1.predict(xlle_test)))"
   ]
  },
  {
   "cell_type": "code",
   "execution_count": 174,
   "metadata": {},
   "outputs": [],
   "source": [
    "# Then consider a improvement of GBDT, which is xgboost"
   ]
  },
  {
   "cell_type": "code",
   "execution_count": 122,
   "metadata": {},
   "outputs": [
    {
     "name": "stdout",
     "output_type": "stream",
     "text": [
      "Requirement already satisfied: xgboost in c:\\users\\user\\anaconda3\\lib\\site-packages (1.1.1)\n",
      "Requirement already satisfied: numpy in c:\\users\\user\\anaconda3\\lib\\site-packages (from xgboost) (1.16.2)\n",
      "Requirement already satisfied: scipy in c:\\users\\user\\anaconda3\\lib\\site-packages (from xgboost) (1.2.1)\n",
      "Note: you may need to restart the kernel to use updated packages.\n"
     ]
    }
   ],
   "source": [
    "pip install xgboost"
   ]
  },
  {
   "cell_type": "code",
   "execution_count": 123,
   "metadata": {},
   "outputs": [
    {
     "name": "stdout",
     "output_type": "stream",
     "text": [
      "Requirement already satisfied: graphviz in c:\\users\\user\\anaconda3\\lib\\site-packages (0.14)\n",
      "Note: you may need to restart the kernel to use updated packages.\n"
     ]
    }
   ],
   "source": [
    "pip install graphviz"
   ]
  },
  {
   "cell_type": "code",
   "execution_count": 124,
   "metadata": {},
   "outputs": [],
   "source": [
    "from pandas import DataFrame\n",
    "from xgboost.sklearn import XGBClassifier\n",
    "from xgboost import plot_tree"
   ]
  },
  {
   "cell_type": "code",
   "execution_count": 141,
   "metadata": {},
   "outputs": [],
   "source": [
    "xgboost = XGBClassifier(\n",
    "    n_estimators=30,\n",
    "    learning_rate =0.4,\n",
    "    max_depth=4,\n",
    "    min_child_weight=1,\n",
    "    gamma=0.3,\n",
    "    subsample=0.8,\n",
    "    colsample_bytree=0.8,\n",
    "    objective= 'binary:logistic',\n",
    "    nthread=12,\n",
    "    reg_lambda=1,\n",
    "    seed=27)"
   ]
  },
  {
   "cell_type": "code",
   "execution_count": 151,
   "metadata": {},
   "outputs": [
    {
     "name": "stdout",
     "output_type": "stream",
     "text": [
      "accuracy_train： 1.0\n",
      "accuracy_test： 0.9041095890410958\n",
      "Kappa_train： 1.0\n",
      "Kappa_test： 0.8764307593100112\n"
     ]
    }
   ],
   "source": [
    "xgboost.fit(x_train, y_train)\n",
    "print ('accuracy_train：', accuracy_score(y_train, xgboost.predict(x_train)))\n",
    "print ('accuracy_test：', accuracy_score(y_test, xgboost.predict(x_test)))\n",
    "print ('Kappa_train：', cohen_kappa_score(y_train, xgboost.predict(x_train)))\n",
    "print ('Kappa_test：', cohen_kappa_score(y_test, xgboost.predict(x_test)))"
   ]
  },
  {
   "cell_type": "code",
   "execution_count": 176,
   "metadata": {},
   "outputs": [
    {
     "data": {
      "text/plain": [
       "XGBClassifier(base_score=0.5, booster='gbtree', colsample_bylevel=1,\n",
       "       colsample_bynode=1, colsample_bytree=0.8, gamma=0.3, gpu_id=-1,\n",
       "       importance_type='gain', interaction_constraints='',\n",
       "       learning_rate=0.4, max_delta_step=0, max_depth=4,\n",
       "       min_child_weight=1, missing=nan, monotone_constraints='()',\n",
       "       n_estimators=30, n_jobs=12, nthread=12, num_parallel_tree=1,\n",
       "       objective='multi:softprob', random_state=27, reg_alpha=0,\n",
       "       reg_lambda=1, scale_pos_weight=None, seed=27, subsample=0.8,\n",
       "       tree_method='exact', validate_parameters=1, verbosity=None)"
      ]
     },
     "execution_count": 176,
     "metadata": {},
     "output_type": "execute_result"
    }
   ],
   "source": [
    "xpca_train, xpca_test, ypca_train, ypca_test = train_test_split(X_Pca_labeled,target_labeled, test_size=0.3)\n",
    "xgboost.fit(xpca_train, ypca_train)"
   ]
  },
  {
   "cell_type": "code",
   "execution_count": 177,
   "metadata": {},
   "outputs": [
    {
     "name": "stdout",
     "output_type": "stream",
     "text": [
      "accuracy_train： 1.0\n",
      "accuracy_test： 0.9223744292237442\n",
      "Kappa_train： 1.0\n",
      "Kappa_test： 0.8993674991891015\n"
     ]
    }
   ],
   "source": [
    "xgboost.fit(xpca_train, ypca_train)\n",
    "print ('accuracy_train：', accuracy_score(ypca_train, xgboost.predict(xpca_train)))\n",
    "print ('accuracy_test：', accuracy_score(ypca_test, xgboost.predict(xpca_test)))\n",
    "print ('Kappa_train：', cohen_kappa_score(ypca_train, xgboost.predict(xpca_train)))\n",
    "print ('Kappa_test：', cohen_kappa_score(ypca_test, xgboost.predict(xpca_test)))"
   ]
  },
  {
   "cell_type": "code",
   "execution_count": 180,
   "metadata": {},
   "outputs": [
    {
     "data": {
      "text/plain": [
       "XGBClassifier(base_score=0.5, booster='gbtree', colsample_bylevel=1,\n",
       "       colsample_bynode=1, colsample_bytree=0.8, gamma=0.3, gpu_id=-1,\n",
       "       importance_type='gain', interaction_constraints='',\n",
       "       learning_rate=0.4, max_delta_step=0, max_depth=4,\n",
       "       min_child_weight=1, missing=nan, monotone_constraints='()',\n",
       "       n_estimators=30, n_jobs=12, nthread=12, num_parallel_tree=1,\n",
       "       objective='multi:softprob', random_state=27, reg_alpha=0,\n",
       "       reg_lambda=1, scale_pos_weight=None, seed=27, subsample=0.8,\n",
       "       tree_method='exact', validate_parameters=1, verbosity=None)"
      ]
     },
     "execution_count": 180,
     "metadata": {},
     "output_type": "execute_result"
    }
   ],
   "source": [
    "xIca_train, xIca_test, yIca_train, yIca_test = train_test_split(X_ICA_labeled,target_labeled, test_size=0.3)\n",
    "xgboost.fit(xIca_train, yIca_train)"
   ]
  },
  {
   "cell_type": "code",
   "execution_count": 181,
   "metadata": {},
   "outputs": [
    {
     "name": "stdout",
     "output_type": "stream",
     "text": [
      "accuracy_train： 1.0\n",
      "accuracy_test： 0.9771689497716894\n",
      "Kappa_train： 1.0\n",
      "Kappa_test： 0.9709248293991132\n"
     ]
    }
   ],
   "source": [
    "print ('accuracy_train：', accuracy_score(yIca_train, xgboost.predict(xIca_train)))\n",
    "print ('accuracy_test：', accuracy_score(yIca_test, xgboost.predict(xIca_test)))\n",
    "print ('Kappa_train：', cohen_kappa_score(yIca_train, xgboost.predict(xIca_train)))\n",
    "print ('Kappa_test：', cohen_kappa_score(yIca_test, xgboost.predict(xIca_test)))"
   ]
  },
  {
   "cell_type": "code",
   "execution_count": 178,
   "metadata": {},
   "outputs": [
    {
     "data": {
      "text/plain": [
       "XGBClassifier(base_score=0.5, booster='gbtree', colsample_bylevel=1,\n",
       "       colsample_bynode=1, colsample_bytree=0.8, gamma=0.3, gpu_id=-1,\n",
       "       importance_type='gain', interaction_constraints='',\n",
       "       learning_rate=0.4, max_delta_step=0, max_depth=4,\n",
       "       min_child_weight=1, missing=nan, monotone_constraints='()',\n",
       "       n_estimators=30, n_jobs=12, nthread=12, num_parallel_tree=1,\n",
       "       objective='multi:softprob', random_state=27, reg_alpha=0,\n",
       "       reg_lambda=1, scale_pos_weight=None, seed=27, subsample=0.8,\n",
       "       tree_method='exact', validate_parameters=1, verbosity=None)"
      ]
     },
     "execution_count": 178,
     "metadata": {},
     "output_type": "execute_result"
    }
   ],
   "source": [
    "xlle_train, xlle_test, ylle_train, ylle_test = train_test_split(X_lle_labeled,target_labeled, test_size=0.3)\n",
    "xgboost.fit(xlle_train, ylle_train)"
   ]
  },
  {
   "cell_type": "code",
   "execution_count": 179,
   "metadata": {},
   "outputs": [
    {
     "name": "stdout",
     "output_type": "stream",
     "text": [
      "accuracy_train： 1.0\n",
      "accuracy_test： 0.9315068493150684\n",
      "Kappa_train： 1.0\n",
      "Kappa_test： 0.9120505475087681\n"
     ]
    }
   ],
   "source": [
    "print ('accuracy_train：', accuracy_score(ylle_train, xgboost.predict(xlle_train)))\n",
    "print ('accuracy_test：', accuracy_score(ylle_test, xgboost.predict(xlle_test)))\n",
    "print ('Kappa_train：', cohen_kappa_score(ylle_train, xgboost.predict(xlle_train)))\n",
    "print ('Kappa_test：', cohen_kappa_score(ylle_test, xgboost.predict(xlle_test)))"
   ]
  },
  {
   "cell_type": "code",
   "execution_count": 186,
   "metadata": {},
   "outputs": [],
   "source": [
    "# At last , consider the deep netural network.\n",
    "# This method needn;t to reduce the dimension since the network can do it in the hidden layers.\n",
    "# The problems is the best hidden layer is very difficult to find, it also runs a little slow."
   ]
  },
  {
   "cell_type": "code",
   "execution_count": 187,
   "metadata": {},
   "outputs": [],
   "source": [
    "from sklearn.neural_network import MLPClassifier\n",
    "MLP=MLPClassifier(random_state=1,activation =\"relu\",solver=\"lbfgs\",max_iter=600,beta_1=0.7,beta_2=0.7,hidden_layer_sizes=(70,))"
   ]
  },
  {
   "cell_type": "code",
   "execution_count": 188,
   "metadata": {},
   "outputs": [
    {
     "name": "stdout",
     "output_type": "stream",
     "text": [
      "accuracy_train： 0.9843444227005871\n",
      "accuracy_test： 0.9497716894977168\n",
      "Kappa_train： 0.9799376733001252\n",
      "Kappa_test： 0.9356570512820512\n",
      "3\n",
      "0.0683489873808055\n"
     ]
    }
   ],
   "source": [
    "MLP.fit(x_train, y_train)\n",
    "print ('accuracy_train：', accuracy_score(y_train, MLP.predict(x_train)))\n",
    "print ('accuracy_test：', accuracy_score(y_test, MLP.predict(x_test)))\n",
    "print ('Kappa_train：', cohen_kappa_score(y_train, MLP.predict(x_train)))\n",
    "print ('Kappa_test：', cohen_kappa_score(y_test, MLP.predict(x_test)))\n",
    "print (MLP.n_layers_)\n",
    "print (MLP.loss_)"
   ]
  },
  {
   "cell_type": "code",
   "execution_count": 240,
   "metadata": {},
   "outputs": [
    {
     "name": "stdout",
     "output_type": "stream",
     "text": [
      "Help on class XGBClassifier in module xgboost.sklearn:\n",
      "\n",
      "class XGBClassifier(XGBModel, sklearn.base.ClassifierMixin)\n",
      " |  XGBClassifier(objective='binary:logistic', **kwargs)\n",
      " |  \n",
      " |  Implementation of the scikit-learn API for XGBoost classification.\n",
      " |  \n",
      " |  \n",
      " |  Parameters\n",
      " |  ----------\n",
      " |  \n",
      " |      max_depth : int\n",
      " |          Maximum tree depth for base learners.\n",
      " |      learning_rate : float\n",
      " |          Boosting learning rate (xgb's \"eta\")\n",
      " |      verbosity : int\n",
      " |          The degree of verbosity. Valid values are 0 (silent) - 3 (debug).\n",
      " |      objective : string or callable\n",
      " |          Specify the learning task and the corresponding learning objective or\n",
      " |          a custom objective function to be used (see note below).\n",
      " |      booster: string\n",
      " |          Specify which booster to use: gbtree, gblinear or dart.\n",
      " |      tree_method: string\n",
      " |          Specify which tree method to use.  Default to auto.  If this parameter\n",
      " |          is set to default, XGBoost will choose the most conservative option\n",
      " |          available.  It's recommended to study this option from parameters\n",
      " |          document.\n",
      " |      n_jobs : int\n",
      " |          Number of parallel threads used to run xgboost.\n",
      " |      gamma : float\n",
      " |          Minimum loss reduction required to make a further partition on a leaf\n",
      " |          node of the tree.\n",
      " |      min_child_weight : int\n",
      " |          Minimum sum of instance weight(hessian) needed in a child.\n",
      " |      max_delta_step : int\n",
      " |          Maximum delta step we allow each tree's weight estimation to be.\n",
      " |      subsample : float\n",
      " |          Subsample ratio of the training instance.\n",
      " |      colsample_bytree : float\n",
      " |          Subsample ratio of columns when constructing each tree.\n",
      " |      colsample_bylevel : float\n",
      " |          Subsample ratio of columns for each level.\n",
      " |      colsample_bynode : float\n",
      " |          Subsample ratio of columns for each split.\n",
      " |      reg_alpha : float (xgb's alpha)\n",
      " |          L1 regularization term on weights\n",
      " |      reg_lambda : float (xgb's lambda)\n",
      " |          L2 regularization term on weights\n",
      " |      scale_pos_weight : float\n",
      " |          Balancing of positive and negative weights.\n",
      " |      base_score:\n",
      " |          The initial prediction score of all instances, global bias.\n",
      " |      random_state : int\n",
      " |          Random number seed.\n",
      " |  \n",
      " |          .. note::\n",
      " |  \n",
      " |             Using gblinear booster with shotgun updater is nondeterministic as\n",
      " |             it uses Hogwild algorithm.\n",
      " |  \n",
      " |      missing : float, default np.nan\n",
      " |          Value in the data which needs to be present as a missing value.\n",
      " |      num_parallel_tree: int\n",
      " |          Used for boosting random forest.\n",
      " |      monotone_constraints : str\n",
      " |          Constraint of variable monotonicity.  See tutorial for more\n",
      " |          information.\n",
      " |      interaction_constraints : str\n",
      " |          Constraints for interaction representing permitted interactions.  The\n",
      " |          constraints must be specified in the form of a nest list, e.g. [[0, 1],\n",
      " |          [2, 3, 4]], where each inner list is a group of indices of features\n",
      " |          that are allowed to interact with each other.  See tutorial for more\n",
      " |          information\n",
      " |      importance_type: string, default \"gain\"\n",
      " |          The feature importance type for the feature_importances\\_ property:\n",
      " |          either \"gain\", \"weight\", \"cover\", \"total_gain\" or \"total_cover\".\n",
      " |  \n",
      " |      \\*\\*kwargs : dict, optional\n",
      " |          Keyword arguments for XGBoost Booster object.  Full documentation of\n",
      " |          parameters can be found here:\n",
      " |          https://github.com/dmlc/xgboost/blob/master/doc/parameter.rst.\n",
      " |          Attempting to set a parameter via the constructor args and \\*\\*kwargs\n",
      " |          dict simultaneously will result in a TypeError.\n",
      " |  \n",
      " |          .. note:: \\*\\*kwargs unsupported by scikit-learn\n",
      " |  \n",
      " |              \\*\\*kwargs is unsupported by scikit-learn.  We do not guarantee\n",
      " |              that parameters passed via this argument will interact properly\n",
      " |              with scikit-learn.\n",
      " |  \n",
      " |          .. note::  Custom objective function\n",
      " |  \n",
      " |              A custom objective function can be provided for the ``objective``\n",
      " |              parameter. In this case, it should have the signature\n",
      " |              ``objective(y_true, y_pred) -> grad, hess``:\n",
      " |  \n",
      " |              y_true: array_like of shape [n_samples]\n",
      " |                  The target values\n",
      " |              y_pred: array_like of shape [n_samples]\n",
      " |                  The predicted values\n",
      " |  \n",
      " |              grad: array_like of shape [n_samples]\n",
      " |                  The value of the gradient for each sample point.\n",
      " |              hess: array_like of shape [n_samples]\n",
      " |                  The value of the second derivative for each sample point\n",
      " |  \n",
      " |  Method resolution order:\n",
      " |      XGBClassifier\n",
      " |      XGBModel\n",
      " |      sklearn.base.BaseEstimator\n",
      " |      sklearn.base.ClassifierMixin\n",
      " |      builtins.object\n",
      " |  \n",
      " |  Methods defined here:\n",
      " |  \n",
      " |  __init__(self, objective='binary:logistic', **kwargs)\n",
      " |      Initialize self.  See help(type(self)) for accurate signature.\n",
      " |  \n",
      " |  evals_result(self)\n",
      " |      Return the evaluation results.\n",
      " |      \n",
      " |      If **eval_set** is passed to the `fit` function, you can call\n",
      " |      ``evals_result()`` to get evaluation results for all passed **eval_sets**.\n",
      " |      When **eval_metric** is also passed to the `fit` function, the\n",
      " |      **evals_result** will contain the **eval_metrics** passed to the `fit` function.\n",
      " |      \n",
      " |      Returns\n",
      " |      -------\n",
      " |      evals_result : dictionary\n",
      " |      \n",
      " |      Example\n",
      " |      -------\n",
      " |      \n",
      " |      .. code-block:: python\n",
      " |      \n",
      " |          param_dist = {'objective':'binary:logistic', 'n_estimators':2}\n",
      " |      \n",
      " |          clf = xgb.XGBClassifier(**param_dist)\n",
      " |      \n",
      " |          clf.fit(X_train, y_train,\n",
      " |                  eval_set=[(X_train, y_train), (X_test, y_test)],\n",
      " |                  eval_metric='logloss',\n",
      " |                  verbose=True)\n",
      " |      \n",
      " |          evals_result = clf.evals_result()\n",
      " |      \n",
      " |      The variable **evals_result** will contain\n",
      " |      \n",
      " |      .. code-block:: python\n",
      " |      \n",
      " |          {'validation_0': {'logloss': ['0.604835', '0.531479']},\n",
      " |          'validation_1': {'logloss': ['0.41965', '0.17686']}}\n",
      " |  \n",
      " |  fit(self, X, y, sample_weight=None, base_margin=None, eval_set=None, eval_metric=None, early_stopping_rounds=None, verbose=True, xgb_model=None, sample_weight_eval_set=None, callbacks=None)\n",
      " |      Fit gradient boosting classifier\n",
      " |      \n",
      " |      Parameters\n",
      " |      ----------\n",
      " |      X : array_like\n",
      " |          Feature matrix\n",
      " |      y : array_like\n",
      " |          Labels\n",
      " |      sample_weight : array_like\n",
      " |          instance weights\n",
      " |      base_margin : array_like\n",
      " |          global bias for each instance.\n",
      " |      eval_set : list, optional\n",
      " |          A list of (X, y) tuple pairs to use as validation sets, for which\n",
      " |          metrics will be computed.\n",
      " |          Validation metrics will help us track the performance of the model.\n",
      " |      sample_weight_eval_set : list, optional\n",
      " |          A list of the form [L_1, L_2, ..., L_n], where each L_i is a list of\n",
      " |          instance weights on the i-th validation set.\n",
      " |      eval_metric : str, list of str, or callable, optional\n",
      " |          If a str, should be a built-in evaluation metric to use. See\n",
      " |          doc/parameter.rst.\n",
      " |          If a list of str, should be the list of multiple built-in evaluation metrics\n",
      " |          to use.\n",
      " |          If callable, a custom evaluation metric. The call\n",
      " |          signature is ``func(y_predicted, y_true)`` where ``y_true`` will be a\n",
      " |          DMatrix object such that you may need to call the ``get_label``\n",
      " |          method. It must return a str, value pair where the str is a name\n",
      " |          for the evaluation and value is the value of the evaluation\n",
      " |          function. The callable custom objective is always minimized.\n",
      " |      early_stopping_rounds : int\n",
      " |          Activates early stopping. Validation metric needs to improve at least once in\n",
      " |          every **early_stopping_rounds** round(s) to continue training.\n",
      " |          Requires at least one item in **eval_set**.\n",
      " |          The method returns the model from the last iteration (not the best one).\n",
      " |          If there's more than one item in **eval_set**, the last entry will be used\n",
      " |          for early stopping.\n",
      " |          If there's more than one metric in **eval_metric**, the last metric will be\n",
      " |          used for early stopping.\n",
      " |          If early stopping occurs, the model will have three additional fields:\n",
      " |          ``clf.best_score``, ``clf.best_iteration`` and ``clf.best_ntree_limit``.\n",
      " |      verbose : bool\n",
      " |          If `verbose` and an evaluation set is used, writes the evaluation\n",
      " |          metric measured on the validation set to stderr.\n",
      " |      xgb_model : str\n",
      " |          file name of stored XGBoost model or 'Booster' instance XGBoost model to be\n",
      " |          loaded before training (allows training continuation).\n",
      " |      callbacks : list of callback functions\n",
      " |          List of callback functions that are applied at end of each iteration.\n",
      " |          It is possible to use predefined callbacks by using :ref:`callback_api`.\n",
      " |          Example:\n",
      " |      \n",
      " |          .. code-block:: python\n",
      " |      \n",
      " |              [xgb.callback.reset_learning_rate(custom_rates)]\n",
      " |  \n",
      " |  predict(self, data, output_margin=False, ntree_limit=None, validate_features=True, base_margin=None)\n",
      " |      Predict with `data`.\n",
      " |      \n",
      " |      .. note:: This function is not thread safe.\n",
      " |      \n",
      " |        For each booster object, predict can only be called from one thread.\n",
      " |        If you want to run prediction using multiple thread, call\n",
      " |        ``xgb.copy()`` to make copies of model object and then call\n",
      " |        ``predict()``.\n",
      " |      \n",
      " |        .. code-block:: python\n",
      " |      \n",
      " |          preds = bst.predict(dtest, ntree_limit=num_round)\n",
      " |      \n",
      " |      Parameters\n",
      " |      ----------\n",
      " |      data : array_like\n",
      " |          The dmatrix storing the input.\n",
      " |      output_margin : bool\n",
      " |          Whether to output the raw untransformed margin value.\n",
      " |      ntree_limit : int\n",
      " |          Limit number of trees in the prediction; defaults to\n",
      " |          best_ntree_limit if defined (i.e. it has been trained with early\n",
      " |          stopping), otherwise 0 (use all trees).\n",
      " |      validate_features : bool\n",
      " |          When this is True, validate that the Booster's and data's\n",
      " |          feature_names are identical.  Otherwise, it is assumed that the\n",
      " |          feature_names are the same.\n",
      " |      \n",
      " |      Returns\n",
      " |      -------\n",
      " |      prediction : numpy array\n",
      " |  \n",
      " |  predict_proba(self, data, ntree_limit=None, validate_features=True, base_margin=None)\n",
      " |      Predict the probability of each `data` example being of a given class.\n",
      " |      \n",
      " |      .. note:: This function is not thread safe\n",
      " |      \n",
      " |          For each booster object, predict can only be called from one\n",
      " |          thread.  If you want to run prediction using multiple thread, call\n",
      " |          ``xgb.copy()`` to make copies of model object and then call predict\n",
      " |      \n",
      " |      Parameters\n",
      " |      ----------\n",
      " |      data : DMatrix\n",
      " |          The dmatrix storing the input.\n",
      " |      ntree_limit : int\n",
      " |          Limit number of trees in the prediction; defaults to best_ntree_limit if defined\n",
      " |          (i.e. it has been trained with early stopping), otherwise 0 (use all trees).\n",
      " |      validate_features : bool\n",
      " |          When this is True, validate that the Booster's and data's feature_names are identical.\n",
      " |          Otherwise, it is assumed that the feature_names are the same.\n",
      " |      \n",
      " |      Returns\n",
      " |      -------\n",
      " |      prediction : numpy array\n",
      " |          a numpy array with the probability of each data example being of a given class.\n",
      " |  \n",
      " |  ----------------------------------------------------------------------\n",
      " |  Methods inherited from XGBModel:\n",
      " |  \n",
      " |  apply(self, X, ntree_limit=0)\n",
      " |      Return the predicted leaf every tree for each sample.\n",
      " |      \n",
      " |      Parameters\n",
      " |      ----------\n",
      " |      X : array_like, shape=[n_samples, n_features]\n",
      " |          Input features matrix.\n",
      " |      \n",
      " |      ntree_limit : int\n",
      " |          Limit number of trees in the prediction; defaults to 0 (use all trees).\n",
      " |      \n",
      " |      Returns\n",
      " |      -------\n",
      " |      X_leaves : array_like, shape=[n_samples, n_trees]\n",
      " |          For each datapoint x in X and for each tree, return the index of the\n",
      " |          leaf x ends up in. Leaves are numbered within\n",
      " |          ``[0; 2**(self.max_depth+1))``, possibly with gaps in the numbering.\n",
      " |  \n",
      " |  get_booster(self)\n",
      " |      Get the underlying xgboost Booster of this model.\n",
      " |      \n",
      " |      This will raise an exception when fit was not called\n",
      " |      \n",
      " |      Returns\n",
      " |      -------\n",
      " |      booster : a xgboost booster of underlying model\n",
      " |  \n",
      " |  get_num_boosting_rounds(self)\n",
      " |      Gets the number of xgboost boosting rounds.\n",
      " |  \n",
      " |  get_params(self, deep=True)\n",
      " |      Get parameters.\n",
      " |  \n",
      " |  get_xgb_params(self)\n",
      " |      Get xgboost specific parameters.\n",
      " |  \n",
      " |  load_model(self, fname)\n",
      " |      Load the model from a file.\n",
      " |      \n",
      " |      The model is loaded from an XGBoost internal format which is universal\n",
      " |      among the various XGBoost interfaces. Auxiliary attributes of the\n",
      " |      Python Booster object (such as feature names) will not be loaded.\n",
      " |      \n",
      " |      Parameters\n",
      " |      ----------\n",
      " |      fname : string\n",
      " |          Input file name.\n",
      " |  \n",
      " |  save_model(self, fname: str)\n",
      " |      Save the model to a file.\n",
      " |      \n",
      " |      The model is saved in an XGBoost internal format which is universal\n",
      " |      among the various XGBoost interfaces. Auxiliary attributes of the\n",
      " |      Python Booster object (such as feature names) will not be saved.\n",
      " |      \n",
      " |        .. note::\n",
      " |      \n",
      " |          See:\n",
      " |      \n",
      " |          https://xgboost.readthedocs.io/en/latest/tutorials/saving_model.html\n",
      " |      \n",
      " |      Parameters\n",
      " |      ----------\n",
      " |      fname : string\n",
      " |          Output file name\n",
      " |  \n",
      " |  set_params(self, **params)\n",
      " |      Set the parameters of this estimator.  Modification of the sklearn method to\n",
      " |      allow unknown kwargs. This allows using the full range of xgboost\n",
      " |      parameters that are not defined as member variables in sklearn grid\n",
      " |      search.\n",
      " |      \n",
      " |      Returns\n",
      " |      -------\n",
      " |      self\n",
      " |  \n",
      " |  ----------------------------------------------------------------------\n",
      " |  Data descriptors inherited from XGBModel:\n",
      " |  \n",
      " |  coef_\n",
      " |      Coefficients property\n",
      " |      \n",
      " |      .. note:: Coefficients are defined only for linear learners\n",
      " |      \n",
      " |          Coefficients are only defined when the linear model is chosen as\n",
      " |          base learner (`booster=gblinear`). It is not defined for other base\n",
      " |          learner types, such as tree learners (`booster=gbtree`).\n",
      " |      \n",
      " |      Returns\n",
      " |      -------\n",
      " |      coef_ : array of shape ``[n_features]`` or ``[n_classes, n_features]``\n",
      " |  \n",
      " |  feature_importances_\n",
      " |      Feature importances property\n",
      " |      \n",
      " |      .. note:: Feature importance is defined only for tree boosters\n",
      " |      \n",
      " |          Feature importance is only defined when the decision tree model is chosen as base\n",
      " |          learner (`booster=gbtree`). It is not defined for other base learner types, such\n",
      " |          as linear learners (`booster=gblinear`).\n",
      " |      \n",
      " |      Returns\n",
      " |      -------\n",
      " |      feature_importances_ : array of shape ``[n_features]``\n",
      " |  \n",
      " |  intercept_\n",
      " |      Intercept (bias) property\n",
      " |      \n",
      " |      .. note:: Intercept is defined only for linear learners\n",
      " |      \n",
      " |          Intercept (bias) is only defined when the linear model is chosen as base\n",
      " |          learner (`booster=gblinear`). It is not defined for other base learner types, such\n",
      " |          as tree learners (`booster=gbtree`).\n",
      " |      \n",
      " |      Returns\n",
      " |      -------\n",
      " |      intercept_ : array of shape ``(1,)`` or ``[n_classes]``\n",
      " |  \n",
      " |  ----------------------------------------------------------------------\n",
      " |  Methods inherited from sklearn.base.BaseEstimator:\n",
      " |  \n",
      " |  __getstate__(self)\n",
      " |  \n",
      " |  __repr__(self)\n",
      " |      Return repr(self).\n",
      " |  \n",
      " |  __setstate__(self, state)\n",
      " |  \n",
      " |  ----------------------------------------------------------------------\n",
      " |  Data descriptors inherited from sklearn.base.BaseEstimator:\n",
      " |  \n",
      " |  __dict__\n",
      " |      dictionary for instance variables (if defined)\n",
      " |  \n",
      " |  __weakref__\n",
      " |      list of weak references to the object (if defined)\n",
      " |  \n",
      " |  ----------------------------------------------------------------------\n",
      " |  Methods inherited from sklearn.base.ClassifierMixin:\n",
      " |  \n",
      " |  score(self, X, y, sample_weight=None)\n",
      " |      Returns the mean accuracy on the given test data and labels.\n",
      " |      \n",
      " |      In multi-label classification, this is the subset accuracy\n",
      " |      which is a harsh metric since you require for each sample that\n",
      " |      each label set be correctly predicted.\n",
      " |      \n",
      " |      Parameters\n",
      " |      ----------\n",
      " |      X : array-like, shape = (n_samples, n_features)\n",
      " |          Test samples.\n",
      " |      \n",
      " |      y : array-like, shape = (n_samples) or (n_samples, n_outputs)\n",
      " |          True labels for X.\n",
      " |      \n",
      " |      sample_weight : array-like, shape = [n_samples], optional\n",
      " |          Sample weights.\n",
      " |      \n",
      " |      Returns\n",
      " |      -------\n",
      " |      score : float\n",
      " |          Mean accuracy of self.predict(X) wrt. y.\n",
      "\n"
     ]
    }
   ],
   "source": [
    "help(XGBClassifier)"
   ]
  },
  {
   "cell_type": "code",
   "execution_count": 189,
   "metadata": {},
   "outputs": [],
   "source": [
    "# from the above work, I find the ICA+xgboost can be the best combination.\n",
    "# Tne I choose this method and try to improve this."
   ]
  },
  {
   "cell_type": "code",
   "execution_count": 190,
   "metadata": {},
   "outputs": [],
   "source": [
    "# First consider the best dimention of ICA method."
   ]
  },
  {
   "cell_type": "code",
   "execution_count": 191,
   "metadata": {},
   "outputs": [],
   "source": [
    "xgboost = XGBClassifier(\n",
    "    n_estimators=30,\n",
    "    learning_rate =0.4,\n",
    "    max_depth=4,\n",
    "    min_child_weight=1,\n",
    "    gamma=0.3,\n",
    "    subsample=0.8,\n",
    "    colsample_bytree=0.8,\n",
    "    objective= 'binary:logistic',\n",
    "    nthread=12,\n",
    "    reg_lambda=1,\n",
    "    seed=27)"
   ]
  },
  {
   "cell_type": "code",
   "execution_count": 193,
   "metadata": {},
   "outputs": [
    {
     "name": "stderr",
     "output_type": "stream",
     "text": [
      "C:\\Users\\user\\Anaconda3\\lib\\site-packages\\sklearn\\decomposition\\fastica_.py:121: ConvergenceWarning: FastICA did not converge. Consider increasing tolerance or the maximum number of iterations.\n",
      "  ConvergenceWarning)\n"
     ]
    }
   ],
   "source": [
    "from sklearn.metrics import accuracy_score\n",
    "Scores=[]\n",
    "a = 0\n",
    "for i in range(2,20):\n",
    "    ICA = FastICA(n_components=i,random_state=40) \n",
    "    X_ICA=ICA.fit_transform(X_n)\n",
    "    X_ICA_labeled=np.vstack((X_ICA[0:40],X_ICA[50:70],X_ICA[80:90],X_ICA[160:220],X_ICA[230:600],X_ICA[610:800],X_ICA[810:890]))\n",
    "    summary=0\n",
    "    n=20\n",
    "    for j in range(0,20):\n",
    "        xIca_train, xIca_test, yIca_train, yIca_test = train_test_split(X_ICA_labeled,target_labeled, test_size=0.3)\n",
    "        xgboost.fit(xIca_train, yIca_train)\n",
    "        summary = accuracy_score(yIca_test, xgboost.predict(xIca_test))+summary\n",
    "    a = summary/n\n",
    "    Scores.append(a)  "
   ]
  },
  {
   "cell_type": "code",
   "execution_count": 194,
   "metadata": {},
   "outputs": [
    {
     "data": {
      "text/plain": [
       "11"
      ]
     },
     "execution_count": 194,
     "metadata": {},
     "output_type": "execute_result"
    }
   ],
   "source": [
    "max_index1 = Scores.index(max(Scores))\n",
    "n2 = max_index1 + 2\n",
    "n2"
   ]
  },
  {
   "cell_type": "code",
   "execution_count": 195,
   "metadata": {},
   "outputs": [],
   "source": [
    "N=array([2,3,4,5,6,7,8,9,10,11,12,13,14,15,16,17,18,19])"
   ]
  },
  {
   "cell_type": "code",
   "execution_count": 196,
   "metadata": {},
   "outputs": [
    {
     "data": {
      "text/plain": [
       "[<matplotlib.lines.Line2D at 0x183a80da198>]"
      ]
     },
     "execution_count": 196,
     "metadata": {},
     "output_type": "execute_result"
    },
    {
     "data": {
      "image/png": "[encoded data removed]",
      "text/plain": [
       "<Figure size 432x288 with 1 Axes>"
      ]
     },
     "metadata": {
      "needs_background": "light"
     },
     "output_type": "display_data"
    }
   ],
   "source": [
    "plt.plot(N,Scores)"
   ]
  },
  {
   "cell_type": "code",
   "execution_count": 200,
   "metadata": {},
   "outputs": [],
   "source": [
    "# from the above work, we can find the dimension 11 is a good choice."
   ]
  },
  {
   "cell_type": "code",
   "execution_count": 197,
   "metadata": {},
   "outputs": [],
   "source": [
    "ICA = FastICA(n_components=11,random_state=40) \n",
    "X_ICA=ICA.fit_transform(X_n)\n",
    "X_ICA_labeled=np.vstack((X_ICA[0:40],X_ICA[50:70],X_ICA[80:90],X_ICA[160:220],X_ICA[230:600],X_ICA[610:800],X_ICA[810:890]))"
   ]
  },
  {
   "cell_type": "code",
   "execution_count": 201,
   "metadata": {},
   "outputs": [],
   "source": [
    "# then to avoid overfitting, repeat the random split for 100 times and calculate the mean.\n",
    "# Can also use cross_valid, but the effect won't be good since there are many classes but little samples, even some class with only 10 \n",
    "# samples, so the cross_valid is not good here."
   ]
  },
  {
   "cell_type": "code",
   "execution_count": 198,
   "metadata": {},
   "outputs": [
    {
     "data": {
      "text/plain": [
       "0.964657534246575"
      ]
     },
     "execution_count": 198,
     "metadata": {},
     "output_type": "execute_result"
    }
   ],
   "source": [
    "summary=0\n",
    "n=100\n",
    "for j in range(0,100):\n",
    "    xIca_train, xIca_test, yIca_train, yIca_test = train_test_split(X_ICA_labeled,target_labeled, test_size=0.4)\n",
    "    clf.fit(xIca_train, yIca_train)\n",
    "    summary = accuracy_score(yIca_test, clf.predict(xIca_test))+summary\n",
    "a = summary/n\n",
    "a"
   ]
  },
  {
   "cell_type": "code",
   "execution_count": 208,
   "metadata": {},
   "outputs": [
    {
     "name": "stderr",
     "output_type": "stream",
     "text": [
      "C:\\Users\\user\\Anaconda3\\lib\\site-packages\\sklearn\\model_selection\\_split.py:652: Warning: The least populated class in y has only 10 members, which is too few. The minimum number of members in any class cannot be less than n_splits=30.\n",
      "  % (min_groups, self.n_splits)), Warning)\n"
     ]
    },
    {
     "data": {
      "text/plain": [
       "0.9393015873015874"
      ]
     },
     "execution_count": 208,
     "metadata": {},
     "output_type": "execute_result"
    }
   ],
   "source": [
    "from sklearn.model_selection import cross_val_score\n",
    "a = cross_val_score(xgboost , X_ICA_labeled,target_labeled, cv=30) \n",
    "sum(a)/30"
   ]
  },
  {
   "cell_type": "code",
   "execution_count": 209,
   "metadata": {},
   "outputs": [],
   "source": [
    "# Then calculate the time."
   ]
  },
  {
   "cell_type": "code",
   "execution_count": 251,
   "metadata": {},
   "outputs": [
    {
     "name": "stderr",
     "output_type": "stream",
     "text": [
      "C:\\Users\\user\\Anaconda3\\lib\\site-packages\\ipykernel_launcher.py:2: DeprecationWarning: time.clock has been deprecated in Python 3.3 and will be removed from Python 3.8: use time.perf_counter or time.process_time instead\n",
      "  \n"
     ]
    },
    {
     "name": "stdout",
     "output_type": "stream",
     "text": [
      "Running time: 16.845676700002514 Seconds\n"
     ]
    },
    {
     "name": "stderr",
     "output_type": "stream",
     "text": [
      "C:\\Users\\user\\Anaconda3\\lib\\site-packages\\ipykernel_launcher.py:24: DeprecationWarning: time.clock has been deprecated in Python 3.3 and will be removed from Python 3.8: use time.perf_counter or time.process_time instead\n"
     ]
    }
   ],
   "source": [
    "import time\n",
    "start =time.clock()\n",
    "clf = XGBClassifier(\n",
    "    n_estimators=30,\n",
    "    learning_rate =0.4,\n",
    "    max_depth=4,\n",
    "    min_child_weight=1,\n",
    "    gamma=0.3,\n",
    "    subsample=0.8,\n",
    "    colsample_bytree=0.8,\n",
    "    objective= 'binary:logistic',\n",
    "    nthread=12,\n",
    "    reg_lambda=1,\n",
    "    seed=27)\n",
    "# your pragrama\n",
    "summary=0\n",
    "n=100\n",
    "for j in range(0,100):\n",
    "    xIca_train, xIca_test, yIca_train, yIca_test = train_test_split(X_ICA_labeled,target_labeled, test_size=0.3)\n",
    "    clf.fit(xIca_train, yIca_train)\n",
    "    summary = accuracy_score(yIca_test, clf.predict(xIca_test))+summary\n",
    "a = summary/n\n",
    "\n",
    "end=time.clock()\n",
    "\n",
    "print('Running time: %s Seconds'%(end-start))"
   ]
  },
  {
   "cell_type": "code",
   "execution_count": 211,
   "metadata": {},
   "outputs": [],
   "source": [
    "# For all the work, I also find the the xgboost model a little overfitting, and the parameters can be improved.\n",
    "# Now we consider this."
   ]
  },
  {
   "cell_type": "code",
   "execution_count": 217,
   "metadata": {},
   "outputs": [],
   "source": [
    "from sklearn.model_selection import GridSearchCV\n",
    "import xgboost as xgb"
   ]
  },
  {
   "cell_type": "code",
   "execution_count": 231,
   "metadata": {},
   "outputs": [],
   "source": [
    "# first try to find the suitable value of n_estimators."
   ]
  },
  {
   "cell_type": "code",
   "execution_count": 229,
   "metadata": {},
   "outputs": [
    {
     "name": "stderr",
     "output_type": "stream",
     "text": [
      "C:\\Users\\user\\Anaconda3\\lib\\site-packages\\sklearn\\model_selection\\_split.py:652: Warning: The least populated class in y has only 10 members, which is too few. The minimum number of members in any class cannot be less than n_splits=40.\n",
      "  % (min_groups, self.n_splits)), Warning)\n",
      "C:\\Users\\user\\Anaconda3\\lib\\site-packages\\sklearn\\model_selection\\_search.py:841: DeprecationWarning: The default of the `iid` parameter will change from True to False in version 0.22 and will be removed in 0.24. This will change numeric results when test-set sizes are unequal.\n",
      "  DeprecationWarning)\n"
     ]
    },
    {
     "name": "stdout",
     "output_type": "stream",
     "text": [
      "best parameter：{'n_estimators': 40}\n",
      "best score:0.9657534246575342\n"
     ]
    }
   ],
   "source": [
    "ICA = FastICA(n_components=11,random_state=40) \n",
    "X_ICA=ICA.fit_transform(X_n)\n",
    "X_ICA_labeled=np.vstack((X_ICA[0:40],X_ICA[50:70],X_ICA[80:90],X_ICA[160:220],X_ICA[230:600],X_ICA[610:800],X_ICA[810:890]))\n",
    "\n",
    "cv_params = {'n_estimators': [10,20, 30, 40, 50, 60,70]}\n",
    "other_params = {\"learning_rate\": 0.4, \"max_depth\": 4, \"min_child_weight\": 1, \"gamma\": 0.3, \"subsample\": 0.8, \"colsample_bytree\": 0.8,\n",
    "                \"objective\": 'binary:logistic', \"nthread\": 12, \"reg_lambda\": 1, \"seed\": 27, \"n_estimators\": 30}\n",
    "\n",
    "model = xgb.XGBClassifier(**other_params)\n",
    "optimized_GBM = GridSearchCV(estimator=model, param_grid=cv_params, cv=40)\n",
    "optimized_GBM.fit(X_ICA_labeled, target_labeled)\n",
    "\n",
    "print('best parameter：{0}'.format(optimized_GBM.best_params_))\n",
    "print('best score:{0}'.format(optimized_GBM.best_score_))"
   ]
  },
  {
   "cell_type": "code",
   "execution_count": 232,
   "metadata": {},
   "outputs": [
    {
     "name": "stderr",
     "output_type": "stream",
     "text": [
      "C:\\Users\\user\\Anaconda3\\lib\\site-packages\\sklearn\\model_selection\\_split.py:652: Warning: The least populated class in y has only 10 members, which is too few. The minimum number of members in any class cannot be less than n_splits=40.\n",
      "  % (min_groups, self.n_splits)), Warning)\n",
      "C:\\Users\\user\\Anaconda3\\lib\\site-packages\\sklearn\\model_selection\\_search.py:841: DeprecationWarning: The default of the `iid` parameter will change from True to False in version 0.22 and will be removed in 0.24. This will change numeric results when test-set sizes are unequal.\n",
      "  DeprecationWarning)\n"
     ]
    },
    {
     "name": "stdout",
     "output_type": "stream",
     "text": [
      "best parameter：{'n_estimators': 36}\n",
      "best score:0.9671232876712329\n"
     ]
    }
   ],
   "source": [
    "cv_params = {'n_estimators': [35, 36, 37, 38, 39, 40, 41, 42, 43, 44, 45]}\n",
    "other_params = {\"learning_rate\": 0.4, \"max_depth\": 4, \"min_child_weight\": 1, \"gamma\": 0.3, \"subsample\": 0.8, \"colsample_bytree\": 0.8,\n",
    "                \"objective\": 'binary:logistic', \"nthread\": 12, \"reg_lambda\": 1, \"seed\": 27, \"n_estimators\": 40}\n",
    "\n",
    "model = xgb.XGBClassifier(**other_params)\n",
    "optimized_GBM = GridSearchCV(estimator=model, param_grid=cv_params, cv=40)\n",
    "optimized_GBM.fit(X_ICA_labeled, target_labeled)\n",
    "\n",
    "print('best parameter：{0}'.format(optimized_GBM.best_params_))\n",
    "print('best score:{0}'.format(optimized_GBM.best_score_))"
   ]
  },
  {
   "cell_type": "code",
   "execution_count": 233,
   "metadata": {},
   "outputs": [],
   "source": [
    "# so now I can choose the n_estimator = 36\n",
    "# The we try to estimate the suitable value of max_depth and min_child_weight."
   ]
  },
  {
   "cell_type": "code",
   "execution_count": 234,
   "metadata": {},
   "outputs": [
    {
     "name": "stderr",
     "output_type": "stream",
     "text": [
      "C:\\Users\\user\\Anaconda3\\lib\\site-packages\\sklearn\\model_selection\\_split.py:652: Warning: The least populated class in y has only 10 members, which is too few. The minimum number of members in any class cannot be less than n_splits=40.\n",
      "  % (min_groups, self.n_splits)), Warning)\n",
      "C:\\Users\\user\\Anaconda3\\lib\\site-packages\\sklearn\\model_selection\\_search.py:841: DeprecationWarning: The default of the `iid` parameter will change from True to False in version 0.22 and will be removed in 0.24. This will change numeric results when test-set sizes are unequal.\n",
      "  DeprecationWarning)\n"
     ]
    },
    {
     "name": "stdout",
     "output_type": "stream",
     "text": [
      "best parameter：{'max_depth': 4, 'min_child_weight': 1}\n",
      "best score:0.9671232876712329\n"
     ]
    }
   ],
   "source": [
    "cv_params = {'max_depth': [2, 3, 4, 5, 6, 7], 'min_child_weight': [1, 2, 3, 4, 5, 6]}\n",
    "other_params = {\"learning_rate\": 0.4, \"max_depth\": 4, \"min_child_weight\": 1, \"gamma\": 0.3, \"subsample\": 0.8, \"colsample_bytree\": 0.8,\n",
    "                \"objective\": 'binary:logistic', \"nthread\": 12, \"reg_lambda\": 1, \"seed\": 27, \"n_estimators\": 36}\n",
    "model = xgb.XGBClassifier(**other_params)\n",
    "optimized_GBM = GridSearchCV(estimator=model, param_grid=cv_params, cv=40)\n",
    "optimized_GBM.fit(X_ICA_labeled, target_labeled)\n",
    "\n",
    "print('best parameter：{0}'.format(optimized_GBM.best_params_))\n",
    "print('best score:{0}'.format(optimized_GBM.best_score_))"
   ]
  },
  {
   "cell_type": "code",
   "execution_count": 235,
   "metadata": {},
   "outputs": [],
   "source": [
    "# so now I can choose the max_depth =  4, the min_child_weight = 1.\n",
    "# Then we try to estimate the best value of gamma."
   ]
  },
  {
   "cell_type": "code",
   "execution_count": 236,
   "metadata": {},
   "outputs": [
    {
     "name": "stderr",
     "output_type": "stream",
     "text": [
      "C:\\Users\\user\\Anaconda3\\lib\\site-packages\\sklearn\\model_selection\\_split.py:652: Warning: The least populated class in y has only 10 members, which is too few. The minimum number of members in any class cannot be less than n_splits=40.\n",
      "  % (min_groups, self.n_splits)), Warning)\n",
      "C:\\Users\\user\\Anaconda3\\lib\\site-packages\\sklearn\\model_selection\\_search.py:841: DeprecationWarning: The default of the `iid` parameter will change from True to False in version 0.22 and will be removed in 0.24. This will change numeric results when test-set sizes are unequal.\n",
      "  DeprecationWarning)\n"
     ]
    },
    {
     "name": "stdout",
     "output_type": "stream",
     "text": [
      "best parameter：{'gamma': 0.2}\n",
      "best score:0.9684931506849315\n"
     ]
    }
   ],
   "source": [
    "cv_params = {'gamma': [0.1, 0.2, 0.3, 0.4, 0.5, 0.6, 0.7]}\n",
    "other_params = {\"learning_rate\": 0.4, \"max_depth\": 4, \"min_child_weight\": 1, \"gamma\": 0.3, \"subsample\": 0.8, \"colsample_bytree\": 0.8,\n",
    "                \"objective\": 'binary:logistic', \"nthread\": 12, \"reg_lambda\": 1, \"seed\": 27, \"n_estimators\": 36}\n",
    "model = xgb.XGBClassifier(**other_params)\n",
    "optimized_GBM = GridSearchCV(estimator=model, param_grid=cv_params, cv=40)\n",
    "optimized_GBM.fit(X_ICA_labeled, target_labeled)\n",
    "\n",
    "print('best parameter：{0}'.format(optimized_GBM.best_params_))\n",
    "print('best score:{0}'.format(optimized_GBM.best_score_))"
   ]
  },
  {
   "cell_type": "code",
   "execution_count": 238,
   "metadata": {},
   "outputs": [
    {
     "name": "stderr",
     "output_type": "stream",
     "text": [
      "C:\\Users\\user\\Anaconda3\\lib\\site-packages\\sklearn\\model_selection\\_split.py:652: Warning: The least populated class in y has only 10 members, which is too few. The minimum number of members in any class cannot be less than n_splits=40.\n",
      "  % (min_groups, self.n_splits)), Warning)\n",
      "C:\\Users\\user\\Anaconda3\\lib\\site-packages\\sklearn\\model_selection\\_search.py:841: DeprecationWarning: The default of the `iid` parameter will change from True to False in version 0.22 and will be removed in 0.24. This will change numeric results when test-set sizes are unequal.\n",
      "  DeprecationWarning)\n"
     ]
    },
    {
     "name": "stdout",
     "output_type": "stream",
     "text": [
      "best parameter：{'gamma': 0.12}\n",
      "best score:0.9698630136986301\n"
     ]
    }
   ],
   "source": [
    "cv_params = {'gamma': [0.1,0.12,0.14,0.16,0.18,0.2,0.22,0.24,0.26,0.28,0.3]}\n",
    "other_params = {\"learning_rate\": 0.4, \"max_depth\": 4, \"min_child_weight\": 1, \"gamma\": 0.2, \"subsample\": 0.8, \"colsample_bytree\": 0.8,\n",
    "                \"objective\": 'binary:logistic', \"nthread\": 12, \"reg_lambda\": 1, \"seed\": 27, \"n_estimators\": 36}\n",
    "model = xgb.XGBClassifier(**other_params)\n",
    "optimized_GBM = GridSearchCV(estimator=model, param_grid=cv_params, cv=40)\n",
    "optimized_GBM.fit(X_ICA_labeled, target_labeled)\n",
    "\n",
    "print('best parameter：{0}'.format(optimized_GBM.best_params_))\n",
    "print('best score:{0}'.format(optimized_GBM.best_score_))"
   ]
  },
  {
   "cell_type": "code",
   "execution_count": 239,
   "metadata": {},
   "outputs": [],
   "source": [
    "# so now we can choose gamma = 0.12.\n",
    "# Then we can try to estimate subsample and colsample_bytree."
   ]
  },
  {
   "cell_type": "code",
   "execution_count": 241,
   "metadata": {},
   "outputs": [
    {
     "name": "stderr",
     "output_type": "stream",
     "text": [
      "C:\\Users\\user\\Anaconda3\\lib\\site-packages\\sklearn\\model_selection\\_split.py:652: Warning: The least populated class in y has only 10 members, which is too few. The minimum number of members in any class cannot be less than n_splits=40.\n",
      "  % (min_groups, self.n_splits)), Warning)\n",
      "C:\\Users\\user\\Anaconda3\\lib\\site-packages\\sklearn\\model_selection\\_search.py:841: DeprecationWarning: The default of the `iid` parameter will change from True to False in version 0.22 and will be removed in 0.24. This will change numeric results when test-set sizes are unequal.\n",
      "  DeprecationWarning)\n"
     ]
    },
    {
     "name": "stdout",
     "output_type": "stream",
     "text": [
      "best parameter：{'colsample_bytree': 0.8, 'subsample': 0.6}\n",
      "best score:0.9726027397260274\n"
     ]
    }
   ],
   "source": [
    "cv_params = {'subsample': [0.4,0.5,0.6, 0.7, 0.8, 0.9], 'colsample_bytree': [0.3, 0.4, 0.5, 0.6, 0.7, 0.8, 0.9]}\n",
    "other_params = {\"learning_rate\": 0.4, \"max_depth\": 4, \"min_child_weight\": 1, \"gamma\": 0.12, \"subsample\": 0.8, \"colsample_bytree\": 0.8,\n",
    "                \"objective\": 'binary:logistic', \"nthread\": 12, \"reg_lambda\": 1, \"seed\": 27, \"n_estimators\": 36}\n",
    "model = xgb.XGBClassifier(**other_params)\n",
    "optimized_GBM = GridSearchCV(estimator=model, param_grid=cv_params, cv=40)\n",
    "optimized_GBM.fit(X_ICA_labeled, target_labeled)\n",
    "\n",
    "print('best parameter：{0}'.format(optimized_GBM.best_params_))\n",
    "print('best score:{0}'.format(optimized_GBM.best_score_))"
   ]
  },
  {
   "cell_type": "code",
   "execution_count": 242,
   "metadata": {},
   "outputs": [],
   "source": [
    "# Then we can choose subsample = 0.6 , and colsample_bytree = 0.8 .\n",
    "# Next step we try to estimate reg_lambda."
   ]
  },
  {
   "cell_type": "code",
   "execution_count": 246,
   "metadata": {},
   "outputs": [
    {
     "name": "stderr",
     "output_type": "stream",
     "text": [
      "C:\\Users\\user\\Anaconda3\\lib\\site-packages\\sklearn\\model_selection\\_split.py:652: Warning: The least populated class in y has only 10 members, which is too few. The minimum number of members in any class cannot be less than n_splits=40.\n",
      "  % (min_groups, self.n_splits)), Warning)\n",
      "C:\\Users\\user\\Anaconda3\\lib\\site-packages\\sklearn\\model_selection\\_search.py:841: DeprecationWarning: The default of the `iid` parameter will change from True to False in version 0.22 and will be removed in 0.24. This will change numeric results when test-set sizes are unequal.\n",
      "  DeprecationWarning)\n"
     ]
    },
    {
     "name": "stdout",
     "output_type": "stream",
     "text": [
      "best parameter：{'reg_alpha': 0.05, 'reg_lambda': 1}\n",
      "best score:0.9712328767123287\n"
     ]
    }
   ],
   "source": [
    "cv_params = {'reg_lambda': [0.05, 0.1, 0.5, 0.8, 1, 1.2, 1.5, 2, 3] , 'reg_alpha':[0.05, 0.1, 0.5, 0.8, 1, 1.2, 1.5, 2, 3]}\n",
    "other_params = {\"learning_rate\": 0.4, \"max_depth\": 4, \"min_child_weight\": 1, \"gamma\": 0.12, \"subsample\": 0.6, \"colsample_bytree\": 0.8,\n",
    "                \"objective\": 'binary:logistic', \"nthread\": 12, \"reg_lambda\": 1, \"seed\": 27, \"n_estimators\": 36}\n",
    "model = xgb.XGBClassifier(**other_params)\n",
    "optimized_GBM = GridSearchCV(estimator=model, param_grid=cv_params, cv=40)\n",
    "optimized_GBM.fit(X_ICA_labeled, target_labeled)\n",
    "\n",
    "print('best parameter：{0}'.format(optimized_GBM.best_params_))\n",
    "print('best score:{0}'.format(optimized_GBM.best_score_))"
   ]
  },
  {
   "cell_type": "code",
   "execution_count": 247,
   "metadata": {},
   "outputs": [],
   "source": [
    "# Now the suitablle value of reg_lambda is about 1, the suitable value of reg_alpha can be about 0.05.\n",
    "# Next is the last step and I should estimate the suitable value of learning_rate."
   ]
  },
  {
   "cell_type": "code",
   "execution_count": 248,
   "metadata": {},
   "outputs": [
    {
     "name": "stderr",
     "output_type": "stream",
     "text": [
      "C:\\Users\\user\\Anaconda3\\lib\\site-packages\\sklearn\\model_selection\\_split.py:652: Warning: The least populated class in y has only 10 members, which is too few. The minimum number of members in any class cannot be less than n_splits=40.\n",
      "  % (min_groups, self.n_splits)), Warning)\n",
      "C:\\Users\\user\\Anaconda3\\lib\\site-packages\\sklearn\\model_selection\\_search.py:841: DeprecationWarning: The default of the `iid` parameter will change from True to False in version 0.22 and will be removed in 0.24. This will change numeric results when test-set sizes are unequal.\n",
      "  DeprecationWarning)\n"
     ]
    },
    {
     "name": "stdout",
     "output_type": "stream",
     "text": [
      "best parameter：{'learning_rate': 0.4}\n",
      "best score:0.9712328767123287\n"
     ]
    }
   ],
   "source": [
    "cv_params = {'learning_rate': [0.01, 0.05, 0.07, 0.1, 0.2, 0.3, 0.4, 0.5, 0.6, 0.7, 0.8, 0.9, 1]}\n",
    "other_params = {\"learning_rate\": 0.4, \"max_depth\": 4, \"min_child_weight\": 1, \"gamma\": 0.12, \"subsample\": 0.6, \"colsample_bytree\": 0.8,\n",
    "                \"objective\": 'binary:logistic', \"nthread\": 12, \"reg_lambda\": 1, \"seed\": 27, \"n_estimators\": 36, \"reg_alpha\": 0.05}\n",
    "model = xgb.XGBClassifier(**other_params)\n",
    "optimized_GBM = GridSearchCV(estimator=model, param_grid=cv_params, cv=40)\n",
    "optimized_GBM.fit(X_ICA_labeled, target_labeled)\n",
    "\n",
    "print('best parameter：{0}'.format(optimized_GBM.best_params_))\n",
    "print('best score:{0}'.format(optimized_GBM.best_score_))"
   ]
  },
  {
   "cell_type": "code",
   "execution_count": 249,
   "metadata": {},
   "outputs": [],
   "source": [
    "# so the learning_rate = 0.4 is a good choice."
   ]
  },
  {
   "cell_type": "code",
   "execution_count": 250,
   "metadata": {},
   "outputs": [],
   "source": [
    "# Now here is the new classifier model."
   ]
  },
  {
   "cell_type": "code",
   "execution_count": 253,
   "metadata": {},
   "outputs": [],
   "source": [
    "Xgboost = XGBClassifier(\n",
    "    n_estimators=36,\n",
    "    learning_rate =0.4,\n",
    "    max_depth=4,\n",
    "    min_child_weight=1,\n",
    "    gamma=0.12,\n",
    "    subsample=0.6,\n",
    "    colsample_bytree=0.8,\n",
    "    objective= 'binary:logistic',\n",
    "    nthread=12,\n",
    "    reg_lambda=1,\n",
    "    seed=27)\n",
    "\n",
    "ICA = FastICA(n_components=11,random_state=40) \n",
    "X_ICA=ICA.fit_transform(X_n)\n",
    "X_ICA_labeled=np.vstack((X_ICA[0:40],X_ICA[50:70],X_ICA[80:90],X_ICA[160:220],X_ICA[230:600],X_ICA[610:800],X_ICA[810:890]))"
   ]
  },
  {
   "cell_type": "code",
   "execution_count": 258,
   "metadata": {},
   "outputs": [
    {
     "data": {
      "text/plain": [
       "0.9762557077625575"
      ]
     },
     "execution_count": 258,
     "metadata": {},
     "output_type": "execute_result"
    }
   ],
   "source": [
    "summary=0\n",
    "n=100\n",
    "for j in range(0,100):\n",
    "    xIca_train, xIca_test, yIca_train, yIca_test = train_test_split(X_ICA_labeled,target_labeled, test_size=0.3)\n",
    "    Xgboost.fit(xIca_train, yIca_train)\n",
    "    summary = accuracy_score(yIca_test, Xgboost.predict(xIca_test))+summary\n",
    "average = summary/n\n",
    "average"
   ]
  },
  {
   "cell_type": "code",
   "execution_count": 307,
   "metadata": {},
   "outputs": [],
   "source": [
    "# Now after improve the parameters of xgboost model, we can now find the classification accuracy has improved a little(around 0.01).\n",
    "# Now we can see the accuracy, kappa again, in addition we can also see the confuse matrix and F1 score.\n",
    "# Now the test accuracy can over 0.97 , the kappa is also around 0.97."
   ]
  },
  {
   "cell_type": "code",
   "execution_count": 310,
   "metadata": {},
   "outputs": [
    {
     "name": "stdout",
     "output_type": "stream",
     "text": [
      "accuracy_train： 1.0\n",
      "accuracy_test： 0.9771689497716894\n",
      "Kappa_train： 1.0\n",
      "Kappa_test： 0.9707563294519816\n",
      "F1_train： 1.0\n",
      "F1_test： 0.9765458286006232\n",
      "confusion_matrix_train：\n",
      "[[147   0   0   0   0   0   0]\n",
      " [  0 136   0   0   0   0   0]\n",
      " [  0   0  68   0   0   0   0]\n",
      " [  0   0   0 104   0   0   0]\n",
      " [  0   0   0   0  35   0   0]\n",
      " [  0   0   0   0   0  12   0]\n",
      " [  0   0   0   0   0   0   9]]\n",
      "confusion_matrix_test：\n",
      "[[52  0  1  0  0  0  0]\n",
      " [ 0 64  0  0  0  0  0]\n",
      " [ 0  0 32  0  0  0  0]\n",
      " [ 0  0  0 46  0  0  0]\n",
      " [ 0  3  0  0 12  0  0]\n",
      " [ 0  1  0  0  0  7  0]\n",
      " [ 0  0  0  0  0  0  1]]\n"
     ]
    }
   ],
   "source": [
    "from sklearn.metrics import f1_score\n",
    "xIca_train, xIca_test, yIca_train, yIca_test = train_test_split(X_ICA_labeled,target_labeled, test_size=0.3)\n",
    "Xgboost.fit(xIca_train, yIca_train)\n",
    "print ('accuracy_train：', accuracy_score(yIca_train, Xgboost.predict(xIca_train)))\n",
    "print ('accuracy_test：', accuracy_score(yIca_test, Xgboost.predict(xIca_test)))\n",
    "print ('Kappa_train：', cohen_kappa_score(yIca_train, Xgboost.predict(xIca_train)))\n",
    "print ('Kappa_test：', cohen_kappa_score(yIca_test, Xgboost.predict(xIca_test)))\n",
    "print ('F1_train：', f1_score(yIca_train, Xgboost.predict(xIca_train),average='weighted'))\n",
    "print ('F1_test：', f1_score(yIca_test, Xgboost.predict(xIca_test),average='weighted'))\n",
    "\n",
    "print ('confusion_matrix_train：')\n",
    "print ( confusion_matrix(yIca_train, Xgboost.predict(xIca_train)))\n",
    "print ('confusion_matrix_test：')\n",
    "print ( confusion_matrix(yIca_test, Xgboost.predict(xIca_test)))"
   ]
  },
  {
   "cell_type": "code",
   "execution_count": 306,
   "metadata": {},
   "outputs": [],
   "source": [
    "# then let us see how the tree is."
   ]
  },
  {
   "cell_type": "code",
   "execution_count": 273,
   "metadata": {},
   "outputs": [
    {
     "name": "stdout",
     "output_type": "stream",
     "text": [
      "Requirement already satisfied: graphviz in c:\\users\\user\\anaconda3\\lib\\site-packages (0.14)\n",
      "Note: you may need to restart the kernel to use updated packages.\n"
     ]
    }
   ],
   "source": [
    "pip install graphviz"
   ]
  },
  {
   "cell_type": "code",
   "execution_count": 278,
   "metadata": {},
   "outputs": [],
   "source": [
    "import xgboost as xgb\n",
    "import pandas as pd"
   ]
  },
  {
   "cell_type": "code",
   "execution_count": 295,
   "metadata": {},
   "outputs": [],
   "source": [
    "target_labeled = pd.DataFrame(target_labeled)\n",
    "target_labeled.columns=[\"class\"]"
   ]
  },
  {
   "cell_type": "code",
   "execution_count": 296,
   "metadata": {},
   "outputs": [
    {
     "name": "stderr",
     "output_type": "stream",
     "text": [
      "C:\\Users\\user\\Anaconda3\\lib\\site-packages\\sklearn\\preprocessing\\label.py:219: DataConversionWarning: A column-vector y was passed when a 1d array was expected. Please change the shape of y to (n_samples, ), for example using ravel().\n",
      "  y = column_or_1d(y, warn=True)\n",
      "C:\\Users\\user\\Anaconda3\\lib\\site-packages\\sklearn\\preprocessing\\label.py:252: DataConversionWarning: A column-vector y was passed when a 1d array was expected. Please change the shape of y to (n_samples, ), for example using ravel().\n",
      "  y = column_or_1d(y, warn=True)\n"
     ]
    },
    {
     "data": {
      "text/plain": [
       "XGBClassifier(base_score=0.5, booster='gbtree', colsample_bylevel=1,\n",
       "       colsample_bynode=1, colsample_bytree=0.8, gamma=0.12, gpu_id=-1,\n",
       "       importance_type='gain', interaction_constraints='',\n",
       "       learning_rate=0.4, max_delta_step=0, max_depth=4,\n",
       "       min_child_weight=1, missing=nan, monotone_constraints='()',\n",
       "       n_estimators=36, n_jobs=12, nthread=12, num_parallel_tree=1,\n",
       "       objective='multi:softprob', random_state=27, reg_alpha=0,\n",
       "       reg_lambda=1, scale_pos_weight=None, seed=27, subsample=0.6,\n",
       "       tree_method='exact', validate_parameters=1, verbosity=None)"
      ]
     },
     "execution_count": 296,
     "metadata": {},
     "output_type": "execute_result"
    }
   ],
   "source": [
    "ICA_X = pd.DataFrame(X_ICA_labeled)\n",
    "ICA_X.columns = ['W1','W2','W3','W4','W5','W6','W7','W8','W9','W10','W11']\n",
    "\n",
    "XGBoost = xgb.XGBClassifier(\n",
    "                            n_estimators=36,\n",
    "                            learning_rate =0.4,\n",
    "                            max_depth=4,\n",
    "                            min_child_weight=1,\n",
    "                            gamma=0.12,\n",
    "                            subsample=0.6,\n",
    "                            colsample_bytree=0.8,\n",
    "                            objective= 'binary:logistic',\n",
    "                            nthread=12,\n",
    "                            reg_lambda=1,\n",
    "                            seed=27)\n",
    "\n",
    "XGBoost.fit(ICA_X,target_labeled)"
   ]
  },
  {
   "cell_type": "code",
   "execution_count": 305,
   "metadata": {},
   "outputs": [
    {
     "data": {
      "text/plain": [
       "<matplotlib.axes._subplots.AxesSubplot at 0x183a1ef0da0>"
      ]
     },
     "execution_count": 305,
     "metadata": {},
     "output_type": "execute_result"
    },
    {
     "data": {
      "image/png": "[encoded data removed]",
      "text/plain": [
       "<Figure size 4320x2880 with 1 Axes>"
      ]
     },
     "metadata": {
      "needs_background": "light"
     },
     "output_type": "display_data"
    }
   ],
   "source": [
    "fig,ax = plt.subplots()\n",
    "fig.set_size_inches(60,40)\n",
    "xgb.plot_tree(XGBoost,ax = ax,num_trees=100)"
   ]
  },
  {
   "cell_type": "code",
   "execution_count": null,
   "metadata": {},
   "outputs": [],
   "source": []
  }
 ],
 "metadata": {
  "kernelspec": {
   "display_name": "Python 3",
   "language": "python",
   "name": "python3"
  },
  "language_info": {
   "codemirror_mode": {
    "name": "ipython",
    "version": 3
   },
   "file_extension": ".py",
   "mimetype": "text/x-python",
   "name": "python",
   "nbconvert_exporter": "python",
   "pygments_lexer": "ipython3",
   "version": "3.7.3"
  }
 },
 "nbformat": 4,
 "nbformat_minor": 2
}
