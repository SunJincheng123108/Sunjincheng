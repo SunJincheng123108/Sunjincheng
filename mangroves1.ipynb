{
 "cells": [
  {
   "cell_type": "code",
   "execution_count": 1,
   "metadata": {},
   "outputs": [],
   "source": [
    "from sklearn.decomposition import PCA\n",
    "import numpy as np\n",
    "from pandas import DataFrame \n",
    "import pandas as pd\n",
    "import matplotlib.pyplot as plt\n",
    "from scipy import stats\n",
    "from sklearn.decomposition import FastICA\n",
    "from sklearn.manifold import TSNE \n",
    "from sklearn.discriminant_analysis import LinearDiscriminantAnalysis\n",
    "from sklearn.manifold import LocallyLinearEmbedding\n",
    "from sklearn import manifold \n",
    "from sklearn.decomposition import KernelPCA\n",
    "from sklearn.model_selection import train_test_split"
   ]
  },
  {
   "cell_type": "code",
   "execution_count": 2,
   "metadata": {},
   "outputs": [],
   "source": [
    "Y= np.loadtxt('Y.txt')"
   ]
  },
  {
   "cell_type": "code",
   "execution_count": 3,
   "metadata": {},
   "outputs": [],
   "source": [
    "# Here is the data of wavelength of mangroves data, but I don't know why I can't upload the to this file, but I can upload it on my\n",
    "# own jutper notebook, so I woulad also sent the data to you, but if you want to run the code, I thik you should change the code below."
   ]
  },
  {
   "cell_type": "code",
   "execution_count": 5,
   "metadata": {},
   "outputs": [],
   "source": [
    "Wavelength= pd.read_csv('mangroves color.csv')"
   ]
  },
  {
   "cell_type": "code",
   "execution_count": 6,
   "metadata": {},
   "outputs": [],
   "source": [
    "# in the first plot, can find noisy data in range (1800,2000), here are two thoughts to solve this, one is use LLE to reduce dimension \n",
    "# to the other is to remove data here."
   ]
  },
  {
   "cell_type": "code",
   "execution_count": 7,
   "metadata": {},
   "outputs": [],
   "source": [
    "Mean=np.mean(Wavelength,axis=0)\n",
    "Sigma=np.std(Wavelength,axis=0)\n",
    "T=Sigma/Mean"
   ]
  },
  {
   "cell_type": "code",
   "execution_count": 8,
   "metadata": {},
   "outputs": [
    {
     "data": {
      "text/plain": [
       "[<matplotlib.lines.Line2D at 0x1d795045780>]"
      ]
     },
     "execution_count": 8,
     "metadata": {},
     "output_type": "execute_result"
    },
    {
     "data": {
      "image/png": "[encoded data removed]",
      "text/plain": [
       "<Figure size 432x288 with 1 Axes>"
      ]
     },
     "metadata": {
      "needs_background": "light"
     },
     "output_type": "display_data"
    }
   ],
   "source": [
    "plt.plot(Y[0:2000],Mean[0:2000])"
   ]
  },
  {
   "cell_type": "code",
   "execution_count": 9,
   "metadata": {},
   "outputs": [
    {
     "data": {
      "text/plain": [
       "[<matplotlib.lines.Line2D at 0x1d7950ef320>]"
      ]
     },
     "execution_count": 9,
     "metadata": {},
     "output_type": "execute_result"
    },
    {
     "data": {
      "image/png": "[encoded data removed]",
      "text/plain": [
       "<Figure size 432x288 with 1 Axes>"
      ]
     },
     "metadata": {
      "needs_background": "light"
     },
     "output_type": "display_data"
    }
   ],
   "source": [
    "plt.plot(Y[0:1350],T[0:1350])"
   ]
  },
  {
   "cell_type": "code",
   "execution_count": 10,
   "metadata": {},
   "outputs": [],
   "source": [
    "# As required, I try teo wavelength range here,(400,900), (400,2400)"
   ]
  },
  {
   "cell_type": "code",
   "execution_count": 11,
   "metadata": {},
   "outputs": [
    {
     "data": {
      "text/plain": [
       "(400.0, 900.0, 2400.0)"
      ]
     },
     "execution_count": 11,
     "metadata": {},
     "output_type": "execute_result"
    }
   ],
   "source": [
    "Y[50],Y[550],Y[2050]"
   ]
  },
  {
   "cell_type": "code",
   "execution_count": 12,
   "metadata": {},
   "outputs": [
    {
     "data": {
      "text/plain": [
       "(1104, 2000)"
      ]
     },
     "execution_count": 12,
     "metadata": {},
     "output_type": "execute_result"
    }
   ],
   "source": [
    "x=Wavelength.T\n",
    "wavelength2=x[50:2050].T\n",
    "wavelength2.shape"
   ]
  },
  {
   "cell_type": "code",
   "execution_count": 13,
   "metadata": {},
   "outputs": [
    {
     "data": {
      "text/plain": [
       "(1104, 500)"
      ]
     },
     "execution_count": 13,
     "metadata": {},
     "output_type": "execute_result"
    }
   ],
   "source": [
    "x=Wavelength.T\n",
    "wavelength1=x[50:550].T\n",
    "wavelength1.shape"
   ]
  },
  {
   "cell_type": "code",
   "execution_count": 14,
   "metadata": {},
   "outputs": [],
   "source": [
    "# I try different methods to reduce the dimension here.\n",
    "# There are some unlabeled data, and I want to mark them at last. \n",
    "# In my idea, I should reduce the dimension and then find the good classifier using the labeled data, and fit this best method to \n",
    "# unlabeled.\n",
    "# So I should reduce the dimension for all the samples,not just the labeled data.\n",
    "# I try some dimensions I should use and I showed their plots in some meetings. In this code I removed them, this is the next step \n",
    "# in my work.\n",
    "# but these dimensions are ok and I have roughly compared them."
   ]
  },
  {
   "cell_type": "code",
   "execution_count": 15,
   "metadata": {},
   "outputs": [],
   "source": [
    "# these two are linear method."
   ]
  },
  {
   "cell_type": "code",
   "execution_count": 16,
   "metadata": {},
   "outputs": [],
   "source": [
    "pca=PCA(n_components=10)\n",
    "X_PCA1=pca.fit_transform(wavelength1)\n",
    "X_PCA2=pca.fit_transform(wavelength2)"
   ]
  },
  {
   "cell_type": "code",
   "execution_count": 17,
   "metadata": {},
   "outputs": [],
   "source": [
    "ICA = FastICA(n_components=15,random_state=100) \n",
    "X_ICA1=ICA.fit_transform(wavelength1)\n",
    "X_ICA2=ICA.fit_transform(wavelength2)"
   ]
  },
  {
   "cell_type": "code",
   "execution_count": 18,
   "metadata": {},
   "outputs": [],
   "source": [
    "# This is nonlinear method"
   ]
  },
  {
   "cell_type": "code",
   "execution_count": 19,
   "metadata": {},
   "outputs": [],
   "source": [
    "lle=LocallyLinearEmbedding(n_components=30,n_neighbors=50)\n",
    "X_lle1=lle.fit_transform(wavelength1)\n",
    "X_lle2=lle.fit_transform(wavelength2)"
   ]
  },
  {
   "cell_type": "code",
   "execution_count": 20,
   "metadata": {},
   "outputs": [],
   "source": [
    "# new data, choose the labeled ones."
   ]
  },
  {
   "cell_type": "code",
   "execution_count": 21,
   "metadata": {},
   "outputs": [],
   "source": [
    "X_Pca1_labeled=X_PCA1[0:841]\n",
    "X_Ica1_labeled=X_ICA1[0:841]\n",
    "X_Lle1_labeled=X_lle1[0:841]\n",
    "x_n1=wavelength1[0:841]"
   ]
  },
  {
   "cell_type": "code",
   "execution_count": 22,
   "metadata": {},
   "outputs": [],
   "source": [
    "X_Pca2_labeled=X_PCA2[0:841]\n",
    "X_Ica2_labeled=X_ICA2[0:841]\n",
    "X_Lle2_labeled=X_lle2[0:841]\n",
    "x_n2=wavelength2[0:841]"
   ]
  },
  {
   "cell_type": "code",
   "execution_count": 23,
   "metadata": {},
   "outputs": [],
   "source": [
    "# target for four class(cloor)."
   ]
  },
  {
   "cell_type": "code",
   "execution_count": 24,
   "metadata": {},
   "outputs": [],
   "source": [
    "from numpy import array"
   ]
  },
  {
   "cell_type": "code",
   "execution_count": 25,
   "metadata": {},
   "outputs": [],
   "source": [
    "Target=array([ \"W\",\"W\",\"W\",\"W\",\"W\",\"W\",\"W\",\"W\",\"W\",\"W\",\"W\",\"W\",\"W\",\"W\",\"W\",\"W\",\"W\",\"W\",\"W\",\"W\",\"W\",\"W\",\"W\",\"W\",\"W\",\"W\",\"W\",\"W\",\"W\",\"W\",\n",
    "               \"W\",\"W\",\"W\",\"W\",\"W\",\"W\",\"W\",\"W\",\"W\",\"W\",\"W\",\"W\",\"W\",\"W\",\"W\",\"W\",\"W\",\"W\",\"W\",\"W\",\"W\",\"W\",\"W\",\"W\",\"W\",\"W\",\"W\",\"W\",\"W\",\"W\",\n",
    "               \"W\",\"W\",\"W\",\"W\",\"W\",\"W\",\"W\",\"W\",\"W\",\"W\",\"W\",\"W\",\"W\",\"W\",\"W\",\"W\",\"W\",\"W\",\"W\",\"W\",\"W\",\"W\",\"W\",\"W\",\"W\",\"W\",\"W\",\"W\",\"W\",\"W\",\n",
    "               \"W\",\"W\",\"W\",\"W\",\"W\",\"W\",\"W\",\"W\",\"W\",\"W\",\"W\",\"W\",\"W\",\"W\",\"W\",\"W\",\"W\",\"W\",\"W\",\"W\",\"W\",\"W\",\"W\",\"W\",\"W\",\"W\",\"W\",\"W\",\"W\",\"W\",\n",
    "               \"W\",\"W\",\"W\",\"W\",\"W\",\"W\",\"W\",\"W\",\"W\",\"W\",\"W\",\"W\",\"W\",\"W\",\"W\",\"W\",\"W\",\"W\",\"W\",\"W\",\"W\",\"W\",\"W\",\"W\",\"W\",\"W\",\"W\",\"W\",\"W\",\"W\",\n",
    "               \"W\",\"W\",\"W\",\"W\",\"W\",\"W\",\"W\",\"W\",\"W\",\"W\",\"W\",\"W\",\"W\",\"W\",\"W\",\"W\",\"W\",\"W\",\"W\",\"W\",\"W\",\"W\",\"W\",\"W\",\"W\",\"W\",\"W\",\"W\",\"W\",\"W\",\n",
    "               \"W\",\"W\",\"W\",\"W\",\"W\",\"W\",\"W\",\"W\",\"W\",\"W\",\"W\",\"W\",\"W\",\"W\",\"W\",\"W\",\"W\",\"W\",\"W\",\"W\",\"W\",\"W\",\"W\",\"W\",\"W\",\"W\",\"W\",\"W\",\"W\",\"W\",\n",
    "               \"W\",\"W\",\"W\",\"W\",\"W\",\"W\",\"W\",\"W\",\"W\",\"W\",\n",
    "               \"R\",\"R\",\"R\",\"R\",\"R\",\"R\",\"R\",\"R\",\"R\",\"R\",\"R\",\"R\",\"R\",\"R\",\"R\",\"R\",\"R\",\"R\",\"R\",\"R\",\"R\",\"R\",\"R\",\"R\",\"R\",\"R\",\"R\",\"R\",\"R\",\"R\",\n",
    "               \"R\",\"R\",\"R\",\"R\",\"R\",\"R\",\"R\",\"R\",\"R\",\"R\",\"R\",\"R\",\"R\",\"R\",\"R\",\"R\",\"R\",\"R\",\"R\",\"R\",\"R\",\"R\",\"R\",\"R\",\"R\",\"R\",\"R\",\"R\",\"R\",\"R\",\n",
    "               \"R\",\"R\",\"R\",\"R\",\"R\",\"R\",\"R\",\"R\",\"R\",\"R\",\"R\",\"R\",\"R\",\"R\",\"R\",\"R\",\"R\",\"R\",\"R\",\"R\",\"R\",\"R\",\"R\",\"R\",\"R\",\"R\",\"R\",\"R\",\"R\",\"R\",\n",
    "               \"R\",\"R\",\"R\",\"R\",\"R\",\"R\",\"R\",\"R\",\"R\",\"R\",\"R\",\"R\",\"R\",\"R\",\"R\",\"R\",\"R\",\"R\",\"R\",\"R\",\"R\",\"R\",\"R\",\"R\",\"R\",\"R\",\"R\",\"R\",\"R\",\"R\",\n",
    "               \"R\",\"R\",\"R\",\"R\",\"R\",\"R\",\"R\",\"R\",\"R\",\"R\",\"R\",\"R\",\"R\",\"R\",\"R\",\"R\",\"R\",\"R\",\"R\",\"R\",\"R\",\"R\",\"R\",\"R\",\"R\",\"R\",\"R\",\"R\",\"R\",\"R\",\n",
    "               \"R\",\"R\",\"R\",\"R\",\"R\",\"R\",\"R\",\"R\",\"R\",\"R\",\"R\",\"R\",\"R\",\"R\",\"R\",\"R\",\"R\",\"R\",\"R\",\"R\",\"R\",\"R\",\"R\",\"R\",\"R\",\"R\",\"R\",\"R\",\"R\",\"R\",\n",
    "               \"R\",\"R\",\"R\",\"R\",\"R\",\"R\",\"R\",\"R\",\"R\",\"R\",\"R\",\"R\",\"R\",\"R\",\"R\",\"R\",\"R\",\"R\",\"R\",\"R\",\"R\",\"R\",\"R\",\"R\",\"R\",\"R\",\"R\",\"R\",\"R\",\"R\",\n",
    "               \"R\",\"R\",\"R\",\"R\",\"R\",\"R\",\"R\",\"R\",\"R\",\"R\",\"R\",\"R\",\"R\",\"R\",\"R\",\"R\",\"R\",\"R\",\"R\",\"R\",\"R\",\"R\",\"R\",\"R\",\"R\",\"R\",\"R\",\"R\",\"R\",\"R\",\n",
    "               \"R\",\"R\",\"R\",\"R\",\"R\",\"R\",\"R\",\"R\",\"R\",\"R\",\n",
    "               \"B\",\"B\",\"B\",\"B\",\"B\",\"B\",\"B\",\"B\",\"B\",\"B\",\"B\",\"B\",\"B\",\"B\",\"B\",\"B\",\"B\",\"B\",\"B\",\"B\",\"B\",\"B\",\"B\",\"B\",\"B\",\"B\",\"B\",\"B\",\"B\",\"B\",\n",
    "               \"B\",\"B\",\"B\",\"B\",\"B\",\"B\",\"B\",\"B\",\"B\",\"B\",\"B\",\"B\",\"B\",\"B\",\"B\",\"B\",\"B\",\"B\",\"B\",\"B\",\"B\",\"B\",\"B\",\"B\",\"B\",\"B\",\"B\",\"B\",\"B\",\"B\",\n",
    "               \"B\",\"B\",\"B\",\"B\",\"B\",\"B\",\"B\",\"B\",\"B\",\"B\",\"B\",\"B\",\"B\",\"B\",\"B\",\"B\",\"B\",\"B\",\"B\",\"B\",\"B\",\"B\",\"B\",\"B\",\"B\",\"B\",\"B\",\"B\",\"B\",\"B\",\n",
    "               \"B\",\"B\",\"B\",\"B\",\"B\",\"B\",\"B\",\"B\",\"B\",\"B\",\"B\",\"B\",\"B\",\"B\",\"B\",\"B\",\"B\",\"B\",\"B\",\"B\",\"B\",\"B\",\"B\",\"B\",\"B\",\"B\",\"B\",\"B\",\"B\",\"B\",\n",
    "               \"B\",\"B\",\"B\",\"B\",\"B\",\"B\",\"B\",\"B\",\"B\",\"B\",\"B\",\"B\",\"B\",\"B\",\"B\",\"B\",\"B\",\"B\",\"B\",\"B\",\"B\",\"B\",\"B\",\"B\",\"B\",\"B\",\"B\",\"B\",\"B\",\"B\",\n",
    "               \"B\",\"B\",\"B\",\"B\",\"B\",\"B\",\"B\",\"B\",\"B\",\"B\",\"B\",\"B\",\"B\",\"B\",\"B\",\"B\",\"B\",\"B\",\"B\",\"B\",\"B\",\"B\",\"B\",\"B\",\"B\",\"B\",\"B\",\"B\",\"B\",\"B\",\n",
    "               \"B\",\"B\",\"B\",\"B\",\"B\",\"B\",\"B\",\"B\",\"B\",\"B\",\"B\",\"B\",\"B\",\"B\",\"B\",\"B\",\"B\",\"B\",\"B\",\"B\",\"B\",\"B\",\"B\",\"B\",\"B\",\"B\",\"B\",\"B\",\"B\",\"B\",\n",
    "               \"B\",\"B\",\"B\",\"B\",\"B\",\"B\",\"B\",\"B\",\"B\",\"B\",\"B\",\"B\",\"B\",\"B\",\"B\",\"B\",\"B\",\"B\",\"B\",\"B\",\"B\",\"B\",\"B\",\"B\",\"B\",\"B\",\"B\",\"B\",\"B\",\"B\",\n",
    "               \"B\",\"B\",\"B\",\"B\",\"B\",\"B\",\"B\",\"B\",\"B\",\"B\",\"B\",\"B\",\"B\",\"B\",\"B\",\"B\",\"B\",\"B\",\"B\",\"B\",\"B\",\"B\",\"B\",\"B\",\"B\",\"B\",\"B\",\"B\",\"B\",\"B\",\n",
    "               \"B\",\"B\",\"B\",\"B\",\"B\",\"B\",\"B\",\"B\",\"B\",\"B\",\"B\",\"B\",\"B\",\"B\",\"B\",\"B\",\"B\",\"B\",\"B\",\"B\",\"B\",\"B\",\"B\",\"B\",\"B\",\"B\",\"B\",\"B\",\"B\",\"B\",\n",
    "               \"B\",\"B\",\"B\",\"B\",\"B\",\"B\",\"B\",\"B\",\"B\",\"B\",\"B\",\"B\",\"B\",\"B\",\"B\",\"B\",\"B\",\"B\",\"B\",\"B\",\"B\",\"B\",\"B\",\"B\",\"B\",\"B\",\"B\",\"B\",\"B\",\"B\",\n",
    "               \"M\",\"M\",\"M\",\"M\",\"M\",\"M\",\"M\",\"M\",\"M\",\"M\",\"M\",\"M\",\"M\",\"M\",\"M\",\"M\",\"M\",\"M\",\"M\",\"M\",\"M\",\"M\",\"M\",\"M\",\"M\",\"M\",\"M\",\"M\",\"M\",\"M\",\n",
    "               \"M\",\"M\",\"M\",\"M\",\"M\",\"M\",\"M\",\"M\",\"M\",\"M\",\"M\" ])"
   ]
  },
  {
   "cell_type": "code",
   "execution_count": 26,
   "metadata": {},
   "outputs": [],
   "source": [
    "# target for three class, the mud class have many noisy data, but after comparing, this data won't affect the classification effect\n",
    "# since the characteristic of these data is out standing, so I give up this idea."
   ]
  },
  {
   "cell_type": "code",
   "execution_count": 27,
   "metadata": {},
   "outputs": [],
   "source": [
    "target=array([ \"W\",\"W\",\"W\",\"W\",\"W\",\"W\",\"W\",\"W\",\"W\",\"W\",\"W\",\"W\",\"W\",\"W\",\"W\",\"W\",\"W\",\"W\",\"W\",\"W\",\"W\",\"W\",\"W\",\"W\",\"W\",\"W\",\"W\",\"W\",\"W\",\"W\",\n",
    "               \"W\",\"W\",\"W\",\"W\",\"W\",\"W\",\"W\",\"W\",\"W\",\"W\",\"W\",\"W\",\"W\",\"W\",\"W\",\"W\",\"W\",\"W\",\"W\",\"W\",\"W\",\"W\",\"W\",\"W\",\"W\",\"W\",\"W\",\"W\",\"W\",\"W\",\n",
    "               \"W\",\"W\",\"W\",\"W\",\"W\",\"W\",\"W\",\"W\",\"W\",\"W\",\"W\",\"W\",\"W\",\"W\",\"W\",\"W\",\"W\",\"W\",\"W\",\"W\",\"W\",\"W\",\"W\",\"W\",\"W\",\"W\",\"W\",\"W\",\"W\",\"W\",\n",
    "               \"W\",\"W\",\"W\",\"W\",\"W\",\"W\",\"W\",\"W\",\"W\",\"W\",\"W\",\"W\",\"W\",\"W\",\"W\",\"W\",\"W\",\"W\",\"W\",\"W\",\"W\",\"W\",\"W\",\"W\",\"W\",\"W\",\"W\",\"W\",\"W\",\"W\",\n",
    "               \"W\",\"W\",\"W\",\"W\",\"W\",\"W\",\"W\",\"W\",\"W\",\"W\",\"W\",\"W\",\"W\",\"W\",\"W\",\"W\",\"W\",\"W\",\"W\",\"W\",\"W\",\"W\",\"W\",\"W\",\"W\",\"W\",\"W\",\"W\",\"W\",\"W\",\n",
    "               \"W\",\"W\",\"W\",\"W\",\"W\",\"W\",\"W\",\"W\",\"W\",\"W\",\"W\",\"W\",\"W\",\"W\",\"W\",\"W\",\"W\",\"W\",\"W\",\"W\",\"W\",\"W\",\"W\",\"W\",\"W\",\"W\",\"W\",\"W\",\"W\",\"W\",\n",
    "               \"W\",\"W\",\"W\",\"W\",\"W\",\"W\",\"W\",\"W\",\"W\",\"W\",\"W\",\"W\",\"W\",\"W\",\"W\",\"W\",\"W\",\"W\",\"W\",\"W\",\"W\",\"W\",\"W\",\"W\",\"W\",\"W\",\"W\",\"W\",\"W\",\"W\",\n",
    "               \"W\",\"W\",\"W\",\"W\",\"W\",\"W\",\"W\",\"W\",\"W\",\"W\",\n",
    "               \"R\",\"R\",\"R\",\"R\",\"R\",\"R\",\"R\",\"R\",\"R\",\"R\",\"R\",\"R\",\"R\",\"R\",\"R\",\"R\",\"R\",\"R\",\"R\",\"R\",\"R\",\"R\",\"R\",\"R\",\"R\",\"R\",\"R\",\"R\",\"R\",\"R\",\n",
    "               \"R\",\"R\",\"R\",\"R\",\"R\",\"R\",\"R\",\"R\",\"R\",\"R\",\"R\",\"R\",\"R\",\"R\",\"R\",\"R\",\"R\",\"R\",\"R\",\"R\",\"R\",\"R\",\"R\",\"R\",\"R\",\"R\",\"R\",\"R\",\"R\",\"R\",\n",
    "               \"R\",\"R\",\"R\",\"R\",\"R\",\"R\",\"R\",\"R\",\"R\",\"R\",\"R\",\"R\",\"R\",\"R\",\"R\",\"R\",\"R\",\"R\",\"R\",\"R\",\"R\",\"R\",\"R\",\"R\",\"R\",\"R\",\"R\",\"R\",\"R\",\"R\",\n",
    "               \"R\",\"R\",\"R\",\"R\",\"R\",\"R\",\"R\",\"R\",\"R\",\"R\",\"R\",\"R\",\"R\",\"R\",\"R\",\"R\",\"R\",\"R\",\"R\",\"R\",\"R\",\"R\",\"R\",\"R\",\"R\",\"R\",\"R\",\"R\",\"R\",\"R\",\n",
    "               \"R\",\"R\",\"R\",\"R\",\"R\",\"R\",\"R\",\"R\",\"R\",\"R\",\"R\",\"R\",\"R\",\"R\",\"R\",\"R\",\"R\",\"R\",\"R\",\"R\",\"R\",\"R\",\"R\",\"R\",\"R\",\"R\",\"R\",\"R\",\"R\",\"R\",\n",
    "               \"R\",\"R\",\"R\",\"R\",\"R\",\"R\",\"R\",\"R\",\"R\",\"R\",\"R\",\"R\",\"R\",\"R\",\"R\",\"R\",\"R\",\"R\",\"R\",\"R\",\"R\",\"R\",\"R\",\"R\",\"R\",\"R\",\"R\",\"R\",\"R\",\"R\",\n",
    "               \"R\",\"R\",\"R\",\"R\",\"R\",\"R\",\"R\",\"R\",\"R\",\"R\",\"R\",\"R\",\"R\",\"R\",\"R\",\"R\",\"R\",\"R\",\"R\",\"R\",\"R\",\"R\",\"R\",\"R\",\"R\",\"R\",\"R\",\"R\",\"R\",\"R\",\n",
    "               \"R\",\"R\",\"R\",\"R\",\"R\",\"R\",\"R\",\"R\",\"R\",\"R\",\"R\",\"R\",\"R\",\"R\",\"R\",\"R\",\"R\",\"R\",\"R\",\"R\",\"R\",\"R\",\"R\",\"R\",\"R\",\"R\",\"R\",\"R\",\"R\",\"R\",\n",
    "               \"R\",\"R\",\"R\",\"R\",\"R\",\"R\",\"R\",\"R\",\"R\",\"R\",\n",
    "               \"B\",\"B\",\"B\",\"B\",\"B\",\"B\",\"B\",\"B\",\"B\",\"B\",\"B\",\"B\",\"B\",\"B\",\"B\",\"B\",\"B\",\"B\",\"B\",\"B\",\"B\",\"B\",\"B\",\"B\",\"B\",\"B\",\"B\",\"B\",\"B\",\"B\",\n",
    "               \"B\",\"B\",\"B\",\"B\",\"B\",\"B\",\"B\",\"B\",\"B\",\"B\",\"B\",\"B\",\"B\",\"B\",\"B\",\"B\",\"B\",\"B\",\"B\",\"B\",\"B\",\"B\",\"B\",\"B\",\"B\",\"B\",\"B\",\"B\",\"B\",\"B\",\n",
    "               \"B\",\"B\",\"B\",\"B\",\"B\",\"B\",\"B\",\"B\",\"B\",\"B\",\"B\",\"B\",\"B\",\"B\",\"B\",\"B\",\"B\",\"B\",\"B\",\"B\",\"B\",\"B\",\"B\",\"B\",\"B\",\"B\",\"B\",\"B\",\"B\",\"B\",\n",
    "               \"B\",\"B\",\"B\",\"B\",\"B\",\"B\",\"B\",\"B\",\"B\",\"B\",\"B\",\"B\",\"B\",\"B\",\"B\",\"B\",\"B\",\"B\",\"B\",\"B\",\"B\",\"B\",\"B\",\"B\",\"B\",\"B\",\"B\",\"B\",\"B\",\"B\",\n",
    "               \"B\",\"B\",\"B\",\"B\",\"B\",\"B\",\"B\",\"B\",\"B\",\"B\",\"B\",\"B\",\"B\",\"B\",\"B\",\"B\",\"B\",\"B\",\"B\",\"B\",\"B\",\"B\",\"B\",\"B\",\"B\",\"B\",\"B\",\"B\",\"B\",\"B\",\n",
    "               \"B\",\"B\",\"B\",\"B\",\"B\",\"B\",\"B\",\"B\",\"B\",\"B\",\"B\",\"B\",\"B\",\"B\",\"B\",\"B\",\"B\",\"B\",\"B\",\"B\",\"B\",\"B\",\"B\",\"B\",\"B\",\"B\",\"B\",\"B\",\"B\",\"B\",\n",
    "               \"B\",\"B\",\"B\",\"B\",\"B\",\"B\",\"B\",\"B\",\"B\",\"B\",\"B\",\"B\",\"B\",\"B\",\"B\",\"B\",\"B\",\"B\",\"B\",\"B\",\"B\",\"B\",\"B\",\"B\",\"B\",\"B\",\"B\",\"B\",\"B\",\"B\",\n",
    "               \"B\",\"B\",\"B\",\"B\",\"B\",\"B\",\"B\",\"B\",\"B\",\"B\",\"B\",\"B\",\"B\",\"B\",\"B\",\"B\",\"B\",\"B\",\"B\",\"B\",\"B\",\"B\",\"B\",\"B\",\"B\",\"B\",\"B\",\"B\",\"B\",\"B\",\n",
    "               \"B\",\"B\",\"B\",\"B\",\"B\",\"B\",\"B\",\"B\",\"B\",\"B\",\"B\",\"B\",\"B\",\"B\",\"B\",\"B\",\"B\",\"B\",\"B\",\"B\",\"B\",\"B\",\"B\",\"B\",\"B\",\"B\",\"B\",\"B\",\"B\",\"B\",\n",
    "               \"B\",\"B\",\"B\",\"B\",\"B\",\"B\",\"B\",\"B\",\"B\",\"B\",\"B\",\"B\",\"B\",\"B\",\"B\",\"B\",\"B\",\"B\",\"B\",\"B\",\"B\",\"B\",\"B\",\"B\",\"B\",\"B\",\"B\",\"B\",\"B\",\"B\",\n",
    "               \"B\",\"B\",\"B\",\"B\",\"B\",\"B\",\"B\",\"B\",\"B\",\"B\",\"B\",\"B\",\"B\",\"B\",\"B\",\"B\",\"B\",\"B\",\"B\",\"B\",\"B\",\"B\",\"B\",\"B\",\"B\",\"B\",\"B\",\"B\",\"B\",\"B\"])"
   ]
  },
  {
   "cell_type": "code",
   "execution_count": 28,
   "metadata": {},
   "outputs": [],
   "source": [
    "# split train data,and test data at random"
   ]
  },
  {
   "cell_type": "code",
   "execution_count": 29,
   "metadata": {},
   "outputs": [],
   "source": [
    "xpca1_train, xpca1_test, ypca1_train, ypca1_test = train_test_split(X_Pca1_labeled,Target, test_size=0.3,random_state=42)\n",
    "xIca1_train, xIca1_test, yIca1_train, yIca1_test = train_test_split(X_Ica1_labeled,Target, test_size=0.3,random_state=42)\n",
    "xlle1_train, xlle1_test, ylle1_train, ylle1_test = train_test_split(X_Lle1_labeled,Target, test_size=0.3,random_state=42)\n",
    "x1_train, x1_test, y1_train, y1_test = train_test_split(x_n1,Target, test_size=0.3,random_state=42)\n",
    "\n",
    "xpca2_train, xpca2_test, ypca2_train, ypca2_test = train_test_split(X_Pca2_labeled,Target, test_size=0.3,random_state=42)\n",
    "xIca2_train, xIca2_test, yIca2_train, yIca2_test = train_test_split(X_Ica2_labeled,Target, test_size=0.3,random_state=42)\n",
    "xlle2_train, xlle2_test, ylle2_train, ylle2_test = train_test_split(X_Lle2_labeled,Target, test_size=0.3,random_state=42)\n",
    "x2_train, x2_test, y2_train, y2_test = train_test_split(x_n2,Target, test_size=0.3,random_state=42)"
   ]
  },
  {
   "cell_type": "code",
   "execution_count": 30,
   "metadata": {},
   "outputs": [],
   "source": [
    "from sklearn import svm\n",
    "from sklearn.svm import SVC\n",
    "from sklearn.metrics import accuracy_score\n",
    "from sklearn.metrics import cohen_kappa_score\n",
    "from sklearn.metrics import confusion_matrix\n",
    "from sklearn.metrics import matthews_corrcoef\n",
    "from sklearn.model_selection import RandomizedSearchCV"
   ]
  },
  {
   "cell_type": "code",
   "execution_count": 31,
   "metadata": {},
   "outputs": [],
   "source": [
    "# SVM model for two range (400,900) , (400,2400)"
   ]
  },
  {
   "cell_type": "code",
   "execution_count": 32,
   "metadata": {},
   "outputs": [],
   "source": [
    "SVM= SVC(kernel='rbf')"
   ]
  },
  {
   "cell_type": "code",
   "execution_count": 33,
   "metadata": {},
   "outputs": [],
   "source": [
    "# when choose kernel, I find linear and sigmod is bad, so I choose rbf, which is often used.\n",
    "# for gussian kernel (rbf), there are C and gamma to choose\n",
    "# I first limit their range, then find the good combination roughly."
   ]
  },
  {
   "cell_type": "code",
   "execution_count": 34,
   "metadata": {},
   "outputs": [],
   "source": [
    "distributions = dict(C=np.logspace(-1,1,40),gamma=np.logspace(-1,1,40))"
   ]
  },
  {
   "cell_type": "code",
   "execution_count": 35,
   "metadata": {},
   "outputs": [],
   "source": [
    "clf = RandomizedSearchCV(SVM, distributions, random_state=42)"
   ]
  },
  {
   "cell_type": "code",
   "execution_count": 36,
   "metadata": {},
   "outputs": [
    {
     "name": "stderr",
     "output_type": "stream",
     "text": [
      "C:\\Users\\user\\Anaconda3\\lib\\site-packages\\sklearn\\model_selection\\_split.py:2053: FutureWarning: You should specify a value for 'cv' instead of relying on the default value. The default value will change from 3 to 5 in version 0.22.\n",
      "  warnings.warn(CV_WARNING, FutureWarning)\n"
     ]
    }
   ],
   "source": [
    "search1 = clf.fit(xlle1_train, ylle1_train)"
   ]
  },
  {
   "cell_type": "code",
   "execution_count": 37,
   "metadata": {},
   "outputs": [
    {
     "data": {
      "text/plain": [
       "{'gamma': 8.886238162743403, 'C': 3.455107294592218}"
      ]
     },
     "execution_count": 37,
     "metadata": {},
     "output_type": "execute_result"
    }
   ],
   "source": [
    "search1.best_params_ "
   ]
  },
  {
   "cell_type": "code",
   "execution_count": 38,
   "metadata": {},
   "outputs": [],
   "source": [
    "# Then is the effects of SVM ,this model is good and I want to explain the method and how to use this."
   ]
  },
  {
   "cell_type": "code",
   "execution_count": 39,
   "metadata": {},
   "outputs": [],
   "source": [
    "clf1= SVC(C=7,kernel='rbf',gamma=1)"
   ]
  },
  {
   "cell_type": "code",
   "execution_count": 40,
   "metadata": {},
   "outputs": [
    {
     "name": "stdout",
     "output_type": "stream",
     "text": [
      "accuracy_train： 0.9217687074829932\n",
      "accuracy_test： 0.8972332015810277\n",
      "Kappa_train： 0.8859696458684654\n",
      "Kappa_test： 0.85032992036405\n",
      "confusion_matrix_train：\n",
      "[[219   0   8   3]\n",
      " [  0  28   0   0]\n",
      " [  4   0 163  13]\n",
      " [  5   0  13 132]]\n",
      "confusion_matrix_test：\n",
      "[[92  0  7  1]\n",
      " [ 0 13  0  0]\n",
      " [ 6  0 61  3]\n",
      " [ 5  0  4 61]]\n"
     ]
    }
   ],
   "source": [
    "clf1.fit(xpca1_train, ypca1_train)\n",
    "print ('accuracy_train：', accuracy_score(ypca1_train, clf1.predict(xpca1_train)))\n",
    "print ('accuracy_test：', accuracy_score(ypca1_test, clf1.predict(xpca1_test)))\n",
    "\n",
    "print ('Kappa_train：', cohen_kappa_score(ypca1_train, clf1.predict(xpca1_train)))\n",
    "print ('Kappa_test：', cohen_kappa_score(ypca1_test, clf1.predict(xpca1_test)))\n",
    "\n",
    "print ('confusion_matrix_train：')\n",
    "print ( confusion_matrix(ypca1_train, clf1.predict(xpca1_train)))\n",
    "print ('confusion_matrix_test：')\n",
    "print ( confusion_matrix(ypca1_test, clf1.predict(xpca1_test)))"
   ]
  },
  {
   "cell_type": "code",
   "execution_count": 41,
   "metadata": {},
   "outputs": [],
   "source": [
    "Clf1= SVC(C=7,kernel='rbf',gamma=1)"
   ]
  },
  {
   "cell_type": "code",
   "execution_count": 42,
   "metadata": {},
   "outputs": [
    {
     "name": "stdout",
     "output_type": "stream",
     "text": [
      "accuracy_train： 0.6921768707482994\n",
      "accuracy_test： 0.6284584980237155\n",
      "Kappa_train： 0.5419102139198554\n",
      "Kappa_test： 0.4502161499872853\n",
      "confusion_matrix_train：\n",
      "[[184   0  27  19]\n",
      " [  0  28   0   0]\n",
      " [ 48   0 126   6]\n",
      " [ 61   0  20  69]]\n",
      "confusion_matrix_test：\n",
      "[[75  0 13 12]\n",
      " [ 0 13  0  0]\n",
      " [19  1 45  5]\n",
      " [34  0 10 26]]\n"
     ]
    }
   ],
   "source": [
    "Clf1.fit(xpca2_train, ypca2_train)\n",
    "print ('accuracy_train：', accuracy_score(ypca2_train, Clf1.predict(xpca2_train)))\n",
    "print ('accuracy_test：', accuracy_score(ypca2_test, Clf1.predict(xpca2_test)))\n",
    "\n",
    "print ('Kappa_train：', cohen_kappa_score(ypca2_train, Clf1.predict(xpca2_train)))\n",
    "print ('Kappa_test：', cohen_kappa_score(ypca2_test, Clf1.predict(xpca2_test)))\n",
    "\n",
    "print ('confusion_matrix_train：')\n",
    "print ( confusion_matrix(ypca2_train, Clf1.predict(xpca2_train)))\n",
    "print ('confusion_matrix_test：')\n",
    "print ( confusion_matrix(ypca2_test, Clf1.predict(xpca2_test)))"
   ]
  },
  {
   "cell_type": "code",
   "execution_count": 43,
   "metadata": {},
   "outputs": [],
   "source": [
    "clf3= SVC(C=7,kernel='rbf',gamma=1)\n",
    "Clf3= SVC(C=7,kernel='rbf',gamma=1)"
   ]
  },
  {
   "cell_type": "code",
   "execution_count": 44,
   "metadata": {},
   "outputs": [
    {
     "name": "stdout",
     "output_type": "stream",
     "text": [
      "accuracy_train： 0.9489795918367347\n",
      "accuracy_test： 0.932806324110672\n",
      "Kappa_train： 0.9254652086467119\n",
      "Kappa_test： 0.9022722108611679\n",
      "confusion_matrix_train：\n",
      "[[226   0   4   0]\n",
      " [  1  27   0   0]\n",
      " [  6   0 166   8]\n",
      " [  2   0   9 139]]\n",
      "confusion_matrix_test：\n",
      "[[97  0  3  0]\n",
      " [ 0 13  0  0]\n",
      " [ 2  0 64  4]\n",
      " [ 2  0  6 62]]\n"
     ]
    }
   ],
   "source": [
    "clf3.fit(xIca1_train, yIca1_train)\n",
    "print ('accuracy_train：', accuracy_score(yIca1_train, clf3.predict(xIca1_train)))\n",
    "print ('accuracy_test：', accuracy_score(yIca1_test, clf3.predict(xIca1_test)))\n",
    "\n",
    "print ('Kappa_train：', cohen_kappa_score(yIca1_train, clf3.predict(xIca1_train)))\n",
    "print ('Kappa_test：', cohen_kappa_score(yIca1_test, clf3.predict(xIca1_test)))\n",
    "\n",
    "print ('confusion_matrix_train：')\n",
    "print ( confusion_matrix(yIca1_train, clf3.predict(xIca1_train)))\n",
    "print ('confusion_matrix_test：')\n",
    "print ( confusion_matrix(yIca1_test, clf3.predict(xIca1_test)))"
   ]
  },
  {
   "cell_type": "code",
   "execution_count": 45,
   "metadata": {},
   "outputs": [
    {
     "name": "stdout",
     "output_type": "stream",
     "text": [
      "accuracy_train： 0.43197278911564624\n",
      "accuracy_test： 0.43873517786561267\n",
      "Kappa_train： 0.08804190348824237\n",
      "Kappa_test： 0.0942872989462008\n",
      "confusion_matrix_train：\n",
      "[[230   0   0   0]\n",
      " [  4  24   0   0]\n",
      " [180   0   0   0]\n",
      " [150   0   0   0]]\n",
      "confusion_matrix_test：\n",
      "[[100   0   0   0]\n",
      " [  2  11   0   0]\n",
      " [ 70   0   0   0]\n",
      " [ 70   0   0   0]]\n"
     ]
    }
   ],
   "source": [
    "Clf3.fit(xIca2_train, yIca2_train)\n",
    "print ('accuracy_train：', accuracy_score(yIca2_train, Clf3.predict(xIca2_train)))\n",
    "print ('accuracy_test：', accuracy_score(yIca2_test, Clf3.predict(xIca2_test)))\n",
    "\n",
    "print ('Kappa_train：', cohen_kappa_score(yIca2_train, Clf3.predict(xIca2_train)))\n",
    "print ('Kappa_test：', cohen_kappa_score(yIca2_test, Clf3.predict(xIca2_test)))\n",
    "\n",
    "print ('confusion_matrix_train：')\n",
    "print ( confusion_matrix(yIca2_train, Clf3.predict(xIca2_train)))\n",
    "print ('confusion_matrix_test：')\n",
    "print ( confusion_matrix(yIca2_test, Clf3.predict(xIca2_test)))"
   ]
  },
  {
   "cell_type": "code",
   "execution_count": 46,
   "metadata": {},
   "outputs": [],
   "source": [
    "clf4= SVC(C=3.5,kernel='rbf',gamma=9)\n",
    "Clf4= SVC(C=3.5,kernel='rbf',gamma=9)"
   ]
  },
  {
   "cell_type": "code",
   "execution_count": 47,
   "metadata": {},
   "outputs": [
    {
     "name": "stdout",
     "output_type": "stream",
     "text": [
      "accuracy_train： 0.9183673469387755\n",
      "accuracy_test： 0.8932806324110671\n",
      "Kappa_train： 0.8809515775265733\n",
      "Kappa_test： 0.8443609022556391\n",
      "confusion_matrix_train：\n",
      "[[218   0   8   4]\n",
      " [  0  28   0   0]\n",
      " [  5   0 162  13]\n",
      " [  8   0  10 132]]\n",
      "confusion_matrix_test：\n",
      "[[92  0  5  3]\n",
      " [ 0 13  0  0]\n",
      " [ 8  0 59  3]\n",
      " [ 5  0  3 62]]\n"
     ]
    }
   ],
   "source": [
    "clf4.fit(xlle1_train, ylle1_train)\n",
    "print ('accuracy_train：', accuracy_score(ylle1_train, clf4.predict(xlle1_train)))\n",
    "print ('accuracy_test：', accuracy_score(ylle1_test, clf4.predict(xlle1_test)))\n",
    "\n",
    "print ('Kappa_train：', cohen_kappa_score(ylle1_train, clf4.predict(xlle1_train)))\n",
    "print ('Kappa_test：', cohen_kappa_score(ylle1_test, clf4.predict(xlle1_test)))\n",
    "\n",
    "print ('confusion_matrix_train：')\n",
    "print ( confusion_matrix(ylle1_train, clf4.predict(xlle1_train)))\n",
    "print ('confusion_matrix_test：')\n",
    "print ( confusion_matrix(ylle1_test, clf4.predict(xlle1_test)))"
   ]
  },
  {
   "cell_type": "code",
   "execution_count": 48,
   "metadata": {},
   "outputs": [
    {
     "name": "stdout",
     "output_type": "stream",
     "text": [
      "accuracy_train： 0.9829931972789115\n",
      "accuracy_test： 0.9407114624505929\n",
      "Kappa_train： 0.9751907108620806\n",
      "Kappa_test： 0.9132611080636314\n",
      "confusion_matrix_train：\n",
      "[[226   0   4   0]\n",
      " [  1  27   0   0]\n",
      " [  3   0 176   1]\n",
      " [  0   0   1 149]]\n",
      "confusion_matrix_test：\n",
      "[[96  0  4  0]\n",
      " [ 2  9  2  0]\n",
      " [ 2  0 67  1]\n",
      " [ 2  0  2 66]]\n"
     ]
    }
   ],
   "source": [
    "Clf4.fit(xlle2_train, ylle2_train)\n",
    "print ('accuracy_train：', accuracy_score(ylle2_train, Clf4.predict(xlle2_train)))\n",
    "print ('accuracy_test：', accuracy_score(ylle2_test, Clf4.predict(xlle2_test)))\n",
    "\n",
    "print ('Kappa_train：', cohen_kappa_score(ylle2_train, Clf4.predict(xlle2_train)))\n",
    "print ('Kappa_test：', cohen_kappa_score(ylle2_test, Clf4.predict(xlle2_test)))\n",
    "\n",
    "print ('confusion_matrix_train：')\n",
    "print ( confusion_matrix(ylle2_train, Clf4.predict(xlle2_train)))\n",
    "print ('confusion_matrix_test：')\n",
    "print ( confusion_matrix(ylle2_test, Clf4.predict(xlle2_test)))"
   ]
  },
  {
   "cell_type": "code",
   "execution_count": 49,
   "metadata": {},
   "outputs": [],
   "source": [
    "clf= SVC(C=1,kernel='rbf',gamma=1)\n",
    "Clf= SVC(C=1,kernel='rbf',gamma=0.2)"
   ]
  },
  {
   "cell_type": "code",
   "execution_count": 50,
   "metadata": {},
   "outputs": [
    {
     "name": "stdout",
     "output_type": "stream",
     "text": [
      "accuracy_train： 0.8401360544217688\n",
      "accuracy_test： 0.8260869565217391\n",
      "Kappa_train： 0.7656277827248442\n",
      "Kappa_test： 0.745496113397348\n",
      "confusion_matrix_train：\n",
      "[[207   0   8  15]\n",
      " [  0  28   0   0]\n",
      " [  5   0 160  15]\n",
      " [ 32   0  19  99]]\n",
      "confusion_matrix_test：\n",
      "[[85  0  7  8]\n",
      " [ 0 13  0  0]\n",
      " [ 7  0 62  1]\n",
      " [18  0  3 49]]\n"
     ]
    }
   ],
   "source": [
    "clf.fit(x1_train, y1_train)\n",
    "print ('accuracy_train：', accuracy_score(y1_train, clf.predict(x1_train)))\n",
    "print ('accuracy_test：', accuracy_score(y1_test, clf.predict(x1_test)))\n",
    "\n",
    "print ('Kappa_train：', cohen_kappa_score(y1_train, clf.predict(x1_train)))\n",
    "print ('Kappa_test：', cohen_kappa_score(y1_test, clf.predict(x1_test)))\n",
    "\n",
    "print ('confusion_matrix_train：')\n",
    "print ( confusion_matrix(y1_train, clf.predict(x1_train)))\n",
    "print ('confusion_matrix_test：')\n",
    "print ( confusion_matrix(y1_test, clf.predict(x1_test)))"
   ]
  },
  {
   "cell_type": "code",
   "execution_count": 51,
   "metadata": {},
   "outputs": [
    {
     "name": "stdout",
     "output_type": "stream",
     "text": [
      "accuracy_train： 0.967687074829932\n",
      "accuracy_test： 0.9407114624505929\n",
      "Kappa_train： 0.9528488224867055\n",
      "Kappa_test： 0.9135220125786163\n",
      "confusion_matrix_train：\n",
      "[[223   0   7   0]\n",
      " [  0  28   0   0]\n",
      " [  4   0 174   2]\n",
      " [  5   0   1 144]]\n",
      "confusion_matrix_test：\n",
      "[[98  1  1  0]\n",
      " [ 0 13  0  0]\n",
      " [ 7  1 62  0]\n",
      " [ 4  0  1 65]]\n"
     ]
    }
   ],
   "source": [
    "Clf.fit(x2_train, y2_train)\n",
    "print ('accuracy_train：', accuracy_score(y2_train, Clf.predict(x2_train)))\n",
    "print ('accuracy_test：', accuracy_score(y2_test, Clf.predict(x2_test)))\n",
    "\n",
    "print ('Kappa_train：', cohen_kappa_score(y2_train, Clf.predict(x2_train)))\n",
    "print ('Kappa_test：', cohen_kappa_score(y2_test, Clf.predict(x2_test)))\n",
    "\n",
    "print ('confusion_matrix_train：')\n",
    "print ( confusion_matrix(y2_train, Clf.predict(x2_train)))\n",
    "print ('confusion_matrix_test：')\n",
    "print ( confusion_matrix(y2_test, Clf.predict(x2_test)))"
   ]
  },
  {
   "cell_type": "code",
   "execution_count": 52,
   "metadata": {},
   "outputs": [],
   "source": [
    "# Random Forest effect, too avoid overfitting, I choose set the max depth."
   ]
  },
  {
   "cell_type": "code",
   "execution_count": 53,
   "metadata": {},
   "outputs": [],
   "source": [
    "from sklearn.model_selection import GridSearchCV\n",
    "from sklearn.model_selection import cross_validate"
   ]
  },
  {
   "cell_type": "code",
   "execution_count": 54,
   "metadata": {},
   "outputs": [],
   "source": [
    "from sklearn.ensemble import RandomForestClassifier\n",
    "from sklearn.datasets import make_classification"
   ]
  },
  {
   "cell_type": "code",
   "execution_count": 55,
   "metadata": {},
   "outputs": [],
   "source": [
    "randomforest = RandomForestClassifier(max_depth=10)"
   ]
  },
  {
   "cell_type": "code",
   "execution_count": 56,
   "metadata": {},
   "outputs": [
    {
     "name": "stdout",
     "output_type": "stream",
     "text": [
      "accuracy_train： 0.9948979591836735\n",
      "accuracy_test： 0.8972332015810277\n",
      "Kappa_train： 0.9925579040627769\n",
      "Kappa_test： 0.8503299203640501\n",
      "confusion_matrix_train：\n",
      "[[230   0   0   0]\n",
      " [  0  28   0   0]\n",
      " [  2   0 178   0]\n",
      " [  0   0   1 149]]\n",
      "confusion_matrix_test：\n",
      "[[94  0  5  1]\n",
      " [ 0 13  0  0]\n",
      " [ 9  0 56  5]\n",
      " [ 0  0  6 64]]\n"
     ]
    },
    {
     "name": "stderr",
     "output_type": "stream",
     "text": [
      "C:\\Users\\user\\Anaconda3\\lib\\site-packages\\sklearn\\ensemble\\forest.py:246: FutureWarning: The default value of n_estimators will change from 10 in version 0.20 to 100 in 0.22.\n",
      "  \"10 in version 0.20 to 100 in 0.22.\", FutureWarning)\n"
     ]
    }
   ],
   "source": [
    "randomforest.fit(xpca1_train, ypca1_train)\n",
    "print ('accuracy_train：', accuracy_score(ypca1_train, randomforest.predict(xpca1_train)))\n",
    "print ('accuracy_test：', accuracy_score(ypca1_test, randomforest.predict(xpca1_test)))\n",
    "\n",
    "print ('Kappa_train：', cohen_kappa_score(ypca1_train, randomforest.predict(xpca1_train)))\n",
    "print ('Kappa_test：', cohen_kappa_score(ypca1_test, randomforest.predict(xpca1_test)))\n",
    "\n",
    "print ('confusion_matrix_train：')\n",
    "print ( confusion_matrix(ypca1_train, randomforest.predict(xpca1_train)))\n",
    "print ('confusion_matrix_test：')\n",
    "print ( confusion_matrix(ypca1_test, randomforest.predict(xpca1_test)))"
   ]
  },
  {
   "cell_type": "code",
   "execution_count": 57,
   "metadata": {},
   "outputs": [
    {
     "name": "stdout",
     "output_type": "stream",
     "text": [
      "accuracy_train： 0.9387755102040817\n",
      "accuracy_test： 0.6719367588932806\n",
      "Kappa_train： 0.9103848270606664\n",
      "Kappa_test： 0.5162969617395711\n",
      "confusion_matrix_train：\n",
      "[[221   0   5   4]\n",
      " [  0  28   0   0]\n",
      " [ 16   0 163   1]\n",
      " [  9   0   1 140]]\n",
      "confusion_matrix_test：\n",
      "[[74  0 11 15]\n",
      " [ 1 12  0  0]\n",
      " [17  0 48  5]\n",
      " [27  0  7 36]]\n"
     ]
    }
   ],
   "source": [
    "randomforest.fit(xpca2_train, ypca2_train)\n",
    "print ('accuracy_train：', accuracy_score(ypca2_train, randomforest.predict(xpca2_train)))\n",
    "print ('accuracy_test：', accuracy_score(ypca2_test, randomforest.predict(xpca2_test)))\n",
    "\n",
    "print ('Kappa_train：', cohen_kappa_score(ypca2_train, randomforest.predict(xpca2_train)))\n",
    "print ('Kappa_test：', cohen_kappa_score(ypca2_test, randomforest.predict(xpca2_test)))\n",
    "\n",
    "print ('confusion_matrix_train：')\n",
    "print ( confusion_matrix(ypca2_train, randomforest.predict(xpca2_train)))\n",
    "print ('confusion_matrix_test：')\n",
    "print ( confusion_matrix(ypca2_test, randomforest.predict(xpca2_test)))"
   ]
  },
  {
   "cell_type": "code",
   "execution_count": 58,
   "metadata": {},
   "outputs": [
    {
     "name": "stdout",
     "output_type": "stream",
     "text": [
      "accuracy_train： 0.9982993197278912\n",
      "accuracy_test： 0.8853754940711462\n",
      "Kappa_train： 0.9975201383324196\n",
      "Kappa_test： 0.8321436742164264\n",
      "confusion_matrix_train：\n",
      "[[230   0   0   0]\n",
      " [  0  28   0   0]\n",
      " [  1   0 179   0]\n",
      " [  0   0   0 150]]\n",
      "confusion_matrix_test：\n",
      "[[98  0  2  0]\n",
      " [ 0 12  1  0]\n",
      " [ 6  1 60  3]\n",
      " [ 7  0  9 54]]\n"
     ]
    }
   ],
   "source": [
    "randomforest.fit(xIca1_train, yIca1_train)\n",
    "print ('accuracy_train：', accuracy_score(yIca1_train, randomforest.predict(xIca1_train)))\n",
    "print ('accuracy_test：', accuracy_score(yIca1_test, randomforest.predict(xIca1_test)))\n",
    "\n",
    "print ('Kappa_train：', cohen_kappa_score(yIca1_train, randomforest.predict(xIca1_train)))\n",
    "print ('Kappa_test：', cohen_kappa_score(yIca1_test, randomforest.predict(xIca1_test)))\n",
    "\n",
    "print ('confusion_matrix_train：')\n",
    "print ( confusion_matrix(yIca1_train, randomforest.predict(xIca1_train)))\n",
    "print ('confusion_matrix_test：')\n",
    "print ( confusion_matrix(yIca1_test, randomforest.predict(xIca1_test)))"
   ]
  },
  {
   "cell_type": "code",
   "execution_count": 59,
   "metadata": {},
   "outputs": [
    {
     "name": "stdout",
     "output_type": "stream",
     "text": [
      "accuracy_train： 0.9608843537414966\n",
      "accuracy_test： 0.6363636363636364\n",
      "Kappa_train： 0.9428305715251944\n",
      "Kappa_test： 0.4628078192434628\n",
      "confusion_matrix_train：\n",
      "[[224   0   2   4]\n",
      " [  0  28   0   0]\n",
      " [  8   0 172   0]\n",
      " [  7   0   2 141]]\n",
      "confusion_matrix_test：\n",
      "[[71  0 15 14]\n",
      " [ 0 10  3  0]\n",
      " [20  0 44  6]\n",
      " [27  0  7 36]]\n"
     ]
    }
   ],
   "source": [
    "randomforest.fit(xIca2_train, yIca2_train)\n",
    "print ('accuracy_train：', accuracy_score(yIca2_train, randomforest.predict(xIca2_train)))\n",
    "print ('accuracy_test：', accuracy_score(yIca2_test, randomforest.predict(xIca2_test)))\n",
    "\n",
    "print ('Kappa_train：', cohen_kappa_score(yIca2_train, randomforest.predict(xIca2_train)))\n",
    "print ('Kappa_test：', cohen_kappa_score(yIca2_test, randomforest.predict(xIca2_test)))\n",
    "\n",
    "print ('confusion_matrix_train：')\n",
    "print ( confusion_matrix(yIca2_train, randomforest.predict(xIca2_train)))\n",
    "print ('confusion_matrix_test：')\n",
    "print ( confusion_matrix(yIca2_test, randomforest.predict(xIca2_test)))"
   ]
  },
  {
   "cell_type": "code",
   "execution_count": 60,
   "metadata": {},
   "outputs": [
    {
     "name": "stdout",
     "output_type": "stream",
     "text": [
      "accuracy_train： 0.9880952380952381\n",
      "accuracy_test： 0.8458498023715415\n",
      "Kappa_train： 0.9826477011155049\n",
      "Kappa_test： 0.775172602365165\n",
      "confusion_matrix_train：\n",
      "[[229   0   0   1]\n",
      " [  0  28   0   0]\n",
      " [  1   0 178   1]\n",
      " [  1   1   2 146]]\n",
      "confusion_matrix_test：\n",
      "[[90  0  4  6]\n",
      " [ 0 13  0  0]\n",
      " [ 9  0 57  4]\n",
      " [ 8  1  7 54]]\n"
     ]
    }
   ],
   "source": [
    "randomforest.fit(xlle1_train, ylle1_train)\n",
    "print ('accuracy_train：', accuracy_score(ylle1_train, randomforest.predict(xlle1_train)))\n",
    "print ('accuracy_test：', accuracy_score(ylle1_test, randomforest.predict(xlle1_test)))\n",
    "\n",
    "print ('Kappa_train：', cohen_kappa_score(ylle1_train, randomforest.predict(xlle1_train)))\n",
    "print ('Kappa_test：', cohen_kappa_score(ylle1_test, randomforest.predict(xlle1_test)))\n",
    "\n",
    "print ('confusion_matrix_train：')\n",
    "print ( confusion_matrix(ylle1_train, randomforest.predict(xlle1_train)))\n",
    "print ('confusion_matrix_test：')\n",
    "print ( confusion_matrix(ylle1_test, randomforest.predict(xlle1_test)))"
   ]
  },
  {
   "cell_type": "code",
   "execution_count": 61,
   "metadata": {},
   "outputs": [
    {
     "name": "stdout",
     "output_type": "stream",
     "text": [
      "accuracy_train： 0.9948979591836735\n",
      "accuracy_test： 0.9090909090909091\n",
      "Kappa_train： 0.9925594735954109\n",
      "Kappa_test： 0.8663312889072657\n",
      "confusion_matrix_train：\n",
      "[[229   0   1   0]\n",
      " [  0  28   0   0]\n",
      " [  1   0 179   0]\n",
      " [  1   0   0 149]]\n",
      "confusion_matrix_test：\n",
      "[[97  0  2  1]\n",
      " [ 0 12  0  1]\n",
      " [ 9  0 61  0]\n",
      " [ 9  0  1 60]]\n"
     ]
    }
   ],
   "source": [
    "randomforest.fit(xlle2_train, ylle2_train)\n",
    "print ('accuracy_train：', accuracy_score(ylle2_train, randomforest.predict(xlle2_train)))\n",
    "print ('accuracy_test：', accuracy_score(ylle2_test, randomforest.predict(xlle2_test)))\n",
    "\n",
    "print ('Kappa_train：', cohen_kappa_score(ylle2_train, randomforest.predict(xlle2_train)))\n",
    "print ('Kappa_test：', cohen_kappa_score(ylle2_test, randomforest.predict(xlle2_test)))\n",
    "\n",
    "print ('confusion_matrix_train：')\n",
    "print ( confusion_matrix(ylle2_train, randomforest.predict(xlle2_train)))\n",
    "print ('confusion_matrix_test：')\n",
    "print ( confusion_matrix(ylle2_test, randomforest.predict(xlle2_test)))"
   ]
  },
  {
   "cell_type": "code",
   "execution_count": 62,
   "metadata": {},
   "outputs": [
    {
     "name": "stdout",
     "output_type": "stream",
     "text": [
      "accuracy_train： 0.9863945578231292\n",
      "accuracy_test： 0.7707509881422925\n",
      "Kappa_train： 0.9801233837572889\n",
      "Kappa_test： 0.6661205915813424\n",
      "confusion_matrix_train：\n",
      "[[230   0   0   0]\n",
      " [  0  28   0   0]\n",
      " [  1   0 178   1]\n",
      " [  6   0   0 144]]\n",
      "confusion_matrix_test：\n",
      "[[80  0  8 12]\n",
      " [ 0 13  0  0]\n",
      " [ 8  0 53  9]\n",
      " [15  0  6 49]]\n"
     ]
    }
   ],
   "source": [
    "randomforest.fit(x1_train, y1_train)\n",
    "print ('accuracy_train：', accuracy_score(y1_train, randomforest.predict(x1_train)))\n",
    "print ('accuracy_test：', accuracy_score(y1_test, randomforest.predict(x1_test)))\n",
    "\n",
    "print ('Kappa_train：', cohen_kappa_score(y1_train, randomforest.predict(x1_train)))\n",
    "print ('Kappa_test：', cohen_kappa_score(y1_test, randomforest.predict(x1_test)))\n",
    "\n",
    "print ('confusion_matrix_train：')\n",
    "print ( confusion_matrix(y1_train, randomforest.predict(x1_train)))\n",
    "print ('confusion_matrix_test：')\n",
    "print ( confusion_matrix(y1_test, randomforest.predict(x1_test)))"
   ]
  },
  {
   "cell_type": "code",
   "execution_count": 63,
   "metadata": {},
   "outputs": [
    {
     "name": "stdout",
     "output_type": "stream",
     "text": [
      "accuracy_train： 0.9931972789115646\n",
      "accuracy_test： 0.9209486166007905\n",
      "Kappa_train： 0.9900741903628492\n",
      "Kappa_test： 0.8842370167009838\n",
      "confusion_matrix_train：\n",
      "[[229   0   1   0]\n",
      " [  0  27   0   1]\n",
      " [  1   0 179   0]\n",
      " [  1   0   0 149]]\n",
      "confusion_matrix_test：\n",
      "[[97  0  3  0]\n",
      " [ 0 13  0  0]\n",
      " [11  0 58  1]\n",
      " [ 3  0  2 65]]\n"
     ]
    }
   ],
   "source": [
    "randomforest.fit(x2_train, y2_train)\n",
    "print ('accuracy_train：', accuracy_score(y2_train, randomforest.predict(x2_train)))\n",
    "print ('accuracy_test：', accuracy_score(y2_test, randomforest.predict(x2_test)))\n",
    "\n",
    "print ('Kappa_train：', cohen_kappa_score(y2_train, randomforest.predict(x2_train)))\n",
    "print ('Kappa_test：', cohen_kappa_score(y2_test, randomforest.predict(x2_test)))\n",
    "\n",
    "print ('confusion_matrix_train：')\n",
    "print ( confusion_matrix(y2_train, randomforest.predict(x2_train)))\n",
    "print ('confusion_matrix_test：')\n",
    "print ( confusion_matrix(y2_test, randomforest.predict(x2_test)))"
   ]
  },
  {
   "cell_type": "code",
   "execution_count": 64,
   "metadata": {},
   "outputs": [],
   "source": [
    "# this decision tree model, I am sure it is bad than Random forest and GBDT, so no need to consider much."
   ]
  },
  {
   "cell_type": "code",
   "execution_count": 65,
   "metadata": {},
   "outputs": [],
   "source": [
    "from sklearn import tree\n",
    "clf_tree = tree.DecisionTreeClassifier(max_depth=6)"
   ]
  },
  {
   "cell_type": "code",
   "execution_count": 66,
   "metadata": {},
   "outputs": [
    {
     "name": "stdout",
     "output_type": "stream",
     "text": [
      "accuracy_train： 0.8520408163265306\n",
      "accuracy_test： 0.7075098814229249\n",
      "Kappa_train： 0.7832005424648245\n",
      "Kappa_test： 0.5702020202020202\n",
      "confusion_matrix_train：\n",
      "[[209   0   1  20]\n",
      " [  0  28   0   0]\n",
      " [  8   0 153  19]\n",
      " [ 37   0   2 111]]\n",
      "confusion_matrix_test：\n",
      "[[79  0  5 16]\n",
      " [ 0 13  0  0]\n",
      " [12  0 48 10]\n",
      " [25  0  6 39]]\n"
     ]
    }
   ],
   "source": [
    "clf_tree.fit(x1_train, y1_train)\n",
    "print ('accuracy_train：', accuracy_score(y1_train, clf_tree.predict(x1_train)))\n",
    "print ('accuracy_test：', accuracy_score(y1_test, clf_tree.predict(x1_test)))\n",
    "\n",
    "print ('Kappa_train：', cohen_kappa_score(y1_train, clf_tree.predict(x1_train)))\n",
    "print ('Kappa_test：', cohen_kappa_score(y1_test, clf_tree.predict(x1_test)))\n",
    "\n",
    "print ('confusion_matrix_train：')\n",
    "print ( confusion_matrix(y1_train, clf_tree.predict(x1_train)))\n",
    "print ('confusion_matrix_test：')\n",
    "print ( confusion_matrix(y1_test, clf_tree.predict(x1_test)))"
   ]
  },
  {
   "cell_type": "code",
   "execution_count": 67,
   "metadata": {},
   "outputs": [
    {
     "name": "stdout",
     "output_type": "stream",
     "text": [
      "accuracy_train： 0.9727891156462585\n",
      "accuracy_test： 0.849802371541502\n",
      "Kappa_train： 0.9602299628001353\n",
      "Kappa_test： 0.7792929292929293\n",
      "confusion_matrix_train：\n",
      "[[229   0   0   1]\n",
      " [  0  28   0   0]\n",
      " [ 10   0 168   2]\n",
      " [  3   0   0 147]]\n",
      "confusion_matrix_test：\n",
      "[[90  0  8  2]\n",
      " [ 0 13  0  0]\n",
      " [18  0 52  0]\n",
      " [ 8  0  2 60]]\n"
     ]
    }
   ],
   "source": [
    "clf_tree.fit(x2_train, y2_train)\n",
    "print ('accuracy_train：', accuracy_score(y2_train, clf_tree.predict(x2_train)))\n",
    "print ('accuracy_test：', accuracy_score(y2_test, clf_tree.predict(x2_test)))\n",
    "\n",
    "print ('Kappa_train：', cohen_kappa_score(y2_train, clf_tree.predict(x2_train)))\n",
    "print ('Kappa_test：', cohen_kappa_score(y2_test, clf_tree.predict(x2_test)))\n",
    "\n",
    "print ('confusion_matrix_train：')\n",
    "print ( confusion_matrix(y2_train, clf_tree.predict(x2_train)))\n",
    "print ('confusion_matrix_test：')\n",
    "print ( confusion_matrix(y2_test, clf_tree.predict(x2_test)))"
   ]
  },
  {
   "cell_type": "code",
   "execution_count": 68,
   "metadata": {},
   "outputs": [
    {
     "name": "stdout",
     "output_type": "stream",
     "text": [
      "accuracy_train： 0.9659863945578231\n",
      "accuracy_test： 0.8458498023715415\n",
      "Kappa_train： 0.9503499987334183\n",
      "Kappa_test： 0.7762737228759948\n",
      "confusion_matrix_train：\n",
      "[[226   0   1   3]\n",
      " [  1  27   0   0]\n",
      " [  4   0 172   4]\n",
      " [  2   0   5 143]]\n",
      "confusion_matrix_test：\n",
      "[[88  0 10  2]\n",
      " [ 0 12  1  0]\n",
      " [ 5  0 55 10]\n",
      " [ 3  0  8 59]]\n"
     ]
    }
   ],
   "source": [
    "clf_tree.fit(xpca1_train, ypca1_train)\n",
    "print ('accuracy_train：', accuracy_score(ypca1_train, clf_tree.predict(xpca1_train)))\n",
    "print ('accuracy_test：', accuracy_score(ypca1_test, clf_tree.predict(xpca1_test)))\n",
    "\n",
    "print ('Kappa_train：', cohen_kappa_score(ypca1_train, clf_tree.predict(xpca1_train)))\n",
    "print ('Kappa_test：', cohen_kappa_score(ypca1_test, clf_tree.predict(xpca1_test)))\n",
    "\n",
    "print ('confusion_matrix_train：')\n",
    "print ( confusion_matrix(ypca1_train, clf_tree.predict(xpca1_train)))\n",
    "print ('confusion_matrix_test：')\n",
    "print ( confusion_matrix(ypca1_test, clf_tree.predict(xpca1_test)))"
   ]
  },
  {
   "cell_type": "code",
   "execution_count": 69,
   "metadata": {},
   "outputs": [
    {
     "name": "stdout",
     "output_type": "stream",
     "text": [
      "accuracy_train： 0.7482993197278912\n",
      "accuracy_test： 0.5849802371541502\n",
      "Kappa_train： 0.6309383455330411\n",
      "Kappa_test： 0.3939912400766492\n",
      "confusion_matrix_train：\n",
      "[[177   0  27  26]\n",
      " [  0  26   2   0]\n",
      " [ 17   0 149  14]\n",
      " [ 47   1  14  88]]\n",
      "confusion_matrix_test：\n",
      "[[63  0 22 15]\n",
      " [ 0 11  1  1]\n",
      " [12  0 50  8]\n",
      " [28  0 18 24]]\n"
     ]
    }
   ],
   "source": [
    "clf_tree.fit(xpca2_train, ypca2_train)\n",
    "print ('accuracy_train：', accuracy_score(ypca2_train, clf_tree.predict(xpca2_train)))\n",
    "print ('accuracy_test：', accuracy_score(ypca2_test, clf_tree.predict(xpca2_test)))\n",
    "\n",
    "print ('Kappa_train：', cohen_kappa_score(ypca2_train, clf_tree.predict(xpca2_train)))\n",
    "print ('Kappa_test：', cohen_kappa_score(ypca2_test, clf_tree.predict(xpca2_test)))\n",
    "\n",
    "print ('confusion_matrix_train：')\n",
    "print ( confusion_matrix(ypca2_train, clf_tree.predict(xpca2_train)))\n",
    "print ('confusion_matrix_test：')\n",
    "print ( confusion_matrix(ypca2_test, clf_tree.predict(xpca2_test)))"
   ]
  },
  {
   "cell_type": "code",
   "execution_count": 70,
   "metadata": {},
   "outputs": [
    {
     "name": "stdout",
     "output_type": "stream",
     "text": [
      "accuracy_train： 0.9183673469387755\n",
      "accuracy_test： 0.8063241106719368\n",
      "Kappa_train： 0.8807493725652574\n",
      "Kappa_test： 0.7183140195410134\n",
      "confusion_matrix_train：\n",
      "[[222   0   6   2]\n",
      " [  0  27   1   0]\n",
      " [  6   0 164  10]\n",
      " [  2   0  21 127]]\n",
      "confusion_matrix_test：\n",
      "[[87  0 10  3]\n",
      " [ 0 13  0  0]\n",
      " [ 9  0 52  9]\n",
      " [ 5  0 13 52]]\n"
     ]
    }
   ],
   "source": [
    "clf_tree.fit(xIca1_train, yIca1_train)\n",
    "print ('accuracy_train：', accuracy_score(yIca1_train, clf_tree.predict(xIca1_train)))\n",
    "print ('accuracy_test：', accuracy_score(yIca1_test, clf_tree.predict(xIca1_test)))\n",
    "\n",
    "print ('Kappa_train：', cohen_kappa_score(yIca1_train, clf_tree.predict(xIca1_train)))\n",
    "print ('Kappa_test：', cohen_kappa_score(yIca1_test, clf_tree.predict(xIca1_test)))\n",
    "\n",
    "print ('confusion_matrix_train：')\n",
    "print ( confusion_matrix(yIca1_train, clf_tree.predict(xIca1_train)))\n",
    "print ('confusion_matrix_test：')\n",
    "print ( confusion_matrix(yIca1_test, clf_tree.predict(xIca1_test)))"
   ]
  },
  {
   "cell_type": "code",
   "execution_count": 71,
   "metadata": {},
   "outputs": [
    {
     "name": "stdout",
     "output_type": "stream",
     "text": [
      "accuracy_train： 0.7414965986394558\n",
      "accuracy_test： 0.5889328063241107\n",
      "Kappa_train： 0.6222006171534853\n",
      "Kappa_test： 0.39865158267626555\n",
      "confusion_matrix_train：\n",
      "[[170   0  21  39]\n",
      " [  0  28   0   0]\n",
      " [ 23   0 151   6]\n",
      " [ 38   0  25  87]]\n",
      "confusion_matrix_test：\n",
      "[[60  0 18 22]\n",
      " [ 2  7  4  0]\n",
      " [16  1 50  3]\n",
      " [22  0 16 32]]\n"
     ]
    }
   ],
   "source": [
    "clf_tree.fit(xIca2_train, yIca2_train)\n",
    "print ('accuracy_train：', accuracy_score(yIca2_train, clf_tree.predict(xIca2_train)))\n",
    "print ('accuracy_test：', accuracy_score(yIca2_test, clf_tree.predict(xIca2_test)))\n",
    "\n",
    "print ('Kappa_train：', cohen_kappa_score(yIca2_train, clf_tree.predict(xIca2_train)))\n",
    "print ('Kappa_test：', cohen_kappa_score(yIca2_test, clf_tree.predict(xIca2_test)))\n",
    "\n",
    "print ('confusion_matrix_train：')\n",
    "print ( confusion_matrix(yIca2_train, clf_tree.predict(xIca2_train)))\n",
    "print ('confusion_matrix_test：')\n",
    "print ( confusion_matrix(yIca2_test, clf_tree.predict(xIca2_test)))"
   ]
  },
  {
   "cell_type": "code",
   "execution_count": 72,
   "metadata": {},
   "outputs": [
    {
     "name": "stdout",
     "output_type": "stream",
     "text": [
      "accuracy_train： 0.9098639455782312\n",
      "accuracy_test： 0.7391304347826086\n",
      "Kappa_train： 0.8686504256933322\n",
      "Kappa_test： 0.6187932333401822\n",
      "confusion_matrix_train：\n",
      "[[212   0   5  13]\n",
      " [  0  28   0   0]\n",
      " [  9   0 162   9]\n",
      " [ 10   0   7 133]]\n",
      "confusion_matrix_test：\n",
      "[[81  0  6 13]\n",
      " [ 0 11  0  2]\n",
      " [12  0 49  9]\n",
      " [13  1 10 46]]\n"
     ]
    }
   ],
   "source": [
    "clf_tree.fit(xlle1_train, ylle1_train)\n",
    "print ('accuracy_train：', accuracy_score(ylle1_train, clf_tree.predict(xlle1_train)))\n",
    "print ('accuracy_test：', accuracy_score(ylle1_test, clf_tree.predict(xlle1_test)))\n",
    "\n",
    "print ('Kappa_train：', cohen_kappa_score(ylle1_train, clf_tree.predict(xlle1_train)))\n",
    "print ('Kappa_test：', cohen_kappa_score(ylle1_test, clf_tree.predict(xlle1_test)))\n",
    "\n",
    "print ('confusion_matrix_train：')\n",
    "print ( confusion_matrix(ylle1_train, clf_tree.predict(xlle1_train)))\n",
    "print ('confusion_matrix_test：')\n",
    "print ( confusion_matrix(ylle1_test, clf_tree.predict(xlle1_test)))"
   ]
  },
  {
   "cell_type": "code",
   "execution_count": 73,
   "metadata": {},
   "outputs": [
    {
     "name": "stdout",
     "output_type": "stream",
     "text": [
      "accuracy_train： 0.9846938775510204\n",
      "accuracy_test： 0.8616600790513834\n",
      "Kappa_train： 0.9776757842161213\n",
      "Kappa_test： 0.7975676108177309\n",
      "confusion_matrix_train：\n",
      "[[230   0   0   0]\n",
      " [  0  28   0   0]\n",
      " [  4   1 174   1]\n",
      " [  0   0   3 147]]\n",
      "confusion_matrix_test：\n",
      "[[91  1  4  4]\n",
      " [ 2  8  1  2]\n",
      " [ 9  3 56  2]\n",
      " [ 6  0  1 63]]\n"
     ]
    }
   ],
   "source": [
    "clf_tree.fit(xlle2_train, ylle2_train)\n",
    "print ('accuracy_train：', accuracy_score(ylle2_train, clf_tree.predict(xlle2_train)))\n",
    "print ('accuracy_test：', accuracy_score(ylle2_test, clf_tree.predict(xlle2_test)))\n",
    "\n",
    "print ('Kappa_train：', cohen_kappa_score(ylle2_train, clf_tree.predict(xlle2_train)))\n",
    "print ('Kappa_test：', cohen_kappa_score(ylle2_test, clf_tree.predict(xlle2_test)))\n",
    "\n",
    "print ('confusion_matrix_train：')\n",
    "print ( confusion_matrix(ylle2_train, clf_tree.predict(xlle2_train)))\n",
    "print ('confusion_matrix_test：')\n",
    "print ( confusion_matrix(ylle2_test, clf_tree.predict(xlle2_test)))"
   ]
  },
  {
   "cell_type": "code",
   "execution_count": 74,
   "metadata": {},
   "outputs": [],
   "source": [
    "# GBDT model, booting+decision, a method I want to explain, and compare it with Randomforest.\n",
    "# I find roughly good parameter, limit max_depth to avoid overfitting (but for train data easy to reach accuracy is 1).\n",
    "# I perfer to show how to fulfil GBDT since it is a little better than Random Forest(other articles and my work both find this)"
   ]
  },
  {
   "cell_type": "code",
   "execution_count": 75,
   "metadata": {},
   "outputs": [],
   "source": [
    "from sklearn.datasets import make_classification\n",
    "from sklearn.ensemble import GradientBoostingClassifier\n",
    "GradientBoosting1 = GradientBoostingClassifier(max_depth=2)\n",
    "GradientBoosting2 = GradientBoostingClassifier(random_state=10,max_depth=3,min_samples_split=20,min_samples_leaf=8)"
   ]
  },
  {
   "cell_type": "code",
   "execution_count": 76,
   "metadata": {},
   "outputs": [
    {
     "name": "stdout",
     "output_type": "stream",
     "text": [
      "accuracy_train： 0.9829931972789115\n",
      "accuracy_test： 0.7786561264822134\n",
      "Kappa_train： 0.9751930135425896\n",
      "Kappa_test： 0.6769721842225263\n",
      "confusion_matrix_train：\n",
      "[[226   0   3   1]\n",
      " [  0  28   0   0]\n",
      " [  4   0 176   0]\n",
      " [  2   0   0 148]]\n",
      "confusion_matrix_test：\n",
      "[[81  0  7 12]\n",
      " [ 0 13  0  0]\n",
      " [ 8  0 55  7]\n",
      " [17  0  5 48]]\n"
     ]
    }
   ],
   "source": [
    "GradientBoosting1.fit(x1_train, y1_train)\n",
    "print ('accuracy_train：', accuracy_score(y1_train, GradientBoosting1.predict(x1_train)))\n",
    "print ('accuracy_test：', accuracy_score(y1_test, GradientBoosting1.predict(x1_test)))\n",
    "\n",
    "print ('Kappa_train：', cohen_kappa_score(y1_train, GradientBoosting1.predict(x1_train)))\n",
    "print ('Kappa_test：', cohen_kappa_score(y1_test, GradientBoosting1.predict(x1_test)))\n",
    "\n",
    "print ('confusion_matrix_train：')\n",
    "print ( confusion_matrix(y1_train, GradientBoosting1.predict(x1_train)))\n",
    "print ('confusion_matrix_test：')\n",
    "print ( confusion_matrix(y1_test, GradientBoosting1.predict(x1_test)))"
   ]
  },
  {
   "cell_type": "code",
   "execution_count": 77,
   "metadata": {},
   "outputs": [
    {
     "name": "stdout",
     "output_type": "stream",
     "text": [
      "accuracy_train： 1.0\n",
      "accuracy_test： 0.9407114624505929\n",
      "Kappa_train： 1.0\n",
      "Kappa_test： 0.9136518771331058\n",
      "confusion_matrix_train：\n",
      "[[230   0   0   0]\n",
      " [  0  28   0   0]\n",
      " [  0   0 180   0]\n",
      " [  0   0   0 150]]\n",
      "confusion_matrix_test：\n",
      "[[96  0  3  1]\n",
      " [ 0 13  0  0]\n",
      " [ 6  0 62  2]\n",
      " [ 1  0  2 67]]\n"
     ]
    }
   ],
   "source": [
    "GradientBoosting1.fit(x2_train, y2_train)\n",
    "print ('accuracy_train：', accuracy_score(y2_train, GradientBoosting1.predict(x2_train)))\n",
    "print ('accuracy_test：', accuracy_score(y2_test, GradientBoosting1.predict(x2_test)))\n",
    "\n",
    "print ('Kappa_train：', cohen_kappa_score(y2_train, GradientBoosting1.predict(x2_train)))\n",
    "print ('Kappa_test：', cohen_kappa_score(y2_test, GradientBoosting1.predict(x2_test)))\n",
    "\n",
    "print ('confusion_matrix_train：')\n",
    "print ( confusion_matrix(y2_train, GradientBoosting1.predict(x2_train)))\n",
    "print ('confusion_matrix_test：')\n",
    "print ( confusion_matrix(y2_test, GradientBoosting1.predict(x2_test)))"
   ]
  },
  {
   "cell_type": "code",
   "execution_count": 78,
   "metadata": {},
   "outputs": [
    {
     "name": "stdout",
     "output_type": "stream",
     "text": [
      "accuracy_train： 1.0\n",
      "accuracy_test： 0.924901185770751\n",
      "Kappa_train： 1.0\n",
      "Kappa_test： 0.8905510018214936\n",
      "confusion_matrix_train：\n",
      "[[230   0   0   0]\n",
      " [  0  28   0   0]\n",
      " [  0   0 180   0]\n",
      " [  0   0   0 150]]\n",
      "confusion_matrix_test：\n",
      "[[97  0  3  0]\n",
      " [ 0 13  0  0]\n",
      " [ 5  0 62  3]\n",
      " [ 2  0  6 62]]\n"
     ]
    }
   ],
   "source": [
    "GradientBoosting1.fit(xpca1_train, ypca1_train)\n",
    "print ('accuracy_train：', accuracy_score(ypca1_train, GradientBoosting1.predict(xpca1_train)))\n",
    "print ('accuracy_test：', accuracy_score(ypca1_test, GradientBoosting1.predict(xpca1_test)))\n",
    "\n",
    "print ('Kappa_train：', cohen_kappa_score(ypca1_train, GradientBoosting1.predict(xpca1_train)))\n",
    "print ('Kappa_test：', cohen_kappa_score(ypca1_test, GradientBoosting1.predict(xpca1_test)))\n",
    "\n",
    "print ('confusion_matrix_train：')\n",
    "print ( confusion_matrix(ypca1_train, GradientBoosting1.predict(xpca1_train)))\n",
    "print ('confusion_matrix_test：')\n",
    "print ( confusion_matrix(ypca1_test, GradientBoosting1.predict(xpca1_test)))"
   ]
  },
  {
   "cell_type": "code",
   "execution_count": 79,
   "metadata": {},
   "outputs": [
    {
     "name": "stdout",
     "output_type": "stream",
     "text": [
      "accuracy_train： 0.9812925170068028\n",
      "accuracy_test： 0.7272727272727273\n",
      "Kappa_train： 0.9726892707849513\n",
      "Kappa_test： 0.5978854260244627\n",
      "confusion_matrix_train：\n",
      "[[228   0   0   2]\n",
      " [  0  28   0   0]\n",
      " [  6   0 174   0]\n",
      " [  2   0   1 147]]\n",
      "confusion_matrix_test：\n",
      "[[82  0  8 10]\n",
      " [ 0 12  1  0]\n",
      " [18  0 46  6]\n",
      " [19  0  7 44]]\n"
     ]
    }
   ],
   "source": [
    "GradientBoosting2.fit(xpca2_train, ypca2_train)\n",
    "print ('accuracy_train：', accuracy_score(ypca2_train, GradientBoosting2.predict(xpca2_train)))\n",
    "print ('accuracy_test：', accuracy_score(ypca2_test, GradientBoosting2.predict(xpca2_test)))\n",
    "\n",
    "print ('Kappa_train：', cohen_kappa_score(ypca2_train, GradientBoosting2.predict(xpca2_train)))\n",
    "print ('Kappa_test：', cohen_kappa_score(ypca2_test, GradientBoosting2.predict(xpca2_test)))\n",
    "\n",
    "print ('confusion_matrix_train：')\n",
    "print ( confusion_matrix(ypca2_train, GradientBoosting2.predict(xpca2_train)))\n",
    "print ('confusion_matrix_test：')\n",
    "print ( confusion_matrix(ypca2_test, GradientBoosting2.predict(xpca2_test)))"
   ]
  },
  {
   "cell_type": "code",
   "execution_count": 80,
   "metadata": {},
   "outputs": [
    {
     "name": "stdout",
     "output_type": "stream",
     "text": [
      "accuracy_train： 1.0\n",
      "accuracy_test： 0.9367588932806324\n",
      "Kappa_train： 1.0\n",
      "Kappa_test： 0.9079581628012733\n",
      "confusion_matrix_train：\n",
      "[[230   0   0   0]\n",
      " [  0  28   0   0]\n",
      " [  0   0 180   0]\n",
      " [  0   0   0 150]]\n",
      "confusion_matrix_test：\n",
      "[[96  0  4  0]\n",
      " [ 0 13  0  0]\n",
      " [ 6  0 62  2]\n",
      " [ 0  0  4 66]]\n"
     ]
    }
   ],
   "source": [
    "GradientBoosting1.fit(xIca1_train, yIca1_train)\n",
    "print ('accuracy_train：', accuracy_score(yIca1_train, GradientBoosting1.predict(xIca1_train)))\n",
    "print ('accuracy_test：', accuracy_score(yIca1_test, GradientBoosting1.predict(xIca1_test)))\n",
    "\n",
    "print ('Kappa_train：', cohen_kappa_score(yIca1_train, GradientBoosting1.predict(xIca1_train)))\n",
    "print ('Kappa_test：', cohen_kappa_score(yIca1_test, GradientBoosting1.predict(xIca1_test)))\n",
    "\n",
    "print ('confusion_matrix_train：')\n",
    "print ( confusion_matrix(yIca1_train, GradientBoosting1.predict(xIca1_train)))\n",
    "print ('confusion_matrix_test：')\n",
    "print ( confusion_matrix(yIca1_test, GradientBoosting1.predict(xIca1_test)))"
   ]
  },
  {
   "cell_type": "code",
   "execution_count": 81,
   "metadata": {},
   "outputs": [
    {
     "name": "stdout",
     "output_type": "stream",
     "text": [
      "accuracy_train： 0.9880952380952381\n",
      "accuracy_test： 0.6758893280632411\n",
      "Kappa_train： 0.9826263137900468\n",
      "Kappa_test： 0.5189333333333332\n",
      "confusion_matrix_train：\n",
      "[[229   0   1   0]\n",
      " [  0  28   0   0]\n",
      " [  6   0 174   0]\n",
      " [  0   0   0 150]]\n",
      "confusion_matrix_test：\n",
      "[[77  0 13 10]\n",
      " [ 0  8  3  2]\n",
      " [21  0 46  3]\n",
      " [23  0  7 40]]\n"
     ]
    }
   ],
   "source": [
    "GradientBoosting2.fit(xIca2_train, yIca2_train)\n",
    "print ('accuracy_train：', accuracy_score(yIca2_train, GradientBoosting2.predict(xIca2_train)))\n",
    "print ('accuracy_test：', accuracy_score(yIca2_test, GradientBoosting2.predict(xIca2_test)))\n",
    "\n",
    "print ('Kappa_train：', cohen_kappa_score(yIca2_train, GradientBoosting2.predict(xIca2_train)))\n",
    "print ('Kappa_test：', cohen_kappa_score(yIca2_test, GradientBoosting2.predict(xIca2_test)))\n",
    "\n",
    "print ('confusion_matrix_train：')\n",
    "print ( confusion_matrix(yIca2_train, GradientBoosting2.predict(xIca2_train)))\n",
    "print ('confusion_matrix_test：')\n",
    "print ( confusion_matrix(yIca2_test, GradientBoosting2.predict(xIca2_test)))"
   ]
  },
  {
   "cell_type": "code",
   "execution_count": 82,
   "metadata": {},
   "outputs": [
    {
     "name": "stdout",
     "output_type": "stream",
     "text": [
      "accuracy_train： 0.9982993197278912\n",
      "accuracy_test： 0.857707509881423\n",
      "Kappa_train： 0.9975219359243432\n",
      "Kappa_test： 0.7921829009514683\n",
      "confusion_matrix_train：\n",
      "[[230   0   0   0]\n",
      " [  0  28   0   0]\n",
      " [  0   0 180   0]\n",
      " [  0   1   0 149]]\n",
      "confusion_matrix_test：\n",
      "[[92  0  4  4]\n",
      " [ 0 13  0  0]\n",
      " [11  0 54  5]\n",
      " [ 6  1  5 58]]\n"
     ]
    }
   ],
   "source": [
    "GradientBoosting2.fit(xlle1_train, ylle1_train)\n",
    "print ('accuracy_train：', accuracy_score(ylle1_train, GradientBoosting2.predict(xlle1_train)))\n",
    "print ('accuracy_test：', accuracy_score(ylle1_test, GradientBoosting2.predict(xlle1_test)))\n",
    "\n",
    "print ('Kappa_train：', cohen_kappa_score(ylle1_train, GradientBoosting2.predict(xlle1_train)))\n",
    "print ('Kappa_test：', cohen_kappa_score(ylle1_test, GradientBoosting2.predict(xlle1_test)))\n",
    "\n",
    "print ('confusion_matrix_train：')\n",
    "print ( confusion_matrix(ylle1_train, GradientBoosting2.predict(xlle1_train)))\n",
    "print ('confusion_matrix_test：')\n",
    "print ( confusion_matrix(ylle1_test, GradientBoosting2.predict(xlle1_test)))"
   ]
  },
  {
   "cell_type": "code",
   "execution_count": 83,
   "metadata": {},
   "outputs": [
    {
     "name": "stdout",
     "output_type": "stream",
     "text": [
      "accuracy_train： 1.0\n",
      "accuracy_test： 0.9446640316205533\n",
      "Kappa_train： 1.0\n",
      "Kappa_test： 0.9189770335803824\n",
      "confusion_matrix_train：\n",
      "[[230   0   0   0]\n",
      " [  0  28   0   0]\n",
      " [  0   0 180   0]\n",
      " [  0   0   0 150]]\n",
      "confusion_matrix_test：\n",
      "[[98  0  2  0]\n",
      " [ 1 11  0  1]\n",
      " [ 3  0 66  1]\n",
      " [ 5  0  1 64]]\n"
     ]
    }
   ],
   "source": [
    "GradientBoosting1.fit(xlle2_train, ylle2_train)\n",
    "print ('accuracy_train：', accuracy_score(ylle2_train, GradientBoosting1.predict(xlle2_train)))\n",
    "print ('accuracy_test：', accuracy_score(ylle2_test, GradientBoosting1.predict(xlle2_test)))\n",
    "\n",
    "print ('Kappa_train：', cohen_kappa_score(ylle2_train, GradientBoosting1.predict(xlle2_train)))\n",
    "print ('Kappa_test：', cohen_kappa_score(ylle2_test, GradientBoosting1.predict(xlle2_test)))\n",
    "\n",
    "print ('confusion_matrix_train：')\n",
    "print ( confusion_matrix(ylle2_train, GradientBoosting1.predict(xlle2_train)))\n",
    "print ('confusion_matrix_test：')\n",
    "print ( confusion_matrix(ylle2_test, GradientBoosting1.predict(xlle2_test)))"
   ]
  },
  {
   "cell_type": "code",
   "execution_count": 84,
   "metadata": {},
   "outputs": [],
   "source": [
    "# next step is to find the best parameters of GBDT.\n",
    "# But I haven't do this"
   ]
  },
  {
   "cell_type": "code",
   "execution_count": 85,
   "metadata": {},
   "outputs": [
    {
     "name": "stderr",
     "output_type": "stream",
     "text": [
      "Using TensorFlow backend.\n"
     ]
    }
   ],
   "source": [
    "from __future__ import print_function\n",
    "\n",
    "import tensorflow as tf\n",
    "from keras.preprocessing import sequence\n",
    "from keras.models import Sequential\n",
    "from keras.layers import Dense, Dropout, Activation\n",
    "from keras.layers import Embedding\n",
    "from keras.layers import Conv1D, GlobalMaxPooling1D"
   ]
  },
  {
   "cell_type": "code",
   "execution_count": 86,
   "metadata": {},
   "outputs": [],
   "source": [
    "# Then try deep learning,DNN, the CNN is used for image and time series, not suitable for my work."
   ]
  },
  {
   "cell_type": "code",
   "execution_count": 87,
   "metadata": {},
   "outputs": [],
   "source": [
    "# whrite=0, red=1 ,black=2, mud=3"
   ]
  },
  {
   "cell_type": "code",
   "execution_count": 88,
   "metadata": {},
   "outputs": [],
   "source": [
    "tar=array([0,0,0,0,0,0,0,0,0,0,0,0,0,0,0,0,0,0,0,0,0,0,0,0,0,0,0,0,0,0,0,0,0,0,0,0,0,0,0,0,0,0,0,0,0,0,0,0,0,0,0,0,0,0,0,0,0,0,0,0,\n",
    "          0,0,0,0,0,0,0,0,0,0,0,0,0,0,0,0,0,0,0,0,0,0,0,0,0,0,0,0,0,0,0,0,0,0,0,0,0,0,0,0,0,0,0,0,0,0,0,0,0,0,0,0,0,0,0,0,0,0,0,0,\n",
    "          0,0,0,0,0,0,0,0,0,0,0,0,0,0,0,0,0,0,0,0,0,0,0,0,0,0,0,0,0,0,0,0,0,0,0,0,0,0,0,0,0,0,0,0,0,0,0,0,0,0,0,0,0,0,0,0,0,0,0,0,\n",
    "          0,0,0,0,0,0,0,0,0,0,0,0,0,0,0,0,0,0,0,0,0,0,0,0,0,0,0,0,0,0,0,0,0,0,0,0,0,0,0,0,\n",
    "          1,1,1,1,1,1,1,1,1,1,1,1,1,1,1,1,1,1,1,1,1,1,1,1,1,1,1,1,1,1,1,1,1,1,1,1,1,1,1,1,1,1,1,1,1,1,1,1,1,1,1,1,1,1,1,1,1,1,1,1,\n",
    "          1,1,1,1,1,1,1,1,1,1,1,1,1,1,1,1,1,1,1,1,1,1,1,1,1,1,1,1,1,1,1,1,1,1,1,1,1,1,1,1,1,1,1,1,1,1,1,1,1,1,1,1,1,1,1,1,1,1,1,1,\n",
    "          1,1,1,1,1,1,1,1,1,1,1,1,1,1,1,1,1,1,1,1,1,1,1,1,1,1,1,1,1,1,1,1,1,1,1,1,1,1,1,1,1,1,1,1,1,1,1,1,1,1,1,1,1,1,1,1,1,1,1,1,\n",
    "          1,1,1,1,1,1,1,1,1,1,1,1,1,1,1,1,1,1,1,1,1,1,1,1,1,1,1,1,1,1,1,1,1,1,1,1,1,1,1,1,1,1,1,1,1,1,1,1,1,1,1,1,1,1,1,1,1,1,1,1,\n",
    "          1,1,1,1,1,1,1,1,1,1,\n",
    "          2,2,2,2,2,2,2,2,2,2,2,2,2,2,2,2,2,2,2,2,2,2,2,2,2,2,2,2,2,2,2,2,2,2,2,2,2,2,2,2,2,2,2,2,2,2,2,2,2,2,2,2,2,2,2,2,2,2,2,2,\n",
    "          2,2,2,2,2,2,2,2,2,2,2,2,2,2,2,2,2,2,2,2,2,2,2,2,2,2,2,2,2,2,2,2,2,2,2,2,2,2,2,2,2,2,2,2,2,2,2,2,2,2,2,2,2,2,2,2,2,2,2,2,\n",
    "          2,2,2,2,2,2,2,2,2,2,2,2,2,2,2,2,2,2,2,2,2,2,2,2,2,2,2,2,2,2,2,2,2,2,2,2,2,2,2,2,2,2,2,2,2,2,2,2,2,2,2,2,2,2,2,2,2,2,2,2,\n",
    "          2,2,2,2,2,2,2,2,2,2,2,2,2,2,2,2,2,2,2,2,2,2,2,2,2,2,2,2,2,2,2,2,2,2,2,2,2,2,2,2,2,2,2,2,2,2,2,2,2,2,2,2,2,2,2,2,2,2,2,2,\n",
    "          2,2,2,2,2,2,2,2,2,2,2,2,2,2,2,2,2,2,2,2,2,2,2,2,2,2,2,2,2,2,2,2,2,2,2,2,2,2,2,2,2,2,2,2,2,2,2,2,2,2,2,2,2,2,2,2,2,2,2,2,\n",
    "          2,2,2,2,2,2,2,2,2,2,2,2,2,2,2,2,2,2,2,2,2,2,2,2,2,2,2,2,2,2,\n",
    "          3,3,3,3,3,3,3,3,3,3,3,3,3,3,3,3,3,3,3,3,3,3,3,3,3,3,3,3,3,3,3,3,3,3,3,3,3,3,3,3,3])"
   ]
  },
  {
   "cell_type": "code",
   "execution_count": 89,
   "metadata": {},
   "outputs": [
    {
     "data": {
      "text/html": [
       "<div>\n",
       "<style scoped>\n",
       "    .dataframe tbody tr th:only-of-type {\n",
       "        vertical-align: middle;\n",
       "    }\n",
       "\n",
       "    .dataframe tbody tr th {\n",
       "        vertical-align: top;\n",
       "    }\n",
       "\n",
       "    .dataframe thead th {\n",
       "        text-align: right;\n",
       "    }\n",
       "</style>\n",
       "<table border=\"1\" class=\"dataframe\">\n",
       "  <thead>\n",
       "    <tr style=\"text-align: right;\">\n",
       "      <th></th>\n",
       "      <th>0</th>\n",
       "    </tr>\n",
       "  </thead>\n",
       "  <tbody>\n",
       "    <tr>\n",
       "      <th>0</th>\n",
       "      <td>0</td>\n",
       "    </tr>\n",
       "    <tr>\n",
       "      <th>1</th>\n",
       "      <td>0</td>\n",
       "    </tr>\n",
       "    <tr>\n",
       "      <th>2</th>\n",
       "      <td>0</td>\n",
       "    </tr>\n",
       "    <tr>\n",
       "      <th>3</th>\n",
       "      <td>0</td>\n",
       "    </tr>\n",
       "    <tr>\n",
       "      <th>4</th>\n",
       "      <td>0</td>\n",
       "    </tr>\n",
       "  </tbody>\n",
       "</table>\n",
       "</div>"
      ],
      "text/plain": [
       "   0\n",
       "0  0\n",
       "1  0\n",
       "2  0\n",
       "3  0\n",
       "4  0"
      ]
     },
     "execution_count": 89,
     "metadata": {},
     "output_type": "execute_result"
    }
   ],
   "source": [
    "import pandas as pd\n",
    "T= pd.DataFrame(tar)\n",
    "T.head()"
   ]
  },
  {
   "cell_type": "code",
   "execution_count": 90,
   "metadata": {},
   "outputs": [],
   "source": [
    "wavelength1[0:841].head()\n",
    "Wavelength1=wavelength1[0:841]"
   ]
  },
  {
   "cell_type": "code",
   "execution_count": 91,
   "metadata": {},
   "outputs": [
    {
     "name": "stdout",
     "output_type": "stream",
     "text": [
      "Index(['400', '401', '402', '403', '404', '405', '406', '407', '408', '409',\n",
      "       ...\n",
      "       '890', '891', '892', '893', '894', '895', '896', '897', '898', '899'],\n",
      "      dtype='object', length=500)\n"
     ]
    },
    {
     "name": "stderr",
     "output_type": "stream",
     "text": [
      "C:\\Users\\user\\Anaconda3\\lib\\site-packages\\pandas\\core\\indexing.py:190: SettingWithCopyWarning: \n",
      "A value is trying to be set on a copy of a slice from a DataFrame\n",
      "\n",
      "See the caveats in the documentation: http://pandas.pydata.org/pandas-docs/stable/indexing.html#indexing-view-versus-copy\n",
      "  self._setitem_with_indexer(indexer, value)\n",
      "C:\\Users\\user\\Anaconda3\\lib\\site-packages\\ipykernel_launcher.py:2: SettingWithCopyWarning: \n",
      "A value is trying to be set on a copy of a slice from a DataFrame\n",
      "\n",
      "See the caveats in the documentation: http://pandas.pydata.org/pandas-docs/stable/indexing.html#indexing-view-versus-copy\n",
      "  \n"
     ]
    }
   ],
   "source": [
    "Wavelength1.dtypes\n",
    "Wavelength1.iloc[:,1:4] = Wavelength1.iloc[:,1:4].astype(np.float32)\n",
    "columns = Wavelength1.columns[0:500]\n",
    "print(columns)\n",
    "import tensorflow as tf"
   ]
  },
  {
   "cell_type": "code",
   "execution_count": 92,
   "metadata": {},
   "outputs": [
    {
     "data": {
      "text/html": [
       "<div>\n",
       "<style scoped>\n",
       "    .dataframe tbody tr th:only-of-type {\n",
       "        vertical-align: middle;\n",
       "    }\n",
       "\n",
       "    .dataframe tbody tr th {\n",
       "        vertical-align: top;\n",
       "    }\n",
       "\n",
       "    .dataframe thead th {\n",
       "        text-align: right;\n",
       "    }\n",
       "</style>\n",
       "<table border=\"1\" class=\"dataframe\">\n",
       "  <thead>\n",
       "    <tr style=\"text-align: right;\">\n",
       "      <th></th>\n",
       "      <th>400</th>\n",
       "      <th>401</th>\n",
       "      <th>402</th>\n",
       "      <th>403</th>\n",
       "      <th>404</th>\n",
       "      <th>405</th>\n",
       "      <th>406</th>\n",
       "      <th>407</th>\n",
       "      <th>408</th>\n",
       "      <th>409</th>\n",
       "      <th>...</th>\n",
       "      <th>890</th>\n",
       "      <th>891</th>\n",
       "      <th>892</th>\n",
       "      <th>893</th>\n",
       "      <th>894</th>\n",
       "      <th>895</th>\n",
       "      <th>896</th>\n",
       "      <th>897</th>\n",
       "      <th>898</th>\n",
       "      <th>899</th>\n",
       "    </tr>\n",
       "  </thead>\n",
       "  <tbody>\n",
       "    <tr>\n",
       "      <th>0</th>\n",
       "      <td>0.034368</td>\n",
       "      <td>0.032992</td>\n",
       "      <td>0.031690</td>\n",
       "      <td>0.032353</td>\n",
       "      <td>0.033077</td>\n",
       "      <td>0.031526</td>\n",
       "      <td>0.031083</td>\n",
       "      <td>0.031829</td>\n",
       "      <td>0.032344</td>\n",
       "      <td>0.031218</td>\n",
       "      <td>...</td>\n",
       "      <td>0.766891</td>\n",
       "      <td>0.766991</td>\n",
       "      <td>0.767237</td>\n",
       "      <td>0.767505</td>\n",
       "      <td>0.767675</td>\n",
       "      <td>0.767965</td>\n",
       "      <td>0.768200</td>\n",
       "      <td>0.768400</td>\n",
       "      <td>0.768611</td>\n",
       "      <td>0.768814</td>\n",
       "    </tr>\n",
       "    <tr>\n",
       "      <th>1</th>\n",
       "      <td>0.043826</td>\n",
       "      <td>0.042417</td>\n",
       "      <td>0.042917</td>\n",
       "      <td>0.043420</td>\n",
       "      <td>0.043042</td>\n",
       "      <td>0.041864</td>\n",
       "      <td>0.041382</td>\n",
       "      <td>0.041416</td>\n",
       "      <td>0.041402</td>\n",
       "      <td>0.040904</td>\n",
       "      <td>...</td>\n",
       "      <td>0.798869</td>\n",
       "      <td>0.799003</td>\n",
       "      <td>0.799111</td>\n",
       "      <td>0.799260</td>\n",
       "      <td>0.799458</td>\n",
       "      <td>0.799560</td>\n",
       "      <td>0.799633</td>\n",
       "      <td>0.799748</td>\n",
       "      <td>0.799921</td>\n",
       "      <td>0.800058</td>\n",
       "    </tr>\n",
       "    <tr>\n",
       "      <th>2</th>\n",
       "      <td>0.143540</td>\n",
       "      <td>0.141106</td>\n",
       "      <td>0.141642</td>\n",
       "      <td>0.141945</td>\n",
       "      <td>0.141047</td>\n",
       "      <td>0.139442</td>\n",
       "      <td>0.138422</td>\n",
       "      <td>0.138323</td>\n",
       "      <td>0.138588</td>\n",
       "      <td>0.138396</td>\n",
       "      <td>...</td>\n",
       "      <td>0.752213</td>\n",
       "      <td>0.752374</td>\n",
       "      <td>0.752461</td>\n",
       "      <td>0.752503</td>\n",
       "      <td>0.752579</td>\n",
       "      <td>0.752820</td>\n",
       "      <td>0.752871</td>\n",
       "      <td>0.752867</td>\n",
       "      <td>0.752967</td>\n",
       "      <td>0.753069</td>\n",
       "    </tr>\n",
       "    <tr>\n",
       "      <th>3</th>\n",
       "      <td>0.084876</td>\n",
       "      <td>0.083464</td>\n",
       "      <td>0.081354</td>\n",
       "      <td>0.081849</td>\n",
       "      <td>0.083215</td>\n",
       "      <td>0.082352</td>\n",
       "      <td>0.080592</td>\n",
       "      <td>0.081126</td>\n",
       "      <td>0.082212</td>\n",
       "      <td>0.080539</td>\n",
       "      <td>...</td>\n",
       "      <td>0.785497</td>\n",
       "      <td>0.785567</td>\n",
       "      <td>0.785621</td>\n",
       "      <td>0.785619</td>\n",
       "      <td>0.785600</td>\n",
       "      <td>0.785745</td>\n",
       "      <td>0.785821</td>\n",
       "      <td>0.785785</td>\n",
       "      <td>0.785687</td>\n",
       "      <td>0.785637</td>\n",
       "    </tr>\n",
       "    <tr>\n",
       "      <th>4</th>\n",
       "      <td>0.069533</td>\n",
       "      <td>0.069442</td>\n",
       "      <td>0.068714</td>\n",
       "      <td>0.069072</td>\n",
       "      <td>0.069298</td>\n",
       "      <td>0.067863</td>\n",
       "      <td>0.067905</td>\n",
       "      <td>0.068015</td>\n",
       "      <td>0.067508</td>\n",
       "      <td>0.066574</td>\n",
       "      <td>...</td>\n",
       "      <td>0.835316</td>\n",
       "      <td>0.835295</td>\n",
       "      <td>0.835288</td>\n",
       "      <td>0.835275</td>\n",
       "      <td>0.835255</td>\n",
       "      <td>0.835324</td>\n",
       "      <td>0.835319</td>\n",
       "      <td>0.835344</td>\n",
       "      <td>0.835428</td>\n",
       "      <td>0.835268</td>\n",
       "    </tr>\n",
       "  </tbody>\n",
       "</table>\n",
       "<p>5 rows × 500 columns</p>\n",
       "</div>"
      ],
      "text/plain": [
       "        400       401       402       403       404       405       406  \\\n",
       "0  0.034368  0.032992  0.031690  0.032353  0.033077  0.031526  0.031083   \n",
       "1  0.043826  0.042417  0.042917  0.043420  0.043042  0.041864  0.041382   \n",
       "2  0.143540  0.141106  0.141642  0.141945  0.141047  0.139442  0.138422   \n",
       "3  0.084876  0.083464  0.081354  0.081849  0.083215  0.082352  0.080592   \n",
       "4  0.069533  0.069442  0.068714  0.069072  0.069298  0.067863  0.067905   \n",
       "\n",
       "        407       408       409  ...       890       891       892       893  \\\n",
       "0  0.031829  0.032344  0.031218  ...  0.766891  0.766991  0.767237  0.767505   \n",
       "1  0.041416  0.041402  0.040904  ...  0.798869  0.799003  0.799111  0.799260   \n",
       "2  0.138323  0.138588  0.138396  ...  0.752213  0.752374  0.752461  0.752503   \n",
       "3  0.081126  0.082212  0.080539  ...  0.785497  0.785567  0.785621  0.785619   \n",
       "4  0.068015  0.067508  0.066574  ...  0.835316  0.835295  0.835288  0.835275   \n",
       "\n",
       "        894       895       896       897       898       899  \n",
       "0  0.767675  0.767965  0.768200  0.768400  0.768611  0.768814  \n",
       "1  0.799458  0.799560  0.799633  0.799748  0.799921  0.800058  \n",
       "2  0.752579  0.752820  0.752871  0.752867  0.752967  0.753069  \n",
       "3  0.785600  0.785745  0.785821  0.785785  0.785687  0.785637  \n",
       "4  0.835255  0.835324  0.835319  0.835344  0.835428  0.835268  \n",
       "\n",
       "[5 rows x 500 columns]"
      ]
     },
     "execution_count": 92,
     "metadata": {},
     "output_type": "execute_result"
    }
   ],
   "source": [
    "Wavelength1.iloc[:,0:500].head()"
   ]
  },
  {
   "cell_type": "code",
   "execution_count": 93,
   "metadata": {},
   "outputs": [],
   "source": [
    "Xn_train, Xn_test, yn_train, yn_test = train_test_split(Wavelength1.iloc[:,0:500], T, test_size=0.33, random_state=42)"
   ]
  },
  {
   "cell_type": "code",
   "execution_count": 94,
   "metadata": {},
   "outputs": [
    {
     "data": {
      "text/plain": [
       "((563, 500), (278, 500), (563, 1), (278, 1))"
      ]
     },
     "execution_count": 94,
     "metadata": {},
     "output_type": "execute_result"
    }
   ],
   "source": [
    "Xn_train.shape, Xn_test.shape, yn_train.shape, yn_test.shape"
   ]
  },
  {
   "cell_type": "code",
   "execution_count": 95,
   "metadata": {},
   "outputs": [
    {
     "name": "stdout",
     "output_type": "stream",
     "text": [
      "WARNING:tensorflow:\n",
      "The TensorFlow contrib module will not be included in TensorFlow 2.0.\n",
      "For more information, please see:\n",
      "  * https://github.com/tensorflow/community/blob/master/rfcs/20180907-contrib-sunset.md\n",
      "  * https://github.com/tensorflow/addons\n",
      "  * https://github.com/tensorflow/io (for I/O related ops)\n",
      "If you depend on functionality not listed there, please file an issue.\n",
      "\n"
     ]
    }
   ],
   "source": [
    "feature_columns = [tf.contrib.layers.real_valued_column(k) for k in columns]"
   ]
  },
  {
   "cell_type": "code",
   "execution_count": 96,
   "metadata": {},
   "outputs": [],
   "source": [
    "def input_fn(df,labels):\n",
    "    feature_cols = {k:tf.constant(df[k].values,shape = [df[k].size,1]) for k in columns}\n",
    "    label = tf.constant(labels.values, shape = [labels.size,1])\n",
    "    return feature_cols,label"
   ]
  },
  {
   "cell_type": "code",
   "execution_count": 97,
   "metadata": {},
   "outputs": [
    {
     "name": "stdout",
     "output_type": "stream",
     "text": [
      "WARNING:tensorflow:From C:\\Users\\user\\Anaconda3\\lib\\site-packages\\tensorflow\\contrib\\learn\\python\\learn\\estimators\\dnn.py:378: multi_class_head (from tensorflow.contrib.learn.python.learn.estimators.head) is deprecated and will be removed in a future version.\n",
      "Instructions for updating:\n",
      "Please switch to tf.contrib.estimator.*_head.\n",
      "WARNING:tensorflow:From C:\\Users\\user\\Anaconda3\\lib\\site-packages\\tensorflow\\contrib\\learn\\python\\learn\\estimators\\estimator.py:1179: BaseEstimator.__init__ (from tensorflow.contrib.learn.python.learn.estimators.estimator) is deprecated and will be removed in a future version.\n",
      "Instructions for updating:\n",
      "Please replace uses of any Estimator from tf.contrib.learn with an Estimator from tf.estimator.*\n",
      "WARNING:tensorflow:From C:\\Users\\user\\Anaconda3\\lib\\site-packages\\tensorflow\\contrib\\learn\\python\\learn\\estimators\\estimator.py:427: RunConfig.__init__ (from tensorflow.contrib.learn.python.learn.estimators.run_config) is deprecated and will be removed in a future version.\n",
      "Instructions for updating:\n",
      "When switching to tf.estimator.Estimator, use tf.estimator.RunConfig instead.\n",
      "INFO:tensorflow:Using default config.\n",
      "WARNING:tensorflow:Using temporary folder as model directory: C:\\Users\\user\\AppData\\Local\\Temp\\tmpxxqdzp7u\n",
      "INFO:tensorflow:Using config: {'_task_type': None, '_task_id': 0, '_cluster_spec': <tensorflow.python.training.server_lib.ClusterSpec object at 0x000001D7A3E205C0>, '_master': '', '_num_ps_replicas': 0, '_num_worker_replicas': 0, '_environment': 'local', '_is_chief': True, '_evaluation_master': '', '_train_distribute': None, '_eval_distribute': None, '_experimental_max_worker_delay_secs': None, '_device_fn': None, '_tf_config': gpu_options {\n",
      "  per_process_gpu_memory_fraction: 1.0\n",
      "}\n",
      ", '_tf_random_seed': None, '_save_summary_steps': 100, '_save_checkpoints_secs': 600, '_log_step_count_steps': 100, '_protocol': None, '_session_config': None, '_save_checkpoints_steps': None, '_keep_checkpoint_max': 5, '_keep_checkpoint_every_n_hours': 10000, '_model_dir': 'C:\\\\Users\\\\user\\\\AppData\\\\Local\\\\Temp\\\\tmpxxqdzp7u'}\n"
     ]
    }
   ],
   "source": [
    "classifier = tf.contrib.learn.DNNClassifier(feature_columns=feature_columns,hidden_units=[20,40,20],n_classes = 4)"
   ]
  },
  {
   "cell_type": "code",
   "execution_count": 98,
   "metadata": {},
   "outputs": [
    {
     "name": "stdout",
     "output_type": "stream",
     "text": [
      "WARNING:tensorflow:From C:\\Users\\user\\Anaconda3\\lib\\site-packages\\tensorflow\\python\\training\\training_util.py:236: Variable.initialized_value (from tensorflow.python.ops.variables) is deprecated and will be removed in a future version.\n",
      "Instructions for updating:\n",
      "Use Variable.read_value. Variables in 2.X are initialized automatically both in eager and graph (inside tf.defun) contexts.\n",
      "WARNING:tensorflow:Entity <bound method Dense.call of <tensorflow.python.layers.core.Dense object at 0x000001D7A43970F0>> could not be transformed and will be executed as-is. Please report this to the AutgoGraph team. When filing the bug, set the verbosity to 10 (on Linux, `export AUTOGRAPH_VERBOSITY=10`) and attach the full output. Cause: converting <bound method Dense.call of <tensorflow.python.layers.core.Dense object at 0x000001D7A43970F0>>: AssertionError: Bad argument number for Name: 3, expecting 4\n",
      "WARNING: Entity <bound method Dense.call of <tensorflow.python.layers.core.Dense object at 0x000001D7A43970F0>> could not be transformed and will be executed as-is. Please report this to the AutgoGraph team. When filing the bug, set the verbosity to 10 (on Linux, `export AUTOGRAPH_VERBOSITY=10`) and attach the full output. Cause: converting <bound method Dense.call of <tensorflow.python.layers.core.Dense object at 0x000001D7A43970F0>>: AssertionError: Bad argument number for Name: 3, expecting 4\n",
      "WARNING:tensorflow:Entity <bound method Dense.call of <tensorflow.python.layers.core.Dense object at 0x000001D7A4372C88>> could not be transformed and will be executed as-is. Please report this to the AutgoGraph team. When filing the bug, set the verbosity to 10 (on Linux, `export AUTOGRAPH_VERBOSITY=10`) and attach the full output. Cause: converting <bound method Dense.call of <tensorflow.python.layers.core.Dense object at 0x000001D7A4372C88>>: AssertionError: Bad argument number for Name: 3, expecting 4\n",
      "WARNING: Entity <bound method Dense.call of <tensorflow.python.layers.core.Dense object at 0x000001D7A4372C88>> could not be transformed and will be executed as-is. Please report this to the AutgoGraph team. When filing the bug, set the verbosity to 10 (on Linux, `export AUTOGRAPH_VERBOSITY=10`) and attach the full output. Cause: converting <bound method Dense.call of <tensorflow.python.layers.core.Dense object at 0x000001D7A4372C88>>: AssertionError: Bad argument number for Name: 3, expecting 4\n",
      "WARNING:tensorflow:Entity <bound method Dense.call of <tensorflow.python.layers.core.Dense object at 0x000001D7A48FE0B8>> could not be transformed and will be executed as-is. Please report this to the AutgoGraph team. When filing the bug, set the verbosity to 10 (on Linux, `export AUTOGRAPH_VERBOSITY=10`) and attach the full output. Cause: converting <bound method Dense.call of <tensorflow.python.layers.core.Dense object at 0x000001D7A48FE0B8>>: AssertionError: Bad argument number for Name: 3, expecting 4\n",
      "WARNING: Entity <bound method Dense.call of <tensorflow.python.layers.core.Dense object at 0x000001D7A48FE0B8>> could not be transformed and will be executed as-is. Please report this to the AutgoGraph team. When filing the bug, set the verbosity to 10 (on Linux, `export AUTOGRAPH_VERBOSITY=10`) and attach the full output. Cause: converting <bound method Dense.call of <tensorflow.python.layers.core.Dense object at 0x000001D7A48FE0B8>>: AssertionError: Bad argument number for Name: 3, expecting 4\n",
      "WARNING:tensorflow:Entity <bound method Dense.call of <tensorflow.python.layers.core.Dense object at 0x000001D7A48B7C88>> could not be transformed and will be executed as-is. Please report this to the AutgoGraph team. When filing the bug, set the verbosity to 10 (on Linux, `export AUTOGRAPH_VERBOSITY=10`) and attach the full output. Cause: converting <bound method Dense.call of <tensorflow.python.layers.core.Dense object at 0x000001D7A48B7C88>>: AssertionError: Bad argument number for Name: 3, expecting 4\n",
      "WARNING: Entity <bound method Dense.call of <tensorflow.python.layers.core.Dense object at 0x000001D7A48B7C88>> could not be transformed and will be executed as-is. Please report this to the AutgoGraph team. When filing the bug, set the verbosity to 10 (on Linux, `export AUTOGRAPH_VERBOSITY=10`) and attach the full output. Cause: converting <bound method Dense.call of <tensorflow.python.layers.core.Dense object at 0x000001D7A48B7C88>>: AssertionError: Bad argument number for Name: 3, expecting 4\n",
      "WARNING:tensorflow:From C:\\Users\\user\\Anaconda3\\lib\\site-packages\\tensorflow\\python\\training\\adagrad.py:76: calling Constant.__init__ (from tensorflow.python.ops.init_ops) with dtype is deprecated and will be removed in a future version.\n",
      "Instructions for updating:\n",
      "Call initializer instance with the dtype argument instead of passing it to the constructor\n",
      "WARNING:tensorflow:From C:\\Users\\user\\Anaconda3\\lib\\site-packages\\tensorflow\\contrib\\learn\\python\\learn\\estimators\\head.py:678: ModelFnOps.__new__ (from tensorflow.contrib.learn.python.learn.estimators.model_fn) is deprecated and will be removed in a future version.\n",
      "Instructions for updating:\n",
      "When switching to tf.estimator.Estimator, use tf.estimator.EstimatorSpec. You can use the `estimator_spec` method to create an equivalent one.\n",
      "INFO:tensorflow:Create CheckpointSaverHook.\n",
      "WARNING:tensorflow:From C:\\Users\\user\\Anaconda3\\lib\\site-packages\\tensorflow\\python\\ops\\array_ops.py:1354: add_dispatch_support.<locals>.wrapper (from tensorflow.python.ops.array_ops) is deprecated and will be removed in a future version.\n",
      "Instructions for updating:\n",
      "Use tf.where in 2.0, which has the same broadcast rule as np.where\n",
      "INFO:tensorflow:Graph was finalized.\n",
      "INFO:tensorflow:Running local_init_op.\n",
      "INFO:tensorflow:Done running local_init_op.\n",
      "INFO:tensorflow:Saving checkpoints for 0 into C:\\Users\\user\\AppData\\Local\\Temp\\tmpxxqdzp7u\\model.ckpt.\n",
      "INFO:tensorflow:loss = 1.2899295, step = 1\n",
      "INFO:tensorflow:global_step/sec: 70.2897\n",
      "INFO:tensorflow:loss = 1.0486307, step = 101 (1.428 sec)\n",
      "INFO:tensorflow:global_step/sec: 147.143\n",
      "INFO:tensorflow:loss = 1.0014935, step = 201 (0.680 sec)\n",
      "INFO:tensorflow:global_step/sec: 191.064\n",
      "INFO:tensorflow:loss = 0.9627263, step = 301 (0.528 sec)\n",
      "INFO:tensorflow:global_step/sec: 264.105\n",
      "INFO:tensorflow:loss = 0.8783042, step = 401 (0.369 sec)\n",
      "INFO:tensorflow:global_step/sec: 270.879\n",
      "INFO:tensorflow:loss = 0.8416782, step = 501 (0.369 sec)\n",
      "INFO:tensorflow:global_step/sec: 281.072\n",
      "INFO:tensorflow:loss = 0.8379447, step = 601 (0.356 sec)\n",
      "INFO:tensorflow:global_step/sec: 277.794\n",
      "INFO:tensorflow:loss = 0.76549757, step = 701 (0.360 sec)\n",
      "INFO:tensorflow:global_step/sec: 217.403\n",
      "INFO:tensorflow:loss = 0.7139559, step = 801 (0.460 sec)\n",
      "INFO:tensorflow:global_step/sec: 238.138\n",
      "INFO:tensorflow:loss = 0.73438215, step = 901 (0.420 sec)\n",
      "INFO:tensorflow:global_step/sec: 269.789\n",
      "INFO:tensorflow:loss = 0.7037097, step = 1001 (0.371 sec)\n",
      "INFO:tensorflow:global_step/sec: 289.275\n",
      "INFO:tensorflow:loss = 0.6788367, step = 1101 (0.356 sec)\n",
      "INFO:tensorflow:global_step/sec: 277.795\n",
      "INFO:tensorflow:loss = 0.65792423, step = 1201 (0.350 sec)\n",
      "INFO:tensorflow:global_step/sec: 186.875\n",
      "INFO:tensorflow:loss = 0.64450645, step = 1301 (0.539 sec)\n",
      "INFO:tensorflow:global_step/sec: 169.311\n",
      "INFO:tensorflow:loss = 0.64520544, step = 1401 (0.597 sec)\n",
      "INFO:tensorflow:global_step/sec: 155.379\n",
      "INFO:tensorflow:loss = 0.63112783, step = 1501 (0.644 sec)\n",
      "INFO:tensorflow:global_step/sec: 199.289\n",
      "INFO:tensorflow:loss = 0.6480712, step = 1601 (0.502 sec)\n",
      "INFO:tensorflow:global_step/sec: 195.356\n",
      "INFO:tensorflow:loss = 0.6393643, step = 1701 (0.502 sec)\n",
      "INFO:tensorflow:global_step/sec: 200.012\n",
      "INFO:tensorflow:loss = 0.6783584, step = 1801 (0.510 sec)\n",
      "INFO:tensorflow:global_step/sec: 212.375\n",
      "INFO:tensorflow:loss = 0.56955624, step = 1901 (0.471 sec)\n",
      "INFO:tensorflow:Saving checkpoints for 2000 into C:\\Users\\user\\AppData\\Local\\Temp\\tmpxxqdzp7u\\model.ckpt.\n",
      "INFO:tensorflow:Loss for final step: 0.58952177.\n"
     ]
    },
    {
     "data": {
      "text/plain": [
       "DNNClassifier(params={'head': <tensorflow.contrib.learn.python.learn.estimators.head._MultiClassHead object at 0x000001D7A1C4B8D0>, 'hidden_units': [20, 40, 20], 'feature_columns': (_RealValuedColumn(column_name='400', dimension=1, default_value=None, dtype=tf.float32, normalizer=None), _RealValuedColumn(column_name='401', dimension=1, default_value=None, dtype=tf.float32, normalizer=None), _RealValuedColumn(column_name='402', dimension=1, default_value=None, dtype=tf.float32, normalizer=None), _RealValuedColumn(column_name='403', dimension=1, default_value=None, dtype=tf.float32, normalizer=None), _RealValuedColumn(column_name='404', dimension=1, default_value=None, dtype=tf.float32, normalizer=None), _RealValuedColumn(column_name='405', dimension=1, default_value=None, dtype=tf.float32, normalizer=None), _RealValuedColumn(column_name='406', dimension=1, default_value=None, dtype=tf.float32, normalizer=None), _RealValuedColumn(column_name='407', dimension=1, default_value=None, dtype=tf.float32, normalizer=None), _RealValuedColumn(column_name='408', dimension=1, default_value=None, dtype=tf.float32, normalizer=None), _RealValuedColumn(column_name='409', dimension=1, default_value=None, dtype=tf.float32, normalizer=None), _RealValuedColumn(column_name='410', dimension=1, default_value=None, dtype=tf.float32, normalizer=None), _RealValuedColumn(column_name='411', dimension=1, default_value=None, dtype=tf.float32, normalizer=None), _RealValuedColumn(column_name='412', dimension=1, default_value=None, dtype=tf.float32, normalizer=None), _RealValuedColumn(column_name='413', dimension=1, default_value=None, dtype=tf.float32, normalizer=None), _RealValuedColumn(column_name='414', dimension=1, default_value=None, dtype=tf.float32, normalizer=None), _RealValuedColumn(column_name='415', dimension=1, default_value=None, dtype=tf.float32, normalizer=None), _RealValuedColumn(column_name='416', dimension=1, default_value=None, dtype=tf.float32, normalizer=None), _RealValuedColumn(column_name='417', dimension=1, default_value=None, dtype=tf.float32, normalizer=None), _RealValuedColumn(column_name='418', dimension=1, default_value=None, dtype=tf.float32, normalizer=None), _RealValuedColumn(column_name='419', dimension=1, default_value=None, dtype=tf.float32, normalizer=None), _RealValuedColumn(column_name='420', dimension=1, default_value=None, dtype=tf.float32, normalizer=None), _RealValuedColumn(column_name='421', dimension=1, default_value=None, dtype=tf.float32, normalizer=None), _RealValuedColumn(column_name='422', dimension=1, default_value=None, dtype=tf.float32, normalizer=None), _RealValuedColumn(column_name='423', dimension=1, default_value=None, dtype=tf.float32, normalizer=None), _RealValuedColumn(column_name='424', dimension=1, default_value=None, dtype=tf.float32, normalizer=None), _RealValuedColumn(column_name='425', dimension=1, default_value=None, dtype=tf.float32, normalizer=None), _RealValuedColumn(column_name='426', dimension=1, default_value=None, dtype=tf.float32, normalizer=None), _RealValuedColumn(column_name='427', dimension=1, default_value=None, dtype=tf.float32, normalizer=None), _RealValuedColumn(column_name='428', dimension=1, default_value=None, dtype=tf.float32, normalizer=None), _RealValuedColumn(column_name='429', dimension=1, default_value=None, dtype=tf.float32, normalizer=None), _RealValuedColumn(column_name='430', dimension=1, default_value=None, dtype=tf.float32, normalizer=None), _RealValuedColumn(column_name='431', dimension=1, default_value=None, dtype=tf.float32, normalizer=None), _RealValuedColumn(column_name='432', dimension=1, default_value=None, dtype=tf.float32, normalizer=None), _RealValuedColumn(column_name='433', dimension=1, default_value=None, dtype=tf.float32, normalizer=None), _RealValuedColumn(column_name='434', dimension=1, default_value=None, dtype=tf.float32, normalizer=None), _RealValuedColumn(column_name='435', dimension=1, default_value=None, dtype=tf.float32, normalizer=None), _RealValuedColumn(column_name='436', dimension=1, default_value=None, dtype=tf.float32, normalizer=None), _RealValuedColumn(column_name='437', dimension=1, default_value=None, dtype=tf.float32, normalizer=None), _RealValuedColumn(column_name='438', dimension=1, default_value=None, dtype=tf.float32, normalizer=None), _RealValuedColumn(column_name='439', dimension=1, default_value=None, dtype=tf.float32, normalizer=None), _RealValuedColumn(column_name='440', dimension=1, default_value=None, dtype=tf.float32, normalizer=None), _RealValuedColumn(column_name='441', dimension=1, default_value=None, dtype=tf.float32, normalizer=None), _RealValuedColumn(column_name='442', dimension=1, default_value=None, dtype=tf.float32, normalizer=None), _RealValuedColumn(column_name='443', dimension=1, default_value=None, dtype=tf.float32, normalizer=None), _RealValuedColumn(column_name='444', dimension=1, default_value=None, dtype=tf.float32, normalizer=None), _RealValuedColumn(column_name='445', dimension=1, default_value=None, dtype=tf.float32, normalizer=None), _RealValuedColumn(column_name='446', dimension=1, default_value=None, dtype=tf.float32, normalizer=None), _RealValuedColumn(column_name='447', dimension=1, default_value=None, dtype=tf.float32, normalizer=None), _RealValuedColumn(column_name='448', dimension=1, default_value=None, dtype=tf.float32, normalizer=None), _RealValuedColumn(column_name='449', dimension=1, default_value=None, dtype=tf.float32, normalizer=None), _RealValuedColumn(column_name='450', dimension=1, default_value=None, dtype=tf.float32, normalizer=None), _RealValuedColumn(column_name='451', dimension=1, default_value=None, dtype=tf.float32, normalizer=None), _RealValuedColumn(column_name='452', dimension=1, default_value=None, dtype=tf.float32, normalizer=None), _RealValuedColumn(column_name='453', dimension=1, default_value=None, dtype=tf.float32, normalizer=None), _RealValuedColumn(column_name='454', dimension=1, default_value=None, dtype=tf.float32, normalizer=None), _RealValuedColumn(column_name='455', dimension=1, default_value=None, dtype=tf.float32, normalizer=None), _RealValuedColumn(column_name='456', dimension=1, default_value=None, dtype=tf.float32, normalizer=None), _RealValuedColumn(column_name='457', dimension=1, default_value=None, dtype=tf.float32, normalizer=None), _RealValuedColumn(column_name='458', dimension=1, default_value=None, dtype=tf.float32, normalizer=None), _RealValuedColumn(column_name='459', dimension=1, default_value=None, dtype=tf.float32, normalizer=None), _RealValuedColumn(column_name='460', dimension=1, default_value=None, dtype=tf.float32, normalizer=None), _RealValuedColumn(column_name='461', dimension=1, default_value=None, dtype=tf.float32, normalizer=None), _RealValuedColumn(column_name='462', dimension=1, default_value=None, dtype=tf.float32, normalizer=None), _RealValuedColumn(column_name='463', dimension=1, default_value=None, dtype=tf.float32, normalizer=None), _RealValuedColumn(column_name='464', dimension=1, default_value=None, dtype=tf.float32, normalizer=None), _RealValuedColumn(column_name='465', dimension=1, default_value=None, dtype=tf.float32, normalizer=None), _RealValuedColumn(column_name='466', dimension=1, default_value=None, dtype=tf.float32, normalizer=None), _RealValuedColumn(column_name='467', dimension=1, default_value=None, dtype=tf.float32, normalizer=None), _RealValuedColumn(column_name='468', dimension=1, default_value=None, dtype=tf.float32, normalizer=None), _RealValuedColumn(column_name='469', dimension=1, default_value=None, dtype=tf.float32, normalizer=None), _RealValuedColumn(column_name='470', dimension=1, default_value=None, dtype=tf.float32, normalizer=None), _RealValuedColumn(column_name='471', dimension=1, default_value=None, dtype=tf.float32, normalizer=None), _RealValuedColumn(column_name='472', dimension=1, default_value=None, dtype=tf.float32, normalizer=None), _RealValuedColumn(column_name='473', dimension=1, default_value=None, dtype=tf.float32, normalizer=None), _RealValuedColumn(column_name='474', dimension=1, default_value=None, dtype=tf.float32, normalizer=None), _RealValuedColumn(column_name='475', dimension=1, default_value=None, dtype=tf.float32, normalizer=None), _RealValuedColumn(column_name='476', dimension=1, default_value=None, dtype=tf.float32, normalizer=None), _RealValuedColumn(column_name='477', dimension=1, default_value=None, dtype=tf.float32, normalizer=None), _RealValuedColumn(column_name='478', dimension=1, default_value=None, dtype=tf.float32, normalizer=None), _RealValuedColumn(column_name='479', dimension=1, default_value=None, dtype=tf.float32, normalizer=None), _RealValuedColumn(column_name='480', dimension=1, default_value=None, dtype=tf.float32, normalizer=None), _RealValuedColumn(column_name='481', dimension=1, default_value=None, dtype=tf.float32, normalizer=None), _RealValuedColumn(column_name='482', dimension=1, default_value=None, dtype=tf.float32, normalizer=None), _RealValuedColumn(column_name='483', dimension=1, default_value=None, dtype=tf.float32, normalizer=None), _RealValuedColumn(column_name='484', dimension=1, default_value=None, dtype=tf.float32, normalizer=None), _RealValuedColumn(column_name='485', dimension=1, default_value=None, dtype=tf.float32, normalizer=None), _RealValuedColumn(column_name='486', dimension=1, default_value=None, dtype=tf.float32, normalizer=None), _RealValuedColumn(column_name='487', dimension=1, default_value=None, dtype=tf.float32, normalizer=None), _RealValuedColumn(column_name='488', dimension=1, default_value=None, dtype=tf.float32, normalizer=None), _RealValuedColumn(column_name='489', dimension=1, default_value=None, dtype=tf.float32, normalizer=None), _RealValuedColumn(column_name='490', dimension=1, default_value=None, dtype=tf.float32, normalizer=None), _RealValuedColumn(column_name='491', dimension=1, default_value=None, dtype=tf.float32, normalizer=None), _RealValuedColumn(column_name='492', dimension=1, default_value=None, dtype=tf.float32, normalizer=None), _RealValuedColumn(column_name='493', dimension=1, default_value=None, dtype=tf.float32, normalizer=None), _RealValuedColumn(column_name='494', dimension=1, default_value=None, dtype=tf.float32, normalizer=None), _RealValuedColumn(column_name='495', dimension=1, default_value=None, dtype=tf.float32, normalizer=None), _RealValuedColumn(column_name='496', dimension=1, default_value=None, dtype=tf.float32, normalizer=None), _RealValuedColumn(column_name='497', dimension=1, default_value=None, dtype=tf.float32, normalizer=None), _RealValuedColumn(column_name='498', dimension=1, default_value=None, dtype=tf.float32, normalizer=None), _RealValuedColumn(column_name='499', dimension=1, default_value=None, dtype=tf.float32, normalizer=None), _RealValuedColumn(column_name='500', dimension=1, default_value=None, dtype=tf.float32, normalizer=None), _RealValuedColumn(column_name='501', dimension=1, default_value=None, dtype=tf.float32, normalizer=None), _RealValuedColumn(column_name='502', dimension=1, default_value=None, dtype=tf.float32, normalizer=None), _RealValuedColumn(column_name='503', dimension=1, default_value=None, dtype=tf.float32, normalizer=None), _RealValuedColumn(column_name='504', dimension=1, default_value=None, dtype=tf.float32, normalizer=None), _RealValuedColumn(column_name='505', dimension=1, default_value=None, dtype=tf.float32, normalizer=None), _RealValuedColumn(column_name='506', dimension=1, default_value=None, dtype=tf.float32, normalizer=None), _RealValuedColumn(column_name='507', dimension=1, default_value=None, dtype=tf.float32, normalizer=None), _RealValuedColumn(column_name='508', dimension=1, default_value=None, dtype=tf.float32, normalizer=None), _RealValuedColumn(column_name='509', dimension=1, default_value=None, dtype=tf.float32, normalizer=None), _RealValuedColumn(column_name='510', dimension=1, default_value=None, dtype=tf.float32, normalizer=None), _RealValuedColumn(column_name='511', dimension=1, default_value=None, dtype=tf.float32, normalizer=None), _RealValuedColumn(column_name='512', dimension=1, default_value=None, dtype=tf.float32, normalizer=None), _RealValuedColumn(column_name='513', dimension=1, default_value=None, dtype=tf.float32, normalizer=None), _RealValuedColumn(column_name='514', dimension=1, default_value=None, dtype=tf.float32, normalizer=None), _RealValuedColumn(column_name='515', dimension=1, default_value=None, dtype=tf.float32, normalizer=None), _RealValuedColumn(column_name='516', dimension=1, default_value=None, dtype=tf.float32, normalizer=None), _RealValuedColumn(column_name='517', dimension=1, default_value=None, dtype=tf.float32, normalizer=None), _RealValuedColumn(column_name='518', dimension=1, default_value=None, dtype=tf.float32, normalizer=None), _RealValuedColumn(column_name='519', dimension=1, default_value=None, dtype=tf.float32, normalizer=None), _RealValuedColumn(column_name='520', dimension=1, default_value=None, dtype=tf.float32, normalizer=None), _RealValuedColumn(column_name='521', dimension=1, default_value=None, dtype=tf.float32, normalizer=None), _RealValuedColumn(column_name='522', dimension=1, default_value=None, dtype=tf.float32, normalizer=None), _RealValuedColumn(column_name='523', dimension=1, default_value=None, dtype=tf.float32, normalizer=None), _RealValuedColumn(column_name='524', dimension=1, default_value=None, dtype=tf.float32, normalizer=None), _RealValuedColumn(column_name='525', dimension=1, default_value=None, dtype=tf.float32, normalizer=None), _RealValuedColumn(column_name='526', dimension=1, default_value=None, dtype=tf.float32, normalizer=None), _RealValuedColumn(column_name='527', dimension=1, default_value=None, dtype=tf.float32, normalizer=None), _RealValuedColumn(column_name='528', dimension=1, default_value=None, dtype=tf.float32, normalizer=None), _RealValuedColumn(column_name='529', dimension=1, default_value=None, dtype=tf.float32, normalizer=None), _RealValuedColumn(column_name='530', dimension=1, default_value=None, dtype=tf.float32, normalizer=None), _RealValuedColumn(column_name='531', dimension=1, default_value=None, dtype=tf.float32, normalizer=None), _RealValuedColumn(column_name='532', dimension=1, default_value=None, dtype=tf.float32, normalizer=None), _RealValuedColumn(column_name='533', dimension=1, default_value=None, dtype=tf.float32, normalizer=None), _RealValuedColumn(column_name='534', dimension=1, default_value=None, dtype=tf.float32, normalizer=None), _RealValuedColumn(column_name='535', dimension=1, default_value=None, dtype=tf.float32, normalizer=None), _RealValuedColumn(column_name='536', dimension=1, default_value=None, dtype=tf.float32, normalizer=None), _RealValuedColumn(column_name='537', dimension=1, default_value=None, dtype=tf.float32, normalizer=None), _RealValuedColumn(column_name='538', dimension=1, default_value=None, dtype=tf.float32, normalizer=None), _RealValuedColumn(column_name='539', dimension=1, default_value=None, dtype=tf.float32, normalizer=None), _RealValuedColumn(column_name='540', dimension=1, default_value=None, dtype=tf.float32, normalizer=None), _RealValuedColumn(column_name='541', dimension=1, default_value=None, dtype=tf.float32, normalizer=None), _RealValuedColumn(column_name='542', dimension=1, default_value=None, dtype=tf.float32, normalizer=None), _RealValuedColumn(column_name='543', dimension=1, default_value=None, dtype=tf.float32, normalizer=None), _RealValuedColumn(column_name='544', dimension=1, default_value=None, dtype=tf.float32, normalizer=None), _RealValuedColumn(column_name='545', dimension=1, default_value=None, dtype=tf.float32, normalizer=None), _RealValuedColumn(column_name='546', dimension=1, default_value=None, dtype=tf.float32, normalizer=None), _RealValuedColumn(column_name='547', dimension=1, default_value=None, dtype=tf.float32, normalizer=None), _RealValuedColumn(column_name='548', dimension=1, default_value=None, dtype=tf.float32, normalizer=None), _RealValuedColumn(column_name='549', dimension=1, default_value=None, dtype=tf.float32, normalizer=None), _RealValuedColumn(column_name='550', dimension=1, default_value=None, dtype=tf.float32, normalizer=None), _RealValuedColumn(column_name='551', dimension=1, default_value=None, dtype=tf.float32, normalizer=None), _RealValuedColumn(column_name='552', dimension=1, default_value=None, dtype=tf.float32, normalizer=None), _RealValuedColumn(column_name='553', dimension=1, default_value=None, dtype=tf.float32, normalizer=None), _RealValuedColumn(column_name='554', dimension=1, default_value=None, dtype=tf.float32, normalizer=None), _RealValuedColumn(column_name='555', dimension=1, default_value=None, dtype=tf.float32, normalizer=None), _RealValuedColumn(column_name='556', dimension=1, default_value=None, dtype=tf.float32, normalizer=None), _RealValuedColumn(column_name='557', dimension=1, default_value=None, dtype=tf.float32, normalizer=None), _RealValuedColumn(column_name='558', dimension=1, default_value=None, dtype=tf.float32, normalizer=None), _RealValuedColumn(column_name='559', dimension=1, default_value=None, dtype=tf.float32, normalizer=None), _RealValuedColumn(column_name='560', dimension=1, default_value=None, dtype=tf.float32, normalizer=None), _RealValuedColumn(column_name='561', dimension=1, default_value=None, dtype=tf.float32, normalizer=None), _RealValuedColumn(column_name='562', dimension=1, default_value=None, dtype=tf.float32, normalizer=None), _RealValuedColumn(column_name='563', dimension=1, default_value=None, dtype=tf.float32, normalizer=None), _RealValuedColumn(column_name='564', dimension=1, default_value=None, dtype=tf.float32, normalizer=None), _RealValuedColumn(column_name='565', dimension=1, default_value=None, dtype=tf.float32, normalizer=None), _RealValuedColumn(column_name='566', dimension=1, default_value=None, dtype=tf.float32, normalizer=None), _RealValuedColumn(column_name='567', dimension=1, default_value=None, dtype=tf.float32, normalizer=None), _RealValuedColumn(column_name='568', dimension=1, default_value=None, dtype=tf.float32, normalizer=None), _RealValuedColumn(column_name='569', dimension=1, default_value=None, dtype=tf.float32, normalizer=None), _RealValuedColumn(column_name='570', dimension=1, default_value=None, dtype=tf.float32, normalizer=None), _RealValuedColumn(column_name='571', dimension=1, default_value=None, dtype=tf.float32, normalizer=None), _RealValuedColumn(column_name='572', dimension=1, default_value=None, dtype=tf.float32, normalizer=None), _RealValuedColumn(column_name='573', dimension=1, default_value=None, dtype=tf.float32, normalizer=None), _RealValuedColumn(column_name='574', dimension=1, default_value=None, dtype=tf.float32, normalizer=None), _RealValuedColumn(column_name='575', dimension=1, default_value=None, dtype=tf.float32, normalizer=None), _RealValuedColumn(column_name='576', dimension=1, default_value=None, dtype=tf.float32, normalizer=None), _RealValuedColumn(column_name='577', dimension=1, default_value=None, dtype=tf.float32, normalizer=None), _RealValuedColumn(column_name='578', dimension=1, default_value=None, dtype=tf.float32, normalizer=None), _RealValuedColumn(column_name='579', dimension=1, default_value=None, dtype=tf.float32, normalizer=None), _RealValuedColumn(column_name='580', dimension=1, default_value=None, dtype=tf.float32, normalizer=None), _RealValuedColumn(column_name='581', dimension=1, default_value=None, dtype=tf.float32, normalizer=None), _RealValuedColumn(column_name='582', dimension=1, default_value=None, dtype=tf.float32, normalizer=None), _RealValuedColumn(column_name='583', dimension=1, default_value=None, dtype=tf.float32, normalizer=None), _RealValuedColumn(column_name='584', dimension=1, default_value=None, dtype=tf.float32, normalizer=None), _RealValuedColumn(column_name='585', dimension=1, default_value=None, dtype=tf.float32, normalizer=None), _RealValuedColumn(column_name='586', dimension=1, default_value=None, dtype=tf.float32, normalizer=None), _RealValuedColumn(column_name='587', dimension=1, default_value=None, dtype=tf.float32, normalizer=None), _RealValuedColumn(column_name='588', dimension=1, default_value=None, dtype=tf.float32, normalizer=None), _RealValuedColumn(column_name='589', dimension=1, default_value=None, dtype=tf.float32, normalizer=None), _RealValuedColumn(column_name='590', dimension=1, default_value=None, dtype=tf.float32, normalizer=None), _RealValuedColumn(column_name='591', dimension=1, default_value=None, dtype=tf.float32, normalizer=None), _RealValuedColumn(column_name='592', dimension=1, default_value=None, dtype=tf.float32, normalizer=None), _RealValuedColumn(column_name='593', dimension=1, default_value=None, dtype=tf.float32, normalizer=None), _RealValuedColumn(column_name='594', dimension=1, default_value=None, dtype=tf.float32, normalizer=None), _RealValuedColumn(column_name='595', dimension=1, default_value=None, dtype=tf.float32, normalizer=None), _RealValuedColumn(column_name='596', dimension=1, default_value=None, dtype=tf.float32, normalizer=None), _RealValuedColumn(column_name='597', dimension=1, default_value=None, dtype=tf.float32, normalizer=None), _RealValuedColumn(column_name='598', dimension=1, default_value=None, dtype=tf.float32, normalizer=None), _RealValuedColumn(column_name='599', dimension=1, default_value=None, dtype=tf.float32, normalizer=None), _RealValuedColumn(column_name='600', dimension=1, default_value=None, dtype=tf.float32, normalizer=None), _RealValuedColumn(column_name='601', dimension=1, default_value=None, dtype=tf.float32, normalizer=None), _RealValuedColumn(column_name='602', dimension=1, default_value=None, dtype=tf.float32, normalizer=None), _RealValuedColumn(column_name='603', dimension=1, default_value=None, dtype=tf.float32, normalizer=None), _RealValuedColumn(column_name='604', dimension=1, default_value=None, dtype=tf.float32, normalizer=None), _RealValuedColumn(column_name='605', dimension=1, default_value=None, dtype=tf.float32, normalizer=None), _RealValuedColumn(column_name='606', dimension=1, default_value=None, dtype=tf.float32, normalizer=None), _RealValuedColumn(column_name='607', dimension=1, default_value=None, dtype=tf.float32, normalizer=None), _RealValuedColumn(column_name='608', dimension=1, default_value=None, dtype=tf.float32, normalizer=None), _RealValuedColumn(column_name='609', dimension=1, default_value=None, dtype=tf.float32, normalizer=None), _RealValuedColumn(column_name='610', dimension=1, default_value=None, dtype=tf.float32, normalizer=None), _RealValuedColumn(column_name='611', dimension=1, default_value=None, dtype=tf.float32, normalizer=None), _RealValuedColumn(column_name='612', dimension=1, default_value=None, dtype=tf.float32, normalizer=None), _RealValuedColumn(column_name='613', dimension=1, default_value=None, dtype=tf.float32, normalizer=None), _RealValuedColumn(column_name='614', dimension=1, default_value=None, dtype=tf.float32, normalizer=None), _RealValuedColumn(column_name='615', dimension=1, default_value=None, dtype=tf.float32, normalizer=None), _RealValuedColumn(column_name='616', dimension=1, default_value=None, dtype=tf.float32, normalizer=None), _RealValuedColumn(column_name='617', dimension=1, default_value=None, dtype=tf.float32, normalizer=None), _RealValuedColumn(column_name='618', dimension=1, default_value=None, dtype=tf.float32, normalizer=None), _RealValuedColumn(column_name='619', dimension=1, default_value=None, dtype=tf.float32, normalizer=None), _RealValuedColumn(column_name='620', dimension=1, default_value=None, dtype=tf.float32, normalizer=None), _RealValuedColumn(column_name='621', dimension=1, default_value=None, dtype=tf.float32, normalizer=None), _RealValuedColumn(column_name='622', dimension=1, default_value=None, dtype=tf.float32, normalizer=None), _RealValuedColumn(column_name='623', dimension=1, default_value=None, dtype=tf.float32, normalizer=None), _RealValuedColumn(column_name='624', dimension=1, default_value=None, dtype=tf.float32, normalizer=None), _RealValuedColumn(column_name='625', dimension=1, default_value=None, dtype=tf.float32, normalizer=None), _RealValuedColumn(column_name='626', dimension=1, default_value=None, dtype=tf.float32, normalizer=None), _RealValuedColumn(column_name='627', dimension=1, default_value=None, dtype=tf.float32, normalizer=None), _RealValuedColumn(column_name='628', dimension=1, default_value=None, dtype=tf.float32, normalizer=None), _RealValuedColumn(column_name='629', dimension=1, default_value=None, dtype=tf.float32, normalizer=None), _RealValuedColumn(column_name='630', dimension=1, default_value=None, dtype=tf.float32, normalizer=None), _RealValuedColumn(column_name='631', dimension=1, default_value=None, dtype=tf.float32, normalizer=None), _RealValuedColumn(column_name='632', dimension=1, default_value=None, dtype=tf.float32, normalizer=None), _RealValuedColumn(column_name='633', dimension=1, default_value=None, dtype=tf.float32, normalizer=None), _RealValuedColumn(column_name='634', dimension=1, default_value=None, dtype=tf.float32, normalizer=None), _RealValuedColumn(column_name='635', dimension=1, default_value=None, dtype=tf.float32, normalizer=None), _RealValuedColumn(column_name='636', dimension=1, default_value=None, dtype=tf.float32, normalizer=None), _RealValuedColumn(column_name='637', dimension=1, default_value=None, dtype=tf.float32, normalizer=None), _RealValuedColumn(column_name='638', dimension=1, default_value=None, dtype=tf.float32, normalizer=None), _RealValuedColumn(column_name='639', dimension=1, default_value=None, dtype=tf.float32, normalizer=None), _RealValuedColumn(column_name='640', dimension=1, default_value=None, dtype=tf.float32, normalizer=None), _RealValuedColumn(column_name='641', dimension=1, default_value=None, dtype=tf.float32, normalizer=None), _RealValuedColumn(column_name='642', dimension=1, default_value=None, dtype=tf.float32, normalizer=None), _RealValuedColumn(column_name='643', dimension=1, default_value=None, dtype=tf.float32, normalizer=None), _RealValuedColumn(column_name='644', dimension=1, default_value=None, dtype=tf.float32, normalizer=None), _RealValuedColumn(column_name='645', dimension=1, default_value=None, dtype=tf.float32, normalizer=None), _RealValuedColumn(column_name='646', dimension=1, default_value=None, dtype=tf.float32, normalizer=None), _RealValuedColumn(column_name='647', dimension=1, default_value=None, dtype=tf.float32, normalizer=None), _RealValuedColumn(column_name='648', dimension=1, default_value=None, dtype=tf.float32, normalizer=None), _RealValuedColumn(column_name='649', dimension=1, default_value=None, dtype=tf.float32, normalizer=None), _RealValuedColumn(column_name='650', dimension=1, default_value=None, dtype=tf.float32, normalizer=None), _RealValuedColumn(column_name='651', dimension=1, default_value=None, dtype=tf.float32, normalizer=None), _RealValuedColumn(column_name='652', dimension=1, default_value=None, dtype=tf.float32, normalizer=None), _RealValuedColumn(column_name='653', dimension=1, default_value=None, dtype=tf.float32, normalizer=None), _RealValuedColumn(column_name='654', dimension=1, default_value=None, dtype=tf.float32, normalizer=None), _RealValuedColumn(column_name='655', dimension=1, default_value=None, dtype=tf.float32, normalizer=None), _RealValuedColumn(column_name='656', dimension=1, default_value=None, dtype=tf.float32, normalizer=None), _RealValuedColumn(column_name='657', dimension=1, default_value=None, dtype=tf.float32, normalizer=None), _RealValuedColumn(column_name='658', dimension=1, default_value=None, dtype=tf.float32, normalizer=None), _RealValuedColumn(column_name='659', dimension=1, default_value=None, dtype=tf.float32, normalizer=None), _RealValuedColumn(column_name='660', dimension=1, default_value=None, dtype=tf.float32, normalizer=None), _RealValuedColumn(column_name='661', dimension=1, default_value=None, dtype=tf.float32, normalizer=None), _RealValuedColumn(column_name='662', dimension=1, default_value=None, dtype=tf.float32, normalizer=None), _RealValuedColumn(column_name='663', dimension=1, default_value=None, dtype=tf.float32, normalizer=None), _RealValuedColumn(column_name='664', dimension=1, default_value=None, dtype=tf.float32, normalizer=None), _RealValuedColumn(column_name='665', dimension=1, default_value=None, dtype=tf.float32, normalizer=None), _RealValuedColumn(column_name='666', dimension=1, default_value=None, dtype=tf.float32, normalizer=None), _RealValuedColumn(column_name='667', dimension=1, default_value=None, dtype=tf.float32, normalizer=None), _RealValuedColumn(column_name='668', dimension=1, default_value=None, dtype=tf.float32, normalizer=None), _RealValuedColumn(column_name='669', dimension=1, default_value=None, dtype=tf.float32, normalizer=None), _RealValuedColumn(column_name='670', dimension=1, default_value=None, dtype=tf.float32, normalizer=None), _RealValuedColumn(column_name='671', dimension=1, default_value=None, dtype=tf.float32, normalizer=None), _RealValuedColumn(column_name='672', dimension=1, default_value=None, dtype=tf.float32, normalizer=None), _RealValuedColumn(column_name='673', dimension=1, default_value=None, dtype=tf.float32, normalizer=None), _RealValuedColumn(column_name='674', dimension=1, default_value=None, dtype=tf.float32, normalizer=None), _RealValuedColumn(column_name='675', dimension=1, default_value=None, dtype=tf.float32, normalizer=None), _RealValuedColumn(column_name='676', dimension=1, default_value=None, dtype=tf.float32, normalizer=None), _RealValuedColumn(column_name='677', dimension=1, default_value=None, dtype=tf.float32, normalizer=None), _RealValuedColumn(column_name='678', dimension=1, default_value=None, dtype=tf.float32, normalizer=None), _RealValuedColumn(column_name='679', dimension=1, default_value=None, dtype=tf.float32, normalizer=None), _RealValuedColumn(column_name='680', dimension=1, default_value=None, dtype=tf.float32, normalizer=None), _RealValuedColumn(column_name='681', dimension=1, default_value=None, dtype=tf.float32, normalizer=None), _RealValuedColumn(column_name='682', dimension=1, default_value=None, dtype=tf.float32, normalizer=None), _RealValuedColumn(column_name='683', dimension=1, default_value=None, dtype=tf.float32, normalizer=None), _RealValuedColumn(column_name='684', dimension=1, default_value=None, dtype=tf.float32, normalizer=None), _RealValuedColumn(column_name='685', dimension=1, default_value=None, dtype=tf.float32, normalizer=None), _RealValuedColumn(column_name='686', dimension=1, default_value=None, dtype=tf.float32, normalizer=None), _RealValuedColumn(column_name='687', dimension=1, default_value=None, dtype=tf.float32, normalizer=None), _RealValuedColumn(column_name='688', dimension=1, default_value=None, dtype=tf.float32, normalizer=None), _RealValuedColumn(column_name='689', dimension=1, default_value=None, dtype=tf.float32, normalizer=None), _RealValuedColumn(column_name='690', dimension=1, default_value=None, dtype=tf.float32, normalizer=None), _RealValuedColumn(column_name='691', dimension=1, default_value=None, dtype=tf.float32, normalizer=None), _RealValuedColumn(column_name='692', dimension=1, default_value=None, dtype=tf.float32, normalizer=None), _RealValuedColumn(column_name='693', dimension=1, default_value=None, dtype=tf.float32, normalizer=None), _RealValuedColumn(column_name='694', dimension=1, default_value=None, dtype=tf.float32, normalizer=None), _RealValuedColumn(column_name='695', dimension=1, default_value=None, dtype=tf.float32, normalizer=None), _RealValuedColumn(column_name='696', dimension=1, default_value=None, dtype=tf.float32, normalizer=None), _RealValuedColumn(column_name='697', dimension=1, default_value=None, dtype=tf.float32, normalizer=None), _RealValuedColumn(column_name='698', dimension=1, default_value=None, dtype=tf.float32, normalizer=None), _RealValuedColumn(column_name='699', dimension=1, default_value=None, dtype=tf.float32, normalizer=None), _RealValuedColumn(column_name='700', dimension=1, default_value=None, dtype=tf.float32, normalizer=None), _RealValuedColumn(column_name='701', dimension=1, default_value=None, dtype=tf.float32, normalizer=None), _RealValuedColumn(column_name='702', dimension=1, default_value=None, dtype=tf.float32, normalizer=None), _RealValuedColumn(column_name='703', dimension=1, default_value=None, dtype=tf.float32, normalizer=None), _RealValuedColumn(column_name='704', dimension=1, default_value=None, dtype=tf.float32, normalizer=None), _RealValuedColumn(column_name='705', dimension=1, default_value=None, dtype=tf.float32, normalizer=None), _RealValuedColumn(column_name='706', dimension=1, default_value=None, dtype=tf.float32, normalizer=None), _RealValuedColumn(column_name='707', dimension=1, default_value=None, dtype=tf.float32, normalizer=None), _RealValuedColumn(column_name='708', dimension=1, default_value=None, dtype=tf.float32, normalizer=None), _RealValuedColumn(column_name='709', dimension=1, default_value=None, dtype=tf.float32, normalizer=None), _RealValuedColumn(column_name='710', dimension=1, default_value=None, dtype=tf.float32, normalizer=None), _RealValuedColumn(column_name='711', dimension=1, default_value=None, dtype=tf.float32, normalizer=None), _RealValuedColumn(column_name='712', dimension=1, default_value=None, dtype=tf.float32, normalizer=None), _RealValuedColumn(column_name='713', dimension=1, default_value=None, dtype=tf.float32, normalizer=None), _RealValuedColumn(column_name='714', dimension=1, default_value=None, dtype=tf.float32, normalizer=None), _RealValuedColumn(column_name='715', dimension=1, default_value=None, dtype=tf.float32, normalizer=None), _RealValuedColumn(column_name='716', dimension=1, default_value=None, dtype=tf.float32, normalizer=None), _RealValuedColumn(column_name='717', dimension=1, default_value=None, dtype=tf.float32, normalizer=None), _RealValuedColumn(column_name='718', dimension=1, default_value=None, dtype=tf.float32, normalizer=None), _RealValuedColumn(column_name='719', dimension=1, default_value=None, dtype=tf.float32, normalizer=None), _RealValuedColumn(column_name='720', dimension=1, default_value=None, dtype=tf.float32, normalizer=None), _RealValuedColumn(column_name='721', dimension=1, default_value=None, dtype=tf.float32, normalizer=None), _RealValuedColumn(column_name='722', dimension=1, default_value=None, dtype=tf.float32, normalizer=None), _RealValuedColumn(column_name='723', dimension=1, default_value=None, dtype=tf.float32, normalizer=None), _RealValuedColumn(column_name='724', dimension=1, default_value=None, dtype=tf.float32, normalizer=None), _RealValuedColumn(column_name='725', dimension=1, default_value=None, dtype=tf.float32, normalizer=None), _RealValuedColumn(column_name='726', dimension=1, default_value=None, dtype=tf.float32, normalizer=None), _RealValuedColumn(column_name='727', dimension=1, default_value=None, dtype=tf.float32, normalizer=None), _RealValuedColumn(column_name='728', dimension=1, default_value=None, dtype=tf.float32, normalizer=None), _RealValuedColumn(column_name='729', dimension=1, default_value=None, dtype=tf.float32, normalizer=None), _RealValuedColumn(column_name='730', dimension=1, default_value=None, dtype=tf.float32, normalizer=None), _RealValuedColumn(column_name='731', dimension=1, default_value=None, dtype=tf.float32, normalizer=None), _RealValuedColumn(column_name='732', dimension=1, default_value=None, dtype=tf.float32, normalizer=None), _RealValuedColumn(column_name='733', dimension=1, default_value=None, dtype=tf.float32, normalizer=None), _RealValuedColumn(column_name='734', dimension=1, default_value=None, dtype=tf.float32, normalizer=None), _RealValuedColumn(column_name='735', dimension=1, default_value=None, dtype=tf.float32, normalizer=None), _RealValuedColumn(column_name='736', dimension=1, default_value=None, dtype=tf.float32, normalizer=None), _RealValuedColumn(column_name='737', dimension=1, default_value=None, dtype=tf.float32, normalizer=None), _RealValuedColumn(column_name='738', dimension=1, default_value=None, dtype=tf.float32, normalizer=None), _RealValuedColumn(column_name='739', dimension=1, default_value=None, dtype=tf.float32, normalizer=None), _RealValuedColumn(column_name='740', dimension=1, default_value=None, dtype=tf.float32, normalizer=None), _RealValuedColumn(column_name='741', dimension=1, default_value=None, dtype=tf.float32, normalizer=None), _RealValuedColumn(column_name='742', dimension=1, default_value=None, dtype=tf.float32, normalizer=None), _RealValuedColumn(column_name='743', dimension=1, default_value=None, dtype=tf.float32, normalizer=None), _RealValuedColumn(column_name='744', dimension=1, default_value=None, dtype=tf.float32, normalizer=None), _RealValuedColumn(column_name='745', dimension=1, default_value=None, dtype=tf.float32, normalizer=None), _RealValuedColumn(column_name='746', dimension=1, default_value=None, dtype=tf.float32, normalizer=None), _RealValuedColumn(column_name='747', dimension=1, default_value=None, dtype=tf.float32, normalizer=None), _RealValuedColumn(column_name='748', dimension=1, default_value=None, dtype=tf.float32, normalizer=None), _RealValuedColumn(column_name='749', dimension=1, default_value=None, dtype=tf.float32, normalizer=None), _RealValuedColumn(column_name='750', dimension=1, default_value=None, dtype=tf.float32, normalizer=None), _RealValuedColumn(column_name='751', dimension=1, default_value=None, dtype=tf.float32, normalizer=None), _RealValuedColumn(column_name='752', dimension=1, default_value=None, dtype=tf.float32, normalizer=None), _RealValuedColumn(column_name='753', dimension=1, default_value=None, dtype=tf.float32, normalizer=None), _RealValuedColumn(column_name='754', dimension=1, default_value=None, dtype=tf.float32, normalizer=None), _RealValuedColumn(column_name='755', dimension=1, default_value=None, dtype=tf.float32, normalizer=None), _RealValuedColumn(column_name='756', dimension=1, default_value=None, dtype=tf.float32, normalizer=None), _RealValuedColumn(column_name='757', dimension=1, default_value=None, dtype=tf.float32, normalizer=None), _RealValuedColumn(column_name='758', dimension=1, default_value=None, dtype=tf.float32, normalizer=None), _RealValuedColumn(column_name='759', dimension=1, default_value=None, dtype=tf.float32, normalizer=None), _RealValuedColumn(column_name='760', dimension=1, default_value=None, dtype=tf.float32, normalizer=None), _RealValuedColumn(column_name='761', dimension=1, default_value=None, dtype=tf.float32, normalizer=None), _RealValuedColumn(column_name='762', dimension=1, default_value=None, dtype=tf.float32, normalizer=None), _RealValuedColumn(column_name='763', dimension=1, default_value=None, dtype=tf.float32, normalizer=None), _RealValuedColumn(column_name='764', dimension=1, default_value=None, dtype=tf.float32, normalizer=None), _RealValuedColumn(column_name='765', dimension=1, default_value=None, dtype=tf.float32, normalizer=None), _RealValuedColumn(column_name='766', dimension=1, default_value=None, dtype=tf.float32, normalizer=None), _RealValuedColumn(column_name='767', dimension=1, default_value=None, dtype=tf.float32, normalizer=None), _RealValuedColumn(column_name='768', dimension=1, default_value=None, dtype=tf.float32, normalizer=None), _RealValuedColumn(column_name='769', dimension=1, default_value=None, dtype=tf.float32, normalizer=None), _RealValuedColumn(column_name='770', dimension=1, default_value=None, dtype=tf.float32, normalizer=None), _RealValuedColumn(column_name='771', dimension=1, default_value=None, dtype=tf.float32, normalizer=None), _RealValuedColumn(column_name='772', dimension=1, default_value=None, dtype=tf.float32, normalizer=None), _RealValuedColumn(column_name='773', dimension=1, default_value=None, dtype=tf.float32, normalizer=None), _RealValuedColumn(column_name='774', dimension=1, default_value=None, dtype=tf.float32, normalizer=None), _RealValuedColumn(column_name='775', dimension=1, default_value=None, dtype=tf.float32, normalizer=None), _RealValuedColumn(column_name='776', dimension=1, default_value=None, dtype=tf.float32, normalizer=None), _RealValuedColumn(column_name='777', dimension=1, default_value=None, dtype=tf.float32, normalizer=None), _RealValuedColumn(column_name='778', dimension=1, default_value=None, dtype=tf.float32, normalizer=None), _RealValuedColumn(column_name='779', dimension=1, default_value=None, dtype=tf.float32, normalizer=None), _RealValuedColumn(column_name='780', dimension=1, default_value=None, dtype=tf.float32, normalizer=None), _RealValuedColumn(column_name='781', dimension=1, default_value=None, dtype=tf.float32, normalizer=None), _RealValuedColumn(column_name='782', dimension=1, default_value=None, dtype=tf.float32, normalizer=None), _RealValuedColumn(column_name='783', dimension=1, default_value=None, dtype=tf.float32, normalizer=None), _RealValuedColumn(column_name='784', dimension=1, default_value=None, dtype=tf.float32, normalizer=None), _RealValuedColumn(column_name='785', dimension=1, default_value=None, dtype=tf.float32, normalizer=None), _RealValuedColumn(column_name='786', dimension=1, default_value=None, dtype=tf.float32, normalizer=None), _RealValuedColumn(column_name='787', dimension=1, default_value=None, dtype=tf.float32, normalizer=None), _RealValuedColumn(column_name='788', dimension=1, default_value=None, dtype=tf.float32, normalizer=None), _RealValuedColumn(column_name='789', dimension=1, default_value=None, dtype=tf.float32, normalizer=None), _RealValuedColumn(column_name='790', dimension=1, default_value=None, dtype=tf.float32, normalizer=None), _RealValuedColumn(column_name='791', dimension=1, default_value=None, dtype=tf.float32, normalizer=None), _RealValuedColumn(column_name='792', dimension=1, default_value=None, dtype=tf.float32, normalizer=None), _RealValuedColumn(column_name='793', dimension=1, default_value=None, dtype=tf.float32, normalizer=None), _RealValuedColumn(column_name='794', dimension=1, default_value=None, dtype=tf.float32, normalizer=None), _RealValuedColumn(column_name='795', dimension=1, default_value=None, dtype=tf.float32, normalizer=None), _RealValuedColumn(column_name='796', dimension=1, default_value=None, dtype=tf.float32, normalizer=None), _RealValuedColumn(column_name='797', dimension=1, default_value=None, dtype=tf.float32, normalizer=None), _RealValuedColumn(column_name='798', dimension=1, default_value=None, dtype=tf.float32, normalizer=None), _RealValuedColumn(column_name='799', dimension=1, default_value=None, dtype=tf.float32, normalizer=None), _RealValuedColumn(column_name='800', dimension=1, default_value=None, dtype=tf.float32, normalizer=None), _RealValuedColumn(column_name='801', dimension=1, default_value=None, dtype=tf.float32, normalizer=None), _RealValuedColumn(column_name='802', dimension=1, default_value=None, dtype=tf.float32, normalizer=None), _RealValuedColumn(column_name='803', dimension=1, default_value=None, dtype=tf.float32, normalizer=None), _RealValuedColumn(column_name='804', dimension=1, default_value=None, dtype=tf.float32, normalizer=None), _RealValuedColumn(column_name='805', dimension=1, default_value=None, dtype=tf.float32, normalizer=None), _RealValuedColumn(column_name='806', dimension=1, default_value=None, dtype=tf.float32, normalizer=None), _RealValuedColumn(column_name='807', dimension=1, default_value=None, dtype=tf.float32, normalizer=None), _RealValuedColumn(column_name='808', dimension=1, default_value=None, dtype=tf.float32, normalizer=None), _RealValuedColumn(column_name='809', dimension=1, default_value=None, dtype=tf.float32, normalizer=None), _RealValuedColumn(column_name='810', dimension=1, default_value=None, dtype=tf.float32, normalizer=None), _RealValuedColumn(column_name='811', dimension=1, default_value=None, dtype=tf.float32, normalizer=None), _RealValuedColumn(column_name='812', dimension=1, default_value=None, dtype=tf.float32, normalizer=None), _RealValuedColumn(column_name='813', dimension=1, default_value=None, dtype=tf.float32, normalizer=None), _RealValuedColumn(column_name='814', dimension=1, default_value=None, dtype=tf.float32, normalizer=None), _RealValuedColumn(column_name='815', dimension=1, default_value=None, dtype=tf.float32, normalizer=None), _RealValuedColumn(column_name='816', dimension=1, default_value=None, dtype=tf.float32, normalizer=None), _RealValuedColumn(column_name='817', dimension=1, default_value=None, dtype=tf.float32, normalizer=None), _RealValuedColumn(column_name='818', dimension=1, default_value=None, dtype=tf.float32, normalizer=None), _RealValuedColumn(column_name='819', dimension=1, default_value=None, dtype=tf.float32, normalizer=None), _RealValuedColumn(column_name='820', dimension=1, default_value=None, dtype=tf.float32, normalizer=None), _RealValuedColumn(column_name='821', dimension=1, default_value=None, dtype=tf.float32, normalizer=None), _RealValuedColumn(column_name='822', dimension=1, default_value=None, dtype=tf.float32, normalizer=None), _RealValuedColumn(column_name='823', dimension=1, default_value=None, dtype=tf.float32, normalizer=None), _RealValuedColumn(column_name='824', dimension=1, default_value=None, dtype=tf.float32, normalizer=None), _RealValuedColumn(column_name='825', dimension=1, default_value=None, dtype=tf.float32, normalizer=None), _RealValuedColumn(column_name='826', dimension=1, default_value=None, dtype=tf.float32, normalizer=None), _RealValuedColumn(column_name='827', dimension=1, default_value=None, dtype=tf.float32, normalizer=None), _RealValuedColumn(column_name='828', dimension=1, default_value=None, dtype=tf.float32, normalizer=None), _RealValuedColumn(column_name='829', dimension=1, default_value=None, dtype=tf.float32, normalizer=None), _RealValuedColumn(column_name='830', dimension=1, default_value=None, dtype=tf.float32, normalizer=None), _RealValuedColumn(column_name='831', dimension=1, default_value=None, dtype=tf.float32, normalizer=None), _RealValuedColumn(column_name='832', dimension=1, default_value=None, dtype=tf.float32, normalizer=None), _RealValuedColumn(column_name='833', dimension=1, default_value=None, dtype=tf.float32, normalizer=None), _RealValuedColumn(column_name='834', dimension=1, default_value=None, dtype=tf.float32, normalizer=None), _RealValuedColumn(column_name='835', dimension=1, default_value=None, dtype=tf.float32, normalizer=None), _RealValuedColumn(column_name='836', dimension=1, default_value=None, dtype=tf.float32, normalizer=None), _RealValuedColumn(column_name='837', dimension=1, default_value=None, dtype=tf.float32, normalizer=None), _RealValuedColumn(column_name='838', dimension=1, default_value=None, dtype=tf.float32, normalizer=None), _RealValuedColumn(column_name='839', dimension=1, default_value=None, dtype=tf.float32, normalizer=None), _RealValuedColumn(column_name='840', dimension=1, default_value=None, dtype=tf.float32, normalizer=None), _RealValuedColumn(column_name='841', dimension=1, default_value=None, dtype=tf.float32, normalizer=None), _RealValuedColumn(column_name='842', dimension=1, default_value=None, dtype=tf.float32, normalizer=None), _RealValuedColumn(column_name='843', dimension=1, default_value=None, dtype=tf.float32, normalizer=None), _RealValuedColumn(column_name='844', dimension=1, default_value=None, dtype=tf.float32, normalizer=None), _RealValuedColumn(column_name='845', dimension=1, default_value=None, dtype=tf.float32, normalizer=None), _RealValuedColumn(column_name='846', dimension=1, default_value=None, dtype=tf.float32, normalizer=None), _RealValuedColumn(column_name='847', dimension=1, default_value=None, dtype=tf.float32, normalizer=None), _RealValuedColumn(column_name='848', dimension=1, default_value=None, dtype=tf.float32, normalizer=None), _RealValuedColumn(column_name='849', dimension=1, default_value=None, dtype=tf.float32, normalizer=None), _RealValuedColumn(column_name='850', dimension=1, default_value=None, dtype=tf.float32, normalizer=None), _RealValuedColumn(column_name='851', dimension=1, default_value=None, dtype=tf.float32, normalizer=None), _RealValuedColumn(column_name='852', dimension=1, default_value=None, dtype=tf.float32, normalizer=None), _RealValuedColumn(column_name='853', dimension=1, default_value=None, dtype=tf.float32, normalizer=None), _RealValuedColumn(column_name='854', dimension=1, default_value=None, dtype=tf.float32, normalizer=None), _RealValuedColumn(column_name='855', dimension=1, default_value=None, dtype=tf.float32, normalizer=None), _RealValuedColumn(column_name='856', dimension=1, default_value=None, dtype=tf.float32, normalizer=None), _RealValuedColumn(column_name='857', dimension=1, default_value=None, dtype=tf.float32, normalizer=None), _RealValuedColumn(column_name='858', dimension=1, default_value=None, dtype=tf.float32, normalizer=None), _RealValuedColumn(column_name='859', dimension=1, default_value=None, dtype=tf.float32, normalizer=None), _RealValuedColumn(column_name='860', dimension=1, default_value=None, dtype=tf.float32, normalizer=None), _RealValuedColumn(column_name='861', dimension=1, default_value=None, dtype=tf.float32, normalizer=None), _RealValuedColumn(column_name='862', dimension=1, default_value=None, dtype=tf.float32, normalizer=None), _RealValuedColumn(column_name='863', dimension=1, default_value=None, dtype=tf.float32, normalizer=None), _RealValuedColumn(column_name='864', dimension=1, default_value=None, dtype=tf.float32, normalizer=None), _RealValuedColumn(column_name='865', dimension=1, default_value=None, dtype=tf.float32, normalizer=None), _RealValuedColumn(column_name='866', dimension=1, default_value=None, dtype=tf.float32, normalizer=None), _RealValuedColumn(column_name='867', dimension=1, default_value=None, dtype=tf.float32, normalizer=None), _RealValuedColumn(column_name='868', dimension=1, default_value=None, dtype=tf.float32, normalizer=None), _RealValuedColumn(column_name='869', dimension=1, default_value=None, dtype=tf.float32, normalizer=None), _RealValuedColumn(column_name='870', dimension=1, default_value=None, dtype=tf.float32, normalizer=None), _RealValuedColumn(column_name='871', dimension=1, default_value=None, dtype=tf.float32, normalizer=None), _RealValuedColumn(column_name='872', dimension=1, default_value=None, dtype=tf.float32, normalizer=None), _RealValuedColumn(column_name='873', dimension=1, default_value=None, dtype=tf.float32, normalizer=None), _RealValuedColumn(column_name='874', dimension=1, default_value=None, dtype=tf.float32, normalizer=None), _RealValuedColumn(column_name='875', dimension=1, default_value=None, dtype=tf.float32, normalizer=None), _RealValuedColumn(column_name='876', dimension=1, default_value=None, dtype=tf.float32, normalizer=None), _RealValuedColumn(column_name='877', dimension=1, default_value=None, dtype=tf.float32, normalizer=None), _RealValuedColumn(column_name='878', dimension=1, default_value=None, dtype=tf.float32, normalizer=None), _RealValuedColumn(column_name='879', dimension=1, default_value=None, dtype=tf.float32, normalizer=None), _RealValuedColumn(column_name='880', dimension=1, default_value=None, dtype=tf.float32, normalizer=None), _RealValuedColumn(column_name='881', dimension=1, default_value=None, dtype=tf.float32, normalizer=None), _RealValuedColumn(column_name='882', dimension=1, default_value=None, dtype=tf.float32, normalizer=None), _RealValuedColumn(column_name='883', dimension=1, default_value=None, dtype=tf.float32, normalizer=None), _RealValuedColumn(column_name='884', dimension=1, default_value=None, dtype=tf.float32, normalizer=None), _RealValuedColumn(column_name='885', dimension=1, default_value=None, dtype=tf.float32, normalizer=None), _RealValuedColumn(column_name='886', dimension=1, default_value=None, dtype=tf.float32, normalizer=None), _RealValuedColumn(column_name='887', dimension=1, default_value=None, dtype=tf.float32, normalizer=None), _RealValuedColumn(column_name='888', dimension=1, default_value=None, dtype=tf.float32, normalizer=None), _RealValuedColumn(column_name='889', dimension=1, default_value=None, dtype=tf.float32, normalizer=None), _RealValuedColumn(column_name='890', dimension=1, default_value=None, dtype=tf.float32, normalizer=None), _RealValuedColumn(column_name='891', dimension=1, default_value=None, dtype=tf.float32, normalizer=None), _RealValuedColumn(column_name='892', dimension=1, default_value=None, dtype=tf.float32, normalizer=None), _RealValuedColumn(column_name='893', dimension=1, default_value=None, dtype=tf.float32, normalizer=None), _RealValuedColumn(column_name='894', dimension=1, default_value=None, dtype=tf.float32, normalizer=None), _RealValuedColumn(column_name='895', dimension=1, default_value=None, dtype=tf.float32, normalizer=None), _RealValuedColumn(column_name='896', dimension=1, default_value=None, dtype=tf.float32, normalizer=None), _RealValuedColumn(column_name='897', dimension=1, default_value=None, dtype=tf.float32, normalizer=None), _RealValuedColumn(column_name='898', dimension=1, default_value=None, dtype=tf.float32, normalizer=None), _RealValuedColumn(column_name='899', dimension=1, default_value=None, dtype=tf.float32, normalizer=None)), 'optimizer': None, 'activation_fn': <function relu at 0x000001D79DF12BF8>, 'dropout': None, 'gradient_clip_norm': None, 'embedding_lr_multipliers': None, 'input_layer_min_slice_size': None})"
      ]
     },
     "execution_count": 98,
     "metadata": {},
     "output_type": "execute_result"
    }
   ],
   "source": [
    "classifier.fit(input_fn=lambda: input_fn(Xn_train,yn_train),steps = 2000)"
   ]
  },
  {
   "cell_type": "code",
   "execution_count": 99,
   "metadata": {},
   "outputs": [
    {
     "name": "stdout",
     "output_type": "stream",
     "text": [
      "WARNING:tensorflow:Entity <bound method Dense.call of <tensorflow.python.layers.core.Dense object at 0x000001D7A9367BA8>> could not be transformed and will be executed as-is. Please report this to the AutgoGraph team. When filing the bug, set the verbosity to 10 (on Linux, `export AUTOGRAPH_VERBOSITY=10`) and attach the full output. Cause: converting <bound method Dense.call of <tensorflow.python.layers.core.Dense object at 0x000001D7A9367BA8>>: AssertionError: Bad argument number for Name: 3, expecting 4\n",
      "WARNING: Entity <bound method Dense.call of <tensorflow.python.layers.core.Dense object at 0x000001D7A9367BA8>> could not be transformed and will be executed as-is. Please report this to the AutgoGraph team. When filing the bug, set the verbosity to 10 (on Linux, `export AUTOGRAPH_VERBOSITY=10`) and attach the full output. Cause: converting <bound method Dense.call of <tensorflow.python.layers.core.Dense object at 0x000001D7A9367BA8>>: AssertionError: Bad argument number for Name: 3, expecting 4\n",
      "WARNING:tensorflow:Entity <bound method Dense.call of <tensorflow.python.layers.core.Dense object at 0x000001D7A9367AC8>> could not be transformed and will be executed as-is. Please report this to the AutgoGraph team. When filing the bug, set the verbosity to 10 (on Linux, `export AUTOGRAPH_VERBOSITY=10`) and attach the full output. Cause: converting <bound method Dense.call of <tensorflow.python.layers.core.Dense object at 0x000001D7A9367AC8>>: AssertionError: Bad argument number for Name: 3, expecting 4\n",
      "WARNING: Entity <bound method Dense.call of <tensorflow.python.layers.core.Dense object at 0x000001D7A9367AC8>> could not be transformed and will be executed as-is. Please report this to the AutgoGraph team. When filing the bug, set the verbosity to 10 (on Linux, `export AUTOGRAPH_VERBOSITY=10`) and attach the full output. Cause: converting <bound method Dense.call of <tensorflow.python.layers.core.Dense object at 0x000001D7A9367AC8>>: AssertionError: Bad argument number for Name: 3, expecting 4\n",
      "WARNING:tensorflow:Entity <bound method Dense.call of <tensorflow.python.layers.core.Dense object at 0x000001D7A98A30B8>> could not be transformed and will be executed as-is. Please report this to the AutgoGraph team. When filing the bug, set the verbosity to 10 (on Linux, `export AUTOGRAPH_VERBOSITY=10`) and attach the full output. Cause: converting <bound method Dense.call of <tensorflow.python.layers.core.Dense object at 0x000001D7A98A30B8>>: AssertionError: Bad argument number for Name: 3, expecting 4\n",
      "WARNING: Entity <bound method Dense.call of <tensorflow.python.layers.core.Dense object at 0x000001D7A98A30B8>> could not be transformed and will be executed as-is. Please report this to the AutgoGraph team. When filing the bug, set the verbosity to 10 (on Linux, `export AUTOGRAPH_VERBOSITY=10`) and attach the full output. Cause: converting <bound method Dense.call of <tensorflow.python.layers.core.Dense object at 0x000001D7A98A30B8>>: AssertionError: Bad argument number for Name: 3, expecting 4\n",
      "WARNING:tensorflow:Entity <bound method Dense.call of <tensorflow.python.layers.core.Dense object at 0x000001D7A993E160>> could not be transformed and will be executed as-is. Please report this to the AutgoGraph team. When filing the bug, set the verbosity to 10 (on Linux, `export AUTOGRAPH_VERBOSITY=10`) and attach the full output. Cause: converting <bound method Dense.call of <tensorflow.python.layers.core.Dense object at 0x000001D7A993E160>>: AssertionError: Bad argument number for Name: 3, expecting 4\n",
      "WARNING: Entity <bound method Dense.call of <tensorflow.python.layers.core.Dense object at 0x000001D7A993E160>> could not be transformed and will be executed as-is. Please report this to the AutgoGraph team. When filing the bug, set the verbosity to 10 (on Linux, `export AUTOGRAPH_VERBOSITY=10`) and attach the full output. Cause: converting <bound method Dense.call of <tensorflow.python.layers.core.Dense object at 0x000001D7A993E160>>: AssertionError: Bad argument number for Name: 3, expecting 4\n",
      "INFO:tensorflow:Starting evaluation at 2020-06-22T19:45:27Z\n",
      "INFO:tensorflow:Graph was finalized.\n",
      "WARNING:tensorflow:From C:\\Users\\user\\Anaconda3\\lib\\site-packages\\tensorflow\\python\\training\\saver.py:1276: checkpoint_exists (from tensorflow.python.training.checkpoint_management) is deprecated and will be removed in a future version.\n",
      "Instructions for updating:\n",
      "Use standard file APIs to check for files with this prefix.\n",
      "INFO:tensorflow:Restoring parameters from C:\\Users\\user\\AppData\\Local\\Temp\\tmpxxqdzp7u\\model.ckpt-2000\n",
      "INFO:tensorflow:Running local_init_op.\n",
      "INFO:tensorflow:Done running local_init_op.\n",
      "INFO:tensorflow:Evaluation [1/1]\n",
      "INFO:tensorflow:Finished evaluation at 2020-06-22-19:45:27\n",
      "INFO:tensorflow:Saving dict for global step 2000: accuracy = 0.72302157, global_step = 2000, loss = 0.6590903\n"
     ]
    }
   ],
   "source": [
    "ev = classifier.evaluate(input_fn=lambda: input_fn(Xn_test,yn_test),steps=1)"
   ]
  },
  {
   "cell_type": "code",
   "execution_count": 100,
   "metadata": {},
   "outputs": [
    {
     "name": "stdout",
     "output_type": "stream",
     "text": [
      "{'loss': 0.6590903, 'accuracy': 0.72302157, 'global_step': 2000}\n"
     ]
    }
   ],
   "source": [
    "print(ev)"
   ]
  },
  {
   "cell_type": "code",
   "execution_count": 101,
   "metadata": {},
   "outputs": [
    {
     "data": {
      "text/html": [
       "<div>\n",
       "<style scoped>\n",
       "    .dataframe tbody tr th:only-of-type {\n",
       "        vertical-align: middle;\n",
       "    }\n",
       "\n",
       "    .dataframe tbody tr th {\n",
       "        vertical-align: top;\n",
       "    }\n",
       "\n",
       "    .dataframe thead th {\n",
       "        text-align: right;\n",
       "    }\n",
       "</style>\n",
       "<table border=\"1\" class=\"dataframe\">\n",
       "  <thead>\n",
       "    <tr style=\"text-align: right;\">\n",
       "      <th></th>\n",
       "      <th>400</th>\n",
       "      <th>401</th>\n",
       "      <th>402</th>\n",
       "      <th>403</th>\n",
       "      <th>404</th>\n",
       "      <th>405</th>\n",
       "      <th>406</th>\n",
       "      <th>407</th>\n",
       "      <th>408</th>\n",
       "      <th>409</th>\n",
       "      <th>...</th>\n",
       "      <th>2390</th>\n",
       "      <th>2391</th>\n",
       "      <th>2392</th>\n",
       "      <th>2393</th>\n",
       "      <th>2394</th>\n",
       "      <th>2395</th>\n",
       "      <th>2396</th>\n",
       "      <th>2397</th>\n",
       "      <th>2398</th>\n",
       "      <th>2399</th>\n",
       "    </tr>\n",
       "  </thead>\n",
       "  <tbody>\n",
       "    <tr>\n",
       "      <th>0</th>\n",
       "      <td>0.034368</td>\n",
       "      <td>0.032992</td>\n",
       "      <td>0.031690</td>\n",
       "      <td>0.032353</td>\n",
       "      <td>0.033077</td>\n",
       "      <td>0.031526</td>\n",
       "      <td>0.031083</td>\n",
       "      <td>0.031829</td>\n",
       "      <td>0.032344</td>\n",
       "      <td>0.031218</td>\n",
       "      <td>...</td>\n",
       "      <td>0.037681</td>\n",
       "      <td>0.037578</td>\n",
       "      <td>0.037421</td>\n",
       "      <td>0.037282</td>\n",
       "      <td>0.037166</td>\n",
       "      <td>0.037041</td>\n",
       "      <td>0.036933</td>\n",
       "      <td>0.036762</td>\n",
       "      <td>0.036563</td>\n",
       "      <td>0.036429</td>\n",
       "    </tr>\n",
       "    <tr>\n",
       "      <th>1</th>\n",
       "      <td>0.043826</td>\n",
       "      <td>0.042417</td>\n",
       "      <td>0.042917</td>\n",
       "      <td>0.043420</td>\n",
       "      <td>0.043042</td>\n",
       "      <td>0.041864</td>\n",
       "      <td>0.041382</td>\n",
       "      <td>0.041416</td>\n",
       "      <td>0.041402</td>\n",
       "      <td>0.040904</td>\n",
       "      <td>...</td>\n",
       "      <td>0.059098</td>\n",
       "      <td>0.058844</td>\n",
       "      <td>0.058627</td>\n",
       "      <td>0.058433</td>\n",
       "      <td>0.058226</td>\n",
       "      <td>0.058005</td>\n",
       "      <td>0.057698</td>\n",
       "      <td>0.057415</td>\n",
       "      <td>0.057177</td>\n",
       "      <td>0.056929</td>\n",
       "    </tr>\n",
       "    <tr>\n",
       "      <th>2</th>\n",
       "      <td>0.143540</td>\n",
       "      <td>0.141106</td>\n",
       "      <td>0.141642</td>\n",
       "      <td>0.141945</td>\n",
       "      <td>0.141047</td>\n",
       "      <td>0.139442</td>\n",
       "      <td>0.138422</td>\n",
       "      <td>0.138323</td>\n",
       "      <td>0.138588</td>\n",
       "      <td>0.138396</td>\n",
       "      <td>...</td>\n",
       "      <td>0.064019</td>\n",
       "      <td>0.063772</td>\n",
       "      <td>0.063515</td>\n",
       "      <td>0.063250</td>\n",
       "      <td>0.063044</td>\n",
       "      <td>0.062804</td>\n",
       "      <td>0.062553</td>\n",
       "      <td>0.062399</td>\n",
       "      <td>0.062179</td>\n",
       "      <td>0.061943</td>\n",
       "    </tr>\n",
       "    <tr>\n",
       "      <th>3</th>\n",
       "      <td>0.084876</td>\n",
       "      <td>0.083464</td>\n",
       "      <td>0.081354</td>\n",
       "      <td>0.081849</td>\n",
       "      <td>0.083215</td>\n",
       "      <td>0.082352</td>\n",
       "      <td>0.080592</td>\n",
       "      <td>0.081126</td>\n",
       "      <td>0.082212</td>\n",
       "      <td>0.080539</td>\n",
       "      <td>...</td>\n",
       "      <td>0.065983</td>\n",
       "      <td>0.065707</td>\n",
       "      <td>0.065451</td>\n",
       "      <td>0.065226</td>\n",
       "      <td>0.065016</td>\n",
       "      <td>0.064819</td>\n",
       "      <td>0.064603</td>\n",
       "      <td>0.064358</td>\n",
       "      <td>0.064092</td>\n",
       "      <td>0.063831</td>\n",
       "    </tr>\n",
       "    <tr>\n",
       "      <th>4</th>\n",
       "      <td>0.069533</td>\n",
       "      <td>0.069442</td>\n",
       "      <td>0.068714</td>\n",
       "      <td>0.069072</td>\n",
       "      <td>0.069298</td>\n",
       "      <td>0.067863</td>\n",
       "      <td>0.067905</td>\n",
       "      <td>0.068015</td>\n",
       "      <td>0.067508</td>\n",
       "      <td>0.066574</td>\n",
       "      <td>...</td>\n",
       "      <td>0.052095</td>\n",
       "      <td>0.051974</td>\n",
       "      <td>0.051804</td>\n",
       "      <td>0.051595</td>\n",
       "      <td>0.051439</td>\n",
       "      <td>0.051330</td>\n",
       "      <td>0.051202</td>\n",
       "      <td>0.051057</td>\n",
       "      <td>0.050865</td>\n",
       "      <td>0.050608</td>\n",
       "    </tr>\n",
       "  </tbody>\n",
       "</table>\n",
       "<p>5 rows × 2000 columns</p>\n",
       "</div>"
      ],
      "text/plain": [
       "        400       401       402       403       404       405       406  \\\n",
       "0  0.034368  0.032992  0.031690  0.032353  0.033077  0.031526  0.031083   \n",
       "1  0.043826  0.042417  0.042917  0.043420  0.043042  0.041864  0.041382   \n",
       "2  0.143540  0.141106  0.141642  0.141945  0.141047  0.139442  0.138422   \n",
       "3  0.084876  0.083464  0.081354  0.081849  0.083215  0.082352  0.080592   \n",
       "4  0.069533  0.069442  0.068714  0.069072  0.069298  0.067863  0.067905   \n",
       "\n",
       "        407       408       409  ...      2390      2391      2392      2393  \\\n",
       "0  0.031829  0.032344  0.031218  ...  0.037681  0.037578  0.037421  0.037282   \n",
       "1  0.041416  0.041402  0.040904  ...  0.059098  0.058844  0.058627  0.058433   \n",
       "2  0.138323  0.138588  0.138396  ...  0.064019  0.063772  0.063515  0.063250   \n",
       "3  0.081126  0.082212  0.080539  ...  0.065983  0.065707  0.065451  0.065226   \n",
       "4  0.068015  0.067508  0.066574  ...  0.052095  0.051974  0.051804  0.051595   \n",
       "\n",
       "       2394      2395      2396      2397      2398      2399  \n",
       "0  0.037166  0.037041  0.036933  0.036762  0.036563  0.036429  \n",
       "1  0.058226  0.058005  0.057698  0.057415  0.057177  0.056929  \n",
       "2  0.063044  0.062804  0.062553  0.062399  0.062179  0.061943  \n",
       "3  0.065016  0.064819  0.064603  0.064358  0.064092  0.063831  \n",
       "4  0.051439  0.051330  0.051202  0.051057  0.050865  0.050608  \n",
       "\n",
       "[5 rows x 2000 columns]"
      ]
     },
     "execution_count": 101,
     "metadata": {},
     "output_type": "execute_result"
    }
   ],
   "source": [
    "wavelength2[0:841].head()\n",
    "Wavelength2=wavelength2[0:841]\n",
    "Wavelength2.head()"
   ]
  },
  {
   "cell_type": "code",
   "execution_count": 102,
   "metadata": {},
   "outputs": [
    {
     "name": "stdout",
     "output_type": "stream",
     "text": [
      "Index(['400', '401', '402', '403', '404', '405', '406', '407', '408', '409',\n",
      "       ...\n",
      "       '2390', '2391', '2392', '2393', '2394', '2395', '2396', '2397', '2398',\n",
      "       '2399'],\n",
      "      dtype='object', length=2000)\n"
     ]
    },
    {
     "name": "stderr",
     "output_type": "stream",
     "text": [
      "C:\\Users\\user\\Anaconda3\\lib\\site-packages\\pandas\\core\\indexing.py:190: SettingWithCopyWarning: \n",
      "A value is trying to be set on a copy of a slice from a DataFrame\n",
      "\n",
      "See the caveats in the documentation: http://pandas.pydata.org/pandas-docs/stable/indexing.html#indexing-view-versus-copy\n",
      "  self._setitem_with_indexer(indexer, value)\n",
      "C:\\Users\\user\\Anaconda3\\lib\\site-packages\\ipykernel_launcher.py:2: SettingWithCopyWarning: \n",
      "A value is trying to be set on a copy of a slice from a DataFrame\n",
      "\n",
      "See the caveats in the documentation: http://pandas.pydata.org/pandas-docs/stable/indexing.html#indexing-view-versus-copy\n",
      "  \n"
     ]
    }
   ],
   "source": [
    "Wavelength2.dtypes\n",
    "Wavelength2.iloc[:,1:10] = Wavelength2.iloc[:,1:10].astype(np.float32)\n",
    "columns2 = Wavelength2.columns[0:2000]\n",
    "print(columns2)\n",
    "import tensorflow as tf"
   ]
  },
  {
   "cell_type": "code",
   "execution_count": 103,
   "metadata": {},
   "outputs": [],
   "source": [
    "Xn2_train, Xn2_test, yn2_train, yn2_test = train_test_split(Wavelength2.iloc[:,0:2000], T, test_size=0.3, random_state=42)"
   ]
  },
  {
   "cell_type": "code",
   "execution_count": 104,
   "metadata": {},
   "outputs": [
    {
     "data": {
      "text/plain": [
       "((588, 2000), (253, 2000), (588, 1), (253, 1))"
      ]
     },
     "execution_count": 104,
     "metadata": {},
     "output_type": "execute_result"
    }
   ],
   "source": [
    "Xn2_train.shape, Xn2_test.shape, yn2_train.shape, yn2_test.shape"
   ]
  },
  {
   "cell_type": "code",
   "execution_count": 105,
   "metadata": {},
   "outputs": [],
   "source": [
    "feature_columns2 = [tf.contrib.layers.real_valued_column(k) for k in columns2]"
   ]
  },
  {
   "cell_type": "code",
   "execution_count": 106,
   "metadata": {},
   "outputs": [],
   "source": [
    "def input_fn(df,labels):\n",
    "    feature_cols = {k:tf.constant(df[k].values,shape = [df[k].size,1]) for k in columns2}\n",
    "    label = tf.constant(labels.values, shape = [labels.size,1])\n",
    "    return feature_cols,label"
   ]
  },
  {
   "cell_type": "code",
   "execution_count": 107,
   "metadata": {},
   "outputs": [
    {
     "name": "stdout",
     "output_type": "stream",
     "text": [
      "INFO:tensorflow:Using default config.\n",
      "WARNING:tensorflow:Using temporary folder as model directory: C:\\Users\\user\\AppData\\Local\\Temp\\tmpv8nzy56m\n",
      "INFO:tensorflow:Using config: {'_task_type': None, '_task_id': 0, '_cluster_spec': <tensorflow.python.training.server_lib.ClusterSpec object at 0x000001D7A993E160>, '_master': '', '_num_ps_replicas': 0, '_num_worker_replicas': 0, '_environment': 'local', '_is_chief': True, '_evaluation_master': '', '_train_distribute': None, '_eval_distribute': None, '_experimental_max_worker_delay_secs': None, '_device_fn': None, '_tf_config': gpu_options {\n",
      "  per_process_gpu_memory_fraction: 1.0\n",
      "}\n",
      ", '_tf_random_seed': None, '_save_summary_steps': 100, '_save_checkpoints_secs': 600, '_log_step_count_steps': 100, '_protocol': None, '_session_config': None, '_save_checkpoints_steps': None, '_keep_checkpoint_max': 5, '_keep_checkpoint_every_n_hours': 10000, '_model_dir': 'C:\\\\Users\\\\user\\\\AppData\\\\Local\\\\Temp\\\\tmpv8nzy56m'}\n"
     ]
    }
   ],
   "source": [
    "classifier2 = tf.contrib.learn.DNNClassifier(feature_columns=feature_columns2,hidden_units=[20,40,20],n_classes = 4)"
   ]
  },
  {
   "cell_type": "code",
   "execution_count": 108,
   "metadata": {},
   "outputs": [
    {
     "name": "stdout",
     "output_type": "stream",
     "text": [
      "WARNING:tensorflow:Entity <bound method Dense.call of <tensorflow.python.layers.core.Dense object at 0x000001D7AAF68B00>> could not be transformed and will be executed as-is. Please report this to the AutgoGraph team. When filing the bug, set the verbosity to 10 (on Linux, `export AUTOGRAPH_VERBOSITY=10`) and attach the full output. Cause: converting <bound method Dense.call of <tensorflow.python.layers.core.Dense object at 0x000001D7AAF68B00>>: AssertionError: Bad argument number for Name: 3, expecting 4\n",
      "WARNING: Entity <bound method Dense.call of <tensorflow.python.layers.core.Dense object at 0x000001D7AAF68B00>> could not be transformed and will be executed as-is. Please report this to the AutgoGraph team. When filing the bug, set the verbosity to 10 (on Linux, `export AUTOGRAPH_VERBOSITY=10`) and attach the full output. Cause: converting <bound method Dense.call of <tensorflow.python.layers.core.Dense object at 0x000001D7AAF68B00>>: AssertionError: Bad argument number for Name: 3, expecting 4\n",
      "WARNING:tensorflow:Entity <bound method Dense.call of <tensorflow.python.layers.core.Dense object at 0x000001D7AAF68B70>> could not be transformed and will be executed as-is. Please report this to the AutgoGraph team. When filing the bug, set the verbosity to 10 (on Linux, `export AUTOGRAPH_VERBOSITY=10`) and attach the full output. Cause: converting <bound method Dense.call of <tensorflow.python.layers.core.Dense object at 0x000001D7AAF68B70>>: AssertionError: Bad argument number for Name: 3, expecting 4\n",
      "WARNING: Entity <bound method Dense.call of <tensorflow.python.layers.core.Dense object at 0x000001D7AAF68B70>> could not be transformed and will be executed as-is. Please report this to the AutgoGraph team. When filing the bug, set the verbosity to 10 (on Linux, `export AUTOGRAPH_VERBOSITY=10`) and attach the full output. Cause: converting <bound method Dense.call of <tensorflow.python.layers.core.Dense object at 0x000001D7AAF68B70>>: AssertionError: Bad argument number for Name: 3, expecting 4\n",
      "WARNING:tensorflow:Entity <bound method Dense.call of <tensorflow.python.layers.core.Dense object at 0x000001D7AC2DEB38>> could not be transformed and will be executed as-is. Please report this to the AutgoGraph team. When filing the bug, set the verbosity to 10 (on Linux, `export AUTOGRAPH_VERBOSITY=10`) and attach the full output. Cause: converting <bound method Dense.call of <tensorflow.python.layers.core.Dense object at 0x000001D7AC2DEB38>>: AssertionError: Bad argument number for Name: 3, expecting 4\n",
      "WARNING: Entity <bound method Dense.call of <tensorflow.python.layers.core.Dense object at 0x000001D7AC2DEB38>> could not be transformed and will be executed as-is. Please report this to the AutgoGraph team. When filing the bug, set the verbosity to 10 (on Linux, `export AUTOGRAPH_VERBOSITY=10`) and attach the full output. Cause: converting <bound method Dense.call of <tensorflow.python.layers.core.Dense object at 0x000001D7AC2DEB38>>: AssertionError: Bad argument number for Name: 3, expecting 4\n",
      "WARNING:tensorflow:Entity <bound method Dense.call of <tensorflow.python.layers.core.Dense object at 0x000001D7AC38B588>> could not be transformed and will be executed as-is. Please report this to the AutgoGraph team. When filing the bug, set the verbosity to 10 (on Linux, `export AUTOGRAPH_VERBOSITY=10`) and attach the full output. Cause: converting <bound method Dense.call of <tensorflow.python.layers.core.Dense object at 0x000001D7AC38B588>>: AssertionError: Bad argument number for Name: 3, expecting 4\n",
      "WARNING: Entity <bound method Dense.call of <tensorflow.python.layers.core.Dense object at 0x000001D7AC38B588>> could not be transformed and will be executed as-is. Please report this to the AutgoGraph team. When filing the bug, set the verbosity to 10 (on Linux, `export AUTOGRAPH_VERBOSITY=10`) and attach the full output. Cause: converting <bound method Dense.call of <tensorflow.python.layers.core.Dense object at 0x000001D7AC38B588>>: AssertionError: Bad argument number for Name: 3, expecting 4\n",
      "INFO:tensorflow:Create CheckpointSaverHook.\n",
      "INFO:tensorflow:Graph was finalized.\n",
      "INFO:tensorflow:Running local_init_op.\n",
      "INFO:tensorflow:Done running local_init_op.\n",
      "INFO:tensorflow:Saving checkpoints for 0 into C:\\Users\\user\\AppData\\Local\\Temp\\tmpv8nzy56m\\model.ckpt.\n",
      "INFO:tensorflow:loss = 1.3682098, step = 1\n",
      "INFO:tensorflow:global_step/sec: 28.0775\n",
      "INFO:tensorflow:loss = 1.0230452, step = 101 (3.562 sec)\n",
      "INFO:tensorflow:global_step/sec: 131.238\n",
      "INFO:tensorflow:loss = 0.98052543, step = 201 (0.762 sec)\n",
      "INFO:tensorflow:global_step/sec: 139.229\n",
      "INFO:tensorflow:loss = 1.008436, step = 301 (0.718 sec)\n",
      "INFO:tensorflow:global_step/sec: 144.944\n",
      "INFO:tensorflow:loss = 0.9769546, step = 401 (0.690 sec)\n",
      "INFO:tensorflow:global_step/sec: 144.848\n",
      "INFO:tensorflow:loss = 0.89497614, step = 501 (0.690 sec)\n",
      "INFO:tensorflow:global_step/sec: 141.361\n",
      "INFO:tensorflow:loss = 0.93193376, step = 601 (0.717 sec)\n",
      "INFO:tensorflow:global_step/sec: 136.997\n",
      "INFO:tensorflow:loss = 0.8235101, step = 701 (0.730 sec)\n",
      "INFO:tensorflow:global_step/sec: 125.534\n",
      "INFO:tensorflow:loss = 0.7723498, step = 801 (0.792 sec)\n",
      "INFO:tensorflow:global_step/sec: 116.54\n",
      "INFO:tensorflow:loss = 0.8074146, step = 901 (0.863 sec)\n",
      "INFO:tensorflow:global_step/sec: 131.616\n",
      "INFO:tensorflow:loss = 0.67516786, step = 1001 (0.760 sec)\n",
      "INFO:tensorflow:global_step/sec: 133.341\n",
      "INFO:tensorflow:loss = 0.6452155, step = 1101 (0.750 sec)\n",
      "INFO:tensorflow:global_step/sec: 134.632\n",
      "INFO:tensorflow:loss = 0.5986052, step = 1201 (0.743 sec)\n",
      "INFO:tensorflow:global_step/sec: 123.022\n",
      "INFO:tensorflow:loss = 0.5776839, step = 1301 (0.803 sec)\n",
      "INFO:tensorflow:global_step/sec: 128.621\n",
      "INFO:tensorflow:loss = 0.5844957, step = 1401 (0.787 sec)\n",
      "INFO:tensorflow:global_step/sec: 126.871\n",
      "INFO:tensorflow:loss = 0.4779895, step = 1501 (0.782 sec)\n",
      "INFO:tensorflow:global_step/sec: 146.169\n",
      "INFO:tensorflow:loss = 0.4388833, step = 1601 (0.680 sec)\n",
      "INFO:tensorflow:global_step/sec: 143.609\n",
      "INFO:tensorflow:loss = 0.44637698, step = 1701 (0.696 sec)\n",
      "INFO:tensorflow:global_step/sec: 139.438\n",
      "INFO:tensorflow:loss = 0.39852172, step = 1801 (0.717 sec)\n",
      "INFO:tensorflow:global_step/sec: 120.489\n",
      "INFO:tensorflow:loss = 0.4001134, step = 1901 (0.840 sec)\n",
      "INFO:tensorflow:global_step/sec: 132.24\n",
      "INFO:tensorflow:loss = 0.42531514, step = 2001 (0.746 sec)\n",
      "INFO:tensorflow:global_step/sec: 137.285\n",
      "INFO:tensorflow:loss = 0.37201834, step = 2101 (0.728 sec)\n",
      "INFO:tensorflow:global_step/sec: 134.89\n",
      "INFO:tensorflow:loss = 0.30663353, step = 2201 (0.751 sec)\n",
      "INFO:tensorflow:global_step/sec: 141.186\n",
      "INFO:tensorflow:loss = 0.31504568, step = 2301 (0.698 sec)\n",
      "INFO:tensorflow:global_step/sec: 141.481\n",
      "INFO:tensorflow:loss = 0.3638503, step = 2401 (0.707 sec)\n",
      "INFO:tensorflow:global_step/sec: 137.442\n",
      "INFO:tensorflow:loss = 0.24086933, step = 2501 (0.728 sec)\n",
      "INFO:tensorflow:global_step/sec: 140.451\n",
      "INFO:tensorflow:loss = 0.28579006, step = 2601 (0.722 sec)\n",
      "INFO:tensorflow:global_step/sec: 137.562\n",
      "INFO:tensorflow:loss = 0.22582906, step = 2701 (0.727 sec)\n",
      "INFO:tensorflow:global_step/sec: 136.912\n",
      "INFO:tensorflow:loss = 0.2963119, step = 2801 (0.730 sec)\n",
      "INFO:tensorflow:global_step/sec: 120.851\n",
      "INFO:tensorflow:loss = 0.20639208, step = 2901 (0.817 sec)\n",
      "INFO:tensorflow:Saving checkpoints for 3000 into C:\\Users\\user\\AppData\\Local\\Temp\\tmpv8nzy56m\\model.ckpt.\n",
      "INFO:tensorflow:Loss for final step: 0.19045548.\n"
     ]
    },
    {
     "data": {
      "text/plain": [
       "DNNClassifier(params={'head': <tensorflow.contrib.learn.python.learn.estimators.head._MultiClassHead object at 0x000001D7A9C36748>, 'hidden_units': [20, 40, 20], 'feature_columns': (_RealValuedColumn(column_name='400', dimension=1, default_value=None, dtype=tf.float32, normalizer=None), _RealValuedColumn(column_name='401', dimension=1, default_value=None, dtype=tf.float32, normalizer=None), _RealValuedColumn(column_name='402', dimension=1, default_value=None, dtype=tf.float32, normalizer=None), _RealValuedColumn(column_name='403', dimension=1, default_value=None, dtype=tf.float32, normalizer=None), _RealValuedColumn(column_name='404', dimension=1, default_value=None, dtype=tf.float32, normalizer=None), _RealValuedColumn(column_name='405', dimension=1, default_value=None, dtype=tf.float32, normalizer=None), _RealValuedColumn(column_name='406', dimension=1, default_value=None, dtype=tf.float32, normalizer=None), _RealValuedColumn(column_name='407', dimension=1, default_value=None, dtype=tf.float32, normalizer=None), _RealValuedColumn(column_name='408', dimension=1, default_value=None, dtype=tf.float32, normalizer=None), _RealValuedColumn(column_name='409', dimension=1, default_value=None, dtype=tf.float32, normalizer=None), _RealValuedColumn(column_name='410', dimension=1, default_value=None, dtype=tf.float32, normalizer=None), _RealValuedColumn(column_name='411', dimension=1, default_value=None, dtype=tf.float32, normalizer=None), _RealValuedColumn(column_name='412', dimension=1, default_value=None, dtype=tf.float32, normalizer=None), _RealValuedColumn(column_name='413', dimension=1, default_value=None, dtype=tf.float32, normalizer=None), _RealValuedColumn(column_name='414', dimension=1, default_value=None, dtype=tf.float32, normalizer=None), _RealValuedColumn(column_name='415', dimension=1, default_value=None, dtype=tf.float32, normalizer=None), _RealValuedColumn(column_name='416', dimension=1, default_value=None, dtype=tf.float32, normalizer=None), _RealValuedColumn(column_name='417', dimension=1, default_value=None, dtype=tf.float32, normalizer=None), _RealValuedColumn(column_name='418', dimension=1, default_value=None, dtype=tf.float32, normalizer=None), _RealValuedColumn(column_name='419', dimension=1, default_value=None, dtype=tf.float32, normalizer=None), _RealValuedColumn(column_name='420', dimension=1, default_value=None, dtype=tf.float32, normalizer=None), _RealValuedColumn(column_name='421', dimension=1, default_value=None, dtype=tf.float32, normalizer=None), _RealValuedColumn(column_name='422', dimension=1, default_value=None, dtype=tf.float32, normalizer=None), _RealValuedColumn(column_name='423', dimension=1, default_value=None, dtype=tf.float32, normalizer=None), _RealValuedColumn(column_name='424', dimension=1, default_value=None, dtype=tf.float32, normalizer=None), _RealValuedColumn(column_name='425', dimension=1, default_value=None, dtype=tf.float32, normalizer=None), _RealValuedColumn(column_name='426', dimension=1, default_value=None, dtype=tf.float32, normalizer=None), _RealValuedColumn(column_name='427', dimension=1, default_value=None, dtype=tf.float32, normalizer=None), _RealValuedColumn(column_name='428', dimension=1, default_value=None, dtype=tf.float32, normalizer=None), _RealValuedColumn(column_name='429', dimension=1, default_value=None, dtype=tf.float32, normalizer=None), _RealValuedColumn(column_name='430', dimension=1, default_value=None, dtype=tf.float32, normalizer=None), _RealValuedColumn(column_name='431', dimension=1, default_value=None, dtype=tf.float32, normalizer=None), _RealValuedColumn(column_name='432', dimension=1, default_value=None, dtype=tf.float32, normalizer=None), _RealValuedColumn(column_name='433', dimension=1, default_value=None, dtype=tf.float32, normalizer=None), _RealValuedColumn(column_name='434', dimension=1, default_value=None, dtype=tf.float32, normalizer=None), _RealValuedColumn(column_name='435', dimension=1, default_value=None, dtype=tf.float32, normalizer=None), _RealValuedColumn(column_name='436', dimension=1, default_value=None, dtype=tf.float32, normalizer=None), _RealValuedColumn(column_name='437', dimension=1, default_value=None, dtype=tf.float32, normalizer=None), _RealValuedColumn(column_name='438', dimension=1, default_value=None, dtype=tf.float32, normalizer=None), _RealValuedColumn(column_name='439', dimension=1, default_value=None, dtype=tf.float32, normalizer=None), _RealValuedColumn(column_name='440', dimension=1, default_value=None, dtype=tf.float32, normalizer=None), _RealValuedColumn(column_name='441', dimension=1, default_value=None, dtype=tf.float32, normalizer=None), _RealValuedColumn(column_name='442', dimension=1, default_value=None, dtype=tf.float32, normalizer=None), _RealValuedColumn(column_name='443', dimension=1, default_value=None, dtype=tf.float32, normalizer=None), _RealValuedColumn(column_name='444', dimension=1, default_value=None, dtype=tf.float32, normalizer=None), _RealValuedColumn(column_name='445', dimension=1, default_value=None, dtype=tf.float32, normalizer=None), _RealValuedColumn(column_name='446', dimension=1, default_value=None, dtype=tf.float32, normalizer=None), _RealValuedColumn(column_name='447', dimension=1, default_value=None, dtype=tf.float32, normalizer=None), _RealValuedColumn(column_name='448', dimension=1, default_value=None, dtype=tf.float32, normalizer=None), _RealValuedColumn(column_name='449', dimension=1, default_value=None, dtype=tf.float32, normalizer=None), _RealValuedColumn(column_name='450', dimension=1, default_value=None, dtype=tf.float32, normalizer=None), _RealValuedColumn(column_name='451', dimension=1, default_value=None, dtype=tf.float32, normalizer=None), _RealValuedColumn(column_name='452', dimension=1, default_value=None, dtype=tf.float32, normalizer=None), _RealValuedColumn(column_name='453', dimension=1, default_value=None, dtype=tf.float32, normalizer=None), _RealValuedColumn(column_name='454', dimension=1, default_value=None, dtype=tf.float32, normalizer=None), _RealValuedColumn(column_name='455', dimension=1, default_value=None, dtype=tf.float32, normalizer=None), _RealValuedColumn(column_name='456', dimension=1, default_value=None, dtype=tf.float32, normalizer=None), _RealValuedColumn(column_name='457', dimension=1, default_value=None, dtype=tf.float32, normalizer=None), _RealValuedColumn(column_name='458', dimension=1, default_value=None, dtype=tf.float32, normalizer=None), _RealValuedColumn(column_name='459', dimension=1, default_value=None, dtype=tf.float32, normalizer=None), _RealValuedColumn(column_name='460', dimension=1, default_value=None, dtype=tf.float32, normalizer=None), _RealValuedColumn(column_name='461', dimension=1, default_value=None, dtype=tf.float32, normalizer=None), _RealValuedColumn(column_name='462', dimension=1, default_value=None, dtype=tf.float32, normalizer=None), _RealValuedColumn(column_name='463', dimension=1, default_value=None, dtype=tf.float32, normalizer=None), _RealValuedColumn(column_name='464', dimension=1, default_value=None, dtype=tf.float32, normalizer=None), _RealValuedColumn(column_name='465', dimension=1, default_value=None, dtype=tf.float32, normalizer=None), _RealValuedColumn(column_name='466', dimension=1, default_value=None, dtype=tf.float32, normalizer=None), _RealValuedColumn(column_name='467', dimension=1, default_value=None, dtype=tf.float32, normalizer=None), _RealValuedColumn(column_name='468', dimension=1, default_value=None, dtype=tf.float32, normalizer=None), _RealValuedColumn(column_name='469', dimension=1, default_value=None, dtype=tf.float32, normalizer=None), _RealValuedColumn(column_name='470', dimension=1, default_value=None, dtype=tf.float32, normalizer=None), _RealValuedColumn(column_name='471', dimension=1, default_value=None, dtype=tf.float32, normalizer=None), _RealValuedColumn(column_name='472', dimension=1, default_value=None, dtype=tf.float32, normalizer=None), _RealValuedColumn(column_name='473', dimension=1, default_value=None, dtype=tf.float32, normalizer=None), _RealValuedColumn(column_name='474', dimension=1, default_value=None, dtype=tf.float32, normalizer=None), _RealValuedColumn(column_name='475', dimension=1, default_value=None, dtype=tf.float32, normalizer=None), _RealValuedColumn(column_name='476', dimension=1, default_value=None, dtype=tf.float32, normalizer=None), _RealValuedColumn(column_name='477', dimension=1, default_value=None, dtype=tf.float32, normalizer=None), _RealValuedColumn(column_name='478', dimension=1, default_value=None, dtype=tf.float32, normalizer=None), _RealValuedColumn(column_name='479', dimension=1, default_value=None, dtype=tf.float32, normalizer=None), _RealValuedColumn(column_name='480', dimension=1, default_value=None, dtype=tf.float32, normalizer=None), _RealValuedColumn(column_name='481', dimension=1, default_value=None, dtype=tf.float32, normalizer=None), _RealValuedColumn(column_name='482', dimension=1, default_value=None, dtype=tf.float32, normalizer=None), _RealValuedColumn(column_name='483', dimension=1, default_value=None, dtype=tf.float32, normalizer=None), _RealValuedColumn(column_name='484', dimension=1, default_value=None, dtype=tf.float32, normalizer=None), _RealValuedColumn(column_name='485', dimension=1, default_value=None, dtype=tf.float32, normalizer=None), _RealValuedColumn(column_name='486', dimension=1, default_value=None, dtype=tf.float32, normalizer=None), _RealValuedColumn(column_name='487', dimension=1, default_value=None, dtype=tf.float32, normalizer=None), _RealValuedColumn(column_name='488', dimension=1, default_value=None, dtype=tf.float32, normalizer=None), _RealValuedColumn(column_name='489', dimension=1, default_value=None, dtype=tf.float32, normalizer=None), _RealValuedColumn(column_name='490', dimension=1, default_value=None, dtype=tf.float32, normalizer=None), _RealValuedColumn(column_name='491', dimension=1, default_value=None, dtype=tf.float32, normalizer=None), _RealValuedColumn(column_name='492', dimension=1, default_value=None, dtype=tf.float32, normalizer=None), _RealValuedColumn(column_name='493', dimension=1, default_value=None, dtype=tf.float32, normalizer=None), _RealValuedColumn(column_name='494', dimension=1, default_value=None, dtype=tf.float32, normalizer=None), _RealValuedColumn(column_name='495', dimension=1, default_value=None, dtype=tf.float32, normalizer=None), _RealValuedColumn(column_name='496', dimension=1, default_value=None, dtype=tf.float32, normalizer=None), _RealValuedColumn(column_name='497', dimension=1, default_value=None, dtype=tf.float32, normalizer=None), _RealValuedColumn(column_name='498', dimension=1, default_value=None, dtype=tf.float32, normalizer=None), _RealValuedColumn(column_name='499', dimension=1, default_value=None, dtype=tf.float32, normalizer=None), _RealValuedColumn(column_name='500', dimension=1, default_value=None, dtype=tf.float32, normalizer=None), _RealValuedColumn(column_name='501', dimension=1, default_value=None, dtype=tf.float32, normalizer=None), _RealValuedColumn(column_name='502', dimension=1, default_value=None, dtype=tf.float32, normalizer=None), _RealValuedColumn(column_name='503', dimension=1, default_value=None, dtype=tf.float32, normalizer=None), _RealValuedColumn(column_name='504', dimension=1, default_value=None, dtype=tf.float32, normalizer=None), _RealValuedColumn(column_name='505', dimension=1, default_value=None, dtype=tf.float32, normalizer=None), _RealValuedColumn(column_name='506', dimension=1, default_value=None, dtype=tf.float32, normalizer=None), _RealValuedColumn(column_name='507', dimension=1, default_value=None, dtype=tf.float32, normalizer=None), _RealValuedColumn(column_name='508', dimension=1, default_value=None, dtype=tf.float32, normalizer=None), _RealValuedColumn(column_name='509', dimension=1, default_value=None, dtype=tf.float32, normalizer=None), _RealValuedColumn(column_name='510', dimension=1, default_value=None, dtype=tf.float32, normalizer=None), _RealValuedColumn(column_name='511', dimension=1, default_value=None, dtype=tf.float32, normalizer=None), _RealValuedColumn(column_name='512', dimension=1, default_value=None, dtype=tf.float32, normalizer=None), _RealValuedColumn(column_name='513', dimension=1, default_value=None, dtype=tf.float32, normalizer=None), _RealValuedColumn(column_name='514', dimension=1, default_value=None, dtype=tf.float32, normalizer=None), _RealValuedColumn(column_name='515', dimension=1, default_value=None, dtype=tf.float32, normalizer=None), _RealValuedColumn(column_name='516', dimension=1, default_value=None, dtype=tf.float32, normalizer=None), _RealValuedColumn(column_name='517', dimension=1, default_value=None, dtype=tf.float32, normalizer=None), _RealValuedColumn(column_name='518', dimension=1, default_value=None, dtype=tf.float32, normalizer=None), _RealValuedColumn(column_name='519', dimension=1, default_value=None, dtype=tf.float32, normalizer=None), _RealValuedColumn(column_name='520', dimension=1, default_value=None, dtype=tf.float32, normalizer=None), _RealValuedColumn(column_name='521', dimension=1, default_value=None, dtype=tf.float32, normalizer=None), _RealValuedColumn(column_name='522', dimension=1, default_value=None, dtype=tf.float32, normalizer=None), _RealValuedColumn(column_name='523', dimension=1, default_value=None, dtype=tf.float32, normalizer=None), _RealValuedColumn(column_name='524', dimension=1, default_value=None, dtype=tf.float32, normalizer=None), _RealValuedColumn(column_name='525', dimension=1, default_value=None, dtype=tf.float32, normalizer=None), _RealValuedColumn(column_name='526', dimension=1, default_value=None, dtype=tf.float32, normalizer=None), _RealValuedColumn(column_name='527', dimension=1, default_value=None, dtype=tf.float32, normalizer=None), _RealValuedColumn(column_name='528', dimension=1, default_value=None, dtype=tf.float32, normalizer=None), _RealValuedColumn(column_name='529', dimension=1, default_value=None, dtype=tf.float32, normalizer=None), _RealValuedColumn(column_name='530', dimension=1, default_value=None, dtype=tf.float32, normalizer=None), _RealValuedColumn(column_name='531', dimension=1, default_value=None, dtype=tf.float32, normalizer=None), _RealValuedColumn(column_name='532', dimension=1, default_value=None, dtype=tf.float32, normalizer=None), _RealValuedColumn(column_name='533', dimension=1, default_value=None, dtype=tf.float32, normalizer=None), _RealValuedColumn(column_name='534', dimension=1, default_value=None, dtype=tf.float32, normalizer=None), _RealValuedColumn(column_name='535', dimension=1, default_value=None, dtype=tf.float32, normalizer=None), _RealValuedColumn(column_name='536', dimension=1, default_value=None, dtype=tf.float32, normalizer=None), _RealValuedColumn(column_name='537', dimension=1, default_value=None, dtype=tf.float32, normalizer=None), _RealValuedColumn(column_name='538', dimension=1, default_value=None, dtype=tf.float32, normalizer=None), _RealValuedColumn(column_name='539', dimension=1, default_value=None, dtype=tf.float32, normalizer=None), _RealValuedColumn(column_name='540', dimension=1, default_value=None, dtype=tf.float32, normalizer=None), _RealValuedColumn(column_name='541', dimension=1, default_value=None, dtype=tf.float32, normalizer=None), _RealValuedColumn(column_name='542', dimension=1, default_value=None, dtype=tf.float32, normalizer=None), _RealValuedColumn(column_name='543', dimension=1, default_value=None, dtype=tf.float32, normalizer=None), _RealValuedColumn(column_name='544', dimension=1, default_value=None, dtype=tf.float32, normalizer=None), _RealValuedColumn(column_name='545', dimension=1, default_value=None, dtype=tf.float32, normalizer=None), _RealValuedColumn(column_name='546', dimension=1, default_value=None, dtype=tf.float32, normalizer=None), _RealValuedColumn(column_name='547', dimension=1, default_value=None, dtype=tf.float32, normalizer=None), _RealValuedColumn(column_name='548', dimension=1, default_value=None, dtype=tf.float32, normalizer=None), _RealValuedColumn(column_name='549', dimension=1, default_value=None, dtype=tf.float32, normalizer=None), _RealValuedColumn(column_name='550', dimension=1, default_value=None, dtype=tf.float32, normalizer=None), _RealValuedColumn(column_name='551', dimension=1, default_value=None, dtype=tf.float32, normalizer=None), _RealValuedColumn(column_name='552', dimension=1, default_value=None, dtype=tf.float32, normalizer=None), _RealValuedColumn(column_name='553', dimension=1, default_value=None, dtype=tf.float32, normalizer=None), _RealValuedColumn(column_name='554', dimension=1, default_value=None, dtype=tf.float32, normalizer=None), _RealValuedColumn(column_name='555', dimension=1, default_value=None, dtype=tf.float32, normalizer=None), _RealValuedColumn(column_name='556', dimension=1, default_value=None, dtype=tf.float32, normalizer=None), _RealValuedColumn(column_name='557', dimension=1, default_value=None, dtype=tf.float32, normalizer=None), _RealValuedColumn(column_name='558', dimension=1, default_value=None, dtype=tf.float32, normalizer=None), _RealValuedColumn(column_name='559', dimension=1, default_value=None, dtype=tf.float32, normalizer=None), _RealValuedColumn(column_name='560', dimension=1, default_value=None, dtype=tf.float32, normalizer=None), _RealValuedColumn(column_name='561', dimension=1, default_value=None, dtype=tf.float32, normalizer=None), _RealValuedColumn(column_name='562', dimension=1, default_value=None, dtype=tf.float32, normalizer=None), _RealValuedColumn(column_name='563', dimension=1, default_value=None, dtype=tf.float32, normalizer=None), _RealValuedColumn(column_name='564', dimension=1, default_value=None, dtype=tf.float32, normalizer=None), _RealValuedColumn(column_name='565', dimension=1, default_value=None, dtype=tf.float32, normalizer=None), _RealValuedColumn(column_name='566', dimension=1, default_value=None, dtype=tf.float32, normalizer=None), _RealValuedColumn(column_name='567', dimension=1, default_value=None, dtype=tf.float32, normalizer=None), _RealValuedColumn(column_name='568', dimension=1, default_value=None, dtype=tf.float32, normalizer=None), _RealValuedColumn(column_name='569', dimension=1, default_value=None, dtype=tf.float32, normalizer=None), _RealValuedColumn(column_name='570', dimension=1, default_value=None, dtype=tf.float32, normalizer=None), _RealValuedColumn(column_name='571', dimension=1, default_value=None, dtype=tf.float32, normalizer=None), _RealValuedColumn(column_name='572', dimension=1, default_value=None, dtype=tf.float32, normalizer=None), _RealValuedColumn(column_name='573', dimension=1, default_value=None, dtype=tf.float32, normalizer=None), _RealValuedColumn(column_name='574', dimension=1, default_value=None, dtype=tf.float32, normalizer=None), _RealValuedColumn(column_name='575', dimension=1, default_value=None, dtype=tf.float32, normalizer=None), _RealValuedColumn(column_name='576', dimension=1, default_value=None, dtype=tf.float32, normalizer=None), _RealValuedColumn(column_name='577', dimension=1, default_value=None, dtype=tf.float32, normalizer=None), _RealValuedColumn(column_name='578', dimension=1, default_value=None, dtype=tf.float32, normalizer=None), _RealValuedColumn(column_name='579', dimension=1, default_value=None, dtype=tf.float32, normalizer=None), _RealValuedColumn(column_name='580', dimension=1, default_value=None, dtype=tf.float32, normalizer=None), _RealValuedColumn(column_name='581', dimension=1, default_value=None, dtype=tf.float32, normalizer=None), _RealValuedColumn(column_name='582', dimension=1, default_value=None, dtype=tf.float32, normalizer=None), _RealValuedColumn(column_name='583', dimension=1, default_value=None, dtype=tf.float32, normalizer=None), _RealValuedColumn(column_name='584', dimension=1, default_value=None, dtype=tf.float32, normalizer=None), _RealValuedColumn(column_name='585', dimension=1, default_value=None, dtype=tf.float32, normalizer=None), _RealValuedColumn(column_name='586', dimension=1, default_value=None, dtype=tf.float32, normalizer=None), _RealValuedColumn(column_name='587', dimension=1, default_value=None, dtype=tf.float32, normalizer=None), _RealValuedColumn(column_name='588', dimension=1, default_value=None, dtype=tf.float32, normalizer=None), _RealValuedColumn(column_name='589', dimension=1, default_value=None, dtype=tf.float32, normalizer=None), _RealValuedColumn(column_name='590', dimension=1, default_value=None, dtype=tf.float32, normalizer=None), _RealValuedColumn(column_name='591', dimension=1, default_value=None, dtype=tf.float32, normalizer=None), _RealValuedColumn(column_name='592', dimension=1, default_value=None, dtype=tf.float32, normalizer=None), _RealValuedColumn(column_name='593', dimension=1, default_value=None, dtype=tf.float32, normalizer=None), _RealValuedColumn(column_name='594', dimension=1, default_value=None, dtype=tf.float32, normalizer=None), _RealValuedColumn(column_name='595', dimension=1, default_value=None, dtype=tf.float32, normalizer=None), _RealValuedColumn(column_name='596', dimension=1, default_value=None, dtype=tf.float32, normalizer=None), _RealValuedColumn(column_name='597', dimension=1, default_value=None, dtype=tf.float32, normalizer=None), _RealValuedColumn(column_name='598', dimension=1, default_value=None, dtype=tf.float32, normalizer=None), _RealValuedColumn(column_name='599', dimension=1, default_value=None, dtype=tf.float32, normalizer=None), _RealValuedColumn(column_name='600', dimension=1, default_value=None, dtype=tf.float32, normalizer=None), _RealValuedColumn(column_name='601', dimension=1, default_value=None, dtype=tf.float32, normalizer=None), _RealValuedColumn(column_name='602', dimension=1, default_value=None, dtype=tf.float32, normalizer=None), _RealValuedColumn(column_name='603', dimension=1, default_value=None, dtype=tf.float32, normalizer=None), _RealValuedColumn(column_name='604', dimension=1, default_value=None, dtype=tf.float32, normalizer=None), _RealValuedColumn(column_name='605', dimension=1, default_value=None, dtype=tf.float32, normalizer=None), _RealValuedColumn(column_name='606', dimension=1, default_value=None, dtype=tf.float32, normalizer=None), _RealValuedColumn(column_name='607', dimension=1, default_value=None, dtype=tf.float32, normalizer=None), _RealValuedColumn(column_name='608', dimension=1, default_value=None, dtype=tf.float32, normalizer=None), _RealValuedColumn(column_name='609', dimension=1, default_value=None, dtype=tf.float32, normalizer=None), _RealValuedColumn(column_name='610', dimension=1, default_value=None, dtype=tf.float32, normalizer=None), _RealValuedColumn(column_name='611', dimension=1, default_value=None, dtype=tf.float32, normalizer=None), _RealValuedColumn(column_name='612', dimension=1, default_value=None, dtype=tf.float32, normalizer=None), _RealValuedColumn(column_name='613', dimension=1, default_value=None, dtype=tf.float32, normalizer=None), _RealValuedColumn(column_name='614', dimension=1, default_value=None, dtype=tf.float32, normalizer=None), _RealValuedColumn(column_name='615', dimension=1, default_value=None, dtype=tf.float32, normalizer=None), _RealValuedColumn(column_name='616', dimension=1, default_value=None, dtype=tf.float32, normalizer=None), _RealValuedColumn(column_name='617', dimension=1, default_value=None, dtype=tf.float32, normalizer=None), _RealValuedColumn(column_name='618', dimension=1, default_value=None, dtype=tf.float32, normalizer=None), _RealValuedColumn(column_name='619', dimension=1, default_value=None, dtype=tf.float32, normalizer=None), _RealValuedColumn(column_name='620', dimension=1, default_value=None, dtype=tf.float32, normalizer=None), _RealValuedColumn(column_name='621', dimension=1, default_value=None, dtype=tf.float32, normalizer=None), _RealValuedColumn(column_name='622', dimension=1, default_value=None, dtype=tf.float32, normalizer=None), _RealValuedColumn(column_name='623', dimension=1, default_value=None, dtype=tf.float32, normalizer=None), _RealValuedColumn(column_name='624', dimension=1, default_value=None, dtype=tf.float32, normalizer=None), _RealValuedColumn(column_name='625', dimension=1, default_value=None, dtype=tf.float32, normalizer=None), _RealValuedColumn(column_name='626', dimension=1, default_value=None, dtype=tf.float32, normalizer=None), _RealValuedColumn(column_name='627', dimension=1, default_value=None, dtype=tf.float32, normalizer=None), _RealValuedColumn(column_name='628', dimension=1, default_value=None, dtype=tf.float32, normalizer=None), _RealValuedColumn(column_name='629', dimension=1, default_value=None, dtype=tf.float32, normalizer=None), _RealValuedColumn(column_name='630', dimension=1, default_value=None, dtype=tf.float32, normalizer=None), _RealValuedColumn(column_name='631', dimension=1, default_value=None, dtype=tf.float32, normalizer=None), _RealValuedColumn(column_name='632', dimension=1, default_value=None, dtype=tf.float32, normalizer=None), _RealValuedColumn(column_name='633', dimension=1, default_value=None, dtype=tf.float32, normalizer=None), _RealValuedColumn(column_name='634', dimension=1, default_value=None, dtype=tf.float32, normalizer=None), _RealValuedColumn(column_name='635', dimension=1, default_value=None, dtype=tf.float32, normalizer=None), _RealValuedColumn(column_name='636', dimension=1, default_value=None, dtype=tf.float32, normalizer=None), _RealValuedColumn(column_name='637', dimension=1, default_value=None, dtype=tf.float32, normalizer=None), _RealValuedColumn(column_name='638', dimension=1, default_value=None, dtype=tf.float32, normalizer=None), _RealValuedColumn(column_name='639', dimension=1, default_value=None, dtype=tf.float32, normalizer=None), _RealValuedColumn(column_name='640', dimension=1, default_value=None, dtype=tf.float32, normalizer=None), _RealValuedColumn(column_name='641', dimension=1, default_value=None, dtype=tf.float32, normalizer=None), _RealValuedColumn(column_name='642', dimension=1, default_value=None, dtype=tf.float32, normalizer=None), _RealValuedColumn(column_name='643', dimension=1, default_value=None, dtype=tf.float32, normalizer=None), _RealValuedColumn(column_name='644', dimension=1, default_value=None, dtype=tf.float32, normalizer=None), _RealValuedColumn(column_name='645', dimension=1, default_value=None, dtype=tf.float32, normalizer=None), _RealValuedColumn(column_name='646', dimension=1, default_value=None, dtype=tf.float32, normalizer=None), _RealValuedColumn(column_name='647', dimension=1, default_value=None, dtype=tf.float32, normalizer=None), _RealValuedColumn(column_name='648', dimension=1, default_value=None, dtype=tf.float32, normalizer=None), _RealValuedColumn(column_name='649', dimension=1, default_value=None, dtype=tf.float32, normalizer=None), _RealValuedColumn(column_name='650', dimension=1, default_value=None, dtype=tf.float32, normalizer=None), _RealValuedColumn(column_name='651', dimension=1, default_value=None, dtype=tf.float32, normalizer=None), _RealValuedColumn(column_name='652', dimension=1, default_value=None, dtype=tf.float32, normalizer=None), _RealValuedColumn(column_name='653', dimension=1, default_value=None, dtype=tf.float32, normalizer=None), _RealValuedColumn(column_name='654', dimension=1, default_value=None, dtype=tf.float32, normalizer=None), _RealValuedColumn(column_name='655', dimension=1, default_value=None, dtype=tf.float32, normalizer=None), _RealValuedColumn(column_name='656', dimension=1, default_value=None, dtype=tf.float32, normalizer=None), _RealValuedColumn(column_name='657', dimension=1, default_value=None, dtype=tf.float32, normalizer=None), _RealValuedColumn(column_name='658', dimension=1, default_value=None, dtype=tf.float32, normalizer=None), _RealValuedColumn(column_name='659', dimension=1, default_value=None, dtype=tf.float32, normalizer=None), _RealValuedColumn(column_name='660', dimension=1, default_value=None, dtype=tf.float32, normalizer=None), _RealValuedColumn(column_name='661', dimension=1, default_value=None, dtype=tf.float32, normalizer=None), _RealValuedColumn(column_name='662', dimension=1, default_value=None, dtype=tf.float32, normalizer=None), _RealValuedColumn(column_name='663', dimension=1, default_value=None, dtype=tf.float32, normalizer=None), _RealValuedColumn(column_name='664', dimension=1, default_value=None, dtype=tf.float32, normalizer=None), _RealValuedColumn(column_name='665', dimension=1, default_value=None, dtype=tf.float32, normalizer=None), _RealValuedColumn(column_name='666', dimension=1, default_value=None, dtype=tf.float32, normalizer=None), _RealValuedColumn(column_name='667', dimension=1, default_value=None, dtype=tf.float32, normalizer=None), _RealValuedColumn(column_name='668', dimension=1, default_value=None, dtype=tf.float32, normalizer=None), _RealValuedColumn(column_name='669', dimension=1, default_value=None, dtype=tf.float32, normalizer=None), _RealValuedColumn(column_name='670', dimension=1, default_value=None, dtype=tf.float32, normalizer=None), _RealValuedColumn(column_name='671', dimension=1, default_value=None, dtype=tf.float32, normalizer=None), _RealValuedColumn(column_name='672', dimension=1, default_value=None, dtype=tf.float32, normalizer=None), _RealValuedColumn(column_name='673', dimension=1, default_value=None, dtype=tf.float32, normalizer=None), _RealValuedColumn(column_name='674', dimension=1, default_value=None, dtype=tf.float32, normalizer=None), _RealValuedColumn(column_name='675', dimension=1, default_value=None, dtype=tf.float32, normalizer=None), _RealValuedColumn(column_name='676', dimension=1, default_value=None, dtype=tf.float32, normalizer=None), _RealValuedColumn(column_name='677', dimension=1, default_value=None, dtype=tf.float32, normalizer=None), _RealValuedColumn(column_name='678', dimension=1, default_value=None, dtype=tf.float32, normalizer=None), _RealValuedColumn(column_name='679', dimension=1, default_value=None, dtype=tf.float32, normalizer=None), _RealValuedColumn(column_name='680', dimension=1, default_value=None, dtype=tf.float32, normalizer=None), _RealValuedColumn(column_name='681', dimension=1, default_value=None, dtype=tf.float32, normalizer=None), _RealValuedColumn(column_name='682', dimension=1, default_value=None, dtype=tf.float32, normalizer=None), _RealValuedColumn(column_name='683', dimension=1, default_value=None, dtype=tf.float32, normalizer=None), _RealValuedColumn(column_name='684', dimension=1, default_value=None, dtype=tf.float32, normalizer=None), _RealValuedColumn(column_name='685', dimension=1, default_value=None, dtype=tf.float32, normalizer=None), _RealValuedColumn(column_name='686', dimension=1, default_value=None, dtype=tf.float32, normalizer=None), _RealValuedColumn(column_name='687', dimension=1, default_value=None, dtype=tf.float32, normalizer=None), _RealValuedColumn(column_name='688', dimension=1, default_value=None, dtype=tf.float32, normalizer=None), _RealValuedColumn(column_name='689', dimension=1, default_value=None, dtype=tf.float32, normalizer=None), _RealValuedColumn(column_name='690', dimension=1, default_value=None, dtype=tf.float32, normalizer=None), _RealValuedColumn(column_name='691', dimension=1, default_value=None, dtype=tf.float32, normalizer=None), _RealValuedColumn(column_name='692', dimension=1, default_value=None, dtype=tf.float32, normalizer=None), _RealValuedColumn(column_name='693', dimension=1, default_value=None, dtype=tf.float32, normalizer=None), _RealValuedColumn(column_name='694', dimension=1, default_value=None, dtype=tf.float32, normalizer=None), _RealValuedColumn(column_name='695', dimension=1, default_value=None, dtype=tf.float32, normalizer=None), _RealValuedColumn(column_name='696', dimension=1, default_value=None, dtype=tf.float32, normalizer=None), _RealValuedColumn(column_name='697', dimension=1, default_value=None, dtype=tf.float32, normalizer=None), _RealValuedColumn(column_name='698', dimension=1, default_value=None, dtype=tf.float32, normalizer=None), _RealValuedColumn(column_name='699', dimension=1, default_value=None, dtype=tf.float32, normalizer=None), _RealValuedColumn(column_name='700', dimension=1, default_value=None, dtype=tf.float32, normalizer=None), _RealValuedColumn(column_name='701', dimension=1, default_value=None, dtype=tf.float32, normalizer=None), _RealValuedColumn(column_name='702', dimension=1, default_value=None, dtype=tf.float32, normalizer=None), _RealValuedColumn(column_name='703', dimension=1, default_value=None, dtype=tf.float32, normalizer=None), _RealValuedColumn(column_name='704', dimension=1, default_value=None, dtype=tf.float32, normalizer=None), _RealValuedColumn(column_name='705', dimension=1, default_value=None, dtype=tf.float32, normalizer=None), _RealValuedColumn(column_name='706', dimension=1, default_value=None, dtype=tf.float32, normalizer=None), _RealValuedColumn(column_name='707', dimension=1, default_value=None, dtype=tf.float32, normalizer=None), _RealValuedColumn(column_name='708', dimension=1, default_value=None, dtype=tf.float32, normalizer=None), _RealValuedColumn(column_name='709', dimension=1, default_value=None, dtype=tf.float32, normalizer=None), _RealValuedColumn(column_name='710', dimension=1, default_value=None, dtype=tf.float32, normalizer=None), _RealValuedColumn(column_name='711', dimension=1, default_value=None, dtype=tf.float32, normalizer=None), _RealValuedColumn(column_name='712', dimension=1, default_value=None, dtype=tf.float32, normalizer=None), _RealValuedColumn(column_name='713', dimension=1, default_value=None, dtype=tf.float32, normalizer=None), _RealValuedColumn(column_name='714', dimension=1, default_value=None, dtype=tf.float32, normalizer=None), _RealValuedColumn(column_name='715', dimension=1, default_value=None, dtype=tf.float32, normalizer=None), _RealValuedColumn(column_name='716', dimension=1, default_value=None, dtype=tf.float32, normalizer=None), _RealValuedColumn(column_name='717', dimension=1, default_value=None, dtype=tf.float32, normalizer=None), _RealValuedColumn(column_name='718', dimension=1, default_value=None, dtype=tf.float32, normalizer=None), _RealValuedColumn(column_name='719', dimension=1, default_value=None, dtype=tf.float32, normalizer=None), _RealValuedColumn(column_name='720', dimension=1, default_value=None, dtype=tf.float32, normalizer=None), _RealValuedColumn(column_name='721', dimension=1, default_value=None, dtype=tf.float32, normalizer=None), _RealValuedColumn(column_name='722', dimension=1, default_value=None, dtype=tf.float32, normalizer=None), _RealValuedColumn(column_name='723', dimension=1, default_value=None, dtype=tf.float32, normalizer=None), _RealValuedColumn(column_name='724', dimension=1, default_value=None, dtype=tf.float32, normalizer=None), _RealValuedColumn(column_name='725', dimension=1, default_value=None, dtype=tf.float32, normalizer=None), _RealValuedColumn(column_name='726', dimension=1, default_value=None, dtype=tf.float32, normalizer=None), _RealValuedColumn(column_name='727', dimension=1, default_value=None, dtype=tf.float32, normalizer=None), _RealValuedColumn(column_name='728', dimension=1, default_value=None, dtype=tf.float32, normalizer=None), _RealValuedColumn(column_name='729', dimension=1, default_value=None, dtype=tf.float32, normalizer=None), _RealValuedColumn(column_name='730', dimension=1, default_value=None, dtype=tf.float32, normalizer=None), _RealValuedColumn(column_name='731', dimension=1, default_value=None, dtype=tf.float32, normalizer=None), _RealValuedColumn(column_name='732', dimension=1, default_value=None, dtype=tf.float32, normalizer=None), _RealValuedColumn(column_name='733', dimension=1, default_value=None, dtype=tf.float32, normalizer=None), _RealValuedColumn(column_name='734', dimension=1, default_value=None, dtype=tf.float32, normalizer=None), _RealValuedColumn(column_name='735', dimension=1, default_value=None, dtype=tf.float32, normalizer=None), _RealValuedColumn(column_name='736', dimension=1, default_value=None, dtype=tf.float32, normalizer=None), _RealValuedColumn(column_name='737', dimension=1, default_value=None, dtype=tf.float32, normalizer=None), _RealValuedColumn(column_name='738', dimension=1, default_value=None, dtype=tf.float32, normalizer=None), _RealValuedColumn(column_name='739', dimension=1, default_value=None, dtype=tf.float32, normalizer=None), _RealValuedColumn(column_name='740', dimension=1, default_value=None, dtype=tf.float32, normalizer=None), _RealValuedColumn(column_name='741', dimension=1, default_value=None, dtype=tf.float32, normalizer=None), _RealValuedColumn(column_name='742', dimension=1, default_value=None, dtype=tf.float32, normalizer=None), _RealValuedColumn(column_name='743', dimension=1, default_value=None, dtype=tf.float32, normalizer=None), _RealValuedColumn(column_name='744', dimension=1, default_value=None, dtype=tf.float32, normalizer=None), _RealValuedColumn(column_name='745', dimension=1, default_value=None, dtype=tf.float32, normalizer=None), _RealValuedColumn(column_name='746', dimension=1, default_value=None, dtype=tf.float32, normalizer=None), _RealValuedColumn(column_name='747', dimension=1, default_value=None, dtype=tf.float32, normalizer=None), _RealValuedColumn(column_name='748', dimension=1, default_value=None, dtype=tf.float32, normalizer=None), _RealValuedColumn(column_name='749', dimension=1, default_value=None, dtype=tf.float32, normalizer=None), _RealValuedColumn(column_name='750', dimension=1, default_value=None, dtype=tf.float32, normalizer=None), _RealValuedColumn(column_name='751', dimension=1, default_value=None, dtype=tf.float32, normalizer=None), _RealValuedColumn(column_name='752', dimension=1, default_value=None, dtype=tf.float32, normalizer=None), _RealValuedColumn(column_name='753', dimension=1, default_value=None, dtype=tf.float32, normalizer=None), _RealValuedColumn(column_name='754', dimension=1, default_value=None, dtype=tf.float32, normalizer=None), _RealValuedColumn(column_name='755', dimension=1, default_value=None, dtype=tf.float32, normalizer=None), _RealValuedColumn(column_name='756', dimension=1, default_value=None, dtype=tf.float32, normalizer=None), _RealValuedColumn(column_name='757', dimension=1, default_value=None, dtype=tf.float32, normalizer=None), _RealValuedColumn(column_name='758', dimension=1, default_value=None, dtype=tf.float32, normalizer=None), _RealValuedColumn(column_name='759', dimension=1, default_value=None, dtype=tf.float32, normalizer=None), _RealValuedColumn(column_name='760', dimension=1, default_value=None, dtype=tf.float32, normalizer=None), _RealValuedColumn(column_name='761', dimension=1, default_value=None, dtype=tf.float32, normalizer=None), _RealValuedColumn(column_name='762', dimension=1, default_value=None, dtype=tf.float32, normalizer=None), _RealValuedColumn(column_name='763', dimension=1, default_value=None, dtype=tf.float32, normalizer=None), _RealValuedColumn(column_name='764', dimension=1, default_value=None, dtype=tf.float32, normalizer=None), _RealValuedColumn(column_name='765', dimension=1, default_value=None, dtype=tf.float32, normalizer=None), _RealValuedColumn(column_name='766', dimension=1, default_value=None, dtype=tf.float32, normalizer=None), _RealValuedColumn(column_name='767', dimension=1, default_value=None, dtype=tf.float32, normalizer=None), _RealValuedColumn(column_name='768', dimension=1, default_value=None, dtype=tf.float32, normalizer=None), _RealValuedColumn(column_name='769', dimension=1, default_value=None, dtype=tf.float32, normalizer=None), _RealValuedColumn(column_name='770', dimension=1, default_value=None, dtype=tf.float32, normalizer=None), _RealValuedColumn(column_name='771', dimension=1, default_value=None, dtype=tf.float32, normalizer=None), _RealValuedColumn(column_name='772', dimension=1, default_value=None, dtype=tf.float32, normalizer=None), _RealValuedColumn(column_name='773', dimension=1, default_value=None, dtype=tf.float32, normalizer=None), _RealValuedColumn(column_name='774', dimension=1, default_value=None, dtype=tf.float32, normalizer=None), _RealValuedColumn(column_name='775', dimension=1, default_value=None, dtype=tf.float32, normalizer=None), _RealValuedColumn(column_name='776', dimension=1, default_value=None, dtype=tf.float32, normalizer=None), _RealValuedColumn(column_name='777', dimension=1, default_value=None, dtype=tf.float32, normalizer=None), _RealValuedColumn(column_name='778', dimension=1, default_value=None, dtype=tf.float32, normalizer=None), _RealValuedColumn(column_name='779', dimension=1, default_value=None, dtype=tf.float32, normalizer=None), _RealValuedColumn(column_name='780', dimension=1, default_value=None, dtype=tf.float32, normalizer=None), _RealValuedColumn(column_name='781', dimension=1, default_value=None, dtype=tf.float32, normalizer=None), _RealValuedColumn(column_name='782', dimension=1, default_value=None, dtype=tf.float32, normalizer=None), _RealValuedColumn(column_name='783', dimension=1, default_value=None, dtype=tf.float32, normalizer=None), _RealValuedColumn(column_name='784', dimension=1, default_value=None, dtype=tf.float32, normalizer=None), _RealValuedColumn(column_name='785', dimension=1, default_value=None, dtype=tf.float32, normalizer=None), _RealValuedColumn(column_name='786', dimension=1, default_value=None, dtype=tf.float32, normalizer=None), _RealValuedColumn(column_name='787', dimension=1, default_value=None, dtype=tf.float32, normalizer=None), _RealValuedColumn(column_name='788', dimension=1, default_value=None, dtype=tf.float32, normalizer=None), _RealValuedColumn(column_name='789', dimension=1, default_value=None, dtype=tf.float32, normalizer=None), _RealValuedColumn(column_name='790', dimension=1, default_value=None, dtype=tf.float32, normalizer=None), _RealValuedColumn(column_name='791', dimension=1, default_value=None, dtype=tf.float32, normalizer=None), _RealValuedColumn(column_name='792', dimension=1, default_value=None, dtype=tf.float32, normalizer=None), _RealValuedColumn(column_name='793', dimension=1, default_value=None, dtype=tf.float32, normalizer=None), _RealValuedColumn(column_name='794', dimension=1, default_value=None, dtype=tf.float32, normalizer=None), _RealValuedColumn(column_name='795', dimension=1, default_value=None, dtype=tf.float32, normalizer=None), _RealValuedColumn(column_name='796', dimension=1, default_value=None, dtype=tf.float32, normalizer=None), _RealValuedColumn(column_name='797', dimension=1, default_value=None, dtype=tf.float32, normalizer=None), _RealValuedColumn(column_name='798', dimension=1, default_value=None, dtype=tf.float32, normalizer=None), _RealValuedColumn(column_name='799', dimension=1, default_value=None, dtype=tf.float32, normalizer=None), _RealValuedColumn(column_name='800', dimension=1, default_value=None, dtype=tf.float32, normalizer=None), _RealValuedColumn(column_name='801', dimension=1, default_value=None, dtype=tf.float32, normalizer=None), _RealValuedColumn(column_name='802', dimension=1, default_value=None, dtype=tf.float32, normalizer=None), _RealValuedColumn(column_name='803', dimension=1, default_value=None, dtype=tf.float32, normalizer=None), _RealValuedColumn(column_name='804', dimension=1, default_value=None, dtype=tf.float32, normalizer=None), _RealValuedColumn(column_name='805', dimension=1, default_value=None, dtype=tf.float32, normalizer=None), _RealValuedColumn(column_name='806', dimension=1, default_value=None, dtype=tf.float32, normalizer=None), _RealValuedColumn(column_name='807', dimension=1, default_value=None, dtype=tf.float32, normalizer=None), _RealValuedColumn(column_name='808', dimension=1, default_value=None, dtype=tf.float32, normalizer=None), _RealValuedColumn(column_name='809', dimension=1, default_value=None, dtype=tf.float32, normalizer=None), _RealValuedColumn(column_name='810', dimension=1, default_value=None, dtype=tf.float32, normalizer=None), _RealValuedColumn(column_name='811', dimension=1, default_value=None, dtype=tf.float32, normalizer=None), _RealValuedColumn(column_name='812', dimension=1, default_value=None, dtype=tf.float32, normalizer=None), _RealValuedColumn(column_name='813', dimension=1, default_value=None, dtype=tf.float32, normalizer=None), _RealValuedColumn(column_name='814', dimension=1, default_value=None, dtype=tf.float32, normalizer=None), _RealValuedColumn(column_name='815', dimension=1, default_value=None, dtype=tf.float32, normalizer=None), _RealValuedColumn(column_name='816', dimension=1, default_value=None, dtype=tf.float32, normalizer=None), _RealValuedColumn(column_name='817', dimension=1, default_value=None, dtype=tf.float32, normalizer=None), _RealValuedColumn(column_name='818', dimension=1, default_value=None, dtype=tf.float32, normalizer=None), _RealValuedColumn(column_name='819', dimension=1, default_value=None, dtype=tf.float32, normalizer=None), _RealValuedColumn(column_name='820', dimension=1, default_value=None, dtype=tf.float32, normalizer=None), _RealValuedColumn(column_name='821', dimension=1, default_value=None, dtype=tf.float32, normalizer=None), _RealValuedColumn(column_name='822', dimension=1, default_value=None, dtype=tf.float32, normalizer=None), _RealValuedColumn(column_name='823', dimension=1, default_value=None, dtype=tf.float32, normalizer=None), _RealValuedColumn(column_name='824', dimension=1, default_value=None, dtype=tf.float32, normalizer=None), _RealValuedColumn(column_name='825', dimension=1, default_value=None, dtype=tf.float32, normalizer=None), _RealValuedColumn(column_name='826', dimension=1, default_value=None, dtype=tf.float32, normalizer=None), _RealValuedColumn(column_name='827', dimension=1, default_value=None, dtype=tf.float32, normalizer=None), _RealValuedColumn(column_name='828', dimension=1, default_value=None, dtype=tf.float32, normalizer=None), _RealValuedColumn(column_name='829', dimension=1, default_value=None, dtype=tf.float32, normalizer=None), _RealValuedColumn(column_name='830', dimension=1, default_value=None, dtype=tf.float32, normalizer=None), _RealValuedColumn(column_name='831', dimension=1, default_value=None, dtype=tf.float32, normalizer=None), _RealValuedColumn(column_name='832', dimension=1, default_value=None, dtype=tf.float32, normalizer=None), _RealValuedColumn(column_name='833', dimension=1, default_value=None, dtype=tf.float32, normalizer=None), _RealValuedColumn(column_name='834', dimension=1, default_value=None, dtype=tf.float32, normalizer=None), _RealValuedColumn(column_name='835', dimension=1, default_value=None, dtype=tf.float32, normalizer=None), _RealValuedColumn(column_name='836', dimension=1, default_value=None, dtype=tf.float32, normalizer=None), _RealValuedColumn(column_name='837', dimension=1, default_value=None, dtype=tf.float32, normalizer=None), _RealValuedColumn(column_name='838', dimension=1, default_value=None, dtype=tf.float32, normalizer=None), _RealValuedColumn(column_name='839', dimension=1, default_value=None, dtype=tf.float32, normalizer=None), _RealValuedColumn(column_name='840', dimension=1, default_value=None, dtype=tf.float32, normalizer=None), _RealValuedColumn(column_name='841', dimension=1, default_value=None, dtype=tf.float32, normalizer=None), _RealValuedColumn(column_name='842', dimension=1, default_value=None, dtype=tf.float32, normalizer=None), _RealValuedColumn(column_name='843', dimension=1, default_value=None, dtype=tf.float32, normalizer=None), _RealValuedColumn(column_name='844', dimension=1, default_value=None, dtype=tf.float32, normalizer=None), _RealValuedColumn(column_name='845', dimension=1, default_value=None, dtype=tf.float32, normalizer=None), _RealValuedColumn(column_name='846', dimension=1, default_value=None, dtype=tf.float32, normalizer=None), _RealValuedColumn(column_name='847', dimension=1, default_value=None, dtype=tf.float32, normalizer=None), _RealValuedColumn(column_name='848', dimension=1, default_value=None, dtype=tf.float32, normalizer=None), _RealValuedColumn(column_name='849', dimension=1, default_value=None, dtype=tf.float32, normalizer=None), _RealValuedColumn(column_name='850', dimension=1, default_value=None, dtype=tf.float32, normalizer=None), _RealValuedColumn(column_name='851', dimension=1, default_value=None, dtype=tf.float32, normalizer=None), _RealValuedColumn(column_name='852', dimension=1, default_value=None, dtype=tf.float32, normalizer=None), _RealValuedColumn(column_name='853', dimension=1, default_value=None, dtype=tf.float32, normalizer=None), _RealValuedColumn(column_name='854', dimension=1, default_value=None, dtype=tf.float32, normalizer=None), _RealValuedColumn(column_name='855', dimension=1, default_value=None, dtype=tf.float32, normalizer=None), _RealValuedColumn(column_name='856', dimension=1, default_value=None, dtype=tf.float32, normalizer=None), _RealValuedColumn(column_name='857', dimension=1, default_value=None, dtype=tf.float32, normalizer=None), _RealValuedColumn(column_name='858', dimension=1, default_value=None, dtype=tf.float32, normalizer=None), _RealValuedColumn(column_name='859', dimension=1, default_value=None, dtype=tf.float32, normalizer=None), _RealValuedColumn(column_name='860', dimension=1, default_value=None, dtype=tf.float32, normalizer=None), _RealValuedColumn(column_name='861', dimension=1, default_value=None, dtype=tf.float32, normalizer=None), _RealValuedColumn(column_name='862', dimension=1, default_value=None, dtype=tf.float32, normalizer=None), _RealValuedColumn(column_name='863', dimension=1, default_value=None, dtype=tf.float32, normalizer=None), _RealValuedColumn(column_name='864', dimension=1, default_value=None, dtype=tf.float32, normalizer=None), _RealValuedColumn(column_name='865', dimension=1, default_value=None, dtype=tf.float32, normalizer=None), _RealValuedColumn(column_name='866', dimension=1, default_value=None, dtype=tf.float32, normalizer=None), _RealValuedColumn(column_name='867', dimension=1, default_value=None, dtype=tf.float32, normalizer=None), _RealValuedColumn(column_name='868', dimension=1, default_value=None, dtype=tf.float32, normalizer=None), _RealValuedColumn(column_name='869', dimension=1, default_value=None, dtype=tf.float32, normalizer=None), _RealValuedColumn(column_name='870', dimension=1, default_value=None, dtype=tf.float32, normalizer=None), _RealValuedColumn(column_name='871', dimension=1, default_value=None, dtype=tf.float32, normalizer=None), _RealValuedColumn(column_name='872', dimension=1, default_value=None, dtype=tf.float32, normalizer=None), _RealValuedColumn(column_name='873', dimension=1, default_value=None, dtype=tf.float32, normalizer=None), _RealValuedColumn(column_name='874', dimension=1, default_value=None, dtype=tf.float32, normalizer=None), _RealValuedColumn(column_name='875', dimension=1, default_value=None, dtype=tf.float32, normalizer=None), _RealValuedColumn(column_name='876', dimension=1, default_value=None, dtype=tf.float32, normalizer=None), _RealValuedColumn(column_name='877', dimension=1, default_value=None, dtype=tf.float32, normalizer=None), _RealValuedColumn(column_name='878', dimension=1, default_value=None, dtype=tf.float32, normalizer=None), _RealValuedColumn(column_name='879', dimension=1, default_value=None, dtype=tf.float32, normalizer=None), _RealValuedColumn(column_name='880', dimension=1, default_value=None, dtype=tf.float32, normalizer=None), _RealValuedColumn(column_name='881', dimension=1, default_value=None, dtype=tf.float32, normalizer=None), _RealValuedColumn(column_name='882', dimension=1, default_value=None, dtype=tf.float32, normalizer=None), _RealValuedColumn(column_name='883', dimension=1, default_value=None, dtype=tf.float32, normalizer=None), _RealValuedColumn(column_name='884', dimension=1, default_value=None, dtype=tf.float32, normalizer=None), _RealValuedColumn(column_name='885', dimension=1, default_value=None, dtype=tf.float32, normalizer=None), _RealValuedColumn(column_name='886', dimension=1, default_value=None, dtype=tf.float32, normalizer=None), _RealValuedColumn(column_name='887', dimension=1, default_value=None, dtype=tf.float32, normalizer=None), _RealValuedColumn(column_name='888', dimension=1, default_value=None, dtype=tf.float32, normalizer=None), _RealValuedColumn(column_name='889', dimension=1, default_value=None, dtype=tf.float32, normalizer=None), _RealValuedColumn(column_name='890', dimension=1, default_value=None, dtype=tf.float32, normalizer=None), _RealValuedColumn(column_name='891', dimension=1, default_value=None, dtype=tf.float32, normalizer=None), _RealValuedColumn(column_name='892', dimension=1, default_value=None, dtype=tf.float32, normalizer=None), _RealValuedColumn(column_name='893', dimension=1, default_value=None, dtype=tf.float32, normalizer=None), _RealValuedColumn(column_name='894', dimension=1, default_value=None, dtype=tf.float32, normalizer=None), _RealValuedColumn(column_name='895', dimension=1, default_value=None, dtype=tf.float32, normalizer=None), _RealValuedColumn(column_name='896', dimension=1, default_value=None, dtype=tf.float32, normalizer=None), _RealValuedColumn(column_name='897', dimension=1, default_value=None, dtype=tf.float32, normalizer=None), _RealValuedColumn(column_name='898', dimension=1, default_value=None, dtype=tf.float32, normalizer=None), _RealValuedColumn(column_name='899', dimension=1, default_value=None, dtype=tf.float32, normalizer=None), _RealValuedColumn(column_name='900', dimension=1, default_value=None, dtype=tf.float32, normalizer=None), _RealValuedColumn(column_name='901', dimension=1, default_value=None, dtype=tf.float32, normalizer=None), _RealValuedColumn(column_name='902', dimension=1, default_value=None, dtype=tf.float32, normalizer=None), _RealValuedColumn(column_name='903', dimension=1, default_value=None, dtype=tf.float32, normalizer=None), _RealValuedColumn(column_name='904', dimension=1, default_value=None, dtype=tf.float32, normalizer=None), _RealValuedColumn(column_name='905', dimension=1, default_value=None, dtype=tf.float32, normalizer=None), _RealValuedColumn(column_name='906', dimension=1, default_value=None, dtype=tf.float32, normalizer=None), _RealValuedColumn(column_name='907', dimension=1, default_value=None, dtype=tf.float32, normalizer=None), _RealValuedColumn(column_name='908', dimension=1, default_value=None, dtype=tf.float32, normalizer=None), _RealValuedColumn(column_name='909', dimension=1, default_value=None, dtype=tf.float32, normalizer=None), _RealValuedColumn(column_name='910', dimension=1, default_value=None, dtype=tf.float32, normalizer=None), _RealValuedColumn(column_name='911', dimension=1, default_value=None, dtype=tf.float32, normalizer=None), _RealValuedColumn(column_name='912', dimension=1, default_value=None, dtype=tf.float32, normalizer=None), _RealValuedColumn(column_name='913', dimension=1, default_value=None, dtype=tf.float32, normalizer=None), _RealValuedColumn(column_name='914', dimension=1, default_value=None, dtype=tf.float32, normalizer=None), _RealValuedColumn(column_name='915', dimension=1, default_value=None, dtype=tf.float32, normalizer=None), _RealValuedColumn(column_name='916', dimension=1, default_value=None, dtype=tf.float32, normalizer=None), _RealValuedColumn(column_name='917', dimension=1, default_value=None, dtype=tf.float32, normalizer=None), _RealValuedColumn(column_name='918', dimension=1, default_value=None, dtype=tf.float32, normalizer=None), _RealValuedColumn(column_name='919', dimension=1, default_value=None, dtype=tf.float32, normalizer=None), _RealValuedColumn(column_name='920', dimension=1, default_value=None, dtype=tf.float32, normalizer=None), _RealValuedColumn(column_name='921', dimension=1, default_value=None, dtype=tf.float32, normalizer=None), _RealValuedColumn(column_name='922', dimension=1, default_value=None, dtype=tf.float32, normalizer=None), _RealValuedColumn(column_name='923', dimension=1, default_value=None, dtype=tf.float32, normalizer=None), _RealValuedColumn(column_name='924', dimension=1, default_value=None, dtype=tf.float32, normalizer=None), _RealValuedColumn(column_name='925', dimension=1, default_value=None, dtype=tf.float32, normalizer=None), _RealValuedColumn(column_name='926', dimension=1, default_value=None, dtype=tf.float32, normalizer=None), _RealValuedColumn(column_name='927', dimension=1, default_value=None, dtype=tf.float32, normalizer=None), _RealValuedColumn(column_name='928', dimension=1, default_value=None, dtype=tf.float32, normalizer=None), _RealValuedColumn(column_name='929', dimension=1, default_value=None, dtype=tf.float32, normalizer=None), _RealValuedColumn(column_name='930', dimension=1, default_value=None, dtype=tf.float32, normalizer=None), _RealValuedColumn(column_name='931', dimension=1, default_value=None, dtype=tf.float32, normalizer=None), _RealValuedColumn(column_name='932', dimension=1, default_value=None, dtype=tf.float32, normalizer=None), _RealValuedColumn(column_name='933', dimension=1, default_value=None, dtype=tf.float32, normalizer=None), _RealValuedColumn(column_name='934', dimension=1, default_value=None, dtype=tf.float32, normalizer=None), _RealValuedColumn(column_name='935', dimension=1, default_value=None, dtype=tf.float32, normalizer=None), _RealValuedColumn(column_name='936', dimension=1, default_value=None, dtype=tf.float32, normalizer=None), _RealValuedColumn(column_name='937', dimension=1, default_value=None, dtype=tf.float32, normalizer=None), _RealValuedColumn(column_name='938', dimension=1, default_value=None, dtype=tf.float32, normalizer=None), _RealValuedColumn(column_name='939', dimension=1, default_value=None, dtype=tf.float32, normalizer=None), _RealValuedColumn(column_name='940', dimension=1, default_value=None, dtype=tf.float32, normalizer=None), _RealValuedColumn(column_name='941', dimension=1, default_value=None, dtype=tf.float32, normalizer=None), _RealValuedColumn(column_name='942', dimension=1, default_value=None, dtype=tf.float32, normalizer=None), _RealValuedColumn(column_name='943', dimension=1, default_value=None, dtype=tf.float32, normalizer=None), _RealValuedColumn(column_name='944', dimension=1, default_value=None, dtype=tf.float32, normalizer=None), _RealValuedColumn(column_name='945', dimension=1, default_value=None, dtype=tf.float32, normalizer=None), _RealValuedColumn(column_name='946', dimension=1, default_value=None, dtype=tf.float32, normalizer=None), _RealValuedColumn(column_name='947', dimension=1, default_value=None, dtype=tf.float32, normalizer=None), _RealValuedColumn(column_name='948', dimension=1, default_value=None, dtype=tf.float32, normalizer=None), _RealValuedColumn(column_name='949', dimension=1, default_value=None, dtype=tf.float32, normalizer=None), _RealValuedColumn(column_name='950', dimension=1, default_value=None, dtype=tf.float32, normalizer=None), _RealValuedColumn(column_name='951', dimension=1, default_value=None, dtype=tf.float32, normalizer=None), _RealValuedColumn(column_name='952', dimension=1, default_value=None, dtype=tf.float32, normalizer=None), _RealValuedColumn(column_name='953', dimension=1, default_value=None, dtype=tf.float32, normalizer=None), _RealValuedColumn(column_name='954', dimension=1, default_value=None, dtype=tf.float32, normalizer=None), _RealValuedColumn(column_name='955', dimension=1, default_value=None, dtype=tf.float32, normalizer=None), _RealValuedColumn(column_name='956', dimension=1, default_value=None, dtype=tf.float32, normalizer=None), _RealValuedColumn(column_name='957', dimension=1, default_value=None, dtype=tf.float32, normalizer=None), _RealValuedColumn(column_name='958', dimension=1, default_value=None, dtype=tf.float32, normalizer=None), _RealValuedColumn(column_name='959', dimension=1, default_value=None, dtype=tf.float32, normalizer=None), _RealValuedColumn(column_name='960', dimension=1, default_value=None, dtype=tf.float32, normalizer=None), _RealValuedColumn(column_name='961', dimension=1, default_value=None, dtype=tf.float32, normalizer=None), _RealValuedColumn(column_name='962', dimension=1, default_value=None, dtype=tf.float32, normalizer=None), _RealValuedColumn(column_name='963', dimension=1, default_value=None, dtype=tf.float32, normalizer=None), _RealValuedColumn(column_name='964', dimension=1, default_value=None, dtype=tf.float32, normalizer=None), _RealValuedColumn(column_name='965', dimension=1, default_value=None, dtype=tf.float32, normalizer=None), _RealValuedColumn(column_name='966', dimension=1, default_value=None, dtype=tf.float32, normalizer=None), _RealValuedColumn(column_name='967', dimension=1, default_value=None, dtype=tf.float32, normalizer=None), _RealValuedColumn(column_name='968', dimension=1, default_value=None, dtype=tf.float32, normalizer=None), _RealValuedColumn(column_name='969', dimension=1, default_value=None, dtype=tf.float32, normalizer=None), _RealValuedColumn(column_name='970', dimension=1, default_value=None, dtype=tf.float32, normalizer=None), _RealValuedColumn(column_name='971', dimension=1, default_value=None, dtype=tf.float32, normalizer=None), _RealValuedColumn(column_name='972', dimension=1, default_value=None, dtype=tf.float32, normalizer=None), _RealValuedColumn(column_name='973', dimension=1, default_value=None, dtype=tf.float32, normalizer=None), _RealValuedColumn(column_name='974', dimension=1, default_value=None, dtype=tf.float32, normalizer=None), _RealValuedColumn(column_name='975', dimension=1, default_value=None, dtype=tf.float32, normalizer=None), _RealValuedColumn(column_name='976', dimension=1, default_value=None, dtype=tf.float32, normalizer=None), _RealValuedColumn(column_name='977', dimension=1, default_value=None, dtype=tf.float32, normalizer=None), _RealValuedColumn(column_name='978', dimension=1, default_value=None, dtype=tf.float32, normalizer=None), _RealValuedColumn(column_name='979', dimension=1, default_value=None, dtype=tf.float32, normalizer=None), _RealValuedColumn(column_name='980', dimension=1, default_value=None, dtype=tf.float32, normalizer=None), _RealValuedColumn(column_name='981', dimension=1, default_value=None, dtype=tf.float32, normalizer=None), _RealValuedColumn(column_name='982', dimension=1, default_value=None, dtype=tf.float32, normalizer=None), _RealValuedColumn(column_name='983', dimension=1, default_value=None, dtype=tf.float32, normalizer=None), _RealValuedColumn(column_name='984', dimension=1, default_value=None, dtype=tf.float32, normalizer=None), _RealValuedColumn(column_name='985', dimension=1, default_value=None, dtype=tf.float32, normalizer=None), _RealValuedColumn(column_name='986', dimension=1, default_value=None, dtype=tf.float32, normalizer=None), _RealValuedColumn(column_name='987', dimension=1, default_value=None, dtype=tf.float32, normalizer=None), _RealValuedColumn(column_name='988', dimension=1, default_value=None, dtype=tf.float32, normalizer=None), _RealValuedColumn(column_name='989', dimension=1, default_value=None, dtype=tf.float32, normalizer=None), _RealValuedColumn(column_name='990', dimension=1, default_value=None, dtype=tf.float32, normalizer=None), _RealValuedColumn(column_name='991', dimension=1, default_value=None, dtype=tf.float32, normalizer=None), _RealValuedColumn(column_name='992', dimension=1, default_value=None, dtype=tf.float32, normalizer=None), _RealValuedColumn(column_name='993', dimension=1, default_value=None, dtype=tf.float32, normalizer=None), _RealValuedColumn(column_name='994', dimension=1, default_value=None, dtype=tf.float32, normalizer=None), _RealValuedColumn(column_name='995', dimension=1, default_value=None, dtype=tf.float32, normalizer=None), _RealValuedColumn(column_name='996', dimension=1, default_value=None, dtype=tf.float32, normalizer=None), _RealValuedColumn(column_name='997', dimension=1, default_value=None, dtype=tf.float32, normalizer=None), _RealValuedColumn(column_name='998', dimension=1, default_value=None, dtype=tf.float32, normalizer=None), _RealValuedColumn(column_name='999', dimension=1, default_value=None, dtype=tf.float32, normalizer=None), _RealValuedColumn(column_name='1000', dimension=1, default_value=None, dtype=tf.float32, normalizer=None), _RealValuedColumn(column_name='1001', dimension=1, default_value=None, dtype=tf.float32, normalizer=None), _RealValuedColumn(column_name='1002', dimension=1, default_value=None, dtype=tf.float32, normalizer=None), _RealValuedColumn(column_name='1003', dimension=1, default_value=None, dtype=tf.float32, normalizer=None), _RealValuedColumn(column_name='1004', dimension=1, default_value=None, dtype=tf.float32, normalizer=None), _RealValuedColumn(column_name='1005', dimension=1, default_value=None, dtype=tf.float32, normalizer=None), _RealValuedColumn(column_name='1006', dimension=1, default_value=None, dtype=tf.float32, normalizer=None), _RealValuedColumn(column_name='1007', dimension=1, default_value=None, dtype=tf.float32, normalizer=None), _RealValuedColumn(column_name='1008', dimension=1, default_value=None, dtype=tf.float32, normalizer=None), _RealValuedColumn(column_name='1009', dimension=1, default_value=None, dtype=tf.float32, normalizer=None), _RealValuedColumn(column_name='1010', dimension=1, default_value=None, dtype=tf.float32, normalizer=None), _RealValuedColumn(column_name='1011', dimension=1, default_value=None, dtype=tf.float32, normalizer=None), _RealValuedColumn(column_name='1012', dimension=1, default_value=None, dtype=tf.float32, normalizer=None), _RealValuedColumn(column_name='1013', dimension=1, default_value=None, dtype=tf.float32, normalizer=None), _RealValuedColumn(column_name='1014', dimension=1, default_value=None, dtype=tf.float32, normalizer=None), _RealValuedColumn(column_name='1015', dimension=1, default_value=None, dtype=tf.float32, normalizer=None), _RealValuedColumn(column_name='1016', dimension=1, default_value=None, dtype=tf.float32, normalizer=None), _RealValuedColumn(column_name='1017', dimension=1, default_value=None, dtype=tf.float32, normalizer=None), _RealValuedColumn(column_name='1018', dimension=1, default_value=None, dtype=tf.float32, normalizer=None), _RealValuedColumn(column_name='1019', dimension=1, default_value=None, dtype=tf.float32, normalizer=None), _RealValuedColumn(column_name='1020', dimension=1, default_value=None, dtype=tf.float32, normalizer=None), _RealValuedColumn(column_name='1021', dimension=1, default_value=None, dtype=tf.float32, normalizer=None), _RealValuedColumn(column_name='1022', dimension=1, default_value=None, dtype=tf.float32, normalizer=None), _RealValuedColumn(column_name='1023', dimension=1, default_value=None, dtype=tf.float32, normalizer=None), _RealValuedColumn(column_name='1024', dimension=1, default_value=None, dtype=tf.float32, normalizer=None), _RealValuedColumn(column_name='1025', dimension=1, default_value=None, dtype=tf.float32, normalizer=None), _RealValuedColumn(column_name='1026', dimension=1, default_value=None, dtype=tf.float32, normalizer=None), _RealValuedColumn(column_name='1027', dimension=1, default_value=None, dtype=tf.float32, normalizer=None), _RealValuedColumn(column_name='1028', dimension=1, default_value=None, dtype=tf.float32, normalizer=None), _RealValuedColumn(column_name='1029', dimension=1, default_value=None, dtype=tf.float32, normalizer=None), _RealValuedColumn(column_name='1030', dimension=1, default_value=None, dtype=tf.float32, normalizer=None), _RealValuedColumn(column_name='1031', dimension=1, default_value=None, dtype=tf.float32, normalizer=None), _RealValuedColumn(column_name='1032', dimension=1, default_value=None, dtype=tf.float32, normalizer=None), _RealValuedColumn(column_name='1033', dimension=1, default_value=None, dtype=tf.float32, normalizer=None), _RealValuedColumn(column_name='1034', dimension=1, default_value=None, dtype=tf.float32, normalizer=None), _RealValuedColumn(column_name='1035', dimension=1, default_value=None, dtype=tf.float32, normalizer=None), _RealValuedColumn(column_name='1036', dimension=1, default_value=None, dtype=tf.float32, normalizer=None), _RealValuedColumn(column_name='1037', dimension=1, default_value=None, dtype=tf.float32, normalizer=None), _RealValuedColumn(column_name='1038', dimension=1, default_value=None, dtype=tf.float32, normalizer=None), _RealValuedColumn(column_name='1039', dimension=1, default_value=None, dtype=tf.float32, normalizer=None), _RealValuedColumn(column_name='1040', dimension=1, default_value=None, dtype=tf.float32, normalizer=None), _RealValuedColumn(column_name='1041', dimension=1, default_value=None, dtype=tf.float32, normalizer=None), _RealValuedColumn(column_name='1042', dimension=1, default_value=None, dtype=tf.float32, normalizer=None), _RealValuedColumn(column_name='1043', dimension=1, default_value=None, dtype=tf.float32, normalizer=None), _RealValuedColumn(column_name='1044', dimension=1, default_value=None, dtype=tf.float32, normalizer=None), _RealValuedColumn(column_name='1045', dimension=1, default_value=None, dtype=tf.float32, normalizer=None), _RealValuedColumn(column_name='1046', dimension=1, default_value=None, dtype=tf.float32, normalizer=None), _RealValuedColumn(column_name='1047', dimension=1, default_value=None, dtype=tf.float32, normalizer=None), _RealValuedColumn(column_name='1048', dimension=1, default_value=None, dtype=tf.float32, normalizer=None), _RealValuedColumn(column_name='1049', dimension=1, default_value=None, dtype=tf.float32, normalizer=None), _RealValuedColumn(column_name='1050', dimension=1, default_value=None, dtype=tf.float32, normalizer=None), _RealValuedColumn(column_name='1051', dimension=1, default_value=None, dtype=tf.float32, normalizer=None), _RealValuedColumn(column_name='1052', dimension=1, default_value=None, dtype=tf.float32, normalizer=None), _RealValuedColumn(column_name='1053', dimension=1, default_value=None, dtype=tf.float32, normalizer=None), _RealValuedColumn(column_name='1054', dimension=1, default_value=None, dtype=tf.float32, normalizer=None), _RealValuedColumn(column_name='1055', dimension=1, default_value=None, dtype=tf.float32, normalizer=None), _RealValuedColumn(column_name='1056', dimension=1, default_value=None, dtype=tf.float32, normalizer=None), _RealValuedColumn(column_name='1057', dimension=1, default_value=None, dtype=tf.float32, normalizer=None), _RealValuedColumn(column_name='1058', dimension=1, default_value=None, dtype=tf.float32, normalizer=None), _RealValuedColumn(column_name='1059', dimension=1, default_value=None, dtype=tf.float32, normalizer=None), _RealValuedColumn(column_name='1060', dimension=1, default_value=None, dtype=tf.float32, normalizer=None), _RealValuedColumn(column_name='1061', dimension=1, default_value=None, dtype=tf.float32, normalizer=None), _RealValuedColumn(column_name='1062', dimension=1, default_value=None, dtype=tf.float32, normalizer=None), _RealValuedColumn(column_name='1063', dimension=1, default_value=None, dtype=tf.float32, normalizer=None), _RealValuedColumn(column_name='1064', dimension=1, default_value=None, dtype=tf.float32, normalizer=None), _RealValuedColumn(column_name='1065', dimension=1, default_value=None, dtype=tf.float32, normalizer=None), _RealValuedColumn(column_name='1066', dimension=1, default_value=None, dtype=tf.float32, normalizer=None), _RealValuedColumn(column_name='1067', dimension=1, default_value=None, dtype=tf.float32, normalizer=None), _RealValuedColumn(column_name='1068', dimension=1, default_value=None, dtype=tf.float32, normalizer=None), _RealValuedColumn(column_name='1069', dimension=1, default_value=None, dtype=tf.float32, normalizer=None), _RealValuedColumn(column_name='1070', dimension=1, default_value=None, dtype=tf.float32, normalizer=None), _RealValuedColumn(column_name='1071', dimension=1, default_value=None, dtype=tf.float32, normalizer=None), _RealValuedColumn(column_name='1072', dimension=1, default_value=None, dtype=tf.float32, normalizer=None), _RealValuedColumn(column_name='1073', dimension=1, default_value=None, dtype=tf.float32, normalizer=None), _RealValuedColumn(column_name='1074', dimension=1, default_value=None, dtype=tf.float32, normalizer=None), _RealValuedColumn(column_name='1075', dimension=1, default_value=None, dtype=tf.float32, normalizer=None), _RealValuedColumn(column_name='1076', dimension=1, default_value=None, dtype=tf.float32, normalizer=None), _RealValuedColumn(column_name='1077', dimension=1, default_value=None, dtype=tf.float32, normalizer=None), _RealValuedColumn(column_name='1078', dimension=1, default_value=None, dtype=tf.float32, normalizer=None), _RealValuedColumn(column_name='1079', dimension=1, default_value=None, dtype=tf.float32, normalizer=None), _RealValuedColumn(column_name='1080', dimension=1, default_value=None, dtype=tf.float32, normalizer=None), _RealValuedColumn(column_name='1081', dimension=1, default_value=None, dtype=tf.float32, normalizer=None), _RealValuedColumn(column_name='1082', dimension=1, default_value=None, dtype=tf.float32, normalizer=None), _RealValuedColumn(column_name='1083', dimension=1, default_value=None, dtype=tf.float32, normalizer=None), _RealValuedColumn(column_name='1084', dimension=1, default_value=None, dtype=tf.float32, normalizer=None), _RealValuedColumn(column_name='1085', dimension=1, default_value=None, dtype=tf.float32, normalizer=None), _RealValuedColumn(column_name='1086', dimension=1, default_value=None, dtype=tf.float32, normalizer=None), _RealValuedColumn(column_name='1087', dimension=1, default_value=None, dtype=tf.float32, normalizer=None), _RealValuedColumn(column_name='1088', dimension=1, default_value=None, dtype=tf.float32, normalizer=None), _RealValuedColumn(column_name='1089', dimension=1, default_value=None, dtype=tf.float32, normalizer=None), _RealValuedColumn(column_name='1090', dimension=1, default_value=None, dtype=tf.float32, normalizer=None), _RealValuedColumn(column_name='1091', dimension=1, default_value=None, dtype=tf.float32, normalizer=None), _RealValuedColumn(column_name='1092', dimension=1, default_value=None, dtype=tf.float32, normalizer=None), _RealValuedColumn(column_name='1093', dimension=1, default_value=None, dtype=tf.float32, normalizer=None), _RealValuedColumn(column_name='1094', dimension=1, default_value=None, dtype=tf.float32, normalizer=None), _RealValuedColumn(column_name='1095', dimension=1, default_value=None, dtype=tf.float32, normalizer=None), _RealValuedColumn(column_name='1096', dimension=1, default_value=None, dtype=tf.float32, normalizer=None), _RealValuedColumn(column_name='1097', dimension=1, default_value=None, dtype=tf.float32, normalizer=None), _RealValuedColumn(column_name='1098', dimension=1, default_value=None, dtype=tf.float32, normalizer=None), _RealValuedColumn(column_name='1099', dimension=1, default_value=None, dtype=tf.float32, normalizer=None), _RealValuedColumn(column_name='1100', dimension=1, default_value=None, dtype=tf.float32, normalizer=None), _RealValuedColumn(column_name='1101', dimension=1, default_value=None, dtype=tf.float32, normalizer=None), _RealValuedColumn(column_name='1102', dimension=1, default_value=None, dtype=tf.float32, normalizer=None), _RealValuedColumn(column_name='1103', dimension=1, default_value=None, dtype=tf.float32, normalizer=None), _RealValuedColumn(column_name='1104', dimension=1, default_value=None, dtype=tf.float32, normalizer=None), _RealValuedColumn(column_name='1105', dimension=1, default_value=None, dtype=tf.float32, normalizer=None), _RealValuedColumn(column_name='1106', dimension=1, default_value=None, dtype=tf.float32, normalizer=None), _RealValuedColumn(column_name='1107', dimension=1, default_value=None, dtype=tf.float32, normalizer=None), _RealValuedColumn(column_name='1108', dimension=1, default_value=None, dtype=tf.float32, normalizer=None), _RealValuedColumn(column_name='1109', dimension=1, default_value=None, dtype=tf.float32, normalizer=None), _RealValuedColumn(column_name='1110', dimension=1, default_value=None, dtype=tf.float32, normalizer=None), _RealValuedColumn(column_name='1111', dimension=1, default_value=None, dtype=tf.float32, normalizer=None), _RealValuedColumn(column_name='1112', dimension=1, default_value=None, dtype=tf.float32, normalizer=None), _RealValuedColumn(column_name='1113', dimension=1, default_value=None, dtype=tf.float32, normalizer=None), _RealValuedColumn(column_name='1114', dimension=1, default_value=None, dtype=tf.float32, normalizer=None), _RealValuedColumn(column_name='1115', dimension=1, default_value=None, dtype=tf.float32, normalizer=None), _RealValuedColumn(column_name='1116', dimension=1, default_value=None, dtype=tf.float32, normalizer=None), _RealValuedColumn(column_name='1117', dimension=1, default_value=None, dtype=tf.float32, normalizer=None), _RealValuedColumn(column_name='1118', dimension=1, default_value=None, dtype=tf.float32, normalizer=None), _RealValuedColumn(column_name='1119', dimension=1, default_value=None, dtype=tf.float32, normalizer=None), _RealValuedColumn(column_name='1120', dimension=1, default_value=None, dtype=tf.float32, normalizer=None), _RealValuedColumn(column_name='1121', dimension=1, default_value=None, dtype=tf.float32, normalizer=None), _RealValuedColumn(column_name='1122', dimension=1, default_value=None, dtype=tf.float32, normalizer=None), _RealValuedColumn(column_name='1123', dimension=1, default_value=None, dtype=tf.float32, normalizer=None), _RealValuedColumn(column_name='1124', dimension=1, default_value=None, dtype=tf.float32, normalizer=None), _RealValuedColumn(column_name='1125', dimension=1, default_value=None, dtype=tf.float32, normalizer=None), _RealValuedColumn(column_name='1126', dimension=1, default_value=None, dtype=tf.float32, normalizer=None), _RealValuedColumn(column_name='1127', dimension=1, default_value=None, dtype=tf.float32, normalizer=None), _RealValuedColumn(column_name='1128', dimension=1, default_value=None, dtype=tf.float32, normalizer=None), _RealValuedColumn(column_name='1129', dimension=1, default_value=None, dtype=tf.float32, normalizer=None), _RealValuedColumn(column_name='1130', dimension=1, default_value=None, dtype=tf.float32, normalizer=None), _RealValuedColumn(column_name='1131', dimension=1, default_value=None, dtype=tf.float32, normalizer=None), _RealValuedColumn(column_name='1132', dimension=1, default_value=None, dtype=tf.float32, normalizer=None), _RealValuedColumn(column_name='1133', dimension=1, default_value=None, dtype=tf.float32, normalizer=None), _RealValuedColumn(column_name='1134', dimension=1, default_value=None, dtype=tf.float32, normalizer=None), _RealValuedColumn(column_name='1135', dimension=1, default_value=None, dtype=tf.float32, normalizer=None), _RealValuedColumn(column_name='1136', dimension=1, default_value=None, dtype=tf.float32, normalizer=None), _RealValuedColumn(column_name='1137', dimension=1, default_value=None, dtype=tf.float32, normalizer=None), _RealValuedColumn(column_name='1138', dimension=1, default_value=None, dtype=tf.float32, normalizer=None), _RealValuedColumn(column_name='1139', dimension=1, default_value=None, dtype=tf.float32, normalizer=None), _RealValuedColumn(column_name='1140', dimension=1, default_value=None, dtype=tf.float32, normalizer=None), _RealValuedColumn(column_name='1141', dimension=1, default_value=None, dtype=tf.float32, normalizer=None), _RealValuedColumn(column_name='1142', dimension=1, default_value=None, dtype=tf.float32, normalizer=None), _RealValuedColumn(column_name='1143', dimension=1, default_value=None, dtype=tf.float32, normalizer=None), _RealValuedColumn(column_name='1144', dimension=1, default_value=None, dtype=tf.float32, normalizer=None), _RealValuedColumn(column_name='1145', dimension=1, default_value=None, dtype=tf.float32, normalizer=None), _RealValuedColumn(column_name='1146', dimension=1, default_value=None, dtype=tf.float32, normalizer=None), _RealValuedColumn(column_name='1147', dimension=1, default_value=None, dtype=tf.float32, normalizer=None), _RealValuedColumn(column_name='1148', dimension=1, default_value=None, dtype=tf.float32, normalizer=None), _RealValuedColumn(column_name='1149', dimension=1, default_value=None, dtype=tf.float32, normalizer=None), _RealValuedColumn(column_name='1150', dimension=1, default_value=None, dtype=tf.float32, normalizer=None), _RealValuedColumn(column_name='1151', dimension=1, default_value=None, dtype=tf.float32, normalizer=None), _RealValuedColumn(column_name='1152', dimension=1, default_value=None, dtype=tf.float32, normalizer=None), _RealValuedColumn(column_name='1153', dimension=1, default_value=None, dtype=tf.float32, normalizer=None), _RealValuedColumn(column_name='1154', dimension=1, default_value=None, dtype=tf.float32, normalizer=None), _RealValuedColumn(column_name='1155', dimension=1, default_value=None, dtype=tf.float32, normalizer=None), _RealValuedColumn(column_name='1156', dimension=1, default_value=None, dtype=tf.float32, normalizer=None), _RealValuedColumn(column_name='1157', dimension=1, default_value=None, dtype=tf.float32, normalizer=None), _RealValuedColumn(column_name='1158', dimension=1, default_value=None, dtype=tf.float32, normalizer=None), _RealValuedColumn(column_name='1159', dimension=1, default_value=None, dtype=tf.float32, normalizer=None), _RealValuedColumn(column_name='1160', dimension=1, default_value=None, dtype=tf.float32, normalizer=None), _RealValuedColumn(column_name='1161', dimension=1, default_value=None, dtype=tf.float32, normalizer=None), _RealValuedColumn(column_name='1162', dimension=1, default_value=None, dtype=tf.float32, normalizer=None), _RealValuedColumn(column_name='1163', dimension=1, default_value=None, dtype=tf.float32, normalizer=None), _RealValuedColumn(column_name='1164', dimension=1, default_value=None, dtype=tf.float32, normalizer=None), _RealValuedColumn(column_name='1165', dimension=1, default_value=None, dtype=tf.float32, normalizer=None), _RealValuedColumn(column_name='1166', dimension=1, default_value=None, dtype=tf.float32, normalizer=None), _RealValuedColumn(column_name='1167', dimension=1, default_value=None, dtype=tf.float32, normalizer=None), _RealValuedColumn(column_name='1168', dimension=1, default_value=None, dtype=tf.float32, normalizer=None), _RealValuedColumn(column_name='1169', dimension=1, default_value=None, dtype=tf.float32, normalizer=None), _RealValuedColumn(column_name='1170', dimension=1, default_value=None, dtype=tf.float32, normalizer=None), _RealValuedColumn(column_name='1171', dimension=1, default_value=None, dtype=tf.float32, normalizer=None), _RealValuedColumn(column_name='1172', dimension=1, default_value=None, dtype=tf.float32, normalizer=None), _RealValuedColumn(column_name='1173', dimension=1, default_value=None, dtype=tf.float32, normalizer=None), _RealValuedColumn(column_name='1174', dimension=1, default_value=None, dtype=tf.float32, normalizer=None), _RealValuedColumn(column_name='1175', dimension=1, default_value=None, dtype=tf.float32, normalizer=None), _RealValuedColumn(column_name='1176', dimension=1, default_value=None, dtype=tf.float32, normalizer=None), _RealValuedColumn(column_name='1177', dimension=1, default_value=None, dtype=tf.float32, normalizer=None), _RealValuedColumn(column_name='1178', dimension=1, default_value=None, dtype=tf.float32, normalizer=None), _RealValuedColumn(column_name='1179', dimension=1, default_value=None, dtype=tf.float32, normalizer=None), _RealValuedColumn(column_name='1180', dimension=1, default_value=None, dtype=tf.float32, normalizer=None), _RealValuedColumn(column_name='1181', dimension=1, default_value=None, dtype=tf.float32, normalizer=None), _RealValuedColumn(column_name='1182', dimension=1, default_value=None, dtype=tf.float32, normalizer=None), _RealValuedColumn(column_name='1183', dimension=1, default_value=None, dtype=tf.float32, normalizer=None), _RealValuedColumn(column_name='1184', dimension=1, default_value=None, dtype=tf.float32, normalizer=None), _RealValuedColumn(column_name='1185', dimension=1, default_value=None, dtype=tf.float32, normalizer=None), _RealValuedColumn(column_name='1186', dimension=1, default_value=None, dtype=tf.float32, normalizer=None), _RealValuedColumn(column_name='1187', dimension=1, default_value=None, dtype=tf.float32, normalizer=None), _RealValuedColumn(column_name='1188', dimension=1, default_value=None, dtype=tf.float32, normalizer=None), _RealValuedColumn(column_name='1189', dimension=1, default_value=None, dtype=tf.float32, normalizer=None), _RealValuedColumn(column_name='1190', dimension=1, default_value=None, dtype=tf.float32, normalizer=None), _RealValuedColumn(column_name='1191', dimension=1, default_value=None, dtype=tf.float32, normalizer=None), _RealValuedColumn(column_name='1192', dimension=1, default_value=None, dtype=tf.float32, normalizer=None), _RealValuedColumn(column_name='1193', dimension=1, default_value=None, dtype=tf.float32, normalizer=None), _RealValuedColumn(column_name='1194', dimension=1, default_value=None, dtype=tf.float32, normalizer=None), _RealValuedColumn(column_name='1195', dimension=1, default_value=None, dtype=tf.float32, normalizer=None), _RealValuedColumn(column_name='1196', dimension=1, default_value=None, dtype=tf.float32, normalizer=None), _RealValuedColumn(column_name='1197', dimension=1, default_value=None, dtype=tf.float32, normalizer=None), _RealValuedColumn(column_name='1198', dimension=1, default_value=None, dtype=tf.float32, normalizer=None), _RealValuedColumn(column_name='1199', dimension=1, default_value=None, dtype=tf.float32, normalizer=None), _RealValuedColumn(column_name='1200', dimension=1, default_value=None, dtype=tf.float32, normalizer=None), _RealValuedColumn(column_name='1201', dimension=1, default_value=None, dtype=tf.float32, normalizer=None), _RealValuedColumn(column_name='1202', dimension=1, default_value=None, dtype=tf.float32, normalizer=None), _RealValuedColumn(column_name='1203', dimension=1, default_value=None, dtype=tf.float32, normalizer=None), _RealValuedColumn(column_name='1204', dimension=1, default_value=None, dtype=tf.float32, normalizer=None), _RealValuedColumn(column_name='1205', dimension=1, default_value=None, dtype=tf.float32, normalizer=None), _RealValuedColumn(column_name='1206', dimension=1, default_value=None, dtype=tf.float32, normalizer=None), _RealValuedColumn(column_name='1207', dimension=1, default_value=None, dtype=tf.float32, normalizer=None), _RealValuedColumn(column_name='1208', dimension=1, default_value=None, dtype=tf.float32, normalizer=None), _RealValuedColumn(column_name='1209', dimension=1, default_value=None, dtype=tf.float32, normalizer=None), _RealValuedColumn(column_name='1210', dimension=1, default_value=None, dtype=tf.float32, normalizer=None), _RealValuedColumn(column_name='1211', dimension=1, default_value=None, dtype=tf.float32, normalizer=None), _RealValuedColumn(column_name='1212', dimension=1, default_value=None, dtype=tf.float32, normalizer=None), _RealValuedColumn(column_name='1213', dimension=1, default_value=None, dtype=tf.float32, normalizer=None), _RealValuedColumn(column_name='1214', dimension=1, default_value=None, dtype=tf.float32, normalizer=None), _RealValuedColumn(column_name='1215', dimension=1, default_value=None, dtype=tf.float32, normalizer=None), _RealValuedColumn(column_name='1216', dimension=1, default_value=None, dtype=tf.float32, normalizer=None), _RealValuedColumn(column_name='1217', dimension=1, default_value=None, dtype=tf.float32, normalizer=None), _RealValuedColumn(column_name='1218', dimension=1, default_value=None, dtype=tf.float32, normalizer=None), _RealValuedColumn(column_name='1219', dimension=1, default_value=None, dtype=tf.float32, normalizer=None), _RealValuedColumn(column_name='1220', dimension=1, default_value=None, dtype=tf.float32, normalizer=None), _RealValuedColumn(column_name='1221', dimension=1, default_value=None, dtype=tf.float32, normalizer=None), _RealValuedColumn(column_name='1222', dimension=1, default_value=None, dtype=tf.float32, normalizer=None), _RealValuedColumn(column_name='1223', dimension=1, default_value=None, dtype=tf.float32, normalizer=None), _RealValuedColumn(column_name='1224', dimension=1, default_value=None, dtype=tf.float32, normalizer=None), _RealValuedColumn(column_name='1225', dimension=1, default_value=None, dtype=tf.float32, normalizer=None), _RealValuedColumn(column_name='1226', dimension=1, default_value=None, dtype=tf.float32, normalizer=None), _RealValuedColumn(column_name='1227', dimension=1, default_value=None, dtype=tf.float32, normalizer=None), _RealValuedColumn(column_name='1228', dimension=1, default_value=None, dtype=tf.float32, normalizer=None), _RealValuedColumn(column_name='1229', dimension=1, default_value=None, dtype=tf.float32, normalizer=None), _RealValuedColumn(column_name='1230', dimension=1, default_value=None, dtype=tf.float32, normalizer=None), _RealValuedColumn(column_name='1231', dimension=1, default_value=None, dtype=tf.float32, normalizer=None), _RealValuedColumn(column_name='1232', dimension=1, default_value=None, dtype=tf.float32, normalizer=None), _RealValuedColumn(column_name='1233', dimension=1, default_value=None, dtype=tf.float32, normalizer=None), _RealValuedColumn(column_name='1234', dimension=1, default_value=None, dtype=tf.float32, normalizer=None), _RealValuedColumn(column_name='1235', dimension=1, default_value=None, dtype=tf.float32, normalizer=None), _RealValuedColumn(column_name='1236', dimension=1, default_value=None, dtype=tf.float32, normalizer=None), _RealValuedColumn(column_name='1237', dimension=1, default_value=None, dtype=tf.float32, normalizer=None), _RealValuedColumn(column_name='1238', dimension=1, default_value=None, dtype=tf.float32, normalizer=None), _RealValuedColumn(column_name='1239', dimension=1, default_value=None, dtype=tf.float32, normalizer=None), _RealValuedColumn(column_name='1240', dimension=1, default_value=None, dtype=tf.float32, normalizer=None), _RealValuedColumn(column_name='1241', dimension=1, default_value=None, dtype=tf.float32, normalizer=None), _RealValuedColumn(column_name='1242', dimension=1, default_value=None, dtype=tf.float32, normalizer=None), _RealValuedColumn(column_name='1243', dimension=1, default_value=None, dtype=tf.float32, normalizer=None), _RealValuedColumn(column_name='1244', dimension=1, default_value=None, dtype=tf.float32, normalizer=None), _RealValuedColumn(column_name='1245', dimension=1, default_value=None, dtype=tf.float32, normalizer=None), _RealValuedColumn(column_name='1246', dimension=1, default_value=None, dtype=tf.float32, normalizer=None), _RealValuedColumn(column_name='1247', dimension=1, default_value=None, dtype=tf.float32, normalizer=None), _RealValuedColumn(column_name='1248', dimension=1, default_value=None, dtype=tf.float32, normalizer=None), _RealValuedColumn(column_name='1249', dimension=1, default_value=None, dtype=tf.float32, normalizer=None), _RealValuedColumn(column_name='1250', dimension=1, default_value=None, dtype=tf.float32, normalizer=None), _RealValuedColumn(column_name='1251', dimension=1, default_value=None, dtype=tf.float32, normalizer=None), _RealValuedColumn(column_name='1252', dimension=1, default_value=None, dtype=tf.float32, normalizer=None), _RealValuedColumn(column_name='1253', dimension=1, default_value=None, dtype=tf.float32, normalizer=None), _RealValuedColumn(column_name='1254', dimension=1, default_value=None, dtype=tf.float32, normalizer=None), _RealValuedColumn(column_name='1255', dimension=1, default_value=None, dtype=tf.float32, normalizer=None), _RealValuedColumn(column_name='1256', dimension=1, default_value=None, dtype=tf.float32, normalizer=None), _RealValuedColumn(column_name='1257', dimension=1, default_value=None, dtype=tf.float32, normalizer=None), _RealValuedColumn(column_name='1258', dimension=1, default_value=None, dtype=tf.float32, normalizer=None), _RealValuedColumn(column_name='1259', dimension=1, default_value=None, dtype=tf.float32, normalizer=None), _RealValuedColumn(column_name='1260', dimension=1, default_value=None, dtype=tf.float32, normalizer=None), _RealValuedColumn(column_name='1261', dimension=1, default_value=None, dtype=tf.float32, normalizer=None), _RealValuedColumn(column_name='1262', dimension=1, default_value=None, dtype=tf.float32, normalizer=None), _RealValuedColumn(column_name='1263', dimension=1, default_value=None, dtype=tf.float32, normalizer=None), _RealValuedColumn(column_name='1264', dimension=1, default_value=None, dtype=tf.float32, normalizer=None), _RealValuedColumn(column_name='1265', dimension=1, default_value=None, dtype=tf.float32, normalizer=None), _RealValuedColumn(column_name='1266', dimension=1, default_value=None, dtype=tf.float32, normalizer=None), _RealValuedColumn(column_name='1267', dimension=1, default_value=None, dtype=tf.float32, normalizer=None), _RealValuedColumn(column_name='1268', dimension=1, default_value=None, dtype=tf.float32, normalizer=None), _RealValuedColumn(column_name='1269', dimension=1, default_value=None, dtype=tf.float32, normalizer=None), _RealValuedColumn(column_name='1270', dimension=1, default_value=None, dtype=tf.float32, normalizer=None), _RealValuedColumn(column_name='1271', dimension=1, default_value=None, dtype=tf.float32, normalizer=None), _RealValuedColumn(column_name='1272', dimension=1, default_value=None, dtype=tf.float32, normalizer=None), _RealValuedColumn(column_name='1273', dimension=1, default_value=None, dtype=tf.float32, normalizer=None), _RealValuedColumn(column_name='1274', dimension=1, default_value=None, dtype=tf.float32, normalizer=None), _RealValuedColumn(column_name='1275', dimension=1, default_value=None, dtype=tf.float32, normalizer=None), _RealValuedColumn(column_name='1276', dimension=1, default_value=None, dtype=tf.float32, normalizer=None), _RealValuedColumn(column_name='1277', dimension=1, default_value=None, dtype=tf.float32, normalizer=None), _RealValuedColumn(column_name='1278', dimension=1, default_value=None, dtype=tf.float32, normalizer=None), _RealValuedColumn(column_name='1279', dimension=1, default_value=None, dtype=tf.float32, normalizer=None), _RealValuedColumn(column_name='1280', dimension=1, default_value=None, dtype=tf.float32, normalizer=None), _RealValuedColumn(column_name='1281', dimension=1, default_value=None, dtype=tf.float32, normalizer=None), _RealValuedColumn(column_name='1282', dimension=1, default_value=None, dtype=tf.float32, normalizer=None), _RealValuedColumn(column_name='1283', dimension=1, default_value=None, dtype=tf.float32, normalizer=None), _RealValuedColumn(column_name='1284', dimension=1, default_value=None, dtype=tf.float32, normalizer=None), _RealValuedColumn(column_name='1285', dimension=1, default_value=None, dtype=tf.float32, normalizer=None), _RealValuedColumn(column_name='1286', dimension=1, default_value=None, dtype=tf.float32, normalizer=None), _RealValuedColumn(column_name='1287', dimension=1, default_value=None, dtype=tf.float32, normalizer=None), _RealValuedColumn(column_name='1288', dimension=1, default_value=None, dtype=tf.float32, normalizer=None), _RealValuedColumn(column_name='1289', dimension=1, default_value=None, dtype=tf.float32, normalizer=None), _RealValuedColumn(column_name='1290', dimension=1, default_value=None, dtype=tf.float32, normalizer=None), _RealValuedColumn(column_name='1291', dimension=1, default_value=None, dtype=tf.float32, normalizer=None), _RealValuedColumn(column_name='1292', dimension=1, default_value=None, dtype=tf.float32, normalizer=None), _RealValuedColumn(column_name='1293', dimension=1, default_value=None, dtype=tf.float32, normalizer=None), _RealValuedColumn(column_name='1294', dimension=1, default_value=None, dtype=tf.float32, normalizer=None), _RealValuedColumn(column_name='1295', dimension=1, default_value=None, dtype=tf.float32, normalizer=None), _RealValuedColumn(column_name='1296', dimension=1, default_value=None, dtype=tf.float32, normalizer=None), _RealValuedColumn(column_name='1297', dimension=1, default_value=None, dtype=tf.float32, normalizer=None), _RealValuedColumn(column_name='1298', dimension=1, default_value=None, dtype=tf.float32, normalizer=None), _RealValuedColumn(column_name='1299', dimension=1, default_value=None, dtype=tf.float32, normalizer=None), _RealValuedColumn(column_name='1300', dimension=1, default_value=None, dtype=tf.float32, normalizer=None), _RealValuedColumn(column_name='1301', dimension=1, default_value=None, dtype=tf.float32, normalizer=None), _RealValuedColumn(column_name='1302', dimension=1, default_value=None, dtype=tf.float32, normalizer=None), _RealValuedColumn(column_name='1303', dimension=1, default_value=None, dtype=tf.float32, normalizer=None), _RealValuedColumn(column_name='1304', dimension=1, default_value=None, dtype=tf.float32, normalizer=None), _RealValuedColumn(column_name='1305', dimension=1, default_value=None, dtype=tf.float32, normalizer=None), _RealValuedColumn(column_name='1306', dimension=1, default_value=None, dtype=tf.float32, normalizer=None), _RealValuedColumn(column_name='1307', dimension=1, default_value=None, dtype=tf.float32, normalizer=None), _RealValuedColumn(column_name='1308', dimension=1, default_value=None, dtype=tf.float32, normalizer=None), _RealValuedColumn(column_name='1309', dimension=1, default_value=None, dtype=tf.float32, normalizer=None), _RealValuedColumn(column_name='1310', dimension=1, default_value=None, dtype=tf.float32, normalizer=None), _RealValuedColumn(column_name='1311', dimension=1, default_value=None, dtype=tf.float32, normalizer=None), _RealValuedColumn(column_name='1312', dimension=1, default_value=None, dtype=tf.float32, normalizer=None), _RealValuedColumn(column_name='1313', dimension=1, default_value=None, dtype=tf.float32, normalizer=None), _RealValuedColumn(column_name='1314', dimension=1, default_value=None, dtype=tf.float32, normalizer=None), _RealValuedColumn(column_name='1315', dimension=1, default_value=None, dtype=tf.float32, normalizer=None), _RealValuedColumn(column_name='1316', dimension=1, default_value=None, dtype=tf.float32, normalizer=None), _RealValuedColumn(column_name='1317', dimension=1, default_value=None, dtype=tf.float32, normalizer=None), _RealValuedColumn(column_name='1318', dimension=1, default_value=None, dtype=tf.float32, normalizer=None), _RealValuedColumn(column_name='1319', dimension=1, default_value=None, dtype=tf.float32, normalizer=None), _RealValuedColumn(column_name='1320', dimension=1, default_value=None, dtype=tf.float32, normalizer=None), _RealValuedColumn(column_name='1321', dimension=1, default_value=None, dtype=tf.float32, normalizer=None), _RealValuedColumn(column_name='1322', dimension=1, default_value=None, dtype=tf.float32, normalizer=None), _RealValuedColumn(column_name='1323', dimension=1, default_value=None, dtype=tf.float32, normalizer=None), _RealValuedColumn(column_name='1324', dimension=1, default_value=None, dtype=tf.float32, normalizer=None), _RealValuedColumn(column_name='1325', dimension=1, default_value=None, dtype=tf.float32, normalizer=None), _RealValuedColumn(column_name='1326', dimension=1, default_value=None, dtype=tf.float32, normalizer=None), _RealValuedColumn(column_name='1327', dimension=1, default_value=None, dtype=tf.float32, normalizer=None), _RealValuedColumn(column_name='1328', dimension=1, default_value=None, dtype=tf.float32, normalizer=None), _RealValuedColumn(column_name='1329', dimension=1, default_value=None, dtype=tf.float32, normalizer=None), _RealValuedColumn(column_name='1330', dimension=1, default_value=None, dtype=tf.float32, normalizer=None), _RealValuedColumn(column_name='1331', dimension=1, default_value=None, dtype=tf.float32, normalizer=None), _RealValuedColumn(column_name='1332', dimension=1, default_value=None, dtype=tf.float32, normalizer=None), _RealValuedColumn(column_name='1333', dimension=1, default_value=None, dtype=tf.float32, normalizer=None), _RealValuedColumn(column_name='1334', dimension=1, default_value=None, dtype=tf.float32, normalizer=None), _RealValuedColumn(column_name='1335', dimension=1, default_value=None, dtype=tf.float32, normalizer=None), _RealValuedColumn(column_name='1336', dimension=1, default_value=None, dtype=tf.float32, normalizer=None), _RealValuedColumn(column_name='1337', dimension=1, default_value=None, dtype=tf.float32, normalizer=None), _RealValuedColumn(column_name='1338', dimension=1, default_value=None, dtype=tf.float32, normalizer=None), _RealValuedColumn(column_name='1339', dimension=1, default_value=None, dtype=tf.float32, normalizer=None), _RealValuedColumn(column_name='1340', dimension=1, default_value=None, dtype=tf.float32, normalizer=None), _RealValuedColumn(column_name='1341', dimension=1, default_value=None, dtype=tf.float32, normalizer=None), _RealValuedColumn(column_name='1342', dimension=1, default_value=None, dtype=tf.float32, normalizer=None), _RealValuedColumn(column_name='1343', dimension=1, default_value=None, dtype=tf.float32, normalizer=None), _RealValuedColumn(column_name='1344', dimension=1, default_value=None, dtype=tf.float32, normalizer=None), _RealValuedColumn(column_name='1345', dimension=1, default_value=None, dtype=tf.float32, normalizer=None), _RealValuedColumn(column_name='1346', dimension=1, default_value=None, dtype=tf.float32, normalizer=None), _RealValuedColumn(column_name='1347', dimension=1, default_value=None, dtype=tf.float32, normalizer=None), _RealValuedColumn(column_name='1348', dimension=1, default_value=None, dtype=tf.float32, normalizer=None), _RealValuedColumn(column_name='1349', dimension=1, default_value=None, dtype=tf.float32, normalizer=None), _RealValuedColumn(column_name='1350', dimension=1, default_value=None, dtype=tf.float32, normalizer=None), _RealValuedColumn(column_name='1351', dimension=1, default_value=None, dtype=tf.float32, normalizer=None), _RealValuedColumn(column_name='1352', dimension=1, default_value=None, dtype=tf.float32, normalizer=None), _RealValuedColumn(column_name='1353', dimension=1, default_value=None, dtype=tf.float32, normalizer=None), _RealValuedColumn(column_name='1354', dimension=1, default_value=None, dtype=tf.float32, normalizer=None), _RealValuedColumn(column_name='1355', dimension=1, default_value=None, dtype=tf.float32, normalizer=None), _RealValuedColumn(column_name='1356', dimension=1, default_value=None, dtype=tf.float32, normalizer=None), _RealValuedColumn(column_name='1357', dimension=1, default_value=None, dtype=tf.float32, normalizer=None), _RealValuedColumn(column_name='1358', dimension=1, default_value=None, dtype=tf.float32, normalizer=None), _RealValuedColumn(column_name='1359', dimension=1, default_value=None, dtype=tf.float32, normalizer=None), _RealValuedColumn(column_name='1360', dimension=1, default_value=None, dtype=tf.float32, normalizer=None), _RealValuedColumn(column_name='1361', dimension=1, default_value=None, dtype=tf.float32, normalizer=None), _RealValuedColumn(column_name='1362', dimension=1, default_value=None, dtype=tf.float32, normalizer=None), _RealValuedColumn(column_name='1363', dimension=1, default_value=None, dtype=tf.float32, normalizer=None), _RealValuedColumn(column_name='1364', dimension=1, default_value=None, dtype=tf.float32, normalizer=None), _RealValuedColumn(column_name='1365', dimension=1, default_value=None, dtype=tf.float32, normalizer=None), _RealValuedColumn(column_name='1366', dimension=1, default_value=None, dtype=tf.float32, normalizer=None), _RealValuedColumn(column_name='1367', dimension=1, default_value=None, dtype=tf.float32, normalizer=None), _RealValuedColumn(column_name='1368', dimension=1, default_value=None, dtype=tf.float32, normalizer=None), _RealValuedColumn(column_name='1369', dimension=1, default_value=None, dtype=tf.float32, normalizer=None), _RealValuedColumn(column_name='1370', dimension=1, default_value=None, dtype=tf.float32, normalizer=None), _RealValuedColumn(column_name='1371', dimension=1, default_value=None, dtype=tf.float32, normalizer=None), _RealValuedColumn(column_name='1372', dimension=1, default_value=None, dtype=tf.float32, normalizer=None), _RealValuedColumn(column_name='1373', dimension=1, default_value=None, dtype=tf.float32, normalizer=None), _RealValuedColumn(column_name='1374', dimension=1, default_value=None, dtype=tf.float32, normalizer=None), _RealValuedColumn(column_name='1375', dimension=1, default_value=None, dtype=tf.float32, normalizer=None), _RealValuedColumn(column_name='1376', dimension=1, default_value=None, dtype=tf.float32, normalizer=None), _RealValuedColumn(column_name='1377', dimension=1, default_value=None, dtype=tf.float32, normalizer=None), _RealValuedColumn(column_name='1378', dimension=1, default_value=None, dtype=tf.float32, normalizer=None), _RealValuedColumn(column_name='1379', dimension=1, default_value=None, dtype=tf.float32, normalizer=None), _RealValuedColumn(column_name='1380', dimension=1, default_value=None, dtype=tf.float32, normalizer=None), _RealValuedColumn(column_name='1381', dimension=1, default_value=None, dtype=tf.float32, normalizer=None), _RealValuedColumn(column_name='1382', dimension=1, default_value=None, dtype=tf.float32, normalizer=None), _RealValuedColumn(column_name='1383', dimension=1, default_value=None, dtype=tf.float32, normalizer=None), _RealValuedColumn(column_name='1384', dimension=1, default_value=None, dtype=tf.float32, normalizer=None), _RealValuedColumn(column_name='1385', dimension=1, default_value=None, dtype=tf.float32, normalizer=None), _RealValuedColumn(column_name='1386', dimension=1, default_value=None, dtype=tf.float32, normalizer=None), _RealValuedColumn(column_name='1387', dimension=1, default_value=None, dtype=tf.float32, normalizer=None), _RealValuedColumn(column_name='1388', dimension=1, default_value=None, dtype=tf.float32, normalizer=None), _RealValuedColumn(column_name='1389', dimension=1, default_value=None, dtype=tf.float32, normalizer=None), _RealValuedColumn(column_name='1390', dimension=1, default_value=None, dtype=tf.float32, normalizer=None), _RealValuedColumn(column_name='1391', dimension=1, default_value=None, dtype=tf.float32, normalizer=None), _RealValuedColumn(column_name='1392', dimension=1, default_value=None, dtype=tf.float32, normalizer=None), _RealValuedColumn(column_name='1393', dimension=1, default_value=None, dtype=tf.float32, normalizer=None), _RealValuedColumn(column_name='1394', dimension=1, default_value=None, dtype=tf.float32, normalizer=None), _RealValuedColumn(column_name='1395', dimension=1, default_value=None, dtype=tf.float32, normalizer=None), _RealValuedColumn(column_name='1396', dimension=1, default_value=None, dtype=tf.float32, normalizer=None), _RealValuedColumn(column_name='1397', dimension=1, default_value=None, dtype=tf.float32, normalizer=None), _RealValuedColumn(column_name='1398', dimension=1, default_value=None, dtype=tf.float32, normalizer=None), _RealValuedColumn(column_name='1399', dimension=1, default_value=None, dtype=tf.float32, normalizer=None), _RealValuedColumn(column_name='1400', dimension=1, default_value=None, dtype=tf.float32, normalizer=None), _RealValuedColumn(column_name='1401', dimension=1, default_value=None, dtype=tf.float32, normalizer=None), _RealValuedColumn(column_name='1402', dimension=1, default_value=None, dtype=tf.float32, normalizer=None), _RealValuedColumn(column_name='1403', dimension=1, default_value=None, dtype=tf.float32, normalizer=None), _RealValuedColumn(column_name='1404', dimension=1, default_value=None, dtype=tf.float32, normalizer=None), _RealValuedColumn(column_name='1405', dimension=1, default_value=None, dtype=tf.float32, normalizer=None), _RealValuedColumn(column_name='1406', dimension=1, default_value=None, dtype=tf.float32, normalizer=None), _RealValuedColumn(column_name='1407', dimension=1, default_value=None, dtype=tf.float32, normalizer=None), _RealValuedColumn(column_name='1408', dimension=1, default_value=None, dtype=tf.float32, normalizer=None), _RealValuedColumn(column_name='1409', dimension=1, default_value=None, dtype=tf.float32, normalizer=None), _RealValuedColumn(column_name='1410', dimension=1, default_value=None, dtype=tf.float32, normalizer=None), _RealValuedColumn(column_name='1411', dimension=1, default_value=None, dtype=tf.float32, normalizer=None), _RealValuedColumn(column_name='1412', dimension=1, default_value=None, dtype=tf.float32, normalizer=None), _RealValuedColumn(column_name='1413', dimension=1, default_value=None, dtype=tf.float32, normalizer=None), _RealValuedColumn(column_name='1414', dimension=1, default_value=None, dtype=tf.float32, normalizer=None), _RealValuedColumn(column_name='1415', dimension=1, default_value=None, dtype=tf.float32, normalizer=None), _RealValuedColumn(column_name='1416', dimension=1, default_value=None, dtype=tf.float32, normalizer=None), _RealValuedColumn(column_name='1417', dimension=1, default_value=None, dtype=tf.float32, normalizer=None), _RealValuedColumn(column_name='1418', dimension=1, default_value=None, dtype=tf.float32, normalizer=None), _RealValuedColumn(column_name='1419', dimension=1, default_value=None, dtype=tf.float32, normalizer=None), _RealValuedColumn(column_name='1420', dimension=1, default_value=None, dtype=tf.float32, normalizer=None), _RealValuedColumn(column_name='1421', dimension=1, default_value=None, dtype=tf.float32, normalizer=None), _RealValuedColumn(column_name='1422', dimension=1, default_value=None, dtype=tf.float32, normalizer=None), _RealValuedColumn(column_name='1423', dimension=1, default_value=None, dtype=tf.float32, normalizer=None), _RealValuedColumn(column_name='1424', dimension=1, default_value=None, dtype=tf.float32, normalizer=None), _RealValuedColumn(column_name='1425', dimension=1, default_value=None, dtype=tf.float32, normalizer=None), _RealValuedColumn(column_name='1426', dimension=1, default_value=None, dtype=tf.float32, normalizer=None), _RealValuedColumn(column_name='1427', dimension=1, default_value=None, dtype=tf.float32, normalizer=None), _RealValuedColumn(column_name='1428', dimension=1, default_value=None, dtype=tf.float32, normalizer=None), _RealValuedColumn(column_name='1429', dimension=1, default_value=None, dtype=tf.float32, normalizer=None), _RealValuedColumn(column_name='1430', dimension=1, default_value=None, dtype=tf.float32, normalizer=None), _RealValuedColumn(column_name='1431', dimension=1, default_value=None, dtype=tf.float32, normalizer=None), _RealValuedColumn(column_name='1432', dimension=1, default_value=None, dtype=tf.float32, normalizer=None), _RealValuedColumn(column_name='1433', dimension=1, default_value=None, dtype=tf.float32, normalizer=None), _RealValuedColumn(column_name='1434', dimension=1, default_value=None, dtype=tf.float32, normalizer=None), _RealValuedColumn(column_name='1435', dimension=1, default_value=None, dtype=tf.float32, normalizer=None), _RealValuedColumn(column_name='1436', dimension=1, default_value=None, dtype=tf.float32, normalizer=None), _RealValuedColumn(column_name='1437', dimension=1, default_value=None, dtype=tf.float32, normalizer=None), _RealValuedColumn(column_name='1438', dimension=1, default_value=None, dtype=tf.float32, normalizer=None), _RealValuedColumn(column_name='1439', dimension=1, default_value=None, dtype=tf.float32, normalizer=None), _RealValuedColumn(column_name='1440', dimension=1, default_value=None, dtype=tf.float32, normalizer=None), _RealValuedColumn(column_name='1441', dimension=1, default_value=None, dtype=tf.float32, normalizer=None), _RealValuedColumn(column_name='1442', dimension=1, default_value=None, dtype=tf.float32, normalizer=None), _RealValuedColumn(column_name='1443', dimension=1, default_value=None, dtype=tf.float32, normalizer=None), _RealValuedColumn(column_name='1444', dimension=1, default_value=None, dtype=tf.float32, normalizer=None), _RealValuedColumn(column_name='1445', dimension=1, default_value=None, dtype=tf.float32, normalizer=None), _RealValuedColumn(column_name='1446', dimension=1, default_value=None, dtype=tf.float32, normalizer=None), _RealValuedColumn(column_name='1447', dimension=1, default_value=None, dtype=tf.float32, normalizer=None), _RealValuedColumn(column_name='1448', dimension=1, default_value=None, dtype=tf.float32, normalizer=None), _RealValuedColumn(column_name='1449', dimension=1, default_value=None, dtype=tf.float32, normalizer=None), _RealValuedColumn(column_name='1450', dimension=1, default_value=None, dtype=tf.float32, normalizer=None), _RealValuedColumn(column_name='1451', dimension=1, default_value=None, dtype=tf.float32, normalizer=None), _RealValuedColumn(column_name='1452', dimension=1, default_value=None, dtype=tf.float32, normalizer=None), _RealValuedColumn(column_name='1453', dimension=1, default_value=None, dtype=tf.float32, normalizer=None), _RealValuedColumn(column_name='1454', dimension=1, default_value=None, dtype=tf.float32, normalizer=None), _RealValuedColumn(column_name='1455', dimension=1, default_value=None, dtype=tf.float32, normalizer=None), _RealValuedColumn(column_name='1456', dimension=1, default_value=None, dtype=tf.float32, normalizer=None), _RealValuedColumn(column_name='1457', dimension=1, default_value=None, dtype=tf.float32, normalizer=None), _RealValuedColumn(column_name='1458', dimension=1, default_value=None, dtype=tf.float32, normalizer=None), _RealValuedColumn(column_name='1459', dimension=1, default_value=None, dtype=tf.float32, normalizer=None), _RealValuedColumn(column_name='1460', dimension=1, default_value=None, dtype=tf.float32, normalizer=None), _RealValuedColumn(column_name='1461', dimension=1, default_value=None, dtype=tf.float32, normalizer=None), _RealValuedColumn(column_name='1462', dimension=1, default_value=None, dtype=tf.float32, normalizer=None), _RealValuedColumn(column_name='1463', dimension=1, default_value=None, dtype=tf.float32, normalizer=None), _RealValuedColumn(column_name='1464', dimension=1, default_value=None, dtype=tf.float32, normalizer=None), _RealValuedColumn(column_name='1465', dimension=1, default_value=None, dtype=tf.float32, normalizer=None), _RealValuedColumn(column_name='1466', dimension=1, default_value=None, dtype=tf.float32, normalizer=None), _RealValuedColumn(column_name='1467', dimension=1, default_value=None, dtype=tf.float32, normalizer=None), _RealValuedColumn(column_name='1468', dimension=1, default_value=None, dtype=tf.float32, normalizer=None), _RealValuedColumn(column_name='1469', dimension=1, default_value=None, dtype=tf.float32, normalizer=None), _RealValuedColumn(column_name='1470', dimension=1, default_value=None, dtype=tf.float32, normalizer=None), _RealValuedColumn(column_name='1471', dimension=1, default_value=None, dtype=tf.float32, normalizer=None), _RealValuedColumn(column_name='1472', dimension=1, default_value=None, dtype=tf.float32, normalizer=None), _RealValuedColumn(column_name='1473', dimension=1, default_value=None, dtype=tf.float32, normalizer=None), _RealValuedColumn(column_name='1474', dimension=1, default_value=None, dtype=tf.float32, normalizer=None), _RealValuedColumn(column_name='1475', dimension=1, default_value=None, dtype=tf.float32, normalizer=None), _RealValuedColumn(column_name='1476', dimension=1, default_value=None, dtype=tf.float32, normalizer=None), _RealValuedColumn(column_name='1477', dimension=1, default_value=None, dtype=tf.float32, normalizer=None), _RealValuedColumn(column_name='1478', dimension=1, default_value=None, dtype=tf.float32, normalizer=None), _RealValuedColumn(column_name='1479', dimension=1, default_value=None, dtype=tf.float32, normalizer=None), _RealValuedColumn(column_name='1480', dimension=1, default_value=None, dtype=tf.float32, normalizer=None), _RealValuedColumn(column_name='1481', dimension=1, default_value=None, dtype=tf.float32, normalizer=None), _RealValuedColumn(column_name='1482', dimension=1, default_value=None, dtype=tf.float32, normalizer=None), _RealValuedColumn(column_name='1483', dimension=1, default_value=None, dtype=tf.float32, normalizer=None), _RealValuedColumn(column_name='1484', dimension=1, default_value=None, dtype=tf.float32, normalizer=None), _RealValuedColumn(column_name='1485', dimension=1, default_value=None, dtype=tf.float32, normalizer=None), _RealValuedColumn(column_name='1486', dimension=1, default_value=None, dtype=tf.float32, normalizer=None), _RealValuedColumn(column_name='1487', dimension=1, default_value=None, dtype=tf.float32, normalizer=None), _RealValuedColumn(column_name='1488', dimension=1, default_value=None, dtype=tf.float32, normalizer=None), _RealValuedColumn(column_name='1489', dimension=1, default_value=None, dtype=tf.float32, normalizer=None), _RealValuedColumn(column_name='1490', dimension=1, default_value=None, dtype=tf.float32, normalizer=None), _RealValuedColumn(column_name='1491', dimension=1, default_value=None, dtype=tf.float32, normalizer=None), _RealValuedColumn(column_name='1492', dimension=1, default_value=None, dtype=tf.float32, normalizer=None), _RealValuedColumn(column_name='1493', dimension=1, default_value=None, dtype=tf.float32, normalizer=None), _RealValuedColumn(column_name='1494', dimension=1, default_value=None, dtype=tf.float32, normalizer=None), _RealValuedColumn(column_name='1495', dimension=1, default_value=None, dtype=tf.float32, normalizer=None), _RealValuedColumn(column_name='1496', dimension=1, default_value=None, dtype=tf.float32, normalizer=None), _RealValuedColumn(column_name='1497', dimension=1, default_value=None, dtype=tf.float32, normalizer=None), _RealValuedColumn(column_name='1498', dimension=1, default_value=None, dtype=tf.float32, normalizer=None), _RealValuedColumn(column_name='1499', dimension=1, default_value=None, dtype=tf.float32, normalizer=None), _RealValuedColumn(column_name='1500', dimension=1, default_value=None, dtype=tf.float32, normalizer=None), _RealValuedColumn(column_name='1501', dimension=1, default_value=None, dtype=tf.float32, normalizer=None), _RealValuedColumn(column_name='1502', dimension=1, default_value=None, dtype=tf.float32, normalizer=None), _RealValuedColumn(column_name='1503', dimension=1, default_value=None, dtype=tf.float32, normalizer=None), _RealValuedColumn(column_name='1504', dimension=1, default_value=None, dtype=tf.float32, normalizer=None), _RealValuedColumn(column_name='1505', dimension=1, default_value=None, dtype=tf.float32, normalizer=None), _RealValuedColumn(column_name='1506', dimension=1, default_value=None, dtype=tf.float32, normalizer=None), _RealValuedColumn(column_name='1507', dimension=1, default_value=None, dtype=tf.float32, normalizer=None), _RealValuedColumn(column_name='1508', dimension=1, default_value=None, dtype=tf.float32, normalizer=None), _RealValuedColumn(column_name='1509', dimension=1, default_value=None, dtype=tf.float32, normalizer=None), _RealValuedColumn(column_name='1510', dimension=1, default_value=None, dtype=tf.float32, normalizer=None), _RealValuedColumn(column_name='1511', dimension=1, default_value=None, dtype=tf.float32, normalizer=None), _RealValuedColumn(column_name='1512', dimension=1, default_value=None, dtype=tf.float32, normalizer=None), _RealValuedColumn(column_name='1513', dimension=1, default_value=None, dtype=tf.float32, normalizer=None), _RealValuedColumn(column_name='1514', dimension=1, default_value=None, dtype=tf.float32, normalizer=None), _RealValuedColumn(column_name='1515', dimension=1, default_value=None, dtype=tf.float32, normalizer=None), _RealValuedColumn(column_name='1516', dimension=1, default_value=None, dtype=tf.float32, normalizer=None), _RealValuedColumn(column_name='1517', dimension=1, default_value=None, dtype=tf.float32, normalizer=None), _RealValuedColumn(column_name='1518', dimension=1, default_value=None, dtype=tf.float32, normalizer=None), _RealValuedColumn(column_name='1519', dimension=1, default_value=None, dtype=tf.float32, normalizer=None), _RealValuedColumn(column_name='1520', dimension=1, default_value=None, dtype=tf.float32, normalizer=None), _RealValuedColumn(column_name='1521', dimension=1, default_value=None, dtype=tf.float32, normalizer=None), _RealValuedColumn(column_name='1522', dimension=1, default_value=None, dtype=tf.float32, normalizer=None), _RealValuedColumn(column_name='1523', dimension=1, default_value=None, dtype=tf.float32, normalizer=None), _RealValuedColumn(column_name='1524', dimension=1, default_value=None, dtype=tf.float32, normalizer=None), _RealValuedColumn(column_name='1525', dimension=1, default_value=None, dtype=tf.float32, normalizer=None), _RealValuedColumn(column_name='1526', dimension=1, default_value=None, dtype=tf.float32, normalizer=None), _RealValuedColumn(column_name='1527', dimension=1, default_value=None, dtype=tf.float32, normalizer=None), _RealValuedColumn(column_name='1528', dimension=1, default_value=None, dtype=tf.float32, normalizer=None), _RealValuedColumn(column_name='1529', dimension=1, default_value=None, dtype=tf.float32, normalizer=None), _RealValuedColumn(column_name='1530', dimension=1, default_value=None, dtype=tf.float32, normalizer=None), _RealValuedColumn(column_name='1531', dimension=1, default_value=None, dtype=tf.float32, normalizer=None), _RealValuedColumn(column_name='1532', dimension=1, default_value=None, dtype=tf.float32, normalizer=None), _RealValuedColumn(column_name='1533', dimension=1, default_value=None, dtype=tf.float32, normalizer=None), _RealValuedColumn(column_name='1534', dimension=1, default_value=None, dtype=tf.float32, normalizer=None), _RealValuedColumn(column_name='1535', dimension=1, default_value=None, dtype=tf.float32, normalizer=None), _RealValuedColumn(column_name='1536', dimension=1, default_value=None, dtype=tf.float32, normalizer=None), _RealValuedColumn(column_name='1537', dimension=1, default_value=None, dtype=tf.float32, normalizer=None), _RealValuedColumn(column_name='1538', dimension=1, default_value=None, dtype=tf.float32, normalizer=None), _RealValuedColumn(column_name='1539', dimension=1, default_value=None, dtype=tf.float32, normalizer=None), _RealValuedColumn(column_name='1540', dimension=1, default_value=None, dtype=tf.float32, normalizer=None), _RealValuedColumn(column_name='1541', dimension=1, default_value=None, dtype=tf.float32, normalizer=None), _RealValuedColumn(column_name='1542', dimension=1, default_value=None, dtype=tf.float32, normalizer=None), _RealValuedColumn(column_name='1543', dimension=1, default_value=None, dtype=tf.float32, normalizer=None), _RealValuedColumn(column_name='1544', dimension=1, default_value=None, dtype=tf.float32, normalizer=None), _RealValuedColumn(column_name='1545', dimension=1, default_value=None, dtype=tf.float32, normalizer=None), _RealValuedColumn(column_name='1546', dimension=1, default_value=None, dtype=tf.float32, normalizer=None), _RealValuedColumn(column_name='1547', dimension=1, default_value=None, dtype=tf.float32, normalizer=None), _RealValuedColumn(column_name='1548', dimension=1, default_value=None, dtype=tf.float32, normalizer=None), _RealValuedColumn(column_name='1549', dimension=1, default_value=None, dtype=tf.float32, normalizer=None), _RealValuedColumn(column_name='1550', dimension=1, default_value=None, dtype=tf.float32, normalizer=None), _RealValuedColumn(column_name='1551', dimension=1, default_value=None, dtype=tf.float32, normalizer=None), _RealValuedColumn(column_name='1552', dimension=1, default_value=None, dtype=tf.float32, normalizer=None), _RealValuedColumn(column_name='1553', dimension=1, default_value=None, dtype=tf.float32, normalizer=None), _RealValuedColumn(column_name='1554', dimension=1, default_value=None, dtype=tf.float32, normalizer=None), _RealValuedColumn(column_name='1555', dimension=1, default_value=None, dtype=tf.float32, normalizer=None), _RealValuedColumn(column_name='1556', dimension=1, default_value=None, dtype=tf.float32, normalizer=None), _RealValuedColumn(column_name='1557', dimension=1, default_value=None, dtype=tf.float32, normalizer=None), _RealValuedColumn(column_name='1558', dimension=1, default_value=None, dtype=tf.float32, normalizer=None), _RealValuedColumn(column_name='1559', dimension=1, default_value=None, dtype=tf.float32, normalizer=None), _RealValuedColumn(column_name='1560', dimension=1, default_value=None, dtype=tf.float32, normalizer=None), _RealValuedColumn(column_name='1561', dimension=1, default_value=None, dtype=tf.float32, normalizer=None), _RealValuedColumn(column_name='1562', dimension=1, default_value=None, dtype=tf.float32, normalizer=None), _RealValuedColumn(column_name='1563', dimension=1, default_value=None, dtype=tf.float32, normalizer=None), _RealValuedColumn(column_name='1564', dimension=1, default_value=None, dtype=tf.float32, normalizer=None), _RealValuedColumn(column_name='1565', dimension=1, default_value=None, dtype=tf.float32, normalizer=None), _RealValuedColumn(column_name='1566', dimension=1, default_value=None, dtype=tf.float32, normalizer=None), _RealValuedColumn(column_name='1567', dimension=1, default_value=None, dtype=tf.float32, normalizer=None), _RealValuedColumn(column_name='1568', dimension=1, default_value=None, dtype=tf.float32, normalizer=None), _RealValuedColumn(column_name='1569', dimension=1, default_value=None, dtype=tf.float32, normalizer=None), _RealValuedColumn(column_name='1570', dimension=1, default_value=None, dtype=tf.float32, normalizer=None), _RealValuedColumn(column_name='1571', dimension=1, default_value=None, dtype=tf.float32, normalizer=None), _RealValuedColumn(column_name='1572', dimension=1, default_value=None, dtype=tf.float32, normalizer=None), _RealValuedColumn(column_name='1573', dimension=1, default_value=None, dtype=tf.float32, normalizer=None), _RealValuedColumn(column_name='1574', dimension=1, default_value=None, dtype=tf.float32, normalizer=None), _RealValuedColumn(column_name='1575', dimension=1, default_value=None, dtype=tf.float32, normalizer=None), _RealValuedColumn(column_name='1576', dimension=1, default_value=None, dtype=tf.float32, normalizer=None), _RealValuedColumn(column_name='1577', dimension=1, default_value=None, dtype=tf.float32, normalizer=None), _RealValuedColumn(column_name='1578', dimension=1, default_value=None, dtype=tf.float32, normalizer=None), _RealValuedColumn(column_name='1579', dimension=1, default_value=None, dtype=tf.float32, normalizer=None), _RealValuedColumn(column_name='1580', dimension=1, default_value=None, dtype=tf.float32, normalizer=None), _RealValuedColumn(column_name='1581', dimension=1, default_value=None, dtype=tf.float32, normalizer=None), _RealValuedColumn(column_name='1582', dimension=1, default_value=None, dtype=tf.float32, normalizer=None), _RealValuedColumn(column_name='1583', dimension=1, default_value=None, dtype=tf.float32, normalizer=None), _RealValuedColumn(column_name='1584', dimension=1, default_value=None, dtype=tf.float32, normalizer=None), _RealValuedColumn(column_name='1585', dimension=1, default_value=None, dtype=tf.float32, normalizer=None), _RealValuedColumn(column_name='1586', dimension=1, default_value=None, dtype=tf.float32, normalizer=None), _RealValuedColumn(column_name='1587', dimension=1, default_value=None, dtype=tf.float32, normalizer=None), _RealValuedColumn(column_name='1588', dimension=1, default_value=None, dtype=tf.float32, normalizer=None), _RealValuedColumn(column_name='1589', dimension=1, default_value=None, dtype=tf.float32, normalizer=None), _RealValuedColumn(column_name='1590', dimension=1, default_value=None, dtype=tf.float32, normalizer=None), _RealValuedColumn(column_name='1591', dimension=1, default_value=None, dtype=tf.float32, normalizer=None), _RealValuedColumn(column_name='1592', dimension=1, default_value=None, dtype=tf.float32, normalizer=None), _RealValuedColumn(column_name='1593', dimension=1, default_value=None, dtype=tf.float32, normalizer=None), _RealValuedColumn(column_name='1594', dimension=1, default_value=None, dtype=tf.float32, normalizer=None), _RealValuedColumn(column_name='1595', dimension=1, default_value=None, dtype=tf.float32, normalizer=None), _RealValuedColumn(column_name='1596', dimension=1, default_value=None, dtype=tf.float32, normalizer=None), _RealValuedColumn(column_name='1597', dimension=1, default_value=None, dtype=tf.float32, normalizer=None), _RealValuedColumn(column_name='1598', dimension=1, default_value=None, dtype=tf.float32, normalizer=None), _RealValuedColumn(column_name='1599', dimension=1, default_value=None, dtype=tf.float32, normalizer=None), _RealValuedColumn(column_name='1600', dimension=1, default_value=None, dtype=tf.float32, normalizer=None), _RealValuedColumn(column_name='1601', dimension=1, default_value=None, dtype=tf.float32, normalizer=None), _RealValuedColumn(column_name='1602', dimension=1, default_value=None, dtype=tf.float32, normalizer=None), _RealValuedColumn(column_name='1603', dimension=1, default_value=None, dtype=tf.float32, normalizer=None), _RealValuedColumn(column_name='1604', dimension=1, default_value=None, dtype=tf.float32, normalizer=None), _RealValuedColumn(column_name='1605', dimension=1, default_value=None, dtype=tf.float32, normalizer=None), _RealValuedColumn(column_name='1606', dimension=1, default_value=None, dtype=tf.float32, normalizer=None), _RealValuedColumn(column_name='1607', dimension=1, default_value=None, dtype=tf.float32, normalizer=None), _RealValuedColumn(column_name='1608', dimension=1, default_value=None, dtype=tf.float32, normalizer=None), _RealValuedColumn(column_name='1609', dimension=1, default_value=None, dtype=tf.float32, normalizer=None), _RealValuedColumn(column_name='1610', dimension=1, default_value=None, dtype=tf.float32, normalizer=None), _RealValuedColumn(column_name='1611', dimension=1, default_value=None, dtype=tf.float32, normalizer=None), _RealValuedColumn(column_name='1612', dimension=1, default_value=None, dtype=tf.float32, normalizer=None), _RealValuedColumn(column_name='1613', dimension=1, default_value=None, dtype=tf.float32, normalizer=None), _RealValuedColumn(column_name='1614', dimension=1, default_value=None, dtype=tf.float32, normalizer=None), _RealValuedColumn(column_name='1615', dimension=1, default_value=None, dtype=tf.float32, normalizer=None), _RealValuedColumn(column_name='1616', dimension=1, default_value=None, dtype=tf.float32, normalizer=None), _RealValuedColumn(column_name='1617', dimension=1, default_value=None, dtype=tf.float32, normalizer=None), _RealValuedColumn(column_name='1618', dimension=1, default_value=None, dtype=tf.float32, normalizer=None), _RealValuedColumn(column_name='1619', dimension=1, default_value=None, dtype=tf.float32, normalizer=None), _RealValuedColumn(column_name='1620', dimension=1, default_value=None, dtype=tf.float32, normalizer=None), _RealValuedColumn(column_name='1621', dimension=1, default_value=None, dtype=tf.float32, normalizer=None), _RealValuedColumn(column_name='1622', dimension=1, default_value=None, dtype=tf.float32, normalizer=None), _RealValuedColumn(column_name='1623', dimension=1, default_value=None, dtype=tf.float32, normalizer=None), _RealValuedColumn(column_name='1624', dimension=1, default_value=None, dtype=tf.float32, normalizer=None), _RealValuedColumn(column_name='1625', dimension=1, default_value=None, dtype=tf.float32, normalizer=None), _RealValuedColumn(column_name='1626', dimension=1, default_value=None, dtype=tf.float32, normalizer=None), _RealValuedColumn(column_name='1627', dimension=1, default_value=None, dtype=tf.float32, normalizer=None), _RealValuedColumn(column_name='1628', dimension=1, default_value=None, dtype=tf.float32, normalizer=None), _RealValuedColumn(column_name='1629', dimension=1, default_value=None, dtype=tf.float32, normalizer=None), _RealValuedColumn(column_name='1630', dimension=1, default_value=None, dtype=tf.float32, normalizer=None), _RealValuedColumn(column_name='1631', dimension=1, default_value=None, dtype=tf.float32, normalizer=None), _RealValuedColumn(column_name='1632', dimension=1, default_value=None, dtype=tf.float32, normalizer=None), _RealValuedColumn(column_name='1633', dimension=1, default_value=None, dtype=tf.float32, normalizer=None), _RealValuedColumn(column_name='1634', dimension=1, default_value=None, dtype=tf.float32, normalizer=None), _RealValuedColumn(column_name='1635', dimension=1, default_value=None, dtype=tf.float32, normalizer=None), _RealValuedColumn(column_name='1636', dimension=1, default_value=None, dtype=tf.float32, normalizer=None), _RealValuedColumn(column_name='1637', dimension=1, default_value=None, dtype=tf.float32, normalizer=None), _RealValuedColumn(column_name='1638', dimension=1, default_value=None, dtype=tf.float32, normalizer=None), _RealValuedColumn(column_name='1639', dimension=1, default_value=None, dtype=tf.float32, normalizer=None), _RealValuedColumn(column_name='1640', dimension=1, default_value=None, dtype=tf.float32, normalizer=None), _RealValuedColumn(column_name='1641', dimension=1, default_value=None, dtype=tf.float32, normalizer=None), _RealValuedColumn(column_name='1642', dimension=1, default_value=None, dtype=tf.float32, normalizer=None), _RealValuedColumn(column_name='1643', dimension=1, default_value=None, dtype=tf.float32, normalizer=None), _RealValuedColumn(column_name='1644', dimension=1, default_value=None, dtype=tf.float32, normalizer=None), _RealValuedColumn(column_name='1645', dimension=1, default_value=None, dtype=tf.float32, normalizer=None), _RealValuedColumn(column_name='1646', dimension=1, default_value=None, dtype=tf.float32, normalizer=None), _RealValuedColumn(column_name='1647', dimension=1, default_value=None, dtype=tf.float32, normalizer=None), _RealValuedColumn(column_name='1648', dimension=1, default_value=None, dtype=tf.float32, normalizer=None), _RealValuedColumn(column_name='1649', dimension=1, default_value=None, dtype=tf.float32, normalizer=None), _RealValuedColumn(column_name='1650', dimension=1, default_value=None, dtype=tf.float32, normalizer=None), _RealValuedColumn(column_name='1651', dimension=1, default_value=None, dtype=tf.float32, normalizer=None), _RealValuedColumn(column_name='1652', dimension=1, default_value=None, dtype=tf.float32, normalizer=None), _RealValuedColumn(column_name='1653', dimension=1, default_value=None, dtype=tf.float32, normalizer=None), _RealValuedColumn(column_name='1654', dimension=1, default_value=None, dtype=tf.float32, normalizer=None), _RealValuedColumn(column_name='1655', dimension=1, default_value=None, dtype=tf.float32, normalizer=None), _RealValuedColumn(column_name='1656', dimension=1, default_value=None, dtype=tf.float32, normalizer=None), _RealValuedColumn(column_name='1657', dimension=1, default_value=None, dtype=tf.float32, normalizer=None), _RealValuedColumn(column_name='1658', dimension=1, default_value=None, dtype=tf.float32, normalizer=None), _RealValuedColumn(column_name='1659', dimension=1, default_value=None, dtype=tf.float32, normalizer=None), _RealValuedColumn(column_name='1660', dimension=1, default_value=None, dtype=tf.float32, normalizer=None), _RealValuedColumn(column_name='1661', dimension=1, default_value=None, dtype=tf.float32, normalizer=None), _RealValuedColumn(column_name='1662', dimension=1, default_value=None, dtype=tf.float32, normalizer=None), _RealValuedColumn(column_name='1663', dimension=1, default_value=None, dtype=tf.float32, normalizer=None), _RealValuedColumn(column_name='1664', dimension=1, default_value=None, dtype=tf.float32, normalizer=None), _RealValuedColumn(column_name='1665', dimension=1, default_value=None, dtype=tf.float32, normalizer=None), _RealValuedColumn(column_name='1666', dimension=1, default_value=None, dtype=tf.float32, normalizer=None), _RealValuedColumn(column_name='1667', dimension=1, default_value=None, dtype=tf.float32, normalizer=None), _RealValuedColumn(column_name='1668', dimension=1, default_value=None, dtype=tf.float32, normalizer=None), _RealValuedColumn(column_name='1669', dimension=1, default_value=None, dtype=tf.float32, normalizer=None), _RealValuedColumn(column_name='1670', dimension=1, default_value=None, dtype=tf.float32, normalizer=None), _RealValuedColumn(column_name='1671', dimension=1, default_value=None, dtype=tf.float32, normalizer=None), _RealValuedColumn(column_name='1672', dimension=1, default_value=None, dtype=tf.float32, normalizer=None), _RealValuedColumn(column_name='1673', dimension=1, default_value=None, dtype=tf.float32, normalizer=None), _RealValuedColumn(column_name='1674', dimension=1, default_value=None, dtype=tf.float32, normalizer=None), _RealValuedColumn(column_name='1675', dimension=1, default_value=None, dtype=tf.float32, normalizer=None), _RealValuedColumn(column_name='1676', dimension=1, default_value=None, dtype=tf.float32, normalizer=None), _RealValuedColumn(column_name='1677', dimension=1, default_value=None, dtype=tf.float32, normalizer=None), _RealValuedColumn(column_name='1678', dimension=1, default_value=None, dtype=tf.float32, normalizer=None), _RealValuedColumn(column_name='1679', dimension=1, default_value=None, dtype=tf.float32, normalizer=None), _RealValuedColumn(column_name='1680', dimension=1, default_value=None, dtype=tf.float32, normalizer=None), _RealValuedColumn(column_name='1681', dimension=1, default_value=None, dtype=tf.float32, normalizer=None), _RealValuedColumn(column_name='1682', dimension=1, default_value=None, dtype=tf.float32, normalizer=None), _RealValuedColumn(column_name='1683', dimension=1, default_value=None, dtype=tf.float32, normalizer=None), _RealValuedColumn(column_name='1684', dimension=1, default_value=None, dtype=tf.float32, normalizer=None), _RealValuedColumn(column_name='1685', dimension=1, default_value=None, dtype=tf.float32, normalizer=None), _RealValuedColumn(column_name='1686', dimension=1, default_value=None, dtype=tf.float32, normalizer=None), _RealValuedColumn(column_name='1687', dimension=1, default_value=None, dtype=tf.float32, normalizer=None), _RealValuedColumn(column_name='1688', dimension=1, default_value=None, dtype=tf.float32, normalizer=None), _RealValuedColumn(column_name='1689', dimension=1, default_value=None, dtype=tf.float32, normalizer=None), _RealValuedColumn(column_name='1690', dimension=1, default_value=None, dtype=tf.float32, normalizer=None), _RealValuedColumn(column_name='1691', dimension=1, default_value=None, dtype=tf.float32, normalizer=None), _RealValuedColumn(column_name='1692', dimension=1, default_value=None, dtype=tf.float32, normalizer=None), _RealValuedColumn(column_name='1693', dimension=1, default_value=None, dtype=tf.float32, normalizer=None), _RealValuedColumn(column_name='1694', dimension=1, default_value=None, dtype=tf.float32, normalizer=None), _RealValuedColumn(column_name='1695', dimension=1, default_value=None, dtype=tf.float32, normalizer=None), _RealValuedColumn(column_name='1696', dimension=1, default_value=None, dtype=tf.float32, normalizer=None), _RealValuedColumn(column_name='1697', dimension=1, default_value=None, dtype=tf.float32, normalizer=None), _RealValuedColumn(column_name='1698', dimension=1, default_value=None, dtype=tf.float32, normalizer=None), _RealValuedColumn(column_name='1699', dimension=1, default_value=None, dtype=tf.float32, normalizer=None), _RealValuedColumn(column_name='1700', dimension=1, default_value=None, dtype=tf.float32, normalizer=None), _RealValuedColumn(column_name='1701', dimension=1, default_value=None, dtype=tf.float32, normalizer=None), _RealValuedColumn(column_name='1702', dimension=1, default_value=None, dtype=tf.float32, normalizer=None), _RealValuedColumn(column_name='1703', dimension=1, default_value=None, dtype=tf.float32, normalizer=None), _RealValuedColumn(column_name='1704', dimension=1, default_value=None, dtype=tf.float32, normalizer=None), _RealValuedColumn(column_name='1705', dimension=1, default_value=None, dtype=tf.float32, normalizer=None), _RealValuedColumn(column_name='1706', dimension=1, default_value=None, dtype=tf.float32, normalizer=None), _RealValuedColumn(column_name='1707', dimension=1, default_value=None, dtype=tf.float32, normalizer=None), _RealValuedColumn(column_name='1708', dimension=1, default_value=None, dtype=tf.float32, normalizer=None), _RealValuedColumn(column_name='1709', dimension=1, default_value=None, dtype=tf.float32, normalizer=None), _RealValuedColumn(column_name='1710', dimension=1, default_value=None, dtype=tf.float32, normalizer=None), _RealValuedColumn(column_name='1711', dimension=1, default_value=None, dtype=tf.float32, normalizer=None), _RealValuedColumn(column_name='1712', dimension=1, default_value=None, dtype=tf.float32, normalizer=None), _RealValuedColumn(column_name='1713', dimension=1, default_value=None, dtype=tf.float32, normalizer=None), _RealValuedColumn(column_name='1714', dimension=1, default_value=None, dtype=tf.float32, normalizer=None), _RealValuedColumn(column_name='1715', dimension=1, default_value=None, dtype=tf.float32, normalizer=None), _RealValuedColumn(column_name='1716', dimension=1, default_value=None, dtype=tf.float32, normalizer=None), _RealValuedColumn(column_name='1717', dimension=1, default_value=None, dtype=tf.float32, normalizer=None), _RealValuedColumn(column_name='1718', dimension=1, default_value=None, dtype=tf.float32, normalizer=None), _RealValuedColumn(column_name='1719', dimension=1, default_value=None, dtype=tf.float32, normalizer=None), _RealValuedColumn(column_name='1720', dimension=1, default_value=None, dtype=tf.float32, normalizer=None), _RealValuedColumn(column_name='1721', dimension=1, default_value=None, dtype=tf.float32, normalizer=None), _RealValuedColumn(column_name='1722', dimension=1, default_value=None, dtype=tf.float32, normalizer=None), _RealValuedColumn(column_name='1723', dimension=1, default_value=None, dtype=tf.float32, normalizer=None), _RealValuedColumn(column_name='1724', dimension=1, default_value=None, dtype=tf.float32, normalizer=None), _RealValuedColumn(column_name='1725', dimension=1, default_value=None, dtype=tf.float32, normalizer=None), _RealValuedColumn(column_name='1726', dimension=1, default_value=None, dtype=tf.float32, normalizer=None), _RealValuedColumn(column_name='1727', dimension=1, default_value=None, dtype=tf.float32, normalizer=None), _RealValuedColumn(column_name='1728', dimension=1, default_value=None, dtype=tf.float32, normalizer=None), _RealValuedColumn(column_name='1729', dimension=1, default_value=None, dtype=tf.float32, normalizer=None), _RealValuedColumn(column_name='1730', dimension=1, default_value=None, dtype=tf.float32, normalizer=None), _RealValuedColumn(column_name='1731', dimension=1, default_value=None, dtype=tf.float32, normalizer=None), _RealValuedColumn(column_name='1732', dimension=1, default_value=None, dtype=tf.float32, normalizer=None), _RealValuedColumn(column_name='1733', dimension=1, default_value=None, dtype=tf.float32, normalizer=None), _RealValuedColumn(column_name='1734', dimension=1, default_value=None, dtype=tf.float32, normalizer=None), _RealValuedColumn(column_name='1735', dimension=1, default_value=None, dtype=tf.float32, normalizer=None), _RealValuedColumn(column_name='1736', dimension=1, default_value=None, dtype=tf.float32, normalizer=None), _RealValuedColumn(column_name='1737', dimension=1, default_value=None, dtype=tf.float32, normalizer=None), _RealValuedColumn(column_name='1738', dimension=1, default_value=None, dtype=tf.float32, normalizer=None), _RealValuedColumn(column_name='1739', dimension=1, default_value=None, dtype=tf.float32, normalizer=None), _RealValuedColumn(column_name='1740', dimension=1, default_value=None, dtype=tf.float32, normalizer=None), _RealValuedColumn(column_name='1741', dimension=1, default_value=None, dtype=tf.float32, normalizer=None), _RealValuedColumn(column_name='1742', dimension=1, default_value=None, dtype=tf.float32, normalizer=None), _RealValuedColumn(column_name='1743', dimension=1, default_value=None, dtype=tf.float32, normalizer=None), _RealValuedColumn(column_name='1744', dimension=1, default_value=None, dtype=tf.float32, normalizer=None), _RealValuedColumn(column_name='1745', dimension=1, default_value=None, dtype=tf.float32, normalizer=None), _RealValuedColumn(column_name='1746', dimension=1, default_value=None, dtype=tf.float32, normalizer=None), _RealValuedColumn(column_name='1747', dimension=1, default_value=None, dtype=tf.float32, normalizer=None), _RealValuedColumn(column_name='1748', dimension=1, default_value=None, dtype=tf.float32, normalizer=None), _RealValuedColumn(column_name='1749', dimension=1, default_value=None, dtype=tf.float32, normalizer=None), _RealValuedColumn(column_name='1750', dimension=1, default_value=None, dtype=tf.float32, normalizer=None), _RealValuedColumn(column_name='1751', dimension=1, default_value=None, dtype=tf.float32, normalizer=None), _RealValuedColumn(column_name='1752', dimension=1, default_value=None, dtype=tf.float32, normalizer=None), _RealValuedColumn(column_name='1753', dimension=1, default_value=None, dtype=tf.float32, normalizer=None), _RealValuedColumn(column_name='1754', dimension=1, default_value=None, dtype=tf.float32, normalizer=None), _RealValuedColumn(column_name='1755', dimension=1, default_value=None, dtype=tf.float32, normalizer=None), _RealValuedColumn(column_name='1756', dimension=1, default_value=None, dtype=tf.float32, normalizer=None), _RealValuedColumn(column_name='1757', dimension=1, default_value=None, dtype=tf.float32, normalizer=None), _RealValuedColumn(column_name='1758', dimension=1, default_value=None, dtype=tf.float32, normalizer=None), _RealValuedColumn(column_name='1759', dimension=1, default_value=None, dtype=tf.float32, normalizer=None), _RealValuedColumn(column_name='1760', dimension=1, default_value=None, dtype=tf.float32, normalizer=None), _RealValuedColumn(column_name='1761', dimension=1, default_value=None, dtype=tf.float32, normalizer=None), _RealValuedColumn(column_name='1762', dimension=1, default_value=None, dtype=tf.float32, normalizer=None), _RealValuedColumn(column_name='1763', dimension=1, default_value=None, dtype=tf.float32, normalizer=None), _RealValuedColumn(column_name='1764', dimension=1, default_value=None, dtype=tf.float32, normalizer=None), _RealValuedColumn(column_name='1765', dimension=1, default_value=None, dtype=tf.float32, normalizer=None), _RealValuedColumn(column_name='1766', dimension=1, default_value=None, dtype=tf.float32, normalizer=None), _RealValuedColumn(column_name='1767', dimension=1, default_value=None, dtype=tf.float32, normalizer=None), _RealValuedColumn(column_name='1768', dimension=1, default_value=None, dtype=tf.float32, normalizer=None), _RealValuedColumn(column_name='1769', dimension=1, default_value=None, dtype=tf.float32, normalizer=None), _RealValuedColumn(column_name='1770', dimension=1, default_value=None, dtype=tf.float32, normalizer=None), _RealValuedColumn(column_name='1771', dimension=1, default_value=None, dtype=tf.float32, normalizer=None), _RealValuedColumn(column_name='1772', dimension=1, default_value=None, dtype=tf.float32, normalizer=None), _RealValuedColumn(column_name='1773', dimension=1, default_value=None, dtype=tf.float32, normalizer=None), _RealValuedColumn(column_name='1774', dimension=1, default_value=None, dtype=tf.float32, normalizer=None), _RealValuedColumn(column_name='1775', dimension=1, default_value=None, dtype=tf.float32, normalizer=None), _RealValuedColumn(column_name='1776', dimension=1, default_value=None, dtype=tf.float32, normalizer=None), _RealValuedColumn(column_name='1777', dimension=1, default_value=None, dtype=tf.float32, normalizer=None), _RealValuedColumn(column_name='1778', dimension=1, default_value=None, dtype=tf.float32, normalizer=None), _RealValuedColumn(column_name='1779', dimension=1, default_value=None, dtype=tf.float32, normalizer=None), _RealValuedColumn(column_name='1780', dimension=1, default_value=None, dtype=tf.float32, normalizer=None), _RealValuedColumn(column_name='1781', dimension=1, default_value=None, dtype=tf.float32, normalizer=None), _RealValuedColumn(column_name='1782', dimension=1, default_value=None, dtype=tf.float32, normalizer=None), _RealValuedColumn(column_name='1783', dimension=1, default_value=None, dtype=tf.float32, normalizer=None), _RealValuedColumn(column_name='1784', dimension=1, default_value=None, dtype=tf.float32, normalizer=None), _RealValuedColumn(column_name='1785', dimension=1, default_value=None, dtype=tf.float32, normalizer=None), _RealValuedColumn(column_name='1786', dimension=1, default_value=None, dtype=tf.float32, normalizer=None), _RealValuedColumn(column_name='1787', dimension=1, default_value=None, dtype=tf.float32, normalizer=None), _RealValuedColumn(column_name='1788', dimension=1, default_value=None, dtype=tf.float32, normalizer=None), _RealValuedColumn(column_name='1789', dimension=1, default_value=None, dtype=tf.float32, normalizer=None), _RealValuedColumn(column_name='1790', dimension=1, default_value=None, dtype=tf.float32, normalizer=None), _RealValuedColumn(column_name='1791', dimension=1, default_value=None, dtype=tf.float32, normalizer=None), _RealValuedColumn(column_name='1792', dimension=1, default_value=None, dtype=tf.float32, normalizer=None), _RealValuedColumn(column_name='1793', dimension=1, default_value=None, dtype=tf.float32, normalizer=None), _RealValuedColumn(column_name='1794', dimension=1, default_value=None, dtype=tf.float32, normalizer=None), _RealValuedColumn(column_name='1795', dimension=1, default_value=None, dtype=tf.float32, normalizer=None), _RealValuedColumn(column_name='1796', dimension=1, default_value=None, dtype=tf.float32, normalizer=None), _RealValuedColumn(column_name='1797', dimension=1, default_value=None, dtype=tf.float32, normalizer=None), _RealValuedColumn(column_name='1798', dimension=1, default_value=None, dtype=tf.float32, normalizer=None), _RealValuedColumn(column_name='1799', dimension=1, default_value=None, dtype=tf.float32, normalizer=None), _RealValuedColumn(column_name='1800', dimension=1, default_value=None, dtype=tf.float32, normalizer=None), _RealValuedColumn(column_name='1801', dimension=1, default_value=None, dtype=tf.float32, normalizer=None), _RealValuedColumn(column_name='1802', dimension=1, default_value=None, dtype=tf.float32, normalizer=None), _RealValuedColumn(column_name='1803', dimension=1, default_value=None, dtype=tf.float32, normalizer=None), _RealValuedColumn(column_name='1804', dimension=1, default_value=None, dtype=tf.float32, normalizer=None), _RealValuedColumn(column_name='1805', dimension=1, default_value=None, dtype=tf.float32, normalizer=None), _RealValuedColumn(column_name='1806', dimension=1, default_value=None, dtype=tf.float32, normalizer=None), _RealValuedColumn(column_name='1807', dimension=1, default_value=None, dtype=tf.float32, normalizer=None), _RealValuedColumn(column_name='1808', dimension=1, default_value=None, dtype=tf.float32, normalizer=None), _RealValuedColumn(column_name='1809', dimension=1, default_value=None, dtype=tf.float32, normalizer=None), _RealValuedColumn(column_name='1810', dimension=1, default_value=None, dtype=tf.float32, normalizer=None), _RealValuedColumn(column_name='1811', dimension=1, default_value=None, dtype=tf.float32, normalizer=None), _RealValuedColumn(column_name='1812', dimension=1, default_value=None, dtype=tf.float32, normalizer=None), _RealValuedColumn(column_name='1813', dimension=1, default_value=None, dtype=tf.float32, normalizer=None), _RealValuedColumn(column_name='1814', dimension=1, default_value=None, dtype=tf.float32, normalizer=None), _RealValuedColumn(column_name='1815', dimension=1, default_value=None, dtype=tf.float32, normalizer=None), _RealValuedColumn(column_name='1816', dimension=1, default_value=None, dtype=tf.float32, normalizer=None), _RealValuedColumn(column_name='1817', dimension=1, default_value=None, dtype=tf.float32, normalizer=None), _RealValuedColumn(column_name='1818', dimension=1, default_value=None, dtype=tf.float32, normalizer=None), _RealValuedColumn(column_name='1819', dimension=1, default_value=None, dtype=tf.float32, normalizer=None), _RealValuedColumn(column_name='1820', dimension=1, default_value=None, dtype=tf.float32, normalizer=None), _RealValuedColumn(column_name='1821', dimension=1, default_value=None, dtype=tf.float32, normalizer=None), _RealValuedColumn(column_name='1822', dimension=1, default_value=None, dtype=tf.float32, normalizer=None), _RealValuedColumn(column_name='1823', dimension=1, default_value=None, dtype=tf.float32, normalizer=None), _RealValuedColumn(column_name='1824', dimension=1, default_value=None, dtype=tf.float32, normalizer=None), _RealValuedColumn(column_name='1825', dimension=1, default_value=None, dtype=tf.float32, normalizer=None), _RealValuedColumn(column_name='1826', dimension=1, default_value=None, dtype=tf.float32, normalizer=None), _RealValuedColumn(column_name='1827', dimension=1, default_value=None, dtype=tf.float32, normalizer=None), _RealValuedColumn(column_name='1828', dimension=1, default_value=None, dtype=tf.float32, normalizer=None), _RealValuedColumn(column_name='1829', dimension=1, default_value=None, dtype=tf.float32, normalizer=None), _RealValuedColumn(column_name='1830', dimension=1, default_value=None, dtype=tf.float32, normalizer=None), _RealValuedColumn(column_name='1831', dimension=1, default_value=None, dtype=tf.float32, normalizer=None), _RealValuedColumn(column_name='1832', dimension=1, default_value=None, dtype=tf.float32, normalizer=None), _RealValuedColumn(column_name='1833', dimension=1, default_value=None, dtype=tf.float32, normalizer=None), _RealValuedColumn(column_name='1834', dimension=1, default_value=None, dtype=tf.float32, normalizer=None), _RealValuedColumn(column_name='1835', dimension=1, default_value=None, dtype=tf.float32, normalizer=None), _RealValuedColumn(column_name='1836', dimension=1, default_value=None, dtype=tf.float32, normalizer=None), _RealValuedColumn(column_name='1837', dimension=1, default_value=None, dtype=tf.float32, normalizer=None), _RealValuedColumn(column_name='1838', dimension=1, default_value=None, dtype=tf.float32, normalizer=None), _RealValuedColumn(column_name='1839', dimension=1, default_value=None, dtype=tf.float32, normalizer=None), _RealValuedColumn(column_name='1840', dimension=1, default_value=None, dtype=tf.float32, normalizer=None), _RealValuedColumn(column_name='1841', dimension=1, default_value=None, dtype=tf.float32, normalizer=None), _RealValuedColumn(column_name='1842', dimension=1, default_value=None, dtype=tf.float32, normalizer=None), _RealValuedColumn(column_name='1843', dimension=1, default_value=None, dtype=tf.float32, normalizer=None), _RealValuedColumn(column_name='1844', dimension=1, default_value=None, dtype=tf.float32, normalizer=None), _RealValuedColumn(column_name='1845', dimension=1, default_value=None, dtype=tf.float32, normalizer=None), _RealValuedColumn(column_name='1846', dimension=1, default_value=None, dtype=tf.float32, normalizer=None), _RealValuedColumn(column_name='1847', dimension=1, default_value=None, dtype=tf.float32, normalizer=None), _RealValuedColumn(column_name='1848', dimension=1, default_value=None, dtype=tf.float32, normalizer=None), _RealValuedColumn(column_name='1849', dimension=1, default_value=None, dtype=tf.float32, normalizer=None), _RealValuedColumn(column_name='1850', dimension=1, default_value=None, dtype=tf.float32, normalizer=None), _RealValuedColumn(column_name='1851', dimension=1, default_value=None, dtype=tf.float32, normalizer=None), _RealValuedColumn(column_name='1852', dimension=1, default_value=None, dtype=tf.float32, normalizer=None), _RealValuedColumn(column_name='1853', dimension=1, default_value=None, dtype=tf.float32, normalizer=None), _RealValuedColumn(column_name='1854', dimension=1, default_value=None, dtype=tf.float32, normalizer=None), _RealValuedColumn(column_name='1855', dimension=1, default_value=None, dtype=tf.float32, normalizer=None), _RealValuedColumn(column_name='1856', dimension=1, default_value=None, dtype=tf.float32, normalizer=None), _RealValuedColumn(column_name='1857', dimension=1, default_value=None, dtype=tf.float32, normalizer=None), _RealValuedColumn(column_name='1858', dimension=1, default_value=None, dtype=tf.float32, normalizer=None), _RealValuedColumn(column_name='1859', dimension=1, default_value=None, dtype=tf.float32, normalizer=None), _RealValuedColumn(column_name='1860', dimension=1, default_value=None, dtype=tf.float32, normalizer=None), _RealValuedColumn(column_name='1861', dimension=1, default_value=None, dtype=tf.float32, normalizer=None), _RealValuedColumn(column_name='1862', dimension=1, default_value=None, dtype=tf.float32, normalizer=None), _RealValuedColumn(column_name='1863', dimension=1, default_value=None, dtype=tf.float32, normalizer=None), _RealValuedColumn(column_name='1864', dimension=1, default_value=None, dtype=tf.float32, normalizer=None), _RealValuedColumn(column_name='1865', dimension=1, default_value=None, dtype=tf.float32, normalizer=None), _RealValuedColumn(column_name='1866', dimension=1, default_value=None, dtype=tf.float32, normalizer=None), _RealValuedColumn(column_name='1867', dimension=1, default_value=None, dtype=tf.float32, normalizer=None), _RealValuedColumn(column_name='1868', dimension=1, default_value=None, dtype=tf.float32, normalizer=None), _RealValuedColumn(column_name='1869', dimension=1, default_value=None, dtype=tf.float32, normalizer=None), _RealValuedColumn(column_name='1870', dimension=1, default_value=None, dtype=tf.float32, normalizer=None), _RealValuedColumn(column_name='1871', dimension=1, default_value=None, dtype=tf.float32, normalizer=None), _RealValuedColumn(column_name='1872', dimension=1, default_value=None, dtype=tf.float32, normalizer=None), _RealValuedColumn(column_name='1873', dimension=1, default_value=None, dtype=tf.float32, normalizer=None), _RealValuedColumn(column_name='1874', dimension=1, default_value=None, dtype=tf.float32, normalizer=None), _RealValuedColumn(column_name='1875', dimension=1, default_value=None, dtype=tf.float32, normalizer=None), _RealValuedColumn(column_name='1876', dimension=1, default_value=None, dtype=tf.float32, normalizer=None), _RealValuedColumn(column_name='1877', dimension=1, default_value=None, dtype=tf.float32, normalizer=None), _RealValuedColumn(column_name='1878', dimension=1, default_value=None, dtype=tf.float32, normalizer=None), _RealValuedColumn(column_name='1879', dimension=1, default_value=None, dtype=tf.float32, normalizer=None), _RealValuedColumn(column_name='1880', dimension=1, default_value=None, dtype=tf.float32, normalizer=None), _RealValuedColumn(column_name='1881', dimension=1, default_value=None, dtype=tf.float32, normalizer=None), _RealValuedColumn(column_name='1882', dimension=1, default_value=None, dtype=tf.float32, normalizer=None), _RealValuedColumn(column_name='1883', dimension=1, default_value=None, dtype=tf.float32, normalizer=None), _RealValuedColumn(column_name='1884', dimension=1, default_value=None, dtype=tf.float32, normalizer=None), _RealValuedColumn(column_name='1885', dimension=1, default_value=None, dtype=tf.float32, normalizer=None), _RealValuedColumn(column_name='1886', dimension=1, default_value=None, dtype=tf.float32, normalizer=None), _RealValuedColumn(column_name='1887', dimension=1, default_value=None, dtype=tf.float32, normalizer=None), _RealValuedColumn(column_name='1888', dimension=1, default_value=None, dtype=tf.float32, normalizer=None), _RealValuedColumn(column_name='1889', dimension=1, default_value=None, dtype=tf.float32, normalizer=None), _RealValuedColumn(column_name='1890', dimension=1, default_value=None, dtype=tf.float32, normalizer=None), _RealValuedColumn(column_name='1891', dimension=1, default_value=None, dtype=tf.float32, normalizer=None), _RealValuedColumn(column_name='1892', dimension=1, default_value=None, dtype=tf.float32, normalizer=None), _RealValuedColumn(column_name='1893', dimension=1, default_value=None, dtype=tf.float32, normalizer=None), _RealValuedColumn(column_name='1894', dimension=1, default_value=None, dtype=tf.float32, normalizer=None), _RealValuedColumn(column_name='1895', dimension=1, default_value=None, dtype=tf.float32, normalizer=None), _RealValuedColumn(column_name='1896', dimension=1, default_value=None, dtype=tf.float32, normalizer=None), _RealValuedColumn(column_name='1897', dimension=1, default_value=None, dtype=tf.float32, normalizer=None), _RealValuedColumn(column_name='1898', dimension=1, default_value=None, dtype=tf.float32, normalizer=None), _RealValuedColumn(column_name='1899', dimension=1, default_value=None, dtype=tf.float32, normalizer=None), _RealValuedColumn(column_name='1900', dimension=1, default_value=None, dtype=tf.float32, normalizer=None), _RealValuedColumn(column_name='1901', dimension=1, default_value=None, dtype=tf.float32, normalizer=None), _RealValuedColumn(column_name='1902', dimension=1, default_value=None, dtype=tf.float32, normalizer=None), _RealValuedColumn(column_name='1903', dimension=1, default_value=None, dtype=tf.float32, normalizer=None), _RealValuedColumn(column_name='1904', dimension=1, default_value=None, dtype=tf.float32, normalizer=None), _RealValuedColumn(column_name='1905', dimension=1, default_value=None, dtype=tf.float32, normalizer=None), _RealValuedColumn(column_name='1906', dimension=1, default_value=None, dtype=tf.float32, normalizer=None), _RealValuedColumn(column_name='1907', dimension=1, default_value=None, dtype=tf.float32, normalizer=None), _RealValuedColumn(column_name='1908', dimension=1, default_value=None, dtype=tf.float32, normalizer=None), _RealValuedColumn(column_name='1909', dimension=1, default_value=None, dtype=tf.float32, normalizer=None), _RealValuedColumn(column_name='1910', dimension=1, default_value=None, dtype=tf.float32, normalizer=None), _RealValuedColumn(column_name='1911', dimension=1, default_value=None, dtype=tf.float32, normalizer=None), _RealValuedColumn(column_name='1912', dimension=1, default_value=None, dtype=tf.float32, normalizer=None), _RealValuedColumn(column_name='1913', dimension=1, default_value=None, dtype=tf.float32, normalizer=None), _RealValuedColumn(column_name='1914', dimension=1, default_value=None, dtype=tf.float32, normalizer=None), _RealValuedColumn(column_name='1915', dimension=1, default_value=None, dtype=tf.float32, normalizer=None), _RealValuedColumn(column_name='1916', dimension=1, default_value=None, dtype=tf.float32, normalizer=None), _RealValuedColumn(column_name='1917', dimension=1, default_value=None, dtype=tf.float32, normalizer=None), _RealValuedColumn(column_name='1918', dimension=1, default_value=None, dtype=tf.float32, normalizer=None), _RealValuedColumn(column_name='1919', dimension=1, default_value=None, dtype=tf.float32, normalizer=None), _RealValuedColumn(column_name='1920', dimension=1, default_value=None, dtype=tf.float32, normalizer=None), _RealValuedColumn(column_name='1921', dimension=1, default_value=None, dtype=tf.float32, normalizer=None), _RealValuedColumn(column_name='1922', dimension=1, default_value=None, dtype=tf.float32, normalizer=None), _RealValuedColumn(column_name='1923', dimension=1, default_value=None, dtype=tf.float32, normalizer=None), _RealValuedColumn(column_name='1924', dimension=1, default_value=None, dtype=tf.float32, normalizer=None), _RealValuedColumn(column_name='1925', dimension=1, default_value=None, dtype=tf.float32, normalizer=None), _RealValuedColumn(column_name='1926', dimension=1, default_value=None, dtype=tf.float32, normalizer=None), _RealValuedColumn(column_name='1927', dimension=1, default_value=None, dtype=tf.float32, normalizer=None), _RealValuedColumn(column_name='1928', dimension=1, default_value=None, dtype=tf.float32, normalizer=None), _RealValuedColumn(column_name='1929', dimension=1, default_value=None, dtype=tf.float32, normalizer=None), _RealValuedColumn(column_name='1930', dimension=1, default_value=None, dtype=tf.float32, normalizer=None), _RealValuedColumn(column_name='1931', dimension=1, default_value=None, dtype=tf.float32, normalizer=None), _RealValuedColumn(column_name='1932', dimension=1, default_value=None, dtype=tf.float32, normalizer=None), _RealValuedColumn(column_name='1933', dimension=1, default_value=None, dtype=tf.float32, normalizer=None), _RealValuedColumn(column_name='1934', dimension=1, default_value=None, dtype=tf.float32, normalizer=None), _RealValuedColumn(column_name='1935', dimension=1, default_value=None, dtype=tf.float32, normalizer=None), _RealValuedColumn(column_name='1936', dimension=1, default_value=None, dtype=tf.float32, normalizer=None), _RealValuedColumn(column_name='1937', dimension=1, default_value=None, dtype=tf.float32, normalizer=None), _RealValuedColumn(column_name='1938', dimension=1, default_value=None, dtype=tf.float32, normalizer=None), _RealValuedColumn(column_name='1939', dimension=1, default_value=None, dtype=tf.float32, normalizer=None), _RealValuedColumn(column_name='1940', dimension=1, default_value=None, dtype=tf.float32, normalizer=None), _RealValuedColumn(column_name='1941', dimension=1, default_value=None, dtype=tf.float32, normalizer=None), _RealValuedColumn(column_name='1942', dimension=1, default_value=None, dtype=tf.float32, normalizer=None), _RealValuedColumn(column_name='1943', dimension=1, default_value=None, dtype=tf.float32, normalizer=None), _RealValuedColumn(column_name='1944', dimension=1, default_value=None, dtype=tf.float32, normalizer=None), _RealValuedColumn(column_name='1945', dimension=1, default_value=None, dtype=tf.float32, normalizer=None), _RealValuedColumn(column_name='1946', dimension=1, default_value=None, dtype=tf.float32, normalizer=None), _RealValuedColumn(column_name='1947', dimension=1, default_value=None, dtype=tf.float32, normalizer=None), _RealValuedColumn(column_name='1948', dimension=1, default_value=None, dtype=tf.float32, normalizer=None), _RealValuedColumn(column_name='1949', dimension=1, default_value=None, dtype=tf.float32, normalizer=None), _RealValuedColumn(column_name='1950', dimension=1, default_value=None, dtype=tf.float32, normalizer=None), _RealValuedColumn(column_name='1951', dimension=1, default_value=None, dtype=tf.float32, normalizer=None), _RealValuedColumn(column_name='1952', dimension=1, default_value=None, dtype=tf.float32, normalizer=None), _RealValuedColumn(column_name='1953', dimension=1, default_value=None, dtype=tf.float32, normalizer=None), _RealValuedColumn(column_name='1954', dimension=1, default_value=None, dtype=tf.float32, normalizer=None), _RealValuedColumn(column_name='1955', dimension=1, default_value=None, dtype=tf.float32, normalizer=None), _RealValuedColumn(column_name='1956', dimension=1, default_value=None, dtype=tf.float32, normalizer=None), _RealValuedColumn(column_name='1957', dimension=1, default_value=None, dtype=tf.float32, normalizer=None), _RealValuedColumn(column_name='1958', dimension=1, default_value=None, dtype=tf.float32, normalizer=None), _RealValuedColumn(column_name='1959', dimension=1, default_value=None, dtype=tf.float32, normalizer=None), _RealValuedColumn(column_name='1960', dimension=1, default_value=None, dtype=tf.float32, normalizer=None), _RealValuedColumn(column_name='1961', dimension=1, default_value=None, dtype=tf.float32, normalizer=None), _RealValuedColumn(column_name='1962', dimension=1, default_value=None, dtype=tf.float32, normalizer=None), _RealValuedColumn(column_name='1963', dimension=1, default_value=None, dtype=tf.float32, normalizer=None), _RealValuedColumn(column_name='1964', dimension=1, default_value=None, dtype=tf.float32, normalizer=None), _RealValuedColumn(column_name='1965', dimension=1, default_value=None, dtype=tf.float32, normalizer=None), _RealValuedColumn(column_name='1966', dimension=1, default_value=None, dtype=tf.float32, normalizer=None), _RealValuedColumn(column_name='1967', dimension=1, default_value=None, dtype=tf.float32, normalizer=None), _RealValuedColumn(column_name='1968', dimension=1, default_value=None, dtype=tf.float32, normalizer=None), _RealValuedColumn(column_name='1969', dimension=1, default_value=None, dtype=tf.float32, normalizer=None), _RealValuedColumn(column_name='1970', dimension=1, default_value=None, dtype=tf.float32, normalizer=None), _RealValuedColumn(column_name='1971', dimension=1, default_value=None, dtype=tf.float32, normalizer=None), _RealValuedColumn(column_name='1972', dimension=1, default_value=None, dtype=tf.float32, normalizer=None), _RealValuedColumn(column_name='1973', dimension=1, default_value=None, dtype=tf.float32, normalizer=None), _RealValuedColumn(column_name='1974', dimension=1, default_value=None, dtype=tf.float32, normalizer=None), _RealValuedColumn(column_name='1975', dimension=1, default_value=None, dtype=tf.float32, normalizer=None), _RealValuedColumn(column_name='1976', dimension=1, default_value=None, dtype=tf.float32, normalizer=None), _RealValuedColumn(column_name='1977', dimension=1, default_value=None, dtype=tf.float32, normalizer=None), _RealValuedColumn(column_name='1978', dimension=1, default_value=None, dtype=tf.float32, normalizer=None), _RealValuedColumn(column_name='1979', dimension=1, default_value=None, dtype=tf.float32, normalizer=None), _RealValuedColumn(column_name='1980', dimension=1, default_value=None, dtype=tf.float32, normalizer=None), _RealValuedColumn(column_name='1981', dimension=1, default_value=None, dtype=tf.float32, normalizer=None), _RealValuedColumn(column_name='1982', dimension=1, default_value=None, dtype=tf.float32, normalizer=None), _RealValuedColumn(column_name='1983', dimension=1, default_value=None, dtype=tf.float32, normalizer=None), _RealValuedColumn(column_name='1984', dimension=1, default_value=None, dtype=tf.float32, normalizer=None), _RealValuedColumn(column_name='1985', dimension=1, default_value=None, dtype=tf.float32, normalizer=None), _RealValuedColumn(column_name='1986', dimension=1, default_value=None, dtype=tf.float32, normalizer=None), _RealValuedColumn(column_name='1987', dimension=1, default_value=None, dtype=tf.float32, normalizer=None), _RealValuedColumn(column_name='1988', dimension=1, default_value=None, dtype=tf.float32, normalizer=None), _RealValuedColumn(column_name='1989', dimension=1, default_value=None, dtype=tf.float32, normalizer=None), _RealValuedColumn(column_name='1990', dimension=1, default_value=None, dtype=tf.float32, normalizer=None), _RealValuedColumn(column_name='1991', dimension=1, default_value=None, dtype=tf.float32, normalizer=None), _RealValuedColumn(column_name='1992', dimension=1, default_value=None, dtype=tf.float32, normalizer=None), _RealValuedColumn(column_name='1993', dimension=1, default_value=None, dtype=tf.float32, normalizer=None), _RealValuedColumn(column_name='1994', dimension=1, default_value=None, dtype=tf.float32, normalizer=None), _RealValuedColumn(column_name='1995', dimension=1, default_value=None, dtype=tf.float32, normalizer=None), _RealValuedColumn(column_name='1996', dimension=1, default_value=None, dtype=tf.float32, normalizer=None), _RealValuedColumn(column_name='1997', dimension=1, default_value=None, dtype=tf.float32, normalizer=None), _RealValuedColumn(column_name='1998', dimension=1, default_value=None, dtype=tf.float32, normalizer=None), _RealValuedColumn(column_name='1999', dimension=1, default_value=None, dtype=tf.float32, normalizer=None), _RealValuedColumn(column_name='2000', dimension=1, default_value=None, dtype=tf.float32, normalizer=None), _RealValuedColumn(column_name='2001', dimension=1, default_value=None, dtype=tf.float32, normalizer=None), _RealValuedColumn(column_name='2002', dimension=1, default_value=None, dtype=tf.float32, normalizer=None), _RealValuedColumn(column_name='2003', dimension=1, default_value=None, dtype=tf.float32, normalizer=None), _RealValuedColumn(column_name='2004', dimension=1, default_value=None, dtype=tf.float32, normalizer=None), _RealValuedColumn(column_name='2005', dimension=1, default_value=None, dtype=tf.float32, normalizer=None), _RealValuedColumn(column_name='2006', dimension=1, default_value=None, dtype=tf.float32, normalizer=None), _RealValuedColumn(column_name='2007', dimension=1, default_value=None, dtype=tf.float32, normalizer=None), _RealValuedColumn(column_name='2008', dimension=1, default_value=None, dtype=tf.float32, normalizer=None), _RealValuedColumn(column_name='2009', dimension=1, default_value=None, dtype=tf.float32, normalizer=None), _RealValuedColumn(column_name='2010', dimension=1, default_value=None, dtype=tf.float32, normalizer=None), _RealValuedColumn(column_name='2011', dimension=1, default_value=None, dtype=tf.float32, normalizer=None), _RealValuedColumn(column_name='2012', dimension=1, default_value=None, dtype=tf.float32, normalizer=None), _RealValuedColumn(column_name='2013', dimension=1, default_value=None, dtype=tf.float32, normalizer=None), _RealValuedColumn(column_name='2014', dimension=1, default_value=None, dtype=tf.float32, normalizer=None), _RealValuedColumn(column_name='2015', dimension=1, default_value=None, dtype=tf.float32, normalizer=None), _RealValuedColumn(column_name='2016', dimension=1, default_value=None, dtype=tf.float32, normalizer=None), _RealValuedColumn(column_name='2017', dimension=1, default_value=None, dtype=tf.float32, normalizer=None), _RealValuedColumn(column_name='2018', dimension=1, default_value=None, dtype=tf.float32, normalizer=None), _RealValuedColumn(column_name='2019', dimension=1, default_value=None, dtype=tf.float32, normalizer=None), _RealValuedColumn(column_name='2020', dimension=1, default_value=None, dtype=tf.float32, normalizer=None), _RealValuedColumn(column_name='2021', dimension=1, default_value=None, dtype=tf.float32, normalizer=None), _RealValuedColumn(column_name='2022', dimension=1, default_value=None, dtype=tf.float32, normalizer=None), _RealValuedColumn(column_name='2023', dimension=1, default_value=None, dtype=tf.float32, normalizer=None), _RealValuedColumn(column_name='2024', dimension=1, default_value=None, dtype=tf.float32, normalizer=None), _RealValuedColumn(column_name='2025', dimension=1, default_value=None, dtype=tf.float32, normalizer=None), _RealValuedColumn(column_name='2026', dimension=1, default_value=None, dtype=tf.float32, normalizer=None), _RealValuedColumn(column_name='2027', dimension=1, default_value=None, dtype=tf.float32, normalizer=None), _RealValuedColumn(column_name='2028', dimension=1, default_value=None, dtype=tf.float32, normalizer=None), _RealValuedColumn(column_name='2029', dimension=1, default_value=None, dtype=tf.float32, normalizer=None), _RealValuedColumn(column_name='2030', dimension=1, default_value=None, dtype=tf.float32, normalizer=None), _RealValuedColumn(column_name='2031', dimension=1, default_value=None, dtype=tf.float32, normalizer=None), _RealValuedColumn(column_name='2032', dimension=1, default_value=None, dtype=tf.float32, normalizer=None), _RealValuedColumn(column_name='2033', dimension=1, default_value=None, dtype=tf.float32, normalizer=None), _RealValuedColumn(column_name='2034', dimension=1, default_value=None, dtype=tf.float32, normalizer=None), _RealValuedColumn(column_name='2035', dimension=1, default_value=None, dtype=tf.float32, normalizer=None), _RealValuedColumn(column_name='2036', dimension=1, default_value=None, dtype=tf.float32, normalizer=None), _RealValuedColumn(column_name='2037', dimension=1, default_value=None, dtype=tf.float32, normalizer=None), _RealValuedColumn(column_name='2038', dimension=1, default_value=None, dtype=tf.float32, normalizer=None), _RealValuedColumn(column_name='2039', dimension=1, default_value=None, dtype=tf.float32, normalizer=None), _RealValuedColumn(column_name='2040', dimension=1, default_value=None, dtype=tf.float32, normalizer=None), _RealValuedColumn(column_name='2041', dimension=1, default_value=None, dtype=tf.float32, normalizer=None), _RealValuedColumn(column_name='2042', dimension=1, default_value=None, dtype=tf.float32, normalizer=None), _RealValuedColumn(column_name='2043', dimension=1, default_value=None, dtype=tf.float32, normalizer=None), _RealValuedColumn(column_name='2044', dimension=1, default_value=None, dtype=tf.float32, normalizer=None), _RealValuedColumn(column_name='2045', dimension=1, default_value=None, dtype=tf.float32, normalizer=None), _RealValuedColumn(column_name='2046', dimension=1, default_value=None, dtype=tf.float32, normalizer=None), _RealValuedColumn(column_name='2047', dimension=1, default_value=None, dtype=tf.float32, normalizer=None), _RealValuedColumn(column_name='2048', dimension=1, default_value=None, dtype=tf.float32, normalizer=None), _RealValuedColumn(column_name='2049', dimension=1, default_value=None, dtype=tf.float32, normalizer=None), _RealValuedColumn(column_name='2050', dimension=1, default_value=None, dtype=tf.float32, normalizer=None), _RealValuedColumn(column_name='2051', dimension=1, default_value=None, dtype=tf.float32, normalizer=None), _RealValuedColumn(column_name='2052', dimension=1, default_value=None, dtype=tf.float32, normalizer=None), _RealValuedColumn(column_name='2053', dimension=1, default_value=None, dtype=tf.float32, normalizer=None), _RealValuedColumn(column_name='2054', dimension=1, default_value=None, dtype=tf.float32, normalizer=None), _RealValuedColumn(column_name='2055', dimension=1, default_value=None, dtype=tf.float32, normalizer=None), _RealValuedColumn(column_name='2056', dimension=1, default_value=None, dtype=tf.float32, normalizer=None), _RealValuedColumn(column_name='2057', dimension=1, default_value=None, dtype=tf.float32, normalizer=None), _RealValuedColumn(column_name='2058', dimension=1, default_value=None, dtype=tf.float32, normalizer=None), _RealValuedColumn(column_name='2059', dimension=1, default_value=None, dtype=tf.float32, normalizer=None), _RealValuedColumn(column_name='2060', dimension=1, default_value=None, dtype=tf.float32, normalizer=None), _RealValuedColumn(column_name='2061', dimension=1, default_value=None, dtype=tf.float32, normalizer=None), _RealValuedColumn(column_name='2062', dimension=1, default_value=None, dtype=tf.float32, normalizer=None), _RealValuedColumn(column_name='2063', dimension=1, default_value=None, dtype=tf.float32, normalizer=None), _RealValuedColumn(column_name='2064', dimension=1, default_value=None, dtype=tf.float32, normalizer=None), _RealValuedColumn(column_name='2065', dimension=1, default_value=None, dtype=tf.float32, normalizer=None), _RealValuedColumn(column_name='2066', dimension=1, default_value=None, dtype=tf.float32, normalizer=None), _RealValuedColumn(column_name='2067', dimension=1, default_value=None, dtype=tf.float32, normalizer=None), _RealValuedColumn(column_name='2068', dimension=1, default_value=None, dtype=tf.float32, normalizer=None), _RealValuedColumn(column_name='2069', dimension=1, default_value=None, dtype=tf.float32, normalizer=None), _RealValuedColumn(column_name='2070', dimension=1, default_value=None, dtype=tf.float32, normalizer=None), _RealValuedColumn(column_name='2071', dimension=1, default_value=None, dtype=tf.float32, normalizer=None), _RealValuedColumn(column_name='2072', dimension=1, default_value=None, dtype=tf.float32, normalizer=None), _RealValuedColumn(column_name='2073', dimension=1, default_value=None, dtype=tf.float32, normalizer=None), _RealValuedColumn(column_name='2074', dimension=1, default_value=None, dtype=tf.float32, normalizer=None), _RealValuedColumn(column_name='2075', dimension=1, default_value=None, dtype=tf.float32, normalizer=None), _RealValuedColumn(column_name='2076', dimension=1, default_value=None, dtype=tf.float32, normalizer=None), _RealValuedColumn(column_name='2077', dimension=1, default_value=None, dtype=tf.float32, normalizer=None), _RealValuedColumn(column_name='2078', dimension=1, default_value=None, dtype=tf.float32, normalizer=None), _RealValuedColumn(column_name='2079', dimension=1, default_value=None, dtype=tf.float32, normalizer=None), _RealValuedColumn(column_name='2080', dimension=1, default_value=None, dtype=tf.float32, normalizer=None), _RealValuedColumn(column_name='2081', dimension=1, default_value=None, dtype=tf.float32, normalizer=None), _RealValuedColumn(column_name='2082', dimension=1, default_value=None, dtype=tf.float32, normalizer=None), _RealValuedColumn(column_name='2083', dimension=1, default_value=None, dtype=tf.float32, normalizer=None), _RealValuedColumn(column_name='2084', dimension=1, default_value=None, dtype=tf.float32, normalizer=None), _RealValuedColumn(column_name='2085', dimension=1, default_value=None, dtype=tf.float32, normalizer=None), _RealValuedColumn(column_name='2086', dimension=1, default_value=None, dtype=tf.float32, normalizer=None), _RealValuedColumn(column_name='2087', dimension=1, default_value=None, dtype=tf.float32, normalizer=None), _RealValuedColumn(column_name='2088', dimension=1, default_value=None, dtype=tf.float32, normalizer=None), _RealValuedColumn(column_name='2089', dimension=1, default_value=None, dtype=tf.float32, normalizer=None), _RealValuedColumn(column_name='2090', dimension=1, default_value=None, dtype=tf.float32, normalizer=None), _RealValuedColumn(column_name='2091', dimension=1, default_value=None, dtype=tf.float32, normalizer=None), _RealValuedColumn(column_name='2092', dimension=1, default_value=None, dtype=tf.float32, normalizer=None), _RealValuedColumn(column_name='2093', dimension=1, default_value=None, dtype=tf.float32, normalizer=None), _RealValuedColumn(column_name='2094', dimension=1, default_value=None, dtype=tf.float32, normalizer=None), _RealValuedColumn(column_name='2095', dimension=1, default_value=None, dtype=tf.float32, normalizer=None), _RealValuedColumn(column_name='2096', dimension=1, default_value=None, dtype=tf.float32, normalizer=None), _RealValuedColumn(column_name='2097', dimension=1, default_value=None, dtype=tf.float32, normalizer=None), _RealValuedColumn(column_name='2098', dimension=1, default_value=None, dtype=tf.float32, normalizer=None), _RealValuedColumn(column_name='2099', dimension=1, default_value=None, dtype=tf.float32, normalizer=None), _RealValuedColumn(column_name='2100', dimension=1, default_value=None, dtype=tf.float32, normalizer=None), _RealValuedColumn(column_name='2101', dimension=1, default_value=None, dtype=tf.float32, normalizer=None), _RealValuedColumn(column_name='2102', dimension=1, default_value=None, dtype=tf.float32, normalizer=None), _RealValuedColumn(column_name='2103', dimension=1, default_value=None, dtype=tf.float32, normalizer=None), _RealValuedColumn(column_name='2104', dimension=1, default_value=None, dtype=tf.float32, normalizer=None), _RealValuedColumn(column_name='2105', dimension=1, default_value=None, dtype=tf.float32, normalizer=None), _RealValuedColumn(column_name='2106', dimension=1, default_value=None, dtype=tf.float32, normalizer=None), _RealValuedColumn(column_name='2107', dimension=1, default_value=None, dtype=tf.float32, normalizer=None), _RealValuedColumn(column_name='2108', dimension=1, default_value=None, dtype=tf.float32, normalizer=None), _RealValuedColumn(column_name='2109', dimension=1, default_value=None, dtype=tf.float32, normalizer=None), _RealValuedColumn(column_name='2110', dimension=1, default_value=None, dtype=tf.float32, normalizer=None), _RealValuedColumn(column_name='2111', dimension=1, default_value=None, dtype=tf.float32, normalizer=None), _RealValuedColumn(column_name='2112', dimension=1, default_value=None, dtype=tf.float32, normalizer=None), _RealValuedColumn(column_name='2113', dimension=1, default_value=None, dtype=tf.float32, normalizer=None), _RealValuedColumn(column_name='2114', dimension=1, default_value=None, dtype=tf.float32, normalizer=None), _RealValuedColumn(column_name='2115', dimension=1, default_value=None, dtype=tf.float32, normalizer=None), _RealValuedColumn(column_name='2116', dimension=1, default_value=None, dtype=tf.float32, normalizer=None), _RealValuedColumn(column_name='2117', dimension=1, default_value=None, dtype=tf.float32, normalizer=None), _RealValuedColumn(column_name='2118', dimension=1, default_value=None, dtype=tf.float32, normalizer=None), _RealValuedColumn(column_name='2119', dimension=1, default_value=None, dtype=tf.float32, normalizer=None), _RealValuedColumn(column_name='2120', dimension=1, default_value=None, dtype=tf.float32, normalizer=None), _RealValuedColumn(column_name='2121', dimension=1, default_value=None, dtype=tf.float32, normalizer=None), _RealValuedColumn(column_name='2122', dimension=1, default_value=None, dtype=tf.float32, normalizer=None), _RealValuedColumn(column_name='2123', dimension=1, default_value=None, dtype=tf.float32, normalizer=None), _RealValuedColumn(column_name='2124', dimension=1, default_value=None, dtype=tf.float32, normalizer=None), _RealValuedColumn(column_name='2125', dimension=1, default_value=None, dtype=tf.float32, normalizer=None), _RealValuedColumn(column_name='2126', dimension=1, default_value=None, dtype=tf.float32, normalizer=None), _RealValuedColumn(column_name='2127', dimension=1, default_value=None, dtype=tf.float32, normalizer=None), _RealValuedColumn(column_name='2128', dimension=1, default_value=None, dtype=tf.float32, normalizer=None), _RealValuedColumn(column_name='2129', dimension=1, default_value=None, dtype=tf.float32, normalizer=None), _RealValuedColumn(column_name='2130', dimension=1, default_value=None, dtype=tf.float32, normalizer=None), _RealValuedColumn(column_name='2131', dimension=1, default_value=None, dtype=tf.float32, normalizer=None), _RealValuedColumn(column_name='2132', dimension=1, default_value=None, dtype=tf.float32, normalizer=None), _RealValuedColumn(column_name='2133', dimension=1, default_value=None, dtype=tf.float32, normalizer=None), _RealValuedColumn(column_name='2134', dimension=1, default_value=None, dtype=tf.float32, normalizer=None), _RealValuedColumn(column_name='2135', dimension=1, default_value=None, dtype=tf.float32, normalizer=None), _RealValuedColumn(column_name='2136', dimension=1, default_value=None, dtype=tf.float32, normalizer=None), _RealValuedColumn(column_name='2137', dimension=1, default_value=None, dtype=tf.float32, normalizer=None), _RealValuedColumn(column_name='2138', dimension=1, default_value=None, dtype=tf.float32, normalizer=None), _RealValuedColumn(column_name='2139', dimension=1, default_value=None, dtype=tf.float32, normalizer=None), _RealValuedColumn(column_name='2140', dimension=1, default_value=None, dtype=tf.float32, normalizer=None), _RealValuedColumn(column_name='2141', dimension=1, default_value=None, dtype=tf.float32, normalizer=None), _RealValuedColumn(column_name='2142', dimension=1, default_value=None, dtype=tf.float32, normalizer=None), _RealValuedColumn(column_name='2143', dimension=1, default_value=None, dtype=tf.float32, normalizer=None), _RealValuedColumn(column_name='2144', dimension=1, default_value=None, dtype=tf.float32, normalizer=None), _RealValuedColumn(column_name='2145', dimension=1, default_value=None, dtype=tf.float32, normalizer=None), _RealValuedColumn(column_name='2146', dimension=1, default_value=None, dtype=tf.float32, normalizer=None), _RealValuedColumn(column_name='2147', dimension=1, default_value=None, dtype=tf.float32, normalizer=None), _RealValuedColumn(column_name='2148', dimension=1, default_value=None, dtype=tf.float32, normalizer=None), _RealValuedColumn(column_name='2149', dimension=1, default_value=None, dtype=tf.float32, normalizer=None), _RealValuedColumn(column_name='2150', dimension=1, default_value=None, dtype=tf.float32, normalizer=None), _RealValuedColumn(column_name='2151', dimension=1, default_value=None, dtype=tf.float32, normalizer=None), _RealValuedColumn(column_name='2152', dimension=1, default_value=None, dtype=tf.float32, normalizer=None), _RealValuedColumn(column_name='2153', dimension=1, default_value=None, dtype=tf.float32, normalizer=None), _RealValuedColumn(column_name='2154', dimension=1, default_value=None, dtype=tf.float32, normalizer=None), _RealValuedColumn(column_name='2155', dimension=1, default_value=None, dtype=tf.float32, normalizer=None), _RealValuedColumn(column_name='2156', dimension=1, default_value=None, dtype=tf.float32, normalizer=None), _RealValuedColumn(column_name='2157', dimension=1, default_value=None, dtype=tf.float32, normalizer=None), _RealValuedColumn(column_name='2158', dimension=1, default_value=None, dtype=tf.float32, normalizer=None), _RealValuedColumn(column_name='2159', dimension=1, default_value=None, dtype=tf.float32, normalizer=None), _RealValuedColumn(column_name='2160', dimension=1, default_value=None, dtype=tf.float32, normalizer=None), _RealValuedColumn(column_name='2161', dimension=1, default_value=None, dtype=tf.float32, normalizer=None), _RealValuedColumn(column_name='2162', dimension=1, default_value=None, dtype=tf.float32, normalizer=None), _RealValuedColumn(column_name='2163', dimension=1, default_value=None, dtype=tf.float32, normalizer=None), _RealValuedColumn(column_name='2164', dimension=1, default_value=None, dtype=tf.float32, normalizer=None), _RealValuedColumn(column_name='2165', dimension=1, default_value=None, dtype=tf.float32, normalizer=None), _RealValuedColumn(column_name='2166', dimension=1, default_value=None, dtype=tf.float32, normalizer=None), _RealValuedColumn(column_name='2167', dimension=1, default_value=None, dtype=tf.float32, normalizer=None), _RealValuedColumn(column_name='2168', dimension=1, default_value=None, dtype=tf.float32, normalizer=None), _RealValuedColumn(column_name='2169', dimension=1, default_value=None, dtype=tf.float32, normalizer=None), _RealValuedColumn(column_name='2170', dimension=1, default_value=None, dtype=tf.float32, normalizer=None), _RealValuedColumn(column_name='2171', dimension=1, default_value=None, dtype=tf.float32, normalizer=None), _RealValuedColumn(column_name='2172', dimension=1, default_value=None, dtype=tf.float32, normalizer=None), _RealValuedColumn(column_name='2173', dimension=1, default_value=None, dtype=tf.float32, normalizer=None), _RealValuedColumn(column_name='2174', dimension=1, default_value=None, dtype=tf.float32, normalizer=None), _RealValuedColumn(column_name='2175', dimension=1, default_value=None, dtype=tf.float32, normalizer=None), _RealValuedColumn(column_name='2176', dimension=1, default_value=None, dtype=tf.float32, normalizer=None), _RealValuedColumn(column_name='2177', dimension=1, default_value=None, dtype=tf.float32, normalizer=None), _RealValuedColumn(column_name='2178', dimension=1, default_value=None, dtype=tf.float32, normalizer=None), _RealValuedColumn(column_name='2179', dimension=1, default_value=None, dtype=tf.float32, normalizer=None), _RealValuedColumn(column_name='2180', dimension=1, default_value=None, dtype=tf.float32, normalizer=None), _RealValuedColumn(column_name='2181', dimension=1, default_value=None, dtype=tf.float32, normalizer=None), _RealValuedColumn(column_name='2182', dimension=1, default_value=None, dtype=tf.float32, normalizer=None), _RealValuedColumn(column_name='2183', dimension=1, default_value=None, dtype=tf.float32, normalizer=None), _RealValuedColumn(column_name='2184', dimension=1, default_value=None, dtype=tf.float32, normalizer=None), _RealValuedColumn(column_name='2185', dimension=1, default_value=None, dtype=tf.float32, normalizer=None), _RealValuedColumn(column_name='2186', dimension=1, default_value=None, dtype=tf.float32, normalizer=None), _RealValuedColumn(column_name='2187', dimension=1, default_value=None, dtype=tf.float32, normalizer=None), _RealValuedColumn(column_name='2188', dimension=1, default_value=None, dtype=tf.float32, normalizer=None), _RealValuedColumn(column_name='2189', dimension=1, default_value=None, dtype=tf.float32, normalizer=None), _RealValuedColumn(column_name='2190', dimension=1, default_value=None, dtype=tf.float32, normalizer=None), _RealValuedColumn(column_name='2191', dimension=1, default_value=None, dtype=tf.float32, normalizer=None), _RealValuedColumn(column_name='2192', dimension=1, default_value=None, dtype=tf.float32, normalizer=None), _RealValuedColumn(column_name='2193', dimension=1, default_value=None, dtype=tf.float32, normalizer=None), _RealValuedColumn(column_name='2194', dimension=1, default_value=None, dtype=tf.float32, normalizer=None), _RealValuedColumn(column_name='2195', dimension=1, default_value=None, dtype=tf.float32, normalizer=None), _RealValuedColumn(column_name='2196', dimension=1, default_value=None, dtype=tf.float32, normalizer=None), _RealValuedColumn(column_name='2197', dimension=1, default_value=None, dtype=tf.float32, normalizer=None), _RealValuedColumn(column_name='2198', dimension=1, default_value=None, dtype=tf.float32, normalizer=None), _RealValuedColumn(column_name='2199', dimension=1, default_value=None, dtype=tf.float32, normalizer=None), _RealValuedColumn(column_name='2200', dimension=1, default_value=None, dtype=tf.float32, normalizer=None), _RealValuedColumn(column_name='2201', dimension=1, default_value=None, dtype=tf.float32, normalizer=None), _RealValuedColumn(column_name='2202', dimension=1, default_value=None, dtype=tf.float32, normalizer=None), _RealValuedColumn(column_name='2203', dimension=1, default_value=None, dtype=tf.float32, normalizer=None), _RealValuedColumn(column_name='2204', dimension=1, default_value=None, dtype=tf.float32, normalizer=None), _RealValuedColumn(column_name='2205', dimension=1, default_value=None, dtype=tf.float32, normalizer=None), _RealValuedColumn(column_name='2206', dimension=1, default_value=None, dtype=tf.float32, normalizer=None), _RealValuedColumn(column_name='2207', dimension=1, default_value=None, dtype=tf.float32, normalizer=None), _RealValuedColumn(column_name='2208', dimension=1, default_value=None, dtype=tf.float32, normalizer=None), _RealValuedColumn(column_name='2209', dimension=1, default_value=None, dtype=tf.float32, normalizer=None), _RealValuedColumn(column_name='2210', dimension=1, default_value=None, dtype=tf.float32, normalizer=None), _RealValuedColumn(column_name='2211', dimension=1, default_value=None, dtype=tf.float32, normalizer=None), _RealValuedColumn(column_name='2212', dimension=1, default_value=None, dtype=tf.float32, normalizer=None), _RealValuedColumn(column_name='2213', dimension=1, default_value=None, dtype=tf.float32, normalizer=None), _RealValuedColumn(column_name='2214', dimension=1, default_value=None, dtype=tf.float32, normalizer=None), _RealValuedColumn(column_name='2215', dimension=1, default_value=None, dtype=tf.float32, normalizer=None), _RealValuedColumn(column_name='2216', dimension=1, default_value=None, dtype=tf.float32, normalizer=None), _RealValuedColumn(column_name='2217', dimension=1, default_value=None, dtype=tf.float32, normalizer=None), _RealValuedColumn(column_name='2218', dimension=1, default_value=None, dtype=tf.float32, normalizer=None), _RealValuedColumn(column_name='2219', dimension=1, default_value=None, dtype=tf.float32, normalizer=None), _RealValuedColumn(column_name='2220', dimension=1, default_value=None, dtype=tf.float32, normalizer=None), _RealValuedColumn(column_name='2221', dimension=1, default_value=None, dtype=tf.float32, normalizer=None), _RealValuedColumn(column_name='2222', dimension=1, default_value=None, dtype=tf.float32, normalizer=None), _RealValuedColumn(column_name='2223', dimension=1, default_value=None, dtype=tf.float32, normalizer=None), _RealValuedColumn(column_name='2224', dimension=1, default_value=None, dtype=tf.float32, normalizer=None), _RealValuedColumn(column_name='2225', dimension=1, default_value=None, dtype=tf.float32, normalizer=None), _RealValuedColumn(column_name='2226', dimension=1, default_value=None, dtype=tf.float32, normalizer=None), _RealValuedColumn(column_name='2227', dimension=1, default_value=None, dtype=tf.float32, normalizer=None), _RealValuedColumn(column_name='2228', dimension=1, default_value=None, dtype=tf.float32, normalizer=None), _RealValuedColumn(column_name='2229', dimension=1, default_value=None, dtype=tf.float32, normalizer=None), _RealValuedColumn(column_name='2230', dimension=1, default_value=None, dtype=tf.float32, normalizer=None), _RealValuedColumn(column_name='2231', dimension=1, default_value=None, dtype=tf.float32, normalizer=None), _RealValuedColumn(column_name='2232', dimension=1, default_value=None, dtype=tf.float32, normalizer=None), _RealValuedColumn(column_name='2233', dimension=1, default_value=None, dtype=tf.float32, normalizer=None), _RealValuedColumn(column_name='2234', dimension=1, default_value=None, dtype=tf.float32, normalizer=None), _RealValuedColumn(column_name='2235', dimension=1, default_value=None, dtype=tf.float32, normalizer=None), _RealValuedColumn(column_name='2236', dimension=1, default_value=None, dtype=tf.float32, normalizer=None), _RealValuedColumn(column_name='2237', dimension=1, default_value=None, dtype=tf.float32, normalizer=None), _RealValuedColumn(column_name='2238', dimension=1, default_value=None, dtype=tf.float32, normalizer=None), _RealValuedColumn(column_name='2239', dimension=1, default_value=None, dtype=tf.float32, normalizer=None), _RealValuedColumn(column_name='2240', dimension=1, default_value=None, dtype=tf.float32, normalizer=None), _RealValuedColumn(column_name='2241', dimension=1, default_value=None, dtype=tf.float32, normalizer=None), _RealValuedColumn(column_name='2242', dimension=1, default_value=None, dtype=tf.float32, normalizer=None), _RealValuedColumn(column_name='2243', dimension=1, default_value=None, dtype=tf.float32, normalizer=None), _RealValuedColumn(column_name='2244', dimension=1, default_value=None, dtype=tf.float32, normalizer=None), _RealValuedColumn(column_name='2245', dimension=1, default_value=None, dtype=tf.float32, normalizer=None), _RealValuedColumn(column_name='2246', dimension=1, default_value=None, dtype=tf.float32, normalizer=None), _RealValuedColumn(column_name='2247', dimension=1, default_value=None, dtype=tf.float32, normalizer=None), _RealValuedColumn(column_name='2248', dimension=1, default_value=None, dtype=tf.float32, normalizer=None), _RealValuedColumn(column_name='2249', dimension=1, default_value=None, dtype=tf.float32, normalizer=None), _RealValuedColumn(column_name='2250', dimension=1, default_value=None, dtype=tf.float32, normalizer=None), _RealValuedColumn(column_name='2251', dimension=1, default_value=None, dtype=tf.float32, normalizer=None), _RealValuedColumn(column_name='2252', dimension=1, default_value=None, dtype=tf.float32, normalizer=None), _RealValuedColumn(column_name='2253', dimension=1, default_value=None, dtype=tf.float32, normalizer=None), _RealValuedColumn(column_name='2254', dimension=1, default_value=None, dtype=tf.float32, normalizer=None), _RealValuedColumn(column_name='2255', dimension=1, default_value=None, dtype=tf.float32, normalizer=None), _RealValuedColumn(column_name='2256', dimension=1, default_value=None, dtype=tf.float32, normalizer=None), _RealValuedColumn(column_name='2257', dimension=1, default_value=None, dtype=tf.float32, normalizer=None), _RealValuedColumn(column_name='2258', dimension=1, default_value=None, dtype=tf.float32, normalizer=None), _RealValuedColumn(column_name='2259', dimension=1, default_value=None, dtype=tf.float32, normalizer=None), _RealValuedColumn(column_name='2260', dimension=1, default_value=None, dtype=tf.float32, normalizer=None), _RealValuedColumn(column_name='2261', dimension=1, default_value=None, dtype=tf.float32, normalizer=None), _RealValuedColumn(column_name='2262', dimension=1, default_value=None, dtype=tf.float32, normalizer=None), _RealValuedColumn(column_name='2263', dimension=1, default_value=None, dtype=tf.float32, normalizer=None), _RealValuedColumn(column_name='2264', dimension=1, default_value=None, dtype=tf.float32, normalizer=None), _RealValuedColumn(column_name='2265', dimension=1, default_value=None, dtype=tf.float32, normalizer=None), _RealValuedColumn(column_name='2266', dimension=1, default_value=None, dtype=tf.float32, normalizer=None), _RealValuedColumn(column_name='2267', dimension=1, default_value=None, dtype=tf.float32, normalizer=None), _RealValuedColumn(column_name='2268', dimension=1, default_value=None, dtype=tf.float32, normalizer=None), _RealValuedColumn(column_name='2269', dimension=1, default_value=None, dtype=tf.float32, normalizer=None), _RealValuedColumn(column_name='2270', dimension=1, default_value=None, dtype=tf.float32, normalizer=None), _RealValuedColumn(column_name='2271', dimension=1, default_value=None, dtype=tf.float32, normalizer=None), _RealValuedColumn(column_name='2272', dimension=1, default_value=None, dtype=tf.float32, normalizer=None), _RealValuedColumn(column_name='2273', dimension=1, default_value=None, dtype=tf.float32, normalizer=None), _RealValuedColumn(column_name='2274', dimension=1, default_value=None, dtype=tf.float32, normalizer=None), _RealValuedColumn(column_name='2275', dimension=1, default_value=None, dtype=tf.float32, normalizer=None), _RealValuedColumn(column_name='2276', dimension=1, default_value=None, dtype=tf.float32, normalizer=None), _RealValuedColumn(column_name='2277', dimension=1, default_value=None, dtype=tf.float32, normalizer=None), _RealValuedColumn(column_name='2278', dimension=1, default_value=None, dtype=tf.float32, normalizer=None), _RealValuedColumn(column_name='2279', dimension=1, default_value=None, dtype=tf.float32, normalizer=None), _RealValuedColumn(column_name='2280', dimension=1, default_value=None, dtype=tf.float32, normalizer=None), _RealValuedColumn(column_name='2281', dimension=1, default_value=None, dtype=tf.float32, normalizer=None), _RealValuedColumn(column_name='2282', dimension=1, default_value=None, dtype=tf.float32, normalizer=None), _RealValuedColumn(column_name='2283', dimension=1, default_value=None, dtype=tf.float32, normalizer=None), _RealValuedColumn(column_name='2284', dimension=1, default_value=None, dtype=tf.float32, normalizer=None), _RealValuedColumn(column_name='2285', dimension=1, default_value=None, dtype=tf.float32, normalizer=None), _RealValuedColumn(column_name='2286', dimension=1, default_value=None, dtype=tf.float32, normalizer=None), _RealValuedColumn(column_name='2287', dimension=1, default_value=None, dtype=tf.float32, normalizer=None), _RealValuedColumn(column_name='2288', dimension=1, default_value=None, dtype=tf.float32, normalizer=None), _RealValuedColumn(column_name='2289', dimension=1, default_value=None, dtype=tf.float32, normalizer=None), _RealValuedColumn(column_name='2290', dimension=1, default_value=None, dtype=tf.float32, normalizer=None), _RealValuedColumn(column_name='2291', dimension=1, default_value=None, dtype=tf.float32, normalizer=None), _RealValuedColumn(column_name='2292', dimension=1, default_value=None, dtype=tf.float32, normalizer=None), _RealValuedColumn(column_name='2293', dimension=1, default_value=None, dtype=tf.float32, normalizer=None), _RealValuedColumn(column_name='2294', dimension=1, default_value=None, dtype=tf.float32, normalizer=None), _RealValuedColumn(column_name='2295', dimension=1, default_value=None, dtype=tf.float32, normalizer=None), _RealValuedColumn(column_name='2296', dimension=1, default_value=None, dtype=tf.float32, normalizer=None), _RealValuedColumn(column_name='2297', dimension=1, default_value=None, dtype=tf.float32, normalizer=None), _RealValuedColumn(column_name='2298', dimension=1, default_value=None, dtype=tf.float32, normalizer=None), _RealValuedColumn(column_name='2299', dimension=1, default_value=None, dtype=tf.float32, normalizer=None), _RealValuedColumn(column_name='2300', dimension=1, default_value=None, dtype=tf.float32, normalizer=None), _RealValuedColumn(column_name='2301', dimension=1, default_value=None, dtype=tf.float32, normalizer=None), _RealValuedColumn(column_name='2302', dimension=1, default_value=None, dtype=tf.float32, normalizer=None), _RealValuedColumn(column_name='2303', dimension=1, default_value=None, dtype=tf.float32, normalizer=None), _RealValuedColumn(column_name='2304', dimension=1, default_value=None, dtype=tf.float32, normalizer=None), _RealValuedColumn(column_name='2305', dimension=1, default_value=None, dtype=tf.float32, normalizer=None), _RealValuedColumn(column_name='2306', dimension=1, default_value=None, dtype=tf.float32, normalizer=None), _RealValuedColumn(column_name='2307', dimension=1, default_value=None, dtype=tf.float32, normalizer=None), _RealValuedColumn(column_name='2308', dimension=1, default_value=None, dtype=tf.float32, normalizer=None), _RealValuedColumn(column_name='2309', dimension=1, default_value=None, dtype=tf.float32, normalizer=None), _RealValuedColumn(column_name='2310', dimension=1, default_value=None, dtype=tf.float32, normalizer=None), _RealValuedColumn(column_name='2311', dimension=1, default_value=None, dtype=tf.float32, normalizer=None), _RealValuedColumn(column_name='2312', dimension=1, default_value=None, dtype=tf.float32, normalizer=None), _RealValuedColumn(column_name='2313', dimension=1, default_value=None, dtype=tf.float32, normalizer=None), _RealValuedColumn(column_name='2314', dimension=1, default_value=None, dtype=tf.float32, normalizer=None), _RealValuedColumn(column_name='2315', dimension=1, default_value=None, dtype=tf.float32, normalizer=None), _RealValuedColumn(column_name='2316', dimension=1, default_value=None, dtype=tf.float32, normalizer=None), _RealValuedColumn(column_name='2317', dimension=1, default_value=None, dtype=tf.float32, normalizer=None), _RealValuedColumn(column_name='2318', dimension=1, default_value=None, dtype=tf.float32, normalizer=None), _RealValuedColumn(column_name='2319', dimension=1, default_value=None, dtype=tf.float32, normalizer=None), _RealValuedColumn(column_name='2320', dimension=1, default_value=None, dtype=tf.float32, normalizer=None), _RealValuedColumn(column_name='2321', dimension=1, default_value=None, dtype=tf.float32, normalizer=None), _RealValuedColumn(column_name='2322', dimension=1, default_value=None, dtype=tf.float32, normalizer=None), _RealValuedColumn(column_name='2323', dimension=1, default_value=None, dtype=tf.float32, normalizer=None), _RealValuedColumn(column_name='2324', dimension=1, default_value=None, dtype=tf.float32, normalizer=None), _RealValuedColumn(column_name='2325', dimension=1, default_value=None, dtype=tf.float32, normalizer=None), _RealValuedColumn(column_name='2326', dimension=1, default_value=None, dtype=tf.float32, normalizer=None), _RealValuedColumn(column_name='2327', dimension=1, default_value=None, dtype=tf.float32, normalizer=None), _RealValuedColumn(column_name='2328', dimension=1, default_value=None, dtype=tf.float32, normalizer=None), _RealValuedColumn(column_name='2329', dimension=1, default_value=None, dtype=tf.float32, normalizer=None), _RealValuedColumn(column_name='2330', dimension=1, default_value=None, dtype=tf.float32, normalizer=None), _RealValuedColumn(column_name='2331', dimension=1, default_value=None, dtype=tf.float32, normalizer=None), _RealValuedColumn(column_name='2332', dimension=1, default_value=None, dtype=tf.float32, normalizer=None), _RealValuedColumn(column_name='2333', dimension=1, default_value=None, dtype=tf.float32, normalizer=None), _RealValuedColumn(column_name='2334', dimension=1, default_value=None, dtype=tf.float32, normalizer=None), _RealValuedColumn(column_name='2335', dimension=1, default_value=None, dtype=tf.float32, normalizer=None), _RealValuedColumn(column_name='2336', dimension=1, default_value=None, dtype=tf.float32, normalizer=None), _RealValuedColumn(column_name='2337', dimension=1, default_value=None, dtype=tf.float32, normalizer=None), _RealValuedColumn(column_name='2338', dimension=1, default_value=None, dtype=tf.float32, normalizer=None), _RealValuedColumn(column_name='2339', dimension=1, default_value=None, dtype=tf.float32, normalizer=None), _RealValuedColumn(column_name='2340', dimension=1, default_value=None, dtype=tf.float32, normalizer=None), _RealValuedColumn(column_name='2341', dimension=1, default_value=None, dtype=tf.float32, normalizer=None), _RealValuedColumn(column_name='2342', dimension=1, default_value=None, dtype=tf.float32, normalizer=None), _RealValuedColumn(column_name='2343', dimension=1, default_value=None, dtype=tf.float32, normalizer=None), _RealValuedColumn(column_name='2344', dimension=1, default_value=None, dtype=tf.float32, normalizer=None), _RealValuedColumn(column_name='2345', dimension=1, default_value=None, dtype=tf.float32, normalizer=None), _RealValuedColumn(column_name='2346', dimension=1, default_value=None, dtype=tf.float32, normalizer=None), _RealValuedColumn(column_name='2347', dimension=1, default_value=None, dtype=tf.float32, normalizer=None), _RealValuedColumn(column_name='2348', dimension=1, default_value=None, dtype=tf.float32, normalizer=None), _RealValuedColumn(column_name='2349', dimension=1, default_value=None, dtype=tf.float32, normalizer=None), _RealValuedColumn(column_name='2350', dimension=1, default_value=None, dtype=tf.float32, normalizer=None), _RealValuedColumn(column_name='2351', dimension=1, default_value=None, dtype=tf.float32, normalizer=None), _RealValuedColumn(column_name='2352', dimension=1, default_value=None, dtype=tf.float32, normalizer=None), _RealValuedColumn(column_name='2353', dimension=1, default_value=None, dtype=tf.float32, normalizer=None), _RealValuedColumn(column_name='2354', dimension=1, default_value=None, dtype=tf.float32, normalizer=None), _RealValuedColumn(column_name='2355', dimension=1, default_value=None, dtype=tf.float32, normalizer=None), _RealValuedColumn(column_name='2356', dimension=1, default_value=None, dtype=tf.float32, normalizer=None), _RealValuedColumn(column_name='2357', dimension=1, default_value=None, dtype=tf.float32, normalizer=None), _RealValuedColumn(column_name='2358', dimension=1, default_value=None, dtype=tf.float32, normalizer=None), _RealValuedColumn(column_name='2359', dimension=1, default_value=None, dtype=tf.float32, normalizer=None), _RealValuedColumn(column_name='2360', dimension=1, default_value=None, dtype=tf.float32, normalizer=None), _RealValuedColumn(column_name='2361', dimension=1, default_value=None, dtype=tf.float32, normalizer=None), _RealValuedColumn(column_name='2362', dimension=1, default_value=None, dtype=tf.float32, normalizer=None), _RealValuedColumn(column_name='2363', dimension=1, default_value=None, dtype=tf.float32, normalizer=None), _RealValuedColumn(column_name='2364', dimension=1, default_value=None, dtype=tf.float32, normalizer=None), _RealValuedColumn(column_name='2365', dimension=1, default_value=None, dtype=tf.float32, normalizer=None), _RealValuedColumn(column_name='2366', dimension=1, default_value=None, dtype=tf.float32, normalizer=None), _RealValuedColumn(column_name='2367', dimension=1, default_value=None, dtype=tf.float32, normalizer=None), _RealValuedColumn(column_name='2368', dimension=1, default_value=None, dtype=tf.float32, normalizer=None), _RealValuedColumn(column_name='2369', dimension=1, default_value=None, dtype=tf.float32, normalizer=None), _RealValuedColumn(column_name='2370', dimension=1, default_value=None, dtype=tf.float32, normalizer=None), _RealValuedColumn(column_name='2371', dimension=1, default_value=None, dtype=tf.float32, normalizer=None), _RealValuedColumn(column_name='2372', dimension=1, default_value=None, dtype=tf.float32, normalizer=None), _RealValuedColumn(column_name='2373', dimension=1, default_value=None, dtype=tf.float32, normalizer=None), _RealValuedColumn(column_name='2374', dimension=1, default_value=None, dtype=tf.float32, normalizer=None), _RealValuedColumn(column_name='2375', dimension=1, default_value=None, dtype=tf.float32, normalizer=None), _RealValuedColumn(column_name='2376', dimension=1, default_value=None, dtype=tf.float32, normalizer=None), _RealValuedColumn(column_name='2377', dimension=1, default_value=None, dtype=tf.float32, normalizer=None), _RealValuedColumn(column_name='2378', dimension=1, default_value=None, dtype=tf.float32, normalizer=None), _RealValuedColumn(column_name='2379', dimension=1, default_value=None, dtype=tf.float32, normalizer=None), _RealValuedColumn(column_name='2380', dimension=1, default_value=None, dtype=tf.float32, normalizer=None), _RealValuedColumn(column_name='2381', dimension=1, default_value=None, dtype=tf.float32, normalizer=None), _RealValuedColumn(column_name='2382', dimension=1, default_value=None, dtype=tf.float32, normalizer=None), _RealValuedColumn(column_name='2383', dimension=1, default_value=None, dtype=tf.float32, normalizer=None), _RealValuedColumn(column_name='2384', dimension=1, default_value=None, dtype=tf.float32, normalizer=None), _RealValuedColumn(column_name='2385', dimension=1, default_value=None, dtype=tf.float32, normalizer=None), _RealValuedColumn(column_name='2386', dimension=1, default_value=None, dtype=tf.float32, normalizer=None), _RealValuedColumn(column_name='2387', dimension=1, default_value=None, dtype=tf.float32, normalizer=None), _RealValuedColumn(column_name='2388', dimension=1, default_value=None, dtype=tf.float32, normalizer=None), _RealValuedColumn(column_name='2389', dimension=1, default_value=None, dtype=tf.float32, normalizer=None), _RealValuedColumn(column_name='2390', dimension=1, default_value=None, dtype=tf.float32, normalizer=None), _RealValuedColumn(column_name='2391', dimension=1, default_value=None, dtype=tf.float32, normalizer=None), _RealValuedColumn(column_name='2392', dimension=1, default_value=None, dtype=tf.float32, normalizer=None), _RealValuedColumn(column_name='2393', dimension=1, default_value=None, dtype=tf.float32, normalizer=None), _RealValuedColumn(column_name='2394', dimension=1, default_value=None, dtype=tf.float32, normalizer=None), _RealValuedColumn(column_name='2395', dimension=1, default_value=None, dtype=tf.float32, normalizer=None), _RealValuedColumn(column_name='2396', dimension=1, default_value=None, dtype=tf.float32, normalizer=None), _RealValuedColumn(column_name='2397', dimension=1, default_value=None, dtype=tf.float32, normalizer=None), _RealValuedColumn(column_name='2398', dimension=1, default_value=None, dtype=tf.float32, normalizer=None), _RealValuedColumn(column_name='2399', dimension=1, default_value=None, dtype=tf.float32, normalizer=None)), 'optimizer': None, 'activation_fn': <function relu at 0x000001D79DF12BF8>, 'dropout': None, 'gradient_clip_norm': None, 'embedding_lr_multipliers': None, 'input_layer_min_slice_size': None})"
      ]
     },
     "execution_count": 108,
     "metadata": {},
     "output_type": "execute_result"
    }
   ],
   "source": [
    "classifier2.fit(input_fn=lambda: input_fn(Xn2_train,yn2_train),steps = 3000)"
   ]
  },
  {
   "cell_type": "code",
   "execution_count": 109,
   "metadata": {},
   "outputs": [
    {
     "name": "stdout",
     "output_type": "stream",
     "text": [
      "WARNING:tensorflow:Entity <bound method Dense.call of <tensorflow.python.layers.core.Dense object at 0x000001D7B6B1FF98>> could not be transformed and will be executed as-is. Please report this to the AutgoGraph team. When filing the bug, set the verbosity to 10 (on Linux, `export AUTOGRAPH_VERBOSITY=10`) and attach the full output. Cause: converting <bound method Dense.call of <tensorflow.python.layers.core.Dense object at 0x000001D7B6B1FF98>>: AssertionError: Bad argument number for Name: 3, expecting 4\n",
      "WARNING: Entity <bound method Dense.call of <tensorflow.python.layers.core.Dense object at 0x000001D7B6B1FF98>> could not be transformed and will be executed as-is. Please report this to the AutgoGraph team. When filing the bug, set the verbosity to 10 (on Linux, `export AUTOGRAPH_VERBOSITY=10`) and attach the full output. Cause: converting <bound method Dense.call of <tensorflow.python.layers.core.Dense object at 0x000001D7B6B1FF98>>: AssertionError: Bad argument number for Name: 3, expecting 4\n",
      "WARNING:tensorflow:Entity <bound method Dense.call of <tensorflow.python.layers.core.Dense object at 0x000001D7B6B1FFD0>> could not be transformed and will be executed as-is. Please report this to the AutgoGraph team. When filing the bug, set the verbosity to 10 (on Linux, `export AUTOGRAPH_VERBOSITY=10`) and attach the full output. Cause: converting <bound method Dense.call of <tensorflow.python.layers.core.Dense object at 0x000001D7B6B1FFD0>>: AssertionError: Bad argument number for Name: 3, expecting 4\n",
      "WARNING: Entity <bound method Dense.call of <tensorflow.python.layers.core.Dense object at 0x000001D7B6B1FFD0>> could not be transformed and will be executed as-is. Please report this to the AutgoGraph team. When filing the bug, set the verbosity to 10 (on Linux, `export AUTOGRAPH_VERBOSITY=10`) and attach the full output. Cause: converting <bound method Dense.call of <tensorflow.python.layers.core.Dense object at 0x000001D7B6B1FFD0>>: AssertionError: Bad argument number for Name: 3, expecting 4\n",
      "WARNING:tensorflow:Entity <bound method Dense.call of <tensorflow.python.layers.core.Dense object at 0x000001D7B7E2B9E8>> could not be transformed and will be executed as-is. Please report this to the AutgoGraph team. When filing the bug, set the verbosity to 10 (on Linux, `export AUTOGRAPH_VERBOSITY=10`) and attach the full output. Cause: converting <bound method Dense.call of <tensorflow.python.layers.core.Dense object at 0x000001D7B7E2B9E8>>: AssertionError: Bad argument number for Name: 3, expecting 4\n",
      "WARNING: Entity <bound method Dense.call of <tensorflow.python.layers.core.Dense object at 0x000001D7B7E2B9E8>> could not be transformed and will be executed as-is. Please report this to the AutgoGraph team. When filing the bug, set the verbosity to 10 (on Linux, `export AUTOGRAPH_VERBOSITY=10`) and attach the full output. Cause: converting <bound method Dense.call of <tensorflow.python.layers.core.Dense object at 0x000001D7B7E2B9E8>>: AssertionError: Bad argument number for Name: 3, expecting 4\n",
      "WARNING:tensorflow:Entity <bound method Dense.call of <tensorflow.python.layers.core.Dense object at 0x000001D7B7ED3D68>> could not be transformed and will be executed as-is. Please report this to the AutgoGraph team. When filing the bug, set the verbosity to 10 (on Linux, `export AUTOGRAPH_VERBOSITY=10`) and attach the full output. Cause: converting <bound method Dense.call of <tensorflow.python.layers.core.Dense object at 0x000001D7B7ED3D68>>: AssertionError: Bad argument number for Name: 3, expecting 4\n",
      "WARNING: Entity <bound method Dense.call of <tensorflow.python.layers.core.Dense object at 0x000001D7B7ED3D68>> could not be transformed and will be executed as-is. Please report this to the AutgoGraph team. When filing the bug, set the verbosity to 10 (on Linux, `export AUTOGRAPH_VERBOSITY=10`) and attach the full output. Cause: converting <bound method Dense.call of <tensorflow.python.layers.core.Dense object at 0x000001D7B7ED3D68>>: AssertionError: Bad argument number for Name: 3, expecting 4\n",
      "INFO:tensorflow:Starting evaluation at 2020-06-22T19:46:47Z\n",
      "INFO:tensorflow:Graph was finalized.\n",
      "INFO:tensorflow:Restoring parameters from C:\\Users\\user\\AppData\\Local\\Temp\\tmpv8nzy56m\\model.ckpt-3000\n",
      "INFO:tensorflow:Running local_init_op.\n",
      "INFO:tensorflow:Done running local_init_op.\n",
      "INFO:tensorflow:Evaluation [1/1]\n",
      "INFO:tensorflow:Finished evaluation at 2020-06-22-19:46:50\n",
      "INFO:tensorflow:Saving dict for global step 3000: accuracy = 0.8972332, global_step = 3000, loss = 0.9634178\n"
     ]
    }
   ],
   "source": [
    "ev2 = classifier2.evaluate(input_fn=lambda: input_fn(Xn2_test,yn2_test),steps=1)"
   ]
  },
  {
   "cell_type": "code",
   "execution_count": 110,
   "metadata": {},
   "outputs": [
    {
     "name": "stdout",
     "output_type": "stream",
     "text": [
      "{'loss': 0.9634178, 'accuracy': 0.8972332, 'global_step': 3000}\n"
     ]
    }
   ],
   "source": [
    "print(ev2)"
   ]
  },
  {
   "cell_type": "code",
   "execution_count": 111,
   "metadata": {},
   "outputs": [],
   "source": [
    "# I try two wavelength range (400,900), (400,2400)\n",
    "# give up this DNN for these reasons: \n",
    "# too difficult to find the best net, and this method for the data lack of meanings.\n",
    "# no good than GBDT classifier model,SVM model and even Random Forest."
   ]
  },
  {
   "cell_type": "code",
   "execution_count": 112,
   "metadata": {},
   "outputs": [],
   "source": [
    "# I can also use sklearn to duild Netural N etwork, but it can be difficult to tell the meaning of the net.\n",
    "# also the best net is difficult to find, I can just try some and find a roughly suitable one.\n",
    "# I also find for DNN, reduce dimension is a good way to improvE."
   ]
  },
  {
   "cell_type": "code",
   "execution_count": 113,
   "metadata": {},
   "outputs": [],
   "source": [
    "from sklearn.neural_network import MLPClassifier"
   ]
  },
  {
   "cell_type": "code",
   "execution_count": 114,
   "metadata": {},
   "outputs": [],
   "source": [
    "MLP = MLPClassifier(solver='lbfgs', alpha=1e-6,hidden_layer_sizes=(5,20), random_state=1)\n",
    "MLP1 = MLPClassifier(solver='lbfgs', alpha=1e-6,hidden_layer_sizes=(100,20,50), random_state=1)\n",
    "MLP2 = MLPClassifier(solver='lbfgs', alpha=1e-6,hidden_layer_sizes=(200,30,80), random_state=1)\n",
    "MLP3 = MLPClassifier(solver='lbfgs', alpha=1e-6,hidden_layer_sizes=(10,20,10), random_state=1)"
   ]
  },
  {
   "cell_type": "code",
   "execution_count": 115,
   "metadata": {},
   "outputs": [
    {
     "name": "stdout",
     "output_type": "stream",
     "text": [
      "accuracy_train： 0.7976190476190477\n",
      "accuracy_test： 0.7509881422924901\n",
      "Kappa_train： 0.7026896112173359\n",
      "Kappa_test： 0.6338387319090282\n",
      "confusion_matrix_train：\n",
      "[[208   0   8  14]\n",
      " [  0  28   0   0]\n",
      " [  7   0 146  27]\n",
      " [ 38   0  25  87]]\n",
      "confusion_matrix_test：\n",
      "[[85  0  2 13]\n",
      " [ 0 13  0  0]\n",
      " [ 7  0 55  8]\n",
      " [25  0  8 37]]\n"
     ]
    }
   ],
   "source": [
    "MLP1.fit(x1_train, y1_train)\n",
    "print ('accuracy_train：', accuracy_score(y1_train, MLP1.predict(x1_train)))\n",
    "print ('accuracy_test：', accuracy_score(y1_test, MLP1.predict(x1_test)))\n",
    "\n",
    "print ('Kappa_train：', cohen_kappa_score(y1_train, MLP1.predict(x1_train)))\n",
    "print ('Kappa_test：', cohen_kappa_score(y1_test, MLP1.predict(x1_test)))\n",
    "\n",
    "print ('confusion_matrix_train：')\n",
    "print ( confusion_matrix(y1_train, MLP1.predict(x1_train)))\n",
    "print ('confusion_matrix_test：')\n",
    "print ( confusion_matrix(y1_test, MLP1.predict(x1_test)))"
   ]
  },
  {
   "cell_type": "code",
   "execution_count": 116,
   "metadata": {},
   "outputs": [
    {
     "name": "stdout",
     "output_type": "stream",
     "text": [
      "accuracy_train： 0.8180272108843537\n",
      "accuracy_test： 0.766798418972332\n",
      "Kappa_train： 0.7341300360882683\n",
      "Kappa_test： 0.6589439532067539\n",
      "confusion_matrix_train：\n",
      "[[201   0   7  22]\n",
      " [  0  28   0   0]\n",
      " [  5   0 154  21]\n",
      " [ 32   1  19  98]]\n",
      "confusion_matrix_test：\n",
      "[[83  0  2 15]\n",
      " [ 0 13  0  0]\n",
      " [ 6  0 56  8]\n",
      " [22  1  5 42]]\n"
     ]
    }
   ],
   "source": [
    "MLP.fit(xpca1_train, ypca1_train)\n",
    "print ('accuracy_train：', accuracy_score(ypca1_train, MLP.predict(xpca1_train)))\n",
    "print ('accuracy_test：', accuracy_score(ypca1_test, MLP.predict(xpca1_test)))\n",
    "\n",
    "print ('Kappa_train：', cohen_kappa_score(ypca1_train, MLP.predict(xpca1_train)))\n",
    "print ('Kappa_test：', cohen_kappa_score(ypca1_test, MLP.predict(xpca1_test)))\n",
    "\n",
    "print ('confusion_matrix_train：')\n",
    "print ( confusion_matrix(ypca1_train, MLP.predict(xpca1_train)))\n",
    "print ('confusion_matrix_test：')\n",
    "print ( confusion_matrix(ypca1_test, MLP.predict(xpca1_test)))"
   ]
  },
  {
   "cell_type": "code",
   "execution_count": 117,
   "metadata": {},
   "outputs": [
    {
     "name": "stdout",
     "output_type": "stream",
     "text": [
      "accuracy_train： 0.9438775510204082\n",
      "accuracy_test： 0.9169960474308301\n",
      "Kappa_train： 0.918208718670702\n",
      "Kappa_test： 0.8789556421297245\n",
      "confusion_matrix_train：\n",
      "[[227   0   3   0]\n",
      " [  0  27   0   1]\n",
      " [  2   0 162  16]\n",
      " [  0   0  11 139]]\n",
      "confusion_matrix_test：\n",
      "[[98  0  1  1]\n",
      " [ 0 12  0  1]\n",
      " [ 5  0 60  5]\n",
      " [ 0  0  8 62]]\n"
     ]
    }
   ],
   "source": [
    "MLP.fit(xIca1_train, yIca1_train)\n",
    "print ('accuracy_train：', accuracy_score(yIca1_train, MLP.predict(xIca1_train)))\n",
    "print ('accuracy_test：', accuracy_score(yIca1_test, MLP.predict(xIca1_test)))\n",
    "\n",
    "print ('Kappa_train：', cohen_kappa_score(yIca1_train, MLP.predict(xIca1_train)))\n",
    "print ('Kappa_test：', cohen_kappa_score(yIca1_test, MLP.predict(xIca1_test)))\n",
    "\n",
    "print ('confusion_matrix_train：')\n",
    "print ( confusion_matrix(yIca1_train, MLP.predict(xIca1_train)))\n",
    "print ('confusion_matrix_test：')\n",
    "print ( confusion_matrix(yIca1_test, MLP.predict(xIca1_test)))"
   ]
  },
  {
   "cell_type": "code",
   "execution_count": 118,
   "metadata": {},
   "outputs": [
    {
     "name": "stdout",
     "output_type": "stream",
     "text": [
      "accuracy_train： 0.9251700680272109\n",
      "accuracy_test： 0.8735177865612648\n",
      "Kappa_train： 0.890757083139805\n",
      "Kappa_test： 0.8152863335614876\n",
      "confusion_matrix_train：\n",
      "[[217   0   9   4]\n",
      " [  0  28   0   0]\n",
      " [  7   0 166   7]\n",
      " [  9   0   8 133]]\n",
      "confusion_matrix_test：\n",
      "[[91  0  6  3]\n",
      " [ 0 13  0  0]\n",
      " [10  0 57  3]\n",
      " [ 6  0  4 60]]\n"
     ]
    }
   ],
   "source": [
    "MLP.fit(xlle1_train, ylle1_train)\n",
    "print ('accuracy_train：', accuracy_score(ylle1_train, MLP.predict(xlle1_train)))\n",
    "print ('accuracy_test：', accuracy_score(ylle1_test, MLP.predict(xlle1_test)))\n",
    "\n",
    "print ('Kappa_train：', cohen_kappa_score(ylle1_train, MLP.predict(xlle1_train)))\n",
    "print ('Kappa_test：', cohen_kappa_score(ylle1_test, MLP.predict(xlle1_test)))\n",
    "\n",
    "print ('confusion_matrix_train：')\n",
    "print ( confusion_matrix(ylle1_train, MLP.predict(xlle1_train)))\n",
    "print ('confusion_matrix_test：')\n",
    "print ( confusion_matrix(ylle1_test, MLP.predict(xlle1_test)))"
   ]
  },
  {
   "cell_type": "code",
   "execution_count": 119,
   "metadata": {},
   "outputs": [],
   "source": [
    "# for wavelength (400,2400),there are noisy data,if don't remove them, ICA and PCA are useless,so needn't to consider them."
   ]
  },
  {
   "cell_type": "code",
   "execution_count": 120,
   "metadata": {},
   "outputs": [
    {
     "name": "stdout",
     "output_type": "stream",
     "text": [
      "accuracy_train： 0.8996598639455783\n",
      "accuracy_test： 0.8972332015810277\n",
      "Kappa_train： 0.8538668913226621\n",
      "Kappa_test： 0.850063822027717\n",
      "confusion_matrix_train：\n",
      "[[202   0  27   1]\n",
      " [  0  28   0   0]\n",
      " [ 23   0 152   5]\n",
      " [  2   0   1 147]]\n",
      "confusion_matrix_test：\n",
      "[[91  0  8  1]\n",
      " [ 0  9  2  2]\n",
      " [ 5  0 61  4]\n",
      " [ 2  0  2 66]]\n"
     ]
    }
   ],
   "source": [
    "MLP2.fit(x2_train, y2_train)\n",
    "print ('accuracy_train：', accuracy_score(y2_train, MLP2.predict(x2_train)))\n",
    "print ('accuracy_test：', accuracy_score(y2_test, MLP2.predict(x2_test)))\n",
    "\n",
    "print ('Kappa_train：', cohen_kappa_score(y2_train, MLP2.predict(x2_train)))\n",
    "print ('Kappa_test：', cohen_kappa_score(y2_test, MLP2.predict(x2_test)))\n",
    "\n",
    "print ('confusion_matrix_train：')\n",
    "print ( confusion_matrix(y2_train, MLP2.predict(x2_train)))\n",
    "print ('confusion_matrix_test：')\n",
    "print ( confusion_matrix(y2_test, MLP2.predict(x2_test)))"
   ]
  },
  {
   "cell_type": "code",
   "execution_count": 121,
   "metadata": {},
   "outputs": [
    {
     "name": "stdout",
     "output_type": "stream",
     "text": [
      "accuracy_train： 0.9319727891156463\n",
      "accuracy_test： 0.9011857707509882\n",
      "Kappa_train： 0.8994115231969344\n",
      "Kappa_test： 0.8536184591173135\n",
      "confusion_matrix_train：\n",
      "[[224   0   6   0]\n",
      " [  0   0   0  28]\n",
      " [  5   0 174   1]\n",
      " [  0   0   0 150]]\n",
      "confusion_matrix_test：\n",
      "[[97  0  3  0]\n",
      " [ 0  0  0 13]\n",
      " [ 4  0 64  2]\n",
      " [ 2  0  1 67]]\n"
     ]
    }
   ],
   "source": [
    "MLP3.fit(xlle2_train, ylle2_train)\n",
    "print ('accuracy_train：', accuracy_score(ylle2_train, MLP3.predict(xlle2_train)))\n",
    "print ('accuracy_test：', accuracy_score(ylle2_test, MLP3.predict(xlle2_test)))\n",
    "\n",
    "print ('Kappa_train：', cohen_kappa_score(ylle2_train, MLP3.predict(xlle2_train)))\n",
    "print ('Kappa_test：', cohen_kappa_score(ylle2_test, MLP3.predict(xlle2_test)))\n",
    "\n",
    "print ('confusion_matrix_train：')\n",
    "print ( confusion_matrix(ylle2_train, MLP3.predict(xlle2_train)))\n",
    "print ('confusion_matrix_test：')\n",
    "print ( confusion_matrix(ylle2_test, MLP3.predict(xlle2_test)))"
   ]
  },
  {
   "cell_type": "code",
   "execution_count": null,
   "metadata": {},
   "outputs": [],
   "source": []
  }
 ],
 "metadata": {
  "kernelspec": {
   "display_name": "Python 3",
   "language": "python",
   "name": "python3"
  },
  "language_info": {
   "codemirror_mode": {
    "name": "ipython",
    "version": 3
   },
   "file_extension": ".py",
   "mimetype": "text/x-python",
   "name": "python",
   "nbconvert_exporter": "python",
   "pygments_lexer": "ipython3",
   "version": "3.7.3"
  }
 },
 "nbformat": 4,
 "nbformat_minor": 2
}
