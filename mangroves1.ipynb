{
 "cells": [
  {
   "cell_type": "code",
   "execution_count": 76,
   "metadata": {},
   "outputs": [],
   "source": [
    "from sklearn.decomposition import PCA\n",
    "import numpy as np\n",
    "from pandas import DataFrame \n",
    "import pandas as pd\n",
    "import matplotlib.pyplot as plt\n",
    "from scipy import stats\n",
    "from sklearn.decomposition import FastICA\n",
    "from sklearn.manifold import TSNE \n",
    "from sklearn.discriminant_analysis import LinearDiscriminantAnalysis\n",
    "from sklearn.manifold import LocallyLinearEmbedding\n",
    "from sklearn import manifold \n",
    "from sklearn.decomposition import KernelPCA\n",
    "from sklearn.model_selection import train_test_split"
   ]
  },
  {
   "cell_type": "code",
   "execution_count": 77,
   "metadata": {},
   "outputs": [],
   "source": [
    "Y= np.loadtxt('Y.txt')"
   ]
  },
  {
   "cell_type": "code",
   "execution_count": 78,
   "metadata": {},
   "outputs": [],
   "source": [
    "# Here is the data of wavelength of mangroves data, but I don't know why I can't upload the to this file, but I can upload it on my\n",
    "# own jutper notebook, so I woulad also sent the data to you, but if you want to run the code, I thik you should change the code below."
   ]
  },
  {
   "cell_type": "code",
   "execution_count": 79,
   "metadata": {},
   "outputs": [],
   "source": [
    "Wavelength= pd.read_csv('mangroves color.csv')"
   ]
  },
  {
   "cell_type": "code",
   "execution_count": 80,
   "metadata": {},
   "outputs": [],
   "source": [
    "# in the first plot, can find noisy data in range (1800,2000), here are two thoughts to solve this, one is use LLE to reduce dimension \n",
    "# to the other is to remove data here."
   ]
  },
  {
   "cell_type": "code",
   "execution_count": 81,
   "metadata": {},
   "outputs": [],
   "source": [
    "Mean=np.mean(Wavelength,axis=0)\n",
    "Sigma=np.std(Wavelength,axis=0)\n",
    "T=Sigma/Mean"
   ]
  },
  {
   "cell_type": "code",
   "execution_count": 82,
   "metadata": {},
   "outputs": [
    {
     "data": {
      "text/plain": [
       "[<matplotlib.lines.Line2D at 0x1d481f80b38>]"
      ]
     },
     "execution_count": 82,
     "metadata": {},
     "output_type": "execute_result"
    },
    {
     "data": {
      "image/png": "[encoded data removed]",
      "text/plain": [
       "<Figure size 432x288 with 1 Axes>"
      ]
     },
     "metadata": {
      "needs_background": "light"
     },
     "output_type": "display_data"
    }
   ],
   "source": [
    "plt.plot(Y[0:2000],Mean[0:2000])"
   ]
  },
  {
   "cell_type": "code",
   "execution_count": 83,
   "metadata": {},
   "outputs": [
    {
     "data": {
      "text/plain": [
       "[<matplotlib.lines.Line2D at 0x1d482000780>]"
      ]
     },
     "execution_count": 83,
     "metadata": {},
     "output_type": "execute_result"
    },
    {
     "data": {
      "image/png": "[encoded data removed]",
      "text/plain": [
       "<Figure size 432x288 with 1 Axes>"
      ]
     },
     "metadata": {
      "needs_background": "light"
     },
     "output_type": "display_data"
    }
   ],
   "source": [
    "plt.plot(Y[0:1350],T[0:1350])"
   ]
  },
  {
   "cell_type": "code",
   "execution_count": 84,
   "metadata": {},
   "outputs": [],
   "source": [
    "# As required, I try teo wavelength range here,(400,900), (400,2400)"
   ]
  },
  {
   "cell_type": "code",
   "execution_count": 85,
   "metadata": {},
   "outputs": [
    {
     "data": {
      "text/plain": [
       "(400.0, 900.0, 2400.0)"
      ]
     },
     "execution_count": 85,
     "metadata": {},
     "output_type": "execute_result"
    }
   ],
   "source": [
    "Y[50],Y[550],Y[2050]"
   ]
  },
  {
   "cell_type": "code",
   "execution_count": 86,
   "metadata": {},
   "outputs": [
    {
     "data": {
      "text/plain": [
       "(1104, 2000)"
      ]
     },
     "execution_count": 86,
     "metadata": {},
     "output_type": "execute_result"
    }
   ],
   "source": [
    "x=Wavelength.T\n",
    "wavelength2=x[50:2050].T\n",
    "wavelength2.shape"
   ]
  },
  {
   "cell_type": "code",
   "execution_count": 87,
   "metadata": {},
   "outputs": [
    {
     "data": {
      "text/plain": [
       "(1104, 500)"
      ]
     },
     "execution_count": 87,
     "metadata": {},
     "output_type": "execute_result"
    }
   ],
   "source": [
    "x=Wavelength.T\n",
    "wavelength1=x[50:550].T\n",
    "wavelength1.shape"
   ]
  },
  {
   "cell_type": "code",
   "execution_count": 88,
   "metadata": {},
   "outputs": [],
   "source": [
    "# I try different methods to reduce the dimension here.\n",
    "# There are some unlabeled data, and I want to mark them at last. \n",
    "# In my idea, I should reduce the dimension and then find the good classifier using the labeled data, and fit this best method to \n",
    "# unlabeled.\n",
    "# So I should reduce the dimension for all the samples,not just the labeled data.\n",
    "# I try some dimensions I should use and I showed their plots in some meetings. In this code I removed them, this is the next step \n",
    "# in my work.\n",
    "# but these dimensions are ok and I have roughly compared them."
   ]
  },
  {
   "cell_type": "code",
   "execution_count": 89,
   "metadata": {},
   "outputs": [],
   "source": [
    "# these two are linear method."
   ]
  },
  {
   "cell_type": "code",
   "execution_count": 90,
   "metadata": {},
   "outputs": [],
   "source": [
    "pca=PCA(n_components=10)\n",
    "X_PCA1=pca.fit_transform(wavelength1)\n",
    "X_PCA2=pca.fit_transform(wavelength2)"
   ]
  },
  {
   "cell_type": "code",
   "execution_count": 91,
   "metadata": {},
   "outputs": [],
   "source": [
    "ICA = FastICA(n_components=15,random_state=100) \n",
    "X_ICA1=ICA.fit_transform(wavelength1)\n",
    "X_ICA2=ICA.fit_transform(wavelength2)"
   ]
  },
  {
   "cell_type": "code",
   "execution_count": 92,
   "metadata": {},
   "outputs": [],
   "source": [
    "# This is nonlinear method"
   ]
  },
  {
   "cell_type": "code",
   "execution_count": 93,
   "metadata": {},
   "outputs": [],
   "source": [
    "lle=LocallyLinearEmbedding(n_components=30,n_neighbors=50)\n",
    "X_lle1=lle.fit_transform(wavelength1)\n",
    "X_lle2=lle.fit_transform(wavelength2)"
   ]
  },
  {
   "cell_type": "code",
   "execution_count": 94,
   "metadata": {},
   "outputs": [],
   "source": [
    "# new data, choose the labeled ones."
   ]
  },
  {
   "cell_type": "code",
   "execution_count": 95,
   "metadata": {},
   "outputs": [],
   "source": [
    "X_Pca1_labeled=X_PCA1[0:841]\n",
    "X_Ica1_labeled=X_ICA1[0:841]\n",
    "X_Lle1_labeled=X_lle1[0:841]\n",
    "x_n1=wavelength1[0:841]"
   ]
  },
  {
   "cell_type": "code",
   "execution_count": 96,
   "metadata": {},
   "outputs": [],
   "source": [
    "X_Pca2_labeled=X_PCA2[0:841]\n",
    "X_Ica2_labeled=X_ICA2[0:841]\n",
    "X_Lle2_labeled=X_lle2[0:841]\n",
    "x_n2=wavelength2[0:841]"
   ]
  },
  {
   "cell_type": "code",
   "execution_count": 97,
   "metadata": {},
   "outputs": [],
   "source": [
    "# target for four class(cloor)."
   ]
  },
  {
   "cell_type": "code",
   "execution_count": 98,
   "metadata": {},
   "outputs": [],
   "source": [
    "from numpy import array"
   ]
  },
  {
   "cell_type": "code",
   "execution_count": 99,
   "metadata": {},
   "outputs": [],
   "source": [
    "Target=array([ \"W\",\"W\",\"W\",\"W\",\"W\",\"W\",\"W\",\"W\",\"W\",\"W\",\"W\",\"W\",\"W\",\"W\",\"W\",\"W\",\"W\",\"W\",\"W\",\"W\",\"W\",\"W\",\"W\",\"W\",\"W\",\"W\",\"W\",\"W\",\"W\",\"W\",\n",
    "               \"W\",\"W\",\"W\",\"W\",\"W\",\"W\",\"W\",\"W\",\"W\",\"W\",\"W\",\"W\",\"W\",\"W\",\"W\",\"W\",\"W\",\"W\",\"W\",\"W\",\"W\",\"W\",\"W\",\"W\",\"W\",\"W\",\"W\",\"W\",\"W\",\"W\",\n",
    "               \"W\",\"W\",\"W\",\"W\",\"W\",\"W\",\"W\",\"W\",\"W\",\"W\",\"W\",\"W\",\"W\",\"W\",\"W\",\"W\",\"W\",\"W\",\"W\",\"W\",\"W\",\"W\",\"W\",\"W\",\"W\",\"W\",\"W\",\"W\",\"W\",\"W\",\n",
    "               \"W\",\"W\",\"W\",\"W\",\"W\",\"W\",\"W\",\"W\",\"W\",\"W\",\"W\",\"W\",\"W\",\"W\",\"W\",\"W\",\"W\",\"W\",\"W\",\"W\",\"W\",\"W\",\"W\",\"W\",\"W\",\"W\",\"W\",\"W\",\"W\",\"W\",\n",
    "               \"W\",\"W\",\"W\",\"W\",\"W\",\"W\",\"W\",\"W\",\"W\",\"W\",\"W\",\"W\",\"W\",\"W\",\"W\",\"W\",\"W\",\"W\",\"W\",\"W\",\"W\",\"W\",\"W\",\"W\",\"W\",\"W\",\"W\",\"W\",\"W\",\"W\",\n",
    "               \"W\",\"W\",\"W\",\"W\",\"W\",\"W\",\"W\",\"W\",\"W\",\"W\",\"W\",\"W\",\"W\",\"W\",\"W\",\"W\",\"W\",\"W\",\"W\",\"W\",\"W\",\"W\",\"W\",\"W\",\"W\",\"W\",\"W\",\"W\",\"W\",\"W\",\n",
    "               \"W\",\"W\",\"W\",\"W\",\"W\",\"W\",\"W\",\"W\",\"W\",\"W\",\"W\",\"W\",\"W\",\"W\",\"W\",\"W\",\"W\",\"W\",\"W\",\"W\",\"W\",\"W\",\"W\",\"W\",\"W\",\"W\",\"W\",\"W\",\"W\",\"W\",\n",
    "               \"W\",\"W\",\"W\",\"W\",\"W\",\"W\",\"W\",\"W\",\"W\",\"W\",\n",
    "               \"R\",\"R\",\"R\",\"R\",\"R\",\"R\",\"R\",\"R\",\"R\",\"R\",\"R\",\"R\",\"R\",\"R\",\"R\",\"R\",\"R\",\"R\",\"R\",\"R\",\"R\",\"R\",\"R\",\"R\",\"R\",\"R\",\"R\",\"R\",\"R\",\"R\",\n",
    "               \"R\",\"R\",\"R\",\"R\",\"R\",\"R\",\"R\",\"R\",\"R\",\"R\",\"R\",\"R\",\"R\",\"R\",\"R\",\"R\",\"R\",\"R\",\"R\",\"R\",\"R\",\"R\",\"R\",\"R\",\"R\",\"R\",\"R\",\"R\",\"R\",\"R\",\n",
    "               \"R\",\"R\",\"R\",\"R\",\"R\",\"R\",\"R\",\"R\",\"R\",\"R\",\"R\",\"R\",\"R\",\"R\",\"R\",\"R\",\"R\",\"R\",\"R\",\"R\",\"R\",\"R\",\"R\",\"R\",\"R\",\"R\",\"R\",\"R\",\"R\",\"R\",\n",
    "               \"R\",\"R\",\"R\",\"R\",\"R\",\"R\",\"R\",\"R\",\"R\",\"R\",\"R\",\"R\",\"R\",\"R\",\"R\",\"R\",\"R\",\"R\",\"R\",\"R\",\"R\",\"R\",\"R\",\"R\",\"R\",\"R\",\"R\",\"R\",\"R\",\"R\",\n",
    "               \"R\",\"R\",\"R\",\"R\",\"R\",\"R\",\"R\",\"R\",\"R\",\"R\",\"R\",\"R\",\"R\",\"R\",\"R\",\"R\",\"R\",\"R\",\"R\",\"R\",\"R\",\"R\",\"R\",\"R\",\"R\",\"R\",\"R\",\"R\",\"R\",\"R\",\n",
    "               \"R\",\"R\",\"R\",\"R\",\"R\",\"R\",\"R\",\"R\",\"R\",\"R\",\"R\",\"R\",\"R\",\"R\",\"R\",\"R\",\"R\",\"R\",\"R\",\"R\",\"R\",\"R\",\"R\",\"R\",\"R\",\"R\",\"R\",\"R\",\"R\",\"R\",\n",
    "               \"R\",\"R\",\"R\",\"R\",\"R\",\"R\",\"R\",\"R\",\"R\",\"R\",\"R\",\"R\",\"R\",\"R\",\"R\",\"R\",\"R\",\"R\",\"R\",\"R\",\"R\",\"R\",\"R\",\"R\",\"R\",\"R\",\"R\",\"R\",\"R\",\"R\",\n",
    "               \"R\",\"R\",\"R\",\"R\",\"R\",\"R\",\"R\",\"R\",\"R\",\"R\",\"R\",\"R\",\"R\",\"R\",\"R\",\"R\",\"R\",\"R\",\"R\",\"R\",\"R\",\"R\",\"R\",\"R\",\"R\",\"R\",\"R\",\"R\",\"R\",\"R\",\n",
    "               \"R\",\"R\",\"R\",\"R\",\"R\",\"R\",\"R\",\"R\",\"R\",\"R\",\n",
    "               \"B\",\"B\",\"B\",\"B\",\"B\",\"B\",\"B\",\"B\",\"B\",\"B\",\"B\",\"B\",\"B\",\"B\",\"B\",\"B\",\"B\",\"B\",\"B\",\"B\",\"B\",\"B\",\"B\",\"B\",\"B\",\"B\",\"B\",\"B\",\"B\",\"B\",\n",
    "               \"B\",\"B\",\"B\",\"B\",\"B\",\"B\",\"B\",\"B\",\"B\",\"B\",\"B\",\"B\",\"B\",\"B\",\"B\",\"B\",\"B\",\"B\",\"B\",\"B\",\"B\",\"B\",\"B\",\"B\",\"B\",\"B\",\"B\",\"B\",\"B\",\"B\",\n",
    "               \"B\",\"B\",\"B\",\"B\",\"B\",\"B\",\"B\",\"B\",\"B\",\"B\",\"B\",\"B\",\"B\",\"B\",\"B\",\"B\",\"B\",\"B\",\"B\",\"B\",\"B\",\"B\",\"B\",\"B\",\"B\",\"B\",\"B\",\"B\",\"B\",\"B\",\n",
    "               \"B\",\"B\",\"B\",\"B\",\"B\",\"B\",\"B\",\"B\",\"B\",\"B\",\"B\",\"B\",\"B\",\"B\",\"B\",\"B\",\"B\",\"B\",\"B\",\"B\",\"B\",\"B\",\"B\",\"B\",\"B\",\"B\",\"B\",\"B\",\"B\",\"B\",\n",
    "               \"B\",\"B\",\"B\",\"B\",\"B\",\"B\",\"B\",\"B\",\"B\",\"B\",\"B\",\"B\",\"B\",\"B\",\"B\",\"B\",\"B\",\"B\",\"B\",\"B\",\"B\",\"B\",\"B\",\"B\",\"B\",\"B\",\"B\",\"B\",\"B\",\"B\",\n",
    "               \"B\",\"B\",\"B\",\"B\",\"B\",\"B\",\"B\",\"B\",\"B\",\"B\",\"B\",\"B\",\"B\",\"B\",\"B\",\"B\",\"B\",\"B\",\"B\",\"B\",\"B\",\"B\",\"B\",\"B\",\"B\",\"B\",\"B\",\"B\",\"B\",\"B\",\n",
    "               \"B\",\"B\",\"B\",\"B\",\"B\",\"B\",\"B\",\"B\",\"B\",\"B\",\"B\",\"B\",\"B\",\"B\",\"B\",\"B\",\"B\",\"B\",\"B\",\"B\",\"B\",\"B\",\"B\",\"B\",\"B\",\"B\",\"B\",\"B\",\"B\",\"B\",\n",
    "               \"B\",\"B\",\"B\",\"B\",\"B\",\"B\",\"B\",\"B\",\"B\",\"B\",\"B\",\"B\",\"B\",\"B\",\"B\",\"B\",\"B\",\"B\",\"B\",\"B\",\"B\",\"B\",\"B\",\"B\",\"B\",\"B\",\"B\",\"B\",\"B\",\"B\",\n",
    "               \"B\",\"B\",\"B\",\"B\",\"B\",\"B\",\"B\",\"B\",\"B\",\"B\",\"B\",\"B\",\"B\",\"B\",\"B\",\"B\",\"B\",\"B\",\"B\",\"B\",\"B\",\"B\",\"B\",\"B\",\"B\",\"B\",\"B\",\"B\",\"B\",\"B\",\n",
    "               \"B\",\"B\",\"B\",\"B\",\"B\",\"B\",\"B\",\"B\",\"B\",\"B\",\"B\",\"B\",\"B\",\"B\",\"B\",\"B\",\"B\",\"B\",\"B\",\"B\",\"B\",\"B\",\"B\",\"B\",\"B\",\"B\",\"B\",\"B\",\"B\",\"B\",\n",
    "               \"B\",\"B\",\"B\",\"B\",\"B\",\"B\",\"B\",\"B\",\"B\",\"B\",\"B\",\"B\",\"B\",\"B\",\"B\",\"B\",\"B\",\"B\",\"B\",\"B\",\"B\",\"B\",\"B\",\"B\",\"B\",\"B\",\"B\",\"B\",\"B\",\"B\",\n",
    "               \"M\",\"M\",\"M\",\"M\",\"M\",\"M\",\"M\",\"M\",\"M\",\"M\",\"M\",\"M\",\"M\",\"M\",\"M\",\"M\",\"M\",\"M\",\"M\",\"M\",\"M\",\"M\",\"M\",\"M\",\"M\",\"M\",\"M\",\"M\",\"M\",\"M\",\n",
    "               \"M\",\"M\",\"M\",\"M\",\"M\",\"M\",\"M\",\"M\",\"M\",\"M\",\"M\" ])"
   ]
  },
  {
   "cell_type": "code",
   "execution_count": 100,
   "metadata": {},
   "outputs": [],
   "source": [
    "# target for three class, the mud class have many noisy data, but after comparing, this data won't affect the classification effect\n",
    "# since the characteristic of these data is out standing, so I give up this idea."
   ]
  },
  {
   "cell_type": "code",
   "execution_count": 101,
   "metadata": {},
   "outputs": [],
   "source": [
    "target=array([ \"W\",\"W\",\"W\",\"W\",\"W\",\"W\",\"W\",\"W\",\"W\",\"W\",\"W\",\"W\",\"W\",\"W\",\"W\",\"W\",\"W\",\"W\",\"W\",\"W\",\"W\",\"W\",\"W\",\"W\",\"W\",\"W\",\"W\",\"W\",\"W\",\"W\",\n",
    "               \"W\",\"W\",\"W\",\"W\",\"W\",\"W\",\"W\",\"W\",\"W\",\"W\",\"W\",\"W\",\"W\",\"W\",\"W\",\"W\",\"W\",\"W\",\"W\",\"W\",\"W\",\"W\",\"W\",\"W\",\"W\",\"W\",\"W\",\"W\",\"W\",\"W\",\n",
    "               \"W\",\"W\",\"W\",\"W\",\"W\",\"W\",\"W\",\"W\",\"W\",\"W\",\"W\",\"W\",\"W\",\"W\",\"W\",\"W\",\"W\",\"W\",\"W\",\"W\",\"W\",\"W\",\"W\",\"W\",\"W\",\"W\",\"W\",\"W\",\"W\",\"W\",\n",
    "               \"W\",\"W\",\"W\",\"W\",\"W\",\"W\",\"W\",\"W\",\"W\",\"W\",\"W\",\"W\",\"W\",\"W\",\"W\",\"W\",\"W\",\"W\",\"W\",\"W\",\"W\",\"W\",\"W\",\"W\",\"W\",\"W\",\"W\",\"W\",\"W\",\"W\",\n",
    "               \"W\",\"W\",\"W\",\"W\",\"W\",\"W\",\"W\",\"W\",\"W\",\"W\",\"W\",\"W\",\"W\",\"W\",\"W\",\"W\",\"W\",\"W\",\"W\",\"W\",\"W\",\"W\",\"W\",\"W\",\"W\",\"W\",\"W\",\"W\",\"W\",\"W\",\n",
    "               \"W\",\"W\",\"W\",\"W\",\"W\",\"W\",\"W\",\"W\",\"W\",\"W\",\"W\",\"W\",\"W\",\"W\",\"W\",\"W\",\"W\",\"W\",\"W\",\"W\",\"W\",\"W\",\"W\",\"W\",\"W\",\"W\",\"W\",\"W\",\"W\",\"W\",\n",
    "               \"W\",\"W\",\"W\",\"W\",\"W\",\"W\",\"W\",\"W\",\"W\",\"W\",\"W\",\"W\",\"W\",\"W\",\"W\",\"W\",\"W\",\"W\",\"W\",\"W\",\"W\",\"W\",\"W\",\"W\",\"W\",\"W\",\"W\",\"W\",\"W\",\"W\",\n",
    "               \"W\",\"W\",\"W\",\"W\",\"W\",\"W\",\"W\",\"W\",\"W\",\"W\",\n",
    "               \"R\",\"R\",\"R\",\"R\",\"R\",\"R\",\"R\",\"R\",\"R\",\"R\",\"R\",\"R\",\"R\",\"R\",\"R\",\"R\",\"R\",\"R\",\"R\",\"R\",\"R\",\"R\",\"R\",\"R\",\"R\",\"R\",\"R\",\"R\",\"R\",\"R\",\n",
    "               \"R\",\"R\",\"R\",\"R\",\"R\",\"R\",\"R\",\"R\",\"R\",\"R\",\"R\",\"R\",\"R\",\"R\",\"R\",\"R\",\"R\",\"R\",\"R\",\"R\",\"R\",\"R\",\"R\",\"R\",\"R\",\"R\",\"R\",\"R\",\"R\",\"R\",\n",
    "               \"R\",\"R\",\"R\",\"R\",\"R\",\"R\",\"R\",\"R\",\"R\",\"R\",\"R\",\"R\",\"R\",\"R\",\"R\",\"R\",\"R\",\"R\",\"R\",\"R\",\"R\",\"R\",\"R\",\"R\",\"R\",\"R\",\"R\",\"R\",\"R\",\"R\",\n",
    "               \"R\",\"R\",\"R\",\"R\",\"R\",\"R\",\"R\",\"R\",\"R\",\"R\",\"R\",\"R\",\"R\",\"R\",\"R\",\"R\",\"R\",\"R\",\"R\",\"R\",\"R\",\"R\",\"R\",\"R\",\"R\",\"R\",\"R\",\"R\",\"R\",\"R\",\n",
    "               \"R\",\"R\",\"R\",\"R\",\"R\",\"R\",\"R\",\"R\",\"R\",\"R\",\"R\",\"R\",\"R\",\"R\",\"R\",\"R\",\"R\",\"R\",\"R\",\"R\",\"R\",\"R\",\"R\",\"R\",\"R\",\"R\",\"R\",\"R\",\"R\",\"R\",\n",
    "               \"R\",\"R\",\"R\",\"R\",\"R\",\"R\",\"R\",\"R\",\"R\",\"R\",\"R\",\"R\",\"R\",\"R\",\"R\",\"R\",\"R\",\"R\",\"R\",\"R\",\"R\",\"R\",\"R\",\"R\",\"R\",\"R\",\"R\",\"R\",\"R\",\"R\",\n",
    "               \"R\",\"R\",\"R\",\"R\",\"R\",\"R\",\"R\",\"R\",\"R\",\"R\",\"R\",\"R\",\"R\",\"R\",\"R\",\"R\",\"R\",\"R\",\"R\",\"R\",\"R\",\"R\",\"R\",\"R\",\"R\",\"R\",\"R\",\"R\",\"R\",\"R\",\n",
    "               \"R\",\"R\",\"R\",\"R\",\"R\",\"R\",\"R\",\"R\",\"R\",\"R\",\"R\",\"R\",\"R\",\"R\",\"R\",\"R\",\"R\",\"R\",\"R\",\"R\",\"R\",\"R\",\"R\",\"R\",\"R\",\"R\",\"R\",\"R\",\"R\",\"R\",\n",
    "               \"R\",\"R\",\"R\",\"R\",\"R\",\"R\",\"R\",\"R\",\"R\",\"R\",\n",
    "               \"B\",\"B\",\"B\",\"B\",\"B\",\"B\",\"B\",\"B\",\"B\",\"B\",\"B\",\"B\",\"B\",\"B\",\"B\",\"B\",\"B\",\"B\",\"B\",\"B\",\"B\",\"B\",\"B\",\"B\",\"B\",\"B\",\"B\",\"B\",\"B\",\"B\",\n",
    "               \"B\",\"B\",\"B\",\"B\",\"B\",\"B\",\"B\",\"B\",\"B\",\"B\",\"B\",\"B\",\"B\",\"B\",\"B\",\"B\",\"B\",\"B\",\"B\",\"B\",\"B\",\"B\",\"B\",\"B\",\"B\",\"B\",\"B\",\"B\",\"B\",\"B\",\n",
    "               \"B\",\"B\",\"B\",\"B\",\"B\",\"B\",\"B\",\"B\",\"B\",\"B\",\"B\",\"B\",\"B\",\"B\",\"B\",\"B\",\"B\",\"B\",\"B\",\"B\",\"B\",\"B\",\"B\",\"B\",\"B\",\"B\",\"B\",\"B\",\"B\",\"B\",\n",
    "               \"B\",\"B\",\"B\",\"B\",\"B\",\"B\",\"B\",\"B\",\"B\",\"B\",\"B\",\"B\",\"B\",\"B\",\"B\",\"B\",\"B\",\"B\",\"B\",\"B\",\"B\",\"B\",\"B\",\"B\",\"B\",\"B\",\"B\",\"B\",\"B\",\"B\",\n",
    "               \"B\",\"B\",\"B\",\"B\",\"B\",\"B\",\"B\",\"B\",\"B\",\"B\",\"B\",\"B\",\"B\",\"B\",\"B\",\"B\",\"B\",\"B\",\"B\",\"B\",\"B\",\"B\",\"B\",\"B\",\"B\",\"B\",\"B\",\"B\",\"B\",\"B\",\n",
    "               \"B\",\"B\",\"B\",\"B\",\"B\",\"B\",\"B\",\"B\",\"B\",\"B\",\"B\",\"B\",\"B\",\"B\",\"B\",\"B\",\"B\",\"B\",\"B\",\"B\",\"B\",\"B\",\"B\",\"B\",\"B\",\"B\",\"B\",\"B\",\"B\",\"B\",\n",
    "               \"B\",\"B\",\"B\",\"B\",\"B\",\"B\",\"B\",\"B\",\"B\",\"B\",\"B\",\"B\",\"B\",\"B\",\"B\",\"B\",\"B\",\"B\",\"B\",\"B\",\"B\",\"B\",\"B\",\"B\",\"B\",\"B\",\"B\",\"B\",\"B\",\"B\",\n",
    "               \"B\",\"B\",\"B\",\"B\",\"B\",\"B\",\"B\",\"B\",\"B\",\"B\",\"B\",\"B\",\"B\",\"B\",\"B\",\"B\",\"B\",\"B\",\"B\",\"B\",\"B\",\"B\",\"B\",\"B\",\"B\",\"B\",\"B\",\"B\",\"B\",\"B\",\n",
    "               \"B\",\"B\",\"B\",\"B\",\"B\",\"B\",\"B\",\"B\",\"B\",\"B\",\"B\",\"B\",\"B\",\"B\",\"B\",\"B\",\"B\",\"B\",\"B\",\"B\",\"B\",\"B\",\"B\",\"B\",\"B\",\"B\",\"B\",\"B\",\"B\",\"B\",\n",
    "               \"B\",\"B\",\"B\",\"B\",\"B\",\"B\",\"B\",\"B\",\"B\",\"B\",\"B\",\"B\",\"B\",\"B\",\"B\",\"B\",\"B\",\"B\",\"B\",\"B\",\"B\",\"B\",\"B\",\"B\",\"B\",\"B\",\"B\",\"B\",\"B\",\"B\",\n",
    "               \"B\",\"B\",\"B\",\"B\",\"B\",\"B\",\"B\",\"B\",\"B\",\"B\",\"B\",\"B\",\"B\",\"B\",\"B\",\"B\",\"B\",\"B\",\"B\",\"B\",\"B\",\"B\",\"B\",\"B\",\"B\",\"B\",\"B\",\"B\",\"B\",\"B\"])"
   ]
  },
  {
   "cell_type": "code",
   "execution_count": 102,
   "metadata": {},
   "outputs": [],
   "source": [
    "# split train data,and test data at random"
   ]
  },
  {
   "cell_type": "code",
   "execution_count": 103,
   "metadata": {},
   "outputs": [],
   "source": [
    "xpca1_train, xpca1_test, ypca1_train, ypca1_test = train_test_split(X_Pca1_labeled,Target, test_size=0.3)\n",
    "xIca1_train, xIca1_test, yIca1_train, yIca1_test = train_test_split(X_Ica1_labeled,Target, test_size=0.3)\n",
    "xlle1_train, xlle1_test, ylle1_train, ylle1_test = train_test_split(X_Lle1_labeled,Target, test_size=0.3)\n",
    "x1_train, x1_test, y1_train, y1_test = train_test_split(x_n1,Target, test_size=0.3)\n",
    "\n",
    "xpca2_train, xpca2_test, ypca2_train, ypca2_test = train_test_split(X_Pca2_labeled,Target, test_size=0.3)\n",
    "xIca2_train, xIca2_test, yIca2_train, yIca2_test = train_test_split(X_Ica2_labeled,Target, test_size=0.3)\n",
    "xlle2_train, xlle2_test, ylle2_train, ylle2_test = train_test_split(X_Lle2_labeled,Target, test_size=0.3)\n",
    "x2_train, x2_test, y2_train, y2_test = train_test_split(x_n2,Target, test_size=0.3)"
   ]
  },
  {
   "cell_type": "code",
   "execution_count": 104,
   "metadata": {},
   "outputs": [],
   "source": [
    "from sklearn import svm\n",
    "from sklearn.svm import SVC\n",
    "from sklearn.metrics import accuracy_score\n",
    "from sklearn.metrics import cohen_kappa_score\n",
    "from sklearn.metrics import confusion_matrix\n",
    "from sklearn.metrics import matthews_corrcoef\n",
    "from sklearn.model_selection import RandomizedSearchCV"
   ]
  },
  {
   "cell_type": "code",
   "execution_count": 105,
   "metadata": {},
   "outputs": [],
   "source": [
    "from sklearn.ensemble import BaggingClassifier"
   ]
  },
  {
   "cell_type": "code",
   "execution_count": 106,
   "metadata": {},
   "outputs": [],
   "source": [
    "# SVM model for two range (400,900) , (400,2400)"
   ]
  },
  {
   "cell_type": "code",
   "execution_count": 107,
   "metadata": {},
   "outputs": [],
   "source": [
    "SVM= SVC(kernel='rbf')"
   ]
  },
  {
   "cell_type": "code",
   "execution_count": 108,
   "metadata": {},
   "outputs": [],
   "source": [
    "# when choose kernel, I find linear and sigmod is bad, so I choose rbf, which is often used.\n",
    "# for gussian kernel (rbf), there are C and gamma to choose\n",
    "# I first limit their range, then find the good combination roughly."
   ]
  },
  {
   "cell_type": "code",
   "execution_count": 109,
   "metadata": {},
   "outputs": [],
   "source": [
    "distributions = dict(C=np.logspace(-1,1,40),gamma=np.logspace(-1,1,40))"
   ]
  },
  {
   "cell_type": "code",
   "execution_count": 110,
   "metadata": {},
   "outputs": [],
   "source": [
    "clf = RandomizedSearchCV(SVM, distributions, random_state=42)"
   ]
  },
  {
   "cell_type": "code",
   "execution_count": 111,
   "metadata": {},
   "outputs": [
    {
     "name": "stderr",
     "output_type": "stream",
     "text": [
      "C:\\Users\\user\\Anaconda3\\lib\\site-packages\\sklearn\\model_selection\\_split.py:2053: FutureWarning: You should specify a value for 'cv' instead of relying on the default value. The default value will change from 3 to 5 in version 0.22.\n",
      "  warnings.warn(CV_WARNING, FutureWarning)\n",
      "C:\\Users\\user\\Anaconda3\\lib\\site-packages\\sklearn\\model_selection\\_search.py:841: DeprecationWarning: The default of the `iid` parameter will change from True to False in version 0.22 and will be removed in 0.24. This will change numeric results when test-set sizes are unequal.\n",
      "  DeprecationWarning)\n"
     ]
    }
   ],
   "source": [
    "search1 = clf.fit(xlle1_train, ylle1_train)"
   ]
  },
  {
   "cell_type": "code",
   "execution_count": 112,
   "metadata": {},
   "outputs": [
    {
     "data": {
      "text/plain": [
       "{'gamma': 8.886238162743403, 'C': 3.455107294592218}"
      ]
     },
     "execution_count": 112,
     "metadata": {},
     "output_type": "execute_result"
    }
   ],
   "source": [
    "search1.best_params_ "
   ]
  },
  {
   "cell_type": "code",
   "execution_count": 113,
   "metadata": {},
   "outputs": [],
   "source": [
    "# Then is the effects of SVM ,this model is good and I want to explain the method and how to use this."
   ]
  },
  {
   "cell_type": "code",
   "execution_count": 114,
   "metadata": {},
   "outputs": [],
   "source": [
    "clf1= SVC(C=7,kernel='rbf',gamma=1)"
   ]
  },
  {
   "cell_type": "code",
   "execution_count": 115,
   "metadata": {},
   "outputs": [
    {
     "name": "stdout",
     "output_type": "stream",
     "text": [
      "accuracy_train： 0.9302721088435374\n",
      "accuracy_test： 0.8735177865612648\n",
      "Kappa_train： 0.8983895236850867\n",
      "Kappa_test： 0.815189353299701\n",
      "confusion_matrix_train：\n",
      "[[222   0   7   3]\n",
      " [  0  29   0   0]\n",
      " [  6   0 156   9]\n",
      " [  7   0   9 140]]\n",
      "confusion_matrix_test：\n",
      "[[91  0  5  2]\n",
      " [ 0 11  1  0]\n",
      " [ 7  0 63  9]\n",
      " [ 5  0  3 56]]\n"
     ]
    }
   ],
   "source": [
    "clf1.fit(xpca1_train, ypca1_train)\n",
    "print ('accuracy_train：', accuracy_score(ypca1_train, clf1.predict(xpca1_train)))\n",
    "print ('accuracy_test：', accuracy_score(ypca1_test, clf1.predict(xpca1_test)))\n",
    "\n",
    "print ('Kappa_train：', cohen_kappa_score(ypca1_train, clf1.predict(xpca1_train)))\n",
    "print ('Kappa_test：', cohen_kappa_score(ypca1_test, clf1.predict(xpca1_test)))\n",
    "\n",
    "print ('confusion_matrix_train：')\n",
    "print ( confusion_matrix(ypca1_train, clf1.predict(xpca1_train)))\n",
    "print ('confusion_matrix_test：')\n",
    "print ( confusion_matrix(ypca1_test, clf1.predict(xpca1_test)))"
   ]
  },
  {
   "cell_type": "code",
   "execution_count": 116,
   "metadata": {},
   "outputs": [],
   "source": [
    "Clf1= SVC(C=7,kernel='rbf',gamma=1)"
   ]
  },
  {
   "cell_type": "code",
   "execution_count": 117,
   "metadata": {},
   "outputs": [
    {
     "name": "stdout",
     "output_type": "stream",
     "text": [
      "accuracy_train： 0.7074829931972789\n",
      "accuracy_test： 0.6442687747035574\n",
      "Kappa_train： 0.5663902727639104\n",
      "Kappa_test： 0.46960167714884704\n",
      "confusion_matrix_train：\n",
      "[[187   0  19  24]\n",
      " [  0  28   0   0]\n",
      " [ 50   0 112   6]\n",
      " [ 59   0  14  89]]\n",
      "confusion_matrix_test：\n",
      "[[73  0 12 15]\n",
      " [ 0 13  0  0]\n",
      " [30  0 50  2]\n",
      " [24  0  7 27]]\n"
     ]
    }
   ],
   "source": [
    "Clf1.fit(xpca2_train, ypca2_train)\n",
    "print ('accuracy_train：', accuracy_score(ypca2_train, Clf1.predict(xpca2_train)))\n",
    "print ('accuracy_test：', accuracy_score(ypca2_test, Clf1.predict(xpca2_test)))\n",
    "\n",
    "print ('Kappa_train：', cohen_kappa_score(ypca2_train, Clf1.predict(xpca2_train)))\n",
    "print ('Kappa_test：', cohen_kappa_score(ypca2_test, Clf1.predict(xpca2_test)))\n",
    "\n",
    "print ('confusion_matrix_train：')\n",
    "print ( confusion_matrix(ypca2_train, Clf1.predict(xpca2_train)))\n",
    "print ('confusion_matrix_test：')\n",
    "print ( confusion_matrix(ypca2_test, Clf1.predict(xpca2_test)))"
   ]
  },
  {
   "cell_type": "code",
   "execution_count": 118,
   "metadata": {},
   "outputs": [],
   "source": [
    "clf3= SVC(C=6,kernel='rbf',gamma=1)\n",
    "Clf3= SVC(C=6,kernel='rbf',gamma=1)"
   ]
  },
  {
   "cell_type": "code",
   "execution_count": 119,
   "metadata": {},
   "outputs": [
    {
     "name": "stdout",
     "output_type": "stream",
     "text": [
      "accuracy_train： 0.9404761904761905\n",
      "accuracy_test： 0.9367588932806324\n",
      "Kappa_train： 0.9127241268171872\n",
      "Kappa_test： 0.9078953356086462\n",
      "confusion_matrix_train：\n",
      "[[217   0   6   0]\n",
      " [  1  22   0   0]\n",
      " [  3   0 178  10]\n",
      " [  3   0  12 136]]\n",
      "confusion_matrix_test：\n",
      "[[105   0   2   0]\n",
      " [  0  18   0   0]\n",
      " [  4   0  55   0]\n",
      " [  1   0   9  59]]\n"
     ]
    }
   ],
   "source": [
    "clf3.fit(xIca1_train, yIca1_train)\n",
    "print ('accuracy_train：', accuracy_score(yIca1_train, clf3.predict(xIca1_train)))\n",
    "print ('accuracy_test：', accuracy_score(yIca1_test, clf3.predict(xIca1_test)))\n",
    "\n",
    "print ('Kappa_train：', cohen_kappa_score(yIca1_train, clf3.predict(xIca1_train)))\n",
    "print ('Kappa_test：', cohen_kappa_score(yIca1_test, clf3.predict(xIca1_test)))\n",
    "\n",
    "print ('confusion_matrix_train：')\n",
    "print ( confusion_matrix(yIca1_train, clf3.predict(xIca1_train)))\n",
    "print ('confusion_matrix_test：')\n",
    "print ( confusion_matrix(yIca1_test, clf3.predict(xIca1_test)))"
   ]
  },
  {
   "cell_type": "code",
   "execution_count": 120,
   "metadata": {},
   "outputs": [
    {
     "name": "stdout",
     "output_type": "stream",
     "text": [
      "accuracy_train： 0.4387755102040816\n",
      "accuracy_test： 0.4268774703557312\n",
      "Kappa_train： 0.08932191935120515\n",
      "Kappa_test： 0.0992904318790051\n",
      "confusion_matrix_train：\n",
      "[[234   0   0   0]\n",
      " [  5  24   0   0]\n",
      " [174   0   0   0]\n",
      " [151   0   0   0]]\n",
      "confusion_matrix_test：\n",
      "[[96  0  0  0]\n",
      " [ 0 12  0  0]\n",
      " [76  0  0  0]\n",
      " [69  0  0  0]]\n"
     ]
    }
   ],
   "source": [
    "Clf3.fit(xIca2_train, yIca2_train)\n",
    "print ('accuracy_train：', accuracy_score(yIca2_train, Clf3.predict(xIca2_train)))\n",
    "print ('accuracy_test：', accuracy_score(yIca2_test, Clf3.predict(xIca2_test)))\n",
    "\n",
    "print ('Kappa_train：', cohen_kappa_score(yIca2_train, Clf3.predict(xIca2_train)))\n",
    "print ('Kappa_test：', cohen_kappa_score(yIca2_test, Clf3.predict(xIca2_test)))\n",
    "\n",
    "print ('confusion_matrix_train：')\n",
    "print ( confusion_matrix(yIca2_train, Clf3.predict(xIca2_train)))\n",
    "print ('confusion_matrix_test：')\n",
    "print ( confusion_matrix(yIca2_test, Clf3.predict(xIca2_test)))"
   ]
  },
  {
   "cell_type": "code",
   "execution_count": 121,
   "metadata": {},
   "outputs": [],
   "source": [
    "clf4= SVC(C=3.5,kernel='rbf',gamma=9)\n",
    "Clf4= SVC(C=3.5,kernel='rbf',gamma=9)"
   ]
  },
  {
   "cell_type": "code",
   "execution_count": 122,
   "metadata": {},
   "outputs": [
    {
     "name": "stdout",
     "output_type": "stream",
     "text": [
      "accuracy_train： 0.9285714285714286\n",
      "accuracy_test： 0.8853754940711462\n",
      "Kappa_train： 0.895475515300292\n",
      "Kappa_test： 0.8339632035121862\n",
      "confusion_matrix_train：\n",
      "[[217   0   6   4]\n",
      " [  0  25   0   0]\n",
      " [  8   0 167  10]\n",
      " [  9   0   5 137]]\n",
      "confusion_matrix_test：\n",
      "[[94  0  6  3]\n",
      " [ 0 15  1  0]\n",
      " [ 3  0 56  6]\n",
      " [ 4  0  6 59]]\n"
     ]
    }
   ],
   "source": [
    "clf4.fit(xlle1_train, ylle1_train)\n",
    "print ('accuracy_train：', accuracy_score(ylle1_train, clf4.predict(xlle1_train)))\n",
    "print ('accuracy_test：', accuracy_score(ylle1_test, clf4.predict(xlle1_test)))\n",
    "\n",
    "print ('Kappa_train：', cohen_kappa_score(ylle1_train, clf4.predict(xlle1_train)))\n",
    "print ('Kappa_test：', cohen_kappa_score(ylle1_test, clf4.predict(xlle1_test)))\n",
    "\n",
    "print ('confusion_matrix_train：')\n",
    "print ( confusion_matrix(ylle1_train, clf4.predict(xlle1_train)))\n",
    "print ('confusion_matrix_test：')\n",
    "print ( confusion_matrix(ylle1_test, clf4.predict(xlle1_test)))"
   ]
  },
  {
   "cell_type": "code",
   "execution_count": 123,
   "metadata": {},
   "outputs": [
    {
     "name": "stdout",
     "output_type": "stream",
     "text": [
      "accuracy_train： 0.9795918367346939\n",
      "accuracy_test： 0.9723320158102767\n",
      "Kappa_train： 0.9703454652433386\n",
      "Kappa_test： 0.9593909793400748\n",
      "confusion_matrix_train：\n",
      "[[221   0   4   0]\n",
      " [  1  28   0   0]\n",
      " [  2   0 176   2]\n",
      " [  2   0   1 151]]\n",
      "confusion_matrix_test：\n",
      "[[102   0   3   0]\n",
      " [  0  12   0   0]\n",
      " [  0   0  69   1]\n",
      " [  2   0   1  63]]\n"
     ]
    }
   ],
   "source": [
    "Clf4.fit(xlle2_train, ylle2_train)\n",
    "print ('accuracy_train：', accuracy_score(ylle2_train, Clf4.predict(xlle2_train)))\n",
    "print ('accuracy_test：', accuracy_score(ylle2_test, Clf4.predict(xlle2_test)))\n",
    "\n",
    "print ('Kappa_train：', cohen_kappa_score(ylle2_train, Clf4.predict(xlle2_train)))\n",
    "print ('Kappa_test：', cohen_kappa_score(ylle2_test, Clf4.predict(xlle2_test)))\n",
    "\n",
    "print ('confusion_matrix_train：')\n",
    "print ( confusion_matrix(ylle2_train, Clf4.predict(xlle2_train)))\n",
    "print ('confusion_matrix_test：')\n",
    "print ( confusion_matrix(ylle2_test, Clf4.predict(xlle2_test)))"
   ]
  },
  {
   "cell_type": "code",
   "execution_count": 124,
   "metadata": {},
   "outputs": [],
   "source": [
    "clf= SVC(C=1,kernel='rbf',gamma=1)\n",
    "Clf= SVC(C=1,kernel='rbf',gamma=0.2)"
   ]
  },
  {
   "cell_type": "code",
   "execution_count": 125,
   "metadata": {},
   "outputs": [
    {
     "data": {
      "text/plain": [
       "BaggingClassifier(base_estimator=SVC(C=1, cache_size=200, class_weight=None, coef0=0.0,\n",
       "  decision_function_shape='ovr', degree=3, gamma=0.2, kernel='rbf',\n",
       "  max_iter=-1, probability=False, random_state=None, shrinking=True,\n",
       "  tol=0.001, verbose=False),\n",
       "         bootstrap=True, bootstrap_features=False, max_features=0.6,\n",
       "         max_samples=0.6, n_estimators=10, n_jobs=None, oob_score=False,\n",
       "         random_state=None, verbose=0, warm_start=False)"
      ]
     },
     "execution_count": 125,
     "metadata": {},
     "output_type": "execute_result"
    }
   ],
   "source": [
    "bagging = BaggingClassifier(Clf,max_samples=0.6, max_features=0.6)\n",
    "bagging.fit(x2_train,y2_train)"
   ]
  },
  {
   "cell_type": "code",
   "execution_count": 126,
   "metadata": {},
   "outputs": [
    {
     "name": "stdout",
     "output_type": "stream",
     "text": [
      "accuracy_train： 0.8384353741496599\n",
      "accuracy_test： 0.7984189723320159\n",
      "Kappa_train： 0.7657635746843511\n",
      "Kappa_test： 0.7015336217066457\n",
      "confusion_matrix_train：\n",
      "[[197   0  12  19]\n",
      " [  0  32   0   0]\n",
      " [  7   0 148  16]\n",
      " [ 29   0  12 116]]\n",
      "confusion_matrix_test：\n",
      "[[87  0  1 14]\n",
      " [ 0  9  0  0]\n",
      " [ 6  0 64  9]\n",
      " [14  0  7 42]]\n"
     ]
    }
   ],
   "source": [
    "clf.fit(x1_train, y1_train)\n",
    "print ('accuracy_train：', accuracy_score(y1_train, clf.predict(x1_train)))\n",
    "print ('accuracy_test：', accuracy_score(y1_test, clf.predict(x1_test)))\n",
    "\n",
    "print ('Kappa_train：', cohen_kappa_score(y1_train, clf.predict(x1_train)))\n",
    "print ('Kappa_test：', cohen_kappa_score(y1_test, clf.predict(x1_test)))\n",
    "\n",
    "print ('confusion_matrix_train：')\n",
    "print ( confusion_matrix(y1_train, clf.predict(x1_train)))\n",
    "print ('confusion_matrix_test：')\n",
    "print ( confusion_matrix(y1_test, clf.predict(x1_test)))"
   ]
  },
  {
   "cell_type": "code",
   "execution_count": 127,
   "metadata": {},
   "outputs": [
    {
     "name": "stdout",
     "output_type": "stream",
     "text": [
      "accuracy_train： 0.9370748299319728\n",
      "accuracy_test： 0.9367588932806324\n",
      "Kappa_train： 0.9074673460447351\n",
      "Kappa_test： 0.9092661496391268\n",
      "confusion_matrix_train：\n",
      "[[227   0  11   0]\n",
      " [  0  25   0   0]\n",
      " [ 12   1 159   1]\n",
      " [  5   1   6 140]]\n",
      "confusion_matrix_test：\n",
      "[[89  0  3  0]\n",
      " [ 0 16  0  0]\n",
      " [ 6  0 71  0]\n",
      " [ 5  1  1 61]]\n"
     ]
    }
   ],
   "source": [
    "bagging.fit(x2_train, y2_train)\n",
    "print ('accuracy_train：', accuracy_score(y2_train, bagging.predict(x2_train)))\n",
    "print ('accuracy_test：', accuracy_score(y2_test, bagging.predict(x2_test)))\n",
    "\n",
    "print ('Kappa_train：', cohen_kappa_score(y2_train, bagging.predict(x2_train)))\n",
    "print ('Kappa_test：', cohen_kappa_score(y2_test, bagging.predict(x2_test)))\n",
    "\n",
    "print ('confusion_matrix_train：')\n",
    "print ( confusion_matrix(y2_train, bagging.predict(x2_train)))\n",
    "print ('confusion_matrix_test：')\n",
    "print ( confusion_matrix(y2_test, bagging.predict(x2_test)))"
   ]
  },
  {
   "cell_type": "code",
   "execution_count": 128,
   "metadata": {},
   "outputs": [
    {
     "name": "stdout",
     "output_type": "stream",
     "text": [
      "accuracy_train： 0.9710884353741497\n",
      "accuracy_test： 0.9683794466403162\n",
      "Kappa_train： 0.9574974700875052\n",
      "Kappa_test： 0.9546747284738551\n",
      "confusion_matrix_train：\n",
      "[[232   0   6   0]\n",
      " [  0  25   0   0]\n",
      " [  5   0 168   0]\n",
      " [  3   0   3 146]]\n",
      "confusion_matrix_test：\n",
      "[[90  0  2  0]\n",
      " [ 0 16  0  0]\n",
      " [ 0  0 76  1]\n",
      " [ 5  0  0 63]]\n"
     ]
    }
   ],
   "source": [
    "Clf.fit(x2_train, y2_train)\n",
    "print ('accuracy_train：', accuracy_score(y2_train, Clf.predict(x2_train)))\n",
    "print ('accuracy_test：', accuracy_score(y2_test, Clf.predict(x2_test)))\n",
    "\n",
    "print ('Kappa_train：', cohen_kappa_score(y2_train, Clf.predict(x2_train)))\n",
    "print ('Kappa_test：', cohen_kappa_score(y2_test, Clf.predict(x2_test)))\n",
    "\n",
    "print ('confusion_matrix_train：')\n",
    "print ( confusion_matrix(y2_train, Clf.predict(x2_train)))\n",
    "print ('confusion_matrix_test：')\n",
    "print ( confusion_matrix(y2_test, Clf.predict(x2_test)))"
   ]
  },
  {
   "cell_type": "code",
   "execution_count": 129,
   "metadata": {},
   "outputs": [],
   "source": [
    "# Random Forest effect, too avoid overfitting, I choose set the max depth."
   ]
  },
  {
   "cell_type": "code",
   "execution_count": 130,
   "metadata": {},
   "outputs": [],
   "source": [
    "from sklearn.model_selection import GridSearchCV\n",
    "from sklearn.model_selection import cross_validate"
   ]
  },
  {
   "cell_type": "code",
   "execution_count": 131,
   "metadata": {},
   "outputs": [],
   "source": [
    "from sklearn.ensemble import RandomForestClassifier\n",
    "from sklearn.datasets import make_classification"
   ]
  },
  {
   "cell_type": "code",
   "execution_count": 132,
   "metadata": {},
   "outputs": [],
   "source": [
    "randomforest = RandomForestClassifier(max_depth=8)"
   ]
  },
  {
   "cell_type": "code",
   "execution_count": 133,
   "metadata": {},
   "outputs": [
    {
     "name": "stdout",
     "output_type": "stream",
     "text": [
      "accuracy_train： 0.9931972789115646\n",
      "accuracy_test： 0.8932806324110671\n",
      "Kappa_train： 0.990094381341049\n",
      "Kappa_test： 0.843770011892782\n",
      "confusion_matrix_train：\n",
      "[[232   0   0   0]\n",
      " [  0  29   0   0]\n",
      " [  0   0 169   2]\n",
      " [  1   0   1 154]]\n",
      "confusion_matrix_test：\n",
      "[[93  0  3  2]\n",
      " [ 0 11  0  1]\n",
      " [ 8  0 66  5]\n",
      " [ 4  0  4 56]]\n"
     ]
    },
    {
     "name": "stderr",
     "output_type": "stream",
     "text": [
      "C:\\Users\\user\\Anaconda3\\lib\\site-packages\\sklearn\\ensemble\\forest.py:246: FutureWarning: The default value of n_estimators will change from 10 in version 0.20 to 100 in 0.22.\n",
      "  \"10 in version 0.20 to 100 in 0.22.\", FutureWarning)\n"
     ]
    }
   ],
   "source": [
    "randomforest.fit(xpca1_train, ypca1_train)\n",
    "print ('accuracy_train：', accuracy_score(ypca1_train, randomforest.predict(xpca1_train)))\n",
    "print ('accuracy_test：', accuracy_score(ypca1_test, randomforest.predict(xpca1_test)))\n",
    "\n",
    "print ('Kappa_train：', cohen_kappa_score(ypca1_train, randomforest.predict(xpca1_train)))\n",
    "print ('Kappa_test：', cohen_kappa_score(ypca1_test, randomforest.predict(xpca1_test)))\n",
    "\n",
    "print ('confusion_matrix_train：')\n",
    "print ( confusion_matrix(ypca1_train, randomforest.predict(xpca1_train)))\n",
    "print ('confusion_matrix_test：')\n",
    "print ( confusion_matrix(ypca1_test, randomforest.predict(xpca1_test)))"
   ]
  },
  {
   "cell_type": "code",
   "execution_count": 134,
   "metadata": {},
   "outputs": [
    {
     "name": "stdout",
     "output_type": "stream",
     "text": [
      "accuracy_train： 0.9115646258503401\n",
      "accuracy_test： 0.6600790513833992\n",
      "Kappa_train： 0.8706522382882235\n",
      "Kappa_test： 0.49895221646516996\n",
      "confusion_matrix_train：\n",
      "[[219   0   7   4]\n",
      " [  0  28   0   0]\n",
      " [ 16   0 149   3]\n",
      " [ 13   0   9 140]]\n",
      "confusion_matrix_test：\n",
      "[[70  0 12 18]\n",
      " [ 0 12  1  0]\n",
      " [21  0 55  6]\n",
      " [18  0 10 30]]\n"
     ]
    }
   ],
   "source": [
    "randomforest.fit(xpca2_train, ypca2_train)\n",
    "print ('accuracy_train：', accuracy_score(ypca2_train, randomforest.predict(xpca2_train)))\n",
    "print ('accuracy_test：', accuracy_score(ypca2_test, randomforest.predict(xpca2_test)))\n",
    "\n",
    "print ('Kappa_train：', cohen_kappa_score(ypca2_train, randomforest.predict(xpca2_train)))\n",
    "print ('Kappa_test：', cohen_kappa_score(ypca2_test, randomforest.predict(xpca2_test)))\n",
    "\n",
    "print ('confusion_matrix_train：')\n",
    "print ( confusion_matrix(ypca2_train, randomforest.predict(xpca2_train)))\n",
    "print ('confusion_matrix_test：')\n",
    "print ( confusion_matrix(ypca2_test, randomforest.predict(xpca2_test)))"
   ]
  },
  {
   "cell_type": "code",
   "execution_count": 135,
   "metadata": {},
   "outputs": [
    {
     "name": "stdout",
     "output_type": "stream",
     "text": [
      "accuracy_train： 0.9931972789115646\n",
      "accuracy_test： 0.9090909090909091\n",
      "Kappa_train： 0.9900320398718405\n",
      "Kappa_test： 0.86764170685106\n",
      "confusion_matrix_train：\n",
      "[[223   0   0   0]\n",
      " [  0  22   0   1]\n",
      " [  0   0 191   0]\n",
      " [  0   0   3 148]]\n",
      "confusion_matrix_test：\n",
      "[[103   0   3   1]\n",
      " [  2  16   0   0]\n",
      " [  2   0  55   2]\n",
      " [  1   0  12  56]]\n"
     ]
    }
   ],
   "source": [
    "randomforest.fit(xIca1_train, yIca1_train)\n",
    "print ('accuracy_train：', accuracy_score(yIca1_train, randomforest.predict(xIca1_train)))\n",
    "print ('accuracy_test：', accuracy_score(yIca1_test, randomforest.predict(xIca1_test)))\n",
    "\n",
    "print ('Kappa_train：', cohen_kappa_score(yIca1_train, randomforest.predict(xIca1_train)))\n",
    "print ('Kappa_test：', cohen_kappa_score(yIca1_test, randomforest.predict(xIca1_test)))\n",
    "\n",
    "print ('confusion_matrix_train：')\n",
    "print ( confusion_matrix(yIca1_train, randomforest.predict(xIca1_train)))\n",
    "print ('confusion_matrix_test：')\n",
    "print ( confusion_matrix(yIca1_test, randomforest.predict(xIca1_test)))"
   ]
  },
  {
   "cell_type": "code",
   "execution_count": 136,
   "metadata": {},
   "outputs": [
    {
     "name": "stdout",
     "output_type": "stream",
     "text": [
      "accuracy_train： 0.8894557823129252\n",
      "accuracy_test： 0.6324110671936759\n",
      "Kappa_train： 0.837568370456313\n",
      "Kappa_test： 0.4573194639850543\n",
      "confusion_matrix_train：\n",
      "[[218   0   7   9]\n",
      " [  0  29   0   0]\n",
      " [ 15   0 155   4]\n",
      " [ 24   0   6 121]]\n",
      "confusion_matrix_test：\n",
      "[[68  0 14 14]\n",
      " [ 0 10  2  0]\n",
      " [16  0 54  6]\n",
      " [36  0  5 28]]\n"
     ]
    }
   ],
   "source": [
    "randomforest.fit(xIca2_train, yIca2_train)\n",
    "print ('accuracy_train：', accuracy_score(yIca2_train, randomforest.predict(xIca2_train)))\n",
    "print ('accuracy_test：', accuracy_score(yIca2_test, randomforest.predict(xIca2_test)))\n",
    "\n",
    "print ('Kappa_train：', cohen_kappa_score(yIca2_train, randomforest.predict(xIca2_train)))\n",
    "print ('Kappa_test：', cohen_kappa_score(yIca2_test, randomforest.predict(xIca2_test)))\n",
    "\n",
    "print ('confusion_matrix_train：')\n",
    "print ( confusion_matrix(yIca2_train, randomforest.predict(xIca2_train)))\n",
    "print ('confusion_matrix_test：')\n",
    "print ( confusion_matrix(yIca2_test, randomforest.predict(xIca2_test)))"
   ]
  },
  {
   "cell_type": "code",
   "execution_count": 137,
   "metadata": {},
   "outputs": [
    {
     "name": "stdout",
     "output_type": "stream",
     "text": [
      "accuracy_train： 0.9727891156462585\n",
      "accuracy_test： 0.8260869565217391\n",
      "Kappa_train： 0.9601666497307184\n",
      "Kappa_test： 0.7467640301189745\n",
      "confusion_matrix_train：\n",
      "[[222   0   2   3]\n",
      " [  0  25   0   0]\n",
      " [  3   0 182   0]\n",
      " [  7   0   1 143]]\n",
      "confusion_matrix_test：\n",
      "[[91  0  7  5]\n",
      " [ 1 15  0  0]\n",
      " [ 6  0 54  5]\n",
      " [10  0 10 49]]\n"
     ]
    }
   ],
   "source": [
    "randomforest.fit(xlle1_train, ylle1_train)\n",
    "print ('accuracy_train：', accuracy_score(ylle1_train, randomforest.predict(xlle1_train)))\n",
    "print ('accuracy_test：', accuracy_score(ylle1_test, randomforest.predict(xlle1_test)))\n",
    "\n",
    "print ('Kappa_train：', cohen_kappa_score(ylle1_train, randomforest.predict(xlle1_train)))\n",
    "print ('Kappa_test：', cohen_kappa_score(ylle1_test, randomforest.predict(xlle1_test)))\n",
    "\n",
    "print ('confusion_matrix_train：')\n",
    "print ( confusion_matrix(ylle1_train, randomforest.predict(xlle1_train)))\n",
    "print ('confusion_matrix_test：')\n",
    "print ( confusion_matrix(ylle1_test, randomforest.predict(xlle1_test)))"
   ]
  },
  {
   "cell_type": "code",
   "execution_count": 138,
   "metadata": {},
   "outputs": [
    {
     "name": "stdout",
     "output_type": "stream",
     "text": [
      "accuracy_train： 0.9880952380952381\n",
      "accuracy_test： 0.9169960474308301\n",
      "Kappa_train： 0.9827116209325476\n",
      "Kappa_test： 0.8782259912903965\n",
      "confusion_matrix_train：\n",
      "[[224   0   1   0]\n",
      " [  0  29   0   0]\n",
      " [  4   0 174   2]\n",
      " [  0   0   0 154]]\n",
      "confusion_matrix_test：\n",
      "[[96  0  9  0]\n",
      " [ 0 12  0  0]\n",
      " [ 2  0 66  2]\n",
      " [ 5  0  3 58]]\n"
     ]
    }
   ],
   "source": [
    "randomforest.fit(xlle2_train, ylle2_train)\n",
    "print ('accuracy_train：', accuracy_score(ylle2_train, randomforest.predict(xlle2_train)))\n",
    "print ('accuracy_test：', accuracy_score(ylle2_test, randomforest.predict(xlle2_test)))\n",
    "\n",
    "print ('Kappa_train：', cohen_kappa_score(ylle2_train, randomforest.predict(xlle2_train)))\n",
    "print ('Kappa_test：', cohen_kappa_score(ylle2_test, randomforest.predict(xlle2_test)))\n",
    "\n",
    "print ('confusion_matrix_train：')\n",
    "print ( confusion_matrix(ylle2_train, randomforest.predict(xlle2_train)))\n",
    "print ('confusion_matrix_test：')\n",
    "print ( confusion_matrix(ylle2_test, randomforest.predict(xlle2_test)))"
   ]
  },
  {
   "cell_type": "code",
   "execution_count": 139,
   "metadata": {},
   "outputs": [
    {
     "name": "stdout",
     "output_type": "stream",
     "text": [
      "accuracy_train： 0.9251700680272109\n",
      "accuracy_test： 0.7430830039525692\n",
      "Kappa_train： 0.8918914401521008\n",
      "Kappa_test： 0.6182683379758589\n",
      "confusion_matrix_train：\n",
      "[[210   0   2  16]\n",
      " [  0  31   0   1]\n",
      " [  3   0 156  12]\n",
      " [  9   0   1 147]]\n",
      "confusion_matrix_test：\n",
      "[[81  0  7 14]\n",
      " [ 0  9  0  0]\n",
      " [10  0 62  7]\n",
      " [17  0 10 36]]\n"
     ]
    }
   ],
   "source": [
    "randomforest.fit(x1_train, y1_train)\n",
    "print ('accuracy_train：', accuracy_score(y1_train, randomforest.predict(x1_train)))\n",
    "print ('accuracy_test：', accuracy_score(y1_test, randomforest.predict(x1_test)))\n",
    "\n",
    "print ('Kappa_train：', cohen_kappa_score(y1_train, randomforest.predict(x1_train)))\n",
    "print ('Kappa_test：', cohen_kappa_score(y1_test, randomforest.predict(x1_test)))\n",
    "\n",
    "print ('confusion_matrix_train：')\n",
    "print ( confusion_matrix(y1_train, randomforest.predict(x1_train)))\n",
    "print ('confusion_matrix_test：')\n",
    "print ( confusion_matrix(y1_test, randomforest.predict(x1_test)))"
   ]
  },
  {
   "cell_type": "code",
   "execution_count": 140,
   "metadata": {},
   "outputs": [
    {
     "name": "stdout",
     "output_type": "stream",
     "text": [
      "accuracy_train： 0.9948979591836735\n",
      "accuracy_test： 0.9130434782608695\n",
      "Kappa_train： 0.9925014984250596\n",
      "Kappa_test： 0.8749831543955797\n",
      "confusion_matrix_train：\n",
      "[[238   0   0   0]\n",
      " [  0  25   0   0]\n",
      " [  3   0 170   0]\n",
      " [  0   0   0 152]]\n",
      "confusion_matrix_test：\n",
      "[[87  0  4  1]\n",
      " [ 0 15  0  1]\n",
      " [10  0 66  1]\n",
      " [ 4  0  1 63]]\n"
     ]
    }
   ],
   "source": [
    "randomforest.fit(x2_train, y2_train)\n",
    "print ('accuracy_train：', accuracy_score(y2_train, randomforest.predict(x2_train)))\n",
    "print ('accuracy_test：', accuracy_score(y2_test, randomforest.predict(x2_test)))\n",
    "\n",
    "print ('Kappa_train：', cohen_kappa_score(y2_train, randomforest.predict(x2_train)))\n",
    "print ('Kappa_test：', cohen_kappa_score(y2_test, randomforest.predict(x2_test)))\n",
    "\n",
    "print ('confusion_matrix_train：')\n",
    "print ( confusion_matrix(y2_train, randomforest.predict(x2_train)))\n",
    "print ('confusion_matrix_test：')\n",
    "print ( confusion_matrix(y2_test, randomforest.predict(x2_test)))"
   ]
  },
  {
   "cell_type": "code",
   "execution_count": 141,
   "metadata": {},
   "outputs": [],
   "source": [
    "# this decision tree model, I am sure it is bad than Random forest and GBDT, so no need to consider much."
   ]
  },
  {
   "cell_type": "code",
   "execution_count": 142,
   "metadata": {},
   "outputs": [],
   "source": [
    "from sklearn import tree\n",
    "clf_tree = tree.DecisionTreeClassifier(max_depth=8)"
   ]
  },
  {
   "cell_type": "code",
   "execution_count": 143,
   "metadata": {},
   "outputs": [
    {
     "name": "stdout",
     "output_type": "stream",
     "text": [
      "accuracy_train： 0.8877551020408163\n",
      "accuracy_test： 0.6877470355731226\n",
      "Kappa_train： 0.8376084827892107\n",
      "Kappa_test： 0.5394912676835169\n",
      "confusion_matrix_train：\n",
      "[[202   0  13  13]\n",
      " [  0  32   0   0]\n",
      " [  2   0 164   5]\n",
      " [ 18   0  15 124]]\n",
      "confusion_matrix_test：\n",
      "[[69  0 13 20]\n",
      " [ 0  9  0  0]\n",
      " [ 8  0 65  6]\n",
      " [17  0 15 31]]\n"
     ]
    }
   ],
   "source": [
    "clf_tree.fit(x1_train, y1_train)\n",
    "print ('accuracy_train：', accuracy_score(y1_train, clf_tree.predict(x1_train)))\n",
    "print ('accuracy_test：', accuracy_score(y1_test, clf_tree.predict(x1_test)))\n",
    "\n",
    "print ('Kappa_train：', cohen_kappa_score(y1_train, clf_tree.predict(x1_train)))\n",
    "print ('Kappa_test：', cohen_kappa_score(y1_test, clf_tree.predict(x1_test)))\n",
    "\n",
    "print ('confusion_matrix_train：')\n",
    "print ( confusion_matrix(y1_train, clf_tree.predict(x1_train)))\n",
    "print ('confusion_matrix_test：')\n",
    "print ( confusion_matrix(y1_test, clf_tree.predict(x1_test)))"
   ]
  },
  {
   "cell_type": "code",
   "execution_count": 144,
   "metadata": {},
   "outputs": [
    {
     "name": "stdout",
     "output_type": "stream",
     "text": [
      "accuracy_train： 1.0\n",
      "accuracy_test： 0.8458498023715415\n",
      "Kappa_train： 1.0\n",
      "Kappa_test： 0.779616724738676\n",
      "confusion_matrix_train：\n",
      "[[238   0   0   0]\n",
      " [  0  25   0   0]\n",
      " [  0   0 173   0]\n",
      " [  0   0   0 152]]\n",
      "confusion_matrix_test：\n",
      "[[75  0 13  4]\n",
      " [ 1 15  0  0]\n",
      " [ 8  0 65  4]\n",
      " [ 5  1  3 59]]\n"
     ]
    }
   ],
   "source": [
    "clf_tree.fit(x2_train, y2_train)\n",
    "print ('accuracy_train：', accuracy_score(y2_train, clf_tree.predict(x2_train)))\n",
    "print ('accuracy_test：', accuracy_score(y2_test, clf_tree.predict(x2_test)))\n",
    "\n",
    "print ('Kappa_train：', cohen_kappa_score(y2_train, clf_tree.predict(x2_train)))\n",
    "print ('Kappa_test：', cohen_kappa_score(y2_test, clf_tree.predict(x2_test)))\n",
    "\n",
    "print ('confusion_matrix_train：')\n",
    "print ( confusion_matrix(y2_train, clf_tree.predict(x2_train)))\n",
    "print ('confusion_matrix_test：')\n",
    "print ( confusion_matrix(y2_test, clf_tree.predict(x2_test)))"
   ]
  },
  {
   "cell_type": "code",
   "execution_count": 145,
   "metadata": {},
   "outputs": [
    {
     "name": "stdout",
     "output_type": "stream",
     "text": [
      "accuracy_train： 0.9948979591836735\n",
      "accuracy_test： 0.8695652173913043\n",
      "Kappa_train： 0.992568407305205\n",
      "Kappa_test： 0.8088380080137378\n",
      "confusion_matrix_train：\n",
      "[[232   0   0   0]\n",
      " [  0  29   0   0]\n",
      " [  0   0 170   1]\n",
      " [  2   0   0 154]]\n",
      "confusion_matrix_test：\n",
      "[[93  0  2  3]\n",
      " [ 0 11  0  1]\n",
      " [ 7  0 65  7]\n",
      " [ 6  0  7 51]]\n"
     ]
    }
   ],
   "source": [
    "clf_tree.fit(xpca1_train, ypca1_train)\n",
    "print ('accuracy_train：', accuracy_score(ypca1_train, clf_tree.predict(xpca1_train)))\n",
    "print ('accuracy_test：', accuracy_score(ypca1_test, clf_tree.predict(xpca1_test)))\n",
    "\n",
    "print ('Kappa_train：', cohen_kappa_score(ypca1_train, clf_tree.predict(xpca1_train)))\n",
    "print ('Kappa_test：', cohen_kappa_score(ypca1_test, clf_tree.predict(xpca1_test)))\n",
    "\n",
    "print ('confusion_matrix_train：')\n",
    "print ( confusion_matrix(ypca1_train, clf_tree.predict(xpca1_train)))\n",
    "print ('confusion_matrix_test：')\n",
    "print ( confusion_matrix(ypca1_test, clf_tree.predict(xpca1_test)))"
   ]
  },
  {
   "cell_type": "code",
   "execution_count": 146,
   "metadata": {},
   "outputs": [
    {
     "name": "stdout",
     "output_type": "stream",
     "text": [
      "accuracy_train： 0.8673469387755102\n",
      "accuracy_test： 0.6126482213438735\n",
      "Kappa_train： 0.8055720414426941\n",
      "Kappa_test： 0.43080808080808075\n",
      "confusion_matrix_train：\n",
      "[[211   0  11   8]\n",
      " [  0  28   0   0]\n",
      " [ 20   0 145   3]\n",
      " [ 24   0  12 126]]\n",
      "confusion_matrix_test：\n",
      "[[61  0 12 27]\n",
      " [ 0 11  2  0]\n",
      " [24  0 55  3]\n",
      " [18  0 12 28]]\n"
     ]
    }
   ],
   "source": [
    "clf_tree.fit(xpca2_train, ypca2_train)\n",
    "print ('accuracy_train：', accuracy_score(ypca2_train, clf_tree.predict(xpca2_train)))\n",
    "print ('accuracy_test：', accuracy_score(ypca2_test, clf_tree.predict(xpca2_test)))\n",
    "\n",
    "print ('Kappa_train：', cohen_kappa_score(ypca2_train, clf_tree.predict(xpca2_train)))\n",
    "print ('Kappa_test：', cohen_kappa_score(ypca2_test, clf_tree.predict(xpca2_test)))\n",
    "\n",
    "print ('confusion_matrix_train：')\n",
    "print ( confusion_matrix(ypca2_train, clf_tree.predict(xpca2_train)))\n",
    "print ('confusion_matrix_test：')\n",
    "print ( confusion_matrix(ypca2_test, clf_tree.predict(xpca2_test)))"
   ]
  },
  {
   "cell_type": "code",
   "execution_count": 147,
   "metadata": {},
   "outputs": [
    {
     "name": "stdout",
     "output_type": "stream",
     "text": [
      "accuracy_train： 0.9625850340136054\n",
      "accuracy_test： 0.8300395256916996\n",
      "Kappa_train： 0.9451799366026478\n",
      "Kappa_test： 0.7530026109660575\n",
      "confusion_matrix_train：\n",
      "[[217   0   5   1]\n",
      " [  0  22   1   0]\n",
      " [  2   0 185   4]\n",
      " [  1   0   8 142]]\n",
      "confusion_matrix_test：\n",
      "[[95  0 10  2]\n",
      " [ 1 17  0  0]\n",
      " [ 6  0 49  4]\n",
      " [ 6  0 14 49]]\n"
     ]
    }
   ],
   "source": [
    "clf_tree.fit(xIca1_train, yIca1_train)\n",
    "print ('accuracy_train：', accuracy_score(yIca1_train, clf_tree.predict(xIca1_train)))\n",
    "print ('accuracy_test：', accuracy_score(yIca1_test, clf_tree.predict(xIca1_test)))\n",
    "\n",
    "print ('Kappa_train：', cohen_kappa_score(yIca1_train, clf_tree.predict(xIca1_train)))\n",
    "print ('Kappa_test：', cohen_kappa_score(yIca1_test, clf_tree.predict(xIca1_test)))\n",
    "\n",
    "print ('confusion_matrix_train：')\n",
    "print ( confusion_matrix(yIca1_train, clf_tree.predict(xIca1_train)))\n",
    "print ('confusion_matrix_test：')\n",
    "print ( confusion_matrix(yIca1_test, clf_tree.predict(xIca1_test)))"
   ]
  },
  {
   "cell_type": "code",
   "execution_count": 148,
   "metadata": {},
   "outputs": [
    {
     "name": "stdout",
     "output_type": "stream",
     "text": [
      "accuracy_train： 0.8044217687074829\n",
      "accuracy_test： 0.616600790513834\n",
      "Kappa_train： 0.7076056264945105\n",
      "Kappa_test： 0.4333902844477281\n",
      "confusion_matrix_train：\n",
      "[[222   0   9   3]\n",
      " [  0  29   0   0]\n",
      " [ 35   0 131   8]\n",
      " [ 55   0   5  91]]\n",
      "confusion_matrix_test：\n",
      "[[74  0 11 11]\n",
      " [ 0 10  1  1]\n",
      " [17  0 47 12]\n",
      " [38  2  4 25]]\n"
     ]
    }
   ],
   "source": [
    "clf_tree.fit(xIca2_train, yIca2_train)\n",
    "print ('accuracy_train：', accuracy_score(yIca2_train, clf_tree.predict(xIca2_train)))\n",
    "print ('accuracy_test：', accuracy_score(yIca2_test, clf_tree.predict(xIca2_test)))\n",
    "\n",
    "print ('Kappa_train：', cohen_kappa_score(yIca2_train, clf_tree.predict(xIca2_train)))\n",
    "print ('Kappa_test：', cohen_kappa_score(yIca2_test, clf_tree.predict(xIca2_test)))\n",
    "\n",
    "print ('confusion_matrix_train：')\n",
    "print ( confusion_matrix(yIca2_train, clf_tree.predict(xIca2_train)))\n",
    "print ('confusion_matrix_test：')\n",
    "print ( confusion_matrix(yIca2_test, clf_tree.predict(xIca2_test)))"
   ]
  },
  {
   "cell_type": "code",
   "execution_count": 149,
   "metadata": {},
   "outputs": [
    {
     "name": "stdout",
     "output_type": "stream",
     "text": [
      "accuracy_train： 0.9642857142857143\n",
      "accuracy_test： 0.7984189723320159\n",
      "Kappa_train： 0.9476349202310373\n",
      "Kappa_test： 0.7066900047737037\n",
      "confusion_matrix_train：\n",
      "[[225   0   0   2]\n",
      " [  0  25   0   0]\n",
      " [  8   0 175   2]\n",
      " [  8   0   1 142]]\n",
      "confusion_matrix_test：\n",
      "[[91  0  8  4]\n",
      " [ 1 15  0  0]\n",
      " [ 5  0 45 15]\n",
      " [ 9  0  9 51]]\n"
     ]
    }
   ],
   "source": [
    "clf_tree.fit(xlle1_train, ylle1_train)\n",
    "print ('accuracy_train：', accuracy_score(ylle1_train, clf_tree.predict(xlle1_train)))\n",
    "print ('accuracy_test：', accuracy_score(ylle1_test, clf_tree.predict(xlle1_test)))\n",
    "\n",
    "print ('Kappa_train：', cohen_kappa_score(ylle1_train, clf_tree.predict(xlle1_train)))\n",
    "print ('Kappa_test：', cohen_kappa_score(ylle1_test, clf_tree.predict(xlle1_test)))\n",
    "\n",
    "print ('confusion_matrix_train：')\n",
    "print ( confusion_matrix(ylle1_train, clf_tree.predict(xlle1_train)))\n",
    "print ('confusion_matrix_test：')\n",
    "print ( confusion_matrix(ylle1_test, clf_tree.predict(xlle1_test)))"
   ]
  },
  {
   "cell_type": "code",
   "execution_count": 150,
   "metadata": {},
   "outputs": [
    {
     "name": "stdout",
     "output_type": "stream",
     "text": [
      "accuracy_train： 0.9965986394557823\n",
      "accuracy_test： 0.8656126482213439\n",
      "Kappa_train： 0.9950627235628999\n",
      "Kappa_test： 0.8034592272716887\n",
      "confusion_matrix_train：\n",
      "[[224   0   0   1]\n",
      " [  0  29   0   0]\n",
      " [  1   0 179   0]\n",
      " [  0   0   0 154]]\n",
      "confusion_matrix_test：\n",
      "[[90  0 11  4]\n",
      " [ 0 10  2  0]\n",
      " [ 3  1 62  4]\n",
      " [ 5  0  4 57]]\n"
     ]
    }
   ],
   "source": [
    "clf_tree.fit(xlle2_train, ylle2_train)\n",
    "print ('accuracy_train：', accuracy_score(ylle2_train, clf_tree.predict(xlle2_train)))\n",
    "print ('accuracy_test：', accuracy_score(ylle2_test, clf_tree.predict(xlle2_test)))\n",
    "\n",
    "print ('Kappa_train：', cohen_kappa_score(ylle2_train, clf_tree.predict(xlle2_train)))\n",
    "print ('Kappa_test：', cohen_kappa_score(ylle2_test, clf_tree.predict(xlle2_test)))\n",
    "\n",
    "print ('confusion_matrix_train：')\n",
    "print ( confusion_matrix(ylle2_train, clf_tree.predict(xlle2_train)))\n",
    "print ('confusion_matrix_test：')\n",
    "print ( confusion_matrix(ylle2_test, clf_tree.predict(xlle2_test)))"
   ]
  },
  {
   "cell_type": "code",
   "execution_count": 151,
   "metadata": {},
   "outputs": [],
   "source": [
    "# GBDT model, booting+decision, a method I want to explain, and compare it with Randomforest.\n",
    "# I find roughly good parameter, limit max_depth to avoid overfitting (but for train data easy to reach accuracy is 1).\n",
    "# I perfer to show how to fulfil GBDT since it is a little better than Random Forest(other articles and my work both find this)"
   ]
  },
  {
   "cell_type": "code",
   "execution_count": 152,
   "metadata": {},
   "outputs": [],
   "source": [
    "from sklearn.datasets import make_classification\n",
    "from sklearn.ensemble import GradientBoostingClassifier\n",
    "GradientBoosting = GradientBoostingClassifier(max_depth=1)\n",
    "GradientBoosting1 = GradientBoostingClassifier(max_depth=2)\n",
    "GradientBoosting2 = GradientBoostingClassifier(random_state=10,max_depth=3,min_samples_split=20,min_samples_leaf=8)"
   ]
  },
  {
   "cell_type": "code",
   "execution_count": 153,
   "metadata": {},
   "outputs": [
    {
     "name": "stdout",
     "output_type": "stream",
     "text": [
      "accuracy_train： 0.9795918367346939\n",
      "accuracy_test： 0.8300395256916996\n",
      "Kappa_train： 0.9703963515684983\n",
      "Kappa_test： 0.7465933707577275\n",
      "confusion_matrix_train：\n",
      "[[227   0   1   0]\n",
      " [  0  32   0   0]\n",
      " [  4   0 167   0]\n",
      " [  4   0   3 150]]\n",
      "confusion_matrix_test：\n",
      "[[89  0  5  8]\n",
      " [ 0  9  0  0]\n",
      " [ 7  0 70  2]\n",
      " [15  0  6 42]]\n"
     ]
    }
   ],
   "source": [
    "GradientBoosting1.fit(x1_train, y1_train)\n",
    "print ('accuracy_train：', accuracy_score(y1_train, GradientBoosting1.predict(x1_train)))\n",
    "print ('accuracy_test：', accuracy_score(y1_test, GradientBoosting1.predict(x1_test)))\n",
    "\n",
    "print ('Kappa_train：', cohen_kappa_score(y1_train, GradientBoosting1.predict(x1_train)))\n",
    "print ('Kappa_test：', cohen_kappa_score(y1_test, GradientBoosting1.predict(x1_test)))\n",
    "\n",
    "print ('confusion_matrix_train：')\n",
    "print ( confusion_matrix(y1_train, GradientBoosting1.predict(x1_train)))\n",
    "print ('confusion_matrix_test：')\n",
    "print ( confusion_matrix(y1_test, GradientBoosting1.predict(x1_test)))"
   ]
  },
  {
   "cell_type": "code",
   "execution_count": 154,
   "metadata": {},
   "outputs": [
    {
     "name": "stdout",
     "output_type": "stream",
     "text": [
      "accuracy_train： 0.9591836734693877\n",
      "accuracy_test： 0.9051383399209486\n",
      "Kappa_train： 0.9400344190196953\n",
      "Kappa_test： 0.8637923686040513\n",
      "confusion_matrix_train：\n",
      "[[229   0   9   0]\n",
      " [  0  25   0   0]\n",
      " [  9   0 162   2]\n",
      " [  1   0   3 148]]\n",
      "confusion_matrix_test：\n",
      "[[85  0  4  3]\n",
      " [ 0 15  1  0]\n",
      " [12  0 64  1]\n",
      " [ 2  0  1 65]]\n"
     ]
    }
   ],
   "source": [
    "GradientBoosting.fit(x2_train, y2_train)\n",
    "print ('accuracy_train：', accuracy_score(y2_train, GradientBoosting.predict(x2_train)))\n",
    "print ('accuracy_test：', accuracy_score(y2_test, GradientBoosting.predict(x2_test)))\n",
    "\n",
    "print ('Kappa_train：', cohen_kappa_score(y2_train, GradientBoosting.predict(x2_train)))\n",
    "print ('Kappa_test：', cohen_kappa_score(y2_test, GradientBoosting.predict(x2_test)))\n",
    "\n",
    "print ('confusion_matrix_train：')\n",
    "print ( confusion_matrix(y2_train, GradientBoosting.predict(x2_train)))\n",
    "print ('confusion_matrix_test：')\n",
    "print ( confusion_matrix(y2_test, GradientBoosting.predict(x2_test)))"
   ]
  },
  {
   "cell_type": "code",
   "execution_count": 155,
   "metadata": {},
   "outputs": [
    {
     "name": "stdout",
     "output_type": "stream",
     "text": [
      "accuracy_train： 0.9659863945578231\n",
      "accuracy_test： 0.8774703557312253\n",
      "Kappa_train： 0.9504211671261984\n",
      "Kappa_test： 0.8203125\n",
      "confusion_matrix_train：\n",
      "[[228   0   3   1]\n",
      " [  0  29   0   0]\n",
      " [  5   0 163   3]\n",
      " [  3   0   5 148]]\n",
      "confusion_matrix_test：\n",
      "[[95  0  1  2]\n",
      " [ 1 11  0  0]\n",
      " [11  0 61  7]\n",
      " [ 2  0  7 55]]\n"
     ]
    }
   ],
   "source": [
    "GradientBoosting.fit(xpca1_train, ypca1_train)\n",
    "print ('accuracy_train：', accuracy_score(ypca1_train, GradientBoosting.predict(xpca1_train)))\n",
    "print ('accuracy_test：', accuracy_score(ypca1_test, GradientBoosting.predict(xpca1_test)))\n",
    "\n",
    "print ('Kappa_train：', cohen_kappa_score(ypca1_train, GradientBoosting.predict(xpca1_train)))\n",
    "print ('Kappa_test：', cohen_kappa_score(ypca1_test, GradientBoosting.predict(xpca1_test)))\n",
    "\n",
    "print ('confusion_matrix_train：')\n",
    "print ( confusion_matrix(ypca1_train, GradientBoosting.predict(xpca1_train)))\n",
    "print ('confusion_matrix_test：')\n",
    "print ( confusion_matrix(ypca1_test, GradientBoosting.predict(xpca1_test)))"
   ]
  },
  {
   "cell_type": "code",
   "execution_count": 156,
   "metadata": {},
   "outputs": [
    {
     "name": "stdout",
     "output_type": "stream",
     "text": [
      "accuracy_train： 0.9914965986394558\n",
      "accuracy_test： 0.7193675889328063\n",
      "Kappa_train： 0.9876158382476833\n",
      "Kappa_test： 0.5861727371161334\n",
      "confusion_matrix_train：\n",
      "[[229   0   1   0]\n",
      " [  0  28   0   0]\n",
      " [  3   0 165   0]\n",
      " [  1   0   0 161]]\n",
      "confusion_matrix_test：\n",
      "[[75  0 16  9]\n",
      " [ 0 12  1  0]\n",
      " [18  0 57  7]\n",
      " [17  0  3 38]]\n"
     ]
    }
   ],
   "source": [
    "GradientBoosting2.fit(xpca2_train, ypca2_train)\n",
    "print ('accuracy_train：', accuracy_score(ypca2_train, GradientBoosting2.predict(xpca2_train)))\n",
    "print ('accuracy_test：', accuracy_score(ypca2_test, GradientBoosting2.predict(xpca2_test)))\n",
    "\n",
    "print ('Kappa_train：', cohen_kappa_score(ypca2_train, GradientBoosting2.predict(xpca2_train)))\n",
    "print ('Kappa_test：', cohen_kappa_score(ypca2_test, GradientBoosting2.predict(xpca2_test)))\n",
    "\n",
    "print ('confusion_matrix_train：')\n",
    "print ( confusion_matrix(ypca2_train, GradientBoosting2.predict(xpca2_train)))\n",
    "print ('confusion_matrix_test：')\n",
    "print ( confusion_matrix(ypca2_test, GradientBoosting2.predict(xpca2_test)))"
   ]
  },
  {
   "cell_type": "code",
   "execution_count": 157,
   "metadata": {},
   "outputs": [
    {
     "name": "stdout",
     "output_type": "stream",
     "text": [
      "accuracy_train： 0.9693877551020408\n",
      "accuracy_test： 0.924901185770751\n",
      "Kappa_train： 0.9551563426828235\n",
      "Kappa_test： 0.8900503202195791\n",
      "confusion_matrix_train：\n",
      "[[221   0   1   1]\n",
      " [  0  23   0   0]\n",
      " [  4   0 183   4]\n",
      " [  0   0   8 143]]\n",
      "confusion_matrix_test：\n",
      "[[106   0   1   0]\n",
      " [  0  18   0   0]\n",
      " [  5   0  53   1]\n",
      " [  4   0   8  57]]\n"
     ]
    }
   ],
   "source": [
    "GradientBoosting.fit(xIca1_train, yIca1_train)\n",
    "print ('accuracy_train：', accuracy_score(yIca1_train, GradientBoosting.predict(xIca1_train)))\n",
    "print ('accuracy_test：', accuracy_score(yIca1_test, GradientBoosting.predict(xIca1_test)))\n",
    "\n",
    "print ('Kappa_train：', cohen_kappa_score(yIca1_train, GradientBoosting.predict(xIca1_train)))\n",
    "print ('Kappa_test：', cohen_kappa_score(yIca1_test, GradientBoosting.predict(xIca1_test)))\n",
    "\n",
    "print ('confusion_matrix_train：')\n",
    "print ( confusion_matrix(yIca1_train, GradientBoosting.predict(xIca1_train)))\n",
    "print ('confusion_matrix_test：')\n",
    "print ( confusion_matrix(yIca1_test, GradientBoosting.predict(xIca1_test)))"
   ]
  },
  {
   "cell_type": "code",
   "execution_count": 158,
   "metadata": {},
   "outputs": [
    {
     "name": "stdout",
     "output_type": "stream",
     "text": [
      "accuracy_train： 0.9863945578231292\n",
      "accuracy_test： 0.7391304347826086\n",
      "Kappa_train： 0.9801395802459754\n",
      "Kappa_test： 0.6188802410243535\n",
      "confusion_matrix_train：\n",
      "[[232   0   0   2]\n",
      " [  0  29   0   0]\n",
      " [  5   0 169   0]\n",
      " [  1   0   0 150]]\n",
      "confusion_matrix_test：\n",
      "[[71  0 10 15]\n",
      " [ 0  9  1  2]\n",
      " [14  0 59  3]\n",
      " [16  0  5 48]]\n"
     ]
    }
   ],
   "source": [
    "GradientBoosting2.fit(xIca2_train, yIca2_train)\n",
    "print ('accuracy_train：', accuracy_score(yIca2_train, GradientBoosting2.predict(xIca2_train)))\n",
    "print ('accuracy_test：', accuracy_score(yIca2_test, GradientBoosting2.predict(xIca2_test)))\n",
    "\n",
    "print ('Kappa_train：', cohen_kappa_score(yIca2_train, GradientBoosting2.predict(xIca2_train)))\n",
    "print ('Kappa_test：', cohen_kappa_score(yIca2_test, GradientBoosting2.predict(xIca2_test)))\n",
    "\n",
    "print ('confusion_matrix_train：')\n",
    "print ( confusion_matrix(yIca2_train, GradientBoosting2.predict(xIca2_train)))\n",
    "print ('confusion_matrix_test：')\n",
    "print ( confusion_matrix(yIca2_test, GradientBoosting2.predict(xIca2_test)))"
   ]
  },
  {
   "cell_type": "code",
   "execution_count": 159,
   "metadata": {},
   "outputs": [
    {
     "name": "stdout",
     "output_type": "stream",
     "text": [
      "accuracy_train： 0.9914965986394558\n",
      "accuracy_test： 0.8616600790513834\n",
      "Kappa_train： 0.9875658712771627\n",
      "Kappa_test： 0.7995109470871918\n",
      "confusion_matrix_train：\n",
      "[[226   0   1   0]\n",
      " [  0  25   0   0]\n",
      " [  1   0 183   1]\n",
      " [  2   0   0 149]]\n",
      "confusion_matrix_test：\n",
      "[[91  0  6  6]\n",
      " [ 1 15  0  0]\n",
      " [ 3  0 58  4]\n",
      " [ 7  0  8 54]]\n"
     ]
    }
   ],
   "source": [
    "GradientBoosting1.fit(xlle1_train, ylle1_train)\n",
    "print ('accuracy_train：', accuracy_score(ylle1_train, GradientBoosting1.predict(xlle1_train)))\n",
    "print ('accuracy_test：', accuracy_score(ylle1_test, GradientBoosting1.predict(xlle1_test)))\n",
    "\n",
    "print ('Kappa_train：', cohen_kappa_score(ylle1_train, GradientBoosting1.predict(xlle1_train)))\n",
    "print ('Kappa_test：', cohen_kappa_score(ylle1_test, GradientBoosting1.predict(xlle1_test)))\n",
    "\n",
    "print ('confusion_matrix_train：')\n",
    "print ( confusion_matrix(ylle1_train, GradientBoosting1.predict(xlle1_train)))\n",
    "print ('confusion_matrix_test：')\n",
    "print ( confusion_matrix(ylle1_test, GradientBoosting1.predict(xlle1_test)))"
   ]
  },
  {
   "cell_type": "code",
   "execution_count": 160,
   "metadata": {},
   "outputs": [
    {
     "name": "stdout",
     "output_type": "stream",
     "text": [
      "accuracy_train： 0.9744897959183674\n",
      "accuracy_test： 0.924901185770751\n",
      "Kappa_train： 0.9629221701880796\n",
      "Kappa_test： 0.8901081315867682\n",
      "confusion_matrix_train：\n",
      "[[221   0   4   0]\n",
      " [  0  29   0   0]\n",
      " [  5   0 174   1]\n",
      " [  3   0   2 149]]\n",
      "confusion_matrix_test：\n",
      "[[96  0  9  0]\n",
      " [ 0 11  1  0]\n",
      " [ 2  1 66  1]\n",
      " [ 2  0  3 61]]\n"
     ]
    }
   ],
   "source": [
    "GradientBoosting.fit(xlle2_train, ylle2_train)\n",
    "print ('accuracy_train：', accuracy_score(ylle2_train, GradientBoosting.predict(xlle2_train)))\n",
    "print ('accuracy_test：', accuracy_score(ylle2_test, GradientBoosting.predict(xlle2_test)))\n",
    "\n",
    "print ('Kappa_train：', cohen_kappa_score(ylle2_train, GradientBoosting.predict(xlle2_train)))\n",
    "print ('Kappa_test：', cohen_kappa_score(ylle2_test, GradientBoosting.predict(xlle2_test)))\n",
    "\n",
    "print ('confusion_matrix_train：')\n",
    "print ( confusion_matrix(ylle2_train, GradientBoosting.predict(xlle2_train)))\n",
    "print ('confusion_matrix_test：')\n",
    "print ( confusion_matrix(ylle2_test, GradientBoosting.predict(xlle2_test)))"
   ]
  },
  {
   "cell_type": "code",
   "execution_count": 161,
   "metadata": {},
   "outputs": [],
   "source": [
    "# next step is to find the best parameters of GBDT.\n",
    "# But I haven't do this"
   ]
  },
  {
   "cell_type": "code",
   "execution_count": 189,
   "metadata": {},
   "outputs": [],
   "source": [
    "# I can also use sklearn to duild Netural Network, but it can be difficult to tell the meaning of the net.\n",
    "# also the best net is difficult to find, I can just try some and find a roughly suitable one.\n",
    "# I also find for DNN, reduce dimension is a good way to improvE."
   ]
  },
  {
   "cell_type": "code",
   "execution_count": 190,
   "metadata": {},
   "outputs": [],
   "source": [
    "from sklearn.neural_network import MLPClassifier"
   ]
  },
  {
   "cell_type": "code",
   "execution_count": 209,
   "metadata": {},
   "outputs": [],
   "source": [
    "MLP1=MLPClassifier(random_state=1,activation =\"relu\",solver=\"lbfgs\",max_iter=800,beta_1=0.7,beta_2=0.7,hidden_layer_sizes=(40, ))\n",
    "MLP2=MLPClassifier(random_state=1,activation =\"relu\",solver=\"lbfgs\",max_iter=500,beta_1=0.7,beta_2=0.7,hidden_layer_sizes=(20, ))"
   ]
  },
  {
   "cell_type": "code",
   "execution_count": 210,
   "metadata": {},
   "outputs": [
    {
     "name": "stdout",
     "output_type": "stream",
     "text": [
      "accuracy_train： 0.9540816326530612\n",
      "accuracy_test： 0.9367588932806324\n",
      "Kappa_train： 0.9334590720482836\n",
      "Kappa_test： 0.906473822836283\n",
      "confusion_matrix_train：\n",
      "[[221   0   5   2]\n",
      " [  0  32   0   0]\n",
      " [ 10   0 158   3]\n",
      " [  1   0   6 150]]\n",
      "confusion_matrix_test：\n",
      "[[98  0  3  1]\n",
      " [ 0  9  0  0]\n",
      " [ 3  0 73  3]\n",
      " [ 1  0  5 57]]\n"
     ]
    }
   ],
   "source": [
    "MLP1.fit(x1_train, y1_train)\n",
    "print ('accuracy_train：', accuracy_score(y1_train, MLP1.predict(x1_train)))\n",
    "print ('accuracy_test：', accuracy_score(y1_test, MLP1.predict(x1_test)))\n",
    "\n",
    "print ('Kappa_train：', cohen_kappa_score(y1_train, MLP1.predict(x1_train)))\n",
    "print ('Kappa_test：', cohen_kappa_score(y1_test, MLP1.predict(x1_test)))\n",
    "\n",
    "print ('confusion_matrix_train：')\n",
    "print ( confusion_matrix(y1_train, MLP1.predict(x1_train)))\n",
    "print ('confusion_matrix_test：')\n",
    "print ( confusion_matrix(y1_test, MLP1.predict(x1_test)))"
   ]
  },
  {
   "cell_type": "code",
   "execution_count": 211,
   "metadata": {},
   "outputs": [
    {
     "name": "stdout",
     "output_type": "stream",
     "text": [
      "0.9367588932806324\n",
      "3\n",
      "0.15412122896011804\n"
     ]
    }
   ],
   "source": [
    "print (MLP1.score(x1_test,y1_test))\n",
    "print (MLP1.n_layers_)\n",
    "print (MLP1.loss_)"
   ]
  },
  {
   "cell_type": "code",
   "execution_count": 194,
   "metadata": {},
   "outputs": [
    {
     "name": "stdout",
     "output_type": "stream",
     "text": [
      "accuracy_train： 0.9812925170068028\n",
      "accuracy_test： 0.9723320158102767\n",
      "Kappa_train： 0.9725307160785346\n",
      "Kappa_test： 0.9603820858127153\n",
      "confusion_matrix_train：\n",
      "[[234   0   4   0]\n",
      " [  0  25   0   0]\n",
      " [  4   0 167   2]\n",
      " [  0   0   1 151]]\n",
      "confusion_matrix_test：\n",
      "[[90  0  1  1]\n",
      " [ 0 15  1  0]\n",
      " [ 2  0 73  2]\n",
      " [ 0  0  0 68]]\n"
     ]
    }
   ],
   "source": [
    "MLP2.fit(x2_train, y2_train)\n",
    "print ('accuracy_train：', accuracy_score(y2_train, MLP2.predict(x2_train)))\n",
    "print ('accuracy_test：', accuracy_score(y2_test, MLP2.predict(x2_test)))\n",
    "\n",
    "print ('Kappa_train：', cohen_kappa_score(y2_train, MLP2.predict(x2_train)))\n",
    "print ('Kappa_test：', cohen_kappa_score(y2_test, MLP2.predict(x2_test)))\n",
    "\n",
    "print ('confusion_matrix_train：')\n",
    "print ( confusion_matrix(y2_train, MLP2.predict(x2_train)))\n",
    "print ('confusion_matrix_test：')\n",
    "print ( confusion_matrix(y2_test, MLP2.predict(x2_test)))"
   ]
  },
  {
   "cell_type": "code",
   "execution_count": 195,
   "metadata": {},
   "outputs": [
    {
     "name": "stdout",
     "output_type": "stream",
     "text": [
      "0.9723320158102767\n",
      "3\n",
      "0.04645593359717582\n"
     ]
    }
   ],
   "source": [
    "print (MLP2.score(x2_test,y2_test))\n",
    "print (MLP2.n_layers_)\n",
    "print (MLP2.loss_)"
   ]
  },
  {
   "cell_type": "code",
   "execution_count": null,
   "metadata": {},
   "outputs": [],
   "source": []
  }
 ],
 "metadata": {
  "kernelspec": {
   "display_name": "Python 3",
   "language": "python",
   "name": "python3"
  },
  "language_info": {
   "codemirror_mode": {
    "name": "ipython",
    "version": 3
   },
   "file_extension": ".py",
   "mimetype": "text/x-python",
   "name": "python",
   "nbconvert_exporter": "python",
   "pygments_lexer": "ipython3",
   "version": "3.7.3"
  }
 },
 "nbformat": 4,
 "nbformat_minor": 2
}
