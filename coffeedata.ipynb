{
 "cells": [
  {
   "cell_type": "code",
   "execution_count": 1,
   "metadata": {},
   "outputs": [],
   "source": [
    "from sklearn.decomposition import PCA\n",
    "import numpy as np\n",
    "from pandas import DataFrame \n",
    "import pandas as pd\n",
    "import matplotlib.pyplot as plt\n",
    "from scipy import stats\n",
    "from sklearn.decomposition import FastICA\n",
    "from sklearn.manifold import TSNE \n",
    "from sklearn.discriminant_analysis import LinearDiscriminantAnalysis\n",
    "from sklearn.manifold import LocallyLinearEmbedding\n",
    "from sklearn import manifold \n",
    "from sklearn.decomposition import KernelPCA\n",
    "from sklearn.model_selection import train_test_split"
   ]
  },
  {
   "cell_type": "code",
   "execution_count": 2,
   "metadata": {},
   "outputs": [],
   "source": [
    "Y=np.loadtxt('Reflection2_00001.txt').T[0,]\n",
    "X=pd.read_csv('Coffee.csv')"
   ]
  },
  {
   "cell_type": "code",
   "execution_count": 3,
   "metadata": {},
   "outputs": [
    {
     "data": {
      "text/html": [
       "<div>\n",
       "<style scoped>\n",
       "    .dataframe tbody tr th:only-of-type {\n",
       "        vertical-align: middle;\n",
       "    }\n",
       "\n",
       "    .dataframe tbody tr th {\n",
       "        vertical-align: top;\n",
       "    }\n",
       "\n",
       "    .dataframe thead th {\n",
       "        text-align: right;\n",
       "    }\n",
       "</style>\n",
       "<table border=\"1\" class=\"dataframe\">\n",
       "  <thead>\n",
       "    <tr style=\"text-align: right;\">\n",
       "      <th></th>\n",
       "      <th>0</th>\n",
       "      <th>1</th>\n",
       "      <th>2</th>\n",
       "      <th>3</th>\n",
       "      <th>4</th>\n",
       "      <th>5</th>\n",
       "      <th>6</th>\n",
       "      <th>7</th>\n",
       "      <th>8</th>\n",
       "      <th>9</th>\n",
       "      <th>...</th>\n",
       "      <th>2038</th>\n",
       "      <th>2039</th>\n",
       "      <th>2040</th>\n",
       "      <th>2041</th>\n",
       "      <th>2042</th>\n",
       "      <th>2043</th>\n",
       "      <th>2044</th>\n",
       "      <th>2045</th>\n",
       "      <th>2046</th>\n",
       "      <th>2047</th>\n",
       "    </tr>\n",
       "  </thead>\n",
       "  <tbody>\n",
       "    <tr>\n",
       "      <th>0</th>\n",
       "      <td>-16.25</td>\n",
       "      <td>-16.25</td>\n",
       "      <td>-240.85</td>\n",
       "      <td>-1143.43</td>\n",
       "      <td>5.30</td>\n",
       "      <td>-1398.4</td>\n",
       "      <td>-76.50</td>\n",
       "      <td>-50.34</td>\n",
       "      <td>-54.64</td>\n",
       "      <td>180.18</td>\n",
       "      <td>...</td>\n",
       "      <td>41.45</td>\n",
       "      <td>43.18</td>\n",
       "      <td>45.36</td>\n",
       "      <td>41.60</td>\n",
       "      <td>44.82</td>\n",
       "      <td>45.09</td>\n",
       "      <td>44.30</td>\n",
       "      <td>37.59</td>\n",
       "      <td>34.43</td>\n",
       "      <td>34.43</td>\n",
       "    </tr>\n",
       "    <tr>\n",
       "      <th>1</th>\n",
       "      <td>91.77</td>\n",
       "      <td>91.77</td>\n",
       "      <td>-1.07</td>\n",
       "      <td>-587.88</td>\n",
       "      <td>260.37</td>\n",
       "      <td>1400.0</td>\n",
       "      <td>145.75</td>\n",
       "      <td>108.58</td>\n",
       "      <td>56.00</td>\n",
       "      <td>138.30</td>\n",
       "      <td>...</td>\n",
       "      <td>40.41</td>\n",
       "      <td>39.10</td>\n",
       "      <td>41.98</td>\n",
       "      <td>44.47</td>\n",
       "      <td>42.77</td>\n",
       "      <td>40.35</td>\n",
       "      <td>35.54</td>\n",
       "      <td>36.05</td>\n",
       "      <td>34.25</td>\n",
       "      <td>34.25</td>\n",
       "    </tr>\n",
       "    <tr>\n",
       "      <th>2</th>\n",
       "      <td>-13.58</td>\n",
       "      <td>-13.58</td>\n",
       "      <td>-61.63</td>\n",
       "      <td>1912.12</td>\n",
       "      <td>-272.99</td>\n",
       "      <td>-2794.4</td>\n",
       "      <td>-57.48</td>\n",
       "      <td>-3.32</td>\n",
       "      <td>-11.25</td>\n",
       "      <td>18.49</td>\n",
       "      <td>...</td>\n",
       "      <td>41.36</td>\n",
       "      <td>40.69</td>\n",
       "      <td>39.10</td>\n",
       "      <td>38.15</td>\n",
       "      <td>40.30</td>\n",
       "      <td>38.80</td>\n",
       "      <td>35.84</td>\n",
       "      <td>31.21</td>\n",
       "      <td>30.54</td>\n",
       "      <td>30.54</td>\n",
       "    </tr>\n",
       "    <tr>\n",
       "      <th>3</th>\n",
       "      <td>70.66</td>\n",
       "      <td>70.66</td>\n",
       "      <td>70.16</td>\n",
       "      <td>302.02</td>\n",
       "      <td>-32.04</td>\n",
       "      <td>-392.8</td>\n",
       "      <td>69.40</td>\n",
       "      <td>39.39</td>\n",
       "      <td>11.25</td>\n",
       "      <td>180.90</td>\n",
       "      <td>...</td>\n",
       "      <td>38.66</td>\n",
       "      <td>40.27</td>\n",
       "      <td>41.95</td>\n",
       "      <td>37.70</td>\n",
       "      <td>37.94</td>\n",
       "      <td>33.92</td>\n",
       "      <td>33.46</td>\n",
       "      <td>30.35</td>\n",
       "      <td>29.20</td>\n",
       "      <td>29.20</td>\n",
       "    </tr>\n",
       "    <tr>\n",
       "      <th>4</th>\n",
       "      <td>-0.50</td>\n",
       "      <td>-0.50</td>\n",
       "      <td>-230.02</td>\n",
       "      <td>-451.52</td>\n",
       "      <td>6.97</td>\n",
       "      <td>-1332.0</td>\n",
       "      <td>-27.87</td>\n",
       "      <td>-13.09</td>\n",
       "      <td>67.55</td>\n",
       "      <td>24.62</td>\n",
       "      <td>...</td>\n",
       "      <td>40.32</td>\n",
       "      <td>40.45</td>\n",
       "      <td>38.35</td>\n",
       "      <td>36.67</td>\n",
       "      <td>39.95</td>\n",
       "      <td>40.73</td>\n",
       "      <td>41.18</td>\n",
       "      <td>37.72</td>\n",
       "      <td>37.03</td>\n",
       "      <td>37.03</td>\n",
       "    </tr>\n",
       "  </tbody>\n",
       "</table>\n",
       "<p>5 rows × 2048 columns</p>\n",
       "</div>"
      ],
      "text/plain": [
       "       0      1       2        3       4       5       6       7      8  \\\n",
       "0 -16.25 -16.25 -240.85 -1143.43    5.30 -1398.4  -76.50  -50.34 -54.64   \n",
       "1  91.77  91.77   -1.07  -587.88  260.37  1400.0  145.75  108.58  56.00   \n",
       "2 -13.58 -13.58  -61.63  1912.12 -272.99 -2794.4  -57.48   -3.32 -11.25   \n",
       "3  70.66  70.66   70.16   302.02  -32.04  -392.8   69.40   39.39  11.25   \n",
       "4  -0.50  -0.50 -230.02  -451.52    6.97 -1332.0  -27.87  -13.09  67.55   \n",
       "\n",
       "        9  ...   2038   2039   2040   2041   2042   2043   2044   2045   2046  \\\n",
       "0  180.18  ...  41.45  43.18  45.36  41.60  44.82  45.09  44.30  37.59  34.43   \n",
       "1  138.30  ...  40.41  39.10  41.98  44.47  42.77  40.35  35.54  36.05  34.25   \n",
       "2   18.49  ...  41.36  40.69  39.10  38.15  40.30  38.80  35.84  31.21  30.54   \n",
       "3  180.90  ...  38.66  40.27  41.95  37.70  37.94  33.92  33.46  30.35  29.20   \n",
       "4   24.62  ...  40.32  40.45  38.35  36.67  39.95  40.73  41.18  37.72  37.03   \n",
       "\n",
       "    2047  \n",
       "0  34.43  \n",
       "1  34.25  \n",
       "2  30.54  \n",
       "3  29.20  \n",
       "4  37.03  \n",
       "\n",
       "[5 rows x 2048 columns]"
      ]
     },
     "execution_count": 3,
     "metadata": {},
     "output_type": "execute_result"
    }
   ],
   "source": [
    "X.head()"
   ]
  },
  {
   "cell_type": "code",
   "execution_count": 4,
   "metadata": {},
   "outputs": [
    {
     "data": {
      "text/plain": [
       "(325.441, 865.397)"
      ]
     },
     "execution_count": 4,
     "metadata": {},
     "output_type": "execute_result"
    }
   ],
   "source": [
    "Y[300],Y[1600]"
   ]
  },
  {
   "cell_type": "code",
   "execution_count": 5,
   "metadata": {},
   "outputs": [
    {
     "data": {
      "text/plain": [
       "(890, 1300)"
      ]
     },
     "execution_count": 5,
     "metadata": {},
     "output_type": "execute_result"
    }
   ],
   "source": [
    "x=X.T\n",
    "X_n=x[300:1600].T\n",
    "X_n.shape"
   ]
  },
  {
   "cell_type": "code",
   "execution_count": 6,
   "metadata": {},
   "outputs": [],
   "source": [
    "pca=PCA(n_components=11)\n",
    "X_PCA=pca.fit_transform(X_n)\n",
    "ICA = FastICA(n_components=11,random_state=400) \n",
    "X_ICA=ICA.fit_transform(X_n)"
   ]
  },
  {
   "cell_type": "code",
   "execution_count": 7,
   "metadata": {},
   "outputs": [],
   "source": [
    "X_tsne = TSNE(n_components=3, n_iter=800).fit_transform(X_n)"
   ]
  },
  {
   "cell_type": "code",
   "execution_count": 8,
   "metadata": {},
   "outputs": [],
   "source": [
    "lle=LocallyLinearEmbedding(n_components=16,n_neighbors=40)\n",
    "X_lle=lle.fit_transform(X_n)"
   ]
  },
  {
   "cell_type": "code",
   "execution_count": 9,
   "metadata": {},
   "outputs": [],
   "source": [
    "from numpy import array"
   ]
  },
  {
   "cell_type": "code",
   "execution_count": 10,
   "metadata": {},
   "outputs": [],
   "source": [
    "# first use 1,2,3,...to present the different class:\n",
    "# \"0\": unlabeled\n",
    "# \"1\": health good\n",
    "# \"2\": rust\n",
    "# \"3\": infected green canopy\n",
    "# \"4\": geisha\n",
    "# \"5\": geisha cannopy\n",
    "# \"6\": yellow\n",
    "# \"7\": yellow green\n",
    "# \"8\": Young_Rust_Yellow\n",
    "# \"9\": Young_Rust_Green_Leaf\n",
    "target=array([\"1\",\"1\",\"1\",\"1\",\"1\",\"1\",\"1\",\"1\",\"1\",\"1\",\"1\",\"1\",\"1\",\"1\",\"1\",\"1\",\"1\",\"1\",\"1\",\"1\",\"1\",\"1\",\"1\",\"1\",\"1\",\"1\",\"1\",\"1\",\"1\",\"1\",\n",
    "             \"1\",\"1\",\"1\",\"1\",\"1\",\"1\",\"1\",\"1\",\"1\",\"1\",\"0\",\"0\",\"0\",\"0\",\"0\",\"0\",\"0\",\"0\",\"0\",\"0\",\"8\",\"8\",\"8\",\"8\",\"8\",\"8\",\"8\",\"8\",\"8\",\"8\",\n",
    "             \"8\",\"8\",\"8\",\"8\",\"8\",\"8\",\"8\",\"8\",\"8\",\"8\",\"0\",\"0\",\"0\",\"0\",\"0\",\"0\",\"0\",\"0\",\"0\",\"0\",\"9\",\"9\",\"9\",\"9\",\"9\",\"9\",\"9\",\"9\",\"9\",\"9\",\n",
    "             \"0\",\"0\",\"0\",\"0\",\"0\",\"0\",\"0\",\"0\",\"0\",\"0\",\"0\",\"0\",\"0\",\"0\",\"0\",\"0\",\"0\",\"0\",\"0\",\"0\",\"0\",\"0\",\"0\",\"0\",\"0\",\"0\",\"0\",\"0\",\"0\",\"0\",\n",
    "             \"0\",\"0\",\"0\",\"0\",\"0\",\"0\",\"0\",\"0\",\"0\",\"0\",\"0\",\"0\",\"0\",\"0\",\"0\",\"0\",\"0\",\"0\",\"0\",\"0\",\"0\",\"0\",\"0\",\"0\",\"0\",\"0\",\"0\",\"0\",\"0\",\"0\",\n",
    "             \"0\",\"0\",\"0\",\"0\",\"0\",\"0\",\"0\",\"0\",\"0\",\"0\",\"1\",\"1\",\"1\",\"1\",\"1\",\"1\",\"1\",\"1\",\"1\",\"1\",\"1\",\"1\",\"1\",\"1\",\"1\",\"1\",\"1\",\"1\",\"1\",\"1\",\n",
    "             \"1\",\"1\",\"1\",\"1\",\"1\",\"1\",\"1\",\"1\",\"1\",\"1\",\"1\",\"1\",\"1\",\"1\",\"1\",\"1\",\"1\",\"1\",\"1\",\"1\",\"1\",\"1\",\"1\",\"1\",\"1\",\"1\",\"1\",\"1\",\"1\",\"1\",\n",
    "             \"1\",\"1\",\"1\",\"1\",\"1\",\"1\",\"1\",\"1\",\"1\",\"1\",\"0\",\"0\",\"0\",\"0\",\"0\",\"0\",\"0\",\"0\",\"0\",\"0\",\"1\",\"1\",\"1\",\"1\",\"1\",\"1\",\"1\",\"1\",\"1\",\"1\",\n",
    "             \"1\",\"1\",\"1\",\"1\",\"1\",\"1\",\"1\",\"1\",\"1\",\"1\",\"1\",\"1\",\"1\",\"1\",\"1\",\"1\",\"1\",\"1\",\"1\",\"1\",\"2\",\"2\",\"2\",\"2\",\"2\",\"2\",\"2\",\"2\",\"2\",\"2\",\n",
    "             \"2\",\"2\",\"2\",\"2\",\"2\",\"2\",\"2\",\"2\",\"2\",\"2\",\"2\",\"2\",\"2\",\"2\",\"2\",\"2\",\"2\",\"2\",\"2\",\"2\",\"2\",\"2\",\"2\",\"2\",\"2\",\"2\",\"2\",\"2\",\"2\",\"2\",\n",
    "             \"3\",\"3\",\"3\",\"3\",\"3\",\"3\",\"3\",\"3\",\"3\",\"3\",\"3\",\"3\",\"3\",\"3\",\"3\",\"3\",\"3\",\"3\",\"3\",\"3\",\"3\",\"3\",\"3\",\"3\",\"3\",\"3\",\"3\",\"3\",\"3\",\"3\",\n",
    "             \"2\",\"2\",\"2\",\"2\",\"2\",\"2\",\"2\",\"2\",\"2\",\"2\",\"2\",\"2\",\"2\",\"2\",\"2\",\"2\",\"2\",\"2\",\"2\",\"2\",\"2\",\"2\",\"2\",\"2\",\"2\",\"2\",\"2\",\"2\",\"2\",\"2\",\n",
    "             \"2\",\"2\",\"2\",\"2\",\"2\",\"2\",\"2\",\"2\",\"2\",\"2\",\"2\",\"2\",\"2\",\"2\",\"2\",\"2\",\"2\",\"2\",\"2\",\"2\",\"2\",\"2\",\"2\",\"2\",\"2\",\"2\",\"2\",\"2\",\"2\",\"2\",\n",
    "             \"2\",\"2\",\"2\",\"2\",\"2\",\"2\",\"2\",\"2\",\"2\",\"2\",\"3\",\"3\",\"3\",\"3\",\"3\",\"3\",\"3\",\"3\",\"3\",\"3\",\"3\",\"3\",\"3\",\"3\",\"3\",\"3\",\"3\",\"3\",\"3\",\"3\",\n",
    "             \"3\",\"3\",\"3\",\"3\",\"3\",\"3\",\"3\",\"3\",\"3\",\"3\",\"3\",\"3\",\"3\",\"3\",\"3\",\"3\",\"3\",\"3\",\"3\",\"3\",\"2\",\"2\",\"2\",\"2\",\"2\",\"2\",\"2\",\"2\",\"2\",\"2\",\n",
    "             \"2\",\"2\",\"2\",\"2\",\"2\",\"2\",\"2\",\"2\",\"2\",\"2\",\"2\",\"2\",\"2\",\"2\",\"2\",\"2\",\"2\",\"2\",\"2\",\"2\",\"2\",\"2\",\"2\",\"2\",\"2\",\"2\",\"2\",\"2\",\"2\",\"2\",\n",
    "             \"2\",\"2\",\"2\",\"2\",\"2\",\"2\",\"2\",\"2\",\"2\",\"2\",\"2\",\"2\",\"2\",\"2\",\"2\",\"2\",\"2\",\"2\",\"2\",\"2\",\"2\",\"2\",\"2\",\"2\",\"2\",\"2\",\"2\",\"2\",\"2\",\"2\",\n",
    "             \"2\",\"2\",\"2\",\"2\",\"2\",\"2\",\"2\",\"2\",\"2\",\"2\",\"2\",\"2\",\"2\",\"2\",\"2\",\"2\",\"2\",\"2\",\"2\",\"2\",\"3\",\"3\",\"3\",\"3\",\"3\",\"3\",\"3\",\"3\",\"3\",\"3\",\n",
    "             \"3\",\"3\",\"3\",\"3\",\"3\",\"3\",\"3\",\"3\",\"3\",\"3\",\"3\",\"3\",\"3\",\"3\",\"3\",\"3\",\"3\",\"3\",\"3\",\"3\",\"1\",\"1\",\"1\",\"1\",\"1\",\"1\",\"1\",\"1\",\"1\",\"1\",\n",
    "             \"1\",\"1\",\"1\",\"1\",\"1\",\"1\",\"1\",\"1\",\"1\",\"1\",\"1\",\"1\",\"1\",\"1\",\"1\",\"1\",\"1\",\"1\",\"1\",\"1\",\"1\",\"1\",\"1\",\"1\",\"1\",\"1\",\"1\",\"1\",\"1\",\"1\",\n",
    "             \"0\",\"0\",\"0\",\"0\",\"0\",\"0\",\"0\",\"0\",\"0\",\"0\",\"1\",\"1\",\"1\",\"1\",\"1\",\"1\",\"1\",\"1\",\"1\",\"1\",\"1\",\"1\",\"1\",\"1\",\"1\",\"1\",\"1\",\"1\",\"1\",\"1\",\n",
    "             \"1\",\"1\",\"1\",\"1\",\"1\",\"1\",\"1\",\"1\",\"1\",\"1\",\"1\",\"1\",\"1\",\"1\",\"1\",\"1\",\"1\",\"1\",\"1\",\"1\",\"1\",\"1\",\"1\",\"1\",\"1\",\"1\",\"1\",\"1\",\"1\",\"1\",\n",
    "             \"1\",\"1\",\"1\",\"1\",\"1\",\"1\",\"1\",\"1\",\"1\",\"1\",\"1\",\"1\",\"1\",\"1\",\"1\",\"1\",\"1\",\"1\",\"1\",\"1\",\"4\",\"4\",\"4\",\"4\",\"4\",\"4\",\"4\",\"4\",\"4\",\"4\",\n",
    "             \"4\",\"4\",\"4\",\"4\",\"4\",\"4\",\"4\",\"4\",\"4\",\"4\",\"4\",\"4\",\"4\",\"4\",\"4\",\"4\",\"4\",\"4\",\"4\",\"4\",\"4\",\"4\",\"4\",\"4\",\"4\",\"4\",\"4\",\"4\",\"4\",\"4\",\n",
    "             \"4\",\"4\",\"4\",\"4\",\"4\",\"4\",\"4\",\"4\",\"4\",\"4\",\"4\",\"4\",\"4\",\"4\",\"4\",\"4\",\"4\",\"4\",\"4\",\"4\",\"4\",\"4\",\"4\",\"4\",\"4\",\"4\",\"4\",\"4\",\"4\",\"4\",\n",
    "             \"4\",\"4\",\"4\",\"4\",\"4\",\"4\",\"4\",\"4\",\"4\",\"4\",\"4\",\"4\",\"4\",\"4\",\"4\",\"4\",\"4\",\"4\",\"4\",\"4\",\"4\",\"4\",\"4\",\"4\",\"4\",\"4\",\"4\",\"4\",\"4\",\"4\",\n",
    "             \"4\",\"4\",\"4\",\"4\",\"4\",\"4\",\"4\",\"4\",\"4\",\"4\",\"4\",\"4\",\"4\",\"4\",\"4\",\"4\",\"4\",\"4\",\"4\",\"4\",\"0\",\"0\",\"0\",\"0\",\"0\",\"0\",\"0\",\"0\",\"0\",\"0\",\n",
    "             \"4\",\"4\",\"4\",\"4\",\"4\",\"4\",\"4\",\"4\",\"4\",\"4\",\"4\",\"4\",\"4\",\"4\",\"4\",\"4\",\"4\",\"4\",\"4\",\"4\",\"4\",\"4\",\"4\",\"4\",\"4\",\"4\",\"4\",\"4\",\"4\",\"4\",\n",
    "             \"5\",\"5\",\"5\",\"5\",\"5\",\"5\",\"5\",\"5\",\"5\",\"5\",\"5\",\"5\",\"5\",\"5\",\"5\",\"5\",\"5\",\"5\",\"5\",\"5\",\"5\",\"5\",\"5\",\"5\",\"5\",\"5\",\"5\",\"5\",\"5\",\"5\",\n",
    "             \"5\",\"5\",\"5\",\"5\",\"5\",\"5\",\"5\",\"5\",\"5\",\"5\",\"5\",\"5\",\"5\",\"5\",\"5\",\"5\",\"5\",\"5\",\"5\",\"5\"])\n",
    "\n",
    "target_labeled=array([\"1\",\"1\",\"1\",\"1\",\"1\",\"1\",\"1\",\"1\",\"1\",\"1\",\"1\",\"1\",\"1\",\"1\",\"1\",\"1\",\"1\",\"1\",\"1\",\"1\",\n",
    "             \"1\",\"1\",\"1\",\"1\",\"1\",\"1\",\"1\",\"1\",\"1\",\"1\",\n",
    "             \"1\",\"1\",\"1\",\"1\",\"1\",\"1\",\"1\",\"1\",\"1\",\"1\",\"8\",\"8\",\"8\",\"8\",\"8\",\"8\",\"8\",\"8\",\"8\",\"8\",\n",
    "             \"8\",\"8\",\"8\",\"8\",\"8\",\"8\",\"8\",\"8\",\"8\",\"8\",\"9\",\"9\",\"9\",\"9\",\"9\",\"9\",\"9\",\"9\",\"9\",\"9\",\n",
    "             \"1\",\"1\",\"1\",\"1\",\"1\",\"1\",\"1\",\"1\",\"1\",\"1\",\"1\",\"1\",\"1\",\"1\",\"1\",\"1\",\"1\",\"1\",\"1\",\"1\",\n",
    "             \"1\",\"1\",\"1\",\"1\",\"1\",\"1\",\"1\",\"1\",\"1\",\"1\",\"1\",\"1\",\"1\",\"1\",\"1\",\"1\",\"1\",\"1\",\"1\",\"1\",\"1\",\"1\",\"1\",\"1\",\"1\",\"1\",\"1\",\"1\",\"1\",\"1\",\n",
    "             \"1\",\"1\",\"1\",\"1\",\"1\",\"1\",\"1\",\"1\",\"1\",\"1\",\"1\",\"1\",\"1\",\"1\",\"1\",\"1\",\"1\",\"1\",\"1\",\"1\",\n",
    "             \"1\",\"1\",\"1\",\"1\",\"1\",\"1\",\"1\",\"1\",\"1\",\"1\",\"1\",\"1\",\"1\",\"1\",\"1\",\"1\",\"1\",\"1\",\"1\",\"1\",\"2\",\"2\",\"2\",\"2\",\"2\",\"2\",\"2\",\"2\",\"2\",\"2\",\n",
    "             \"2\",\"2\",\"2\",\"2\",\"2\",\"2\",\"2\",\"2\",\"2\",\"2\",\"2\",\"2\",\"2\",\"2\",\"2\",\"2\",\"2\",\"2\",\"2\",\"2\",\"2\",\"2\",\"2\",\"2\",\"2\",\"2\",\"2\",\"2\",\"2\",\"2\",\n",
    "             \"3\",\"3\",\"3\",\"3\",\"3\",\"3\",\"3\",\"3\",\"3\",\"3\",\"3\",\"3\",\"3\",\"3\",\"3\",\"3\",\"3\",\"3\",\"3\",\"3\",\"3\",\"3\",\"3\",\"3\",\"3\",\"3\",\"3\",\"3\",\"3\",\"3\",\n",
    "             \"2\",\"2\",\"2\",\"2\",\"2\",\"2\",\"2\",\"2\",\"2\",\"2\",\"2\",\"2\",\"2\",\"2\",\"2\",\"2\",\"2\",\"2\",\"2\",\"2\",\"2\",\"2\",\"2\",\"2\",\"2\",\"2\",\"2\",\"2\",\"2\",\"2\",\n",
    "             \"2\",\"2\",\"2\",\"2\",\"2\",\"2\",\"2\",\"2\",\"2\",\"2\",\"2\",\"2\",\"2\",\"2\",\"2\",\"2\",\"2\",\"2\",\"2\",\"2\",\"2\",\"2\",\"2\",\"2\",\"2\",\"2\",\"2\",\"2\",\"2\",\"2\",\n",
    "             \"2\",\"2\",\"2\",\"2\",\"2\",\"2\",\"2\",\"2\",\"2\",\"2\",\"3\",\"3\",\"3\",\"3\",\"3\",\"3\",\"3\",\"3\",\"3\",\"3\",\"3\",\"3\",\"3\",\"3\",\"3\",\"3\",\"3\",\"3\",\"3\",\"3\",\n",
    "             \"3\",\"3\",\"3\",\"3\",\"3\",\"3\",\"3\",\"3\",\"3\",\"3\",\"3\",\"3\",\"3\",\"3\",\"3\",\"3\",\"3\",\"3\",\"3\",\"3\",\"2\",\"2\",\"2\",\"2\",\"2\",\"2\",\"2\",\"2\",\"2\",\"2\",\n",
    "             \"2\",\"2\",\"2\",\"2\",\"2\",\"2\",\"2\",\"2\",\"2\",\"2\",\"2\",\"2\",\"2\",\"2\",\"2\",\"2\",\"2\",\"2\",\"2\",\"2\",\"2\",\"2\",\"2\",\"2\",\"2\",\"2\",\"2\",\"2\",\"2\",\"2\",\n",
    "             \"2\",\"2\",\"2\",\"2\",\"2\",\"2\",\"2\",\"2\",\"2\",\"2\",\"2\",\"2\",\"2\",\"2\",\"2\",\"2\",\"2\",\"2\",\"2\",\"2\",\"2\",\"2\",\"2\",\"2\",\"2\",\"2\",\"2\",\"2\",\"2\",\"2\",\n",
    "             \"2\",\"2\",\"2\",\"2\",\"2\",\"2\",\"2\",\"2\",\"2\",\"2\",\"2\",\"2\",\"2\",\"2\",\"2\",\"2\",\"2\",\"2\",\"2\",\"2\",\"3\",\"3\",\"3\",\"3\",\"3\",\"3\",\"3\",\"3\",\"3\",\"3\",\n",
    "             \"3\",\"3\",\"3\",\"3\",\"3\",\"3\",\"3\",\"3\",\"3\",\"3\",\"3\",\"3\",\"3\",\"3\",\"3\",\"3\",\"3\",\"3\",\"3\",\"3\",\"1\",\"1\",\"1\",\"1\",\"1\",\"1\",\"1\",\"1\",\"1\",\"1\",\n",
    "             \"1\",\"1\",\"1\",\"1\",\"1\",\"1\",\"1\",\"1\",\"1\",\"1\",\"1\",\"1\",\"1\",\"1\",\"1\",\"1\",\"1\",\"1\",\"1\",\"1\",\"1\",\"1\",\"1\",\"1\",\"1\",\"1\",\"1\",\"1\",\"1\",\"1\",\n",
    "             \"1\",\"1\",\"1\",\"1\",\"1\",\"1\",\"1\",\"1\",\"1\",\"1\",\"1\",\"1\",\"1\",\"1\",\"1\",\"1\",\"1\",\"1\",\"1\",\"1\",\n",
    "             \"1\",\"1\",\"1\",\"1\",\"1\",\"1\",\"1\",\"1\",\"1\",\"1\",\"1\",\"1\",\"1\",\"1\",\"1\",\"1\",\"1\",\"1\",\"1\",\"1\",\"1\",\"1\",\"1\",\"1\",\"1\",\"1\",\"1\",\"1\",\"1\",\"1\",\n",
    "             \"1\",\"1\",\"1\",\"1\",\"1\",\"1\",\"1\",\"1\",\"1\",\"1\",\"1\",\"1\",\"1\",\"1\",\"1\",\"1\",\"1\",\"1\",\"1\",\"1\",\"4\",\"4\",\"4\",\"4\",\"4\",\"4\",\"4\",\"4\",\"4\",\"4\",\n",
    "             \"4\",\"4\",\"4\",\"4\",\"4\",\"4\",\"4\",\"4\",\"4\",\"4\",\"4\",\"4\",\"4\",\"4\",\"4\",\"4\",\"4\",\"4\",\"4\",\"4\",\"4\",\"4\",\"4\",\"4\",\"4\",\"4\",\"4\",\"4\",\"4\",\"4\",\n",
    "             \"4\",\"4\",\"4\",\"4\",\"4\",\"4\",\"4\",\"4\",\"4\",\"4\",\"4\",\"4\",\"4\",\"4\",\"4\",\"4\",\"4\",\"4\",\"4\",\"4\",\"4\",\"4\",\"4\",\"4\",\"4\",\"4\",\"4\",\"4\",\"4\",\"4\",\n",
    "             \"4\",\"4\",\"4\",\"4\",\"4\",\"4\",\"4\",\"4\",\"4\",\"4\",\"4\",\"4\",\"4\",\"4\",\"4\",\"4\",\"4\",\"4\",\"4\",\"4\",\"4\",\"4\",\"4\",\"4\",\"4\",\"4\",\"4\",\"4\",\"4\",\"4\",\n",
    "             \"4\",\"4\",\"4\",\"4\",\"4\",\"4\",\"4\",\"4\",\"4\",\"4\",\"4\",\"4\",\"4\",\"4\",\"4\",\"4\",\"4\",\"4\",\"4\",\"4\",\n",
    "             \"4\",\"4\",\"4\",\"4\",\"4\",\"4\",\"4\",\"4\",\"4\",\"4\",\"4\",\"4\",\"4\",\"4\",\"4\",\"4\",\"4\",\"4\",\"4\",\"4\",\"4\",\"4\",\"4\",\"4\",\"4\",\"4\",\"4\",\"4\",\"4\",\"4\",\n",
    "             \"5\",\"5\",\"5\",\"5\",\"5\",\"5\",\"5\",\"5\",\"5\",\"5\",\"5\",\"5\",\"5\",\"5\",\"5\",\"5\",\"5\",\"5\",\"5\",\"5\",\"5\",\"5\",\"5\",\"5\",\"5\",\"5\",\"5\",\"5\",\"5\",\"5\",\n",
    "             \"5\",\"5\",\"5\",\"5\",\"5\",\"5\",\"5\",\"5\",\"5\",\"5\",\"5\",\"5\",\"5\",\"5\",\"5\",\"5\",\"5\",\"5\",\"5\",\"5\"])\n",
    "\n",
    "target_unlabeled=array([\"0\",\"0\",\"0\",\"0\",\"0\",\"0\",\"0\",\"0\",\"0\",\"0\",\"0\",\"0\",\"0\",\"0\",\"0\",\"0\",\"0\",\"0\",\"0\",\"0\",\n",
    "             \"0\",\"0\",\"0\",\"0\",\"0\",\"0\",\"0\",\"0\",\"0\",\"0\",\"0\",\"0\",\"0\",\"0\",\"0\",\"0\",\"0\",\"0\",\"0\",\"0\",\"0\",\"0\",\"0\",\"0\",\"0\",\"0\",\"0\",\"0\",\"0\",\"0\",\n",
    "             \"0\",\"0\",\"0\",\"0\",\"0\",\"0\",\"0\",\"0\",\"0\",\"0\",\"0\",\"0\",\"0\",\"0\",\"0\",\"0\",\"0\",\"0\",\"0\",\"0\",\"0\",\"0\",\"0\",\"0\",\"0\",\"0\",\"0\",\"0\",\"0\",\"0\",\n",
    "             \"0\",\"0\",\"0\",\"0\",\"0\",\"0\",\"0\",\"0\",\"0\",\"0\",\"0\",\"0\",\"0\",\"0\",\"0\",\"0\",\"0\",\"0\",\"0\",\"0\",\"0\",\"0\",\"0\",\"0\",\"0\",\"0\",\"0\",\"0\",\"0\",\"0\",\n",
    "             \"0\",\"0\",\"0\",\"0\",\"0\",\"0\",\"0\",\"0\",\"0\",\"0\"])\n"
   ]
  },
  {
   "cell_type": "code",
   "execution_count": 11,
   "metadata": {},
   "outputs": [],
   "source": [
    "np.savetxt('New_X',X_n)\n",
    "np.savetxt(\"PCA\",X_PCA)\n",
    "np.savetxt(\"ICA\",X_ICA)\n",
    "np.savetxt(\"LLE\",X_lle)\n",
    "np.savetxt('TSNE',X_tsne)"
   ]
  },
  {
   "cell_type": "code",
   "execution_count": 12,
   "metadata": {},
   "outputs": [],
   "source": [
    "X_new=np.loadtxt('New_X')\n",
    "X_Pca=np.loadtxt(\"PCA\")\n",
    "X_ICA=np.loadtxt(\"ICA\")\n",
    "X_lle=np.loadtxt(\"LLE\")\n",
    "X_tsne=np.loadtxt(\"TSNE\")"
   ]
  },
  {
   "cell_type": "code",
   "execution_count": 13,
   "metadata": {},
   "outputs": [
    {
     "data": {
      "text/plain": [
       "(890, 2048)"
      ]
     },
     "execution_count": 13,
     "metadata": {},
     "output_type": "execute_result"
    }
   ],
   "source": [
    "X.shape"
   ]
  },
  {
   "cell_type": "code",
   "execution_count": 14,
   "metadata": {},
   "outputs": [],
   "source": [
    "X_tsne_labeled=np.vstack((X_tsne[0:40],X_tsne[50:70],X_tsne[80:90],X_tsne[160:220],X_tsne[230:600],X_tsne[610:800],X_tsne[810:890]))\n",
    "X_tsne_unlabeled=np.vstack((X_tsne[40:50],X_tsne[70:80],X_tsne[90:160],X_tsne[220:230],X_tsne[600:610],X_tsne[800:810]))\n",
    "X_Pca_labeled=np.vstack((X_Pca[0:40],X_Pca[50:70],X_Pca[80:90],X_Pca[160:220],X_Pca[230:600],X_Pca[610:800],X_Pca[810:890]))\n",
    "X_Pca_unlabeled=np.vstack((X_Pca[40:50],X_Pca[70:80],X_Pca[90:160],X_Pca[220:230],X_Pca[600:610],X_Pca[800:810]))\n",
    "X_ICA_labeled=np.vstack((X_ICA[0:40],X_ICA[50:70],X_ICA[80:90],X_ICA[160:220],X_ICA[230:600],X_ICA[610:800],X_ICA[810:890]))\n",
    "X_ICA_unlabeled=np.vstack((X_ICA[40:50],X_ICA[70:80],X_ICA[90:160],X_ICA[220:230],X_ICA[600:610],X_ICA[800:810]))\n",
    "X_lle_labeled=np.vstack((X_lle[0:40],X_lle[50:70],X_lle[80:90],X_lle[160:220],X_lle[230:600],X_lle[610:800],X_lle[810:890]))\n",
    "X_lle_unlabeled=np.vstack((X_lle[40:50],X_lle[70:80],X_lle[90:160],X_lle[220:230],X_lle[600:610],X_lle[800:810]))\n",
    "X_labeled=np.vstack((X_new[0:40],X_new[50:70],X_new[80:90],X_new[160:220],X_new[230:600],X_new[610:800],X_new[810:890]))\n",
    "X_unlabeled=np.vstack((X_new[40:50],X_new[70:80],X_new[90:160],X_new[220:230],X_new[600:610],X_new[800:810]))"
   ]
  },
  {
   "cell_type": "code",
   "execution_count": 15,
   "metadata": {},
   "outputs": [],
   "source": [
    "x_train, x_test, y_train, y_test = train_test_split(X_labeled,target_labeled, test_size=0.3)\n",
    "xpca_train, xpca_test, ypca_train, ypca_test = train_test_split(X_Pca_labeled,target_labeled, test_size=0.3)\n",
    "xIca_train, xIca_test, yIca_train, yIca_test = train_test_split(X_ICA_labeled,target_labeled, test_size=0.3)\n",
    "xlle_train, xlle_test, ylle_train, ylle_test = train_test_split(X_lle_labeled,target_labeled, test_size=0.3)\n",
    "xtsne_train, xtsne_test, ytsne_train, ytsne_test = train_test_split(X_tsne_labeled,target_labeled, test_size=0.3)"
   ]
  },
  {
   "cell_type": "code",
   "execution_count": 16,
   "metadata": {},
   "outputs": [],
   "source": [
    "from sklearn import svm\n",
    "from sklearn.svm import SVC\n",
    "from sklearn.metrics import accuracy_score\n",
    "from sklearn.metrics import cohen_kappa_score\n",
    "from sklearn.metrics import confusion_matrix\n",
    "from sklearn.metrics import matthews_corrcoef\n",
    "from sklearn.model_selection import RandomizedSearchCV"
   ]
  },
  {
   "cell_type": "code",
   "execution_count": 17,
   "metadata": {},
   "outputs": [],
   "source": [
    "SVM= SVC(kernel='rbf')\n",
    "distributions = dict(C=np.logspace(-3,3,50),gamma=np.logspace(-3,3,50))\n",
    "clf = RandomizedSearchCV(SVM, distributions, random_state=50)"
   ]
  },
  {
   "cell_type": "code",
   "execution_count": 18,
   "metadata": {},
   "outputs": [
    {
     "name": "stderr",
     "output_type": "stream",
     "text": [
      "C:\\Users\\user\\Anaconda3\\lib\\site-packages\\sklearn\\model_selection\\_split.py:2053: FutureWarning: You should specify a value for 'cv' instead of relying on the default value. The default value will change from 3 to 5 in version 0.22.\n",
      "  warnings.warn(CV_WARNING, FutureWarning)\n",
      "C:\\Users\\user\\Anaconda3\\lib\\site-packages\\sklearn\\model_selection\\_search.py:841: DeprecationWarning: The default of the `iid` parameter will change from True to False in version 0.22 and will be removed in 0.24. This will change numeric results when test-set sizes are unequal.\n",
      "  DeprecationWarning)\n"
     ]
    },
    {
     "data": {
      "text/plain": [
       "{'gamma': 0.0030888435964774815, 'C': 4.714866363457395}"
      ]
     },
     "execution_count": 18,
     "metadata": {},
     "output_type": "execute_result"
    }
   ],
   "source": [
    "search1 = clf.fit(x_train, y_train)\n",
    "search1.best_params_ "
   ]
  },
  {
   "cell_type": "code",
   "execution_count": 19,
   "metadata": {},
   "outputs": [],
   "source": [
    "SVM= SVC(kernel='rbf')\n",
    "distributions = dict(C=np.logspace(-3,3,50),gamma=np.logspace(-3,3,50))\n",
    "clf = RandomizedSearchCV(SVM, distributions, random_state=50)"
   ]
  },
  {
   "cell_type": "code",
   "execution_count": 20,
   "metadata": {},
   "outputs": [
    {
     "name": "stderr",
     "output_type": "stream",
     "text": [
      "C:\\Users\\user\\Anaconda3\\lib\\site-packages\\sklearn\\model_selection\\_split.py:2053: FutureWarning: You should specify a value for 'cv' instead of relying on the default value. The default value will change from 3 to 5 in version 0.22.\n",
      "  warnings.warn(CV_WARNING, FutureWarning)\n",
      "C:\\Users\\user\\Anaconda3\\lib\\site-packages\\sklearn\\model_selection\\_search.py:841: DeprecationWarning: The default of the `iid` parameter will change from True to False in version 0.22 and will be removed in 0.24. This will change numeric results when test-set sizes are unequal.\n",
      "  DeprecationWarning)\n"
     ]
    },
    {
     "data": {
      "text/plain": [
       "{'gamma': 0.0030888435964774815, 'C': 4.714866363457395}"
      ]
     },
     "execution_count": 20,
     "metadata": {},
     "output_type": "execute_result"
    }
   ],
   "source": [
    "search2 = clf.fit(xpca_train, ypca_train)\n",
    "search2.best_params_ "
   ]
  },
  {
   "cell_type": "code",
   "execution_count": 21,
   "metadata": {},
   "outputs": [],
   "source": [
    "from sklearn.ensemble import BaggingClassifier"
   ]
  },
  {
   "cell_type": "code",
   "execution_count": 22,
   "metadata": {},
   "outputs": [],
   "source": [
    "clf= SVC(C=4.7,kernel='rbf',gamma=0.003)"
   ]
  },
  {
   "cell_type": "code",
   "execution_count": 23,
   "metadata": {},
   "outputs": [],
   "source": [
    "bagging = BaggingClassifier(clf,max_samples=0.6, max_features=0.6)"
   ]
  },
  {
   "cell_type": "code",
   "execution_count": 24,
   "metadata": {},
   "outputs": [
    {
     "data": {
      "text/plain": [
       "BaggingClassifier(base_estimator=SVC(C=4.7, cache_size=200, class_weight=None, coef0=0.0,\n",
       "  decision_function_shape='ovr', degree=3, gamma=0.003, kernel='rbf',\n",
       "  max_iter=-1, probability=False, random_state=None, shrinking=True,\n",
       "  tol=0.001, verbose=False),\n",
       "         bootstrap=True, bootstrap_features=False, max_features=0.6,\n",
       "         max_samples=0.6, n_estimators=10, n_jobs=None, oob_score=False,\n",
       "         random_state=None, verbose=0, warm_start=False)"
      ]
     },
     "execution_count": 24,
     "metadata": {},
     "output_type": "execute_result"
    }
   ],
   "source": [
    "bagging.fit(x_train,y_train)"
   ]
  },
  {
   "cell_type": "code",
   "execution_count": 25,
   "metadata": {},
   "outputs": [
    {
     "name": "stdout",
     "output_type": "stream",
     "text": [
      "accuracy_train： 0.9313543599257885\n",
      "accuracy_test： 0.8095238095238095\n",
      "Kappa_train： 0.909601062503683\n",
      "Kappa_test： 0.7484096140993589\n",
      "confusion_matrix_train：\n",
      "[[173   0   1   1   0   0   0]\n",
      " [  4 132   0   0   0   0   0]\n",
      " [  6   0  61   0   0   0   0]\n",
      " [  6   0   0  99   0   0   0]\n",
      " [ 11   0   0   0  21   0   0]\n",
      " [  3   0   0   0   0  13   0]\n",
      " [  5   0   0   0   0   0   3]]\n",
      "confusion_matrix_test：\n",
      "[[64  0  1  0  0  0  0]\n",
      " [12 52  0  0  0  0  0]\n",
      " [11  0 22  0  0  0  0]\n",
      " [ 5  0  0 40  0  0  0]\n",
      " [12  0  0  0  6  0  0]\n",
      " [ 1  0  0  0  0  3  0]\n",
      " [ 2  0  0  0  0  0  0]]\n"
     ]
    }
   ],
   "source": [
    "print ('accuracy_train：', accuracy_score(y_train, bagging.predict(x_train)))\n",
    "print ('accuracy_test：', accuracy_score(y_test, bagging.predict(x_test)))\n",
    "print ('Kappa_train：', cohen_kappa_score(y_train, bagging.predict(x_train)))\n",
    "print ('Kappa_test：', cohen_kappa_score(y_test, bagging.predict(x_test)))\n",
    "\n",
    "print ('confusion_matrix_train：')\n",
    "print ( confusion_matrix(y_train, bagging.predict(x_train)))\n",
    "print ('confusion_matrix_test：')\n",
    "print ( confusion_matrix(y_test, bagging.predict(x_test)))"
   ]
  },
  {
   "cell_type": "code",
   "execution_count": 26,
   "metadata": {},
   "outputs": [
    {
     "name": "stdout",
     "output_type": "stream",
     "text": [
      "accuracy_train： 1.0\n",
      "accuracy_test： 0.8441558441558441\n",
      "Kappa_train： 1.0\n",
      "Kappa_test： 0.7948034643570953\n",
      "confusion_matrix_train：\n",
      "[[175   0   0   0   0   0   0]\n",
      " [  0 136   0   0   0   0   0]\n",
      " [  0   0  67   0   0   0   0]\n",
      " [  0   0   0 105   0   0   0]\n",
      " [  0   0   0   0  32   0   0]\n",
      " [  0   0   0   0   0  16   0]\n",
      " [  0   0   0   0   0   0   8]]\n",
      "confusion_matrix_test：\n",
      "[[65  0  0  0  0  0  0]\n",
      " [ 9 55  0  0  0  0  0]\n",
      " [ 8  0 25  0  0  0  0]\n",
      " [ 5  0  0 40  0  0  0]\n",
      " [12  0  0  0  6  0  0]\n",
      " [ 0  0  0  0  0  4  0]\n",
      " [ 2  0  0  0  0  0  0]]\n"
     ]
    }
   ],
   "source": [
    "clf.fit(x_train, y_train)\n",
    "print ('accuracy_train：', accuracy_score(y_train, clf.predict(x_train)))\n",
    "print ('accuracy_test：', accuracy_score(y_test, clf.predict(x_test)))\n",
    "\n",
    "print ('Kappa_train：', cohen_kappa_score(y_train, clf.predict(x_train)))\n",
    "print ('Kappa_test：', cohen_kappa_score(y_test, clf.predict(x_test)))\n",
    "\n",
    "print ('confusion_matrix_train：')\n",
    "print ( confusion_matrix(y_train, clf.predict(x_train)))\n",
    "print ('confusion_matrix_test：')\n",
    "print ( confusion_matrix(y_test, clf.predict(x_test)))"
   ]
  },
  {
   "cell_type": "code",
   "execution_count": 77,
   "metadata": {},
   "outputs": [],
   "source": [
    "clf1= SVC(C=2,kernel='rbf',gamma=0.003)"
   ]
  },
  {
   "cell_type": "code",
   "execution_count": 78,
   "metadata": {},
   "outputs": [
    {
     "data": {
      "text/plain": [
       "BaggingClassifier(base_estimator=SVC(C=2, cache_size=200, class_weight=None, coef0=0.0,\n",
       "  decision_function_shape='ovr', degree=3, gamma=0.003, kernel='rbf',\n",
       "  max_iter=-1, probability=False, random_state=None, shrinking=True,\n",
       "  tol=0.001, verbose=False),\n",
       "         bootstrap=True, bootstrap_features=False, max_features=0.6,\n",
       "         max_samples=0.6, n_estimators=10, n_jobs=None, oob_score=False,\n",
       "         random_state=None, verbose=0, warm_start=False)"
      ]
     },
     "execution_count": 78,
     "metadata": {},
     "output_type": "execute_result"
    }
   ],
   "source": [
    "bagging1 = BaggingClassifier(clf1,max_samples=0.6, max_features=0.6)\n",
    "bagging1.fit(xpca_train,ypca_train)"
   ]
  },
  {
   "cell_type": "code",
   "execution_count": 79,
   "metadata": {},
   "outputs": [
    {
     "name": "stdout",
     "output_type": "stream",
     "text": [
      "accuracy_train： 0.948051948051948\n",
      "accuracy_test： 0.8658008658008658\n",
      "Kappa_train： 0.9328067816532061\n",
      "Kappa_test： 0.8212788259958071\n",
      "confusion_matrix_train：\n",
      "[[158   1   1   2   0   0   0]\n",
      " [  0 141   0   0   0   0   0]\n",
      " [  3   2  69   0   0   0   0]\n",
      " [  3   0   0  99   0   0   0]\n",
      " [  0  12   0   0  27   0   0]\n",
      " [  0   1   0   0   0  13   0]\n",
      " [  2   1   0   0   0   0   4]]\n",
      "confusion_matrix_test：\n",
      "[[68  3  5  2  0  0  0]\n",
      " [ 0 59  0  0  0  0  0]\n",
      " [ 2  1 23  0  0  0  0]\n",
      " [ 5  0  0 43  0  0  0]\n",
      " [ 0  9  0  0  2  0  0]\n",
      " [ 0  1  0  0  0  5  0]\n",
      " [ 1  2  0  0  0  0  0]]\n"
     ]
    }
   ],
   "source": [
    "bagging1.fit(xpca_train, ypca_train)\n",
    "print ('accuracy_train：', accuracy_score(ypca_train, bagging1.predict(xpca_train)))\n",
    "print ('accuracy_test：', accuracy_score(ypca_test, bagging1.predict(xpca_test)))\n",
    "\n",
    "print ('Kappa_train：', cohen_kappa_score(ypca_train, bagging1.predict(xpca_train)))\n",
    "print ('Kappa_test：', cohen_kappa_score(ypca_test, bagging1.predict(xpca_test)))\n",
    "\n",
    "print ('confusion_matrix_train：')\n",
    "print ( confusion_matrix(ypca_train, bagging1.predict(xpca_train)))\n",
    "print ('confusion_matrix_test：')\n",
    "print ( confusion_matrix(ypca_test, bagging1.predict(xpca_test)))"
   ]
  },
  {
   "cell_type": "code",
   "execution_count": 80,
   "metadata": {},
   "outputs": [
    {
     "name": "stdout",
     "output_type": "stream",
     "text": [
      "accuracy_train： 1.0\n",
      "accuracy_test： 0.8658008658008658\n",
      "Kappa_train： 1.0\n",
      "Kappa_test： 0.8207957957957959\n",
      "confusion_matrix_train：\n",
      "[[162   0   0   0   0   0   0]\n",
      " [  0 141   0   0   0   0   0]\n",
      " [  0   0  74   0   0   0   0]\n",
      " [  0   0   0 102   0   0   0]\n",
      " [  0   0   0   0  39   0   0]\n",
      " [  0   0   0   0   0  14   0]\n",
      " [  0   0   0   0   0   0   7]]\n",
      "confusion_matrix_test：\n",
      "[[69  6  1  2  0  0  0]\n",
      " [ 0 59  0  0  0  0  0]\n",
      " [ 2  2 22  0  0  0  0]\n",
      " [ 2  3  0 43  0  0  0]\n",
      " [ 0  9  0  0  2  0  0]\n",
      " [ 0  1  0  0  0  5  0]\n",
      " [ 0  3  0  0  0  0  0]]\n"
     ]
    }
   ],
   "source": [
    "clf1.fit(xpca_train, ypca_train)\n",
    "print ('accuracy_train：', accuracy_score(ypca_train, clf1.predict(xpca_train)))\n",
    "print ('accuracy_test：', accuracy_score(ypca_test, clf1.predict(xpca_test)))\n",
    "\n",
    "print ('Kappa_train：', cohen_kappa_score(ypca_train, clf1.predict(xpca_train)))\n",
    "print ('Kappa_test：', cohen_kappa_score(ypca_test, clf1.predict(xpca_test)))\n",
    "\n",
    "print ('confusion_matrix_train：')\n",
    "print ( confusion_matrix(ypca_train, clf1.predict(xpca_train)))\n",
    "print ('confusion_matrix_test：')\n",
    "print ( confusion_matrix(ypca_test, clf1.predict(xpca_test)))"
   ]
  },
  {
   "cell_type": "code",
   "execution_count": 31,
   "metadata": {},
   "outputs": [],
   "source": [
    "SVM= SVC(kernel='rbf')\n",
    "distributions = dict(C=np.logspace(-3,1,50),gamma=np.logspace(-3,2,50))\n",
    "clf = RandomizedSearchCV(SVM, distributions, random_state=50)"
   ]
  },
  {
   "cell_type": "code",
   "execution_count": 32,
   "metadata": {},
   "outputs": [
    {
     "name": "stderr",
     "output_type": "stream",
     "text": [
      "C:\\Users\\user\\Anaconda3\\lib\\site-packages\\sklearn\\model_selection\\_split.py:2053: FutureWarning: You should specify a value for 'cv' instead of relying on the default value. The default value will change from 3 to 5 in version 0.22.\n",
      "  warnings.warn(CV_WARNING, FutureWarning)\n",
      "C:\\Users\\user\\Anaconda3\\lib\\site-packages\\sklearn\\model_selection\\_search.py:841: DeprecationWarning: The default of the `iid` parameter will change from True to False in version 0.22 and will be removed in 0.24. This will change numeric results when test-set sizes are unequal.\n",
      "  DeprecationWarning)\n"
     ]
    },
    {
     "data": {
      "text/plain": [
       "{'gamma': 0.5689866029018299, 'C': 4.714866363457389}"
      ]
     },
     "execution_count": 32,
     "metadata": {},
     "output_type": "execute_result"
    }
   ],
   "source": [
    "search4 = clf.fit(xtsne_train, ytsne_train)\n",
    "search4.best_params_ "
   ]
  },
  {
   "cell_type": "code",
   "execution_count": 33,
   "metadata": {},
   "outputs": [],
   "source": [
    "clf2= SVC(C=4.7,kernel='rbf',gamma=0.57)"
   ]
  },
  {
   "cell_type": "code",
   "execution_count": 34,
   "metadata": {},
   "outputs": [
    {
     "name": "stdout",
     "output_type": "stream",
     "text": [
      "accuracy_train： 0.9758812615955473\n",
      "accuracy_test： 0.948051948051948\n",
      "Kappa_train： 0.968759752824418\n",
      "Kappa_test： 0.9330208282994249\n",
      "confusion_matrix_train：\n",
      "[[161   0   2   1   0   0   0]\n",
      " [  0 146   0   0   0   0   0]\n",
      " [  4   0  64   1   0   0   0]\n",
      " [  5   0   0 102   0   0   0]\n",
      " [  0   0   0   0  34   0   0]\n",
      " [  0   0   0   0   0  12   0]\n",
      " [  0   0   0   0   0   0   7]]\n",
      "confusion_matrix_test：\n",
      "[[72  0  1  2  0  0  1]\n",
      " [ 0 54  0  0  0  0  0]\n",
      " [ 2  0 29  0  0  0  0]\n",
      " [ 5  0  0 38  0  0  0]\n",
      " [ 0  0  0  0 16  0  0]\n",
      " [ 0  0  0  0  0  8  0]\n",
      " [ 1  0  0  0  0  0  2]]\n"
     ]
    }
   ],
   "source": [
    "clf2.fit(xtsne_train, ytsne_train)\n",
    "print ('accuracy_train：', accuracy_score(ytsne_train, clf2.predict(xtsne_train)))\n",
    "print ('accuracy_test：', accuracy_score(ytsne_test, clf2.predict(xtsne_test)))\n",
    "\n",
    "print ('Kappa_train：', cohen_kappa_score(ytsne_train, clf2.predict(xtsne_train)))\n",
    "print ('Kappa_test：', cohen_kappa_score(ytsne_test, clf2.predict(xtsne_test)))\n",
    "\n",
    "print ('confusion_matrix_train：')\n",
    "print ( confusion_matrix(ytsne_train, clf2.predict(xtsne_train)))\n",
    "print ('confusion_matrix_test：')\n",
    "print ( confusion_matrix(ytsne_test, clf2.predict(xtsne_test)))"
   ]
  },
  {
   "cell_type": "code",
   "execution_count": 35,
   "metadata": {},
   "outputs": [],
   "source": [
    "SVM= SVC(kernel='rbf')\n",
    "distributions = dict(C=np.logspace(-3,2,50),gamma=np.logspace(-3,2,50))\n",
    "clf = RandomizedSearchCV(SVM, distributions, random_state=50)"
   ]
  },
  {
   "cell_type": "code",
   "execution_count": 36,
   "metadata": {},
   "outputs": [
    {
     "name": "stderr",
     "output_type": "stream",
     "text": [
      "C:\\Users\\user\\Anaconda3\\lib\\site-packages\\sklearn\\model_selection\\_split.py:2053: FutureWarning: You should specify a value for 'cv' instead of relying on the default value. The default value will change from 3 to 5 in version 0.22.\n",
      "  warnings.warn(CV_WARNING, FutureWarning)\n",
      "C:\\Users\\user\\Anaconda3\\lib\\site-packages\\sklearn\\model_selection\\_search.py:841: DeprecationWarning: The default of the `iid` parameter will change from True to False in version 0.22 and will be removed in 0.24. This will change numeric results when test-set sizes are unequal.\n",
      "  DeprecationWarning)\n"
     ]
    },
    {
     "data": {
      "text/plain": [
       "{'gamma': 24.420530945486497, 'C': 19.306977288832496}"
      ]
     },
     "execution_count": 36,
     "metadata": {},
     "output_type": "execute_result"
    }
   ],
   "source": [
    "search3 = clf.fit(xIca_train, yIca_train)\n",
    "search3.best_params_ "
   ]
  },
  {
   "cell_type": "code",
   "execution_count": 67,
   "metadata": {},
   "outputs": [],
   "source": [
    "clf3= SVC(C=40,kernel='rbf',gamma=24)"
   ]
  },
  {
   "cell_type": "code",
   "execution_count": 68,
   "metadata": {},
   "outputs": [
    {
     "name": "stdout",
     "output_type": "stream",
     "text": [
      "accuracy_train： 0.9332096474953617\n",
      "accuracy_test： 0.9264069264069265\n",
      "Kappa_train： 0.9137423651057549\n",
      "Kappa_test： 0.9048876186785506\n",
      "confusion_matrix_train：\n",
      "[[164   0   5   6   0   0   0]\n",
      " [  0 135   0   0   0   0   0]\n",
      " [ 10   0  57   7   0   0   0]\n",
      " [  0   0   8  91   0   0   0]\n",
      " [  0   0   0   0  34   0   0]\n",
      " [  0   0   0   0   0  14   0]\n",
      " [  0   0   0   0   0   0   8]]\n",
      "confusion_matrix_test：\n",
      "[[60  0  1  4  0  0  0]\n",
      " [ 0 65  0  0  0  0  0]\n",
      " [ 4  0 19  3  0  0  0]\n",
      " [ 1  0  4 46  0  0  0]\n",
      " [ 0  0  0  0 16  0  0]\n",
      " [ 0  0  0  0  0  6  0]\n",
      " [ 0  0  0  0  0  0  2]]\n"
     ]
    }
   ],
   "source": [
    "clf3.fit(xIca_train, yIca_train)\n",
    "print ('accuracy_train：', accuracy_score(yIca_train, clf3.predict(xIca_train)))\n",
    "print ('accuracy_test：', accuracy_score(yIca_test, clf3.predict(xIca_test)))\n",
    "\n",
    "print ('Kappa_train：', cohen_kappa_score(yIca_train, clf3.predict(xIca_train)))\n",
    "print ('Kappa_test：', cohen_kappa_score(yIca_test, clf3.predict(xIca_test)))\n",
    "\n",
    "print ('confusion_matrix_train：')\n",
    "print ( confusion_matrix(yIca_train, clf3.predict(xIca_train)))\n",
    "print ('confusion_matrix_test：')\n",
    "print ( confusion_matrix(yIca_test, clf3.predict(xIca_test)))"
   ]
  },
  {
   "cell_type": "code",
   "execution_count": 39,
   "metadata": {},
   "outputs": [],
   "source": [
    "SVM= SVC(kernel='rbf')\n",
    "distributions = dict(C=np.logspace(-3,2,50),gamma=np.logspace(-3,2,50))\n",
    "clf = RandomizedSearchCV(SVM, distributions, random_state=50)"
   ]
  },
  {
   "cell_type": "code",
   "execution_count": 40,
   "metadata": {},
   "outputs": [
    {
     "name": "stderr",
     "output_type": "stream",
     "text": [
      "C:\\Users\\user\\Anaconda3\\lib\\site-packages\\sklearn\\model_selection\\_split.py:2053: FutureWarning: You should specify a value for 'cv' instead of relying on the default value. The default value will change from 3 to 5 in version 0.22.\n",
      "  warnings.warn(CV_WARNING, FutureWarning)\n",
      "C:\\Users\\user\\Anaconda3\\lib\\site-packages\\sklearn\\model_selection\\_search.py:841: DeprecationWarning: The default of the `iid` parameter will change from True to False in version 0.22 and will be removed in 0.24. This will change numeric results when test-set sizes are unequal.\n",
      "  DeprecationWarning)\n"
     ]
    },
    {
     "data": {
      "text/plain": [
       "{'gamma': 24.420530945486497, 'C': 19.306977288832496}"
      ]
     },
     "execution_count": 40,
     "metadata": {},
     "output_type": "execute_result"
    }
   ],
   "source": [
    "search5 = clf.fit(xlle_train, ylle_train)\n",
    "search5.best_params_ "
   ]
  },
  {
   "cell_type": "code",
   "execution_count": 41,
   "metadata": {},
   "outputs": [],
   "source": [
    "clf4= SVC(C=20,kernel='rbf',gamma=24)"
   ]
  },
  {
   "cell_type": "code",
   "execution_count": 42,
   "metadata": {},
   "outputs": [
    {
     "name": "stdout",
     "output_type": "stream",
     "text": [
      "accuracy_train： 0.922077922077922\n",
      "accuracy_test： 0.8744588744588745\n",
      "Kappa_train： 0.8994353846358875\n",
      "Kappa_test： 0.8358289425315525\n",
      "confusion_matrix_train：\n",
      "[[149   0  14   0   0   0   0]\n",
      " [  0 144   0   0   0   0   0]\n",
      " [ 17   0  50   0   0   0   0]\n",
      " [  5   0   6  97   0   0   0]\n",
      " [  0   0   0   0  38   0   0]\n",
      " [  0   0   0   0   0  12   0]\n",
      " [  0   0   0   0   0   0   7]]\n",
      "confusion_matrix_test：\n",
      "[[69  0  7  1  0  0  0]\n",
      " [ 0 56  0  0  0  0  0]\n",
      " [13  0 20  0  0  0  0]\n",
      " [ 6  0  2 34  0  0  0]\n",
      " [ 0  0  0  0 12  0  0]\n",
      " [ 0  0  0  0  0  8  0]\n",
      " [ 0  0  0  0  0  0  3]]\n"
     ]
    }
   ],
   "source": [
    "clf4.fit(xlle_train, ylle_train)\n",
    "print ('accuracy_train：', accuracy_score(ylle_train, clf4.predict(xlle_train)))\n",
    "print ('accuracy_test：', accuracy_score(ylle_test, clf4.predict(xlle_test)))\n",
    "\n",
    "print ('Kappa_train：', cohen_kappa_score(ylle_train, clf4.predict(xlle_train)))\n",
    "print ('Kappa_test：', cohen_kappa_score(ylle_test, clf4.predict(xlle_test)))\n",
    "\n",
    "print ('confusion_matrix_train：')\n",
    "print ( confusion_matrix(ylle_train, clf4.predict(xlle_train)))\n",
    "print ('confusion_matrix_test：')\n",
    "print ( confusion_matrix(ylle_test, clf4.predict(xlle_test)))"
   ]
  },
  {
   "cell_type": "code",
   "execution_count": 43,
   "metadata": {},
   "outputs": [],
   "source": [
    "from sklearn import tree\n",
    "clf_tree = tree.DecisionTreeClassifier(max_depth=9)"
   ]
  },
  {
   "cell_type": "code",
   "execution_count": 44,
   "metadata": {},
   "outputs": [
    {
     "name": "stdout",
     "output_type": "stream",
     "text": [
      "accuracy_train： 0.9461966604823747\n",
      "accuracy_test： 0.8917748917748918\n",
      "Kappa_train： 0.9297325241627332\n",
      "Kappa_test： 0.8608668417375382\n",
      "confusion_matrix_train：\n",
      "[[174   0   1   0   0   0   0]\n",
      " [  0 136   0   0   0   0   0]\n",
      " [ 12   0  55   0   0   0   0]\n",
      " [ 14   0   2  89   0   0   0]\n",
      " [  0   0   0   0  32   0   0]\n",
      " [  0   0   0   0   0  16   0]\n",
      " [  0   0   0   0   0   0   8]]\n",
      "confusion_matrix_test：\n",
      "[[60  0  1  4  0  0  0]\n",
      " [ 0 60  0  0  4  0  0]\n",
      " [ 6  0 27  0  0  0  0]\n",
      " [ 7  0  2 36  0  0  0]\n",
      " [ 0  0  0  0 18  0  0]\n",
      " [ 0  0  0  0  0  4  0]\n",
      " [ 1  0  0  0  0  0  1]]\n"
     ]
    }
   ],
   "source": [
    "clf_tree.fit(x_train, y_train)\n",
    "print ('accuracy_train：', accuracy_score(y_train, clf_tree.predict(x_train)))\n",
    "print ('accuracy_test：', accuracy_score(y_test, clf_tree.predict(x_test)))\n",
    "\n",
    "print ('Kappa_train：', cohen_kappa_score(y_train, clf_tree.predict(x_train)))\n",
    "print ('Kappa_test：', cohen_kappa_score(y_test, clf_tree.predict(x_test)))\n",
    "\n",
    "print ('confusion_matrix_train：')\n",
    "print ( confusion_matrix(y_train, clf_tree.predict(x_train)))\n",
    "print ('confusion_matrix_test：')\n",
    "print ( confusion_matrix(y_test, clf_tree.predict(x_test)))"
   ]
  },
  {
   "cell_type": "code",
   "execution_count": 45,
   "metadata": {},
   "outputs": [
    {
     "name": "stdout",
     "output_type": "stream",
     "text": [
      "accuracy_train： 0.9795918367346939\n",
      "accuracy_test： 0.9047619047619048\n",
      "Kappa_train： 0.9738960066922027\n",
      "Kappa_test： 0.8762238784158994\n",
      "confusion_matrix_train：\n",
      "[[155   0   7   0   0   0   0]\n",
      " [  0 141   0   0   0   0   0]\n",
      " [  3   0  71   0   0   0   0]\n",
      " [  0   0   1 101   0   0   0]\n",
      " [  0   0   0   0  39   0   0]\n",
      " [  0   0   0   0   0  14   0]\n",
      " [  0   0   0   0   0   0   7]]\n",
      "confusion_matrix_test：\n",
      "[[64  0  9  5  0  0  0]\n",
      " [ 0 59  0  0  0  0  0]\n",
      " [ 2  0 22  2  0  0  0]\n",
      " [ 1  0  0 47  0  0  0]\n",
      " [ 0  0  0  1  9  0  1]\n",
      " [ 0  0  0  0  0  6  0]\n",
      " [ 0  0  0  0  0  1  2]]\n"
     ]
    }
   ],
   "source": [
    "clf_tree.fit(xpca_train, ypca_train)\n",
    "print ('accuracy_train：', accuracy_score(ypca_train, clf_tree.predict(xpca_train)))\n",
    "print ('accuracy_test：', accuracy_score(ypca_test, clf_tree.predict(xpca_test)))\n",
    "\n",
    "print ('Kappa_train：', cohen_kappa_score(ypca_train, clf_tree.predict(xpca_train)))\n",
    "print ('Kappa_test：', cohen_kappa_score(ypca_test, clf_tree.predict(xpca_test)))\n",
    "\n",
    "print ('confusion_matrix_train：')\n",
    "print ( confusion_matrix(ypca_train, clf_tree.predict(xpca_train)))\n",
    "print ('confusion_matrix_test：')\n",
    "print ( confusion_matrix(ypca_test, clf_tree.predict(xpca_test)))"
   ]
  },
  {
   "cell_type": "code",
   "execution_count": 46,
   "metadata": {},
   "outputs": [
    {
     "name": "stdout",
     "output_type": "stream",
     "text": [
      "accuracy_train： 0.9777365491651205\n",
      "accuracy_test： 0.9177489177489178\n",
      "Kappa_train： 0.9713096938458672\n",
      "Kappa_test： 0.8935741998060136\n",
      "confusion_matrix_train：\n",
      "[[168   0   7   0   0   0   0]\n",
      " [  0 134   1   0   0   0   0]\n",
      " [  0   0  74   0   0   0   0]\n",
      " [  4   0   0  95   0   0   0]\n",
      " [  0   0   0   0  34   0   0]\n",
      " [  0   0   0   0   0  14   0]\n",
      " [  0   0   0   0   0   0   8]]\n",
      "confusion_matrix_test：\n",
      "[[60  2  1  1  0  1  0]\n",
      " [ 0 64  0  0  0  0  1]\n",
      " [ 2  0 24  0  0  0  0]\n",
      " [ 8  0  1 42  0  0  0]\n",
      " [ 0  1  0  0 15  0  0]\n",
      " [ 0  1  0  0  0  5  0]\n",
      " [ 0  0  0  0  0  0  2]]\n"
     ]
    }
   ],
   "source": [
    "clf_tree.fit(xIca_train, yIca_train)\n",
    "print ('accuracy_train：', accuracy_score(yIca_train, clf_tree.predict(xIca_train)))\n",
    "print ('accuracy_test：', accuracy_score(yIca_test, clf_tree.predict(xIca_test)))\n",
    "\n",
    "print ('Kappa_train：', cohen_kappa_score(yIca_train, clf_tree.predict(xIca_train)))\n",
    "print ('Kappa_test：', cohen_kappa_score(yIca_test, clf_tree.predict(xIca_test)))\n",
    "\n",
    "print ('confusion_matrix_train：')\n",
    "print ( confusion_matrix(yIca_train, clf_tree.predict(xIca_train)))\n",
    "print ('confusion_matrix_test：')\n",
    "print ( confusion_matrix(yIca_test, clf_tree.predict(xIca_test)))"
   ]
  },
  {
   "cell_type": "code",
   "execution_count": 47,
   "metadata": {},
   "outputs": [
    {
     "name": "stdout",
     "output_type": "stream",
     "text": [
      "accuracy_train： 0.9888682745825603\n",
      "accuracy_test： 0.9047619047619048\n",
      "Kappa_train： 0.9856538287508984\n",
      "Kappa_test： 0.877187046882552\n",
      "confusion_matrix_train：\n",
      "[[160   0   3   0   0   0   0]\n",
      " [  0 144   0   0   0   0   0]\n",
      " [  3   0  64   0   0   0   0]\n",
      " [  0   0   0 108   0   0   0]\n",
      " [  0   0   0   0  38   0   0]\n",
      " [  0   0   0   0   0  12   0]\n",
      " [  0   0   0   0   0   0   7]]\n",
      "confusion_matrix_test：\n",
      "[[64  0  8  4  1  0  0]\n",
      " [ 0 56  0  0  0  0  0]\n",
      " [ 5  0 27  1  0  0  0]\n",
      " [ 1  0  0 41  0  0  0]\n",
      " [ 1  0  0  0 11  0  0]\n",
      " [ 0  0  0  0  0  8  0]\n",
      " [ 1  0  0  0  0  0  2]]\n"
     ]
    }
   ],
   "source": [
    "clf_tree.fit(xlle_train, ylle_train)\n",
    "print ('accuracy_train：', accuracy_score(ylle_train, clf_tree.predict(xlle_train)))\n",
    "print ('accuracy_test：', accuracy_score(ylle_test, clf_tree.predict(xlle_test)))\n",
    "\n",
    "print ('Kappa_train：', cohen_kappa_score(ylle_train, clf_tree.predict(xlle_train)))\n",
    "print ('Kappa_test：', cohen_kappa_score(ylle_test, clf_tree.predict(xlle_test)))\n",
    "\n",
    "print ('confusion_matrix_train：')\n",
    "print ( confusion_matrix(ylle_train, clf_tree.predict(xlle_train)))\n",
    "print ('confusion_matrix_test：')\n",
    "print ( confusion_matrix(ylle_test, clf_tree.predict(xlle_test)))"
   ]
  },
  {
   "cell_type": "code",
   "execution_count": 48,
   "metadata": {},
   "outputs": [
    {
     "name": "stdout",
     "output_type": "stream",
     "text": [
      "accuracy_train： 0.9406307977736549\n",
      "accuracy_test： 0.8571428571428571\n",
      "Kappa_train： 0.9225379944669996\n",
      "Kappa_test： 0.8127487103905674\n",
      "confusion_matrix_train：\n",
      "[[162   0   0   2   0   0   0]\n",
      " [  1 145   0   0   0   0   0]\n",
      " [ 12   0  57   0   0   0   0]\n",
      " [ 16   0   0  91   0   0   0]\n",
      " [  1   0   0   0  33   0   0]\n",
      " [  0   0   0   0   0  12   0]\n",
      " [  0   0   0   0   0   0   7]]\n",
      "confusion_matrix_test：\n",
      "[[71  0  2  3  0  0  0]\n",
      " [ 0 54  0  0  0  0  0]\n",
      " [11  0 20  0  0  0  0]\n",
      " [12  0  0 30  0  1  0]\n",
      " [ 0  0  0  1 15  0  0]\n",
      " [ 0  0  0  0  0  8  0]\n",
      " [ 1  0  0  1  1  0  0]]\n"
     ]
    }
   ],
   "source": [
    "clf_tree.fit(xtsne_train, ytsne_train)\n",
    "print ('accuracy_train：', accuracy_score(ytsne_train, clf_tree.predict(xtsne_train)))\n",
    "print ('accuracy_test：', accuracy_score(ytsne_test, clf_tree.predict(xtsne_test)))\n",
    "\n",
    "print ('Kappa_train：', cohen_kappa_score(ytsne_train, clf_tree.predict(xtsne_train)))\n",
    "print ('Kappa_test：', cohen_kappa_score(ytsne_test, clf_tree.predict(xtsne_test)))\n",
    "\n",
    "print ('confusion_matrix_train：')\n",
    "print ( confusion_matrix(ytsne_train, clf_tree.predict(xtsne_train)))\n",
    "print ('confusion_matrix_test：')\n",
    "print ( confusion_matrix(ytsne_test, clf_tree.predict(xtsne_test)))"
   ]
  },
  {
   "cell_type": "code",
   "execution_count": 49,
   "metadata": {},
   "outputs": [],
   "source": [
    "from sklearn.model_selection import GridSearchCV\n",
    "from sklearn.model_selection import cross_validate\n",
    "from sklearn.ensemble import RandomForestClassifier\n",
    "from sklearn.datasets import make_classification"
   ]
  },
  {
   "cell_type": "code",
   "execution_count": 50,
   "metadata": {},
   "outputs": [],
   "source": [
    "randomforest = RandomForestClassifier(max_depth=8)"
   ]
  },
  {
   "cell_type": "code",
   "execution_count": 51,
   "metadata": {},
   "outputs": [
    {
     "name": "stdout",
     "output_type": "stream",
     "text": [
      "accuracy_train： 0.9758812615955473\n",
      "accuracy_test： 0.9307359307359307\n",
      "Kappa_train： 0.9688594386077187\n",
      "Kappa_test： 0.9108000482683721\n",
      "confusion_matrix_train：\n",
      "[[168   0   6   1   0   0   0]\n",
      " [  0 136   0   0   0   0   0]\n",
      " [  2   0  64   1   0   0   0]\n",
      " [  1   0   2 102   0   0   0]\n",
      " [  0   0   0   0  32   0   0]\n",
      " [  0   0   0   0   0  16   0]\n",
      " [  0   0   0   0   0   0   8]]\n",
      "confusion_matrix_test：\n",
      "[[62  0  2  1  0  0  0]\n",
      " [ 0 64  0  0  0  0  0]\n",
      " [ 2  0 27  4  0  0  0]\n",
      " [ 4  0  2 39  0  0  0]\n",
      " [ 0  0  0  0 18  0  0]\n",
      " [ 0  0  0  0  0  4  0]\n",
      " [ 1  0  0  0  0  0  1]]\n"
     ]
    },
    {
     "name": "stderr",
     "output_type": "stream",
     "text": [
      "C:\\Users\\user\\Anaconda3\\lib\\site-packages\\sklearn\\ensemble\\forest.py:246: FutureWarning: The default value of n_estimators will change from 10 in version 0.20 to 100 in 0.22.\n",
      "  \"10 in version 0.20 to 100 in 0.22.\", FutureWarning)\n"
     ]
    }
   ],
   "source": [
    "randomforest.fit(x_train, y_train)\n",
    "print ('accuracy_train：', accuracy_score(y_train, randomforest.predict(x_train)))\n",
    "print ('accuracy_test：', accuracy_score(y_test, randomforest.predict(x_test)))\n",
    "\n",
    "print ('Kappa_train：', cohen_kappa_score(y_train, randomforest.predict(x_train)))\n",
    "print ('Kappa_test：', cohen_kappa_score(y_test, randomforest.predict(x_test)))\n",
    "\n",
    "print ('confusion_matrix_train：')\n",
    "print ( confusion_matrix(y_train, randomforest.predict(x_train)))\n",
    "print ('confusion_matrix_test：')\n",
    "print ( confusion_matrix(y_test, randomforest.predict(x_test)))"
   ]
  },
  {
   "cell_type": "code",
   "execution_count": 52,
   "metadata": {},
   "outputs": [
    {
     "name": "stdout",
     "output_type": "stream",
     "text": [
      "accuracy_train： 0.9907235621521335\n",
      "accuracy_test： 0.9523809523809523\n",
      "Kappa_train： 0.9881071110208909\n",
      "Kappa_test： 0.9373999162375897\n",
      "confusion_matrix_train：\n",
      "[[161   0   1   0   0   0   0]\n",
      " [  0 141   0   0   0   0   0]\n",
      " [  2   0  70   2   0   0   0]\n",
      " [  0   0   0 102   0   0   0]\n",
      " [  0   0   0   0  39   0   0]\n",
      " [  0   0   0   0   0  14   0]\n",
      " [  0   0   0   0   0   0   7]]\n",
      "confusion_matrix_test：\n",
      "[[74  0  3  1  0  0  0]\n",
      " [ 0 59  0  0  0  0  0]\n",
      " [ 2  0 22  2  0  0  0]\n",
      " [ 2  0  0 46  0  0  0]\n",
      " [ 0  0  0  1 10  0  0]\n",
      " [ 0  0  0  0  0  6  0]\n",
      " [ 0  0  0  0  0  0  3]]\n"
     ]
    }
   ],
   "source": [
    "randomforest.fit(xpca_train, ypca_train)\n",
    "print ('accuracy_train：', accuracy_score(ypca_train, randomforest.predict(xpca_train)))\n",
    "print ('accuracy_test：', accuracy_score(ypca_test, randomforest.predict(xpca_test)))\n",
    "\n",
    "print ('Kappa_train：', cohen_kappa_score(ypca_train, randomforest.predict(xpca_train)))\n",
    "print ('Kappa_test：', cohen_kappa_score(ypca_test, randomforest.predict(xpca_test)))\n",
    "\n",
    "print ('confusion_matrix_train：')\n",
    "print ( confusion_matrix(ypca_train, randomforest.predict(xpca_train)))\n",
    "print ('confusion_matrix_test：')\n",
    "print ( confusion_matrix(ypca_test, randomforest.predict(xpca_test)))"
   ]
  },
  {
   "cell_type": "code",
   "execution_count": 53,
   "metadata": {},
   "outputs": [
    {
     "name": "stdout",
     "output_type": "stream",
     "text": [
      "accuracy_train： 0.9851576994434137\n",
      "accuracy_test： 0.961038961038961\n",
      "Kappa_train： 0.980809883444074\n",
      "Kappa_test： 0.9494836593366541\n",
      "confusion_matrix_train：\n",
      "[[175   0   0   0   0   0   0]\n",
      " [  0 135   0   0   0   0   0]\n",
      " [  1   0  72   1   0   0   0]\n",
      " [  3   0   3  93   0   0   0]\n",
      " [  0   0   0   0  34   0   0]\n",
      " [  0   0   0   0   0  14   0]\n",
      " [  0   0   0   0   0   0   8]]\n",
      "confusion_matrix_test：\n",
      "[[65  0  0  0  0  0  0]\n",
      " [ 0 65  0  0  0  0  0]\n",
      " [ 2  0 23  1  0  0  0]\n",
      " [ 4  0  1 46  0  0  0]\n",
      " [ 1  0  0  0 15  0  0]\n",
      " [ 0  0  0  0  0  6  0]\n",
      " [ 0  0  0  0  0  0  2]]\n"
     ]
    }
   ],
   "source": [
    "randomforest.fit(xIca_train, yIca_train)\n",
    "print ('accuracy_train：', accuracy_score(yIca_train, randomforest.predict(xIca_train)))\n",
    "print ('accuracy_test：', accuracy_score(yIca_test, randomforest.predict(xIca_test)))\n",
    "\n",
    "print ('Kappa_train：', cohen_kappa_score(yIca_train, randomforest.predict(xIca_train)))\n",
    "print ('Kappa_test：', cohen_kappa_score(yIca_test, randomforest.predict(xIca_test)))\n",
    "\n",
    "print ('confusion_matrix_train：')\n",
    "print ( confusion_matrix(yIca_train, randomforest.predict(xIca_train)))\n",
    "print ('confusion_matrix_test：')\n",
    "print ( confusion_matrix(yIca_test, randomforest.predict(xIca_test)))"
   ]
  },
  {
   "cell_type": "code",
   "execution_count": 54,
   "metadata": {},
   "outputs": [
    {
     "name": "stdout",
     "output_type": "stream",
     "text": [
      "accuracy_train： 0.987012987012987\n",
      "accuracy_test： 0.9264069264069265\n",
      "Kappa_train： 0.9832705925127809\n",
      "Kappa_test： 0.9050095546793739\n",
      "confusion_matrix_train：\n",
      "[[158   0   2   3   0   0   0]\n",
      " [  0 144   0   0   0   0   0]\n",
      " [  1   0  66   0   0   0   0]\n",
      " [  0   0   0 108   0   0   0]\n",
      " [  0   0   0   0  38   0   0]\n",
      " [  0   0   0   0   0  12   0]\n",
      " [  1   0   0   0   0   0   6]]\n",
      "confusion_matrix_test：\n",
      "[[68  0  7  2  0  0  0]\n",
      " [ 0 56  0  0  0  0  0]\n",
      " [ 3  0 30  0  0  0  0]\n",
      " [ 4  0  1 37  0  0  0]\n",
      " [ 0  0  0  0 12  0  0]\n",
      " [ 0  0  0  0  0  8  0]\n",
      " [ 0  0  0  0  0  0  3]]\n"
     ]
    }
   ],
   "source": [
    "randomforest.fit(xlle_train, ylle_train)\n",
    "print ('accuracy_train：', accuracy_score(ylle_train, randomforest.predict(xlle_train)))\n",
    "print ('accuracy_test：', accuracy_score(ylle_test, randomforest.predict(xlle_test)))\n",
    "\n",
    "print ('Kappa_train：', cohen_kappa_score(ylle_train, randomforest.predict(xlle_train)))\n",
    "print ('Kappa_test：', cohen_kappa_score(ylle_test, randomforest.predict(xlle_test)))\n",
    "\n",
    "print ('confusion_matrix_train：')\n",
    "print ( confusion_matrix(ylle_train, randomforest.predict(xlle_train)))\n",
    "print ('confusion_matrix_test：')\n",
    "print ( confusion_matrix(ylle_test, randomforest.predict(xlle_test)))"
   ]
  },
  {
   "cell_type": "code",
   "execution_count": 55,
   "metadata": {},
   "outputs": [],
   "source": [
    "from sklearn.datasets import make_classification\n",
    "from sklearn.ensemble import GradientBoostingClassifier\n",
    "GradientBoosting1 = GradientBoostingClassifier(max_depth=2)\n",
    "GradientBoosting2 = GradientBoostingClassifier(random_state=10,max_depth=3,min_samples_split=30,min_samples_leaf=10)"
   ]
  },
  {
   "cell_type": "code",
   "execution_count": 56,
   "metadata": {},
   "outputs": [
    {
     "name": "stdout",
     "output_type": "stream",
     "text": [
      "accuracy_train： 1.0\n",
      "accuracy_test： 0.9264069264069265\n",
      "Kappa_train： 1.0\n",
      "Kappa_test： 0.905048600029015\n",
      "confusion_matrix_train：\n",
      "[[175   0   0   0   0   0   0]\n",
      " [  0 136   0   0   0   0   0]\n",
      " [  0   0  67   0   0   0   0]\n",
      " [  0   0   0 105   0   0   0]\n",
      " [  0   0   0   0  32   0   0]\n",
      " [  0   0   0   0   0  16   0]\n",
      " [  0   0   0   0   0   0   8]]\n",
      "confusion_matrix_test：\n",
      "[[61  0  1  3  0  0  0]\n",
      " [ 0 64  0  0  0  0  0]\n",
      " [ 2  0 29  2  0  0  0]\n",
      " [ 4  0  2 39  0  0  0]\n",
      " [ 0  1  0  0 17  0  0]\n",
      " [ 0  0  0  0  0  4  0]\n",
      " [ 2  0  0  0  0  0  0]]\n"
     ]
    }
   ],
   "source": [
    "GradientBoosting1.fit(x_train, y_train)\n",
    "print ('accuracy_train：', accuracy_score(y_train, GradientBoosting1.predict(x_train)))\n",
    "print ('accuracy_test：', accuracy_score(y_test, GradientBoosting1.predict(x_test)))\n",
    "\n",
    "print ('Kappa_train：', cohen_kappa_score(y_train, GradientBoosting1.predict(x_train)))\n",
    "print ('Kappa_test：', cohen_kappa_score(y_test, GradientBoosting1.predict(x_test)))\n",
    "\n",
    "print ('confusion_matrix_train：')\n",
    "print ( confusion_matrix(y_train, GradientBoosting1.predict(x_train)))\n",
    "print ('confusion_matrix_test：')\n",
    "print ( confusion_matrix(y_test, GradientBoosting1.predict(x_test)))"
   ]
  },
  {
   "cell_type": "code",
   "execution_count": 57,
   "metadata": {},
   "outputs": [
    {
     "name": "stdout",
     "output_type": "stream",
     "text": [
      "accuracy_train： 1.0\n",
      "accuracy_test： 0.961038961038961\n",
      "Kappa_train： 1.0\n",
      "Kappa_test： 0.9488573466827385\n",
      "confusion_matrix_train：\n",
      "[[162   0   0   0   0   0   0]\n",
      " [  0 141   0   0   0   0   0]\n",
      " [  0   0  74   0   0   0   0]\n",
      " [  0   0   0 102   0   0   0]\n",
      " [  0   0   0   0  39   0   0]\n",
      " [  0   0   0   0   0  14   0]\n",
      " [  0   0   0   0   0   0   7]]\n",
      "confusion_matrix_test：\n",
      "[[75  0  2  0  1  0  0]\n",
      " [ 0 59  0  0  0  0  0]\n",
      " [ 0  0 25  1  0  0  0]\n",
      " [ 1  0  0 47  0  0  0]\n",
      " [ 2  0  0  0  7  0  2]\n",
      " [ 0  0  0  0  0  6  0]\n",
      " [ 0  0  0  0  0  0  3]]\n"
     ]
    }
   ],
   "source": [
    "GradientBoosting1.fit(xpca_train, ypca_train)\n",
    "print ('accuracy_train：', accuracy_score(ypca_train, GradientBoosting1.predict(xpca_train)))\n",
    "print ('accuracy_test：', accuracy_score(ypca_test, GradientBoosting1.predict(xpca_test)))\n",
    "\n",
    "print ('Kappa_train：', cohen_kappa_score(ypca_train, GradientBoosting1.predict(xpca_train)))\n",
    "print ('Kappa_test：', cohen_kappa_score(ypca_test, GradientBoosting1.predict(xpca_test)))\n",
    "\n",
    "print ('confusion_matrix_train：')\n",
    "print ( confusion_matrix(ypca_train, GradientBoosting1.predict(xpca_train)))\n",
    "print ('confusion_matrix_test：')\n",
    "print ( confusion_matrix(ypca_test, GradientBoosting1.predict(xpca_test)))"
   ]
  },
  {
   "cell_type": "code",
   "execution_count": 58,
   "metadata": {},
   "outputs": [
    {
     "name": "stdout",
     "output_type": "stream",
     "text": [
      "accuracy_train： 1.0\n",
      "accuracy_test： 0.987012987012987\n",
      "Kappa_train： 1.0\n",
      "Kappa_test： 0.9832044788056519\n",
      "confusion_matrix_train：\n",
      "[[175   0   0   0   0   0   0]\n",
      " [  0 135   0   0   0   0   0]\n",
      " [  0   0  74   0   0   0   0]\n",
      " [  0   0   0  99   0   0   0]\n",
      " [  0   0   0   0  34   0   0]\n",
      " [  0   0   0   0   0  14   0]\n",
      " [  0   0   0   0   0   0   8]]\n",
      "confusion_matrix_test：\n",
      "[[65  0  0  0  0  0  0]\n",
      " [ 0 65  0  0  0  0  0]\n",
      " [ 0  0 26  0  0  0  0]\n",
      " [ 2  0  0 49  0  0  0]\n",
      " [ 0  1  0  0 15  0  0]\n",
      " [ 0  0  0  0  0  6  0]\n",
      " [ 0  0  0  0  0  0  2]]\n"
     ]
    }
   ],
   "source": [
    "GradientBoosting1.fit(xIca_train, yIca_train)\n",
    "print ('accuracy_train：', accuracy_score(yIca_train, GradientBoosting1.predict(xIca_train)))\n",
    "print ('accuracy_test：', accuracy_score(yIca_test, GradientBoosting1.predict(xIca_test)))\n",
    "\n",
    "print ('Kappa_train：', cohen_kappa_score(yIca_train, GradientBoosting1.predict(xIca_train)))\n",
    "print ('Kappa_test：', cohen_kappa_score(yIca_test, GradientBoosting1.predict(xIca_test)))\n",
    "\n",
    "print ('confusion_matrix_train：')\n",
    "print ( confusion_matrix(yIca_train, GradientBoosting1.predict(xIca_train)))\n",
    "print ('confusion_matrix_test：')\n",
    "print ( confusion_matrix(yIca_test, GradientBoosting1.predict(xIca_test)))"
   ]
  },
  {
   "cell_type": "code",
   "execution_count": 59,
   "metadata": {},
   "outputs": [
    {
     "name": "stdout",
     "output_type": "stream",
     "text": [
      "accuracy_train： 1.0\n",
      "accuracy_test： 0.9696969696969697\n",
      "Kappa_train： 1.0\n",
      "Kappa_test： 0.9606396962173215\n",
      "confusion_matrix_train：\n",
      "[[163   0   0   0   0   0   0]\n",
      " [  0 144   0   0   0   0   0]\n",
      " [  0   0  67   0   0   0   0]\n",
      " [  0   0   0 108   0   0   0]\n",
      " [  0   0   0   0  38   0   0]\n",
      " [  0   0   0   0   0  12   0]\n",
      " [  0   0   0   0   0   0   7]]\n",
      "confusion_matrix_test：\n",
      "[[75  0  2  0  0  0  0]\n",
      " [ 0 56  0  0  0  0  0]\n",
      " [ 2  0 31  0  0  0  0]\n",
      " [ 2  0  0 40  0  0  0]\n",
      " [ 0  0  0  0 12  0  0]\n",
      " [ 0  0  0  0  0  8  0]\n",
      " [ 1  0  0  0  0  0  2]]\n"
     ]
    }
   ],
   "source": [
    "GradientBoosting1.fit(xlle_train, ylle_train)\n",
    "print ('accuracy_train：', accuracy_score(ylle_train, GradientBoosting1.predict(xlle_train)))\n",
    "print ('accuracy_test：', accuracy_score(ylle_test, GradientBoosting1.predict(xlle_test)))\n",
    "\n",
    "print ('Kappa_train：', cohen_kappa_score(ylle_train, GradientBoosting1.predict(xlle_train)))\n",
    "print ('Kappa_test：', cohen_kappa_score(ylle_test, GradientBoosting1.predict(xlle_test)))\n",
    "\n",
    "print ('confusion_matrix_train：')\n",
    "print ( confusion_matrix(ylle_train, GradientBoosting1.predict(xlle_train)))\n",
    "print ('confusion_matrix_test：')\n",
    "print ( confusion_matrix(ylle_test, GradientBoosting1.predict(xlle_test)))"
   ]
  },
  {
   "cell_type": "code",
   "execution_count": 60,
   "metadata": {},
   "outputs": [],
   "source": [
    "from sklearn.neural_network import MLPClassifier"
   ]
  },
  {
   "cell_type": "code",
   "execution_count": 61,
   "metadata": {},
   "outputs": [
    {
     "name": "stdout",
     "output_type": "stream",
     "text": [
      "Help on class MLPClassifier in module sklearn.neural_network.multilayer_perceptron:\n",
      "\n",
      "class MLPClassifier(BaseMultilayerPerceptron, sklearn.base.ClassifierMixin)\n",
      " |  MLPClassifier(hidden_layer_sizes=(100,), activation='relu', solver='adam', alpha=0.0001, batch_size='auto', learning_rate='constant', learning_rate_init=0.001, power_t=0.5, max_iter=200, shuffle=True, random_state=None, tol=0.0001, verbose=False, warm_start=False, momentum=0.9, nesterovs_momentum=True, early_stopping=False, validation_fraction=0.1, beta_1=0.9, beta_2=0.999, epsilon=1e-08, n_iter_no_change=10)\n",
      " |  \n",
      " |  Multi-layer Perceptron classifier.\n",
      " |  \n",
      " |  This model optimizes the log-loss function using LBFGS or stochastic\n",
      " |  gradient descent.\n",
      " |  \n",
      " |  .. versionadded:: 0.18\n",
      " |  \n",
      " |  Parameters\n",
      " |  ----------\n",
      " |  hidden_layer_sizes : tuple, length = n_layers - 2, default (100,)\n",
      " |      The ith element represents the number of neurons in the ith\n",
      " |      hidden layer.\n",
      " |  \n",
      " |  activation : {'identity', 'logistic', 'tanh', 'relu'}, default 'relu'\n",
      " |      Activation function for the hidden layer.\n",
      " |  \n",
      " |      - 'identity', no-op activation, useful to implement linear bottleneck,\n",
      " |        returns f(x) = x\n",
      " |  \n",
      " |      - 'logistic', the logistic sigmoid function,\n",
      " |        returns f(x) = 1 / (1 + exp(-x)).\n",
      " |  \n",
      " |      - 'tanh', the hyperbolic tan function,\n",
      " |        returns f(x) = tanh(x).\n",
      " |  \n",
      " |      - 'relu', the rectified linear unit function,\n",
      " |        returns f(x) = max(0, x)\n",
      " |  \n",
      " |  solver : {'lbfgs', 'sgd', 'adam'}, default 'adam'\n",
      " |      The solver for weight optimization.\n",
      " |  \n",
      " |      - 'lbfgs' is an optimizer in the family of quasi-Newton methods.\n",
      " |  \n",
      " |      - 'sgd' refers to stochastic gradient descent.\n",
      " |  \n",
      " |      - 'adam' refers to a stochastic gradient-based optimizer proposed\n",
      " |        by Kingma, Diederik, and Jimmy Ba\n",
      " |  \n",
      " |      Note: The default solver 'adam' works pretty well on relatively\n",
      " |      large datasets (with thousands of training samples or more) in terms of\n",
      " |      both training time and validation score.\n",
      " |      For small datasets, however, 'lbfgs' can converge faster and perform\n",
      " |      better.\n",
      " |  \n",
      " |  alpha : float, optional, default 0.0001\n",
      " |      L2 penalty (regularization term) parameter.\n",
      " |  \n",
      " |  batch_size : int, optional, default 'auto'\n",
      " |      Size of minibatches for stochastic optimizers.\n",
      " |      If the solver is 'lbfgs', the classifier will not use minibatch.\n",
      " |      When set to \"auto\", `batch_size=min(200, n_samples)`\n",
      " |  \n",
      " |  learning_rate : {'constant', 'invscaling', 'adaptive'}, default 'constant'\n",
      " |      Learning rate schedule for weight updates.\n",
      " |  \n",
      " |      - 'constant' is a constant learning rate given by\n",
      " |        'learning_rate_init'.\n",
      " |  \n",
      " |      - 'invscaling' gradually decreases the learning rate at each\n",
      " |        time step 't' using an inverse scaling exponent of 'power_t'.\n",
      " |        effective_learning_rate = learning_rate_init / pow(t, power_t)\n",
      " |  \n",
      " |      - 'adaptive' keeps the learning rate constant to\n",
      " |        'learning_rate_init' as long as training loss keeps decreasing.\n",
      " |        Each time two consecutive epochs fail to decrease training loss by at\n",
      " |        least tol, or fail to increase validation score by at least tol if\n",
      " |        'early_stopping' is on, the current learning rate is divided by 5.\n",
      " |  \n",
      " |      Only used when ``solver='sgd'``.\n",
      " |  \n",
      " |  learning_rate_init : double, optional, default 0.001\n",
      " |      The initial learning rate used. It controls the step-size\n",
      " |      in updating the weights. Only used when solver='sgd' or 'adam'.\n",
      " |  \n",
      " |  power_t : double, optional, default 0.5\n",
      " |      The exponent for inverse scaling learning rate.\n",
      " |      It is used in updating effective learning rate when the learning_rate\n",
      " |      is set to 'invscaling'. Only used when solver='sgd'.\n",
      " |  \n",
      " |  max_iter : int, optional, default 200\n",
      " |      Maximum number of iterations. The solver iterates until convergence\n",
      " |      (determined by 'tol') or this number of iterations. For stochastic\n",
      " |      solvers ('sgd', 'adam'), note that this determines the number of epochs\n",
      " |      (how many times each data point will be used), not the number of\n",
      " |      gradient steps.\n",
      " |  \n",
      " |  shuffle : bool, optional, default True\n",
      " |      Whether to shuffle samples in each iteration. Only used when\n",
      " |      solver='sgd' or 'adam'.\n",
      " |  \n",
      " |  random_state : int, RandomState instance or None, optional, default None\n",
      " |      If int, random_state is the seed used by the random number generator;\n",
      " |      If RandomState instance, random_state is the random number generator;\n",
      " |      If None, the random number generator is the RandomState instance used\n",
      " |      by `np.random`.\n",
      " |  \n",
      " |  tol : float, optional, default 1e-4\n",
      " |      Tolerance for the optimization. When the loss or score is not improving\n",
      " |      by at least ``tol`` for ``n_iter_no_change`` consecutive iterations,\n",
      " |      unless ``learning_rate`` is set to 'adaptive', convergence is\n",
      " |      considered to be reached and training stops.\n",
      " |  \n",
      " |  verbose : bool, optional, default False\n",
      " |      Whether to print progress messages to stdout.\n",
      " |  \n",
      " |  warm_start : bool, optional, default False\n",
      " |      When set to True, reuse the solution of the previous\n",
      " |      call to fit as initialization, otherwise, just erase the\n",
      " |      previous solution. See :term:`the Glossary <warm_start>`.\n",
      " |  \n",
      " |  momentum : float, default 0.9\n",
      " |      Momentum for gradient descent update. Should be between 0 and 1. Only\n",
      " |      used when solver='sgd'.\n",
      " |  \n",
      " |  nesterovs_momentum : boolean, default True\n",
      " |      Whether to use Nesterov's momentum. Only used when solver='sgd' and\n",
      " |      momentum > 0.\n",
      " |  \n",
      " |  early_stopping : bool, default False\n",
      " |      Whether to use early stopping to terminate training when validation\n",
      " |      score is not improving. If set to true, it will automatically set\n",
      " |      aside 10% of training data as validation and terminate training when\n",
      " |      validation score is not improving by at least tol for\n",
      " |      ``n_iter_no_change`` consecutive epochs.\n",
      " |      Only effective when solver='sgd' or 'adam'\n",
      " |  \n",
      " |  validation_fraction : float, optional, default 0.1\n",
      " |      The proportion of training data to set aside as validation set for\n",
      " |      early stopping. Must be between 0 and 1.\n",
      " |      Only used if early_stopping is True\n",
      " |  \n",
      " |  beta_1 : float, optional, default 0.9\n",
      " |      Exponential decay rate for estimates of first moment vector in adam,\n",
      " |      should be in [0, 1). Only used when solver='adam'\n",
      " |  \n",
      " |  beta_2 : float, optional, default 0.999\n",
      " |      Exponential decay rate for estimates of second moment vector in adam,\n",
      " |      should be in [0, 1). Only used when solver='adam'\n",
      " |  \n",
      " |  epsilon : float, optional, default 1e-8\n",
      " |      Value for numerical stability in adam. Only used when solver='adam'\n",
      " |  \n",
      " |  n_iter_no_change : int, optional, default 10\n",
      " |      Maximum number of epochs to not meet ``tol`` improvement.\n",
      " |      Only effective when solver='sgd' or 'adam'\n",
      " |  \n",
      " |      .. versionadded:: 0.20\n",
      " |  \n",
      " |  Attributes\n",
      " |  ----------\n",
      " |  classes_ : array or list of array of shape (n_classes,)\n",
      " |      Class labels for each output.\n",
      " |  \n",
      " |  loss_ : float\n",
      " |      The current loss computed with the loss function.\n",
      " |  \n",
      " |  coefs_ : list, length n_layers - 1\n",
      " |      The ith element in the list represents the weight matrix corresponding\n",
      " |      to layer i.\n",
      " |  \n",
      " |  intercepts_ : list, length n_layers - 1\n",
      " |      The ith element in the list represents the bias vector corresponding to\n",
      " |      layer i + 1.\n",
      " |  \n",
      " |  n_iter_ : int,\n",
      " |      The number of iterations the solver has ran.\n",
      " |  \n",
      " |  n_layers_ : int\n",
      " |      Number of layers.\n",
      " |  \n",
      " |  n_outputs_ : int\n",
      " |      Number of outputs.\n",
      " |  \n",
      " |  out_activation_ : string\n",
      " |      Name of the output activation function.\n",
      " |  \n",
      " |  Notes\n",
      " |  -----\n",
      " |  MLPClassifier trains iteratively since at each time step\n",
      " |  the partial derivatives of the loss function with respect to the model\n",
      " |  parameters are computed to update the parameters.\n",
      " |  \n",
      " |  It can also have a regularization term added to the loss function\n",
      " |  that shrinks model parameters to prevent overfitting.\n",
      " |  \n",
      " |  This implementation works with data represented as dense numpy arrays or\n",
      " |  sparse scipy arrays of floating point values.\n",
      " |  \n",
      " |  References\n",
      " |  ----------\n",
      " |  Hinton, Geoffrey E.\n",
      " |      \"Connectionist learning procedures.\" Artificial intelligence 40.1\n",
      " |      (1989): 185-234.\n",
      " |  \n",
      " |  Glorot, Xavier, and Yoshua Bengio. \"Understanding the difficulty of\n",
      " |      training deep feedforward neural networks.\" International Conference\n",
      " |      on Artificial Intelligence and Statistics. 2010.\n",
      " |  \n",
      " |  He, Kaiming, et al. \"Delving deep into rectifiers: Surpassing human-level\n",
      " |      performance on imagenet classification.\" arXiv preprint\n",
      " |      arXiv:1502.01852 (2015).\n",
      " |  \n",
      " |  Kingma, Diederik, and Jimmy Ba. \"Adam: A method for stochastic\n",
      " |      optimization.\" arXiv preprint arXiv:1412.6980 (2014).\n",
      " |  \n",
      " |  Method resolution order:\n",
      " |      MLPClassifier\n",
      " |      BaseMultilayerPerceptron\n",
      " |      abc.NewBase\n",
      " |      sklearn.base.BaseEstimator\n",
      " |      sklearn.base.ClassifierMixin\n",
      " |      builtins.object\n",
      " |  \n",
      " |  Methods defined here:\n",
      " |  \n",
      " |  __init__(self, hidden_layer_sizes=(100,), activation='relu', solver='adam', alpha=0.0001, batch_size='auto', learning_rate='constant', learning_rate_init=0.001, power_t=0.5, max_iter=200, shuffle=True, random_state=None, tol=0.0001, verbose=False, warm_start=False, momentum=0.9, nesterovs_momentum=True, early_stopping=False, validation_fraction=0.1, beta_1=0.9, beta_2=0.999, epsilon=1e-08, n_iter_no_change=10)\n",
      " |      Initialize self.  See help(type(self)) for accurate signature.\n",
      " |  \n",
      " |  fit(self, X, y)\n",
      " |      Fit the model to data matrix X and target(s) y.\n",
      " |      \n",
      " |      Parameters\n",
      " |      ----------\n",
      " |      X : array-like or sparse matrix, shape (n_samples, n_features)\n",
      " |          The input data.\n",
      " |      \n",
      " |      y : array-like, shape (n_samples,) or (n_samples, n_outputs)\n",
      " |          The target values (class labels in classification, real numbers in\n",
      " |          regression).\n",
      " |      \n",
      " |      Returns\n",
      " |      -------\n",
      " |      self : returns a trained MLP model.\n",
      " |  \n",
      " |  predict(self, X)\n",
      " |      Predict using the multi-layer perceptron classifier\n",
      " |      \n",
      " |      Parameters\n",
      " |      ----------\n",
      " |      X : {array-like, sparse matrix}, shape (n_samples, n_features)\n",
      " |          The input data.\n",
      " |      \n",
      " |      Returns\n",
      " |      -------\n",
      " |      y : array-like, shape (n_samples,) or (n_samples, n_classes)\n",
      " |          The predicted classes.\n",
      " |  \n",
      " |  predict_log_proba(self, X)\n",
      " |      Return the log of probability estimates.\n",
      " |      \n",
      " |      Parameters\n",
      " |      ----------\n",
      " |      X : array-like, shape (n_samples, n_features)\n",
      " |          The input data.\n",
      " |      \n",
      " |      Returns\n",
      " |      -------\n",
      " |      log_y_prob : array-like, shape (n_samples, n_classes)\n",
      " |          The predicted log-probability of the sample for each class\n",
      " |          in the model, where classes are ordered as they are in\n",
      " |          `self.classes_`. Equivalent to log(predict_proba(X))\n",
      " |  \n",
      " |  predict_proba(self, X)\n",
      " |      Probability estimates.\n",
      " |      \n",
      " |      Parameters\n",
      " |      ----------\n",
      " |      X : {array-like, sparse matrix}, shape (n_samples, n_features)\n",
      " |          The input data.\n",
      " |      \n",
      " |      Returns\n",
      " |      -------\n",
      " |      y_prob : array-like, shape (n_samples, n_classes)\n",
      " |          The predicted probability of the sample for each class in the\n",
      " |          model, where classes are ordered as they are in `self.classes_`.\n",
      " |  \n",
      " |  ----------------------------------------------------------------------\n",
      " |  Data descriptors defined here:\n",
      " |  \n",
      " |  partial_fit\n",
      " |      Update the model with a single iteration over the given data.\n",
      " |      \n",
      " |      Parameters\n",
      " |      ----------\n",
      " |      X : {array-like, sparse matrix}, shape (n_samples, n_features)\n",
      " |          The input data.\n",
      " |      \n",
      " |      y : array-like, shape (n_samples,)\n",
      " |          The target values.\n",
      " |      \n",
      " |      classes : array, shape (n_classes), default None\n",
      " |          Classes across all calls to partial_fit.\n",
      " |          Can be obtained via `np.unique(y_all)`, where y_all is the\n",
      " |          target vector of the entire dataset.\n",
      " |          This argument is required for the first call to partial_fit\n",
      " |          and can be omitted in the subsequent calls.\n",
      " |          Note that y doesn't need to contain all labels in `classes`.\n",
      " |      \n",
      " |      Returns\n",
      " |      -------\n",
      " |      self : returns a trained MLP model.\n",
      " |  \n",
      " |  ----------------------------------------------------------------------\n",
      " |  Data and other attributes defined here:\n",
      " |  \n",
      " |  __abstractmethods__ = frozenset()\n",
      " |  \n",
      " |  ----------------------------------------------------------------------\n",
      " |  Methods inherited from sklearn.base.BaseEstimator:\n",
      " |  \n",
      " |  __getstate__(self)\n",
      " |  \n",
      " |  __repr__(self)\n",
      " |      Return repr(self).\n",
      " |  \n",
      " |  __setstate__(self, state)\n",
      " |  \n",
      " |  get_params(self, deep=True)\n",
      " |      Get parameters for this estimator.\n",
      " |      \n",
      " |      Parameters\n",
      " |      ----------\n",
      " |      deep : boolean, optional\n",
      " |          If True, will return the parameters for this estimator and\n",
      " |          contained subobjects that are estimators.\n",
      " |      \n",
      " |      Returns\n",
      " |      -------\n",
      " |      params : mapping of string to any\n",
      " |          Parameter names mapped to their values.\n",
      " |  \n",
      " |  set_params(self, **params)\n",
      " |      Set the parameters of this estimator.\n",
      " |      \n",
      " |      The method works on simple estimators as well as on nested objects\n",
      " |      (such as pipelines). The latter have parameters of the form\n",
      " |      ``<component>__<parameter>`` so that it's possible to update each\n",
      " |      component of a nested object.\n",
      " |      \n",
      " |      Returns\n",
      " |      -------\n",
      " |      self\n",
      " |  \n",
      " |  ----------------------------------------------------------------------\n",
      " |  Data descriptors inherited from sklearn.base.BaseEstimator:\n",
      " |  \n",
      " |  __dict__\n",
      " |      dictionary for instance variables (if defined)\n",
      " |  \n",
      " |  __weakref__\n",
      " |      list of weak references to the object (if defined)\n",
      " |  \n",
      " |  ----------------------------------------------------------------------\n",
      " |  Methods inherited from sklearn.base.ClassifierMixin:\n",
      " |  \n",
      " |  score(self, X, y, sample_weight=None)\n",
      " |      Returns the mean accuracy on the given test data and labels.\n",
      " |      \n",
      " |      In multi-label classification, this is the subset accuracy\n",
      " |      which is a harsh metric since you require for each sample that\n",
      " |      each label set be correctly predicted.\n",
      " |      \n",
      " |      Parameters\n",
      " |      ----------\n",
      " |      X : array-like, shape = (n_samples, n_features)\n",
      " |          Test samples.\n",
      " |      \n",
      " |      y : array-like, shape = (n_samples) or (n_samples, n_outputs)\n",
      " |          True labels for X.\n",
      " |      \n",
      " |      sample_weight : array-like, shape = [n_samples], optional\n",
      " |          Sample weights.\n",
      " |      \n",
      " |      Returns\n",
      " |      -------\n",
      " |      score : float\n",
      " |          Mean accuracy of self.predict(X) wrt. y.\n",
      "\n"
     ]
    }
   ],
   "source": [
    "help(MLPClassifier)"
   ]
  },
  {
   "cell_type": "code",
   "execution_count": 62,
   "metadata": {},
   "outputs": [],
   "source": [
    "MLP=MLPClassifier(random_state=1,activation =\"relu\",solver=\"lbfgs\",max_iter=500,beta_1=0.7,beta_2=0.7,hidden_layer_sizes=(70,))"
   ]
  },
  {
   "cell_type": "code",
   "execution_count": 63,
   "metadata": {},
   "outputs": [
    {
     "name": "stdout",
     "output_type": "stream",
     "text": [
      "accuracy_train： 0.9851576994434137\n",
      "accuracy_test： 0.9826839826839827\n",
      "Kappa_train： 0.9807877383710568\n",
      "Kappa_test： 0.9777638735139818\n",
      "confusion_matrix_train：\n",
      "[[172   0   1   2   0   0   0]\n",
      " [  0 136   0   0   0   0   0]\n",
      " [  0   0  67   0   0   0   0]\n",
      " [  5   0   0 100   0   0   0]\n",
      " [  0   0   0   0  32   0   0]\n",
      " [  0   0   0   0   0  16   0]\n",
      " [  0   0   0   0   0   0   8]]\n",
      "confusion_matrix_test：\n",
      "[[64  0  1  0  0  0  0]\n",
      " [ 0 64  0  0  0  0  0]\n",
      " [ 0  0 33  0  0  0  0]\n",
      " [ 3  0  0 42  0  0  0]\n",
      " [ 0  0  0  0 18  0  0]\n",
      " [ 0  0  0  0  0  4  0]\n",
      " [ 0  0  0  0  0  0  2]]\n"
     ]
    }
   ],
   "source": [
    "MLP.fit(x_train, y_train)\n",
    "print ('accuracy_train：', accuracy_score(y_train, MLP.predict(x_train)))\n",
    "print ('accuracy_test：', accuracy_score(y_test, MLP.predict(x_test)))\n",
    "\n",
    "print ('Kappa_train：', cohen_kappa_score(y_train, MLP.predict(x_train)))\n",
    "print ('Kappa_test：', cohen_kappa_score(y_test, MLP.predict(x_test)))\n",
    "\n",
    "print ('confusion_matrix_train：')\n",
    "print ( confusion_matrix(y_train, MLP.predict(x_train)))\n",
    "print ('confusion_matrix_test：')\n",
    "print ( confusion_matrix(y_test, MLP.predict(x_test)))"
   ]
  },
  {
   "cell_type": "code",
   "execution_count": 64,
   "metadata": {},
   "outputs": [
    {
     "name": "stdout",
     "output_type": "stream",
     "text": [
      "0.9826839826839827\n",
      "3\n",
      "0.06759671597337549\n"
     ]
    }
   ],
   "source": [
    "print (MLP.score(x_test,y_test))\n",
    "print (MLP.n_layers_)\n",
    "print (MLP.loss_)"
   ]
  },
  {
   "cell_type": "code",
   "execution_count": null,
   "metadata": {},
   "outputs": [],
   "source": []
  }
 ],
 "metadata": {
  "kernelspec": {
   "display_name": "Python 3",
   "language": "python",
   "name": "python3"
  },
  "language_info": {
   "codemirror_mode": {
    "name": "ipython",
    "version": 3
   },
   "file_extension": ".py",
   "mimetype": "text/x-python",
   "name": "python",
   "nbconvert_exporter": "python",
   "pygments_lexer": "ipython3",
   "version": "3.7.3"
  }
 },
 "nbformat": 4,
 "nbformat_minor": 2
}
